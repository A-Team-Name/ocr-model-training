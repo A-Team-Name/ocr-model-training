{
 "cells": [
  {
   "cell_type": "code",
   "execution_count": 1,
   "metadata": {},
   "outputs": [
    {
     "name": "stderr",
     "output_type": "stream",
     "text": [
      "c:\\Users\\Leon\\AppData\\Local\\Programs\\Python\\Python310\\lib\\site-packages\\tqdm\\auto.py:21: TqdmWarning: IProgress not found. Please update jupyter and ipywidgets. See https://ipywidgets.readthedocs.io/en/stable/user_install.html\n",
      "  from .autonotebook import tqdm as notebook_tqdm\n"
     ]
    }
   ],
   "source": [
    "from transformers import AutoTokenizer\n"
   ]
  },
  {
   "cell_type": "code",
   "execution_count": 5,
   "metadata": {},
   "outputs": [
    {
     "name": "stdout",
     "output_type": "stream",
     "text": [
      "Added 70 new tokens to the tokenizer!\n"
     ]
    },
    {
     "data": {
      "text/plain": [
       "('./apl_tokeniser\\\\tokenizer_config.json',\n",
       " './apl_tokeniser\\\\special_tokens_map.json',\n",
       " './apl_tokeniser\\\\vocab.json',\n",
       " './apl_tokeniser\\\\merges.txt',\n",
       " './apl_tokeniser\\\\added_tokens.json',\n",
       " './apl_tokeniser\\\\tokenizer.json')"
      ]
     },
     "execution_count": 5,
     "metadata": {},
     "output_type": "execute_result"
    }
   ],
   "source": [
    "\n",
    "# Load an existing tokenizer (e.g., TrOCR)\n",
    "tokeniser: AutoTokenizer = AutoTokenizer.from_pretrained(\n",
    "    \"microsoft/trocr-base-printed\"\n",
    ")\n",
    "\n",
    "# Extend tokenizer with APL characters\n",
    "apl_characters: list[str] = list(\n",
    "    \"∇⋄⍝⍺⍵¨¯×÷←↑→↓∆∊∘∧∨∩∪≠≡≢≤≥⊂⊃⊆⊖⊢⊣⊤⊥⌈⌊⌶⌷⎕⌸⌹⌺⌽⌿⍀⍉⍋⍎⍒⍕⍙⍟⍠⍣⍤⍥⍨⍪⍬⍱⍲⍳⍴⍷⍸○⍬⊇⍛⍢⍫√\"\n",
    ")\n",
    "\n",
    "# Add new tokens to the tokenizer\n",
    "num_added_tokens = tokeniser.add_tokens(apl_characters)\n",
    "\n",
    "print(f\"Added {num_added_tokens} new tokens to the tokenizer!\")\n",
    "\n",
    "# Save the updated tokenizer\n",
    "tokeniser.save_pretrained(\"./apl_tokeniser\")"
   ]
  },
  {
   "cell_type": "code",
   "execution_count": 8,
   "metadata": {},
   "outputs": [
    {
     "data": {
      "text/plain": [
       "'<s>x{∇⋄⍝⍺⍵}</s>'"
      ]
     },
     "execution_count": 8,
     "metadata": {},
     "output_type": "execute_result"
    }
   ],
   "source": [
    "tokeniser.decode(tokeniser.encode(\"x{∇⋄⍝⍺⍵}\"))"
   ]
  }
 ],
 "metadata": {
  "kernelspec": {
   "display_name": "Python 3",
   "language": "python",
   "name": "python3"
  },
  "language_info": {
   "codemirror_mode": {
    "name": "ipython",
    "version": 3
   },
   "file_extension": ".py",
   "mimetype": "text/x-python",
   "name": "python",
   "nbconvert_exporter": "python",
   "pygments_lexer": "ipython3",
   "version": "3.10.10"
  }
 },
 "nbformat": 4,
 "nbformat_minor": 2
}
