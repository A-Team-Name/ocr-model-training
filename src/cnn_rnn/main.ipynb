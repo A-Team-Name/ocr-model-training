{
 "cells": [
  {
   "cell_type": "markdown",
   "metadata": {},
   "source": [
    "# Global Imports"
   ]
  },
  {
   "cell_type": "code",
   "execution_count": 47,
   "metadata": {},
   "outputs": [],
   "source": [
    "\n",
    "import torch\n",
    "import numpy as np\n",
    "import matplotlib.pyplot as plt\n",
    "import os\n",
    "from einops import rearrange\n",
    "from torch.utils.data import DataLoader\n",
    "from torch.optim import AdamW\n",
    "from torch import nn\n",
    "from typing import Any\n",
    "import glob\n",
    "import re\n",
    "from datetime import datetime\n",
    "import random\n",
    "from collections import defaultdict\n",
    "from collections import Counter\n",
    "from torchinfo import summary\n",
    "from torch.nn.utils.rnn import pad_sequence\n",
    "\n",
    "random.seed(42)"
   ]
  },
  {
   "cell_type": "markdown",
   "metadata": {},
   "source": [
    "# Local Imports"
   ]
  },
  {
   "cell_type": "code",
   "execution_count": 2,
   "metadata": {},
   "outputs": [],
   "source": [
    "from training.train import EpochLogs, grid_search, LogPoint\n",
    "from dataset.character_dataset import WordImageDataset\n",
    "from models.allcnn2d import AllCNN2D\n",
    "from models.allcnn2d_rnn import CNNRNNModel"
   ]
  },
  {
   "cell_type": "markdown",
   "metadata": {},
   "source": [
    "# Globals"
   ]
  },
  {
   "cell_type": "code",
   "execution_count": 3,
   "metadata": {},
   "outputs": [],
   "source": [
    "DATASET_SPLIT: float = 0.8\n",
    "MODEL_NAME: str = \"KrudRNN\"\n",
    "LOAD_CHECKPOINT: str = r\"C:\\Users\\LeonB\\Documents\\vs-code\\ocr-model-training\\ocr-model-training\\src\\cnn_rnn\\models\\K_epoch29_trainacc0.93466_valacc0.97159_Tloss0.013132_Vloss0.0056677_lr0.0007224.pkl\""
   ]
  },
  {
   "cell_type": "markdown",
   "metadata": {},
   "source": [
    "# Define Paths\n",
    "Workspace"
   ]
  },
  {
   "cell_type": "code",
   "execution_count": 4,
   "metadata": {},
   "outputs": [],
   "source": [
    "notebook_dir: str = os.path.abspath(\".\")\n",
    "root_dir: str = os.path.join(\n",
    "    notebook_dir,\n",
    "    os.pardir,\n",
    "    os.pardir\n",
    ")\n",
    "\n",
    "data_dir: str = os.path.join(\n",
    "    root_dir,\n",
    "    \"data\",\n",
    "    \"lambda\"\n",
    ")\n",
    "\n",
    "model_save_dirpath: str = os.path.join(\n",
    "    root_dir,\n",
    "    \"models\",\n",
    "    \"allcnn\"\n",
    ")\n"
   ]
  },
  {
   "cell_type": "markdown",
   "metadata": {},
   "source": [
    "Image paths"
   ]
  },
  {
   "cell_type": "code",
   "execution_count": 5,
   "metadata": {},
   "outputs": [
    {
     "data": {
      "text/plain": [
       "195"
      ]
     },
     "execution_count": 5,
     "metadata": {},
     "output_type": "execute_result"
    }
   ],
   "source": [
    "\n",
    "images_path_glob: str = os.path.join(\n",
    "    data_dir,\n",
    "    \"u*.png\"\n",
    ")\n",
    "images_path_regex: str = r\"(u[0-9a-f]+)-([0-9]+)\\.png\"\n",
    "\n",
    "image_paths: list[str] = glob.glob(images_path_glob)\n",
    "random.shuffle(image_paths)\n",
    "\n",
    "len(image_paths)"
   ]
  },
  {
   "cell_type": "markdown",
   "metadata": {},
   "source": [
    "# Helper Functions"
   ]
  },
  {
   "cell_type": "code",
   "execution_count": 6,
   "metadata": {},
   "outputs": [],
   "source": [
    "def get_current_time() -> str:\n",
    "    return datetime.now().strftime(\"%Y-%m-%d-%H-%M-%S\")\n"
   ]
  },
  {
   "cell_type": "markdown",
   "metadata": {},
   "source": [
    "# Logging Setup "
   ]
  },
  {
   "cell_type": "code",
   "execution_count": 7,
   "metadata": {},
   "outputs": [],
   "source": [
    "\n",
    "logging_path: str = f\"{MODEL_NAME}_log_{get_current_time()}.csv\"\n",
    "\n",
    "with open(logging_path, \"w\") as f:\n",
    "    f.write(\"TIME,EPOCH,TRAIN_ACC,VAL_ACC,TRAIN_LOSS,VAL_LOSS,LR\\n\")\n",
    "\n",
    "def log(\n",
    "    epoch: int,\n",
    "    train_acc: float, \n",
    "    train_loss: float, \n",
    "    val_acc: float, \n",
    "    val_loss, \n",
    "    lr: float\n",
    ")-> None:\n",
    "    with open(logging_path, \"a\") as f:\n",
    "        f.write(f\"{get_current_time()},{epoch},{train_acc},{val_acc},{train_loss},{val_loss},{lr}\\n\")"
   ]
  },
  {
   "cell_type": "markdown",
   "metadata": {},
   "source": [
    "# Extract Labels From File Names"
   ]
  },
  {
   "cell_type": "code",
   "execution_count": 10,
   "metadata": {},
   "outputs": [
    {
     "data": {
      "text/plain": [
       "(195, 195)"
      ]
     },
     "execution_count": 10,
     "metadata": {},
     "output_type": "execute_result"
    }
   ],
   "source": [
    "\n",
    "\n",
    "labeled_image_paths: list[tuple[str, str]] = []\n",
    "\n",
    "class_counts: dict[str, int] = defaultdict(lambda: 0)\n",
    "\n",
    "file_path: str\n",
    "for file_path in image_paths:\n",
    "    match = re.search(images_path_regex, file_path)\n",
    "    \n",
    "    if not match:\n",
    "        continue\n",
    "    \n",
    "    u_hexvalue: str = match.group(1)[1:]\n",
    "    \n",
    "    char: str = chr(int(u_hexvalue, base=16))\n",
    "    \n",
    "    \n",
    "    class_counts[char] += 1\n",
    "    \n",
    "    \n",
    "    labeled_image_paths.append((char, file_path))\n",
    "\n",
    "labels: list[str]\n",
    "image_paths: list[str]\n",
    "labels, image_paths =  list(zip(*labeled_image_paths))\n",
    "\n",
    "len(labels), len(image_paths)"
   ]
  },
  {
   "cell_type": "code",
   "execution_count": 11,
   "metadata": {},
   "outputs": [
    {
     "data": {
      "text/plain": [
       "Counter({'u': 5,\n",
       "         '6': 5,\n",
       "         '+': 5,\n",
       "         'w': 5,\n",
       "         'q': 5,\n",
       "         '0': 5,\n",
       "         'd': 5,\n",
       "         'm': 5,\n",
       "         'b': 5,\n",
       "         'y': 5,\n",
       "         '4': 5,\n",
       "         '÷': 5,\n",
       "         'v': 5,\n",
       "         '1': 5,\n",
       "         't': 5,\n",
       "         '5': 5,\n",
       "         'o': 5,\n",
       "         '-': 5,\n",
       "         '8': 5,\n",
       "         'i': 5,\n",
       "         'a': 5,\n",
       "         'c': 5,\n",
       "         'r': 5,\n",
       "         'x': 5,\n",
       "         'n': 5,\n",
       "         'e': 5,\n",
       "         'k': 5,\n",
       "         'g': 5,\n",
       "         'z': 5,\n",
       "         'j': 5,\n",
       "         's': 5,\n",
       "         '7': 5,\n",
       "         'p': 5,\n",
       "         'l': 5,\n",
       "         'h': 5,\n",
       "         '3': 5,\n",
       "         '2': 5,\n",
       "         'f': 5,\n",
       "         '9': 5})"
      ]
     },
     "execution_count": 11,
     "metadata": {},
     "output_type": "execute_result"
    }
   ],
   "source": [
    "Counter(labels)"
   ]
  },
  {
   "cell_type": "markdown",
   "metadata": {},
   "source": [
    "# Balance Classes Using Oversample/Undersample"
   ]
  },
  {
   "cell_type": "code",
   "execution_count": 12,
   "metadata": {},
   "outputs": [],
   "source": [
    "sorted_counts: list[tuple[str, int]] = sorted(\n",
    "    class_counts.items(), \n",
    "    key=lambda x: x[0]\n",
    ")\n",
    "\n",
    "counts: list[int] = [pair[1] for pair in sorted_counts]\n",
    "\n",
    "max_count: int = max(counts)\n",
    "min_count: int = min(counts)\n",
    "\n",
    "to_add_counts: dict[str, int] = {\n",
    "    uid: max_count - count \n",
    "    for uid, count in \n",
    "    sorted_counts\n",
    "}\n",
    "\n",
    "to_undersample_counts: dict[str, int] = {\n",
    "    uid: min_count\n",
    "    for uid, count in \n",
    "    sorted_counts\n",
    "}\n",
    "\n",
    "total_items = sum(x[1] for x in sorted_counts)\n"
   ]
  },
  {
   "cell_type": "code",
   "execution_count": 13,
   "metadata": {},
   "outputs": [
    {
     "data": {
      "text/plain": [
       "(5, 5, 195)"
      ]
     },
     "execution_count": 13,
     "metadata": {},
     "output_type": "execute_result"
    }
   ],
   "source": [
    "min_count, max_count, total_items"
   ]
  },
  {
   "cell_type": "code",
   "execution_count": 12,
   "metadata": {},
   "outputs": [],
   "source": [
    "#print(*to_add_counts.items())\n",
    "#print(sorted([(chr(int(pair[0][1:], 16)), pair[1]) for pair in to_remove_counts.items()], key=lambda x: x[1]))"
   ]
  },
  {
   "cell_type": "markdown",
   "metadata": {},
   "source": [
    "# Oversample"
   ]
  },
  {
   "cell_type": "code",
   "execution_count": 13,
   "metadata": {},
   "outputs": [],
   "source": [
    "#to_add_labels: list[str] = []\n",
    "#to_add_file_paths: list[str] = []\n",
    "#\n",
    "#while True in [to_add_count>0 for to_add_count in to_add_counts.values()]:  \n",
    "#    for label, image_path in zip(labels, image_paths):\n",
    "#        remaining: int = to_add_counts[label]\n",
    "#        \n",
    "#        if remaining > 0:\n",
    "#            to_add_labels.append(label)\n",
    "#            to_add_file_paths.append(image_path)\n",
    "#            to_add_counts[label] -= 1"
   ]
  },
  {
   "cell_type": "markdown",
   "metadata": {},
   "source": [
    "# Undersample"
   ]
  },
  {
   "cell_type": "code",
   "execution_count": 14,
   "metadata": {},
   "outputs": [],
   "source": [
    "to_keep_labels: list[str] = []\n",
    "to_keep_file_paths: list[str] = []\n",
    "\n",
    "while True in [to_add_count>0 for to_add_count in to_undersample_counts.values()]:  \n",
    "    for label, image_path in zip(labels, image_paths):\n",
    "        remaining: int = to_undersample_counts[label]\n",
    "        \n",
    "        if remaining > 0:\n",
    "            to_keep_labels.append(label)\n",
    "            to_keep_file_paths.append(image_path)\n",
    "            to_undersample_counts[label] -= 1"
   ]
  },
  {
   "cell_type": "code",
   "execution_count": 15,
   "metadata": {},
   "outputs": [
    {
     "data": {
      "text/plain": [
       "['u',\n",
       " '6',\n",
       " '+',\n",
       " 'w',\n",
       " 'q',\n",
       " '0',\n",
       " 'd',\n",
       " '0',\n",
       " 'm',\n",
       " 'b',\n",
       " '+',\n",
       " 'y',\n",
       " '4',\n",
       " '÷',\n",
       " 'v',\n",
       " '1',\n",
       " 't',\n",
       " '5',\n",
       " 'o',\n",
       " '6',\n",
       " '-',\n",
       " '8',\n",
       " 'i',\n",
       " 'd',\n",
       " 'a',\n",
       " 'c',\n",
       " '5',\n",
       " 'm',\n",
       " 'r',\n",
       " 'x',\n",
       " 't',\n",
       " 'b',\n",
       " 'n',\n",
       " 'r',\n",
       " '4',\n",
       " '8',\n",
       " '÷',\n",
       " 'q',\n",
       " '0',\n",
       " 'a',\n",
       " 'e',\n",
       " 'n',\n",
       " 'w',\n",
       " 'i',\n",
       " '÷',\n",
       " 'k',\n",
       " 'v',\n",
       " 'i',\n",
       " 'g',\n",
       " 'a',\n",
       " '+',\n",
       " 'z',\n",
       " '1',\n",
       " 'd',\n",
       " 'o',\n",
       " 'j',\n",
       " 'z',\n",
       " 's',\n",
       " 'q',\n",
       " '5',\n",
       " 'j',\n",
       " '6',\n",
       " 'm',\n",
       " 'k',\n",
       " '1',\n",
       " '0',\n",
       " 'z',\n",
       " 'r',\n",
       " 't',\n",
       " 'b',\n",
       " 'e',\n",
       " 'i',\n",
       " '7',\n",
       " 'g',\n",
       " '8',\n",
       " 'p',\n",
       " 'j',\n",
       " 'k',\n",
       " 'i',\n",
       " 'k',\n",
       " 'p',\n",
       " '4',\n",
       " '1',\n",
       " 'p',\n",
       " 'l',\n",
       " 'w',\n",
       " 'a',\n",
       " 'e',\n",
       " 'y',\n",
       " 'h',\n",
       " 'c',\n",
       " '3',\n",
       " 'y',\n",
       " 'v',\n",
       " '8',\n",
       " 'u',\n",
       " '+',\n",
       " '3',\n",
       " 'x',\n",
       " 'h',\n",
       " 'h',\n",
       " 'n',\n",
       " 'm',\n",
       " '÷',\n",
       " 'o',\n",
       " 'v',\n",
       " 'l',\n",
       " 'm',\n",
       " '7',\n",
       " 'o',\n",
       " 'o',\n",
       " 'r',\n",
       " 'n',\n",
       " 'b',\n",
       " '2',\n",
       " 'e',\n",
       " 'd',\n",
       " '-',\n",
       " 'e',\n",
       " 'u',\n",
       " 'l',\n",
       " 'f',\n",
       " '4',\n",
       " 'f',\n",
       " 't',\n",
       " '7',\n",
       " '7',\n",
       " '6',\n",
       " 'g',\n",
       " 'l',\n",
       " 't',\n",
       " 's',\n",
       " '3',\n",
       " 'x',\n",
       " 'w',\n",
       " 'c',\n",
       " '9',\n",
       " 'r',\n",
       " '1',\n",
       " '7',\n",
       " 'g',\n",
       " 'd',\n",
       " 'q',\n",
       " '2',\n",
       " 'h',\n",
       " '4',\n",
       " 'p',\n",
       " 'l',\n",
       " '0',\n",
       " 'b',\n",
       " 'f',\n",
       " 'g',\n",
       " '2',\n",
       " 'h',\n",
       " 'x',\n",
       " 'z',\n",
       " 'f',\n",
       " 'x',\n",
       " '5',\n",
       " 'u',\n",
       " 'f',\n",
       " 'y',\n",
       " '6',\n",
       " '+',\n",
       " 'c',\n",
       " 's',\n",
       " 'k',\n",
       " '9',\n",
       " 'j',\n",
       " 'y',\n",
       " 'v',\n",
       " '8',\n",
       " 'q',\n",
       " '÷',\n",
       " 's',\n",
       " 'n',\n",
       " '9',\n",
       " '9',\n",
       " '2',\n",
       " '-',\n",
       " '-',\n",
       " 'j',\n",
       " 's',\n",
       " '2',\n",
       " 'p',\n",
       " 'w',\n",
       " '3',\n",
       " '5',\n",
       " '9',\n",
       " 'a',\n",
       " 'c',\n",
       " 'z',\n",
       " '-',\n",
       " '3',\n",
       " 'u']"
      ]
     },
     "execution_count": 15,
     "metadata": {},
     "output_type": "execute_result"
    }
   ],
   "source": [
    "to_keep_labels"
   ]
  },
  {
   "cell_type": "code",
   "execution_count": 16,
   "metadata": {},
   "outputs": [
    {
     "data": {
      "text/plain": [
       "Counter({'u': 5,\n",
       "         '6': 5,\n",
       "         '+': 5,\n",
       "         'w': 5,\n",
       "         'q': 5,\n",
       "         '0': 5,\n",
       "         'd': 5,\n",
       "         'm': 5,\n",
       "         'b': 5,\n",
       "         'y': 5,\n",
       "         '4': 5,\n",
       "         '÷': 5,\n",
       "         'v': 5,\n",
       "         '1': 5,\n",
       "         't': 5,\n",
       "         '5': 5,\n",
       "         'o': 5,\n",
       "         '-': 5,\n",
       "         '8': 5,\n",
       "         'i': 5,\n",
       "         'a': 5,\n",
       "         'c': 5,\n",
       "         'r': 5,\n",
       "         'x': 5,\n",
       "         'n': 5,\n",
       "         'e': 5,\n",
       "         'k': 5,\n",
       "         'g': 5,\n",
       "         'z': 5,\n",
       "         'j': 5,\n",
       "         's': 5,\n",
       "         '7': 5,\n",
       "         'p': 5,\n",
       "         'l': 5,\n",
       "         'h': 5,\n",
       "         '3': 5,\n",
       "         '2': 5,\n",
       "         'f': 5,\n",
       "         '9': 5})"
      ]
     },
     "execution_count": 16,
     "metadata": {},
     "output_type": "execute_result"
    }
   ],
   "source": [
    "\n",
    "Counter(to_keep_labels)"
   ]
  },
  {
   "cell_type": "markdown",
   "metadata": {},
   "source": [
    "# Load Dataset"
   ]
  },
  {
   "cell_type": "code",
   "execution_count": 17,
   "metadata": {},
   "outputs": [
    {
     "data": {
      "text/plain": [
       "(195, 195)"
      ]
     },
     "execution_count": 17,
     "metadata": {},
     "output_type": "execute_result"
    }
   ],
   "source": [
    "image_paths = to_keep_file_paths\n",
    "labels = to_keep_labels\n",
    "len(image_paths), len(labels)"
   ]
  },
  {
   "cell_type": "code",
   "execution_count": 27,
   "metadata": {},
   "outputs": [],
   "source": [
    "import numpy as np\n",
    "from sklearn.model_selection import train_test_split\n",
    "\n",
    "def stratified_split(file_paths, labels, test_size=0.15, val_size=0.15, min_samples=1, random_state=42):\n",
    "    \"\"\"\n",
    "    Stratified split with minimum samples per class in all splits\n",
    "    \n",
    "    Args:\n",
    "        file_paths: List of lists of paths - [[class1_paths], [class2_paths], ...]\n",
    "        labels: List of class labels corresponding to file_paths\n",
    "        test_size: Proportion for test split\n",
    "        val_size: Proportion for validation split (relative to remaining after test)\n",
    "        min_samples: Minimum samples per class in each split (default=1)\n",
    "    \"\"\"\n",
    "    # Flatten structure and create label array\n",
    "    \n",
    "    # Convert to numpy arrays\n",
    "    X = np.array(file_paths)\n",
    "    y = np.array(labels)\n",
    "    unique_classes = np.unique(y)\n",
    "    \n",
    "    # First split: test with min samples per class\n",
    "    test_indices = []\n",
    "    for cls in unique_classes:\n",
    "        cls_indices = np.where(y == cls)[0]\n",
    "        n_test = max(min_samples, int(test_size * len(cls_indices)))\n",
    "        test_indices.extend(np.random.choice(cls_indices, n_test, replace=False))\n",
    "    \n",
    "    # Remaining indices for train/val\n",
    "    remaining_mask = ~np.isin(np.arange(len(X)), test_indices)\n",
    "    X_remaining, y_remaining = X[remaining_mask], y[remaining_mask]\n",
    "    \n",
    "    # Second split: validation from remaining\n",
    "    val_indices = []\n",
    "    for cls in unique_classes:\n",
    "        cls_indices = np.where(y_remaining == cls)[0]\n",
    "        n_val = max(min_samples, int(val_size * len(cls_indices)))\n",
    "        val_indices.extend(np.random.choice(cls_indices, n_val, replace=False))\n",
    "    \n",
    "    # Final indices\n",
    "    train_mask = ~np.isin(np.arange(len(X_remaining)), val_indices)\n",
    "    return (\n",
    "        X_remaining[train_mask].tolist(), y_remaining[train_mask].tolist(),  # Train\n",
    "        X_remaining[val_indices].tolist(), y_remaining[val_indices].tolist(),  # Val\n",
    "        X[test_indices].tolist(), y[test_indices].tolist()  # Test\n",
    "    )\n",
    "\n"
   ]
  },
  {
   "cell_type": "code",
   "execution_count": 28,
   "metadata": {},
   "outputs": [
    {
     "name": "stdout",
     "output_type": "stream",
     "text": [
      "Train (117): ['c:\\\\Users\\\\LeonB\\\\Documents\\\\vs-code\\\\ocr-model-training\\\\ocr-model-training\\\\src\\\\cnn_rnn\\\\..\\\\..\\\\data\\\\lambda\\\\u36-1737714493041.png', 'c:\\\\Users\\\\LeonB\\\\Documents\\\\vs-code\\\\ocr-model-training\\\\ocr-model-training\\\\src\\\\cnn_rnn\\\\..\\\\..\\\\data\\\\lambda\\\\u71-1737713956441.png', 'c:\\\\Users\\\\LeonB\\\\Documents\\\\vs-code\\\\ocr-model-training\\\\ocr-model-training\\\\src\\\\cnn_rnn\\\\..\\\\..\\\\data\\\\lambda\\\\u30-1737714365700.png', 'c:\\\\Users\\\\LeonB\\\\Documents\\\\vs-code\\\\ocr-model-training\\\\ocr-model-training\\\\src\\\\cnn_rnn\\\\..\\\\..\\\\data\\\\lambda\\\\u30-1737714649561.png', 'c:\\\\Users\\\\LeonB\\\\Documents\\\\vs-code\\\\ocr-model-training\\\\ocr-model-training\\\\src\\\\cnn_rnn\\\\..\\\\..\\\\data\\\\lambda\\\\u6d-1737714129982.png', 'c:\\\\Users\\\\LeonB\\\\Documents\\\\vs-code\\\\ocr-model-training\\\\ocr-model-training\\\\src\\\\cnn_rnn\\\\..\\\\..\\\\data\\\\lambda\\\\u62-1737715316347.png', 'c:\\\\Users\\\\LeonB\\\\Documents\\\\vs-code\\\\ocr-model-training\\\\ocr-model-training\\\\src\\\\cnn_rnn\\\\..\\\\..\\\\data\\\\lambda\\\\u2b-1737714668189.png', 'c:\\\\Users\\\\LeonB\\\\Documents\\\\vs-code\\\\ocr-model-training\\\\ocr-model-training\\\\src\\\\cnn_rnn\\\\..\\\\..\\\\data\\\\lambda\\\\u34-1737713990157.png', 'c:\\\\Users\\\\LeonB\\\\Documents\\\\vs-code\\\\ocr-model-training\\\\ocr-model-training\\\\src\\\\cnn_rnn\\\\..\\\\..\\\\data\\\\lambda\\\\uf7-1737715387753.png', 'c:\\\\Users\\\\LeonB\\\\Documents\\\\vs-code\\\\ocr-model-training\\\\ocr-model-training\\\\src\\\\cnn_rnn\\\\..\\\\..\\\\data\\\\lambda\\\\u76-1737714354804.png', 'c:\\\\Users\\\\LeonB\\\\Documents\\\\vs-code\\\\ocr-model-training\\\\ocr-model-training\\\\src\\\\cnn_rnn\\\\..\\\\..\\\\data\\\\lambda\\\\u31-1737713985010.png', 'c:\\\\Users\\\\LeonB\\\\Documents\\\\vs-code\\\\ocr-model-training\\\\ocr-model-training\\\\src\\\\cnn_rnn\\\\..\\\\..\\\\data\\\\lambda\\\\u74-1737714351719.png', 'c:\\\\Users\\\\LeonB\\\\Documents\\\\vs-code\\\\ocr-model-training\\\\ocr-model-training\\\\src\\\\cnn_rnn\\\\..\\\\..\\\\data\\\\lambda\\\\u35-1737714190130.png', 'c:\\\\Users\\\\LeonB\\\\Documents\\\\vs-code\\\\ocr-model-training\\\\ocr-model-training\\\\src\\\\cnn_rnn\\\\..\\\\..\\\\data\\\\lambda\\\\u6f-1737714238599.png', 'c:\\\\Users\\\\LeonB\\\\Documents\\\\vs-code\\\\ocr-model-training\\\\ocr-model-training\\\\src\\\\cnn_rnn\\\\..\\\\..\\\\data\\\\lambda\\\\u36-1737715376964.png', 'c:\\\\Users\\\\LeonB\\\\Documents\\\\vs-code\\\\ocr-model-training\\\\ocr-model-training\\\\src\\\\cnn_rnn\\\\..\\\\..\\\\data\\\\lambda\\\\u2d-1737714012479.png', 'c:\\\\Users\\\\LeonB\\\\Documents\\\\vs-code\\\\ocr-model-training\\\\ocr-model-training\\\\src\\\\cnn_rnn\\\\..\\\\..\\\\data\\\\lambda\\\\u38-1737714663887.png', 'c:\\\\Users\\\\LeonB\\\\Documents\\\\vs-code\\\\ocr-model-training\\\\ocr-model-training\\\\src\\\\cnn_rnn\\\\..\\\\..\\\\data\\\\lambda\\\\u69-1737714227061.png', 'c:\\\\Users\\\\LeonB\\\\Documents\\\\vs-code\\\\ocr-model-training\\\\ocr-model-training\\\\src\\\\cnn_rnn\\\\..\\\\..\\\\data\\\\lambda\\\\u64-1737715319151.png', 'c:\\\\Users\\\\LeonB\\\\Documents\\\\vs-code\\\\ocr-model-training\\\\ocr-model-training\\\\src\\\\cnn_rnn\\\\..\\\\..\\\\data\\\\lambda\\\\u61-1737715314864.png', 'c:\\\\Users\\\\LeonB\\\\Documents\\\\vs-code\\\\ocr-model-training\\\\ocr-model-training\\\\src\\\\cnn_rnn\\\\..\\\\..\\\\data\\\\lambda\\\\u63-1737714529219.png', 'c:\\\\Users\\\\LeonB\\\\Documents\\\\vs-code\\\\ocr-model-training\\\\ocr-model-training\\\\src\\\\cnn_rnn\\\\..\\\\..\\\\data\\\\lambda\\\\u6d-1737715343855.png', 'c:\\\\Users\\\\LeonB\\\\Documents\\\\vs-code\\\\ocr-model-training\\\\ocr-model-training\\\\src\\\\cnn_rnn\\\\..\\\\..\\\\data\\\\lambda\\\\u72-1737714348148.png', 'c:\\\\Users\\\\LeonB\\\\Documents\\\\vs-code\\\\ocr-model-training\\\\ocr-model-training\\\\src\\\\cnn_rnn\\\\..\\\\..\\\\data\\\\lambda\\\\u78-1737713973122.png', 'c:\\\\Users\\\\LeonB\\\\Documents\\\\vs-code\\\\ocr-model-training\\\\ocr-model-training\\\\src\\\\cnn_rnn\\\\..\\\\..\\\\data\\\\lambda\\\\u62-1737714019651.png', 'c:\\\\Users\\\\LeonB\\\\Documents\\\\vs-code\\\\ocr-model-training\\\\ocr-model-training\\\\src\\\\cnn_rnn\\\\..\\\\..\\\\data\\\\lambda\\\\u6e-1737713951774.png', 'c:\\\\Users\\\\LeonB\\\\Documents\\\\vs-code\\\\ocr-model-training\\\\ocr-model-training\\\\src\\\\cnn_rnn\\\\..\\\\..\\\\data\\\\lambda\\\\u71-1737714346654.png', 'c:\\\\Users\\\\LeonB\\\\Documents\\\\vs-code\\\\ocr-model-training\\\\ocr-model-training\\\\src\\\\cnn_rnn\\\\..\\\\..\\\\data\\\\lambda\\\\u65-1737715322117.png', 'c:\\\\Users\\\\LeonB\\\\Documents\\\\vs-code\\\\ocr-model-training\\\\ocr-model-training\\\\src\\\\cnn_rnn\\\\..\\\\..\\\\data\\\\lambda\\\\u77-1737713966586.png', 'c:\\\\Users\\\\LeonB\\\\Documents\\\\vs-code\\\\ocr-model-training\\\\ocr-model-training\\\\src\\\\cnn_rnn\\\\..\\\\..\\\\data\\\\lambda\\\\u6b-1737714232486.png', 'c:\\\\Users\\\\LeonB\\\\Documents\\\\vs-code\\\\ocr-model-training\\\\ocr-model-training\\\\src\\\\cnn_rnn\\\\..\\\\..\\\\data\\\\lambda\\\\u69-1737713943675.png', 'c:\\\\Users\\\\LeonB\\\\Documents\\\\vs-code\\\\ocr-model-training\\\\ocr-model-training\\\\src\\\\cnn_rnn\\\\..\\\\..\\\\data\\\\lambda\\\\u2b-1737714011185.png', 'c:\\\\Users\\\\LeonB\\\\Documents\\\\vs-code\\\\ocr-model-training\\\\ocr-model-training\\\\src\\\\cnn_rnn\\\\..\\\\..\\\\data\\\\lambda\\\\u31-1737714182571.png', 'c:\\\\Users\\\\LeonB\\\\Documents\\\\vs-code\\\\ocr-model-training\\\\ocr-model-training\\\\src\\\\cnn_rnn\\\\..\\\\..\\\\data\\\\lambda\\\\u64-1737714087554.png', 'c:\\\\Users\\\\LeonB\\\\Documents\\\\vs-code\\\\ocr-model-training\\\\ocr-model-training\\\\src\\\\cnn_rnn\\\\..\\\\..\\\\data\\\\lambda\\\\u6f-1737714133224.png', 'c:\\\\Users\\\\LeonB\\\\Documents\\\\vs-code\\\\ocr-model-training\\\\ocr-model-training\\\\src\\\\cnn_rnn\\\\..\\\\..\\\\data\\\\lambda\\\\u6a-1737715330844.png', 'c:\\\\Users\\\\LeonB\\\\Documents\\\\vs-code\\\\ocr-model-training\\\\ocr-model-training\\\\src\\\\cnn_rnn\\\\..\\\\..\\\\data\\\\lambda\\\\u73-1737714349897.png', 'c:\\\\Users\\\\LeonB\\\\Documents\\\\vs-code\\\\ocr-model-training\\\\ocr-model-training\\\\src\\\\cnn_rnn\\\\..\\\\..\\\\data\\\\lambda\\\\u71-1737715350109.png', 'c:\\\\Users\\\\LeonB\\\\Documents\\\\vs-code\\\\ocr-model-training\\\\ocr-model-training\\\\src\\\\cnn_rnn\\\\..\\\\..\\\\data\\\\lambda\\\\u6a-1737713945403.png', 'c:\\\\Users\\\\LeonB\\\\Documents\\\\vs-code\\\\ocr-model-training\\\\ocr-model-training\\\\src\\\\cnn_rnn\\\\..\\\\..\\\\data\\\\lambda\\\\u6b-1737713947199.png', 'c:\\\\Users\\\\LeonB\\\\Documents\\\\vs-code\\\\ocr-model-training\\\\ocr-model-training\\\\src\\\\cnn_rnn\\\\..\\\\..\\\\data\\\\lambda\\\\u7a-1737713980516.png', 'c:\\\\Users\\\\LeonB\\\\Documents\\\\vs-code\\\\ocr-model-training\\\\ocr-model-training\\\\src\\\\cnn_rnn\\\\..\\\\..\\\\data\\\\lambda\\\\u72-1737714158018.png', 'c:\\\\Users\\\\LeonB\\\\Documents\\\\vs-code\\\\ocr-model-training\\\\ocr-model-training\\\\src\\\\cnn_rnn\\\\..\\\\..\\\\data\\\\lambda\\\\u74-1737714161728.png', 'c:\\\\Users\\\\LeonB\\\\Documents\\\\vs-code\\\\ocr-model-training\\\\ocr-model-training\\\\src\\\\cnn_rnn\\\\..\\\\..\\\\data\\\\lambda\\\\u62-1737713931937.png', 'c:\\\\Users\\\\LeonB\\\\Documents\\\\vs-code\\\\ocr-model-training\\\\ocr-model-training\\\\src\\\\cnn_rnn\\\\..\\\\..\\\\data\\\\lambda\\\\u37-1737714193645.png', 'c:\\\\Users\\\\LeonB\\\\Documents\\\\vs-code\\\\ocr-model-training\\\\ocr-model-training\\\\src\\\\cnn_rnn\\\\..\\\\..\\\\data\\\\lambda\\\\u70-1737713954646.png', 'c:\\\\Users\\\\LeonB\\\\Documents\\\\vs-code\\\\ocr-model-training\\\\ocr-model-training\\\\src\\\\cnn_rnn\\\\..\\\\..\\\\data\\\\lambda\\\\u69-1737715329077.png', 'c:\\\\Users\\\\LeonB\\\\Documents\\\\vs-code\\\\ocr-model-training\\\\ocr-model-training\\\\src\\\\cnn_rnn\\\\..\\\\..\\\\data\\\\lambda\\\\u6b-1737714125902.png', 'c:\\\\Users\\\\LeonB\\\\Documents\\\\vs-code\\\\ocr-model-training\\\\ocr-model-training\\\\src\\\\cnn_rnn\\\\..\\\\..\\\\data\\\\lambda\\\\u34-1737714657375.png', 'c:\\\\Users\\\\LeonB\\\\Documents\\\\vs-code\\\\ocr-model-training\\\\ocr-model-training\\\\src\\\\cnn_rnn\\\\..\\\\..\\\\data\\\\lambda\\\\u31-1737714651940.png', 'c:\\\\Users\\\\LeonB\\\\Documents\\\\vs-code\\\\ocr-model-training\\\\ocr-model-training\\\\src\\\\cnn_rnn\\\\..\\\\..\\\\data\\\\lambda\\\\u70-1737714134973.png', 'c:\\\\Users\\\\LeonB\\\\Documents\\\\vs-code\\\\ocr-model-training\\\\ocr-model-training\\\\src\\\\cnn_rnn\\\\..\\\\..\\\\data\\\\lambda\\\\u6c-1737714551592.png', 'c:\\\\Users\\\\LeonB\\\\Documents\\\\vs-code\\\\ocr-model-training\\\\ocr-model-training\\\\src\\\\cnn_rnn\\\\..\\\\..\\\\data\\\\lambda\\\\u61-1737714525635.png', 'c:\\\\Users\\\\LeonB\\\\Documents\\\\vs-code\\\\ocr-model-training\\\\ocr-model-training\\\\src\\\\cnn_rnn\\\\..\\\\..\\\\data\\\\lambda\\\\u65-1737714537321.png', 'c:\\\\Users\\\\LeonB\\\\Documents\\\\vs-code\\\\ocr-model-training\\\\ocr-model-training\\\\src\\\\cnn_rnn\\\\..\\\\..\\\\data\\\\lambda\\\\u79-1737714361297.png', 'c:\\\\Users\\\\LeonB\\\\Documents\\\\vs-code\\\\ocr-model-training\\\\ocr-model-training\\\\src\\\\cnn_rnn\\\\..\\\\..\\\\data\\\\lambda\\\\u68-1737713941996.png', 'c:\\\\Users\\\\LeonB\\\\Documents\\\\vs-code\\\\ocr-model-training\\\\ocr-model-training\\\\src\\\\cnn_rnn\\\\..\\\\..\\\\data\\\\lambda\\\\u33-1737714375707.png', 'c:\\\\Users\\\\LeonB\\\\Documents\\\\vs-code\\\\ocr-model-training\\\\ocr-model-training\\\\src\\\\cnn_rnn\\\\..\\\\..\\\\data\\\\lambda\\\\u79-1737713975230.png', 'c:\\\\Users\\\\LeonB\\\\Documents\\\\vs-code\\\\ocr-model-training\\\\ocr-model-training\\\\src\\\\cnn_rnn\\\\..\\\\..\\\\data\\\\lambda\\\\u76-1737714638827.png', 'c:\\\\Users\\\\LeonB\\\\Documents\\\\vs-code\\\\ocr-model-training\\\\ocr-model-training\\\\src\\\\cnn_rnn\\\\..\\\\..\\\\data\\\\lambda\\\\u38-1737714195737.png', 'c:\\\\Users\\\\LeonB\\\\Documents\\\\vs-code\\\\ocr-model-training\\\\ocr-model-training\\\\src\\\\cnn_rnn\\\\..\\\\..\\\\data\\\\lambda\\\\u33-1737715372512.png', 'c:\\\\Users\\\\LeonB\\\\Documents\\\\vs-code\\\\ocr-model-training\\\\ocr-model-training\\\\src\\\\cnn_rnn\\\\..\\\\..\\\\data\\\\lambda\\\\u68-1737715327425.png', 'c:\\\\Users\\\\LeonB\\\\Documents\\\\vs-code\\\\ocr-model-training\\\\ocr-model-training\\\\src\\\\cnn_rnn\\\\..\\\\..\\\\data\\\\lambda\\\\uf7-1737714672101.png', 'c:\\\\Users\\\\LeonB\\\\Documents\\\\vs-code\\\\ocr-model-training\\\\ocr-model-training\\\\src\\\\cnn_rnn\\\\..\\\\..\\\\data\\\\lambda\\\\u6f-1737713953038.png', 'c:\\\\Users\\\\LeonB\\\\Documents\\\\vs-code\\\\ocr-model-training\\\\ocr-model-training\\\\src\\\\cnn_rnn\\\\..\\\\..\\\\data\\\\lambda\\\\u76-1737713964888.png', 'c:\\\\Users\\\\LeonB\\\\Documents\\\\vs-code\\\\ocr-model-training\\\\ocr-model-training\\\\src\\\\cnn_rnn\\\\..\\\\..\\\\data\\\\lambda\\\\u6c-1737713948580.png', 'c:\\\\Users\\\\LeonB\\\\Documents\\\\vs-code\\\\ocr-model-training\\\\ocr-model-training\\\\src\\\\cnn_rnn\\\\..\\\\..\\\\data\\\\lambda\\\\u6d-1737714235758.png', 'c:\\\\Users\\\\LeonB\\\\Documents\\\\vs-code\\\\ocr-model-training\\\\ocr-model-training\\\\src\\\\cnn_rnn\\\\..\\\\..\\\\data\\\\lambda\\\\u37-1737714661999.png', 'c:\\\\Users\\\\LeonB\\\\Documents\\\\vs-code\\\\ocr-model-training\\\\ocr-model-training\\\\src\\\\cnn_rnn\\\\..\\\\..\\\\data\\\\lambda\\\\u72-1737713958045.png', 'c:\\\\Users\\\\LeonB\\\\Documents\\\\vs-code\\\\ocr-model-training\\\\ocr-model-training\\\\src\\\\cnn_rnn\\\\..\\\\..\\\\data\\\\lambda\\\\u6e-1737714557865.png', 'c:\\\\Users\\\\LeonB\\\\Documents\\\\vs-code\\\\ocr-model-training\\\\ocr-model-training\\\\src\\\\cnn_rnn\\\\..\\\\..\\\\data\\\\lambda\\\\u32-1737714184620.png', 'c:\\\\Users\\\\LeonB\\\\Documents\\\\vs-code\\\\ocr-model-training\\\\ocr-model-training\\\\src\\\\cnn_rnn\\\\..\\\\..\\\\data\\\\lambda\\\\u65-1737714093538.png', 'c:\\\\Users\\\\LeonB\\\\Documents\\\\vs-code\\\\ocr-model-training\\\\ocr-model-training\\\\src\\\\cnn_rnn\\\\..\\\\..\\\\data\\\\lambda\\\\u64-1737714212615.png', 'c:\\\\Users\\\\LeonB\\\\Documents\\\\vs-code\\\\ocr-model-training\\\\ocr-model-training\\\\src\\\\cnn_rnn\\\\..\\\\..\\\\data\\\\lambda\\\\u75-1737713963339.png', 'c:\\\\Users\\\\LeonB\\\\Documents\\\\vs-code\\\\ocr-model-training\\\\ocr-model-training\\\\src\\\\cnn_rnn\\\\..\\\\..\\\\data\\\\lambda\\\\u6c-1737715341470.png', 'c:\\\\Users\\\\LeonB\\\\Documents\\\\vs-code\\\\ocr-model-training\\\\ocr-model-training\\\\src\\\\cnn_rnn\\\\..\\\\..\\\\data\\\\lambda\\\\u66-1737713938828.png', 'c:\\\\Users\\\\LeonB\\\\Documents\\\\vs-code\\\\ocr-model-training\\\\ocr-model-training\\\\src\\\\cnn_rnn\\\\..\\\\..\\\\data\\\\lambda\\\\u37-1737713997035.png', 'c:\\\\Users\\\\LeonB\\\\Documents\\\\vs-code\\\\ocr-model-training\\\\ocr-model-training\\\\src\\\\cnn_rnn\\\\..\\\\..\\\\data\\\\lambda\\\\u36-1737714191781.png', 'c:\\\\Users\\\\LeonB\\\\Documents\\\\vs-code\\\\ocr-model-training\\\\ocr-model-training\\\\src\\\\cnn_rnn\\\\..\\\\..\\\\data\\\\lambda\\\\u67-1737714540792.png', 'c:\\\\Users\\\\LeonB\\\\Documents\\\\vs-code\\\\ocr-model-training\\\\ocr-model-training\\\\src\\\\cnn_rnn\\\\..\\\\..\\\\data\\\\lambda\\\\u74-1737715354498.png', 'c:\\\\Users\\\\LeonB\\\\Documents\\\\vs-code\\\\ocr-model-training\\\\ocr-model-training\\\\src\\\\cnn_rnn\\\\..\\\\..\\\\data\\\\lambda\\\\u73-1737714630660.png', 'c:\\\\Users\\\\LeonB\\\\Documents\\\\vs-code\\\\ocr-model-training\\\\ocr-model-training\\\\src\\\\cnn_rnn\\\\..\\\\..\\\\data\\\\lambda\\\\u77-1737714356545.png', 'c:\\\\Users\\\\LeonB\\\\Documents\\\\vs-code\\\\ocr-model-training\\\\ocr-model-training\\\\src\\\\cnn_rnn\\\\..\\\\..\\\\data\\\\lambda\\\\u63-1737715317564.png', 'c:\\\\Users\\\\LeonB\\\\Documents\\\\vs-code\\\\ocr-model-training\\\\ocr-model-training\\\\src\\\\cnn_rnn\\\\..\\\\..\\\\data\\\\lambda\\\\u39-1737714666007.png', 'c:\\\\Users\\\\LeonB\\\\Documents\\\\vs-code\\\\ocr-model-training\\\\ocr-model-training\\\\src\\\\cnn_rnn\\\\..\\\\..\\\\data\\\\lambda\\\\u67-1737714221146.png', 'c:\\\\Users\\\\LeonB\\\\Documents\\\\vs-code\\\\ocr-model-training\\\\ocr-model-training\\\\src\\\\cnn_rnn\\\\..\\\\..\\\\data\\\\lambda\\\\u32-1737713986637.png', 'c:\\\\Users\\\\LeonB\\\\Documents\\\\vs-code\\\\ocr-model-training\\\\ocr-model-training\\\\src\\\\cnn_rnn\\\\..\\\\..\\\\data\\\\lambda\\\\u34-1737714188191.png', 'c:\\\\Users\\\\LeonB\\\\Documents\\\\vs-code\\\\ocr-model-training\\\\ocr-model-training\\\\src\\\\cnn_rnn\\\\..\\\\..\\\\data\\\\lambda\\\\u30-1737714179455.png', 'c:\\\\Users\\\\LeonB\\\\Documents\\\\vs-code\\\\ocr-model-training\\\\ocr-model-training\\\\src\\\\cnn_rnn\\\\..\\\\..\\\\data\\\\lambda\\\\u66-1737714539205.png', 'c:\\\\Users\\\\LeonB\\\\Documents\\\\vs-code\\\\ocr-model-training\\\\ocr-model-training\\\\src\\\\cnn_rnn\\\\..\\\\..\\\\data\\\\lambda\\\\u67-1737714103474.png', 'c:\\\\Users\\\\LeonB\\\\Documents\\\\vs-code\\\\ocr-model-training\\\\ocr-model-training\\\\src\\\\cnn_rnn\\\\..\\\\..\\\\data\\\\lambda\\\\u68-1737714223022.png', 'c:\\\\Users\\\\LeonB\\\\Documents\\\\vs-code\\\\ocr-model-training\\\\ocr-model-training\\\\src\\\\cnn_rnn\\\\..\\\\..\\\\data\\\\lambda\\\\u78-1737714642571.png', 'c:\\\\Users\\\\LeonB\\\\Documents\\\\vs-code\\\\ocr-model-training\\\\ocr-model-training\\\\src\\\\cnn_rnn\\\\..\\\\..\\\\data\\\\lambda\\\\u7a-1737714173273.png', 'c:\\\\Users\\\\LeonB\\\\Documents\\\\vs-code\\\\ocr-model-training\\\\ocr-model-training\\\\src\\\\cnn_rnn\\\\..\\\\..\\\\data\\\\lambda\\\\u66-1737714100430.png', 'c:\\\\Users\\\\LeonB\\\\Documents\\\\vs-code\\\\ocr-model-training\\\\ocr-model-training\\\\src\\\\cnn_rnn\\\\..\\\\..\\\\data\\\\lambda\\\\u78-1737714359030.png', 'c:\\\\Users\\\\LeonB\\\\Documents\\\\vs-code\\\\ocr-model-training\\\\ocr-model-training\\\\src\\\\cnn_rnn\\\\..\\\\..\\\\data\\\\lambda\\\\u35-1737715375597.png', 'c:\\\\Users\\\\LeonB\\\\Documents\\\\vs-code\\\\ocr-model-training\\\\ocr-model-training\\\\src\\\\cnn_rnn\\\\..\\\\..\\\\data\\\\lambda\\\\u75-1737715356088.png', 'c:\\\\Users\\\\LeonB\\\\Documents\\\\vs-code\\\\ocr-model-training\\\\ocr-model-training\\\\src\\\\cnn_rnn\\\\..\\\\..\\\\data\\\\lambda\\\\u79-1737714171338.png', 'c:\\\\Users\\\\LeonB\\\\Documents\\\\vs-code\\\\ocr-model-training\\\\ocr-model-training\\\\src\\\\cnn_rnn\\\\..\\\\..\\\\data\\\\lambda\\\\u2b-1737714199814.png', 'c:\\\\Users\\\\LeonB\\\\Documents\\\\vs-code\\\\ocr-model-training\\\\ocr-model-training\\\\src\\\\cnn_rnn\\\\..\\\\..\\\\data\\\\lambda\\\\u39-1737714197595.png', 'c:\\\\Users\\\\LeonB\\\\Documents\\\\vs-code\\\\ocr-model-training\\\\ocr-model-training\\\\src\\\\cnn_rnn\\\\..\\\\..\\\\data\\\\lambda\\\\u6a-1737714229763.png', 'c:\\\\Users\\\\LeonB\\\\Documents\\\\vs-code\\\\ocr-model-training\\\\ocr-model-training\\\\src\\\\cnn_rnn\\\\..\\\\..\\\\data\\\\lambda\\\\u38-1737713999481.png', 'c:\\\\Users\\\\LeonB\\\\Documents\\\\vs-code\\\\ocr-model-training\\\\ocr-model-training\\\\src\\\\cnn_rnn\\\\..\\\\..\\\\data\\\\lambda\\\\uf7-1737714513700.png', 'c:\\\\Users\\\\LeonB\\\\Documents\\\\vs-code\\\\ocr-model-training\\\\ocr-model-training\\\\src\\\\cnn_rnn\\\\..\\\\..\\\\data\\\\lambda\\\\u73-1737715353132.png', 'c:\\\\Users\\\\LeonB\\\\Documents\\\\vs-code\\\\ocr-model-training\\\\ocr-model-training\\\\src\\\\cnn_rnn\\\\..\\\\..\\\\data\\\\lambda\\\\u6e-1737715345299.png', 'c:\\\\Users\\\\LeonB\\\\Documents\\\\vs-code\\\\ocr-model-training\\\\ocr-model-training\\\\src\\\\cnn_rnn\\\\..\\\\..\\\\data\\\\lambda\\\\u39-1737714009495.png', 'c:\\\\Users\\\\LeonB\\\\Documents\\\\vs-code\\\\ocr-model-training\\\\ocr-model-training\\\\src\\\\cnn_rnn\\\\..\\\\..\\\\data\\\\lambda\\\\u2d-1737714509334.png', 'c:\\\\Users\\\\LeonB\\\\Documents\\\\vs-code\\\\ocr-model-training\\\\ocr-model-training\\\\src\\\\cnn_rnn\\\\..\\\\..\\\\data\\\\lambda\\\\u2d-1737714669436.png', 'c:\\\\Users\\\\LeonB\\\\Documents\\\\vs-code\\\\ocr-model-training\\\\ocr-model-training\\\\src\\\\cnn_rnn\\\\..\\\\..\\\\data\\\\lambda\\\\u32-1737714373699.png', 'c:\\\\Users\\\\LeonB\\\\Documents\\\\vs-code\\\\ocr-model-training\\\\ocr-model-training\\\\src\\\\cnn_rnn\\\\..\\\\..\\\\data\\\\lambda\\\\u70-1737715348551.png', 'c:\\\\Users\\\\LeonB\\\\Documents\\\\vs-code\\\\ocr-model-training\\\\ocr-model-training\\\\src\\\\cnn_rnn\\\\..\\\\..\\\\data\\\\lambda\\\\u77-1737714640449.png', 'c:\\\\Users\\\\LeonB\\\\Documents\\\\vs-code\\\\ocr-model-training\\\\ocr-model-training\\\\src\\\\cnn_rnn\\\\..\\\\..\\\\data\\\\lambda\\\\u33-1737714186309.png', 'c:\\\\Users\\\\LeonB\\\\Documents\\\\vs-code\\\\ocr-model-training\\\\ocr-model-training\\\\src\\\\cnn_rnn\\\\..\\\\..\\\\data\\\\lambda\\\\u35-1737713991968.png', 'c:\\\\Users\\\\LeonB\\\\Documents\\\\vs-code\\\\ocr-model-training\\\\ocr-model-training\\\\src\\\\cnn_rnn\\\\..\\\\..\\\\data\\\\lambda\\\\u61-1737714206009.png', 'c:\\\\Users\\\\LeonB\\\\Documents\\\\vs-code\\\\ocr-model-training\\\\ocr-model-training\\\\src\\\\cnn_rnn\\\\..\\\\..\\\\data\\\\lambda\\\\u63-1737713933479.png', 'c:\\\\Users\\\\LeonB\\\\Documents\\\\vs-code\\\\ocr-model-training\\\\ocr-model-training\\\\src\\\\cnn_rnn\\\\..\\\\..\\\\data\\\\lambda\\\\u7a-1737715365339.png', 'c:\\\\Users\\\\LeonB\\\\Documents\\\\vs-code\\\\ocr-model-training\\\\ocr-model-training\\\\src\\\\cnn_rnn\\\\..\\\\..\\\\data\\\\lambda\\\\u75-1737714637541.png'] ['6', 'q', '0', '0', 'm', 'b', '+', '4', '÷', 'v', '1', 't', '5', 'o', '6', '-', '8', 'i', 'd', 'a', 'c', 'm', 'r', 'x', 'b', 'n', 'q', 'e', 'w', 'k', 'i', '+', '1', 'd', 'o', 'j', 's', 'q', 'j', 'k', 'z', 'r', 't', 'b', '7', 'p', 'i', 'k', '4', '1', 'p', 'l', 'a', 'e', 'y', 'h', '3', 'y', 'v', '8', '3', 'h', '÷', 'o', 'v', 'l', 'm', '7', 'r', 'n', '2', 'e', 'd', 'u', 'l', 'f', '7', '6', 'g', 't', 's', 'w', 'c', '9', 'g', '2', '4', '0', 'f', 'g', 'h', 'x', 'z', 'f', 'x', '5', 'u', 'y', '+', '9', 'j', '8', '÷', 's', 'n', '9', '-', '-', '2', 'p', 'w', '3', '5', 'a', 'c', 'z', 'u']\n",
      "Val   (39): ['c:\\\\Users\\\\LeonB\\\\Documents\\\\vs-code\\\\ocr-model-training\\\\ocr-model-training\\\\src\\\\cnn_rnn\\\\..\\\\..\\\\data\\\\lambda\\\\u2b-1737714507865.png', 'c:\\\\Users\\\\LeonB\\\\Documents\\\\vs-code\\\\ocr-model-training\\\\ocr-model-training\\\\src\\\\cnn_rnn\\\\..\\\\..\\\\data\\\\lambda\\\\u2d-1737715385426.png', 'c:\\\\Users\\\\LeonB\\\\Documents\\\\vs-code\\\\ocr-model-training\\\\ocr-model-training\\\\src\\\\cnn_rnn\\\\..\\\\..\\\\data\\\\lambda\\\\u30-1737713982454.png', 'c:\\\\Users\\\\LeonB\\\\Documents\\\\vs-code\\\\ocr-model-training\\\\ocr-model-training\\\\src\\\\cnn_rnn\\\\..\\\\..\\\\data\\\\lambda\\\\u31-1737715369546.png', 'c:\\\\Users\\\\LeonB\\\\Documents\\\\vs-code\\\\ocr-model-training\\\\ocr-model-training\\\\src\\\\cnn_rnn\\\\..\\\\..\\\\data\\\\lambda\\\\u32-1737714653790.png', 'c:\\\\Users\\\\LeonB\\\\Documents\\\\vs-code\\\\ocr-model-training\\\\ocr-model-training\\\\src\\\\cnn_rnn\\\\..\\\\..\\\\data\\\\lambda\\\\u33-1737714655567.png', 'c:\\\\Users\\\\LeonB\\\\Documents\\\\vs-code\\\\ocr-model-training\\\\ocr-model-training\\\\src\\\\cnn_rnn\\\\..\\\\..\\\\data\\\\lambda\\\\u34-1737715374017.png', 'c:\\\\Users\\\\LeonB\\\\Documents\\\\vs-code\\\\ocr-model-training\\\\ocr-model-training\\\\src\\\\cnn_rnn\\\\..\\\\..\\\\data\\\\lambda\\\\u35-1737714659171.png', 'c:\\\\Users\\\\LeonB\\\\Documents\\\\vs-code\\\\ocr-model-training\\\\ocr-model-training\\\\src\\\\cnn_rnn\\\\..\\\\..\\\\data\\\\lambda\\\\u36-1737714660483.png', 'c:\\\\Users\\\\LeonB\\\\Documents\\\\vs-code\\\\ocr-model-training\\\\ocr-model-training\\\\src\\\\cnn_rnn\\\\..\\\\..\\\\data\\\\lambda\\\\u37-1737714494502.png', 'c:\\\\Users\\\\LeonB\\\\Documents\\\\vs-code\\\\ocr-model-training\\\\ocr-model-training\\\\src\\\\cnn_rnn\\\\..\\\\..\\\\data\\\\lambda\\\\u38-1737714496384.png', 'c:\\\\Users\\\\LeonB\\\\Documents\\\\vs-code\\\\ocr-model-training\\\\ocr-model-training\\\\src\\\\cnn_rnn\\\\..\\\\..\\\\data\\\\lambda\\\\u39-1737714506005.png', 'c:\\\\Users\\\\LeonB\\\\Documents\\\\vs-code\\\\ocr-model-training\\\\ocr-model-training\\\\src\\\\cnn_rnn\\\\..\\\\..\\\\data\\\\lambda\\\\u61-1737714017991.png', 'c:\\\\Users\\\\LeonB\\\\Documents\\\\vs-code\\\\ocr-model-training\\\\ocr-model-training\\\\src\\\\cnn_rnn\\\\..\\\\..\\\\data\\\\lambda\\\\u62-1737714527832.png', 'c:\\\\Users\\\\LeonB\\\\Documents\\\\vs-code\\\\ocr-model-training\\\\ocr-model-training\\\\src\\\\cnn_rnn\\\\..\\\\..\\\\data\\\\lambda\\\\u63-1737714085367.png', 'c:\\\\Users\\\\LeonB\\\\Documents\\\\vs-code\\\\ocr-model-training\\\\ocr-model-training\\\\src\\\\cnn_rnn\\\\..\\\\..\\\\data\\\\lambda\\\\u64-1737713935185.png', 'c:\\\\Users\\\\LeonB\\\\Documents\\\\vs-code\\\\ocr-model-training\\\\ocr-model-training\\\\src\\\\cnn_rnn\\\\..\\\\..\\\\data\\\\lambda\\\\u65-1737713936666.png', 'c:\\\\Users\\\\LeonB\\\\Documents\\\\vs-code\\\\ocr-model-training\\\\ocr-model-training\\\\src\\\\cnn_rnn\\\\..\\\\..\\\\data\\\\lambda\\\\u66-1737714218807.png', 'c:\\\\Users\\\\LeonB\\\\Documents\\\\vs-code\\\\ocr-model-training\\\\ocr-model-training\\\\src\\\\cnn_rnn\\\\..\\\\..\\\\data\\\\lambda\\\\u67-1737715325760.png', 'c:\\\\Users\\\\LeonB\\\\Documents\\\\vs-code\\\\ocr-model-training\\\\ocr-model-training\\\\src\\\\cnn_rnn\\\\..\\\\..\\\\data\\\\lambda\\\\u68-1737714543127.png', 'c:\\\\Users\\\\LeonB\\\\Documents\\\\vs-code\\\\ocr-model-training\\\\ocr-model-training\\\\src\\\\cnn_rnn\\\\..\\\\..\\\\data\\\\lambda\\\\u69-1737714118868.png', 'c:\\\\Users\\\\LeonB\\\\Documents\\\\vs-code\\\\ocr-model-training\\\\ocr-model-training\\\\src\\\\cnn_rnn\\\\..\\\\..\\\\data\\\\lambda\\\\u6a-1737714547934.png', 'c:\\\\Users\\\\LeonB\\\\Documents\\\\vs-code\\\\ocr-model-training\\\\ocr-model-training\\\\src\\\\cnn_rnn\\\\..\\\\..\\\\data\\\\lambda\\\\u6b-1737714550090.png', 'c:\\\\Users\\\\LeonB\\\\Documents\\\\vs-code\\\\ocr-model-training\\\\ocr-model-training\\\\src\\\\cnn_rnn\\\\..\\\\..\\\\data\\\\lambda\\\\u6c-1737714127794.png', 'c:\\\\Users\\\\LeonB\\\\Documents\\\\vs-code\\\\ocr-model-training\\\\ocr-model-training\\\\src\\\\cnn_rnn\\\\..\\\\..\\\\data\\\\lambda\\\\u6d-1737714556248.png', 'c:\\\\Users\\\\LeonB\\\\Documents\\\\vs-code\\\\ocr-model-training\\\\ocr-model-training\\\\src\\\\cnn_rnn\\\\..\\\\..\\\\data\\\\lambda\\\\u6e-1737714237222.png', 'c:\\\\Users\\\\LeonB\\\\Documents\\\\vs-code\\\\ocr-model-training\\\\ocr-model-training\\\\src\\\\cnn_rnn\\\\..\\\\..\\\\data\\\\lambda\\\\u6f-1737714561124.png', 'c:\\\\Users\\\\LeonB\\\\Documents\\\\vs-code\\\\ocr-model-training\\\\ocr-model-training\\\\src\\\\cnn_rnn\\\\..\\\\..\\\\data\\\\lambda\\\\u70-1737714626067.png', 'c:\\\\Users\\\\LeonB\\\\Documents\\\\vs-code\\\\ocr-model-training\\\\ocr-model-training\\\\src\\\\cnn_rnn\\\\..\\\\..\\\\data\\\\lambda\\\\u71-1737714156001.png', 'c:\\\\Users\\\\LeonB\\\\Documents\\\\vs-code\\\\ocr-model-training\\\\ocr-model-training\\\\src\\\\cnn_rnn\\\\..\\\\..\\\\data\\\\lambda\\\\u72-1737714629196.png', 'c:\\\\Users\\\\LeonB\\\\Documents\\\\vs-code\\\\ocr-model-training\\\\ocr-model-training\\\\src\\\\cnn_rnn\\\\..\\\\..\\\\data\\\\lambda\\\\u73-1737714159646.png', 'c:\\\\Users\\\\LeonB\\\\Documents\\\\vs-code\\\\ocr-model-training\\\\ocr-model-training\\\\src\\\\cnn_rnn\\\\..\\\\..\\\\data\\\\lambda\\\\u74-1737713961269.png', 'c:\\\\Users\\\\LeonB\\\\Documents\\\\vs-code\\\\ocr-model-training\\\\ocr-model-training\\\\src\\\\cnn_rnn\\\\..\\\\..\\\\data\\\\lambda\\\\u75-1737714353533.png', 'c:\\\\Users\\\\LeonB\\\\Documents\\\\vs-code\\\\ocr-model-training\\\\ocr-model-training\\\\src\\\\cnn_rnn\\\\..\\\\..\\\\data\\\\lambda\\\\u76-1737714165224.png', 'c:\\\\Users\\\\LeonB\\\\Documents\\\\vs-code\\\\ocr-model-training\\\\ocr-model-training\\\\src\\\\cnn_rnn\\\\..\\\\..\\\\data\\\\lambda\\\\u77-1737715358598.png', 'c:\\\\Users\\\\LeonB\\\\Documents\\\\vs-code\\\\ocr-model-training\\\\ocr-model-training\\\\src\\\\cnn_rnn\\\\..\\\\..\\\\data\\\\lambda\\\\u78-1737715360545.png', 'c:\\\\Users\\\\LeonB\\\\Documents\\\\vs-code\\\\ocr-model-training\\\\ocr-model-training\\\\src\\\\cnn_rnn\\\\..\\\\..\\\\data\\\\lambda\\\\u79-1737714645294.png', 'c:\\\\Users\\\\LeonB\\\\Documents\\\\vs-code\\\\ocr-model-training\\\\ocr-model-training\\\\src\\\\cnn_rnn\\\\..\\\\..\\\\data\\\\lambda\\\\u7a-1737714363413.png', 'c:\\\\Users\\\\LeonB\\\\Documents\\\\vs-code\\\\ocr-model-training\\\\ocr-model-training\\\\src\\\\cnn_rnn\\\\..\\\\..\\\\data\\\\lambda\\\\uf7-1737714204198.png'] ['+', '-', '0', '1', '2', '3', '4', '5', '6', '7', '8', '9', 'a', 'b', 'c', 'd', 'e', 'f', 'g', 'h', 'i', 'j', 'k', 'l', 'm', 'n', 'o', 'p', 'q', 'r', 's', 't', 'u', 'v', 'w', 'x', 'y', 'z', '÷']\n",
      "Test  (39): ['c:\\\\Users\\\\LeonB\\\\Documents\\\\vs-code\\\\ocr-model-training\\\\ocr-model-training\\\\src\\\\cnn_rnn\\\\..\\\\..\\\\data\\\\lambda\\\\u2b-1737715384396.png', 'c:\\\\Users\\\\LeonB\\\\Documents\\\\vs-code\\\\ocr-model-training\\\\ocr-model-training\\\\src\\\\cnn_rnn\\\\..\\\\..\\\\data\\\\lambda\\\\u2d-1737714201119.png', 'c:\\\\Users\\\\LeonB\\\\Documents\\\\vs-code\\\\ocr-model-training\\\\ocr-model-training\\\\src\\\\cnn_rnn\\\\..\\\\..\\\\data\\\\lambda\\\\u30-1737715366894.png', 'c:\\\\Users\\\\LeonB\\\\Documents\\\\vs-code\\\\ocr-model-training\\\\ocr-model-training\\\\src\\\\cnn_rnn\\\\..\\\\..\\\\data\\\\lambda\\\\u31-1737714371345.png', 'c:\\\\Users\\\\LeonB\\\\Documents\\\\vs-code\\\\ocr-model-training\\\\ocr-model-training\\\\src\\\\cnn_rnn\\\\..\\\\..\\\\data\\\\lambda\\\\u32-1737715371044.png', 'c:\\\\Users\\\\LeonB\\\\Documents\\\\vs-code\\\\ocr-model-training\\\\ocr-model-training\\\\src\\\\cnn_rnn\\\\..\\\\..\\\\data\\\\lambda\\\\u33-1737713988329.png', 'c:\\\\Users\\\\LeonB\\\\Documents\\\\vs-code\\\\ocr-model-training\\\\ocr-model-training\\\\src\\\\cnn_rnn\\\\..\\\\..\\\\data\\\\lambda\\\\u34-1737714378347.png', 'c:\\\\Users\\\\LeonB\\\\Documents\\\\vs-code\\\\ocr-model-training\\\\ocr-model-training\\\\src\\\\cnn_rnn\\\\..\\\\..\\\\data\\\\lambda\\\\u35-1737714383510.png', 'c:\\\\Users\\\\LeonB\\\\Documents\\\\vs-code\\\\ocr-model-training\\\\ocr-model-training\\\\src\\\\cnn_rnn\\\\..\\\\..\\\\data\\\\lambda\\\\u36-1737713993580.png', 'c:\\\\Users\\\\LeonB\\\\Documents\\\\vs-code\\\\ocr-model-training\\\\ocr-model-training\\\\src\\\\cnn_rnn\\\\..\\\\..\\\\data\\\\lambda\\\\u37-1737715378194.png', 'c:\\\\Users\\\\LeonB\\\\Documents\\\\vs-code\\\\ocr-model-training\\\\ocr-model-training\\\\src\\\\cnn_rnn\\\\..\\\\..\\\\data\\\\lambda\\\\u38-1737715381042.png', 'c:\\\\Users\\\\LeonB\\\\Documents\\\\vs-code\\\\ocr-model-training\\\\ocr-model-training\\\\src\\\\cnn_rnn\\\\..\\\\..\\\\data\\\\lambda\\\\u39-1737715382565.png', 'c:\\\\Users\\\\LeonB\\\\Documents\\\\vs-code\\\\ocr-model-training\\\\ocr-model-training\\\\src\\\\cnn_rnn\\\\..\\\\..\\\\data\\\\lambda\\\\u61-1737713740761.png', 'c:\\\\Users\\\\LeonB\\\\Documents\\\\vs-code\\\\ocr-model-training\\\\ocr-model-training\\\\src\\\\cnn_rnn\\\\..\\\\..\\\\data\\\\lambda\\\\u62-1737714209482.png', 'c:\\\\Users\\\\LeonB\\\\Documents\\\\vs-code\\\\ocr-model-training\\\\ocr-model-training\\\\src\\\\cnn_rnn\\\\..\\\\..\\\\data\\\\lambda\\\\u63-1737714210828.png', 'c:\\\\Users\\\\LeonB\\\\Documents\\\\vs-code\\\\ocr-model-training\\\\ocr-model-training\\\\src\\\\cnn_rnn\\\\..\\\\..\\\\data\\\\lambda\\\\u64-1737714534978.png', 'c:\\\\Users\\\\LeonB\\\\Documents\\\\vs-code\\\\ocr-model-training\\\\ocr-model-training\\\\src\\\\cnn_rnn\\\\..\\\\..\\\\data\\\\lambda\\\\u65-1737714216229.png', 'c:\\\\Users\\\\LeonB\\\\Documents\\\\vs-code\\\\ocr-model-training\\\\ocr-model-training\\\\src\\\\cnn_rnn\\\\..\\\\..\\\\data\\\\lambda\\\\u66-1737715323978.png', 'c:\\\\Users\\\\LeonB\\\\Documents\\\\vs-code\\\\ocr-model-training\\\\ocr-model-training\\\\src\\\\cnn_rnn\\\\..\\\\..\\\\data\\\\lambda\\\\u67-1737713940475.png', 'c:\\\\Users\\\\LeonB\\\\Documents\\\\vs-code\\\\ocr-model-training\\\\ocr-model-training\\\\src\\\\cnn_rnn\\\\..\\\\..\\\\data\\\\lambda\\\\u68-1737714116373.png', 'c:\\\\Users\\\\LeonB\\\\Documents\\\\vs-code\\\\ocr-model-training\\\\ocr-model-training\\\\src\\\\cnn_rnn\\\\..\\\\..\\\\data\\\\lambda\\\\u69-1737714546055.png', 'c:\\\\Users\\\\LeonB\\\\Documents\\\\vs-code\\\\ocr-model-training\\\\ocr-model-training\\\\src\\\\cnn_rnn\\\\..\\\\..\\\\data\\\\lambda\\\\u6a-1737714122113.png', 'c:\\\\Users\\\\LeonB\\\\Documents\\\\vs-code\\\\ocr-model-training\\\\ocr-model-training\\\\src\\\\cnn_rnn\\\\..\\\\..\\\\data\\\\lambda\\\\u6b-1737715332998.png', 'c:\\\\Users\\\\LeonB\\\\Documents\\\\vs-code\\\\ocr-model-training\\\\ocr-model-training\\\\src\\\\cnn_rnn\\\\..\\\\..\\\\data\\\\lambda\\\\u6c-1737714233906.png', 'c:\\\\Users\\\\LeonB\\\\Documents\\\\vs-code\\\\ocr-model-training\\\\ocr-model-training\\\\src\\\\cnn_rnn\\\\..\\\\..\\\\data\\\\lambda\\\\u6d-1737713950417.png', 'c:\\\\Users\\\\LeonB\\\\Documents\\\\vs-code\\\\ocr-model-training\\\\ocr-model-training\\\\src\\\\cnn_rnn\\\\..\\\\..\\\\data\\\\lambda\\\\u6e-1737714131750.png', 'c:\\\\Users\\\\LeonB\\\\Documents\\\\vs-code\\\\ocr-model-training\\\\ocr-model-training\\\\src\\\\cnn_rnn\\\\..\\\\..\\\\data\\\\lambda\\\\u6f-1737715346783.png', 'c:\\\\Users\\\\LeonB\\\\Documents\\\\vs-code\\\\ocr-model-training\\\\ocr-model-training\\\\src\\\\cnn_rnn\\\\..\\\\..\\\\data\\\\lambda\\\\u70-1737714240366.png', 'c:\\\\Users\\\\LeonB\\\\Documents\\\\vs-code\\\\ocr-model-training\\\\ocr-model-training\\\\src\\\\cnn_rnn\\\\..\\\\..\\\\data\\\\lambda\\\\u71-1737714627732.png', 'c:\\\\Users\\\\LeonB\\\\Documents\\\\vs-code\\\\ocr-model-training\\\\ocr-model-training\\\\src\\\\cnn_rnn\\\\..\\\\..\\\\data\\\\lambda\\\\u72-1737715351683.png', 'c:\\\\Users\\\\LeonB\\\\Documents\\\\vs-code\\\\ocr-model-training\\\\ocr-model-training\\\\src\\\\cnn_rnn\\\\..\\\\..\\\\data\\\\lambda\\\\u73-1737713959686.png', 'c:\\\\Users\\\\LeonB\\\\Documents\\\\vs-code\\\\ocr-model-training\\\\ocr-model-training\\\\src\\\\cnn_rnn\\\\..\\\\..\\\\data\\\\lambda\\\\u74-1737714635908.png', 'c:\\\\Users\\\\LeonB\\\\Documents\\\\vs-code\\\\ocr-model-training\\\\ocr-model-training\\\\src\\\\cnn_rnn\\\\..\\\\..\\\\data\\\\lambda\\\\u75-1737714163730.png', 'c:\\\\Users\\\\LeonB\\\\Documents\\\\vs-code\\\\ocr-model-training\\\\ocr-model-training\\\\src\\\\cnn_rnn\\\\..\\\\..\\\\data\\\\lambda\\\\u76-1737715357236.png', 'c:\\\\Users\\\\LeonB\\\\Documents\\\\vs-code\\\\ocr-model-training\\\\ocr-model-training\\\\src\\\\cnn_rnn\\\\..\\\\..\\\\data\\\\lambda\\\\u77-1737714167142.png', 'c:\\\\Users\\\\LeonB\\\\Documents\\\\vs-code\\\\ocr-model-training\\\\ocr-model-training\\\\src\\\\cnn_rnn\\\\..\\\\..\\\\data\\\\lambda\\\\u78-1737714169519.png', 'c:\\\\Users\\\\LeonB\\\\Documents\\\\vs-code\\\\ocr-model-training\\\\ocr-model-training\\\\src\\\\cnn_rnn\\\\..\\\\..\\\\data\\\\lambda\\\\u79-1737715362136.png', 'c:\\\\Users\\\\LeonB\\\\Documents\\\\vs-code\\\\ocr-model-training\\\\ocr-model-training\\\\src\\\\cnn_rnn\\\\..\\\\..\\\\data\\\\lambda\\\\u7a-1737714647288.png', 'c:\\\\Users\\\\LeonB\\\\Documents\\\\vs-code\\\\ocr-model-training\\\\ocr-model-training\\\\src\\\\cnn_rnn\\\\..\\\\..\\\\data\\\\lambda\\\\uf7-1737714015640.png'] ['+', '-', '0', '1', '2', '3', '4', '5', '6', '7', '8', '9', 'a', 'b', 'c', 'd', 'e', 'f', 'g', 'h', 'i', 'j', 'k', 'l', 'm', 'n', 'o', 'p', 'q', 'r', 's', 't', 'u', 'v', 'w', 'x', 'y', 'z', '÷']\n"
     ]
    }
   ],
   "source": [
    "\n",
    "\n",
    "\n",
    "train_x, train_y, val_x, val_y, test_x, test_y = stratified_split(image_paths, labels)\n",
    "\n",
    "print(f\"Train ({len(train_x)}): {train_x} {train_y}\")\n",
    "print(f\"Val   ({len(val_x)}): {val_x} {val_y}\")\n",
    "print(f\"Test  ({len(test_x)}): {test_x} {test_y}\")"
   ]
  },
  {
   "cell_type": "code",
   "execution_count": 30,
   "metadata": {},
   "outputs": [],
   "source": [
    "all_label_classes = ['+',\n",
    " '-',\n",
    " '0',\n",
    " '1',\n",
    " '2',\n",
    " '3',\n",
    " '4',\n",
    " '5',\n",
    " '6',\n",
    " '7',\n",
    " '8',\n",
    " '9',\n",
    " 'a',\n",
    " 'b',\n",
    " 'c',\n",
    " 'd',\n",
    " 'e',\n",
    " 'f',\n",
    " 'g',\n",
    " 'h',\n",
    " 'i',\n",
    " 'j',\n",
    " 'k',\n",
    " 'l',\n",
    " 'm',\n",
    " 'n',\n",
    " 'o',\n",
    " 'p',\n",
    " 'q',\n",
    " 'r',\n",
    " 's',\n",
    " 't',\n",
    " 'u',\n",
    " 'v',\n",
    " 'w',\n",
    " 'x',\n",
    " 'y',\n",
    " 'z',\n",
    " '÷']"
   ]
  },
  {
   "cell_type": "code",
   "execution_count": 31,
   "metadata": {},
   "outputs": [],
   "source": [
    "\n",
    "train_char_dataset: WordImageDataset = WordImageDataset(\n",
    "    words=[\"hi\", \"+x-\"],\n",
    "    file_paths=train_x, #list(image_paths[:split_index]) + to_add_file_paths,\n",
    "    labels=train_y, #list(labels[:split_index]) + to_add_labels,\n",
    "    all_label_classes=all_label_classes,\n",
    "    rotation_limit=0.05,\n",
    "    translation_limit=0.2,\n",
    "    skew_limit=0.02,\n",
    "    zoom_change=1.2,\n",
    "    min_zoom=0.8,\n",
    "    thicken_sigma=-4.9,\n",
    "    image_dims=(64, 64)\n",
    ")\n",
    "\n",
    "val_char_dataset: WordImageDataset = WordImageDataset(\n",
    "    words=[\"vi\", \"v+\"],\n",
    "    file_paths=val_x,\n",
    "    labels=val_y,\n",
    "    all_label_classes=all_label_classes,\n",
    "    rotation_limit=0.0,\n",
    "    translation_limit=0.0,\n",
    "    skew_limit=0.00,\n",
    "    zoom_change=0.0,\n",
    "    min_zoom=1.0,\n",
    "    thicken_sigma=0.0,\n",
    "    image_dims=(64, 64)\n",
    ")\n",
    "\n",
    "\n"
   ]
  },
  {
   "cell_type": "code",
   "execution_count": 33,
   "metadata": {},
   "outputs": [
    {
     "data": {
      "image/png": "[encoded data removed]",
      "text/plain": [
       "<Figure size 640x480 with 1 Axes>"
      ]
     },
     "metadata": {},
     "output_type": "display_data"
    },
    {
     "data": {
      "image/png": "[encoded data removed]",
      "text/plain": [
       "<Figure size 640x480 with 1 Axes>"
      ]
     },
     "metadata": {},
     "output_type": "display_data"
    },
    {
     "name": "stdout",
     "output_type": "stream",
     "text": [
      "tensor([[0., 0., 0., 0., 0., 0., 0., 0., 0., 0., 0., 0., 0., 0., 0., 0., 0., 0.,\n",
      "         0., 1., 0., 0., 0., 0., 0., 0., 0., 0., 0., 0., 0., 0., 0., 0., 0., 0.,\n",
      "         0., 0., 0.],\n",
      "        [0., 0., 0., 0., 0., 0., 0., 0., 0., 0., 0., 0., 0., 0., 0., 0., 0., 0.,\n",
      "         0., 0., 1., 0., 0., 0., 0., 0., 0., 0., 0., 0., 0., 0., 0., 0., 0., 0.,\n",
      "         0., 0., 0.]])\n"
     ]
    },
    {
     "data": {
      "image/png": "[encoded data removed]",
      "text/plain": [
       "<Figure size 640x480 with 1 Axes>"
      ]
     },
     "metadata": {},
     "output_type": "display_data"
    },
    {
     "data": {
      "image/png": "[encoded data removed]",
      "text/plain": [
       "<Figure size 640x480 with 1 Axes>"
      ]
     },
     "metadata": {},
     "output_type": "display_data"
    },
    {
     "data": {
      "image/png": "[encoded data removed]",
      "text/plain": [
       "<Figure size 640x480 with 1 Axes>"
      ]
     },
     "metadata": {},
     "output_type": "display_data"
    },
    {
     "name": "stdout",
     "output_type": "stream",
     "text": [
      "tensor([[1., 0., 0., 0., 0., 0., 0., 0., 0., 0., 0., 0., 0., 0., 0., 0., 0., 0.,\n",
      "         0., 0., 0., 0., 0., 0., 0., 0., 0., 0., 0., 0., 0., 0., 0., 0., 0., 0.,\n",
      "         0., 0., 0.],\n",
      "        [0., 0., 0., 0., 0., 0., 0., 0., 0., 0., 0., 0., 0., 0., 0., 0., 0., 0.,\n",
      "         0., 0., 0., 0., 0., 0., 0., 0., 0., 0., 0., 0., 0., 0., 0., 0., 0., 1.,\n",
      "         0., 0., 0.],\n",
      "        [0., 1., 0., 0., 0., 0., 0., 0., 0., 0., 0., 0., 0., 0., 0., 0., 0., 0.,\n",
      "         0., 0., 0., 0., 0., 0., 0., 0., 0., 0., 0., 0., 0., 0., 0., 0., 0., 0.,\n",
      "         0., 0., 0.]])\n"
     ]
    }
   ],
   "source": [
    "for im, lab in train_char_dataset:\n",
    "    \n",
    "    for letter in im:\n",
    "    \n",
    "        plt.imshow(\n",
    "            rearrange(letter, \"1 h w -> h w\")*255, \n",
    "            cmap=\"gray\"\n",
    "        )\n",
    "        plt.show()\n",
    "    \n",
    "    print(lab)\n",
    "    "
   ]
  },
  {
   "cell_type": "markdown",
   "metadata": {},
   "source": [
    "# Load DataLoader"
   ]
  },
  {
   "cell_type": "code",
   "execution_count": 48,
   "metadata": {},
   "outputs": [],
   "source": [
    "def collate_fn(batch):\n",
    "    \"\"\"\n",
    "    Collate function to pad sequences to the same length.\n",
    "    \"\"\"\n",
    "    # Separate images and labels\n",
    "    images, labels = zip(*batch)\n",
    "\n",
    "    # Pad image sequences\n",
    "    images_padded = pad_sequence(images, batch_first=True, padding_value=0.0)\n",
    "\n",
    "    # Pad label sequences\n",
    "    labels_padded = pad_sequence(labels, batch_first=True, padding_value=0.0)\n",
    "\n",
    "    return images_padded, labels_padded\n",
    "\n",
    "train_dataloader: DataLoader = DataLoader(\n",
    "    train_char_dataset,\n",
    "    shuffle=True,\n",
    "    batch_size=16,\n",
    "    collate_fn=collate_fn\n",
    ")\n",
    "\n",
    "val_dataloader: DataLoader = DataLoader(\n",
    "    val_char_dataset,\n",
    "    shuffle=False,\n",
    "    batch_size=16,\n",
    "    collate_fn=collate_fn\n",
    ")"
   ]
  },
  {
   "cell_type": "code",
   "execution_count": 37,
   "metadata": {},
   "outputs": [
    {
     "data": {
      "text/plain": [
       "['+',\n",
       " '-',\n",
       " '0',\n",
       " '1',\n",
       " '2',\n",
       " '3',\n",
       " '4',\n",
       " '5',\n",
       " '6',\n",
       " '7',\n",
       " '8',\n",
       " '9',\n",
       " 'a',\n",
       " 'b',\n",
       " 'c',\n",
       " 'd',\n",
       " 'e',\n",
       " 'f',\n",
       " 'g',\n",
       " 'h',\n",
       " 'i',\n",
       " 'j',\n",
       " 'k',\n",
       " 'l',\n",
       " 'm',\n",
       " 'n',\n",
       " 'o',\n",
       " 'p',\n",
       " 'q',\n",
       " 'r',\n",
       " 's',\n",
       " 't',\n",
       " 'u',\n",
       " 'v',\n",
       " 'w',\n",
       " 'x',\n",
       " 'y',\n",
       " 'z',\n",
       " '÷']"
      ]
     },
     "execution_count": 37,
     "metadata": {},
     "output_type": "execute_result"
    }
   ],
   "source": [
    "sorted(class_counts.keys())"
   ]
  },
  {
   "cell_type": "markdown",
   "metadata": {},
   "source": [
    "# Prepare Pretrained CNN Encoder"
   ]
  },
  {
   "cell_type": "code",
   "execution_count": 55,
   "metadata": {},
   "outputs": [
    {
     "name": "stdout",
     "output_type": "stream",
     "text": [
      "Loaded: encoder_conv_blocks.0.0.weight\n",
      "Loaded: encoder_conv_blocks.0.0.bias\n",
      "Loaded: encoder_conv_blocks.0.2.weight\n",
      "Loaded: encoder_conv_blocks.0.2.bias\n",
      "Loaded: encoder_conv_blocks.0.2.running_mean\n",
      "Loaded: encoder_conv_blocks.0.2.running_var\n",
      "Loaded: encoder_conv_blocks.0.2.num_batches_tracked\n",
      "Loaded: encoder_conv_blocks.0.4.weight\n",
      "Loaded: encoder_conv_blocks.0.4.bias\n",
      "Loaded: encoder_conv_blocks.0.6.weight\n",
      "Loaded: encoder_conv_blocks.0.6.bias\n",
      "Loaded: encoder_conv_blocks.0.6.running_mean\n",
      "Loaded: encoder_conv_blocks.0.6.running_var\n",
      "Loaded: encoder_conv_blocks.0.6.num_batches_tracked\n",
      "Loaded: encoder_conv_blocks.1.0.weight\n",
      "Loaded: encoder_conv_blocks.1.0.bias\n",
      "Loaded: encoder_conv_blocks.1.2.weight\n",
      "Loaded: encoder_conv_blocks.1.2.bias\n",
      "Loaded: encoder_conv_blocks.1.2.running_mean\n",
      "Loaded: encoder_conv_blocks.1.2.running_var\n",
      "Loaded: encoder_conv_blocks.1.2.num_batches_tracked\n",
      "Loaded: encoder_conv_blocks.1.4.weight\n",
      "Loaded: encoder_conv_blocks.1.4.bias\n",
      "Loaded: encoder_conv_blocks.1.6.weight\n",
      "Loaded: encoder_conv_blocks.1.6.bias\n",
      "Loaded: encoder_conv_blocks.1.6.running_mean\n",
      "Loaded: encoder_conv_blocks.1.6.running_var\n",
      "Loaded: encoder_conv_blocks.1.6.num_batches_tracked\n",
      "Loaded: encoder_conv_blocks.2.0.weight\n",
      "Loaded: encoder_conv_blocks.2.0.bias\n",
      "Loaded: encoder_conv_blocks.2.2.weight\n",
      "Loaded: encoder_conv_blocks.2.2.bias\n",
      "Loaded: encoder_conv_blocks.2.2.running_mean\n",
      "Loaded: encoder_conv_blocks.2.2.running_var\n",
      "Loaded: encoder_conv_blocks.2.2.num_batches_tracked\n",
      "Loaded: encoder_conv_blocks.2.4.weight\n",
      "Loaded: encoder_conv_blocks.2.4.bias\n",
      "Loaded: encoder_conv_blocks.2.6.weight\n",
      "Loaded: encoder_conv_blocks.2.6.bias\n",
      "Loaded: encoder_conv_blocks.2.6.running_mean\n",
      "Loaded: encoder_conv_blocks.2.6.running_var\n",
      "Loaded: encoder_conv_blocks.2.6.num_batches_tracked\n",
      "Loaded: encoder_conv_blocks.3.0.weight\n",
      "Loaded: encoder_conv_blocks.3.0.bias\n",
      "Loaded: encoder_conv_blocks.3.2.weight\n",
      "Loaded: encoder_conv_blocks.3.2.bias\n",
      "Loaded: encoder_conv_blocks.3.2.running_mean\n",
      "Loaded: encoder_conv_blocks.3.2.running_var\n",
      "Loaded: encoder_conv_blocks.3.2.num_batches_tracked\n",
      "Loaded: encoder_conv_blocks.3.4.weight\n",
      "Loaded: encoder_conv_blocks.3.4.bias\n",
      "Loaded: encoder_conv_blocks.3.6.weight\n",
      "Loaded: encoder_conv_blocks.3.6.bias\n",
      "Loaded: encoder_conv_blocks.3.6.running_mean\n",
      "Loaded: encoder_conv_blocks.3.6.running_var\n",
      "Loaded: encoder_conv_blocks.3.6.num_batches_tracked\n",
      "Loaded: encoder_conv_blocks.4.0.weight\n",
      "Loaded: encoder_conv_blocks.4.0.bias\n",
      "Loaded: encoder_conv_blocks.4.2.weight\n",
      "Loaded: encoder_conv_blocks.4.2.bias\n",
      "Loaded: encoder_conv_blocks.4.2.running_mean\n",
      "Loaded: encoder_conv_blocks.4.2.running_var\n",
      "Loaded: encoder_conv_blocks.4.2.num_batches_tracked\n",
      "Loaded: encoder_conv_blocks.4.4.weight\n",
      "Loaded: encoder_conv_blocks.4.4.bias\n",
      "Loaded: encoder_conv_blocks.4.6.weight\n",
      "Loaded: encoder_conv_blocks.4.6.bias\n",
      "Loaded: encoder_conv_blocks.4.6.running_mean\n",
      "Loaded: encoder_conv_blocks.4.6.running_var\n",
      "Loaded: encoder_conv_blocks.4.6.num_batches_tracked\n",
      "Loaded: fully_connected_blocks.0.0.weight\n",
      "Loaded: fully_connected_blocks.0.0.bias\n",
      "Loaded: fully_connected_blocks.1.0.weight\n",
      "Loaded: fully_connected_blocks.1.0.bias\n",
      "==========================================================================================\n",
      "Layer (type:depth-idx)                   Output Shape              Param #\n",
      "==========================================================================================\n",
      "AllCNN2D                                 [1, 44]                   --\n",
      "├─ModuleList: 1-1                        --                        --\n",
      "│    └─Sequential: 2-1                   [1, 16, 32, 32]           --\n",
      "│    │    └─Conv2d: 3-1                  [1, 16, 64, 64]           160\n",
      "│    │    └─Dropout2d: 3-2               [1, 16, 64, 64]           --\n",
      "│    │    └─BatchNorm2d: 3-3             [1, 16, 64, 64]           32\n",
      "│    │    └─LeakyReLU: 3-4               [1, 16, 64, 64]           --\n",
      "│    │    └─Conv2d: 3-5                  [1, 16, 32, 32]           2,320\n",
      "│    │    └─Dropout2d: 3-6               [1, 16, 32, 32]           --\n",
      "│    │    └─BatchNorm2d: 3-7             [1, 16, 32, 32]           32\n",
      "│    │    └─LeakyReLU: 3-8               [1, 16, 32, 32]           --\n",
      "│    └─Sequential: 2-2                   [1, 32, 16, 16]           --\n",
      "│    │    └─Conv2d: 3-9                  [1, 32, 32, 32]           4,640\n",
      "│    │    └─Dropout2d: 3-10              [1, 32, 32, 32]           --\n",
      "│    │    └─BatchNorm2d: 3-11            [1, 32, 32, 32]           64\n",
      "│    │    └─LeakyReLU: 3-12              [1, 32, 32, 32]           --\n",
      "│    │    └─Conv2d: 3-13                 [1, 32, 16, 16]           9,248\n",
      "│    │    └─Dropout2d: 3-14              [1, 32, 16, 16]           --\n",
      "│    │    └─BatchNorm2d: 3-15            [1, 32, 16, 16]           64\n",
      "│    │    └─LeakyReLU: 3-16              [1, 32, 16, 16]           --\n",
      "│    └─Sequential: 2-3                   [1, 32, 8, 8]             --\n",
      "│    │    └─Conv2d: 3-17                 [1, 32, 16, 16]           9,248\n",
      "│    │    └─Dropout2d: 3-18              [1, 32, 16, 16]           --\n",
      "│    │    └─BatchNorm2d: 3-19            [1, 32, 16, 16]           64\n",
      "│    │    └─LeakyReLU: 3-20              [1, 32, 16, 16]           --\n",
      "│    │    └─Conv2d: 3-21                 [1, 32, 8, 8]             9,248\n",
      "│    │    └─Dropout2d: 3-22              [1, 32, 8, 8]             --\n",
      "│    │    └─BatchNorm2d: 3-23            [1, 32, 8, 8]             64\n",
      "│    │    └─LeakyReLU: 3-24              [1, 32, 8, 8]             --\n",
      "│    └─Sequential: 2-4                   [1, 32, 4, 4]             --\n",
      "│    │    └─Conv2d: 3-25                 [1, 32, 8, 8]             9,248\n",
      "│    │    └─Dropout2d: 3-26              [1, 32, 8, 8]             --\n",
      "│    │    └─BatchNorm2d: 3-27            [1, 32, 8, 8]             64\n",
      "│    │    └─LeakyReLU: 3-28              [1, 32, 8, 8]             --\n",
      "│    │    └─Conv2d: 3-29                 [1, 32, 4, 4]             9,248\n",
      "│    │    └─Dropout2d: 3-30              [1, 32, 4, 4]             --\n",
      "│    │    └─BatchNorm2d: 3-31            [1, 32, 4, 4]             64\n",
      "│    │    └─LeakyReLU: 3-32              [1, 32, 4, 4]             --\n",
      "│    └─Sequential: 2-5                   [1, 32, 2, 2]             --\n",
      "│    │    └─Conv2d: 3-33                 [1, 32, 4, 4]             9,248\n",
      "│    │    └─Dropout2d: 3-34              [1, 32, 4, 4]             --\n",
      "│    │    └─BatchNorm2d: 3-35            [1, 32, 4, 4]             64\n",
      "│    │    └─LeakyReLU: 3-36              [1, 32, 4, 4]             --\n",
      "│    │    └─Conv2d: 3-37                 [1, 32, 2, 2]             9,248\n",
      "│    │    └─Dropout2d: 3-38              [1, 32, 2, 2]             --\n",
      "│    │    └─BatchNorm2d: 3-39            [1, 32, 2, 2]             64\n",
      "│    │    └─LeakyReLU: 3-40              [1, 32, 2, 2]             --\n",
      "├─Sequential: 1-2                        [1, 128]                  --\n",
      "│    └─Flatten: 2-6                      [1, 128]                  --\n",
      "├─ModuleList: 1-3                        --                        --\n",
      "│    └─Sequential: 2-7                   [1, 64]                   --\n",
      "│    │    └─Linear: 3-41                 [1, 64]                   8,256\n",
      "│    │    └─Dropout: 3-42                [1, 64]                   --\n",
      "│    │    └─LeakyReLU: 3-43              [1, 64]                   --\n",
      "│    └─Sequential: 2-8                   [1, 44]                   --\n",
      "│    │    └─Linear: 3-44                 [1, 44]                   2,860\n",
      "==========================================================================================\n",
      "Total params: 83,548\n",
      "Trainable params: 83,548\n",
      "Non-trainable params: 0\n",
      "Total mult-adds (M): 14.05\n",
      "==========================================================================================\n",
      "Input size (MB): 0.02\n",
      "Forward/backward pass size (MB): 2.18\n",
      "Params size (MB): 0.33\n",
      "Estimated Total Size (MB): 2.53\n",
      "==========================================================================================\n"
     ]
    },
    {
     "data": {
      "text/plain": [
       "=================================================================\n",
       "Layer (type:depth-idx)                   Param #\n",
       "=================================================================\n",
       "AllCNN2D                                 --\n",
       "├─ModuleList: 1-1                        --\n",
       "│    └─Sequential: 2-1                   --\n",
       "│    │    └─Conv2d: 3-1                  160\n",
       "│    │    └─Dropout2d: 3-2               --\n",
       "│    │    └─BatchNorm2d: 3-3             32\n",
       "│    │    └─LeakyReLU: 3-4               --\n",
       "│    │    └─Conv2d: 3-5                  2,320\n",
       "│    │    └─Dropout2d: 3-6               --\n",
       "│    │    └─BatchNorm2d: 3-7             32\n",
       "│    │    └─LeakyReLU: 3-8               --\n",
       "│    └─Sequential: 2-2                   --\n",
       "│    │    └─Conv2d: 3-9                  4,640\n",
       "│    │    └─Dropout2d: 3-10              --\n",
       "│    │    └─BatchNorm2d: 3-11            64\n",
       "│    │    └─LeakyReLU: 3-12              --\n",
       "│    │    └─Conv2d: 3-13                 9,248\n",
       "│    │    └─Dropout2d: 3-14              --\n",
       "│    │    └─BatchNorm2d: 3-15            64\n",
       "│    │    └─LeakyReLU: 3-16              --\n",
       "│    └─Sequential: 2-3                   --\n",
       "│    │    └─Conv2d: 3-17                 9,248\n",
       "│    │    └─Dropout2d: 3-18              --\n",
       "│    │    └─BatchNorm2d: 3-19            64\n",
       "│    │    └─LeakyReLU: 3-20              --\n",
       "│    │    └─Conv2d: 3-21                 9,248\n",
       "│    │    └─Dropout2d: 3-22              --\n",
       "│    │    └─BatchNorm2d: 3-23            64\n",
       "│    │    └─LeakyReLU: 3-24              --\n",
       "│    └─Sequential: 2-4                   --\n",
       "│    │    └─Conv2d: 3-25                 9,248\n",
       "│    │    └─Dropout2d: 3-26              --\n",
       "│    │    └─BatchNorm2d: 3-27            64\n",
       "│    │    └─LeakyReLU: 3-28              --\n",
       "│    │    └─Conv2d: 3-29                 9,248\n",
       "│    │    └─Dropout2d: 3-30              --\n",
       "│    │    └─BatchNorm2d: 3-31            64\n",
       "│    │    └─LeakyReLU: 3-32              --\n",
       "│    └─Sequential: 2-5                   --\n",
       "│    │    └─Conv2d: 3-33                 9,248\n",
       "│    │    └─Dropout2d: 3-34              --\n",
       "│    │    └─BatchNorm2d: 3-35            64\n",
       "│    │    └─LeakyReLU: 3-36              --\n",
       "│    │    └─Conv2d: 3-37                 9,248\n",
       "│    │    └─Dropout2d: 3-38              --\n",
       "│    │    └─BatchNorm2d: 3-39            64\n",
       "│    │    └─LeakyReLU: 3-40              --\n",
       "├─ModuleList: 1-2                        --\n",
       "│    └─Sequential: 2-6                   --\n",
       "│    │    └─Linear: 3-41                 8,256\n",
       "│    │    └─Dropout: 3-42                --\n",
       "│    │    └─LeakyReLU: 3-43              --\n",
       "│    └─Sequential: 2-7                   --\n",
       "│    │    └─Linear: 3-44                 2,860\n",
       "├─Sequential: 1-3                        --\n",
       "│    └─Flatten: 2-8                      --\n",
       "=================================================================\n",
       "Total params: 83,548\n",
       "Trainable params: 83,548\n",
       "Non-trainable params: 0\n",
       "================================================================="
      ]
     },
     "execution_count": 55,
     "metadata": {},
     "output_type": "execute_result"
    }
   ],
   "source": [
    "\n",
    "\n",
    "\n",
    "cnn_model: nn.Module = AllCNN2D(\n",
    "    **{\n",
    "        \"conv_features\": (1, 16, 32, 32, 32, 32),\n",
    "        \"fully_connected_features\": (64, 44),\n",
    "        \"expected_input_size\": (64, 64),\n",
    "        \"device\": \"cuda\",\n",
    "        \"conv_dropout\": 0.075,\n",
    "        \"verbose\": True,\n",
    "        \"name_prefix\": MODEL_NAME,\n",
    "        \"checkpoint_path\": LOAD_CHECKPOINT\n",
    "    }\n",
    ")\n",
    "\n",
    "\n",
    "# List of layers to remove\n",
    "layers_to_remove = [\n",
    "    'fully_connected_blocks.0.0.weight',\n",
    "    'fully_connected_blocks.0.0.bias',\n",
    "    'fully_connected_blocks.1.0.weight',\n",
    "    'fully_connected_blocks.1.0.bias'\n",
    "]\n",
    "\n",
    "# Reconstruct the fully_connected_blocks without the removed layers\n",
    "new_fully_connected_blocks = nn.ModuleList()\n",
    "\n",
    "for block in cnn_model.fully_connected_blocks:\n",
    "    new_block = nn.Sequential()\n",
    "    for layer in block:\n",
    "        # Skip layers that were removed\n",
    "        if not any(layer_name in str(layer) for layer_name in layers_to_remove):\n",
    "            new_block.append(layer)\n",
    "    new_fully_connected_blocks.append(new_block)\n",
    "\n",
    "# Replace the old fully_connected_blocks with the new one\n",
    "cnn_model.fully_connected_blocks = new_fully_connected_blocks\n",
    "\n",
    "for name, param in cnn_model.named_parameters():\n",
    "    param.requires_grad = False\n",
    "\n",
    "summary(cnn_model)\n",
    "\n"
   ]
  },
  {
   "cell_type": "markdown",
   "metadata": {},
   "source": [
    "# Create RNN CNN"
   ]
  },
  {
   "cell_type": "code",
   "execution_count": 61,
   "metadata": {},
   "outputs": [
    {
     "data": {
      "text/plain": [
       "=================================================================\n",
       "Layer (type:depth-idx)                   Param #\n",
       "=================================================================\n",
       "CNNRNNModel                              --\n",
       "├─AllCNN2D: 1-1                          --\n",
       "│    └─ModuleList: 2-1                   --\n",
       "│    │    └─Sequential: 3-1              (2,544)\n",
       "│    │    └─Sequential: 3-2              (14,016)\n",
       "│    │    └─Sequential: 3-3              (18,624)\n",
       "│    │    └─Sequential: 3-4              (18,624)\n",
       "│    │    └─Sequential: 3-5              (18,624)\n",
       "│    └─ModuleList: 2-2                   --\n",
       "│    │    └─Sequential: 3-6              (8,256)\n",
       "│    │    └─Sequential: 3-7              (2,860)\n",
       "│    └─Sequential: 2-3                   --\n",
       "│    │    └─Flatten: 3-8                 --\n",
       "├─RNN: 1-2                               66,048\n",
       "├─Linear: 1-3                            5,031\n",
       "=================================================================\n",
       "Total params: 154,627\n",
       "Trainable params: 71,079\n",
       "Non-trainable params: 83,548\n",
       "================================================================="
      ]
     },
     "execution_count": 61,
     "metadata": {},
     "output_type": "execute_result"
    }
   ],
   "source": [
    "rnn_cnn: CNNRNNModel = CNNRNNModel(\n",
    "    cnn_encoder=cnn_model,\n",
    "    rnn_type=\"rnn\",\n",
    "    num_classes=len(all_label_classes)\n",
    ")\n",
    "\n",
    "summary(rnn_cnn)"
   ]
  },
  {
   "cell_type": "markdown",
   "metadata": {},
   "source": [
    "# Create Optimiser"
   ]
  },
  {
   "cell_type": "code",
   "execution_count": 59,
   "metadata": {},
   "outputs": [
    {
     "ename": "TypeError",
     "evalue": "AdamW.__init__() missing 1 required positional argument: 'params'",
     "output_type": "error",
     "traceback": [
      "\u001b[1;31m---------------------------------------------------------------------------\u001b[0m",
      "\u001b[1;31mTypeError\u001b[0m                                 Traceback (most recent call last)",
      "Cell \u001b[1;32mIn[59], line 8\u001b[0m\n\u001b[0;32m      1\u001b[0m all_optim_parameters: \u001b[38;5;28mlist\u001b[39m[\u001b[38;5;28mdict\u001b[39m[\u001b[38;5;28mstr\u001b[39m, Any]] \u001b[38;5;241m=\u001b[39m [\n\u001b[0;32m      2\u001b[0m     {\n\u001b[0;32m      3\u001b[0m         \u001b[38;5;124m\"\u001b[39m\u001b[38;5;124mlr\u001b[39m\u001b[38;5;124m\"\u001b[39m: \u001b[38;5;241m0.0007224\u001b[39m,\n\u001b[0;32m      4\u001b[0m         \u001b[38;5;124m\"\u001b[39m\u001b[38;5;124mweight_decay\u001b[39m\u001b[38;5;124m\"\u001b[39m: \u001b[38;5;241m0.000001\u001b[39m\n\u001b[0;32m      5\u001b[0m     }\n\u001b[0;32m      6\u001b[0m ]\n\u001b[1;32m----> 8\u001b[0m optim: AdamW \u001b[38;5;241m=\u001b[39m \u001b[43mAdamW\u001b[49m\u001b[43m(\u001b[49m\u001b[43m)\u001b[49m\n",
      "\u001b[1;31mTypeError\u001b[0m: AdamW.__init__() missing 1 required positional argument: 'params'"
     ]
    }
   ],
   "source": [
    "all_optim_parameters: list[dict[str, Any]] = [\n",
    "    {\n",
    "        \"lr\": 0.0007224,\n",
    "        \"weight_decay\": 0.000001\n",
    "    }\n",
    "]\n",
    "\n",
    "optim: AdamW = AdamW()"
   ]
  },
  {
   "cell_type": "markdown",
   "metadata": {},
   "source": [
    "# Train"
   ]
  },
  {
   "cell_type": "code",
   "execution_count": 51,
   "metadata": {},
   "outputs": [],
   "source": [
    "\n",
    "\n",
    "for X, y in train_dataloader:\n",
    "    pass"
   ]
  },
  {
   "cell_type": "markdown",
   "metadata": {},
   "source": [
    "# Inference"
   ]
  },
  {
   "cell_type": "code",
   "execution_count": 54,
   "metadata": {},
   "outputs": [
    {
     "name": "stdout",
     "output_type": "stream",
     "text": [
      "==========================================================================================\n",
      "Layer (type:depth-idx)                   Output Shape              Param #\n",
      "==========================================================================================\n",
      "AllCNN2D                                 [1, 44]                   --\n",
      "├─ModuleList: 1-1                        --                        --\n",
      "│    └─Sequential: 2-1                   [1, 16, 32, 32]           --\n",
      "│    │    └─Conv2d: 3-1                  [1, 16, 64, 64]           160\n",
      "│    │    └─Dropout2d: 3-2               [1, 16, 64, 64]           --\n",
      "│    │    └─BatchNorm2d: 3-3             [1, 16, 64, 64]           32\n",
      "│    │    └─LeakyReLU: 3-4               [1, 16, 64, 64]           --\n",
      "│    │    └─Conv2d: 3-5                  [1, 16, 32, 32]           2,320\n",
      "│    │    └─Dropout2d: 3-6               [1, 16, 32, 32]           --\n",
      "│    │    └─BatchNorm2d: 3-7             [1, 16, 32, 32]           32\n",
      "│    │    └─LeakyReLU: 3-8               [1, 16, 32, 32]           --\n",
      "│    └─Sequential: 2-2                   [1, 32, 16, 16]           --\n",
      "│    │    └─Conv2d: 3-9                  [1, 32, 32, 32]           4,640\n",
      "│    │    └─Dropout2d: 3-10              [1, 32, 32, 32]           --\n",
      "│    │    └─BatchNorm2d: 3-11            [1, 32, 32, 32]           64\n",
      "│    │    └─LeakyReLU: 3-12              [1, 32, 32, 32]           --\n",
      "│    │    └─Conv2d: 3-13                 [1, 32, 16, 16]           9,248\n",
      "│    │    └─Dropout2d: 3-14              [1, 32, 16, 16]           --\n",
      "│    │    └─BatchNorm2d: 3-15            [1, 32, 16, 16]           64\n",
      "│    │    └─LeakyReLU: 3-16              [1, 32, 16, 16]           --\n",
      "│    └─Sequential: 2-3                   [1, 32, 8, 8]             --\n",
      "│    │    └─Conv2d: 3-17                 [1, 32, 16, 16]           9,248\n",
      "│    │    └─Dropout2d: 3-18              [1, 32, 16, 16]           --\n",
      "│    │    └─BatchNorm2d: 3-19            [1, 32, 16, 16]           64\n",
      "│    │    └─LeakyReLU: 3-20              [1, 32, 16, 16]           --\n",
      "│    │    └─Conv2d: 3-21                 [1, 32, 8, 8]             9,248\n",
      "│    │    └─Dropout2d: 3-22              [1, 32, 8, 8]             --\n",
      "│    │    └─BatchNorm2d: 3-23            [1, 32, 8, 8]             64\n",
      "│    │    └─LeakyReLU: 3-24              [1, 32, 8, 8]             --\n",
      "│    └─Sequential: 2-4                   [1, 32, 4, 4]             --\n",
      "│    │    └─Conv2d: 3-25                 [1, 32, 8, 8]             9,248\n",
      "│    │    └─Dropout2d: 3-26              [1, 32, 8, 8]             --\n",
      "│    │    └─BatchNorm2d: 3-27            [1, 32, 8, 8]             64\n",
      "│    │    └─LeakyReLU: 3-28              [1, 32, 8, 8]             --\n",
      "│    │    └─Conv2d: 3-29                 [1, 32, 4, 4]             9,248\n",
      "│    │    └─Dropout2d: 3-30              [1, 32, 4, 4]             --\n",
      "│    │    └─BatchNorm2d: 3-31            [1, 32, 4, 4]             64\n",
      "│    │    └─LeakyReLU: 3-32              [1, 32, 4, 4]             --\n",
      "│    └─Sequential: 2-5                   [1, 32, 2, 2]             --\n",
      "│    │    └─Conv2d: 3-33                 [1, 32, 4, 4]             9,248\n",
      "│    │    └─Dropout2d: 3-34              [1, 32, 4, 4]             --\n",
      "│    │    └─BatchNorm2d: 3-35            [1, 32, 4, 4]             64\n",
      "│    │    └─LeakyReLU: 3-36              [1, 32, 4, 4]             --\n",
      "│    │    └─Conv2d: 3-37                 [1, 32, 2, 2]             9,248\n",
      "│    │    └─Dropout2d: 3-38              [1, 32, 2, 2]             --\n",
      "│    │    └─BatchNorm2d: 3-39            [1, 32, 2, 2]             64\n",
      "│    │    └─LeakyReLU: 3-40              [1, 32, 2, 2]             --\n",
      "├─Sequential: 1-2                        [1, 128]                  --\n",
      "│    └─Flatten: 2-6                      [1, 128]                  --\n",
      "├─ModuleList: 1-3                        --                        --\n",
      "│    └─Sequential: 2-7                   [1, 64]                   --\n",
      "│    │    └─Linear: 3-41                 [1, 64]                   8,256\n",
      "│    │    └─Dropout: 3-42                [1, 64]                   --\n",
      "│    │    └─LeakyReLU: 3-43              [1, 64]                   --\n",
      "│    └─Sequential: 2-8                   [1, 44]                   --\n",
      "│    │    └─Linear: 3-44                 [1, 44]                   2,860\n",
      "==========================================================================================\n",
      "Total params: 83,548\n",
      "Trainable params: 83,548\n",
      "Non-trainable params: 0\n",
      "Total mult-adds (M): 14.05\n",
      "==========================================================================================\n",
      "Input size (MB): 0.02\n",
      "Forward/backward pass size (MB): 2.18\n",
      "Params size (MB): 0.33\n",
      "Estimated Total Size (MB): 2.53\n",
      "==========================================================================================\n"
     ]
    },
    {
     "data": {
      "text/plain": [
       "=================================================================\n",
       "Layer (type:depth-idx)                   Param #\n",
       "=================================================================\n",
       "AllCNN2D                                 --\n",
       "├─ModuleList: 1-1                        --\n",
       "│    └─Sequential: 2-1                   --\n",
       "│    │    └─Conv2d: 3-1                  160\n",
       "│    │    └─Dropout2d: 3-2               --\n",
       "│    │    └─BatchNorm2d: 3-3             32\n",
       "│    │    └─LeakyReLU: 3-4               --\n",
       "│    │    └─Conv2d: 3-5                  2,320\n",
       "│    │    └─Dropout2d: 3-6               --\n",
       "│    │    └─BatchNorm2d: 3-7             32\n",
       "│    │    └─LeakyReLU: 3-8               --\n",
       "│    └─Sequential: 2-2                   --\n",
       "│    │    └─Conv2d: 3-9                  4,640\n",
       "│    │    └─Dropout2d: 3-10              --\n",
       "│    │    └─BatchNorm2d: 3-11            64\n",
       "│    │    └─LeakyReLU: 3-12              --\n",
       "│    │    └─Conv2d: 3-13                 9,248\n",
       "│    │    └─Dropout2d: 3-14              --\n",
       "│    │    └─BatchNorm2d: 3-15            64\n",
       "│    │    └─LeakyReLU: 3-16              --\n",
       "│    └─Sequential: 2-3                   --\n",
       "│    │    └─Conv2d: 3-17                 9,248\n",
       "│    │    └─Dropout2d: 3-18              --\n",
       "│    │    └─BatchNorm2d: 3-19            64\n",
       "│    │    └─LeakyReLU: 3-20              --\n",
       "│    │    └─Conv2d: 3-21                 9,248\n",
       "│    │    └─Dropout2d: 3-22              --\n",
       "│    │    └─BatchNorm2d: 3-23            64\n",
       "│    │    └─LeakyReLU: 3-24              --\n",
       "│    └─Sequential: 2-4                   --\n",
       "│    │    └─Conv2d: 3-25                 9,248\n",
       "│    │    └─Dropout2d: 3-26              --\n",
       "│    │    └─BatchNorm2d: 3-27            64\n",
       "│    │    └─LeakyReLU: 3-28              --\n",
       "│    │    └─Conv2d: 3-29                 9,248\n",
       "│    │    └─Dropout2d: 3-30              --\n",
       "│    │    └─BatchNorm2d: 3-31            64\n",
       "│    │    └─LeakyReLU: 3-32              --\n",
       "│    └─Sequential: 2-5                   --\n",
       "│    │    └─Conv2d: 3-33                 9,248\n",
       "│    │    └─Dropout2d: 3-34              --\n",
       "│    │    └─BatchNorm2d: 3-35            64\n",
       "│    │    └─LeakyReLU: 3-36              --\n",
       "│    │    └─Conv2d: 3-37                 9,248\n",
       "│    │    └─Dropout2d: 3-38              --\n",
       "│    │    └─BatchNorm2d: 3-39            64\n",
       "│    │    └─LeakyReLU: 3-40              --\n",
       "├─ModuleList: 1-2                        --\n",
       "│    └─Sequential: 2-6                   --\n",
       "│    │    └─Linear: 3-41                 8,256\n",
       "│    │    └─Dropout: 3-42                --\n",
       "│    │    └─LeakyReLU: 3-43              --\n",
       "│    └─Sequential: 2-7                   --\n",
       "│    │    └─Linear: 3-44                 2,860\n",
       "├─Sequential: 1-3                        --\n",
       "│    └─Flatten: 2-8                      --\n",
       "=================================================================\n",
       "Total params: 83,548\n",
       "Trainable params: 83,548\n",
       "Non-trainable params: 0\n",
       "================================================================="
      ]
     },
     "execution_count": 54,
     "metadata": {},
     "output_type": "execute_result"
    }
   ],
   "source": [
    "cnn_model: AllCNN2D = AllCNN2D(\n",
    "    **{\n",
    "        \"conv_features\": (1, 16, 32, 32, 32, 32),\n",
    "        \"fully_connected_features\": (64, 44),\n",
    "        \"expected_input_size\": (64, 64),\n",
    "        \"device\": \"cuda\",\n",
    "        \"conv_dropout\": 0.0,#0.075,\n",
    "        \"verbose\": True,\n",
    "        \"name_prefix\": MODEL_NAME,\n",
    "        \"checkpoint_path\": r\"C:\\Users\\Leon\\visual-studio\\repos\\Le-o-n\\ocr-model-training\\models\\allcnn\\Indigo_epoch26_trainacc0.71327_valacc0.99057_Tloss0.072851_Vloss0.0056362_lr0.0007224999999999999.pkl\"\n",
    "    }\n",
    ")"
   ]
  },
  {
   "cell_type": "code",
   "execution_count": null,
   "metadata": {},
   "outputs": [],
   "source": [
    "rnncnn_model = CNNRNNModel(\n",
    "    cnn_encoder=\n",
    ")"
   ]
  },
  {
   "cell_type": "code",
   "execution_count": null,
   "metadata": {},
   "outputs": [
    {
     "ename": "TypeError",
     "evalue": "pad() got an unexpected keyword argument 'mode'",
     "output_type": "error",
     "traceback": [
      "\u001b[1;31m---------------------------------------------------------------------------\u001b[0m",
      "\u001b[1;31mTypeError\u001b[0m                                 Traceback (most recent call last)",
      "Cell \u001b[1;32mIn[20], line 1\u001b[0m\n\u001b[1;32m----> 1\u001b[0m \u001b[38;5;28;01mfor\u001b[39;00m char, label \u001b[38;5;129;01min\u001b[39;00m val_char_dataset:\n\u001b[0;32m      2\u001b[0m     plt\u001b[38;5;241m.\u001b[39mimshow(char[\u001b[38;5;241m0\u001b[39m, :, :])\n\u001b[0;32m      3\u001b[0m     plt\u001b[38;5;241m.\u001b[39mshow()\n",
      "File \u001b[1;32mc:\\Users\\Leon\\visual-studio\\repos\\Le-o-n\\ocr-model-training\\src\\cnn\\dataset\\character_dataset.py:100\u001b[0m, in \u001b[0;36mCharImageDataset.__getitem__\u001b[1;34m(self, index)\u001b[0m\n\u001b[0;32m     97\u001b[0m image \u001b[38;5;241m=\u001b[39m reduce(image, \u001b[38;5;124m\"\u001b[39m\u001b[38;5;124mc h w -> 1 h w\u001b[39m\u001b[38;5;124m\"\u001b[39m, \u001b[38;5;124m\"\u001b[39m\u001b[38;5;124mmax\u001b[39m\u001b[38;5;124m\"\u001b[39m)\n\u001b[0;32m     99\u001b[0m \u001b[38;5;66;03m# Apply random transformations\u001b[39;00m\n\u001b[1;32m--> 100\u001b[0m image \u001b[38;5;241m=\u001b[39m \u001b[38;5;28;43mself\u001b[39;49m\u001b[38;5;241;43m.\u001b[39;49m\u001b[43m_apply_random_transformations\u001b[49m\u001b[43m(\u001b[49m\n\u001b[0;32m    101\u001b[0m \u001b[43m    \u001b[49m\u001b[43mimage\u001b[49m\n\u001b[0;32m    102\u001b[0m \u001b[43m\u001b[49m\u001b[43m)\u001b[49m\n\u001b[0;32m    104\u001b[0m \u001b[38;5;66;03m# One-hot encode the label\u001b[39;00m\n\u001b[0;32m    105\u001b[0m one_hot_label \u001b[38;5;241m=\u001b[39m torch\u001b[38;5;241m.\u001b[39mzeros(\n\u001b[0;32m    106\u001b[0m     \u001b[38;5;28mlen\u001b[39m(\u001b[38;5;28mself\u001b[39m\u001b[38;5;241m.\u001b[39mlabels_set),\n\u001b[0;32m    107\u001b[0m     dtype\u001b[38;5;241m=\u001b[39mtorch\u001b[38;5;241m.\u001b[39mfloat32\n\u001b[0;32m    108\u001b[0m )\n",
      "File \u001b[1;32mc:\\Users\\Leon\\visual-studio\\repos\\Le-o-n\\ocr-model-training\\src\\cnn\\dataset\\character_dataset.py:128\u001b[0m, in \u001b[0;36mCharImageDataset._apply_random_transformations\u001b[1;34m(self, image)\u001b[0m\n\u001b[0;32m    126\u001b[0m \u001b[38;5;66;03m# Pad the image to prevent cropping during transformations\u001b[39;00m\n\u001b[0;32m    127\u001b[0m pad_size \u001b[38;5;241m=\u001b[39m \u001b[38;5;28mint\u001b[39m(\u001b[38;5;28mmax\u001b[39m(image\u001b[38;5;241m.\u001b[39mshape[\u001b[38;5;241m1\u001b[39m], image\u001b[38;5;241m.\u001b[39mshape[\u001b[38;5;241m2\u001b[39m]) \u001b[38;5;241m*\u001b[39m \u001b[38;5;241m0.5\u001b[39m)  \u001b[38;5;66;03m# Adjust padding size as needed\u001b[39;00m\n\u001b[1;32m--> 128\u001b[0m image \u001b[38;5;241m=\u001b[39m \u001b[43mF\u001b[49m\u001b[38;5;241;43m.\u001b[39;49m\u001b[43mpad\u001b[49m\u001b[43m(\u001b[49m\u001b[43mimage\u001b[49m\u001b[43m,\u001b[49m\u001b[43m \u001b[49m\u001b[43m(\u001b[49m\u001b[43mpad_size\u001b[49m\u001b[43m,\u001b[49m\u001b[43m \u001b[49m\u001b[43mpad_size\u001b[49m\u001b[43m,\u001b[49m\u001b[43m \u001b[49m\u001b[43mpad_size\u001b[49m\u001b[43m,\u001b[49m\u001b[43m \u001b[49m\u001b[43mpad_size\u001b[49m\u001b[43m)\u001b[49m\u001b[43m,\u001b[49m\u001b[43m \u001b[49m\u001b[43mmode\u001b[49m\u001b[38;5;241;43m=\u001b[39;49m\u001b[38;5;124;43m'\u001b[39;49m\u001b[38;5;124;43mconstant\u001b[39;49m\u001b[38;5;124;43m'\u001b[39;49m\u001b[43m,\u001b[49m\u001b[43m \u001b[49m\u001b[43mvalue\u001b[49m\u001b[38;5;241;43m=\u001b[39;49m\u001b[38;5;241;43m1.0\u001b[39;49m\u001b[43m)\u001b[49m\n\u001b[0;32m    130\u001b[0m \u001b[38;5;66;03m# Random rotation\u001b[39;00m\n\u001b[0;32m    131\u001b[0m rotation_angle \u001b[38;5;241m=\u001b[39m \u001b[38;5;28mself\u001b[39m\u001b[38;5;241m.\u001b[39mrandom\u001b[38;5;241m.\u001b[39muniform(\n\u001b[0;32m    132\u001b[0m     \u001b[38;5;241m-\u001b[39m\u001b[38;5;28mself\u001b[39m\u001b[38;5;241m.\u001b[39mrotation_limit \u001b[38;5;241m*\u001b[39m \u001b[38;5;241m365\u001b[39m,\n\u001b[0;32m    133\u001b[0m     \u001b[38;5;28mself\u001b[39m\u001b[38;5;241m.\u001b[39mrotation_limit \u001b[38;5;241m*\u001b[39m \u001b[38;5;241m365\u001b[39m\n\u001b[0;32m    134\u001b[0m )\n",
      "\u001b[1;31mTypeError\u001b[0m: pad() got an unexpected keyword argument 'mode'"
     ]
    }
   ],
   "source": [
    "for char, label in val_char_dataset:\n",
    "    plt.imshow(char[0, :, :])\n",
    "    plt.show()\n",
    "    pred: torch.Tensor = model.forward(char.unsqueeze(0)).squeeze()\n",
    "    pred_index: int = torch.argmax(pred).item()\n",
    "    print(chr(int(all_label_classes[pred_index][1:], base=16)))"
   ]
  }
 ],
 "metadata": {
  "kernelspec": {
   "display_name": "Python 3",
   "language": "python",
   "name": "python3"
  },
  "language_info": {
   "codemirror_mode": {
    "name": "ipython",
    "version": 3
   },
   "file_extension": ".py",
   "mimetype": "text/x-python",
   "name": "python",
   "nbconvert_exporter": "python",
   "pygments_lexer": "ipython3",
   "version": "3.10.0"
  }
 },
 "nbformat": 4,
 "nbformat_minor": 2
}
