{
 "cells": [
  {
   "cell_type": "code",
   "execution_count": 1,
   "id": "25557fee",
   "metadata": {},
   "outputs": [
    {
     "name": "stdout",
     "output_type": "stream",
     "text": [
      "Requirement already satisfied: torchviz in c:\\users\\leon\\appdata\\local\\programs\\python\\python310\\lib\\site-packages (0.0.3)Note: you may need to restart the kernel to use updated packages.\n"
     ]
    },
    {
     "name": "stderr",
     "output_type": "stream",
     "text": [
      "WARNING: Ignoring invalid distribution - (c:\\users\\leon\\appdata\\local\\programs\\python\\python310\\lib\\site-packages)\n",
      "WARNING: Ignoring invalid distribution -gui (c:\\users\\leon\\appdata\\local\\programs\\python\\python310\\lib\\site-packages)\n",
      "WARNING: Ignoring invalid distribution -mgui (c:\\users\\leon\\appdata\\local\\programs\\python\\python310\\lib\\site-packages)\n",
      "WARNING: Ignoring invalid distribution -gui (c:\\users\\leon\\appdata\\local\\programs\\python\\python310\\lib\\site-packages)\n",
      "WARNING: Ignoring invalid distribution - (c:\\users\\leon\\appdata\\local\\programs\\python\\python310\\lib\\site-packages)\n",
      "WARNING: Ignoring invalid distribution -gui (c:\\users\\leon\\appdata\\local\\programs\\python\\python310\\lib\\site-packages)\n",
      "WARNING: Ignoring invalid distribution -mgui (c:\\users\\leon\\appdata\\local\\programs\\python\\python310\\lib\\site-packages)\n",
      "WARNING: Ignoring invalid distribution -gui (c:\\users\\leon\\appdata\\local\\programs\\python\\python310\\lib\\site-packages)\n",
      "WARNING: Ignoring invalid distribution - (c:\\users\\leon\\appdata\\local\\programs\\python\\python310\\lib\\site-packages)\n",
      "WARNING: Ignoring invalid distribution -gui (c:\\users\\leon\\appdata\\local\\programs\\python\\python310\\lib\\site-packages)\n",
      "WARNING: Ignoring invalid distribution -mgui (c:\\users\\leon\\appdata\\local\\programs\\python\\python310\\lib\\site-packages)\n",
      "WARNING: Ignoring invalid distribution -gui (c:\\users\\leon\\appdata\\local\\programs\\python\\python310\\lib\\site-packages)\n",
      "\n",
      "[notice] A new release of pip is available: 24.3.1 -> 25.0.1\n",
      "[notice] To update, run: python.exe -m pip install --upgrade pip\n"
     ]
    },
    {
     "name": "stdout",
     "output_type": "stream",
     "text": [
      "\n",
      "Requirement already satisfied: netron in c:\\users\\leon\\appdata\\local\\programs\\python\\python310\\lib\\site-packages (8.2.2)\n",
      "Requirement already satisfied: torch in c:\\users\\leon\\appdata\\local\\programs\\python\\python310\\lib\\site-packages (from torchviz) (2.6.0+cu118)\n",
      "Requirement already satisfied: graphviz in c:\\users\\leon\\appdata\\local\\programs\\python\\python310\\lib\\site-packages (from torchviz) (0.20.3)\n",
      "Requirement already satisfied: filelock in c:\\users\\leon\\appdata\\local\\programs\\python\\python310\\lib\\site-packages (from torch->torchviz) (3.15.4)\n",
      "Requirement already satisfied: typing-extensions>=4.10.0 in c:\\users\\leon\\appdata\\local\\programs\\python\\python310\\lib\\site-packages (from torch->torchviz) (4.12.2)\n",
      "Requirement already satisfied: networkx in c:\\users\\leon\\appdata\\local\\programs\\python\\python310\\lib\\site-packages (from torch->torchviz) (3.0)\n",
      "Requirement already satisfied: jinja2 in c:\\users\\leon\\appdata\\local\\programs\\python\\python310\\lib\\site-packages (from torch->torchviz) (3.1.2)\n",
      "Requirement already satisfied: fsspec in c:\\users\\leon\\appdata\\local\\programs\\python\\python310\\lib\\site-packages (from torch->torchviz) (2024.9.0)\n",
      "Requirement already satisfied: sympy==1.13.1 in c:\\users\\leon\\appdata\\local\\programs\\python\\python310\\lib\\site-packages (from torch->torchviz) (1.13.1)\n",
      "Requirement already satisfied: mpmath<1.4,>=1.1.0 in c:\\users\\leon\\appdata\\local\\programs\\python\\python310\\lib\\site-packages (from sympy==1.13.1->torch->torchviz) (1.3.0)\n",
      "Requirement already satisfied: MarkupSafe>=2.0 in c:\\users\\leon\\appdata\\local\\programs\\python\\python310\\lib\\site-packages (from jinja2->torch->torchviz) (2.1.3)\n"
     ]
    }
   ],
   "source": [
    "%pip install torchviz netron\n"
   ]
  },
  {
   "cell_type": "code",
   "execution_count": 3,
   "id": "714778ba",
   "metadata": {},
   "outputs": [],
   "source": [
    "from torchviz import make_dot\n",
    "import torch\n",
    "import numpy as np\n",
    "import numpy.typing as npt\n"
   ]
  },
  {
   "cell_type": "code",
   "execution_count": 4,
   "id": "5f251807",
   "metadata": {},
   "outputs": [],
   "source": [
    "from allcnn2d import AllCNN2D"
   ]
  },
  {
   "cell_type": "code",
   "execution_count": null,
   "id": "7a420d93",
   "metadata": {},
   "outputs": [],
   "source": [
    "import torch\n",
    "import torch.nn as nn\n",
    "\n",
    "class FakeDropout(nn.Module):\n",
    "    def __init__(self, name=\"dropout\"):\n",
    "        super().__init__()\n",
    "        self.name = name\n",
    "    def forward(self, x):\n",
    "        return  x\n",
    "\n",
    "class SimpleCNN(nn.Module):\n",
    "    def __init__(self, in_features=3, out_features=16):\n",
    "        super().__init__()\n",
    "        self.model = nn.Sequential(\n",
    "            nn.Conv2d(in_features, out_features, kernel_size=3, padding=1),\n",
    "            FakeDropout(\"Dropout2d(p=0.25)\"),\n",
    "            nn.BatchNorm2d(out_features),\n",
    "            nn.LeakyReLU(0.1, inplace=True),\n",
    "            nn.Conv2d(out_features, out_features, kernel_size=3, stride=2, padding=1),\n",
    "            FakeDropout(\"Dropout2d(p=0.25)\"),\n",
    "            nn.BatchNorm2d(out_features),\n",
    "            nn.LeakyReLU(0.05)\n",
    "        )\n",
    "\n",
    "    def forward(self, x):\n",
    "        return self.model(x)\n",
    "\n",
    "# Instantiate and export\n",
    "model = SimpleCNN()\n",
    "dummy_input = torch.randn(2, 3, 64, 64)\n",
    "torch.onnx.export(\n",
    "    model, \n",
    "    dummy_input, \n",
    "    \"conv_block.onnx\",\n",
    "    training=torch.onnx.TrainingMode.TRAINING,\n",
    "    opset_version=11\n",
    ")\n",
    "\n"
   ]
  }
 ],
 "metadata": {
  "kernelspec": {
   "display_name": "Python 3",
   "language": "python",
   "name": "python3"
  },
  "language_info": {
   "codemirror_mode": {
    "name": "ipython",
    "version": 3
   },
   "file_extension": ".py",
   "mimetype": "text/x-python",
   "name": "python",
   "nbconvert_exporter": "python",
   "pygments_lexer": "ipython3",
   "version": "3.10.0"
  }
 },
 "nbformat": 4,
 "nbformat_minor": 5
}
