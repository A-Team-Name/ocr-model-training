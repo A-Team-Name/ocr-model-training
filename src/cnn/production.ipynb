{
 "cells": [
  {
   "cell_type": "code",
   "execution_count": 20,
   "metadata": {},
   "outputs": [],
   "source": [
    "\n",
    "import torch\n",
    "import numpy as np\n",
    "import matplotlib.pyplot as plt\n",
    "import os\n",
    "from einops import rearrange\n",
    "from torch.utils.data import DataLoader\n",
    "from torch.optim import AdamW\n",
    "from torch import nn\n",
    "from typing import Any\n",
    "import glob\n",
    "import re\n",
    "from datetime import datetime\n",
    "import random\n",
    "from collections import defaultdict\n",
    "import numpy as np\n",
    "import onnxruntime\n",
    "\n",
    "import cv2\n",
    "\n",
    "random.seed(42)"
   ]
  },
  {
   "cell_type": "code",
   "execution_count": 21,
   "metadata": {},
   "outputs": [],
   "source": [
    "from models.allcnn2d import AllCNN2D, AllCNN2D_Prod\n",
    "from drawing.interactive import draw_image"
   ]
  },
  {
   "cell_type": "markdown",
   "metadata": {},
   "source": [
    "# Global"
   ]
  },
  {
   "cell_type": "code",
   "execution_count": 22,
   "metadata": {},
   "outputs": [],
   "source": [
    "DEVICE: str = \"cuda\" if torch.cuda.is_available() else \"cpu\""
   ]
  },
  {
   "cell_type": "markdown",
   "metadata": {},
   "source": [
    "# Paths"
   ]
  },
  {
   "cell_type": "code",
   "execution_count": 23,
   "metadata": {},
   "outputs": [],
   "source": [
    "file_path: str = os.path.abspath(\".\")\n",
    "root_path: str = os.path.join(file_path, os.pardir, os.pardir)\n",
    "checkpoint_path: str = os.path.join(\n",
    "    root_path, \n",
    "    \"checkpoints\", \n",
    "    \"GeckoFull_epoch1980_trainacc0.90605_valacc0.98089_Tloss0.78068_Vloss0.20101_lr6.320194197753456e-11.pkl\"\n",
    ")\n"
   ]
  },
  {
   "cell_type": "markdown",
   "metadata": {},
   "source": [
    "# Load Model"
   ]
  },
  {
   "cell_type": "code",
   "execution_count": 24,
   "metadata": {},
   "outputs": [
    {
     "name": "stdout",
     "output_type": "stream",
     "text": [
      "==========================================================================================\n",
      "Layer (type:depth-idx)                   Output Shape              Param #\n",
      "==========================================================================================\n",
      "AllCNN2D_Prod                            [1, 44]                   --\n",
      "├─ModuleList: 1-1                        --                        --\n",
      "│    └─Sequential: 2-1                   [1, 16, 32, 32]           --\n",
      "│    │    └─Conv2d: 3-1                  [1, 16, 64, 64]           160\n",
      "│    │    └─Dropout2d: 3-2               [1, 16, 64, 64]           --\n",
      "│    │    └─BatchNorm2d: 3-3             [1, 16, 64, 64]           32\n",
      "│    │    └─LeakyReLU: 3-4               [1, 16, 64, 64]           --\n",
      "│    │    └─Conv2d: 3-5                  [1, 16, 32, 32]           2,320\n",
      "│    │    └─Dropout2d: 3-6               [1, 16, 32, 32]           --\n",
      "│    │    └─BatchNorm2d: 3-7             [1, 16, 32, 32]           32\n",
      "│    │    └─LeakyReLU: 3-8               [1, 16, 32, 32]           --\n",
      "│    └─Sequential: 2-2                   [1, 32, 16, 16]           --\n",
      "│    │    └─Conv2d: 3-9                  [1, 32, 32, 32]           4,640\n",
      "│    │    └─Dropout2d: 3-10              [1, 32, 32, 32]           --\n",
      "│    │    └─BatchNorm2d: 3-11            [1, 32, 32, 32]           64\n",
      "│    │    └─LeakyReLU: 3-12              [1, 32, 32, 32]           --\n",
      "│    │    └─Conv2d: 3-13                 [1, 32, 16, 16]           9,248\n",
      "│    │    └─Dropout2d: 3-14              [1, 32, 16, 16]           --\n",
      "│    │    └─BatchNorm2d: 3-15            [1, 32, 16, 16]           64\n",
      "│    │    └─LeakyReLU: 3-16              [1, 32, 16, 16]           --\n",
      "│    └─Sequential: 2-3                   [1, 32, 8, 8]             --\n",
      "│    │    └─Conv2d: 3-17                 [1, 32, 16, 16]           9,248\n",
      "│    │    └─Dropout2d: 3-18              [1, 32, 16, 16]           --\n",
      "│    │    └─BatchNorm2d: 3-19            [1, 32, 16, 16]           64\n",
      "│    │    └─LeakyReLU: 3-20              [1, 32, 16, 16]           --\n",
      "│    │    └─Conv2d: 3-21                 [1, 32, 8, 8]             9,248\n",
      "│    │    └─Dropout2d: 3-22              [1, 32, 8, 8]             --\n",
      "│    │    └─BatchNorm2d: 3-23            [1, 32, 8, 8]             64\n",
      "│    │    └─LeakyReLU: 3-24              [1, 32, 8, 8]             --\n",
      "│    └─Sequential: 2-4                   [1, 32, 4, 4]             --\n",
      "│    │    └─Conv2d: 3-25                 [1, 32, 8, 8]             9,248\n",
      "│    │    └─Dropout2d: 3-26              [1, 32, 8, 8]             --\n",
      "│    │    └─BatchNorm2d: 3-27            [1, 32, 8, 8]             64\n",
      "│    │    └─LeakyReLU: 3-28              [1, 32, 8, 8]             --\n",
      "│    │    └─Conv2d: 3-29                 [1, 32, 4, 4]             9,248\n",
      "│    │    └─Dropout2d: 3-30              [1, 32, 4, 4]             --\n",
      "│    │    └─BatchNorm2d: 3-31            [1, 32, 4, 4]             64\n",
      "│    │    └─LeakyReLU: 3-32              [1, 32, 4, 4]             --\n",
      "│    └─Sequential: 2-5                   [1, 32, 2, 2]             --\n",
      "│    │    └─Conv2d: 3-33                 [1, 32, 4, 4]             9,248\n",
      "│    │    └─Dropout2d: 3-34              [1, 32, 4, 4]             --\n",
      "│    │    └─BatchNorm2d: 3-35            [1, 32, 4, 4]             64\n",
      "│    │    └─LeakyReLU: 3-36              [1, 32, 4, 4]             --\n",
      "│    │    └─Conv2d: 3-37                 [1, 32, 2, 2]             9,248\n",
      "│    │    └─Dropout2d: 3-38              [1, 32, 2, 2]             --\n",
      "│    │    └─BatchNorm2d: 3-39            [1, 32, 2, 2]             64\n",
      "│    │    └─LeakyReLU: 3-40              [1, 32, 2, 2]             --\n",
      "├─Sequential: 1-2                        [1, 128]                  --\n",
      "│    └─Flatten: 2-6                      [1, 128]                  --\n",
      "├─ModuleList: 1-3                        --                        --\n",
      "│    └─Sequential: 2-7                   [1, 64]                   --\n",
      "│    │    └─Linear: 3-41                 [1, 64]                   8,256\n",
      "│    │    └─Dropout: 3-42                [1, 64]                   --\n",
      "│    │    └─LeakyReLU: 3-43              [1, 64]                   --\n",
      "│    └─Sequential: 2-8                   [1, 44]                   --\n",
      "│    │    └─Linear: 3-44                 [1, 44]                   2,860\n",
      "==========================================================================================\n",
      "Total params: 83,548\n",
      "Trainable params: 83,548\n",
      "Non-trainable params: 0\n",
      "Total mult-adds (Units.MEGABYTES): 14.05\n",
      "==========================================================================================\n",
      "Input size (MB): 0.02\n",
      "Forward/backward pass size (MB): 2.18\n",
      "Params size (MB): 0.33\n",
      "Estimated Total Size (MB): 2.53\n",
      "==========================================================================================\n"
     ]
    }
   ],
   "source": [
    "label_map: list[str] = ['(', ')', '+', '-', '.', '0', '1', '2', '3', '4', '5', '6', '7', '8', '9', 'λ', 'a', 'b', 'c', 'd', 'e', 'f', 'g', 'h', 'i', 'j', 'k', 'l', 'm', 'n', 'o', 'p', 'q', 'r', 's', 't', 'u', 'v', 'w', 'x', 'y', 'z', '×', '÷']\n",
    "\n",
    "model: AllCNN2D_Prod = AllCNN2D_Prod(\n",
    "    labels_map=label_map,\n",
    "    **{\n",
    "        \"conv_features\": (1, 16, 32, 32, 32, 32),\n",
    "        \"fully_connected_features\": (64, 44),\n",
    "        \"expected_input_size\": (64, 64),\n",
    "        \"device\": \"cpu\",\n",
    "        \"conv_dropout\": 0.0,\n",
    "        \"verbose\": True,\n",
    "        \"name_prefix\": \"GeckoFinal\",\n",
    "        #\"checkpoint_path\": checkpoint_path\n",
    "    }\n",
    "\n",
    ").eval()"
   ]
  },
  {
   "cell_type": "code",
   "execution_count": 25,
   "metadata": {},
   "outputs": [
    {
     "data": {
      "text/plain": [
       "[(0, '(', 40),\n",
       " (1, ')', 41),\n",
       " (2, '+', 43),\n",
       " (3, '-', 45),\n",
       " (4, '.', 46),\n",
       " (5, '0', 48),\n",
       " (6, '1', 49),\n",
       " (7, '2', 50),\n",
       " (8, '3', 51),\n",
       " (9, '4', 52),\n",
       " (10, '5', 53),\n",
       " (11, '6', 54),\n",
       " (12, '7', 55),\n",
       " (13, '8', 56),\n",
       " (14, '9', 57),\n",
       " (15, 'λ', 955),\n",
       " (16, 'a', 97),\n",
       " (17, 'b', 98),\n",
       " (18, 'c', 99),\n",
       " (19, 'd', 100),\n",
       " (20, 'e', 101),\n",
       " (21, 'f', 102),\n",
       " (22, 'g', 103),\n",
       " (23, 'h', 104),\n",
       " (24, 'i', 105),\n",
       " (25, 'j', 106),\n",
       " (26, 'k', 107),\n",
       " (27, 'l', 108),\n",
       " (28, 'm', 109),\n",
       " (29, 'n', 110),\n",
       " (30, 'o', 111),\n",
       " (31, 'p', 112),\n",
       " (32, 'q', 113),\n",
       " (33, 'r', 114),\n",
       " (34, 's', 115),\n",
       " (35, 't', 116),\n",
       " (36, 'u', 117),\n",
       " (37, 'v', 118),\n",
       " (38, 'w', 119),\n",
       " (39, 'x', 120),\n",
       " (40, 'y', 121),\n",
       " (41, 'z', 122),\n",
       " (42, '×', 215),\n",
       " (43, '÷', 247)]"
      ]
     },
     "execution_count": 25,
     "metadata": {},
     "output_type": "execute_result"
    }
   ],
   "source": [
    "[(i, char, ord(char)) for i, char in enumerate(label_map)]"
   ]
  },
  {
   "cell_type": "code",
   "execution_count": 26,
   "metadata": {},
   "outputs": [
    {
     "name": "stdout",
     "output_type": "stream",
     "text": [
      "Model saved to model.onnx\n"
     ]
    }
   ],
   "source": [
    "\n",
    "# Create a dummy input tensor\n",
    "dummy_input = torch.randn(1, 1, 64, 64)  # Example input\n",
    "\n",
    "# Define the ONNX file path\n",
    "onnx_file_path = \"model.onnx\"\n",
    "\n",
    "# Export the model\n",
    "torch.onnx.export(\n",
    "    model,\n",
    "    dummy_input,\n",
    "    onnx_file_path,\n",
    "    input_names=[\"input\"],  # Name of the input layer\n",
    "    output_names=[\"logits\", \"softmax\", \"softmax_ordered\"],  # Names of the output layers\n",
    "    dynamic_axes={\"input\": {0: \"batch_size\"},  # Variable batch size\n",
    "                  \"logits\": {0: \"batch_size\"},\n",
    "                  \"softmax\": {0: \"batch_size\"},\n",
    "                  \"softmax_ordered\": {0: \"batch_size\"}},\n",
    "    opset_version=11  # Specify the ONNX opset version\n",
    ")\n",
    "\n",
    "print(f\"Model saved to {onnx_file_path}\")"
   ]
  },
  {
   "cell_type": "markdown",
   "metadata": {},
   "source": [
    "# Load Onnx"
   ]
  },
  {
   "cell_type": "code",
   "execution_count": 27,
   "metadata": {},
   "outputs": [],
   "source": [
    "import onnxruntime\n",
    "import numpy as np\n",
    "\n",
    "# Load the ONNX model\n",
    "model_path = \"model.onnx\"\n",
    "session = onnxruntime.InferenceSession(model_path)\n",
    "\n",
    "input_image = np.random.random(\n",
    "    (\n",
    "        1,  # batch: stack as many images as you like here\n",
    "        1,  # channels: needs to be 1 (grayscale), pixels are 1.0 or 0.0\n",
    "        64, # height: fixed to 64 pixels for now\n",
    "        64  # width: fixed to 64 pixels for now\n",
    "    )\n",
    ").astype(np.float32)\n",
    "\n",
    "# Run inference\n",
    "inputs: list[onnxruntime.NodeArg] = session.get_inputs()\n",
    "outputs: list[onnxruntime.NodeArg] = session.get_outputs()\n",
    "\n",
    "input_name: list[str] = inputs[0].name\n",
    "output_names: list[str] = [out.name for out in outputs]\n"
   ]
  },
  {
   "cell_type": "code",
   "execution_count": 34,
   "metadata": {},
   "outputs": [],
   "source": [
    "\n",
    "softmax: np.ndarray\n",
    "softmax_ordered: np.ndarray\n",
    "logits: np.ndarray\n",
    "\n",
    "logits, softmax, softmax_ordered = session.run(\n",
    "    output_names, \n",
    "    {input_name: input_image}\n",
    ")\n",
    "\n",
    "# logits.shape is shape (batch, character) for all character labels\n",
    "# softmax.shape is shape (batch, character) for all character labels\n",
    "# softmax_ordered is shape (batch, character, [label index, label prob, unicode character value])\n",
    "\n",
    "# character dim is 44 (there are 44 character labels)\n",
    "# label index is from 0 to 44 (corresponding to each ordered label index)\n",
    "# label prob is a softmaxed probability for this label prediction\n",
    "# unicode character value is the unicode character for this prediction\n",
    "\n"
   ]
  },
  {
   "cell_type": "code",
   "execution_count": 38,
   "metadata": {},
   "outputs": [
    {
     "data": {
      "text/plain": [
       "((1, 44), (1, 44), (1, 44, 3))"
      ]
     },
     "execution_count": 38,
     "metadata": {},
     "output_type": "execute_result"
    }
   ],
   "source": [
    "logits.shape, softmax.shape, softmax_ordered.shape"
   ]
  },
  {
   "cell_type": "code",
   "execution_count": null,
   "metadata": {},
   "outputs": [],
   "source": [
    "\n",
    "\n",
    "top_character_probs: list[list[float]] = softmax_ordered[:, :, 1].tolist()\n",
    "\n",
    "top_characters: list[list[str]] = [\n",
    "    [\n",
    "        chr(int(softmax_ordered[batch_i, i, 2])) \n",
    "        for i in range(softmax_ordered.shape[1])\n",
    "    ] for batch_i in \n",
    "    range(softmax_ordered.shape[0])\n",
    "]\n"
   ]
  }
 ],
 "metadata": {
  "kernelspec": {
   "display_name": "Python 3",
   "language": "python",
   "name": "python3"
  },
  "language_info": {
   "codemirror_mode": {
    "name": "ipython",
    "version": 3
   },
   "file_extension": ".py",
   "mimetype": "text/x-python",
   "name": "python",
   "nbconvert_exporter": "python",
   "pygments_lexer": "ipython3",
   "version": "3.12.7"
  }
 },
 "nbformat": 4,
 "nbformat_minor": 2
}
