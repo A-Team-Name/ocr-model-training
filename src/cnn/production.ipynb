{
 "cells": [
  {
   "cell_type": "code",
   "execution_count": 71,
   "metadata": {},
   "outputs": [],
   "source": [
    "\n",
    "import torch\n",
    "import numpy as np\n",
    "import matplotlib.pyplot as plt\n",
    "import os\n",
    "from einops import rearrange\n",
    "from torch.utils.data import DataLoader\n",
    "from torch.optim import AdamW\n",
    "from torch import nn\n",
    "from typing import Any\n",
    "import glob\n",
    "import re\n",
    "from datetime import datetime\n",
    "import random\n",
    "from collections import defaultdict\n",
    "import numpy as np\n",
    "import onnxruntime\n",
    "import torch.nn.functional as torch_func\n",
    "from torchvision.transforms.functional import rotate, affine, resize, center_crop\n",
    "from PIL import Image\n",
    "import cv2\n",
    "\n",
    "random.seed(42)"
   ]
  },
  {
   "cell_type": "code",
   "execution_count": 72,
   "metadata": {},
   "outputs": [],
   "source": [
    "from models.allcnn2d import AllCNN2D, AllCNN2D_Prod\n",
    "from drawing.interactive import draw_image"
   ]
  },
  {
   "cell_type": "markdown",
   "metadata": {},
   "source": [
    "# Global"
   ]
  },
  {
   "cell_type": "code",
   "execution_count": 73,
   "metadata": {},
   "outputs": [],
   "source": [
    "DEVICE: str = \"cuda\" if torch.cuda.is_available() else \"cpu\""
   ]
  },
  {
   "cell_type": "markdown",
   "metadata": {},
   "source": [
    "# Paths"
   ]
  },
  {
   "cell_type": "code",
   "execution_count": 74,
   "metadata": {},
   "outputs": [],
   "source": [
    "file_path: str = os.path.abspath(\".\")\n",
    "root_path: str = os.path.join(file_path, os.pardir, os.pardir)\n",
    "checkpoint_path: str = os.path.join(\n",
    "    root_path, \n",
    "    \"checkpoints\", \n",
    "    \"GeckoFull_epoch1980_trainacc0.90605_valacc0.98089_Tloss0.78068_Vloss0.20101_lr6.320194197753456e-11.pkl\"\n",
    ")\n"
   ]
  },
  {
   "cell_type": "markdown",
   "metadata": {},
   "source": [
    "# Load Model"
   ]
  },
  {
   "cell_type": "code",
   "execution_count": 75,
   "metadata": {},
   "outputs": [
    {
     "name": "stdout",
     "output_type": "stream",
     "text": [
      "==========================================================================================\n",
      "Layer (type:depth-idx)                   Output Shape              Param #\n",
      "==========================================================================================\n",
      "AllCNN2D_Prod                            [1, 44]                   --\n",
      "├─ModuleList: 1-1                        --                        --\n",
      "│    └─Sequential: 2-1                   [1, 16, 32, 32]           --\n",
      "│    │    └─Conv2d: 3-1                  [1, 16, 64, 64]           160\n",
      "│    │    └─Dropout2d: 3-2               [1, 16, 64, 64]           --\n",
      "│    │    └─BatchNorm2d: 3-3             [1, 16, 64, 64]           32\n",
      "│    │    └─LeakyReLU: 3-4               [1, 16, 64, 64]           --\n",
      "│    │    └─Conv2d: 3-5                  [1, 16, 32, 32]           2,320\n",
      "│    │    └─Dropout2d: 3-6               [1, 16, 32, 32]           --\n",
      "│    │    └─BatchNorm2d: 3-7             [1, 16, 32, 32]           32\n",
      "│    │    └─LeakyReLU: 3-8               [1, 16, 32, 32]           --\n",
      "│    └─Sequential: 2-2                   [1, 32, 16, 16]           --\n",
      "│    │    └─Conv2d: 3-9                  [1, 32, 32, 32]           4,640\n",
      "│    │    └─Dropout2d: 3-10              [1, 32, 32, 32]           --\n",
      "│    │    └─BatchNorm2d: 3-11            [1, 32, 32, 32]           64\n",
      "│    │    └─LeakyReLU: 3-12              [1, 32, 32, 32]           --\n",
      "│    │    └─Conv2d: 3-13                 [1, 32, 16, 16]           9,248\n",
      "│    │    └─Dropout2d: 3-14              [1, 32, 16, 16]           --\n",
      "│    │    └─BatchNorm2d: 3-15            [1, 32, 16, 16]           64\n",
      "│    │    └─LeakyReLU: 3-16              [1, 32, 16, 16]           --\n",
      "│    └─Sequential: 2-3                   [1, 32, 8, 8]             --\n",
      "│    │    └─Conv2d: 3-17                 [1, 32, 16, 16]           9,248\n",
      "│    │    └─Dropout2d: 3-18              [1, 32, 16, 16]           --\n",
      "│    │    └─BatchNorm2d: 3-19            [1, 32, 16, 16]           64\n",
      "│    │    └─LeakyReLU: 3-20              [1, 32, 16, 16]           --\n",
      "│    │    └─Conv2d: 3-21                 [1, 32, 8, 8]             9,248\n",
      "│    │    └─Dropout2d: 3-22              [1, 32, 8, 8]             --\n",
      "│    │    └─BatchNorm2d: 3-23            [1, 32, 8, 8]             64\n",
      "│    │    └─LeakyReLU: 3-24              [1, 32, 8, 8]             --\n",
      "│    └─Sequential: 2-4                   [1, 32, 4, 4]             --\n",
      "│    │    └─Conv2d: 3-25                 [1, 32, 8, 8]             9,248\n",
      "│    │    └─Dropout2d: 3-26              [1, 32, 8, 8]             --\n",
      "│    │    └─BatchNorm2d: 3-27            [1, 32, 8, 8]             64\n",
      "│    │    └─LeakyReLU: 3-28              [1, 32, 8, 8]             --\n",
      "│    │    └─Conv2d: 3-29                 [1, 32, 4, 4]             9,248\n",
      "│    │    └─Dropout2d: 3-30              [1, 32, 4, 4]             --\n",
      "│    │    └─BatchNorm2d: 3-31            [1, 32, 4, 4]             64\n",
      "│    │    └─LeakyReLU: 3-32              [1, 32, 4, 4]             --\n",
      "│    └─Sequential: 2-5                   [1, 32, 2, 2]             --\n",
      "│    │    └─Conv2d: 3-33                 [1, 32, 4, 4]             9,248\n",
      "│    │    └─Dropout2d: 3-34              [1, 32, 4, 4]             --\n",
      "│    │    └─BatchNorm2d: 3-35            [1, 32, 4, 4]             64\n",
      "│    │    └─LeakyReLU: 3-36              [1, 32, 4, 4]             --\n",
      "│    │    └─Conv2d: 3-37                 [1, 32, 2, 2]             9,248\n",
      "│    │    └─Dropout2d: 3-38              [1, 32, 2, 2]             --\n",
      "│    │    └─BatchNorm2d: 3-39            [1, 32, 2, 2]             64\n",
      "│    │    └─LeakyReLU: 3-40              [1, 32, 2, 2]             --\n",
      "├─Sequential: 1-2                        [1, 128]                  --\n",
      "│    └─Flatten: 2-6                      [1, 128]                  --\n",
      "├─ModuleList: 1-3                        --                        --\n",
      "│    └─Sequential: 2-7                   [1, 64]                   --\n",
      "│    │    └─Linear: 3-41                 [1, 64]                   8,256\n",
      "│    │    └─Dropout: 3-42                [1, 64]                   --\n",
      "│    │    └─LeakyReLU: 3-43              [1, 64]                   --\n",
      "│    └─Sequential: 2-8                   [1, 44]                   --\n",
      "│    │    └─Linear: 3-44                 [1, 44]                   2,860\n",
      "==========================================================================================\n",
      "Total params: 83,548\n",
      "Trainable params: 83,548\n",
      "Non-trainable params: 0\n",
      "Total mult-adds (Units.MEGABYTES): 14.05\n",
      "==========================================================================================\n",
      "Input size (MB): 0.02\n",
      "Forward/backward pass size (MB): 2.18\n",
      "Params size (MB): 0.33\n",
      "Estimated Total Size (MB): 2.53\n",
      "==========================================================================================\n"
     ]
    }
   ],
   "source": [
    "alphabet: list[str] = ['(', ')', '+', '-', '.', '0', '1', '2', '3', '4', '5', '6', '7', '8', '9', 'λ', 'a', 'b', 'c', 'd', 'e', 'f', 'g', 'h', 'i', 'j', 'k', 'l', 'm', 'n', 'o', 'p', 'q', 'r', 's', 't', 'u', 'v', 'w', 'x', 'y', 'z', '×', '÷']\n",
    "\n",
    "model: AllCNN2D_Prod = AllCNN2D_Prod(\n",
    "    labels_map=alphabet,\n",
    "    **{\n",
    "        \"conv_features\": (1, 16, 32, 32, 32, 32),\n",
    "        \"fully_connected_features\": (64, 44),\n",
    "        \"expected_input_size\": (64, 64),\n",
    "        \"device\": \"cpu\",\n",
    "        \"conv_dropout\": 0.0,\n",
    "        \"verbose\": True,\n",
    "        \"name_prefix\": \"GeckoFinal\",\n",
    "        #\"checkpoint_path\": checkpoint_path\n",
    "    }\n",
    "\n",
    ").eval()"
   ]
  },
  {
   "cell_type": "code",
   "execution_count": 76,
   "metadata": {},
   "outputs": [
    {
     "data": {
      "text/plain": [
       "[(0, '(', 40),\n",
       " (1, ')', 41),\n",
       " (2, '+', 43),\n",
       " (3, '-', 45),\n",
       " (4, '.', 46),\n",
       " (5, '0', 48),\n",
       " (6, '1', 49),\n",
       " (7, '2', 50),\n",
       " (8, '3', 51),\n",
       " (9, '4', 52),\n",
       " (10, '5', 53),\n",
       " (11, '6', 54),\n",
       " (12, '7', 55),\n",
       " (13, '8', 56),\n",
       " (14, '9', 57),\n",
       " (15, 'λ', 955),\n",
       " (16, 'a', 97),\n",
       " (17, 'b', 98),\n",
       " (18, 'c', 99),\n",
       " (19, 'd', 100),\n",
       " (20, 'e', 101),\n",
       " (21, 'f', 102),\n",
       " (22, 'g', 103),\n",
       " (23, 'h', 104),\n",
       " (24, 'i', 105),\n",
       " (25, 'j', 106),\n",
       " (26, 'k', 107),\n",
       " (27, 'l', 108),\n",
       " (28, 'm', 109),\n",
       " (29, 'n', 110),\n",
       " (30, 'o', 111),\n",
       " (31, 'p', 112),\n",
       " (32, 'q', 113),\n",
       " (33, 'r', 114),\n",
       " (34, 's', 115),\n",
       " (35, 't', 116),\n",
       " (36, 'u', 117),\n",
       " (37, 'v', 118),\n",
       " (38, 'w', 119),\n",
       " (39, 'x', 120),\n",
       " (40, 'y', 121),\n",
       " (41, 'z', 122),\n",
       " (42, '×', 215),\n",
       " (43, '÷', 247)]"
      ]
     },
     "execution_count": 76,
     "metadata": {},
     "output_type": "execute_result"
    }
   ],
   "source": [
    "[(i, char, ord(char)) for i, char in enumerate(alphabet)]"
   ]
  },
  {
   "cell_type": "code",
   "execution_count": 77,
   "metadata": {},
   "outputs": [
    {
     "name": "stdout",
     "output_type": "stream",
     "text": [
      "Model saved to model.onnx\n"
     ]
    },
    {
     "name": "stderr",
     "output_type": "stream",
     "text": [
      "c:\\Users\\Leon\\visual-studio\\repos\\Le-o-n\\ocr-model-training\\src\\cnn\\models\\allcnn2d.py:573: TracerWarning: Converting a tensor to a Python list might cause the trace to be incorrect. We can't record the data flow of Python values, so this value will be treated as a constant in the future. This means that the trace might not generalize to other inputs!\n",
      "  softmaxed_char.tolist(),\n",
      "c:\\Users\\Leon\\visual-studio\\repos\\Le-o-n\\ocr-model-training\\src\\cnn\\models\\allcnn2d.py:585: TracerWarning: torch.tensor results are registered as constants in the trace. You can safely ignore this warning if you use this function to create tensors out of constant variables that would be the same every time you call this function. In any other case, this might cause the trace to be incorrect.\n",
      "  softmax_ordered: Tensor = tensor(\n"
     ]
    }
   ],
   "source": [
    "\n",
    "# Create a dummy input tensor\n",
    "dummy_input = torch.randn(1, 1, 64, 64)  # Example input\n",
    "\n",
    "# Define the ONNX file path\n",
    "onnx_file_path = \"model.onnx\"\n",
    "\n",
    "# Export the model\n",
    "torch.onnx.export(\n",
    "    model,\n",
    "    dummy_input,\n",
    "    onnx_file_path,\n",
    "    input_names=[\"input\"],  # Name of the input layer\n",
    "    output_names=[\"logits\", \"softmax\", \"softmax_ordered\"],  # Names of the output layers\n",
    "    dynamic_axes={\"input\": {0: \"batch_size\"},  # Variable batch size\n",
    "                  \"logits\": {0: \"batch_size\"},\n",
    "                  \"softmax\": {0: \"batch_size\"},\n",
    "                  \"softmax_ordered\": {0: \"batch_size\"}},\n",
    "    opset_version=11  # Specify the ONNX opset version\n",
    ")\n",
    "\n",
    "print(f\"Model saved to {onnx_file_path}\")"
   ]
  },
  {
   "cell_type": "markdown",
   "metadata": {},
   "source": [
    "# Load Onnx"
   ]
  },
  {
   "cell_type": "code",
   "execution_count": 78,
   "metadata": {},
   "outputs": [],
   "source": [
    "\n",
    "\n",
    "# Load the ONNX model\n",
    "model_path = \"model.onnx\"\n",
    "session = onnxruntime.InferenceSession(model_path)\n",
    "\n",
    "input_image = np.random.random(\n",
    "    (\n",
    "        1,  # batch: stack as many images as you like here\n",
    "        1,  # channels: needs to be 1 (grayscale), pixels are 1.0 or 0.0\n",
    "        64, # height: fixed to 64 pixels for now\n",
    "        64  # width: fixed to 64 pixels for now\n",
    "    )\n",
    ").astype(np.float32)\n",
    "\n",
    "# Run inference\n",
    "inputs: list[onnxruntime.NodeArg] = session.get_inputs()\n",
    "outputs: list[onnxruntime.NodeArg] = session.get_outputs()\n",
    "\n",
    "input_name: list[str] = inputs[0].name\n",
    "output_names: list[str] = [out.name for out in outputs]\n"
   ]
  },
  {
   "cell_type": "code",
   "execution_count": 79,
   "metadata": {},
   "outputs": [],
   "source": [
    "\n",
    "softmax: np.ndarray\n",
    "softmax_ordered: np.ndarray\n",
    "logits: np.ndarray\n",
    "\n",
    "logits, softmax, softmax_ordered = session.run(\n",
    "    output_names, \n",
    "    {input_name: input_image}\n",
    ")\n",
    "\n",
    "# logits.shape is shape (batch, character) for all character labels\n",
    "# softmax.shape is shape (batch, character) for all character labels\n",
    "# softmax_ordered is shape (batch, character, [label index, label prob, unicode character value])\n",
    "\n",
    "# character dim is 44 (there are 44 character labels)\n",
    "# label index is from 0 to 44 (corresponding to each ordered label index)\n",
    "# label prob is a softmaxed probability for this label prediction\n",
    "# unicode character value is the unicode character for this prediction\n",
    "\n"
   ]
  },
  {
   "cell_type": "code",
   "execution_count": 80,
   "metadata": {},
   "outputs": [
    {
     "data": {
      "text/plain": [
       "((1, 44), (1, 44), (1, 44, 3))"
      ]
     },
     "execution_count": 80,
     "metadata": {},
     "output_type": "execute_result"
    }
   ],
   "source": [
    "logits.shape, softmax.shape, softmax_ordered.shape"
   ]
  },
  {
   "cell_type": "code",
   "execution_count": 81,
   "metadata": {},
   "outputs": [],
   "source": [
    "\n",
    "\n",
    "top_character_probs: list[list[float]] = softmax_ordered[:, :, 1].tolist()\n",
    "\n",
    "top_characters: list[list[str]] = [\n",
    "    [\n",
    "        chr(int(softmax_ordered[batch_i, i, 2])) \n",
    "        for i in range(softmax_ordered.shape[1])\n",
    "    ] for batch_i in \n",
    "    range(softmax_ordered.shape[0])\n",
    "]\n"
   ]
  },
  {
   "cell_type": "markdown",
   "metadata": {},
   "source": [
    "# Hello World"
   ]
  },
  {
   "cell_type": "code",
   "execution_count": 82,
   "metadata": {},
   "outputs": [],
   "source": [
    "class TextReShitter(nn.Module):\n",
    "    \n",
    "    def __init__(self, alphabet: list[str], text: str):\n",
    "        \n",
    "        super(TextReShitter, self).__init__()\n",
    "        \n",
    "        self.alphabet: list[str] = sorted(alphabet)\n",
    "        self.text: str = text\n",
    "        \n",
    "        self.logits: list[torch.Tensor] = []\n",
    "        \n",
    "        for c in self.text:\n",
    "            c_index: int = self.alphabet.index(c)\n",
    "            \n",
    "            char_logits: torch.Tensor = torch.rand((len(alphabet),))\n",
    "            char_logits[c_index] += 2\n",
    "            char_logits *= (torch.rand(1)+0.1)\n",
    "\n",
    "            self.logits.append(char_logits)\n",
    "\n",
    "        self.logits_tensor: torch.Tensor = torch.stack(self.logits, dim=0)\n",
    "        \n",
    "        self.logits_tensor = self.logits_tensor.unsqueeze(0) # batch, chars, logit\n",
    "        \n",
    "    def forward(self, x: torch.Tensor) -> torch.Tensor:\n",
    "        \n",
    "        self.logits_tensor = self.logits_tensor + x.sum() * 0.0  \n",
    "\n",
    "        softmax = torch.softmax(self.logits_tensor, dim=-1)\n",
    "        \n",
    "        # Create indices for the first dimension (char_prob_i)\n",
    "        char_prob_indices = torch.arange(softmax.size(-1), device=softmax.device).reshape(1, 1, -1, 1)\n",
    "        \n",
    "        # Create indices for the third dimension (ord(self.alphabet[char_prob_i]))\n",
    "        alphabet_indices = torch.tensor([ord(c) for c in self.alphabet], device=softmax.device).reshape(1, 1, -1, 1)\n",
    "        \n",
    "        # Expand dimensions to match softmax shape\n",
    "        char_prob_indices = char_prob_indices.expand(*softmax.shape, 1)\n",
    "        alphabet_indices = alphabet_indices.expand(*softmax.shape, 1)\n",
    "        \n",
    "        # Concatenate along the last dimension\n",
    "        softmax_ordered = torch.cat([char_prob_indices, softmax.unsqueeze(-1), alphabet_indices], dim=-1)\n",
    "        \n",
    "        # Sort along the probability dimension (dim=-2)\n",
    "        sorting_indices = softmax_ordered[..., 1].argsort(dim=-1, descending=True)\n",
    "        sorted_tensor = torch.gather(softmax_ordered, -2, sorting_indices.unsqueeze(-1).expand(-1, -1, -1, 3))\n",
    "        \n",
    "        x = x * 0.5\n",
    "        \n",
    "        return self.logits_tensor, softmax, sorted_tensor\n",
    "        \n",
    "        \n",
    "        "
   ]
  },
  {
   "cell_type": "code",
   "execution_count": 83,
   "metadata": {},
   "outputs": [
    {
     "data": {
      "text/plain": [
       "(torch.Size([1, 11, 44]), torch.Size([1, 11, 44]), torch.Size([1, 11, 44, 3]))"
      ]
     },
     "execution_count": 83,
     "metadata": {},
     "output_type": "execute_result"
    }
   ],
   "source": [
    "hello_world_model = TextReShitter(alphabet, \"hello.world\")\n",
    "\n",
    "logits, softmax, softmax_ord = hello_world_model.forward(torch.zeros(1, 1, 1, 1))\n",
    "\n",
    "logits.shape, softmax.shape, softmax_ord.shape"
   ]
  },
  {
   "cell_type": "markdown",
   "metadata": {},
   "source": [
    "# ONNX: Save Hello World"
   ]
  },
  {
   "cell_type": "code",
   "execution_count": 84,
   "metadata": {},
   "outputs": [
    {
     "name": "stdout",
     "output_type": "stream",
     "text": [
      "Model saved to hello_world.onnx\n"
     ]
    },
    {
     "name": "stderr",
     "output_type": "stream",
     "text": [
      "C:\\Users\\Leon\\AppData\\Local\\Temp\\ipykernel_20432\\3231084438.py:35: TracerWarning: torch.tensor results are registered as constants in the trace. You can safely ignore this warning if you use this function to create tensors out of constant variables that would be the same every time you call this function. In any other case, this might cause the trace to be incorrect.\n",
      "  alphabet_indices = torch.tensor([ord(c) for c in self.alphabet], device=softmax.device).reshape(1, 1, -1, 1)\n"
     ]
    }
   ],
   "source": [
    "# Create a dummy input tensor\n",
    "dummy_input = torch.randn(1, 1, 1, 1)  # Example input\n",
    "\n",
    "# Define the ONNX file path\n",
    "onnx_file_path = \"hello_world.onnx\"\n",
    "\n",
    "# Export the model\n",
    "torch.onnx.export(\n",
    "    hello_world_model,\n",
    "    dummy_input,\n",
    "    onnx_file_path,\n",
    "    input_names=[\"input\"],  # Name of the input layer\n",
    "    output_names=[\"logits\", \"softmax\", \"softmax_ordered\"],  # Names of the output layers\n",
    "    dynamic_axes={\"input\": {0: \"batch_size\", 2: \"height\", 3: \"width\"},  # Variable batch size\n",
    "                  \"logits\": {0: \"batch_size\"},\n",
    "                  \"softmax\": {0: \"batch_size\"},\n",
    "                  \"softmax_ordered\": {0: \"batch_size\"}},\n",
    "    opset_version=11  # Specify the ONNX opset version\n",
    ")\n",
    "\n",
    "print(f\"Model saved to {onnx_file_path}\")"
   ]
  },
  {
   "cell_type": "markdown",
   "metadata": {},
   "source": [
    "# Load Hello World Onnx"
   ]
  },
  {
   "cell_type": "code",
   "execution_count": 85,
   "metadata": {},
   "outputs": [
    {
     "name": "stdout",
     "output_type": "stream",
     "text": [
      "[[[104. 120. 115.]\n",
      "  [101. 105. 109.]\n",
      "  [108.  45. 118.]\n",
      "  [108.  50.  55.]\n",
      "  [111. 247.  41.]\n",
      "  [ 46. 111.  52.]\n",
      "  [119. 104. 118.]\n",
      "  [111. 117.  53.]\n",
      "  [114.  57.  45.]\n",
      "  [108.  97. 112.]\n",
      "  [100. 111. 104.]]]\n",
      "[[[0.13487485 0.03051421 0.03024892]\n",
      "  [0.03483254 0.02470074 0.0245183 ]\n",
      "  [0.12618831 0.03325844 0.03256983]\n",
      "  [0.14055243 0.02988121 0.02889052]\n",
      "  [0.03572701 0.02537489 0.02510708]\n",
      "  [0.0649533  0.0259773  0.02597003]\n",
      "  [0.03041911 0.02436568 0.02433025]\n",
      "  [0.09235369 0.03029493 0.03025205]\n",
      "  [0.08532248 0.03095609 0.0284572 ]\n",
      "  [0.03220282 0.02440088 0.02422533]\n",
      "  [0.02972033 0.02469328 0.0244364 ]]]\n",
      "#1 @ 13.49% - h\n",
      "#2 @ 3.051% - x\n",
      "#3 @ 3.025% - s\n",
      "--\n",
      "#1 @ 3.483% - e\n",
      "#2 @ 2.47% - i\n",
      "#3 @ 2.452% - m\n",
      "--\n",
      "#1 @ 12.62% - l\n",
      "#2 @ 3.326% - -\n",
      "#3 @ 3.257% - v\n",
      "--\n",
      "#1 @ 14.06% - l\n",
      "#2 @ 2.988% - 2\n",
      "#3 @ 2.889% - 7\n",
      "--\n",
      "#1 @ 3.573% - o\n",
      "#2 @ 2.537% - ÷\n",
      "#3 @ 2.511% - )\n",
      "--\n",
      "#1 @ 6.495% - .\n",
      "#2 @ 2.598% - o\n",
      "#3 @ 2.597% - 4\n",
      "--\n",
      "#1 @ 3.042% - w\n",
      "#2 @ 2.437% - h\n",
      "#3 @ 2.433% - v\n",
      "--\n",
      "#1 @ 9.235% - o\n",
      "#2 @ 3.029% - u\n",
      "#3 @ 3.025% - 5\n",
      "--\n",
      "#1 @ 8.532% - r\n",
      "#2 @ 3.096% - 9\n",
      "#3 @ 2.846% - -\n",
      "--\n",
      "#1 @ 3.22% - l\n",
      "#2 @ 2.44% - a\n",
      "#3 @ 2.423% - p\n",
      "--\n",
      "#1 @ 2.972% - d\n",
      "#2 @ 2.469% - o\n",
      "#3 @ 2.444% - h\n",
      "--\n"
     ]
    }
   ],
   "source": [
    "\n",
    "# Load the ONNX model\n",
    "model_path = \"hello_world_dyn.onnx\"\n",
    "session = onnxruntime.InferenceSession(model_path)\n",
    "\n",
    "input_image = np.random.random(\n",
    "    (\n",
    "        1,  # batch: stack as many images as you like here\n",
    "        1,  # channels: needs to be 1 (grayscale), pixels are 1.0 or 0.0\n",
    "        2,  # height: fixed to 1 for now\n",
    "        1   # width: fixed to 1 for now\n",
    "    )\n",
    ").astype(np.float32)\n",
    "\n",
    "# Run inference\n",
    "inputs: list[onnxruntime.NodeArg] = session.get_inputs()\n",
    "outputs: list[onnxruntime.NodeArg] = session.get_outputs()\n",
    "\n",
    "input_name: str = inputs[0].name\n",
    "output_names: list[str] = [out.name for out in outputs]\n",
    "softmax: np.ndarray\n",
    "softmax_ordered: np.ndarray\n",
    "logits: np.ndarray\n",
    "\n",
    "logits, softmax, softmax_ordered = session.run(\n",
    "    output_names, \n",
    "    {input_name: input_image}\n",
    ")\n",
    "\n",
    "top3_preds: np.ndarray = softmax_ordered[:, :, :3, 2] # top three predictions for each character (unicode value, convert to string with chr)\n",
    "top3_pred_probs: np.ndarray = softmax_ordered[:, :, :3, 1] # top three prediction probabilities\n",
    "\n",
    "print(top3_preds)\n",
    "\n",
    "print(top3_pred_probs)\n",
    "\n",
    "for letter_i in range(top3_preds.shape[1]):\n",
    "    for k in range(3):\n",
    "        \n",
    "        pred_percentage: float = top3_pred_probs[0, letter_i, k]*100\n",
    "        \n",
    "        print(f\"#{k+1} @ {pred_percentage:.4}% - {chr(int(top3_preds[0, letter_i, k]))}\")\n",
    "    print(\"--\")\n"
   ]
  },
  {
   "cell_type": "code",
   "execution_count": null,
   "metadata": {},
   "outputs": [],
   "source": []
  },
  {
   "cell_type": "markdown",
   "metadata": {},
   "source": [
    "# Create CNN Production"
   ]
  },
  {
   "cell_type": "code",
   "execution_count": 166,
   "metadata": {},
   "outputs": [
    {
     "name": "stdout",
     "output_type": "stream",
     "text": [
      "Loaded: encoder_conv_blocks.0.0.weight\n",
      "Loaded: encoder_conv_blocks.0.0.bias\n",
      "Loaded: encoder_conv_blocks.0.2.weight\n",
      "Loaded: encoder_conv_blocks.0.2.bias\n",
      "Loaded: encoder_conv_blocks.0.2.running_mean\n",
      "Loaded: encoder_conv_blocks.0.2.running_var\n",
      "Loaded: encoder_conv_blocks.0.2.num_batches_tracked\n",
      "Loaded: encoder_conv_blocks.0.4.weight\n",
      "Loaded: encoder_conv_blocks.0.4.bias\n",
      "Loaded: encoder_conv_blocks.0.6.weight\n",
      "Loaded: encoder_conv_blocks.0.6.bias\n",
      "Loaded: encoder_conv_blocks.0.6.running_mean\n",
      "Loaded: encoder_conv_blocks.0.6.running_var\n",
      "Loaded: encoder_conv_blocks.0.6.num_batches_tracked\n",
      "Loaded: encoder_conv_blocks.1.0.weight\n",
      "Loaded: encoder_conv_blocks.1.0.bias\n",
      "Loaded: encoder_conv_blocks.1.2.weight\n",
      "Loaded: encoder_conv_blocks.1.2.bias\n",
      "Loaded: encoder_conv_blocks.1.2.running_mean\n",
      "Loaded: encoder_conv_blocks.1.2.running_var\n",
      "Loaded: encoder_conv_blocks.1.2.num_batches_tracked\n",
      "Loaded: encoder_conv_blocks.1.4.weight\n",
      "Loaded: encoder_conv_blocks.1.4.bias\n",
      "Loaded: encoder_conv_blocks.1.6.weight\n",
      "Loaded: encoder_conv_blocks.1.6.bias\n",
      "Loaded: encoder_conv_blocks.1.6.running_mean\n",
      "Loaded: encoder_conv_blocks.1.6.running_var\n",
      "Loaded: encoder_conv_blocks.1.6.num_batches_tracked\n",
      "Loaded: encoder_conv_blocks.2.0.weight\n",
      "Loaded: encoder_conv_blocks.2.0.bias\n",
      "Loaded: encoder_conv_blocks.2.2.weight\n",
      "Loaded: encoder_conv_blocks.2.2.bias\n",
      "Loaded: encoder_conv_blocks.2.2.running_mean\n",
      "Loaded: encoder_conv_blocks.2.2.running_var\n",
      "Loaded: encoder_conv_blocks.2.2.num_batches_tracked\n",
      "Loaded: encoder_conv_blocks.2.4.weight\n",
      "Loaded: encoder_conv_blocks.2.4.bias\n",
      "Loaded: encoder_conv_blocks.2.6.weight\n",
      "Loaded: encoder_conv_blocks.2.6.bias\n",
      "Loaded: encoder_conv_blocks.2.6.running_mean\n",
      "Loaded: encoder_conv_blocks.2.6.running_var\n",
      "Loaded: encoder_conv_blocks.2.6.num_batches_tracked\n",
      "Loaded: encoder_conv_blocks.3.0.weight\n",
      "Loaded: encoder_conv_blocks.3.0.bias\n",
      "Loaded: encoder_conv_blocks.3.2.weight\n",
      "Loaded: encoder_conv_blocks.3.2.bias\n",
      "Loaded: encoder_conv_blocks.3.2.running_mean\n",
      "Loaded: encoder_conv_blocks.3.2.running_var\n",
      "Loaded: encoder_conv_blocks.3.2.num_batches_tracked\n",
      "Loaded: encoder_conv_blocks.3.4.weight\n",
      "Loaded: encoder_conv_blocks.3.4.bias\n",
      "Loaded: encoder_conv_blocks.3.6.weight\n",
      "Loaded: encoder_conv_blocks.3.6.bias\n",
      "Loaded: encoder_conv_blocks.3.6.running_mean\n",
      "Loaded: encoder_conv_blocks.3.6.running_var\n",
      "Loaded: encoder_conv_blocks.3.6.num_batches_tracked\n",
      "Loaded: encoder_conv_blocks.4.0.weight\n",
      "Loaded: encoder_conv_blocks.4.0.bias\n",
      "Loaded: encoder_conv_blocks.4.2.weight\n",
      "Loaded: encoder_conv_blocks.4.2.bias\n",
      "Loaded: encoder_conv_blocks.4.2.running_mean\n",
      "Loaded: encoder_conv_blocks.4.2.running_var\n",
      "Loaded: encoder_conv_blocks.4.2.num_batches_tracked\n",
      "Loaded: encoder_conv_blocks.4.4.weight\n",
      "Loaded: encoder_conv_blocks.4.4.bias\n",
      "Loaded: encoder_conv_blocks.4.6.weight\n",
      "Loaded: encoder_conv_blocks.4.6.bias\n",
      "Loaded: encoder_conv_blocks.4.6.running_mean\n",
      "Loaded: encoder_conv_blocks.4.6.running_var\n",
      "Loaded: encoder_conv_blocks.4.6.num_batches_tracked\n",
      "Loaded: fully_connected_blocks.0.0.weight\n",
      "Loaded: fully_connected_blocks.0.0.bias\n",
      "Loaded: fully_connected_blocks.1.0.weight\n",
      "Loaded: fully_connected_blocks.1.0.bias\n",
      "==========================================================================================\n",
      "Layer (type:depth-idx)                   Output Shape              Param #\n",
      "==========================================================================================\n",
      "AllCNN2D                                 [1, 44]                   --\n",
      "├─ModuleList: 1-1                        --                        --\n",
      "│    └─Sequential: 2-1                   [1, 16, 32, 32]           --\n",
      "│    │    └─Conv2d: 3-1                  [1, 16, 64, 64]           160\n",
      "│    │    └─Dropout2d: 3-2               [1, 16, 64, 64]           --\n",
      "│    │    └─BatchNorm2d: 3-3             [1, 16, 64, 64]           32\n",
      "│    │    └─LeakyReLU: 3-4               [1, 16, 64, 64]           --\n",
      "│    │    └─Conv2d: 3-5                  [1, 16, 32, 32]           2,320\n",
      "│    │    └─Dropout2d: 3-6               [1, 16, 32, 32]           --\n",
      "│    │    └─BatchNorm2d: 3-7             [1, 16, 32, 32]           32\n",
      "│    │    └─LeakyReLU: 3-8               [1, 16, 32, 32]           --\n",
      "│    └─Sequential: 2-2                   [1, 32, 16, 16]           --\n",
      "│    │    └─Conv2d: 3-9                  [1, 32, 32, 32]           4,640\n",
      "│    │    └─Dropout2d: 3-10              [1, 32, 32, 32]           --\n",
      "│    │    └─BatchNorm2d: 3-11            [1, 32, 32, 32]           64\n",
      "│    │    └─LeakyReLU: 3-12              [1, 32, 32, 32]           --\n",
      "│    │    └─Conv2d: 3-13                 [1, 32, 16, 16]           9,248\n",
      "│    │    └─Dropout2d: 3-14              [1, 32, 16, 16]           --\n",
      "│    │    └─BatchNorm2d: 3-15            [1, 32, 16, 16]           64\n",
      "│    │    └─LeakyReLU: 3-16              [1, 32, 16, 16]           --\n",
      "│    └─Sequential: 2-3                   [1, 32, 8, 8]             --\n",
      "│    │    └─Conv2d: 3-17                 [1, 32, 16, 16]           9,248\n",
      "│    │    └─Dropout2d: 3-18              [1, 32, 16, 16]           --\n",
      "│    │    └─BatchNorm2d: 3-19            [1, 32, 16, 16]           64\n",
      "│    │    └─LeakyReLU: 3-20              [1, 32, 16, 16]           --\n",
      "│    │    └─Conv2d: 3-21                 [1, 32, 8, 8]             9,248\n",
      "│    │    └─Dropout2d: 3-22              [1, 32, 8, 8]             --\n",
      "│    │    └─BatchNorm2d: 3-23            [1, 32, 8, 8]             64\n",
      "│    │    └─LeakyReLU: 3-24              [1, 32, 8, 8]             --\n",
      "│    └─Sequential: 2-4                   [1, 32, 4, 4]             --\n",
      "│    │    └─Conv2d: 3-25                 [1, 32, 8, 8]             9,248\n",
      "│    │    └─Dropout2d: 3-26              [1, 32, 8, 8]             --\n",
      "│    │    └─BatchNorm2d: 3-27            [1, 32, 8, 8]             64\n",
      "│    │    └─LeakyReLU: 3-28              [1, 32, 8, 8]             --\n",
      "│    │    └─Conv2d: 3-29                 [1, 32, 4, 4]             9,248\n",
      "│    │    └─Dropout2d: 3-30              [1, 32, 4, 4]             --\n",
      "│    │    └─BatchNorm2d: 3-31            [1, 32, 4, 4]             64\n",
      "│    │    └─LeakyReLU: 3-32              [1, 32, 4, 4]             --\n",
      "│    └─Sequential: 2-5                   [1, 32, 2, 2]             --\n",
      "│    │    └─Conv2d: 3-33                 [1, 32, 4, 4]             9,248\n",
      "│    │    └─Dropout2d: 3-34              [1, 32, 4, 4]             --\n",
      "│    │    └─BatchNorm2d: 3-35            [1, 32, 4, 4]             64\n",
      "│    │    └─LeakyReLU: 3-36              [1, 32, 4, 4]             --\n",
      "│    │    └─Conv2d: 3-37                 [1, 32, 2, 2]             9,248\n",
      "│    │    └─Dropout2d: 3-38              [1, 32, 2, 2]             --\n",
      "│    │    └─BatchNorm2d: 3-39            [1, 32, 2, 2]             64\n",
      "│    │    └─LeakyReLU: 3-40              [1, 32, 2, 2]             --\n",
      "├─Sequential: 1-2                        [1, 128]                  --\n",
      "│    └─Flatten: 2-6                      [1, 128]                  --\n",
      "├─ModuleList: 1-3                        --                        --\n",
      "│    └─Sequential: 2-7                   [1, 64]                   --\n",
      "│    │    └─Linear: 3-41                 [1, 64]                   8,256\n",
      "│    │    └─Dropout: 3-42                [1, 64]                   --\n",
      "│    │    └─LeakyReLU: 3-43              [1, 64]                   --\n",
      "│    └─Sequential: 2-8                   [1, 44]                   --\n",
      "│    │    └─Linear: 3-44                 [1, 44]                   2,860\n",
      "==========================================================================================\n",
      "Total params: 83,548\n",
      "Trainable params: 83,548\n",
      "Non-trainable params: 0\n",
      "Total mult-adds (Units.MEGABYTES): 14.05\n",
      "==========================================================================================\n",
      "Input size (MB): 0.02\n",
      "Forward/backward pass size (MB): 2.18\n",
      "Params size (MB): 0.33\n",
      "Estimated Total Size (MB): 2.53\n",
      "==========================================================================================\n",
      "Model saved to char_model_lamda_calculus.onnx\n"
     ]
    },
    {
     "name": "stderr",
     "output_type": "stream",
     "text": [
      "C:\\Users\\Leon\\AppData\\Local\\Temp\\ipykernel_20432\\4192116138.py:52: TracerWarning: torch.tensor results are registered as constants in the trace. You can safely ignore this warning if you use this function to create tensors out of constant variables that would be the same every time you call this function. In any other case, this might cause the trace to be incorrect.\n",
      "  torch.tensor([0, 0, 0, 0], device=im.device)  # Default value if no foreground\n",
      "C:\\Users\\Leon\\AppData\\Local\\Temp\\ipykernel_20432\\4192116138.py:57: TracerWarning: torch.tensor results are registered as constants in the trace. You can safely ignore this warning if you use this function to create tensors out of constant variables that would be the same every time you call this function. In any other case, this might cause the trace to be incorrect.\n",
      "  torch.tensor([0, 0, im.size(2) - 1, im.size(3) - 1], device=im.device)  # Default value if no foreground\n"
     ]
    }
   ],
   "source": [
    "\n",
    "\n",
    "class KrudModel(nn.Module):\n",
    "    \n",
    "    def __init__(\n",
    "        self, \n",
    "        alphabet: list[str], \n",
    "        target_width: int = 64, \n",
    "        target_height: int = 64, \n",
    "        padding: int = 1,\n",
    "        model: torch.nn.Module = None\n",
    "    ):\n",
    "        \n",
    "        super(KrudModel, self).__init__()\n",
    "        \n",
    "        self.alphabet: list[str] = sorted(alphabet)\n",
    "        self.alphabet_float: torch.Tensor = torch.tensor([ord(a) for a in self.alphabet], dtype=torch.float32) \n",
    "        self.target_width: int = target_width\n",
    "        self.target_height: int = target_height\n",
    "        self.padding: int = padding\n",
    "        self._unpadded_dims: tuple[int] = (\n",
    "            self.target_height-self.padding*2,\n",
    "            self.target_width-self.padding*2\n",
    "        )\n",
    "        self.model: torch.nn.Module = model.eval()\n",
    "    \n",
    "        \n",
    "    def preprocess_image(\n",
    "        self, \n",
    "        im: torch.Tensor\n",
    "    ) -> torch.Tensor:\n",
    "        \"\"\"\n",
    "        Preprocesses the input image by cropping, resizing, binarizing, and padding it.\n",
    "\n",
    "        Args:\n",
    "            im (torch.Tensor): Input image tensor of shape (C, H, W) or (B, C, H, W).\n",
    "\n",
    "        Returns:\n",
    "            torch.Tensor: Preprocessed image tensor.\n",
    "        \"\"\"\n",
    "        # Step 1: Binarize the image (foreground = 0, background = 1)\n",
    "        mask = im > 0.5\n",
    "\n",
    "        # Step 2: Find bounding box coordinates of the foreground\n",
    "        coords = torch.nonzero(mask)  # Get coordinates of non-zero (foreground) pixels\n",
    "\n",
    "        # Step 3: Check if there are any foreground pixels (traceable)\n",
    "        has_foreground = torch.any(mask)\n",
    "\n",
    "        # Step 4: Compute min and max coordinates for cropping (if foreground exists)\n",
    "        min_coords = torch.where(\n",
    "            has_foreground,\n",
    "            coords.min(dim=0)[0],\n",
    "            torch.tensor([0, 0, 0, 0], device=im.device)  # Default value if no foreground\n",
    "        )\n",
    "        max_coords = torch.where(\n",
    "            has_foreground,\n",
    "            coords.max(dim=0)[0],\n",
    "            torch.tensor([0, 0, im.size(2) - 1, im.size(3) - 1], device=im.device)  # Default value if no foreground\n",
    "        )\n",
    "\n",
    "        # Step 5: Extract min and max coordinates for height and width (assuming input is 4D: B, C, H, W)\n",
    "        min_x, min_y = min_coords[2], min_coords[3]\n",
    "        max_x, max_y = max_coords[2], max_coords[3]\n",
    "\n",
    "        # Step 6: Crop the image (use slicing, which is traceable)\n",
    "        im = im[:, :, min_x:max_x + 1, min_y:max_y + 1]\n",
    "\n",
    "        # Step 7: Resize the image to the desired dimensions\n",
    "        im = torch_func.interpolate(\n",
    "            im, \n",
    "            size=self._unpadded_dims, \n",
    "            mode=\"bilinear\", \n",
    "            align_corners=False\n",
    "        )\n",
    "\n",
    "        # Step 8: Binarize the image again (optional, depending on your use case)\n",
    "        im = (im > 0.5).type(torch.uint8).type(torch.float32)\n",
    "\n",
    "        # Step 9: Pad the image\n",
    "        im = torch_func.pad(\n",
    "            im,\n",
    "            (self.padding, self.padding, self.padding, self.padding),\n",
    "            mode='constant',\n",
    "            value=0.0\n",
    "        )\n",
    "\n",
    "        return im\n",
    "    \n",
    "    def forward(self, x: torch.Tensor) -> torch.Tensor:\n",
    "        x = self.preprocess_image(x)\n",
    "        \n",
    "        #plt.imshow(x.squeeze(), cmap=\"gray\")\n",
    "        #plt.show()\n",
    "        \n",
    "        y_hat: torch.Tensor = self.model(x)\n",
    "        y_hat = y_hat.squeeze().squeeze()\n",
    "        \n",
    "        softmax = torch.softmax(y_hat, dim=-1)\n",
    "        \n",
    "        stacked = torch.stack([self.alphabet_float, softmax], dim=1)\n",
    "        sorted_indices = torch.argsort(stacked[:, 1], descending=True)\n",
    "        sorted_tensor = stacked[sorted_indices]\n",
    "\n",
    "        return sorted_tensor\n",
    "        \n",
    "        \n",
    "       \n",
    "\n",
    "label_map: list[str] = ['(', ')', '+', '-', '.', '0', '1', '2', '3', '4', '5', '6', '7', '8', '9', 'λ', 'a', 'b', 'c', 'd', 'e', 'f', 'g', 'h', 'i', 'j', 'k', 'l', 'm', 'n', 'o', 'p', 'q', 'r', 's', 't', 'u', 'v', 'w', 'x', 'y', 'z', '×', '÷']\n",
    "\n",
    "checkpoint_path: str = os.path.join(\n",
    "    root_path, \n",
    "    \"checkpoints\", \n",
    "    \"Krud_epoch29_trainacc0.93466_valacc0.97159_Tloss0.013132_Vloss0.0056677_lr0.0007224.pkl\"\n",
    ")\n",
    "\n",
    "model: AllCNN2D = AllCNN2D(\n",
    "    **{\n",
    "        \"conv_features\": (1, 16, 32, 32, 32, 32),\n",
    "        \"fully_connected_features\": (64, 44),\n",
    "        \"expected_input_size\": (64, 64),\n",
    "        \"device\": \"cpu\",\n",
    "        \"conv_dropout\": 0.0,\n",
    "        \"verbose\": True,\n",
    "        \"name_prefix\": \"KrudEval\",\n",
    "        \"checkpoint_path\": checkpoint_path\n",
    "    }\n",
    "\n",
    ").eval()\n",
    "krud_model: KrudModel = KrudModel(\n",
    "    label_map,\n",
    "    model=model\n",
    ")\n",
    "\n",
    "dummy_input = torch.randn(1, 1, 100, 100)  # Example input\n",
    "\n",
    "# Define the ONNX file path\n",
    "onnx_file_path = \"char_model_lamda_calculus.onnx\"\n",
    "\n",
    "# Export the model\n",
    "torch.onnx.export(\n",
    "    krud_model,\n",
    "    dummy_input,\n",
    "    onnx_file_path,\n",
    "    input_names=[\"input\"],  # Name of the input layer\n",
    "    output_names=[\"softmax_ordered\"],  # Names of the output layers\n",
    "    dynamic_axes={\"input\": {2: \"height\", 3: \"width\"}},\n",
    "    opset_version=11  # Specify the ONNX opset version\n",
    ")\n",
    "\n",
    "print(f\"Model saved to {onnx_file_path}\")"
   ]
  },
  {
   "cell_type": "code",
   "execution_count": 167,
   "metadata": {},
   "outputs": [
    {
     "data": {
      "text/plain": [
       "tensor([[4.3000e+01, 9.3858e-01],\n",
       "        [2.4700e+02, 5.7565e-02],\n",
       "        [9.5500e+02, 1.5453e-03],\n",
       "        [5.5000e+01, 1.4862e-03],\n",
       "        [1.2100e+02, 5.4839e-04],\n",
       "        [9.7000e+01, 1.8937e-04],\n",
       "        [1.0300e+02, 4.8974e-05],\n",
       "        [1.2200e+02, 2.8834e-05],\n",
       "        [1.0500e+02, 1.5799e-06],\n",
       "        [1.0800e+02, 8.6764e-07],\n",
       "        [5.2000e+01, 6.3947e-07],\n",
       "        [1.1700e+02, 1.6689e-07],\n",
       "        [1.0100e+02, 1.0515e-07],\n",
       "        [4.9000e+01, 9.0722e-08],\n",
       "        [2.1500e+02, 6.1379e-08],\n",
       "        [1.1000e+02, 4.4690e-08],\n",
       "        [1.1400e+02, 3.3480e-08],\n",
       "        [5.7000e+01, 1.2193e-08],\n",
       "        [1.1500e+02, 3.4486e-09],\n",
       "        [1.1900e+02, 9.5328e-10],\n",
       "        [5.3000e+01, 3.0586e-10],\n",
       "        [5.6000e+01, 1.8158e-10],\n",
       "        [9.8000e+01, 1.6832e-10],\n",
       "        [1.2000e+02, 7.8394e-11],\n",
       "        [4.5000e+01, 4.7620e-11],\n",
       "        [1.1100e+02, 3.2993e-11],\n",
       "        [5.1000e+01, 1.9548e-11],\n",
       "        [1.1300e+02, 5.6589e-12],\n",
       "        [1.0600e+02, 2.6825e-12],\n",
       "        [1.0400e+02, 2.6386e-12],\n",
       "        [5.0000e+01, 5.4703e-13],\n",
       "        [9.9000e+01, 4.1399e-13],\n",
       "        [1.1800e+02, 3.9216e-13],\n",
       "        [1.1600e+02, 1.3443e-13],\n",
       "        [5.4000e+01, 1.4182e-14],\n",
       "        [4.1000e+01, 8.0470e-15],\n",
       "        [1.0200e+02, 4.4367e-15],\n",
       "        [1.0900e+02, 6.8224e-16],\n",
       "        [4.0000e+01, 3.5865e-16],\n",
       "        [1.0700e+02, 1.7180e-17],\n",
       "        [1.0000e+02, 1.5004e-17],\n",
       "        [4.8000e+01, 1.1964e-17],\n",
       "        [1.1200e+02, 6.5156e-19],\n",
       "        [4.6000e+01, 2.4627e-22]], grad_fn=<IndexBackward0>)"
      ]
     },
     "execution_count": 167,
     "metadata": {},
     "output_type": "execute_result"
    }
   ],
   "source": [
    "\n",
    "plus_im: np.ndarray = np.asarray(Image.open(r\"C:\\Users\\Leon\\visual-studio\\repos\\Le-o-n\\ocr-model-training\\data\\lambda\\u2b-1736974496947.png\"))\n",
    "\n",
    "plus_im = plus_im[:, :, 3]\n",
    "\n",
    "\n",
    "plus_im = plus_im.astype(np.float32)/255\n",
    "\n",
    "plus_im_ten = torch.tensor(plus_im, dtype=torch.float32).unsqueeze(0).unsqueeze(0)\n",
    "\n",
    "\n",
    "krud_model.forward(plus_im_ten)\n"
   ]
  },
  {
   "cell_type": "markdown",
   "metadata": {},
   "source": [
    "# Test Krud ONNX"
   ]
  },
  {
   "cell_type": "code",
   "execution_count": 100,
   "metadata": {},
   "outputs": [],
   "source": [
    "from PIL import Image\n",
    "import numpy as np\n",
    "import matplotlib.pyplot as plt \n",
    "import onnxruntime"
   ]
  },
  {
   "cell_type": "code",
   "execution_count": 149,
   "metadata": {},
   "outputs": [],
   "source": [
    "\n",
    "input_image = Image.open(\"test_im.png\")"
   ]
  },
  {
   "cell_type": "code",
   "execution_count": 150,
   "metadata": {},
   "outputs": [
    {
     "data": {
      "image/png": "[encoded data removed]",
      "text/plain": [
       "<Figure size 640x480 with 1 Axes>"
      ]
     },
     "metadata": {},
     "output_type": "display_data"
    }
   ],
   "source": [
    "test_image = np.asarray(input_image)\n",
    "test_image = ((1.0-test_image[:, :, 0]/255) > 0.5).astype(np.uint8)*1.0\n",
    "\n",
    "plt.imshow(test_image, cmap=\"gray\")\n",
    "plt.show()\n",
    "\n",
    "test_image = np.expand_dims(np.expand_dims(test_image, 0), 0)\n"
   ]
  },
  {
   "cell_type": "code",
   "execution_count": 174,
   "metadata": {},
   "outputs": [
    {
     "data": {
      "text/plain": [
       "(1, 1, 143, 154)"
      ]
     },
     "execution_count": 174,
     "metadata": {},
     "output_type": "execute_result"
    }
   ],
   "source": [
    "test_image.shape"
   ]
  },
  {
   "cell_type": "code",
   "execution_count": 178,
   "metadata": {},
   "outputs": [
    {
     "data": {
      "text/plain": [
       "array([[[[0., 0., 0., ..., 0., 0., 0.],\n",
       "         [0., 0., 0., ..., 0., 0., 0.],\n",
       "         [0., 0., 0., ..., 0., 0., 0.],\n",
       "         ...,\n",
       "         [0., 0., 0., ..., 0., 0., 0.],\n",
       "         [0., 0., 0., ..., 0., 0., 0.],\n",
       "         [0., 0., 0., ..., 0., 0., 0.]]]])"
      ]
     },
     "execution_count": 178,
     "metadata": {},
     "output_type": "execute_result"
    }
   ],
   "source": [
    "test_image"
   ]
  },
  {
   "cell_type": "code",
   "execution_count": 179,
   "metadata": {},
   "outputs": [
    {
     "name": "stdout",
     "output_type": "stream",
     "text": [
      "0 0.68143886\n",
      "p 0.31727558\n",
      "d 0.0009891384\n",
      "6 0.0001600089\n",
      "t 5.1013758e-05\n",
      "8 2.8218346e-05\n",
      "5 2.4816827e-05\n",
      "o 8.780571e-06\n",
      "q 5.5376886e-06\n",
      "f 3.6561419e-06\n",
      "b 3.0133053e-06\n",
      "( 2.676651e-06\n",
      "w 2.4739402e-06\n",
      "m 1.5798223e-06\n",
      "k 1.5708143e-06\n",
      "j 8.663088e-07\n",
      "h 6.861411e-07\n",
      "n 5.575756e-07\n",
      "2 4.7443012e-07\n",
      "c 3.30369e-07\n",
      "x 6.3471326e-08\n",
      "r 2.9459986e-08\n",
      "× 2.2759442e-08\n",
      "3 1.8600712e-08\n",
      "- 1.800039e-08\n",
      "1 1.2019766e-08\n",
      "v 3.3489278e-09\n",
      "9 3.006773e-09\n",
      "g 2.6663645e-09\n",
      "z 2.0556845e-09\n",
      "i 1.1345208e-09\n",
      "e 3.8724163e-10\n",
      ") 2.8197075e-10\n",
      "s 1.6642417e-10\n",
      "u 3.9026893e-11\n",
      "y 1.4455865e-11\n",
      "7 1.027535e-11\n",
      "a 8.538898e-12\n",
      ". 2.8815811e-13\n",
      "4 2.1714051e-13\n",
      "l 4.009424e-14\n",
      "÷ 2.7764098e-14\n",
      "λ 2.0496294e-15\n",
      "+ 9.230513e-16\n"
     ]
    }
   ],
   "source": [
    "\n",
    "# Load the ONNX model\n",
    "model_path = \"char_model_lamda_calculus_v2.onnx\"\n",
    "session = onnxruntime.InferenceSession(model_path)\n",
    "\n",
    "# Run inference\n",
    "inputs: list[onnxruntime.NodeArg] = session.get_inputs()\n",
    "outputs: list[onnxruntime.NodeArg] = session.get_outputs()\n",
    "\n",
    "input_name: str = inputs[0].name            # Only one input \n",
    "output_name: list[str] = outputs[0].name    # Only one output [unicode, prob] pairs for a single character\n",
    "\n",
    "model_outputs = session.run(\n",
    "    [output_name], \n",
    "    {input_name: test_image.astype(np.float32)} # Must be float32 image of shape (batch, channels, height, width) -> (1, 1, Any, Any)\n",
    ")[0]\n",
    "\n",
    "# model_outputs.shape = (characters, alphabet_size, [unicode, prob]) -> (1, 44, 2)\n",
    "\n",
    "softmax_ordered = model_outputs[0, :, :]\n",
    "probs: np.ndarray = softmax_ordered[:, 1]\n",
    "chars: np.ndarray = softmax_ordered[:, 0]\n",
    "\n",
    "for char, prob in zip(chars, probs):\n",
    "    print(chr(int(char)), prob)"
   ]
  },
  {
   "cell_type": "code",
   "execution_count": null,
   "metadata": {},
   "outputs": [
    {
     "data": {
      "text/plain": [
       "(['0', 'p', 'd'], array([ 48., 112., 100.], dtype=float32))"
      ]
     },
     "execution_count": 144,
     "metadata": {},
     "output_type": "execute_result"
    }
   ],
   "source": []
  },
  {
   "cell_type": "code",
   "execution_count": 153,
   "metadata": {},
   "outputs": [
    {
     "data": {
      "text/plain": [
       "array([[[4.8000000e+01, 6.8143886e-01],\n",
       "        [1.1200000e+02, 3.1727558e-01],\n",
       "        [1.0000000e+02, 9.8913838e-04],\n",
       "        [5.4000000e+01, 1.6000890e-04],\n",
       "        [1.1600000e+02, 5.1013758e-05],\n",
       "        [5.6000000e+01, 2.8218346e-05],\n",
       "        [5.3000000e+01, 2.4816827e-05],\n",
       "        [1.1100000e+02, 8.7805711e-06],\n",
       "        [1.1300000e+02, 5.5376886e-06],\n",
       "        [1.0200000e+02, 3.6561419e-06],\n",
       "        [9.8000000e+01, 3.0133053e-06],\n",
       "        [4.0000000e+01, 2.6766511e-06],\n",
       "        [1.1900000e+02, 2.4739402e-06],\n",
       "        [1.0900000e+02, 1.5798223e-06],\n",
       "        [1.0700000e+02, 1.5708143e-06],\n",
       "        [1.0600000e+02, 8.6630882e-07],\n",
       "        [1.0400000e+02, 6.8614111e-07],\n",
       "        [1.1000000e+02, 5.5757562e-07],\n",
       "        [5.0000000e+01, 4.7443012e-07],\n",
       "        [9.9000000e+01, 3.3036901e-07],\n",
       "        [1.2000000e+02, 6.3471326e-08],\n",
       "        [1.1400000e+02, 2.9459986e-08],\n",
       "        [2.1500000e+02, 2.2759442e-08],\n",
       "        [5.1000000e+01, 1.8600712e-08],\n",
       "        [4.5000000e+01, 1.8000391e-08],\n",
       "        [4.9000000e+01, 1.2019766e-08],\n",
       "        [1.1800000e+02, 3.3489278e-09],\n",
       "        [5.7000000e+01, 3.0067731e-09],\n",
       "        [1.0300000e+02, 2.6663645e-09],\n",
       "        [1.2200000e+02, 2.0556845e-09],\n",
       "        [1.0500000e+02, 1.1345208e-09],\n",
       "        [1.0100000e+02, 3.8724163e-10],\n",
       "        [4.1000000e+01, 2.8197075e-10],\n",
       "        [1.1500000e+02, 1.6642417e-10],\n",
       "        [1.1700000e+02, 3.9026893e-11],\n",
       "        [1.2100000e+02, 1.4455865e-11],\n",
       "        [5.5000000e+01, 1.0275350e-11],\n",
       "        [9.7000000e+01, 8.5388979e-12],\n",
       "        [4.6000000e+01, 2.8815811e-13],\n",
       "        [5.2000000e+01, 2.1714051e-13],\n",
       "        [1.0800000e+02, 4.0094240e-14],\n",
       "        [2.4700000e+02, 2.7764098e-14],\n",
       "        [9.5500000e+02, 2.0496294e-15],\n",
       "        [4.3000000e+01, 9.2305130e-16]]], dtype=float32)"
      ]
     },
     "execution_count": 153,
     "metadata": {},
     "output_type": "execute_result"
    }
   ],
   "source": [
    "model_outputs"
   ]
  },
  {
   "cell_type": "code",
   "execution_count": 154,
   "metadata": {},
   "outputs": [
    {
     "data": {
      "image/png": "[encoded data removed]",
      "text/plain": [
       "<Figure size 640x480 with 1 Axes>"
      ]
     },
     "metadata": {},
     "output_type": "display_data"
    },
    {
     "ename": "TypeError",
     "evalue": "int() argument must be a string, a bytes-like object or a real number, not 'list'",
     "output_type": "error",
     "traceback": [
      "\u001b[1;31m---------------------------------------------------------------------------\u001b[0m",
      "\u001b[1;31mTypeError\u001b[0m                                 Traceback (most recent call last)",
      "Cell \u001b[1;32mIn[154], line 3\u001b[0m\n\u001b[0;32m      1\u001b[0m preds \u001b[38;5;241m=\u001b[39m krud_model\u001b[38;5;241m.\u001b[39meval()\u001b[38;5;241m.\u001b[39mforward(torch\u001b[38;5;241m.\u001b[39mtensor(test_image\u001b[38;5;241m.\u001b[39mastype(np\u001b[38;5;241m.\u001b[39mfloat32)))[:, \u001b[38;5;241m0\u001b[39m]\u001b[38;5;241m.\u001b[39mtolist()\n\u001b[1;32m----> 3\u001b[0m \u001b[43m[\u001b[49m\u001b[38;5;28;43mchr\u001b[39;49m\u001b[43m(\u001b[49m\u001b[38;5;28;43mint\u001b[39;49m\u001b[43m(\u001b[49m\u001b[43mx\u001b[49m\u001b[43m)\u001b[49m\u001b[43m)\u001b[49m\u001b[43m \u001b[49m\u001b[38;5;28;43;01mfor\u001b[39;49;00m\u001b[43m \u001b[49m\u001b[43mx\u001b[49m\u001b[43m \u001b[49m\u001b[38;5;129;43;01min\u001b[39;49;00m\u001b[43m \u001b[49m\u001b[43mpreds\u001b[49m\u001b[43m]\u001b[49m\n",
      "Cell \u001b[1;32mIn[154], line 3\u001b[0m, in \u001b[0;36m<listcomp>\u001b[1;34m(.0)\u001b[0m\n\u001b[0;32m      1\u001b[0m preds \u001b[38;5;241m=\u001b[39m krud_model\u001b[38;5;241m.\u001b[39meval()\u001b[38;5;241m.\u001b[39mforward(torch\u001b[38;5;241m.\u001b[39mtensor(test_image\u001b[38;5;241m.\u001b[39mastype(np\u001b[38;5;241m.\u001b[39mfloat32)))[:, \u001b[38;5;241m0\u001b[39m]\u001b[38;5;241m.\u001b[39mtolist()\n\u001b[1;32m----> 3\u001b[0m [\u001b[38;5;28mchr\u001b[39m(\u001b[38;5;28;43mint\u001b[39;49m\u001b[43m(\u001b[49m\u001b[43mx\u001b[49m\u001b[43m)\u001b[49m) \u001b[38;5;28;01mfor\u001b[39;00m x \u001b[38;5;129;01min\u001b[39;00m preds]\n",
      "\u001b[1;31mTypeError\u001b[0m: int() argument must be a string, a bytes-like object or a real number, not 'list'"
     ]
    }
   ],
   "source": [
    "preds = krud_model.eval().forward(torch.tensor(test_image.astype(np.float32)))[:, 0].tolist()\n",
    "\n",
    "[chr(int(x)) for x in preds]"
   ]
  }
 ],
 "metadata": {
  "kernelspec": {
   "display_name": "Python 3",
   "language": "python",
   "name": "python3"
  },
  "language_info": {
   "codemirror_mode": {
    "name": "ipython",
    "version": 3
   },
   "file_extension": ".py",
   "mimetype": "text/x-python",
   "name": "python",
   "nbconvert_exporter": "python",
   "pygments_lexer": "ipython3",
   "version": "3.11.0"
  }
 },
 "nbformat": 4,
 "nbformat_minor": 2
}
