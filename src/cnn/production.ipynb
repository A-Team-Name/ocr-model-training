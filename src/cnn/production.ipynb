{
    "cells": [
        {
            "cell_type": "code",
            "execution_count": 11,
            "metadata": {},
            "outputs": [],
            "source": [
                "\n",
                "import torch\n",
                "import numpy as np\n",
                "import matplotlib.pyplot as plt\n",
                "import os\n",
                "from einops import rearrange\n",
                "from torch.utils.data import DataLoader\n",
                "from torch.optim import AdamW\n",
                "from torch import nn\n",
                "from typing import Any\n",
                "import glob\n",
                "import re\n",
                "from datetime import datetime\n",
                "import random\n",
                "from collections import defaultdict\n",
                "import numpy as np\n",
                "\n",
                "import torch.nn.functional as torch_func\n",
                "from torchvision.transforms.functional import rotate, affine, resize, center_crop\n",
                "from PIL import Image\n",
                "import cv2\n",
                "\n",
                "random.seed(42)"
            ]
        },
        {
            "cell_type": "code",
            "execution_count": 12,
            "metadata": {},
            "outputs": [],
            "source": [
                "import onnxruntime"
            ]
        },
        {
            "cell_type": "code",
            "execution_count": 13,
            "metadata": {},
            "outputs": [],
            "source": [
                "from models.allcnn2d import AllCNN2D, AllCNN2D_Prod\n",
                "from drawing.interactive import draw_image"
            ]
        },
        {
            "cell_type": "markdown",
            "metadata": {},
            "source": [
                "# Global"
            ]
        },
        {
            "cell_type": "code",
            "execution_count": 14,
            "metadata": {},
            "outputs": [],
            "source": [
                "DEVICE: str = \"cuda\" if torch.cuda.is_available() else \"cpu\""
            ]
        },
        {
            "cell_type": "markdown",
            "metadata": {},
            "source": [
                "# Paths"
            ]
        },
        {
            "cell_type": "code",
            "execution_count": 15,
            "metadata": {},
            "outputs": [],
            "source": [
                "file_path: str = os.path.abspath(\".\")\n",
                "root_path: str = os.path.join(file_path, os.pardir, os.pardir)\n",
                "checkpoint_path: str = r\"C:\\Users\\Leon\\visual-studio\\repos\\Le-o-n\\ocr-model-training\\checkpoints\\Mongo_epoch17_trainacc0.9517_valacc0.99432_Tloss0.010203_Vloss0.002475_lr0.0007224.pkl\"\n",
                "model_name: str = \"MongoCNN_Prod\"\n"
            ]
        },
        {
            "cell_type": "markdown",
            "metadata": {},
            "source": [
                "# Load Model"
            ]
        },
        {
            "cell_type": "code",
            "execution_count": 16,
            "metadata": {},
            "outputs": [
                {
                    "data": {
                        "text/plain": [
                            "44"
                        ]
                    },
                    "execution_count": 16,
                    "metadata": {},
                    "output_type": "execute_result"
                }
            ],
            "source": [
                "alphabet: list[str] = list('∀∃().0123456789:λμabcdefghijklmnopqrstuvwxyz')\n",
                "len(alphabet)"
            ]
        },
        {
            "cell_type": "code",
            "execution_count": 17,
            "metadata": {},
            "outputs": [
                {
                    "name": "stdout",
                    "output_type": "stream",
                    "text": [
                        "==========================================================================================\n",
                        "Layer (type:depth-idx)                   Output Shape              Param #\n",
                        "==========================================================================================\n",
                        "AllCNN2D                                 [1, 44]                   --\n",
                        "├─ModuleList: 1-1                        --                        --\n",
                        "│    └─Sequential: 2-1                   [1, 16, 32, 32]           --\n",
                        "│    │    └─Conv2d: 3-1                  [1, 16, 64, 64]           160\n",
                        "│    │    └─Dropout2d: 3-2               [1, 16, 64, 64]           --\n",
                        "│    │    └─BatchNorm2d: 3-3             [1, 16, 64, 64]           32\n",
                        "│    │    └─LeakyReLU: 3-4               [1, 16, 64, 64]           --\n",
                        "│    │    └─Conv2d: 3-5                  [1, 16, 32, 32]           2,320\n",
                        "│    │    └─Dropout2d: 3-6               [1, 16, 32, 32]           --\n",
                        "│    │    └─BatchNorm2d: 3-7             [1, 16, 32, 32]           32\n",
                        "│    │    └─LeakyReLU: 3-8               [1, 16, 32, 32]           --\n",
                        "│    └─Sequential: 2-2                   [1, 32, 16, 16]           --\n",
                        "│    │    └─Conv2d: 3-9                  [1, 32, 32, 32]           4,640\n",
                        "│    │    └─Dropout2d: 3-10              [1, 32, 32, 32]           --\n",
                        "│    │    └─BatchNorm2d: 3-11            [1, 32, 32, 32]           64\n",
                        "│    │    └─LeakyReLU: 3-12              [1, 32, 32, 32]           --\n",
                        "│    │    └─Conv2d: 3-13                 [1, 32, 16, 16]           9,248\n",
                        "│    │    └─Dropout2d: 3-14              [1, 32, 16, 16]           --\n",
                        "│    │    └─BatchNorm2d: 3-15            [1, 32, 16, 16]           64\n",
                        "│    │    └─LeakyReLU: 3-16              [1, 32, 16, 16]           --\n",
                        "│    └─Sequential: 2-3                   [1, 32, 8, 8]             --\n",
                        "│    │    └─Conv2d: 3-17                 [1, 32, 16, 16]           9,248\n",
                        "│    │    └─Dropout2d: 3-18              [1, 32, 16, 16]           --\n",
                        "│    │    └─BatchNorm2d: 3-19            [1, 32, 16, 16]           64\n",
                        "│    │    └─LeakyReLU: 3-20              [1, 32, 16, 16]           --\n",
                        "│    │    └─Conv2d: 3-21                 [1, 32, 8, 8]             9,248\n",
                        "│    │    └─Dropout2d: 3-22              [1, 32, 8, 8]             --\n",
                        "│    │    └─BatchNorm2d: 3-23            [1, 32, 8, 8]             64\n",
                        "│    │    └─LeakyReLU: 3-24              [1, 32, 8, 8]             --\n",
                        "│    └─Sequential: 2-4                   [1, 32, 4, 4]             --\n",
                        "│    │    └─Conv2d: 3-25                 [1, 32, 8, 8]             9,248\n",
                        "│    │    └─Dropout2d: 3-26              [1, 32, 8, 8]             --\n",
                        "│    │    └─BatchNorm2d: 3-27            [1, 32, 8, 8]             64\n",
                        "│    │    └─LeakyReLU: 3-28              [1, 32, 8, 8]             --\n",
                        "│    │    └─Conv2d: 3-29                 [1, 32, 4, 4]             9,248\n",
                        "│    │    └─Dropout2d: 3-30              [1, 32, 4, 4]             --\n",
                        "│    │    └─BatchNorm2d: 3-31            [1, 32, 4, 4]             64\n",
                        "│    │    └─LeakyReLU: 3-32              [1, 32, 4, 4]             --\n",
                        "│    └─Sequential: 2-5                   [1, 32, 2, 2]             --\n",
                        "│    │    └─Conv2d: 3-33                 [1, 32, 4, 4]             9,248\n",
                        "│    │    └─Dropout2d: 3-34              [1, 32, 4, 4]             --\n",
                        "│    │    └─BatchNorm2d: 3-35            [1, 32, 4, 4]             64\n",
                        "│    │    └─LeakyReLU: 3-36              [1, 32, 4, 4]             --\n",
                        "│    │    └─Conv2d: 3-37                 [1, 32, 2, 2]             9,248\n",
                        "│    │    └─Dropout2d: 3-38              [1, 32, 2, 2]             --\n",
                        "│    │    └─BatchNorm2d: 3-39            [1, 32, 2, 2]             64\n",
                        "│    │    └─LeakyReLU: 3-40              [1, 32, 2, 2]             --\n",
                        "├─Sequential: 1-2                        [1, 128]                  --\n",
                        "│    └─Flatten: 2-6                      [1, 128]                  --\n",
                        "├─ModuleList: 1-3                        --                        --\n",
                        "│    └─Sequential: 2-7                   [1, 64]                   --\n",
                        "│    │    └─Linear: 3-41                 [1, 64]                   8,256\n",
                        "│    │    └─Dropout: 3-42                [1, 64]                   --\n",
                        "│    │    └─LeakyReLU: 3-43              [1, 64]                   --\n",
                        "│    └─Sequential: 2-8                   [1, 44]                   --\n",
                        "│    │    └─Linear: 3-44                 [1, 44]                   2,860\n",
                        "==========================================================================================\n",
                        "Total params: 83,548\n",
                        "Trainable params: 83,548\n",
                        "Non-trainable params: 0\n",
                        "Total mult-adds (M): 14.05\n",
                        "==========================================================================================\n",
                        "Input size (MB): 0.02\n",
                        "Forward/backward pass size (MB): 2.18\n",
                        "Params size (MB): 0.33\n",
                        "Estimated Total Size (MB): 2.53\n",
                        "==========================================================================================\n"
                    ]
                }
            ],
            "source": [
                "\n",
                "cnn_model: nn.Module = AllCNN2D(\n",
                "    **{\n",
                "        \"conv_features\": (1, 16, 32, 32, 32, 32),\n",
                "        \"fully_connected_features\": (64, len(alphabet)), \n",
                "        \"expected_input_size\": (64, 64),\n",
                "        \"device\": \"cuda\",\n",
                "        \"conv_dropout\": 0.075,\n",
                "        \"verbose\": True,\n",
                "        \"name_prefix\": model_name,\n",
                "    }\n",
                ")\n"
            ]
        },
        {
            "cell_type": "code",
            "execution_count": 18,
            "metadata": {},
            "outputs": [
                {
                    "data": {
                        "text/plain": [
                            "<All keys matched successfully>"
                        ]
                    },
                    "execution_count": 18,
                    "metadata": {},
                    "output_type": "execute_result"
                }
            ],
            "source": [
                "cnn_model.load_state_dict(torch.load(checkpoint_path, weights_only=True))"
            ]
        },
        {
            "cell_type": "code",
            "execution_count": 19,
            "metadata": {},
            "outputs": [
                {
                    "name": "stdout",
                    "output_type": "stream",
                    "text": [
                        "Model saved to Mongo_LC_Prod.onnx\n"
                    ]
                }
            ],
            "source": [
                "\n",
                "# Create a dummy input tensor\n",
                "dummy_input = torch.randn(1, 1, 64, 64)  # Example input\n",
                "\n",
                "# Define the ONNX file path\n",
                "onnx_file_path = f\"Mongo_LC_Prod.onnx\"\n",
                "\n",
                "# Export the model\n",
                "torch.onnx.export(\n",
                "    cnn_model.to(device=DEVICE),\n",
                "    dummy_input.to(device=DEVICE),\n",
                "    onnx_file_path,\n",
                "    input_names=[\"input\"],  # Name of the input layer\n",
                "    output_names=[\"logits\"],  # Names of the output layers\n",
                "    dynamic_axes={\"input\": {0: \"batch_size\"}, \"logits\": {0: \"batch_size\"}},\n",
                "    opset_version=11  # Specify the ONNX opset version\n",
                ")\n",
                "\n",
                "print(f\"Model saved to {onnx_file_path}\")"
            ]
        },
        {
            "cell_type": "code",
            "execution_count": 1,
            "metadata": {},
            "outputs": [
                {
                    "ename": "NameError",
                    "evalue": "name 'cnn_model' is not defined",
                    "output_type": "error",
                    "traceback": [
                        "\u001b[1;31m---------------------------------------------------------------------------\u001b[0m",
                        "\u001b[1;31mNameError\u001b[0m                                 Traceback (most recent call last)",
                        "Cell \u001b[1;32mIn[1], line 81\u001b[0m\n\u001b[0;32m     76\u001b[0m         \u001b[38;5;28;01mreturn\u001b[39;00m percentages\n\u001b[0;32m     79\u001b[0m \u001b[38;5;66;03m# Assuming cnn_model is defined somewhere (e.g., a CNN model architecture)\u001b[39;00m\n\u001b[1;32m---> 81\u001b[0m cnn \u001b[38;5;241m=\u001b[39m CNN_ONNX_WRAPPER(\u001b[43mcnn_model\u001b[49m)\n\u001b[0;32m     83\u001b[0m \u001b[38;5;66;03m# Create a dummy input tensor\u001b[39;00m\n\u001b[0;32m     84\u001b[0m dummy_input \u001b[38;5;241m=\u001b[39m torch\u001b[38;5;241m.\u001b[39mrandn(\u001b[38;5;241m1\u001b[39m, \u001b[38;5;241m1\u001b[39m, \u001b[38;5;241m64\u001b[39m, \u001b[38;5;241m64\u001b[39m)  \u001b[38;5;66;03m# Example input with the shape [batch_size, channels, height, width]\u001b[39;00m\n",
                        "\u001b[1;31mNameError\u001b[0m: name 'cnn_model' is not defined"
                    ]
                }
            ],
            "source": [
                "import torch\n",
                "import torch.nn as nn\n",
                "import torch.nn.functional as F\n",
                "\n",
                "class CNN_ONNX_WRAPPER(nn.Module):\n",
                "    alphabet: list[str] = list(\"∃().0123456789:λμabcdefghijklmnopqrstuvwxyz\")\n",
                "\n",
                "    model: nn.Module  # This should be set to your actual CNN model\n",
                "\n",
                "    def __init__(self, cnn_model: nn.Module):\n",
                "        super(CNN_ONNX_WRAPPER, self).__init__()\n",
                "        self.model = cnn_model\n",
                "\n",
                "    @staticmethod\n",
                "    def preprocess_im(im: torch.Tensor, threshold: float, image_dims: tuple, pad: int) -> torch.Tensor:\n",
                "        # Apply the thresholding\n",
                "        image = torch.where(\n",
                "            im.squeeze() > threshold, \n",
                "            torch.tensor(1.0), \n",
                "            torch.tensor(0.0)\n",
                "        )\n",
                "\n",
                "        # Optionally, flip the image based on the top-left corner pixel value\n",
                "        # Compare the value directly without using .item()\n",
                "        if image[0, 0] > 0.5:  # Tensor comparison (element-wise)\n",
                "            image = 1.0 - image\n",
                "\n",
                "        # Crop around black pixels (foreground)\n",
                "        mask = image > 0.5  # Assume the foreground is black\n",
                "        coords = torch.nonzero(mask)\n",
                "\n",
                "        if coords.shape[0] > 0:\n",
                "            # Get min and max coordinates directly as tensors, no need for .item()\n",
                "            min_coords = coords.min(dim=0)[0]  # Get the min values\n",
                "            max_coords = coords.max(dim=0)[0]  # Get the max values\n",
                "            \n",
                "            # Use tensor indexing for cropping\n",
                "            x_min, y_min = min_coords[0], min_coords[1]\n",
                "            x_max, y_max = max_coords[0], max_coords[1]\n",
                "            \n",
                "            # Crop the image based on coordinates\n",
                "            image = image[x_min:x_max + 1, y_min:y_max + 1]\n",
                "\n",
                "        # Resize the image using interpolate (ONNX-compatible)\n",
                "        image = F.interpolate(image.unsqueeze(0).unsqueeze(0), size=[d - pad * 2 for d in image_dims])\n",
                "\n",
                "        # Apply threshold again after resizing\n",
                "        image = (image > threshold).to(torch.float32)\n",
                "\n",
                "        # Pad the image\n",
                "        image = F.pad(image, (pad, pad, pad, pad), value=0.0)\n",
                "\n",
                "        return image\n",
                "\n",
                "    @staticmethod\n",
                "    def softmax(x: torch.Tensor) -> torch.Tensor:\n",
                "        # Softmax on the logits\n",
                "        return torch.nn.functional.softmax(x, dim=1)\n",
                "\n",
                "    def forward(self, im: torch.Tensor) -> torch.Tensor:\n",
                "        # Preprocess the input image\n",
                "        im = self.preprocess_im(im, 0.5, (64, 64), 1)\n",
                "\n",
                "        # Debugging step: Check tensor shape before model inference\n",
                "        print(f\"Processed image shape: {im.shape}\")\n",
                "\n",
                "        # Forward pass through the model\n",
                "        logits = self.model(im)  # Add batch dimension and pass through the model\n",
                "\n",
                "        # Debugging step: Check the shape of logits\n",
                "        print(f\"Logits shape: {logits.shape}\")\n",
                "\n",
                "        # Apply softmax to get the percentages\n",
                "        percentages = self.softmax(logits)\n",
                "\n",
                "        return percentages\n",
                "\n",
                "\n",
                "# Assuming cnn_model is defined somewhere (e.g., a CNN model architecture)\n",
                "\n",
                "cnn = CNN_ONNX_WRAPPER(cnn_model)\n",
                "\n",
                "# Create a dummy input tensor\n",
                "dummy_input = torch.randn(1, 1, 64, 64)  # Example input with the shape [batch_size, channels, height, width]\n",
                "\n",
                "# Define the ONNX file path\n",
                "onnx_file_path = \"Lake_FINAL_Prod.onnx\"\n",
                "\n",
                "# Export the model\n",
                "torch.onnx.export(\n",
                "    cnn.eval(),\n",
                "    dummy_input,\n",
                "    onnx_file_path,\n",
                "    input_names=[\"input\"],  # Name of the input layer\n",
                "    output_names=[\"prob\"],  # Names of the output layers\n",
                "    dynamic_axes={\"input\": {0: \"batch_size\", 2: \"height\", 3: \"width\"}, \"prob\": {0: \"batch_size\"}},\n",
                "    opset_version=12  # Specify the ONNX opset version\n",
                ")\n",
                "\n",
                "print(f\"Model saved to {onnx_file_path}\")\n",
                "\n",
                "\n"
            ]
        },
        {
            "cell_type": "markdown",
            "metadata": {},
            "source": [
                "# Load Onnx"
            ]
        },
        {
            "cell_type": "code",
            "execution_count": 132,
            "metadata": {},
            "outputs": [],
            "source": [
                "import onnxruntime\n",
                "import numpy as np\n",
                "import os\n",
                "from PIL import Image"
            ]
        },
        {
            "cell_type": "code",
            "execution_count": 133,
            "metadata": {},
            "outputs": [],
            "source": [
                "onnx_file_path = f\"Lake_FINAL_Prod.onnx\"\n",
                "\n",
                "# Load the ONNX model\n",
                "model_path = onnx_file_path\n",
                "\n",
                "# Define the execution providers without TensorRT\n",
                "providers = ['CPUExecutionProvider']\n",
                "\n",
                "# Create the InferenceSession with the explicit providers\n",
                "session = onnxruntime.InferenceSession(model_path, providers=providers)\n",
                "\n",
                "# Prepare the input image\n",
                "input_image = np.random.random(\n",
                "    (\n",
                "        1,  # batch: stack as many images as you like here\n",
                "        1,  # channels: needs to be 1 (grayscale), pixels are 1.0 or 0.0\n",
                "        64, # height: fixed to 64 pixels for now\n",
                "        64  # width: fixed to 64 pixels for now\n",
                "    )\n",
                ").astype(np.float32)\n",
                "\n",
                "\n",
                "\n"
            ]
        },
        {
            "cell_type": "code",
            "execution_count": 134,
            "metadata": {},
            "outputs": [
                {
                    "name": "stdout",
                    "output_type": "stream",
                    "text": [
                        "Processed image shape: torch.Size([1, 1, 64, 64])\n",
                        "Logits shape: torch.Size([1, 43])\n",
                        "Top indices shape: torch.Size([1, 43])\n"
                    ]
                }
            ],
            "source": [
                "inputs: list[onnxruntime.NodeArg] = session.get_inputs()\n",
                "outputs: list[onnxruntime.NodeArg] = session.get_outputs()\n",
                "\n",
                "input_name: list[str] = inputs[0].name\n",
                "output_names: list[str] = [out.name for out in outputs]\n",
                "\n",
                "test_im_path: str = r\"test_im.png\"\n",
                "test_im: Image.Image = Image.open(test_im_path).convert(\"L\")\n",
                "test_im_np: np.ndarray = np.asarray(test_im).astype(np.float32)\n",
                "\n",
                "c_prob = cnn.eval().forward(torch.tensor(test_im_np))\n",
                "prob = session.run(\n",
                "    output_names, \n",
                "    {input_name: np.expand_dims(np.expand_dims(test_im_np, 0), 0)}\n",
                ")"
            ]
        },
        {
            "cell_type": "code",
            "execution_count": 135,
            "metadata": {},
            "outputs": [
                {
                    "data": {
                        "text/plain": [
                            "[(tensor([[9.9999e-01, 5.2548e-06, 1.7248e-06, 8.1988e-07, 7.9782e-07, 5.8198e-07,\n",
                            "           3.0758e-07, 2.0259e-07, 1.6081e-07, 1.2946e-07, 2.3220e-08, 2.1835e-08,\n",
                            "           1.7244e-08, 1.7012e-08, 1.5099e-08, 1.0663e-08, 1.0223e-08, 2.6446e-09,\n",
                            "           2.5364e-09, 2.4631e-09, 2.3556e-09, 1.3106e-09, 9.8690e-10, 8.5152e-10,\n",
                            "           1.5691e-10, 8.2225e-11, 5.7212e-11, 4.9990e-11, 3.8997e-11, 1.2193e-11,\n",
                            "           2.4857e-12, 9.5809e-13, 9.4636e-13, 5.4760e-13, 1.8145e-13, 1.3831e-13,\n",
                            "           1.3262e-13, 3.5077e-14, 2.8431e-16, 1.8610e-16, 1.0641e-16, 6.3491e-17,\n",
                            "           1.4506e-17]], device='cuda:0', grad_fn=<GatherBackward0>),\n",
                            "  array([[9.9998999e-01, 5.2570049e-06, 1.7245728e-06, 8.1932870e-07,\n",
                            "          7.9734730e-07, 5.8144116e-07, 3.0757428e-07, 2.0254525e-07,\n",
                            "          1.6080422e-07, 1.2947180e-07, 2.3234454e-08, 2.1837661e-08,\n",
                            "          1.7260124e-08, 1.7012930e-08, 1.5071729e-08, 1.0674785e-08,\n",
                            "          1.0232568e-08, 2.6464866e-09, 2.5363978e-09, 2.4632330e-09,\n",
                            "          2.3562956e-09, 1.3109808e-09, 9.8771524e-10, 8.5169272e-10,\n",
                            "          1.5688881e-10, 8.2367668e-11, 5.7273134e-11, 5.0072991e-11,\n",
                            "          3.9002836e-11, 1.2206091e-11, 2.4869085e-12, 9.5866425e-13,\n",
                            "          9.4728956e-13, 5.4838718e-13, 1.8144352e-13, 1.3844312e-13,\n",
                            "          1.3272616e-13, 3.5106602e-14, 2.8464672e-16, 1.8622565e-16,\n",
                            "          1.0655152e-16, 6.3578961e-17, 1.4504423e-17]], dtype=float32)),\n",
                            " (tensor([ 956,  955,  120,  107,  121,  117,  100,   97,  108,  116,  101,  104,\n",
                            "            49,  119,   52,  122,  112,  114,   40,  118,   98,   58,  113,  102,\n",
                            "           105,  110,   55,  109,   54,   50,   57,   51, 8707,   48,   53,   56,\n",
                            "           103,   99,   46,  106,  111,   41,  115]),\n",
                            "  array([  56,  100,  116,  102,  103,  120,   98,  113,  112,  101,  109,\n",
                            "          122,   97,   54,  956,   57,  121,  107,   51, 8707,  117,   52,\n",
                            "          118,   53,  119,  108,   48,  111,  115,  104,   50,  955,   49,\n",
                            "           58,  110,   55,  105,  106,  114,   99,   40,   41,   46],\n",
                            "        dtype=int64))]"
                        ]
                    },
                    "execution_count": 135,
                    "metadata": {},
                    "output_type": "execute_result"
                }
            ],
            "source": [
                "list(zip([x for x in c_prob], [x for x in prob]))\n",
                "# Run inference\n"
            ]
        },
        {
            "cell_type": "markdown",
            "metadata": {},
            "source": [
                "# Class"
            ]
        },
        {
            "cell_type": "code",
            "execution_count": null,
            "metadata": {},
            "outputs": [],
            "source": []
        },
        {
            "cell_type": "markdown",
            "metadata": {},
            "source": [
                "# Inference"
            ]
        },
        {
            "cell_type": "code",
            "execution_count": 52,
            "metadata": {},
            "outputs": [],
            "source": [
                "import torch\n",
                "import numpy as np\n",
                "from PIL import Image\n",
                "from torchvision.transforms import functional as F\n",
                "\n",
                "def preprocess_im(im: str, threshold: float, image_dims: tuple, pad: int) -> np.ndarray:\n",
                "    # Load the image\n",
                "    image = Image.open(im)\n",
                "    \n",
                "    # Convert to grayscale (if not already)\n",
                "    image = image.convert(\"L\")\n",
                "    \n",
                "    # Convert the image to a tensor\n",
                "    image = F.to_tensor(image).squeeze()\n",
                "    \n",
                "    # Thresholding the image\n",
                "    image = torch.where(image > threshold, torch.tensor(1.0), torch.tensor(0.0))\n",
                "\n",
                "    \n",
                "    if image[0, 0] > 0.5:\n",
                "        image = 1.0 - image\n",
                "    \n",
                "    # Crop the image around the black pixels (foreground)\n",
                "    mask = image > 0.5  # Assuming foreground is black (0) and background is white (1)\n",
                "    coords = torch.nonzero(mask)\n",
                "    \n",
                "    if coords.shape[0] > 0:\n",
                "        # Get min and max coordinates\n",
                "        min_coords = coords.min(dim=0)[0]  # Getting the min values\n",
                "        max_coords = coords.max(dim=0)[0]  # Getting the max values\n",
                "        \n",
                "        x_min, y_min = min_coords[0].item(), min_coords[1].item()  # Convert tensor to scalar\n",
                "        x_max, y_max = max_coords[0].item(), max_coords[1].item()  # Convert tensor to scalar\n",
                "        \n",
                "        # Crop the image based on coordinates\n",
                "        image = image[x_min:x_max + 1, y_min:y_max + 1]\n",
                "    \n",
                "    # Resize to the desired dimensions\n",
                "    image = F.resize(image.unsqueeze(0), [d - pad * 2 for d in image_dims])\n",
                "    \n",
                "    # Threshold again after resize\n",
                "    image = (image > threshold).type(torch.uint8).type(torch.float32)\n",
                "\n",
                "    # Pad the image\n",
                "    image = F.pad(image, (pad, pad, pad, pad), fill=0.0)\n",
                "\n",
                "    # Convert to NumPy array\n",
                "    image = image.squeeze().cpu().numpy()  # Remove the batch dimension and convert to NumPy\n",
                "\n",
                "    return image\n"
            ]
        },
        {
            "cell_type": "code",
            "execution_count": null,
            "metadata": {},
            "outputs": [],
            "source": []
        },
        {
            "cell_type": "code",
            "execution_count": null,
            "metadata": {},
            "outputs": [],
            "source": []
        },
        {
            "cell_type": "code",
            "execution_count": 39,
            "metadata": {},
            "outputs": [
                {
                    "data": {
                        "image/png": "[encoded data removed]",
                        "text/plain": [
                            "<PIL.Image.Image image mode=L size=154x143>"
                        ]
                    },
                    "execution_count": 39,
                    "metadata": {},
                    "output_type": "execute_result"
                }
            ],
            "source": [
                "test_im_path: str = r\"test_im.png\"\n",
                "test_im: Image.Image = Image.open(test_im_path).convert(\"L\")\n",
                "test_im"
            ]
        },
        {
            "cell_type": "code",
            "execution_count": 57,
            "metadata": {},
            "outputs": [
                {
                    "data": {
                        "image/png": "[encoded data removed]",
                        "text/plain": [
                            "<Figure size 640x480 with 1 Axes>"
                        ]
                    },
                    "metadata": {},
                    "output_type": "display_data"
                }
            ],
            "source": [
                "test_im_np = preprocess_im(test_im_path, 0.1, (64, 64), 1)\n",
                "\n",
                "plt.imshow(test_im_np)\n",
                "plt.show()"
            ]
        },
        {
            "cell_type": "code",
            "execution_count": null,
            "metadata": {},
            "outputs": [
                {
                    "data": {
                        "text/plain": [
                            "(array([9.94052410e-01, 1.23858731e-03, 9.81083489e-04, 6.86358311e-04,\n",
                            "        6.23539032e-04, 6.17766578e-04, 6.12980337e-04, 4.79297625e-04,\n",
                            "        1.40747419e-04, 1.03887825e-04, 1.03488579e-04, 1.00947203e-04,\n",
                            "        9.20660677e-05, 8.27235781e-05, 1.91916297e-05, 1.06729467e-05,\n",
                            "        9.47296121e-06, 8.12046710e-06, 7.98343717e-06, 7.91991897e-06,\n",
                            "        4.30528098e-06, 3.55534780e-06, 3.19691048e-06, 2.17775141e-06,\n",
                            "        1.96297742e-06, 1.89501952e-06, 1.31547233e-06, 6.72157057e-07,\n",
                            "        6.70021336e-07, 4.55316723e-07, 1.70466848e-07, 1.66958785e-07,\n",
                            "        6.93960942e-08, 3.81598682e-08, 3.45308315e-08, 2.14136531e-09,\n",
                            "        1.18820531e-09, 9.17822873e-10, 1.36637798e-10, 5.52658717e-11,\n",
                            "        5.39423055e-11, 2.60328044e-11, 1.79959415e-11], dtype=float32),\n",
                            " array([ 956,  101,  116,  107,  122,   98,  108,  120,  104,   49,  102,\n",
                            "         955,  112,  121,  100,   97,  117,   58,  113,  114,   40,  110,\n",
                            "         118,  105,   54,  119,   52,   50,   55,  109,   48,   56,   53,\n",
                            "        8707,   51,   57,  103,   99,  111,  106,   46,  115,   41]))"
                        ]
                    },
                    "execution_count": 87,
                    "metadata": {},
                    "output_type": "execute_result"
                }
            ],
            "source": []
        },
        {
            "cell_type": "code",
            "execution_count": null,
            "metadata": {},
            "outputs": [
                {
                    "data": {
                        "text/plain": [
                            "(64, 64)"
                        ]
                    },
                    "execution_count": 58,
                    "metadata": {},
                    "output_type": "execute_result"
                }
            ],
            "source": [
                "test_im_np.shape"
            ]
        },
        {
            "cell_type": "code",
            "execution_count": 59,
            "metadata": {},
            "outputs": [],
            "source": [
                "\n",
                "softmax: np.ndarray\n",
                "softmax_ordered: np.ndarray\n",
                "logits: np.ndarray\n",
                "\n",
                "logits = session.run(\n",
                "    output_names, \n",
                "    {input_name: np.expand_dims(np.expand_dims(test_im_np, 0), 0)}\n",
                ")[0]\n",
                "\n",
                "# logits.shape is shape (batch, character) for all character labels\n",
                "# softmax.shape is shape (batch, character) for all character labels\n",
                "# softmax_ordered is shape (batch, character, [label index, label prob, unicode character value])\n",
                "\n",
                "# character dim is 44 (there are 44 character labels)\n",
                "# label index is from 0 to 44 (corresponding to each ordered label index)\n",
                "# label prob is a softmaxed probability for this label prediction\n",
                "# unicode character value is the unicode character for this prediction\n",
                "\n"
            ]
        },
        {
            "cell_type": "code",
            "execution_count": null,
            "metadata": {},
            "outputs": [],
            "source": []
        },
        {
            "cell_type": "code",
            "execution_count": null,
            "metadata": {},
            "outputs": [
                {
                    "data": {
                        "text/plain": [
                            "43"
                        ]
                    },
                    "execution_count": 61,
                    "metadata": {},
                    "output_type": "execute_result"
                }
            ],
            "source": []
        },
        {
            "cell_type": "code",
            "execution_count": 62,
            "metadata": {},
            "outputs": [
                {
                    "data": {
                        "text/plain": [
                            "'μ'"
                        ]
                    },
                    "execution_count": 62,
                    "metadata": {},
                    "output_type": "execute_result"
                }
            ],
            "source": [
                "index = np.argmax(softmax(logits.squeeze()))\n",
                "alphabet[index]"
            ]
        },
        {
            "cell_type": "code",
            "execution_count": 20,
            "metadata": {},
            "outputs": [
                {
                    "data": {
                        "text/plain": [
                            "array([[5.30846650e-04, 1.68099464e-03, 1.37032261e-02, 1.18300821e-04,\n",
                            "        5.17544569e-03, 1.18788116e-01, 7.00770020e-02, 2.72251527e-05,\n",
                            "        5.65034361e-06, 2.70747951e-05, 7.02182706e-06, 1.98335965e-05,\n",
                            "        2.47772950e-05, 2.26152275e-04, 2.94749648e-03, 5.39878034e-04,\n",
                            "        1.65653706e-01, 1.00289382e-01, 2.63870694e-03, 1.34053471e-05,\n",
                            "        6.00268249e-04, 2.87390407e-03, 3.22919041e-05, 2.28433162e-02,\n",
                            "        7.75476918e-04, 1.12298233e-06, 1.69513543e-04, 2.67672760e-07,\n",
                            "        3.25475936e-03, 7.96237418e-06, 1.93356220e-02, 5.77072799e-03,\n",
                            "        3.84508690e-04, 9.18507576e-03, 4.11047113e-05, 5.12989820e-04,\n",
                            "        1.17080397e-07, 9.30333436e-02, 1.01616504e-02, 3.10798088e-04,\n",
                            "        8.07399279e-04, 3.47387671e-01, 1.58225430e-05]], dtype=float32)"
                        ]
                    },
                    "execution_count": 20,
                    "metadata": {},
                    "output_type": "execute_result"
                }
            ],
            "source": [
                "\n",
                "softmax(logits)"
            ]
        },
        {
            "cell_type": "code",
            "execution_count": 21,
            "metadata": {},
            "outputs": [
                {
                    "ename": "NameError",
                    "evalue": "name 'softmax_ordered' is not defined",
                    "output_type": "error",
                    "traceback": [
                        "\u001b[1;31m---------------------------------------------------------------------------\u001b[0m",
                        "\u001b[1;31mNameError\u001b[0m                                 Traceback (most recent call last)",
                        "Cell \u001b[1;32mIn[21], line 1\u001b[0m\n\u001b[1;32m----> 1\u001b[0m top_character_probs: \u001b[38;5;28mlist\u001b[39m[\u001b[38;5;28mlist\u001b[39m[\u001b[38;5;28mfloat\u001b[39m]] \u001b[38;5;241m=\u001b[39m \u001b[43msoftmax_ordered\u001b[49m[:, :, \u001b[38;5;241m1\u001b[39m]\u001b[38;5;241m.\u001b[39mtolist()\n\u001b[0;32m      3\u001b[0m top_characters: \u001b[38;5;28mlist\u001b[39m[\u001b[38;5;28mlist\u001b[39m[\u001b[38;5;28mstr\u001b[39m]] \u001b[38;5;241m=\u001b[39m [\n\u001b[0;32m      4\u001b[0m     [\n\u001b[0;32m      5\u001b[0m         \u001b[38;5;28mchr\u001b[39m(\u001b[38;5;28mint\u001b[39m(softmax_ordered[batch_i, i, \u001b[38;5;241m2\u001b[39m])) \n\u001b[1;32m   (...)\u001b[0m\n\u001b[0;32m      8\u001b[0m     \u001b[38;5;28mrange\u001b[39m(softmax_ordered\u001b[38;5;241m.\u001b[39mshape[\u001b[38;5;241m0\u001b[39m])\n\u001b[0;32m      9\u001b[0m ]\n",
                        "\u001b[1;31mNameError\u001b[0m: name 'softmax_ordered' is not defined"
                    ]
                }
            ],
            "source": [
                "\n",
                "\n",
                "top_character_probs: list[list[float]] = softmax_ordered[:, :, 1].tolist()\n",
                "\n",
                "top_characters: list[list[str]] = [\n",
                "    [\n",
                "        chr(int(softmax_ordered[batch_i, i, 2])) \n",
                "        for i in range(softmax_ordered.shape[1])\n",
                "    ] for batch_i in \n",
                "    range(softmax_ordered.shape[0])\n",
                "]\n"
            ]
        },
        {
            "cell_type": "markdown",
            "metadata": {},
            "source": [
                "# Hello World"
            ]
        },
        {
            "cell_type": "code",
            "execution_count": null,
            "metadata": {},
            "outputs": [],
            "source": [
                "class TextReShitter(nn.Module):\n",
                "    \n",
                "    def __init__(self, alphabet: list[str], text: str):\n",
                "        \n",
                "        super(TextReShitter, self).__init__()\n",
                "        \n",
                "        self.alphabet: list[str] = alphabet\n",
                "        self.text: str = text\n",
                "        \n",
                "        self.logits: list[torch.Tensor] = []\n",
                "        \n",
                "        for c in self.text:\n",
                "            c_index: int = self.alphabet.index(c)\n",
                "            \n",
                "            char_logits: torch.Tensor = torch.rand((len(alphabet),))\n",
                "            char_logits[c_index] += 2\n",
                "            char_logits *= (torch.rand(1)+0.1)\n",
                "\n",
                "            self.logits.append(char_logits)\n",
                "\n",
                "        self.logits_tensor: torch.Tensor = torch.stack(self.logits, dim=0)\n",
                "        \n",
                "        self.logits_tensor = self.logits_tensor.unsqueeze(0) # batch, chars, logit\n",
                "        \n",
                "    def forward(self, x: torch.Tensor) -> torch.Tensor:\n",
                "        \n",
                "        self.logits_tensor = self.logits_tensor + x.sum() * 0.0  \n",
                "\n",
                "        softmax = torch.softmax(self.logits_tensor, dim=-1)\n",
                "        \n",
                "        # Create indices for the first dimension (char_prob_i)\n",
                "        char_prob_indices = torch.arange(softmax.size(-1), device=softmax.device).reshape(1, 1, -1, 1)\n",
                "        \n",
                "        # Create indices for the third dimension (ord(self.alphabet[char_prob_i]))\n",
                "        alphabet_indices = torch.tensor([ord(c) for c in self.alphabet], device=softmax.device).reshape(1, 1, -1, 1)\n",
                "        \n",
                "        # Expand dimensions to match softmax shape\n",
                "        char_prob_indices = char_prob_indices.expand(*softmax.shape, 1)\n",
                "        alphabet_indices = alphabet_indices.expand(*softmax.shape, 1)\n",
                "        \n",
                "        # Concatenate along the last dimension\n",
                "        softmax_ordered = torch.cat([char_prob_indices, softmax.unsqueeze(-1), alphabet_indices], dim=-1)\n",
                "        \n",
                "        # Sort along the probability dimension (dim=-2)\n",
                "        sorting_indices = softmax_ordered[..., 1].argsort(dim=-1, descending=True)\n",
                "        sorted_tensor = torch.gather(softmax_ordered, -2, sorting_indices.unsqueeze(-1).expand(-1, -1, -1, 3))\n",
                "        \n",
                "        x = x * 0.5\n",
                "        \n",
                "        unicodes: torch.Tensor = sorted_tensor[0, :, :, 2]\n",
                "        probs: torch.Tensor = sorted_tensor[0, :, :, 1]\n",
                "        \n",
                "        unicodes = unicodes.to(dtype=torch.int)\n",
                "        \n",
                "        return unicodes, probs \n",
                "        \n",
                "        \n",
                "        "
            ]
        },
        {
            "cell_type": "code",
            "execution_count": null,
            "metadata": {},
            "outputs": [
                {
                    "data": {
                        "text/plain": [
                            "(tensor([[104,  54,  57,  98, 121, 113, 111, 105,  50, 118,  55, 119,  51,  43,\n",
                            "          116,  40, 108, 117, 247,  97, 215, 115, 122,  99,  52,  45, 110,  53,\n",
                            "           41, 112,  48,  46, 103, 100,  49, 109,  56, 120, 955, 106, 114, 107,\n",
                            "          101, 102],\n",
                            "         [101, 103,  57, 955,  53,  97, 100, 215,  51, 114, 119,  40, 109,  48,\n",
                            "          108,  54,  46,  50, 102, 121, 247, 120, 116, 115, 122,  99,  55, 104,\n",
                            "           98,  41, 107, 110, 106, 113, 118, 105,  43, 117,  45, 111,  52, 112,\n",
                            "           56,  49],\n",
                            "         [108,  51,  50, 103, 105, 100, 113, 116, 247, 109, 119,  99,  45, 104,\n",
                            "          121, 118,  46,  43,  98,  55, 120,  52, 955,  54,  41,  49,  57, 115,\n",
                            "          102,  48,  53, 112, 101,  40, 114, 111, 215, 122,  56, 106,  97, 117,\n",
                            "          107, 110],\n",
                            "         [108,  45, 116,  99,  54,  48, 102, 121, 106,  51,  98,  56,  46, 215,\n",
                            "          115, 247, 101,  40,  52,  49,  57, 104, 111, 120, 955,  55, 110, 122,\n",
                            "          119, 113, 100,  41, 109,  50,  97, 117,  43, 118, 103, 114, 107, 105,\n",
                            "           53, 112],\n",
                            "         [111, 101,  57,  48,  99, 118, 112, 215,  49, 104, 114, 122, 105,  98,\n",
                            "           46, 103, 110, 120, 115,  97,  54,  45,  53,  51, 116,  40,  50, 108,\n",
                            "           56, 117, 113, 109, 119,  43, 121, 107, 100,  41,  52,  55, 955, 102,\n",
                            "          247, 106],\n",
                            "         [ 46, 112, 117, 106, 111, 115, 247, 119,  54, 103, 109, 113, 107, 101,\n",
                            "           97, 122, 110, 121, 114,  43,  40, 116, 118, 105,  49, 215, 100,  57,\n",
                            "           48,  51,  52,  56,  55,  41, 104, 955,  53,  98, 108,  99,  45, 120,\n",
                            "          102,  50],\n",
                            "         [119, 112,  55,  45,  51, 111,  54,  98, 102,  52, 247,  57, 955,  40,\n",
                            "          118, 115, 100,  97, 103, 101, 110, 107, 117, 106, 121, 109,  41,  53,\n",
                            "          120, 105,  49,  46,  56, 114, 104,  48, 108,  43, 215, 122, 116,  99,\n",
                            "          113,  50],\n",
                            "         [111,  55, 107, 120, 100,  98,  57,  41, 113,  51,  99, 103,  50, 108,\n",
                            "          105, 116,  48, 215, 112, 106,  43,  56, 122,  46,  52, 119,  40, 109,\n",
                            "           45, 102,  97, 104, 101, 118,  49, 110, 114,  53, 247, 121,  54, 115,\n",
                            "          955, 117],\n",
                            "         [114,  56, 104,  97, 103,  55, 116,  41, 105, 215,  49,  48, 101, 118,\n",
                            "           57, 107, 119, 109, 247, 955,  40, 111,  52,  98, 108,  51,  54, 120,\n",
                            "          112, 115,  53,  45, 117, 121, 100,  46, 102,  99,  43,  50, 106, 110,\n",
                            "          122, 113],\n",
                            "         [108,  54,  43, 118, 115,  51, 102,  41,  55, 117,  98, 101, 122, 215,\n",
                            "          119, 100,  56, 116, 107,  99,  48, 109,  49, 106,  45, 121,  46, 105,\n",
                            "           53,  52,  97, 112, 955, 104, 113, 111, 114,  50, 247,  40, 103, 120,\n",
                            "           57, 110],\n",
                            "         [100,  46, 103, 105, 215, 117, 110, 104, 113, 119, 118, 247,  54,  48,\n",
                            "          121, 112, 122, 114,  49, 106,  57,  56, 120,  98, 102, 955,  52, 101,\n",
                            "          108, 107,  40, 115, 109,  43,  51,  99,  50, 111,  55,  97, 116,  45,\n",
                            "           53,  41]], dtype=torch.int32),\n",
                            " tensor([[0.1105, 0.0316, 0.0312, 0.0310, 0.0306, 0.0294, 0.0279, 0.0268, 0.0261,\n",
                            "          0.0260, 0.0260, 0.0257, 0.0255, 0.0242, 0.0237, 0.0235, 0.0226, 0.0226,\n",
                            "          0.0222, 0.0219, 0.0219, 0.0214, 0.0208, 0.0202, 0.0198, 0.0196, 0.0191,\n",
                            "          0.0187, 0.0187, 0.0170, 0.0165, 0.0162, 0.0154, 0.0151, 0.0150, 0.0145,\n",
                            "          0.0142, 0.0142, 0.0136, 0.0125, 0.0122, 0.0114, 0.0114, 0.0113],\n",
                            "         [0.0369, 0.0249, 0.0248, 0.0248, 0.0248, 0.0248, 0.0246, 0.0245, 0.0243,\n",
                            "          0.0243, 0.0241, 0.0240, 0.0239, 0.0239, 0.0238, 0.0238, 0.0236, 0.0233,\n",
                            "          0.0231, 0.0231, 0.0229, 0.0229, 0.0227, 0.0226, 0.0224, 0.0224, 0.0223,\n",
                            "          0.0219, 0.0219, 0.0217, 0.0216, 0.0212, 0.0212, 0.0210, 0.0208, 0.0201,\n",
                            "          0.0201, 0.0199, 0.0196, 0.0193, 0.0193, 0.0192, 0.0190, 0.0190],\n",
                            "         [0.0446, 0.0253, 0.0252, 0.0250, 0.0250, 0.0248, 0.0247, 0.0247, 0.0240,\n",
                            "          0.0240, 0.0240, 0.0239, 0.0237, 0.0235, 0.0235, 0.0234, 0.0232, 0.0229,\n",
                            "          0.0227, 0.0227, 0.0223, 0.0221, 0.0219, 0.0219, 0.0216, 0.0215, 0.0214,\n",
                            "          0.0211, 0.0210, 0.0210, 0.0208, 0.0206, 0.0206, 0.0205, 0.0205, 0.0205,\n",
                            "          0.0203, 0.0203, 0.0202, 0.0202, 0.0201, 0.0199, 0.0196, 0.0194],\n",
                            "         [0.0365, 0.0246, 0.0246, 0.0244, 0.0243, 0.0242, 0.0241, 0.0241, 0.0240,\n",
                            "          0.0239, 0.0239, 0.0237, 0.0237, 0.0234, 0.0234, 0.0234, 0.0230, 0.0228,\n",
                            "          0.0227, 0.0226, 0.0225, 0.0225, 0.0225, 0.0222, 0.0221, 0.0220, 0.0220,\n",
                            "          0.0220, 0.0219, 0.0218, 0.0217, 0.0215, 0.0213, 0.0212, 0.0210, 0.0208,\n",
                            "          0.0208, 0.0208, 0.0206, 0.0205, 0.0204, 0.0203, 0.0203, 0.0202],\n",
                            "         [0.1248, 0.0297, 0.0292, 0.0291, 0.0290, 0.0290, 0.0286, 0.0275, 0.0272,\n",
                            "          0.0262, 0.0250, 0.0244, 0.0243, 0.0241, 0.0234, 0.0230, 0.0226, 0.0218,\n",
                            "          0.0217, 0.0214, 0.0207, 0.0202, 0.0202, 0.0192, 0.0190, 0.0188, 0.0184,\n",
                            "          0.0184, 0.0182, 0.0176, 0.0174, 0.0168, 0.0154, 0.0148, 0.0144, 0.0142,\n",
                            "          0.0135, 0.0133, 0.0133, 0.0132, 0.0132, 0.0130, 0.0129, 0.0121],\n",
                            "         [0.0831, 0.0307, 0.0302, 0.0302, 0.0297, 0.0293, 0.0292, 0.0292, 0.0285,\n",
                            "          0.0281, 0.0271, 0.0266, 0.0250, 0.0245, 0.0234, 0.0233, 0.0230, 0.0228,\n",
                            "          0.0226, 0.0214, 0.0211, 0.0208, 0.0207, 0.0204, 0.0200, 0.0194, 0.0189,\n",
                            "          0.0182, 0.0177, 0.0177, 0.0177, 0.0168, 0.0166, 0.0164, 0.0163, 0.0160,\n",
                            "          0.0156, 0.0155, 0.0150, 0.0147, 0.0142, 0.0141, 0.0141, 0.0140],\n",
                            "         [0.0618, 0.0272, 0.0269, 0.0265, 0.0264, 0.0263, 0.0259, 0.0255, 0.0254,\n",
                            "          0.0251, 0.0251, 0.0249, 0.0246, 0.0242, 0.0237, 0.0234, 0.0233, 0.0232,\n",
                            "          0.0227, 0.0227, 0.0224, 0.0223, 0.0221, 0.0203, 0.0202, 0.0200, 0.0199,\n",
                            "          0.0199, 0.0199, 0.0196, 0.0194, 0.0193, 0.0193, 0.0191, 0.0190, 0.0189,\n",
                            "          0.0183, 0.0181, 0.0181, 0.0180, 0.0178, 0.0178, 0.0178, 0.0178],\n",
                            "         [0.0979, 0.0313, 0.0303, 0.0293, 0.0291, 0.0289, 0.0271, 0.0265, 0.0259,\n",
                            "          0.0257, 0.0252, 0.0244, 0.0241, 0.0236, 0.0231, 0.0230, 0.0216, 0.0215,\n",
                            "          0.0213, 0.0207, 0.0207, 0.0205, 0.0204, 0.0203, 0.0198, 0.0195, 0.0189,\n",
                            "          0.0188, 0.0184, 0.0183, 0.0180, 0.0180, 0.0169, 0.0168, 0.0164, 0.0163,\n",
                            "          0.0161, 0.0157, 0.0156, 0.0156, 0.0151, 0.0147, 0.0143, 0.0142],\n",
                            "         [0.0317, 0.0248, 0.0247, 0.0247, 0.0246, 0.0245, 0.0241, 0.0241, 0.0239,\n",
                            "          0.0238, 0.0236, 0.0236, 0.0233, 0.0233, 0.0233, 0.0232, 0.0232, 0.0228,\n",
                            "          0.0227, 0.0226, 0.0225, 0.0225, 0.0224, 0.0224, 0.0224, 0.0220, 0.0219,\n",
                            "          0.0219, 0.0218, 0.0218, 0.0218, 0.0216, 0.0215, 0.0214, 0.0212, 0.0212,\n",
                            "          0.0212, 0.0212, 0.0211, 0.0210, 0.0209, 0.0207, 0.0206, 0.0205],\n",
                            "         [0.0449, 0.0259, 0.0256, 0.0250, 0.0250, 0.0250, 0.0250, 0.0248, 0.0246,\n",
                            "          0.0245, 0.0243, 0.0238, 0.0237, 0.0236, 0.0233, 0.0233, 0.0232, 0.0231,\n",
                            "          0.0230, 0.0230, 0.0230, 0.0226, 0.0220, 0.0220, 0.0218, 0.0218, 0.0217,\n",
                            "          0.0213, 0.0212, 0.0209, 0.0207, 0.0207, 0.0203, 0.0202, 0.0201, 0.0200,\n",
                            "          0.0200, 0.0197, 0.0195, 0.0193, 0.0193, 0.0192, 0.0191, 0.0190],\n",
                            "         [0.0325, 0.0244, 0.0240, 0.0239, 0.0239, 0.0237, 0.0236, 0.0236, 0.0236,\n",
                            "          0.0236, 0.0233, 0.0233, 0.0230, 0.0229, 0.0229, 0.0228, 0.0228, 0.0228,\n",
                            "          0.0228, 0.0228, 0.0228, 0.0227, 0.0227, 0.0227, 0.0226, 0.0226, 0.0226,\n",
                            "          0.0225, 0.0223, 0.0223, 0.0223, 0.0222, 0.0221, 0.0215, 0.0214, 0.0214,\n",
                            "          0.0212, 0.0211, 0.0211, 0.0209, 0.0208, 0.0207, 0.0206, 0.0204]]))"
                        ]
                    },
                    "execution_count": 133,
                    "metadata": {},
                    "output_type": "execute_result"
                }
            ],
            "source": [
                "hello_world_model = TextReShitter(alphabet, \"hello.world\")\n",
                "\n",
                "hello_world_model.forward(torch.zeros(1, 1, 1, 1))\n"
            ]
        },
        {
            "cell_type": "markdown",
            "metadata": {},
            "source": [
                "# ONNX: Save Hello World"
            ]
        },
        {
            "cell_type": "code",
            "execution_count": null,
            "metadata": {},
            "outputs": [
                {
                    "name": "stdout",
                    "output_type": "stream",
                    "text": [
                        "Model saved to hello_world.onnx\n"
                    ]
                },
                {
                    "name": "stderr",
                    "output_type": "stream",
                    "text": [
                        "C:\\Users\\Leon\\AppData\\Local\\Temp\\ipykernel_1824\\427549207.py:35: TracerWarning: torch.tensor results are registered as constants in the trace. You can safely ignore this warning if you use this function to create tensors out of constant variables that would be the same every time you call this function. In any other case, this might cause the trace to be incorrect.\n",
                        "  alphabet_indices = torch.tensor([ord(c) for c in self.alphabet], device=softmax.device).reshape(1, 1, -1, 1)\n"
                    ]
                }
            ],
            "source": [
                "# Create a dummy input tensor\n",
                "dummy_input = torch.randn(1, 1, 100, 100)  # Example input\n",
                "\n",
                "# Define the ONNX file path\n",
                "onnx_file_path = \"hello_world.onnx\"\n",
                "\n",
                "# Export the model\n",
                "torch.onnx.export(\n",
                "    hello_world_model,\n",
                "    dummy_input,\n",
                "    onnx_file_path,\n",
                "    input_names=[\"input\"],  # Name of the input layer\n",
                "    output_names=[\"unicode\", \"probability\"],  # Names of the output layers\n",
                "    dynamic_axes={\"input\": {2: \"height\", 3: \"width\"}},\n",
                "    opset_version=11  # Specify the ONNX opset version\n",
                ")\n",
                "\n",
                "print(f\"Model saved to {onnx_file_path}\")"
            ]
        },
        {
            "cell_type": "markdown",
            "metadata": {},
            "source": [
                "# Load Hello World Onnx"
            ]
        },
        {
            "cell_type": "code",
            "execution_count": null,
            "metadata": {},
            "outputs": [
                {
                    "data": {
                        "text/plain": [
                            "['h', 'e', 'l', 'l', 'o', '.', 'w', 'o', 'r', 'l', 'd']"
                        ]
                    },
                    "execution_count": 135,
                    "metadata": {},
                    "output_type": "execute_result"
                }
            ],
            "source": [
                "\n",
                "# Load the ONNX model\n",
                "model_path = \"hello_world.onnx\"\n",
                "session = onnxruntime.InferenceSession(model_path)\n",
                "\n",
                "input_image = np.random.random(\n",
                "    (\n",
                "        1,  # batch: stack as many images as you like here\n",
                "        1,  # channels: needs to be 1 (grayscale), pixels are 1.0 or 0.0\n",
                "        2,  # height: fixed to 1 for now\n",
                "        1   # width: fixed to 1 for now\n",
                "    )\n",
                ").astype(np.float32)\n",
                "\n",
                "# Run inference\n",
                "inputs: list[onnxruntime.NodeArg] = session.get_inputs()\n",
                "outputs: list[onnxruntime.NodeArg] = session.get_outputs()\n",
                "\n",
                "input_name: str = inputs[0].name\n",
                "output_names: list[str] = [out.name for out in outputs]\n",
                "softmax: np.ndarray\n",
                "softmax_ordered: np.ndarray\n",
                "logits: np.ndarray\n",
                "\n",
                "unicodes, probs = session.run(\n",
                "    output_names, \n",
                "    {input_name: input_image}\n",
                ")\n",
                "\n",
                "list(map(chr, unicodes[:, 0].tolist()))\n",
                "\n"
            ]
        },
        {
            "cell_type": "code",
            "execution_count": null,
            "metadata": {},
            "outputs": [],
            "source": []
        },
        {
            "cell_type": "markdown",
            "metadata": {},
            "source": [
                "# Create CNN Production"
            ]
        },
        {
            "cell_type": "code",
            "execution_count": 21,
            "metadata": {},
            "outputs": [
                {
                    "name": "stdout",
                    "output_type": "stream",
                    "text": [
                        "==========================================================================================\n",
                        "Layer (type:depth-idx)                   Output Shape              Param #\n",
                        "==========================================================================================\n",
                        "AllCNN2D                                 [1, 44]                   --\n",
                        "├─ModuleList: 1-1                        --                        --\n",
                        "│    └─Sequential: 2-1                   [1, 16, 32, 32]           --\n",
                        "│    │    └─Conv2d: 3-1                  [1, 16, 64, 64]           160\n",
                        "│    │    └─Dropout2d: 3-2               [1, 16, 64, 64]           --\n",
                        "│    │    └─BatchNorm2d: 3-3             [1, 16, 64, 64]           32\n",
                        "│    │    └─LeakyReLU: 3-4               [1, 16, 64, 64]           --\n",
                        "│    │    └─Conv2d: 3-5                  [1, 16, 32, 32]           2,320\n",
                        "│    │    └─Dropout2d: 3-6               [1, 16, 32, 32]           --\n",
                        "│    │    └─BatchNorm2d: 3-7             [1, 16, 32, 32]           32\n",
                        "│    │    └─LeakyReLU: 3-8               [1, 16, 32, 32]           --\n",
                        "│    └─Sequential: 2-2                   [1, 32, 16, 16]           --\n",
                        "│    │    └─Conv2d: 3-9                  [1, 32, 32, 32]           4,640\n",
                        "│    │    └─Dropout2d: 3-10              [1, 32, 32, 32]           --\n",
                        "│    │    └─BatchNorm2d: 3-11            [1, 32, 32, 32]           64\n",
                        "│    │    └─LeakyReLU: 3-12              [1, 32, 32, 32]           --\n",
                        "│    │    └─Conv2d: 3-13                 [1, 32, 16, 16]           9,248\n",
                        "│    │    └─Dropout2d: 3-14              [1, 32, 16, 16]           --\n",
                        "│    │    └─BatchNorm2d: 3-15            [1, 32, 16, 16]           64\n",
                        "│    │    └─LeakyReLU: 3-16              [1, 32, 16, 16]           --\n",
                        "│    └─Sequential: 2-3                   [1, 32, 8, 8]             --\n",
                        "│    │    └─Conv2d: 3-17                 [1, 32, 16, 16]           9,248\n",
                        "│    │    └─Dropout2d: 3-18              [1, 32, 16, 16]           --\n",
                        "│    │    └─BatchNorm2d: 3-19            [1, 32, 16, 16]           64\n",
                        "│    │    └─LeakyReLU: 3-20              [1, 32, 16, 16]           --\n",
                        "│    │    └─Conv2d: 3-21                 [1, 32, 8, 8]             9,248\n",
                        "│    │    └─Dropout2d: 3-22              [1, 32, 8, 8]             --\n",
                        "│    │    └─BatchNorm2d: 3-23            [1, 32, 8, 8]             64\n",
                        "│    │    └─LeakyReLU: 3-24              [1, 32, 8, 8]             --\n",
                        "│    └─Sequential: 2-4                   [1, 32, 4, 4]             --\n",
                        "│    │    └─Conv2d: 3-25                 [1, 32, 8, 8]             9,248\n",
                        "│    │    └─Dropout2d: 3-26              [1, 32, 8, 8]             --\n",
                        "│    │    └─BatchNorm2d: 3-27            [1, 32, 8, 8]             64\n",
                        "│    │    └─LeakyReLU: 3-28              [1, 32, 8, 8]             --\n",
                        "│    │    └─Conv2d: 3-29                 [1, 32, 4, 4]             9,248\n",
                        "│    │    └─Dropout2d: 3-30              [1, 32, 4, 4]             --\n",
                        "│    │    └─BatchNorm2d: 3-31            [1, 32, 4, 4]             64\n",
                        "│    │    └─LeakyReLU: 3-32              [1, 32, 4, 4]             --\n",
                        "│    └─Sequential: 2-5                   [1, 32, 2, 2]             --\n",
                        "│    │    └─Conv2d: 3-33                 [1, 32, 4, 4]             9,248\n",
                        "│    │    └─Dropout2d: 3-34              [1, 32, 4, 4]             --\n",
                        "│    │    └─BatchNorm2d: 3-35            [1, 32, 4, 4]             64\n",
                        "│    │    └─LeakyReLU: 3-36              [1, 32, 4, 4]             --\n",
                        "│    │    └─Conv2d: 3-37                 [1, 32, 2, 2]             9,248\n",
                        "│    │    └─Dropout2d: 3-38              [1, 32, 2, 2]             --\n",
                        "│    │    └─BatchNorm2d: 3-39            [1, 32, 2, 2]             64\n",
                        "│    │    └─LeakyReLU: 3-40              [1, 32, 2, 2]             --\n",
                        "├─Sequential: 1-2                        [1, 128]                  --\n",
                        "│    └─Flatten: 2-6                      [1, 128]                  --\n",
                        "├─ModuleList: 1-3                        --                        --\n",
                        "│    └─Sequential: 2-7                   [1, 64]                   --\n",
                        "│    │    └─Linear: 3-41                 [1, 64]                   8,256\n",
                        "│    │    └─Dropout: 3-42                [1, 64]                   --\n",
                        "│    │    └─LeakyReLU: 3-43              [1, 64]                   --\n",
                        "│    └─Sequential: 2-8                   [1, 44]                   --\n",
                        "│    │    └─Linear: 3-44                 [1, 44]                   2,860\n",
                        "==========================================================================================\n",
                        "Total params: 83,548\n",
                        "Trainable params: 83,548\n",
                        "Non-trainable params: 0\n",
                        "Total mult-adds (M): 14.05\n",
                        "==========================================================================================\n",
                        "Input size (MB): 0.02\n",
                        "Forward/backward pass size (MB): 2.18\n",
                        "Params size (MB): 0.33\n",
                        "Estimated Total Size (MB): 2.53\n",
                        "==========================================================================================\n"
                    ]
                },
                {
                    "name": "stderr",
                    "output_type": "stream",
                    "text": [
                        "C:\\Users\\Leon\\AppData\\Local\\Temp\\ipykernel_28708\\77278072.py:52: TracerWarning: torch.tensor results are registered as constants in the trace. You can safely ignore this warning if you use this function to create tensors out of constant variables that would be the same every time you call this function. In any other case, this might cause the trace to be incorrect.\n",
                        "  torch.tensor([0, 0, 0, 0], device=im.device)  # Default value if no foreground\n",
                        "C:\\Users\\Leon\\AppData\\Local\\Temp\\ipykernel_28708\\77278072.py:57: TracerWarning: torch.tensor results are registered as constants in the trace. You can safely ignore this warning if you use this function to create tensors out of constant variables that would be the same every time you call this function. In any other case, this might cause the trace to be incorrect.\n",
                        "  torch.tensor([0, 0, im.size(2) - 1, im.size(3) - 1], device=im.device)  # Default value if no foreground\n",
                        "c:\\Users\\Leon\\AppData\\Local\\Programs\\Python\\Python310\\lib\\site-packages\\torch\\onnx\\_internal\\jit_utils.py:308: UserWarning: Constant folding - Only steps=1 can be constant folded for opset >= 10 onnx::Slice op. Constant folding not applied. (Triggered internally at C:\\actions-runner\\_work\\pytorch\\pytorch\\pytorch\\torch\\csrc\\jit\\passes\\onnx\\constant_fold.cpp:180.)\n",
                        "  _C._jit_pass_onnx_node_shape_type_inference(node, params_dict, opset_version)\n",
                        "c:\\Users\\Leon\\AppData\\Local\\Programs\\Python\\Python310\\lib\\site-packages\\torch\\onnx\\utils.py:657: UserWarning: Constant folding - Only steps=1 can be constant folded for opset >= 10 onnx::Slice op. Constant folding not applied. (Triggered internally at C:\\actions-runner\\_work\\pytorch\\pytorch\\pytorch\\torch\\csrc\\jit\\passes\\onnx\\constant_fold.cpp:180.)\n",
                        "  _C._jit_pass_onnx_graph_shape_type_inference(\n",
                        "c:\\Users\\Leon\\AppData\\Local\\Programs\\Python\\Python310\\lib\\site-packages\\torch\\onnx\\utils.py:1127: UserWarning: Constant folding - Only steps=1 can be constant folded for opset >= 10 onnx::Slice op. Constant folding not applied. (Triggered internally at C:\\actions-runner\\_work\\pytorch\\pytorch\\pytorch\\torch\\csrc\\jit\\passes\\onnx\\constant_fold.cpp:180.)\n",
                        "  _C._jit_pass_onnx_graph_shape_type_inference(\n"
                    ]
                },
                {
                    "name": "stdout",
                    "output_type": "stream",
                    "text": [
                        "Model saved to CNN_SARA_LC.onnx\n"
                    ]
                }
            ],
            "source": [
                "\n",
                "\n",
                "class KrudModel(nn.Module):\n",
                "    \n",
                "    def __init__(\n",
                "        self, \n",
                "        alphabet: list[str], \n",
                "        target_width: int = 64, \n",
                "        target_height: int = 64, \n",
                "        padding: int = 1,\n",
                "        model: torch.nn.Module = None\n",
                "    ):\n",
                "        \n",
                "        super(KrudModel, self).__init__()\n",
                "        \n",
                "        self.alphabet: list[str] = alphabet\n",
                "        self.alphabet_float: torch.Tensor = torch.tensor([ord(a) for a in self.alphabet], dtype=torch.float32) \n",
                "        self.target_width: int = target_width\n",
                "        self.target_height: int = target_height\n",
                "        self.padding: int = padding\n",
                "        self._unpadded_dims: tuple[int] = (\n",
                "            self.target_height-self.padding*2,\n",
                "            self.target_width-self.padding*2\n",
                "        )\n",
                "        self.model: torch.nn.Module = model.eval()\n",
                "    \n",
                "        \n",
                "    def preprocess_image(\n",
                "        self, \n",
                "        im: torch.Tensor\n",
                "    ) -> torch.Tensor:\n",
                "        \"\"\"\n",
                "        Preprocesses the input image by cropping, resizing, binarizing, and padding it.\n",
                "\n",
                "        Args:\n",
                "            im (torch.Tensor): Input image tensor of shape (C, H, W) or (B, C, H, W).\n",
                "\n",
                "        Returns:\n",
                "            torch.Tensor: Preprocessed image tensor.\n",
                "        \"\"\"\n",
                "        # Step 1: Binarize the image (foreground = 0, background = 1)\n",
                "        mask = im > 0.5\n",
                "\n",
                "        # Step 2: Find bounding box coordinates of the foreground\n",
                "        coords = torch.nonzero(mask)  # Get coordinates of non-zero (foreground) pixels\n",
                "\n",
                "        # Step 3: Check if there are any foreground pixels (traceable)\n",
                "        has_foreground = torch.any(mask)\n",
                "\n",
                "        # Step 4: Compute min and max coordinates for cropping (if foreground exists)\n",
                "        min_coords = torch.where(\n",
                "            has_foreground,\n",
                "            coords.min(dim=0)[0],\n",
                "            torch.tensor([0, 0, 0, 0], device=im.device)  # Default value if no foreground\n",
                "        )\n",
                "        max_coords = torch.where(\n",
                "            has_foreground,\n",
                "            coords.max(dim=0)[0],\n",
                "            torch.tensor([0, 0, im.size(2) - 1, im.size(3) - 1], device=im.device)  # Default value if no foreground\n",
                "        )\n",
                "\n",
                "        # Step 5: Extract min and max coordinates for height and width (assuming input is 4D: B, C, H, W)\n",
                "        min_x, min_y = min_coords[2], min_coords[3]\n",
                "        max_x, max_y = max_coords[2], max_coords[3]\n",
                "\n",
                "        # Step 6: Crop the image (use slicing, which is traceable)\n",
                "        im = im[:, :, min_x:max_x + 1, min_y:max_y + 1]\n",
                "\n",
                "        # Step 7: Resize the image to the desired dimensions\n",
                "        im = torch_func.interpolate(\n",
                "            im, \n",
                "            size=self._unpadded_dims, \n",
                "            mode=\"bilinear\", \n",
                "            align_corners=False\n",
                "        )\n",
                "\n",
                "        # Step 8: Binarize the image again (optional, depending on your use case)\n",
                "        im = (im > 0.5).type(torch.uint8).type(torch.float32)\n",
                "\n",
                "        # Step 9: Pad the image\n",
                "        im = torch_func.pad(\n",
                "            im,\n",
                "            (self.padding, self.padding, self.padding, self.padding),\n",
                "            mode='constant',\n",
                "            value=0.0\n",
                "        )\n",
                "\n",
                "        return im\n",
                "    \n",
                "    def forward(self, x: torch.Tensor) -> torch.Tensor:\n",
                "        x = self.preprocess_image(x)\n",
                "        \n",
                "        #plt.imshow(x.squeeze(), cmap=\"gray\")\n",
                "        #plt.show()\n",
                "        \n",
                "        y_hat: torch.Tensor = self.model(x)\n",
                "        y_hat = y_hat.squeeze().squeeze()\n",
                "        \n",
                "        softmax = torch.softmax(y_hat, dim=-1)\n",
                "        \n",
                "        stacked = torch.stack([self.alphabet_float, softmax], dim=1)\n",
                "        sorted_indices = torch.argsort(stacked[:, 1], descending=True)\n",
                "        sorted_tensor = stacked[sorted_indices]\n",
                "\n",
                "        unicodes: torch.Tensor = sorted_tensor[:, 0]\n",
                "        probabilities: torch.Tensor = sorted_tensor[:, 1]\n",
                "\n",
                "        unicodes = unicodes.to(dtype=torch.int)\n",
                "        probabilities = probabilities.detach()\n",
                "\n",
                "        return unicodes.unsqueeze(0), probabilities.unsqueeze(0)\n",
                "        \n",
                "        \n",
                "       \n"
            ]
        },
        {
            "cell_type": "markdown",
            "metadata": {},
            "source": [
                "cnn_sara"
            ]
        },
        {
            "cell_type": "code",
            "execution_count": null,
            "metadata": {},
            "outputs": [],
            "source": [
                "\n",
                "alphabet: list[str] = list('∀∃().0123456789:λμabcdefghijklmnopqrstuvwxyz')\n",
                "\n",
                "checkpoint_path: str = r\"C:\\Users\\Leon\\visual-studio\\repos\\Le-o-n\\ocr-model-training\\checkpoints\\Mongo_epoch17_trainacc0.9517_valacc0.99432_Tloss0.010203_Vloss0.002475_lr0.0007224.pkl\"\n",
                "model_name: str = \"MongoCNN_Prod\"\n",
                "\n",
                "cnn_model: nn.Module = AllCNN2D(\n",
                "    **{\n",
                "        \"conv_features\": (1, 16, 32, 32, 32, 32),\n",
                "        \"fully_connected_features\": (64, len(alphabet)), \n",
                "        \"expected_input_size\": (64, 64),\n",
                "        \"device\": \"cpu\",\n",
                "        \"conv_dropout\": 0.075,\n",
                "        \"verbose\": True,\n",
                "        \"name_prefix\": model_name,\n",
                "    }\n",
                ").eval()\n",
                "\n",
                "cnn_model.load_state_dict(torch.load(checkpoint_path, weights_only=True))\n",
                "\n",
                "krud_model: KrudModel = KrudModel(\n",
                "    alphabet,\n",
                "    model=cnn_model\n",
                ")\n",
                "\n",
                "dummy_input = torch.randn(1, 1, 64, 64)  # Example input\n",
                "\n",
                "# Define the ONNX file path\n",
                "onnx_file_path = \"CNN_SARA_LC.onnx\"\n",
                "\n",
                "# Export the model\n",
                "torch.onnx.export(\n",
                "    krud_model,\n",
                "    dummy_input,\n",
                "    onnx_file_path,\n",
                "    input_names=[\"input\"],  # Name of the input layer\n",
                "    output_names=[\"unicode\", \"probability\"],  # Names of the output layers\n",
                "    dynamic_axes={\"input\": {2: \"height\", 3: \"width\"}},\n",
                "    opset_version=11  # Specify the ONNX opset version\n",
                ")\n",
                "\n",
                "print(f\"Model saved to {onnx_file_path}\")"
            ]
        },
        {
            "cell_type": "markdown",
            "metadata": {},
            "source": [
                "cnn_py"
            ]
        },
        {
            "cell_type": "code",
            "execution_count": 31,
            "metadata": {},
            "outputs": [
                {
                    "name": "stdout",
                    "output_type": "stream",
                    "text": [
                        "Loaded: encoder_conv_blocks.0.0.weight\n",
                        "Loaded: encoder_conv_blocks.0.0.bias\n",
                        "Loaded: encoder_conv_blocks.0.2.weight\n",
                        "Loaded: encoder_conv_blocks.0.2.bias\n",
                        "Loaded: encoder_conv_blocks.0.2.running_mean\n",
                        "Loaded: encoder_conv_blocks.0.2.running_var\n",
                        "Loaded: encoder_conv_blocks.0.2.num_batches_tracked\n",
                        "Loaded: encoder_conv_blocks.0.4.weight\n",
                        "Loaded: encoder_conv_blocks.0.4.bias\n",
                        "Loaded: encoder_conv_blocks.0.6.weight\n",
                        "Loaded: encoder_conv_blocks.0.6.bias\n",
                        "Loaded: encoder_conv_blocks.0.6.running_mean\n",
                        "Loaded: encoder_conv_blocks.0.6.running_var\n",
                        "Loaded: encoder_conv_blocks.0.6.num_batches_tracked\n",
                        "Loaded: encoder_conv_blocks.1.0.weight\n",
                        "Loaded: encoder_conv_blocks.1.0.bias\n",
                        "Loaded: encoder_conv_blocks.1.2.weight\n",
                        "Loaded: encoder_conv_blocks.1.2.bias\n",
                        "Loaded: encoder_conv_blocks.1.2.running_mean\n",
                        "Loaded: encoder_conv_blocks.1.2.running_var\n",
                        "Loaded: encoder_conv_blocks.1.2.num_batches_tracked\n",
                        "Loaded: encoder_conv_blocks.1.4.weight\n",
                        "Loaded: encoder_conv_blocks.1.4.bias\n",
                        "Loaded: encoder_conv_blocks.1.6.weight\n",
                        "Loaded: encoder_conv_blocks.1.6.bias\n",
                        "Loaded: encoder_conv_blocks.1.6.running_mean\n",
                        "Loaded: encoder_conv_blocks.1.6.running_var\n",
                        "Loaded: encoder_conv_blocks.1.6.num_batches_tracked\n",
                        "Loaded: encoder_conv_blocks.2.0.weight\n",
                        "Loaded: encoder_conv_blocks.2.0.bias\n",
                        "Loaded: encoder_conv_blocks.2.2.weight\n",
                        "Loaded: encoder_conv_blocks.2.2.bias\n",
                        "Loaded: encoder_conv_blocks.2.2.running_mean\n",
                        "Loaded: encoder_conv_blocks.2.2.running_var\n",
                        "Loaded: encoder_conv_blocks.2.2.num_batches_tracked\n",
                        "Loaded: encoder_conv_blocks.2.4.weight\n",
                        "Loaded: encoder_conv_blocks.2.4.bias\n",
                        "Loaded: encoder_conv_blocks.2.6.weight\n",
                        "Loaded: encoder_conv_blocks.2.6.bias\n",
                        "Loaded: encoder_conv_blocks.2.6.running_mean\n",
                        "Loaded: encoder_conv_blocks.2.6.running_var\n",
                        "Loaded: encoder_conv_blocks.2.6.num_batches_tracked\n",
                        "Loaded: encoder_conv_blocks.3.0.weight\n",
                        "Loaded: encoder_conv_blocks.3.0.bias\n",
                        "Loaded: encoder_conv_blocks.3.2.weight\n",
                        "Loaded: encoder_conv_blocks.3.2.bias\n",
                        "Loaded: encoder_conv_blocks.3.2.running_mean\n",
                        "Loaded: encoder_conv_blocks.3.2.running_var\n",
                        "Loaded: encoder_conv_blocks.3.2.num_batches_tracked\n",
                        "Loaded: encoder_conv_blocks.3.4.weight\n",
                        "Loaded: encoder_conv_blocks.3.4.bias\n",
                        "Loaded: encoder_conv_blocks.3.6.weight\n",
                        "Loaded: encoder_conv_blocks.3.6.bias\n",
                        "Loaded: encoder_conv_blocks.3.6.running_mean\n",
                        "Loaded: encoder_conv_blocks.3.6.running_var\n",
                        "Loaded: encoder_conv_blocks.3.6.num_batches_tracked\n",
                        "Loaded: fully_connected_blocks.0.0.weight\n",
                        "Loaded: fully_connected_blocks.0.0.bias\n",
                        "Loaded: fully_connected_blocks.1.0.weight\n",
                        "Loaded: fully_connected_blocks.1.0.bias\n",
                        "==========================================================================================\n",
                        "Layer (type:depth-idx)                   Output Shape              Param #\n",
                        "==========================================================================================\n",
                        "AllCNN2D                                 [1, 94]                   --\n",
                        "├─ModuleList: 1-1                        --                        --\n",
                        "│    └─Sequential: 2-1                   [1, 16, 32, 32]           --\n",
                        "│    │    └─Conv2d: 3-1                  [1, 16, 64, 64]           160\n",
                        "│    │    └─Dropout2d: 3-2               [1, 16, 64, 64]           --\n",
                        "│    │    └─BatchNorm2d: 3-3             [1, 16, 64, 64]           32\n",
                        "│    │    └─LeakyReLU: 3-4               [1, 16, 64, 64]           --\n",
                        "│    │    └─Conv2d: 3-5                  [1, 16, 32, 32]           2,320\n",
                        "│    │    └─Dropout2d: 3-6               [1, 16, 32, 32]           --\n",
                        "│    │    └─BatchNorm2d: 3-7             [1, 16, 32, 32]           32\n",
                        "│    │    └─LeakyReLU: 3-8               [1, 16, 32, 32]           --\n",
                        "│    └─Sequential: 2-2                   [1, 32, 16, 16]           --\n",
                        "│    │    └─Conv2d: 3-9                  [1, 32, 32, 32]           4,640\n",
                        "│    │    └─Dropout2d: 3-10              [1, 32, 32, 32]           --\n",
                        "│    │    └─BatchNorm2d: 3-11            [1, 32, 32, 32]           64\n",
                        "│    │    └─LeakyReLU: 3-12              [1, 32, 32, 32]           --\n",
                        "│    │    └─Conv2d: 3-13                 [1, 32, 16, 16]           9,248\n",
                        "│    │    └─Dropout2d: 3-14              [1, 32, 16, 16]           --\n",
                        "│    │    └─BatchNorm2d: 3-15            [1, 32, 16, 16]           64\n",
                        "│    │    └─LeakyReLU: 3-16              [1, 32, 16, 16]           --\n",
                        "│    └─Sequential: 2-3                   [1, 32, 8, 8]             --\n",
                        "│    │    └─Conv2d: 3-17                 [1, 32, 16, 16]           9,248\n",
                        "│    │    └─Dropout2d: 3-18              [1, 32, 16, 16]           --\n",
                        "│    │    └─BatchNorm2d: 3-19            [1, 32, 16, 16]           64\n",
                        "│    │    └─LeakyReLU: 3-20              [1, 32, 16, 16]           --\n",
                        "│    │    └─Conv2d: 3-21                 [1, 32, 8, 8]             9,248\n",
                        "│    │    └─Dropout2d: 3-22              [1, 32, 8, 8]             --\n",
                        "│    │    └─BatchNorm2d: 3-23            [1, 32, 8, 8]             64\n",
                        "│    │    └─LeakyReLU: 3-24              [1, 32, 8, 8]             --\n",
                        "│    └─Sequential: 2-4                   [1, 32, 4, 4]             --\n",
                        "│    │    └─Conv2d: 3-25                 [1, 32, 8, 8]             9,248\n",
                        "│    │    └─Dropout2d: 3-26              [1, 32, 8, 8]             --\n",
                        "│    │    └─BatchNorm2d: 3-27            [1, 32, 8, 8]             64\n",
                        "│    │    └─LeakyReLU: 3-28              [1, 32, 8, 8]             --\n",
                        "│    │    └─Conv2d: 3-29                 [1, 32, 4, 4]             9,248\n",
                        "│    │    └─Dropout2d: 3-30              [1, 32, 4, 4]             --\n",
                        "│    │    └─BatchNorm2d: 3-31            [1, 32, 4, 4]             64\n",
                        "│    │    └─LeakyReLU: 3-32              [1, 32, 4, 4]             --\n",
                        "├─Sequential: 1-2                        [1, 512]                  --\n",
                        "│    └─Flatten: 2-5                      [1, 512]                  --\n",
                        "├─ModuleList: 1-3                        --                        --\n",
                        "│    └─Sequential: 2-6                   [1, 128]                  --\n",
                        "│    │    └─Linear: 3-33                 [1, 128]                  65,664\n",
                        "│    │    └─Dropout: 3-34                [1, 128]                  --\n",
                        "│    │    └─LeakyReLU: 3-35              [1, 128]                  --\n",
                        "│    └─Sequential: 2-7                   [1, 94]                   --\n",
                        "│    │    └─Linear: 3-36                 [1, 94]                   12,126\n",
                        "==========================================================================================\n",
                        "Total params: 131,598\n",
                        "Trainable params: 131,598\n",
                        "Non-trainable params: 0\n",
                        "Total mult-adds (M): 13.93\n",
                        "==========================================================================================\n",
                        "Input size (MB): 0.02\n",
                        "Forward/backward pass size (MB): 2.17\n",
                        "Params size (MB): 0.53\n",
                        "Estimated Total Size (MB): 2.72\n",
                        "==========================================================================================\n"
                    ]
                },
                {
                    "name": "stderr",
                    "output_type": "stream",
                    "text": [
                        "C:\\Users\\Leon\\AppData\\Local\\Temp\\ipykernel_28708\\77278072.py:52: TracerWarning: torch.tensor results are registered as constants in the trace. You can safely ignore this warning if you use this function to create tensors out of constant variables that would be the same every time you call this function. In any other case, this might cause the trace to be incorrect.\n",
                        "  torch.tensor([0, 0, 0, 0], device=im.device)  # Default value if no foreground\n",
                        "C:\\Users\\Leon\\AppData\\Local\\Temp\\ipykernel_28708\\77278072.py:57: TracerWarning: torch.tensor results are registered as constants in the trace. You can safely ignore this warning if you use this function to create tensors out of constant variables that would be the same every time you call this function. In any other case, this might cause the trace to be incorrect.\n",
                        "  torch.tensor([0, 0, im.size(2) - 1, im.size(3) - 1], device=im.device)  # Default value if no foreground\n",
                        "c:\\Users\\Leon\\AppData\\Local\\Programs\\Python\\Python310\\lib\\site-packages\\torch\\onnx\\_internal\\jit_utils.py:308: UserWarning: Constant folding - Only steps=1 can be constant folded for opset >= 10 onnx::Slice op. Constant folding not applied. (Triggered internally at C:\\actions-runner\\_work\\pytorch\\pytorch\\pytorch\\torch\\csrc\\jit\\passes\\onnx\\constant_fold.cpp:180.)\n",
                        "  _C._jit_pass_onnx_node_shape_type_inference(node, params_dict, opset_version)\n",
                        "c:\\Users\\Leon\\AppData\\Local\\Programs\\Python\\Python310\\lib\\site-packages\\torch\\onnx\\utils.py:657: UserWarning: Constant folding - Only steps=1 can be constant folded for opset >= 10 onnx::Slice op. Constant folding not applied. (Triggered internally at C:\\actions-runner\\_work\\pytorch\\pytorch\\pytorch\\torch\\csrc\\jit\\passes\\onnx\\constant_fold.cpp:180.)\n",
                        "  _C._jit_pass_onnx_graph_shape_type_inference(\n",
                        "c:\\Users\\Leon\\AppData\\Local\\Programs\\Python\\Python310\\lib\\site-packages\\torch\\onnx\\utils.py:1127: UserWarning: Constant folding - Only steps=1 can be constant folded for opset >= 10 onnx::Slice op. Constant folding not applied. (Triggered internally at C:\\actions-runner\\_work\\pytorch\\pytorch\\pytorch\\torch\\csrc\\jit\\passes\\onnx\\constant_fold.cpp:180.)\n",
                        "  _C._jit_pass_onnx_graph_shape_type_inference(\n"
                    ]
                },
                {
                    "name": "stdout",
                    "output_type": "stream",
                    "text": [
                        "Model saved to CNN_APPLE_PY.onnx\n"
                    ]
                }
            ],
            "source": [
                "\n",
                "alphabet = list('!\"#$%&\\'()*+,-./0123456789:;<=>?@ABCDEFGHIJKLMNOPQRSTUVWXYZ[\\\\]^_`abcdefghijklmnopqrstuvwxyz{|}~')\n",
                "\n",
                "checkpoint_path: str = r\"C:\\Users\\Leon\\visual-studio\\repos\\Le-o-n\\ocr-model-training\\checkpoints\\z_ApplePie_epoch185_trainacc0.71586_valacc0.74578_Tloss0.063201_Vloss0.060233_lr0.0001673200819949859.pkl\"\n",
                "model_name: str = \"MongoCNN_Prod\"\n",
                "\n",
                "cnn_model: nn.Module = AllCNN2D(\n",
                "    **{\n",
                "        \"conv_features\": (1, 16, 32, 32, 32),\n",
                "        \"fully_connected_features\": (128, len(alphabet)),\n",
                "        \"expected_input_size\": (64, 64),\n",
                "        \"device\": \"cpu\",\n",
                "        \"conv_dropout\": 0.15,\n",
                "        \"verbose\": True,\n",
                "        \"name_prefix\": \"CNN_py_Apple\",\n",
                "        \"checkpoint_path\": checkpoint_path\n",
                "    }\n",
                ").eval()\n",
                "\n",
                "cnn_model.load_state_dict(torch.load(checkpoint_path, weights_only=True))\n",
                "\n",
                "krud_model: KrudModel = KrudModel(\n",
                "    alphabet,\n",
                "    model=cnn_model\n",
                ")\n",
                "\n",
                "dummy_input = torch.randn(1, 1, 64, 64)  # Example input\n",
                "\n",
                "# Define the ONNX file path\n",
                "onnx_file_path = \"CNN_APPLE_PY.onnx\"\n",
                "\n",
                "# Export the model\n",
                "torch.onnx.export(\n",
                "    krud_model,\n",
                "    dummy_input,\n",
                "    onnx_file_path,\n",
                "    input_names=[\"input\"],  # Name of the input layer\n",
                "    output_names=[\"unicode\", \"probability\"],  # Names of the output layers\n",
                "    dynamic_axes={\"input\": {2: \"height\", 3: \"width\"}},\n",
                "    opset_version=11  # Specify the ONNX opset version\n",
                ")\n",
                "\n",
                "print(f\"Model saved to {onnx_file_path}\")\n"
            ]
        },
        {
            "cell_type": "code",
            "execution_count": null,
            "metadata": {},
            "outputs": [],
            "source": [
                "\n",
                "cnn_onnx"
            ]
        },
        {
            "cell_type": "code",
            "execution_count": 33,
            "metadata": {},
            "outputs": [
                {
                    "ename": "TypeError",
                    "evalue": "tuple indices must be integers or slices, not tuple",
                    "output_type": "error",
                    "traceback": [
                        "\u001b[1;31m---------------------------------------------------------------------------\u001b[0m",
                        "\u001b[1;31mTypeError\u001b[0m                                 Traceback (most recent call last)",
                        "Cell \u001b[1;32mIn[33], line 11\u001b[0m\n\u001b[0;32m      7\u001b[0m im \u001b[38;5;241m=\u001b[39m (im[:, :, \u001b[38;5;241m3\u001b[39m] \u001b[38;5;241m>\u001b[39m \u001b[38;5;241m0.5\u001b[39m)\u001b[38;5;241m.\u001b[39mastype(np\u001b[38;5;241m.\u001b[39muint8)\u001b[38;5;241m.\u001b[39mastype(np\u001b[38;5;241m.\u001b[39mfloat32)\n\u001b[0;32m      9\u001b[0m im_tensor \u001b[38;5;241m=\u001b[39m torch\u001b[38;5;241m.\u001b[39mtensor(im, dtype\u001b[38;5;241m=\u001b[39mtorch\u001b[38;5;241m.\u001b[39mfloat32)\u001b[38;5;241m.\u001b[39munsqueeze(\u001b[38;5;241m0\u001b[39m)\u001b[38;5;241m.\u001b[39munsqueeze(\u001b[38;5;241m0\u001b[39m)\n\u001b[1;32m---> 11\u001b[0m \u001b[38;5;28mprint\u001b[39m(\u001b[38;5;28mchr\u001b[39m(\u001b[38;5;28mint\u001b[39m(\u001b[43mkrud_model\u001b[49m\u001b[38;5;241;43m.\u001b[39;49m\u001b[43mforward\u001b[49m\u001b[43m(\u001b[49m\u001b[43mim_tensor\u001b[49m\u001b[43m)\u001b[49m\u001b[43m[\u001b[49m\u001b[38;5;241;43m0\u001b[39;49m\u001b[43m,\u001b[49m\u001b[43m \u001b[49m\u001b[38;5;241;43m0\u001b[39;49m\u001b[43m]\u001b[49m\u001b[38;5;241m.\u001b[39mitem())))\n\u001b[0;32m     13\u001b[0m plt\u001b[38;5;241m.\u001b[39mimshow(im)\n\u001b[0;32m     14\u001b[0m plt\u001b[38;5;241m.\u001b[39mshow()\n",
                        "\u001b[1;31mTypeError\u001b[0m: tuple indices must be integers or slices, not tuple"
                    ]
                }
            ],
            "source": [
                "dataset_dirpath: str = r\"C:\\Users\\Leon\\visual-studio\\repos\\Le-o-n\\ocr-model-training\\data\\apl_lora\"\n",
                "for im_filename in os.listdir(dataset_dirpath):\n",
                "    fullpath: str = os.path.join(dataset_dirpath, im_filename)\n",
                "\n",
                "    im = np.asarray(Image.open(fullpath))\n",
                "    \n",
                "    im = (im[:, :, 3] > 0.5).astype(np.uint8).astype(np.float32)\n",
                "    \n",
                "    im_tensor = torch.tensor(im, dtype=torch.float32).unsqueeze(0).unsqueeze(0)\n",
                "\n",
                "    print(chr(int(krud_model.forward(im_tensor)[0, 0].item())))\n",
                "    \n",
                "    plt.imshow(im)\n",
                "    plt.show()\n",
                "\n",
                "    \n",
                "    "
            ]
        },
        {
            "cell_type": "markdown",
            "metadata": {},
            "source": [
                "# Test Krud ONNX"
            ]
        },
        {
            "cell_type": "code",
            "execution_count": 34,
            "metadata": {},
            "outputs": [],
            "source": [
                "from PIL import Image\n",
                "import numpy as np\n",
                "import matplotlib.pyplot as plt \n",
                "import onnxruntime"
            ]
        },
        {
            "cell_type": "code",
            "execution_count": 35,
            "metadata": {},
            "outputs": [],
            "source": [
                "\n",
                "input_image = Image.open(\"test_im.png\")"
            ]
        },
        {
            "cell_type": "code",
            "execution_count": 36,
            "metadata": {},
            "outputs": [
                {
                    "data": {
                        "image/png": "[encoded data removed]",
                        "text/plain": [
                            "<Figure size 640x480 with 1 Axes>"
                        ]
                    },
                    "metadata": {},
                    "output_type": "display_data"
                }
            ],
            "source": [
                "test_image = np.asarray(input_image)\n",
                "test_image = ((1.0-test_image[:, :, 0]/255) > 0.5).astype(np.uint8)*1.0\n",
                "\n",
                "plt.imshow(test_image, cmap=\"gray\")\n",
                "plt.show()\n",
                "\n",
                "test_image = np.expand_dims(np.expand_dims(test_image, 0), 0)\n"
            ]
        },
        {
            "cell_type": "code",
            "execution_count": 26,
            "metadata": {},
            "outputs": [
                {
                    "data": {
                        "text/plain": [
                            "(1, 1, 143, 154)"
                        ]
                    },
                    "execution_count": 26,
                    "metadata": {},
                    "output_type": "execute_result"
                }
            ],
            "source": [
                "test_image.shape"
            ]
        },
        {
            "cell_type": "code",
            "execution_count": 27,
            "metadata": {},
            "outputs": [
                {
                    "data": {
                        "text/plain": [
                            "array([[[[0., 0., 0., ..., 0., 0., 0.],\n",
                            "         [0., 0., 0., ..., 0., 0., 0.],\n",
                            "         [0., 0., 0., ..., 0., 0., 0.],\n",
                            "         ...,\n",
                            "         [0., 0., 0., ..., 0., 0., 0.],\n",
                            "         [0., 0., 0., ..., 0., 0., 0.],\n",
                            "         [0., 0., 0., ..., 0., 0., 0.]]]])"
                        ]
                    },
                    "execution_count": 27,
                    "metadata": {},
                    "output_type": "execute_result"
                }
            ],
            "source": [
                "test_image"
            ]
        },
        {
            "cell_type": "code",
            "execution_count": 37,
            "metadata": {},
            "outputs": [
                {
                    "name": "stdout",
                    "output_type": "stream",
                    "text": [
                        "{ 0.99446714\n",
                        "z 0.0017108566\n",
                        "g 0.00075185206\n",
                        "& 0.0004922176\n",
                        "t 0.00033911664\n",
                        "q 0.00031183037\n",
                        "i 0.00027706032\n",
                        "I 0.0002302916\n",
                        "f 0.00022199009\n",
                        "[ 0.00020543498\n",
                        "l 0.00010953502\n",
                        "8 8.256649e-05\n",
                        "| 7.309804e-05\n",
                        "! 6.5617016e-05\n",
                        "Z 6.191048e-05\n",
                        "s 5.4513974e-05\n",
                        "e 5.3010477e-05\n",
                        "d 4.6966336e-05\n",
                        ": 4.2847674e-05\n",
                        "2 4.185938e-05\n",
                        "T 3.654618e-05\n",
                        "E 3.298688e-05\n",
                        "% 2.7017557e-05\n",
                        "1 2.5089163e-05\n",
                        "x 2.2976896e-05\n",
                        "y 2.124677e-05\n",
                        "= 1.8943676e-05\n",
                        "? 1.885482e-05\n",
                        "$ 1.7141727e-05\n",
                        "J 1.4129502e-05\n",
                        "< 1.3697342e-05\n",
                        "r 1.0265765e-05\n",
                        "j 1.0159013e-05\n",
                        "S 9.6292e-06\n",
                        "a 9.357164e-06\n",
                        "9 8.451333e-06\n",
                        "+ 7.2700263e-06\n",
                        "} 6.9444422e-06\n",
                        "Y 6.0347134e-06\n",
                        "/ 5.1318225e-06\n",
                        "X 4.7260337e-06\n",
                        "# 4.599329e-06\n",
                        "@ 3.4374466e-06\n",
                        "c 3.395164e-06\n",
                        "5 2.4998585e-06\n",
                        "L 2.4570397e-06\n",
                        "; 2.2138606e-06\n",
                        ", 2.1175108e-06\n",
                        "p 1.9161998e-06\n",
                        "3 1.3404176e-06\n",
                        "o 1.0382729e-06\n",
                        "D 8.746286e-07\n",
                        "k 7.521256e-07\n",
                        "7 6.418331e-07\n",
                        "b 5.4538094e-07\n",
                        "\\ 5.391114e-07\n",
                        "v 4.97618e-07\n",
                        "u 4.8817657e-07\n",
                        "] 4.8546985e-07\n",
                        "6 4.060425e-07\n",
                        "F 3.8945186e-07\n",
                        "* 3.7992044e-07\n",
                        "P 3.6354257e-07\n",
                        "> 3.1495009e-07\n",
                        "n 2.7530334e-07\n",
                        ") 1.9622465e-07\n",
                        "C 1.5989689e-07\n",
                        "0 1.2228098e-07\n",
                        "m 1.18939106e-07\n",
                        "h 1.1199432e-07\n",
                        "4 1.0976511e-07\n",
                        "( 1.0749783e-07\n",
                        "G 9.46377e-08\n",
                        "R 7.9344545e-08\n",
                        "- 7.186075e-08\n",
                        "~ 6.507872e-08\n",
                        "' 6.418083e-08\n",
                        "B 4.5612172e-08\n",
                        "Q 4.3985608e-08\n",
                        "w 4.3410523e-08\n",
                        ". 4.1810203e-08\n",
                        "V 4.1363947e-08\n",
                        "` 3.4543277e-08\n",
                        "O 3.2522717e-08\n",
                        "_ 2.4401915e-08\n",
                        "K 1.17915135e-08\n",
                        "W 1.0246246e-08\n",
                        "^ 1.007993e-08\n",
                        "H 6.3095076e-09\n",
                        "N 5.3535434e-09\n",
                        "A 4.8396886e-09\n",
                        "U 4.5926773e-09\n",
                        "M 3.2014513e-09\n",
                        "\" 7.2175643e-10\n"
                    ]
                }
            ],
            "source": [
                "\n",
                "# Load the ONNX model\n",
                "model_path = \"CNN_APPLE_PY.onnx\"\n",
                "session = onnxruntime.InferenceSession(model_path)\n",
                "\n",
                "# Run inference\n",
                "inputs: list[onnxruntime.NodeArg] = session.get_inputs()\n",
                "outputs: list[onnxruntime.NodeArg] = session.get_outputs()\n",
                "\n",
                "input_name: str = inputs[0].name            # Only one input \n",
                "output_names: list[str] = [output.name for output in outputs]    # Only one output [unicode, prob] pairs for a single character\n",
                "\n",
                "unicodes: torch.Tensor\n",
                "probabilities: torch.Tensor\n",
                "unicodes, probabilities = session.run(\n",
                "    output_names, \n",
                "    {input_name: test_image.astype(np.float32)} # Must be float32 image of shape (batch, channels, height, width) -> (1, 1, Any, Any)\n",
                ")\n",
                "\n",
                "\n",
                "for char, prob in zip(unicodes[0], probabilities[0]):\n",
                "    print(chr(int(char)), prob)"
            ]
        },
        {
            "cell_type": "code",
            "execution_count": null,
            "metadata": {},
            "outputs": [],
            "source": []
        },
        {
            "cell_type": "code",
            "execution_count": null,
            "metadata": {},
            "outputs": [
                {
                    "data": {
                        "text/plain": [
                            "[array([ 48, 112, 100,  54, 116,  56,  53, 111, 113, 102,  98,  40, 119,\n",
                            "        109, 107, 106, 104, 110,  50,  99, 120, 114, 215,  51,  45,  49,\n",
                            "        118,  57, 103, 122, 105, 101,  41, 115, 117, 121,  55,  97,  46,\n",
                            "         52, 108, 247, 955,  43], dtype=int32),\n",
                            " array([6.8143886e-01, 3.1727558e-01, 9.8913838e-04, 1.6000890e-04,\n",
                            "        5.1013758e-05, 2.8218346e-05, 2.4816827e-05, 8.7805711e-06,\n",
                            "        5.5376886e-06, 3.6561419e-06, 3.0133053e-06, 2.6766511e-06,\n",
                            "        2.4739402e-06, 1.5798223e-06, 1.5708143e-06, 8.6630882e-07,\n",
                            "        6.8614111e-07, 5.5757562e-07, 4.7443012e-07, 3.3036901e-07,\n",
                            "        6.3471326e-08, 2.9459986e-08, 2.2759442e-08, 1.8600712e-08,\n",
                            "        1.8000391e-08, 1.2019766e-08, 3.3489278e-09, 3.0067731e-09,\n",
                            "        2.6663645e-09, 2.0556845e-09, 1.1345208e-09, 3.8724163e-10,\n",
                            "        2.8197075e-10, 1.6642417e-10, 3.9026893e-11, 1.4455865e-11,\n",
                            "        1.0275350e-11, 8.5388979e-12, 2.8815811e-13, 2.1714051e-13,\n",
                            "        4.0094240e-14, 2.7764098e-14, 2.0496294e-15, 9.2305130e-16],\n",
                            "       dtype=float32)]"
                        ]
                    },
                    "execution_count": 68,
                    "metadata": {},
                    "output_type": "execute_result"
                }
            ],
            "source": [
                "model_outputs"
            ]
        },
        {
            "cell_type": "code",
            "execution_count": null,
            "metadata": {},
            "outputs": [
                {
                    "ename": "TypeError",
                    "evalue": "tuple indices must be integers or slices, not tuple",
                    "output_type": "error",
                    "traceback": [
                        "\u001b[1;31m---------------------------------------------------------------------------\u001b[0m",
                        "\u001b[1;31mTypeError\u001b[0m                                 Traceback (most recent call last)",
                        "Cell \u001b[1;32mIn[69], line 1\u001b[0m\n\u001b[1;32m----> 1\u001b[0m preds \u001b[38;5;241m=\u001b[39m \u001b[43mkrud_model\u001b[49m\u001b[38;5;241;43m.\u001b[39;49m\u001b[43meval\u001b[49m\u001b[43m(\u001b[49m\u001b[43m)\u001b[49m\u001b[38;5;241;43m.\u001b[39;49m\u001b[43mforward\u001b[49m\u001b[43m(\u001b[49m\u001b[43mtorch\u001b[49m\u001b[38;5;241;43m.\u001b[39;49m\u001b[43mtensor\u001b[49m\u001b[43m(\u001b[49m\u001b[43mtest_image\u001b[49m\u001b[38;5;241;43m.\u001b[39;49m\u001b[43mastype\u001b[49m\u001b[43m(\u001b[49m\u001b[43mnp\u001b[49m\u001b[38;5;241;43m.\u001b[39;49m\u001b[43mfloat32\u001b[49m\u001b[43m)\u001b[49m\u001b[43m)\u001b[49m\u001b[43m)\u001b[49m\u001b[43m[\u001b[49m\u001b[43m:\u001b[49m\u001b[43m,\u001b[49m\u001b[43m \u001b[49m\u001b[38;5;241;43m0\u001b[39;49m\u001b[43m]\u001b[49m\u001b[38;5;241m.\u001b[39mtolist()\n\u001b[0;32m      3\u001b[0m [\u001b[38;5;28mchr\u001b[39m(\u001b[38;5;28mint\u001b[39m(x)) \u001b[38;5;28;01mfor\u001b[39;00m x \u001b[38;5;129;01min\u001b[39;00m preds]\n",
                        "\u001b[1;31mTypeError\u001b[0m: tuple indices must be integers or slices, not tuple"
                    ]
                }
            ],
            "source": [
                "preds = krud_model.eval().forward(torch.tensor(test_image.astype(np.float32)))[:, 0].tolist()\n",
                "\n",
                "[chr(int(x)) for x in preds]"
            ]
        }
    ],
    "metadata": {
        "kernelspec": {
            "display_name": "Python 3",
            "language": "python",
            "name": "python3"
        },
        "language_info": {
            "codemirror_mode": {
                "name": "ipython",
                "version": 3
            },
            "file_extension": ".py",
            "mimetype": "text/x-python",
            "name": "python",
            "nbconvert_exporter": "python",
            "pygments_lexer": "ipython3",
            "version": "3.10.0"
        }
    },
    "nbformat": 4,
    "nbformat_minor": 2
}
