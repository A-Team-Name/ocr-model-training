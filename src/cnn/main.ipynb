{
 "cells": [
  {
   "cell_type": "markdown",
   "metadata": {},
   "source": [
    "# Global Imports"
   ]
  },
  {
   "cell_type": "code",
   "execution_count": 1,
   "metadata": {},
   "outputs": [],
   "source": [
    "import torch\n",
    "import numpy as np\n",
    "import matplotlib.pyplot as plt\n",
    "import os\n",
    "from einops import rearrange\n",
    "from torch.utils.data import DataLoader\n",
    "from torch.optim import AdamW\n",
    "from torch import nn\n",
    "from typing import Any\n",
    "import glob\n",
    "import re"
   ]
  },
  {
   "cell_type": "markdown",
   "metadata": {},
   "source": [
    "# Local Imports"
   ]
  },
  {
   "cell_type": "code",
   "execution_count": 2,
   "metadata": {},
   "outputs": [],
   "source": [
    "from training.train import EpochLogs, grid_search, LogPoint\n",
    "from dataset.character_dataset import CharImageDataset\n",
    "from models.allcnn2d import AllCNN2D"
   ]
  },
  {
   "cell_type": "markdown",
   "metadata": {},
   "source": [
    "# Define Paths"
   ]
  },
  {
   "cell_type": "code",
   "execution_count": 3,
   "metadata": {},
   "outputs": [],
   "source": [
    "notebook_dir: str = os.path.abspath(\".\")\n",
    "data_dir: str = os.path.join(\n",
    "    notebook_dir,\n",
    "    os.pardir,\n",
    "    os.pardir,\n",
    "    \"data\",\n",
    "    \"lambda\"\n",
    ")\n",
    "\n",
    "images_path_glob: str = os.path.join(\n",
    "    data_dir,\n",
    "    \"u*.png\"\n",
    ")\n",
    "images_path_regex: str = r\"(u[0-9a-fA-F]+)-([0-9]+)\\.png\"\n",
    "\n",
    "file_paths: list[str] = glob.glob(images_path_glob)\n"
   ]
  },
  {
   "cell_type": "markdown",
   "metadata": {},
   "source": [
    "# Extract Labels"
   ]
  },
  {
   "cell_type": "code",
   "execution_count": 4,
   "metadata": {},
   "outputs": [],
   "source": [
    "\n",
    "labeled_image_paths: list[tuple[str, str]] = []\n",
    "\n",
    "file_path: str\n",
    "for file_path in file_paths:\n",
    "    match = re.search(images_path_regex, file_path)\n",
    "    \n",
    "    if not match:\n",
    "        continue\n",
    "    \n",
    "    u_hexvalue: str = match.group(1)\n",
    "    labeled_image_paths.append((u_hexvalue, file_path))\n",
    "\n",
    "labels: list[str]\n",
    "file_paths: list[str]\n",
    "labels, file_paths =  list(zip(*labeled_image_paths))\n"
   ]
  },
  {
   "cell_type": "markdown",
   "metadata": {},
   "source": [
    "# Load Dataset"
   ]
  },
  {
   "cell_type": "code",
   "execution_count": 5,
   "metadata": {},
   "outputs": [],
   "source": [
    "dataset_split: float = 0.8\n",
    "split_index: int = int(len(file_paths)*dataset_split)\n",
    "all_label_classes: list[str] = list(set(labels))\n",
    "\n",
    "train_char_dataset: CharImageDataset = CharImageDataset(\n",
    "    file_paths=file_paths[:split_index],\n",
    "    labels=labels[:split_index],\n",
    "    all_label_classes=all_label_classes,\n",
    "    rotation_limit=0.1,\n",
    "    translation_limit=0.2,\n",
    "    skew_limit=0.05,\n",
    "    zoom_change=0.3,\n",
    "    image_dims=(64, 64)\n",
    ")\n",
    "\n",
    "val_char_dataset: CharImageDataset = CharImageDataset(\n",
    "    file_paths=file_paths[split_index:],\n",
    "    labels=labels[split_index:],\n",
    "    all_label_classes=all_label_classes,\n",
    "    rotation_limit=0.0,\n",
    "    translation_limit=0.0,\n",
    "    skew_limit=0.00,\n",
    "    zoom_change=0.0,\n",
    "    image_dims=(64, 64)\n",
    ")\n",
    "\n",
    "\n"
   ]
  },
  {
   "cell_type": "code",
   "execution_count": 6,
   "metadata": {},
   "outputs": [
    {
     "data": {
      "image/png": "[encoded data removed]",
      "text/plain": [
       "<Figure size 640x480 with 1 Axes>"
      ]
     },
     "metadata": {},
     "output_type": "display_data"
    },
    {
     "name": "stdout",
     "output_type": "stream",
     "text": [
      "tensor([1., 0., 0., 0., 0., 0., 0.])\n"
     ]
    }
   ],
   "source": [
    "for im, lab in train_char_dataset:\n",
    "    plt.imshow(rearrange(im, \"1 h w -> h w\")*255, cmap=\"gray\")\n",
    "    plt.show()\n",
    "    print(lab)\n",
    "    break"
   ]
  },
  {
   "cell_type": "code",
   "execution_count": 7,
   "metadata": {},
   "outputs": [
    {
     "data": {
      "image/png": "[encoded data removed]",
      "text/plain": [
       "<Figure size 640x480 with 1 Axes>"
      ]
     },
     "metadata": {},
     "output_type": "display_data"
    },
    {
     "name": "stdout",
     "output_type": "stream",
     "text": [
      "tensor([0., 0., 0., 0., 0., 1., 0.])\n"
     ]
    }
   ],
   "source": [
    "for im, lab in val_char_dataset:\n",
    "    plt.imshow(rearrange(im, \"1 h w -> h w\")*255, cmap=\"gray\")\n",
    "    plt.show()\n",
    "    print(lab)\n",
    "    break"
   ]
  },
  {
   "cell_type": "markdown",
   "metadata": {},
   "source": [
    "# Load DataLoader"
   ]
  },
  {
   "cell_type": "code",
   "execution_count": 8,
   "metadata": {},
   "outputs": [],
   "source": [
    "train_dataloader: DataLoader = DataLoader(\n",
    "    train_char_dataset,\n",
    "    shuffle=True,\n",
    "    batch_size=16\n",
    ")\n",
    "\n",
    "val_dataloader: DataLoader = DataLoader(\n",
    "    train_char_dataset,\n",
    "    shuffle=False,\n",
    "    batch_size=16\n",
    ")"
   ]
  },
  {
   "cell_type": "markdown",
   "metadata": {},
   "source": [
    "# Define Model Hyperparameters"
   ]
  },
  {
   "cell_type": "code",
   "execution_count": 9,
   "metadata": {},
   "outputs": [],
   "source": [
    "\n",
    "all_model_parameters: list[dict[str, Any]] = [\n",
    "    {\n",
    "        \"conv_features\": (1, 16, 16, 16, 16),\n",
    "        \"fully_connected_features\": (7,),\n",
    "        \"expected_input_size\": (64, 64),\n",
    "        \"device\": \"cuda\",\n",
    "        \"verbose\": True\n",
    "    }\n",
    "]\n",
    "\n",
    "all_optim_parameters: list[dict[str, Any]] = [\n",
    "    {\n",
    "        \"lr\": 0.0001,\n",
    "        \"weight_decay\": 0.0001\n",
    "    }\n",
    "]\n"
   ]
  },
  {
   "cell_type": "markdown",
   "metadata": {},
   "source": [
    "# Train"
   ]
  },
  {
   "cell_type": "code",
   "execution_count": 10,
   "metadata": {},
   "outputs": [
    {
     "name": "stdout",
     "output_type": "stream",
     "text": [
      "==========================================================================================\n",
      "Layer (type:depth-idx)                   Output Shape              Param #\n",
      "==========================================================================================\n",
      "AllCNN2D                                 [1, 7]                    --\n",
      "├─ModuleList: 1-1                        --                        --\n",
      "│    └─Sequential: 2-1                   [1, 16, 32, 32]           --\n",
      "│    │    └─Conv2d: 3-1                  [1, 16, 64, 64]           160\n",
      "│    │    └─Dropout2d: 3-2               [1, 16, 64, 64]           --\n",
      "│    │    └─BatchNorm2d: 3-3             [1, 16, 64, 64]           32\n",
      "│    │    └─LeakyReLU: 3-4               [1, 16, 64, 64]           --\n",
      "│    │    └─Conv2d: 3-5                  [1, 16, 32, 32]           2,320\n",
      "│    │    └─Dropout2d: 3-6               [1, 16, 32, 32]           --\n",
      "│    │    └─BatchNorm2d: 3-7             [1, 16, 32, 32]           32\n",
      "│    │    └─LeakyReLU: 3-8               [1, 16, 32, 32]           --\n",
      "│    └─Sequential: 2-2                   [1, 16, 16, 16]           --\n",
      "│    │    └─Conv2d: 3-9                  [1, 16, 32, 32]           2,320\n",
      "│    │    └─Dropout2d: 3-10              [1, 16, 32, 32]           --\n",
      "│    │    └─BatchNorm2d: 3-11            [1, 16, 32, 32]           32\n",
      "│    │    └─LeakyReLU: 3-12              [1, 16, 32, 32]           --\n",
      "│    │    └─Conv2d: 3-13                 [1, 16, 16, 16]           2,320\n",
      "│    │    └─Dropout2d: 3-14              [1, 16, 16, 16]           --\n",
      "│    │    └─BatchNorm2d: 3-15            [1, 16, 16, 16]           32\n",
      "│    │    └─LeakyReLU: 3-16              [1, 16, 16, 16]           --\n",
      "│    └─Sequential: 2-3                   [1, 16, 8, 8]             --\n",
      "│    │    └─Conv2d: 3-17                 [1, 16, 16, 16]           2,320\n",
      "│    │    └─Dropout2d: 3-18              [1, 16, 16, 16]           --\n",
      "│    │    └─BatchNorm2d: 3-19            [1, 16, 16, 16]           32\n",
      "│    │    └─LeakyReLU: 3-20              [1, 16, 16, 16]           --\n",
      "│    │    └─Conv2d: 3-21                 [1, 16, 8, 8]             2,320\n",
      "│    │    └─Dropout2d: 3-22              [1, 16, 8, 8]             --\n",
      "│    │    └─BatchNorm2d: 3-23            [1, 16, 8, 8]             32\n",
      "│    │    └─LeakyReLU: 3-24              [1, 16, 8, 8]             --\n",
      "│    └─Sequential: 2-4                   [1, 16, 4, 4]             --\n",
      "│    │    └─Conv2d: 3-25                 [1, 16, 8, 8]             2,320\n",
      "│    │    └─Dropout2d: 3-26              [1, 16, 8, 8]             --\n",
      "│    │    └─BatchNorm2d: 3-27            [1, 16, 8, 8]             32\n",
      "│    │    └─LeakyReLU: 3-28              [1, 16, 8, 8]             --\n",
      "│    │    └─Conv2d: 3-29                 [1, 16, 4, 4]             2,320\n",
      "│    │    └─Dropout2d: 3-30              [1, 16, 4, 4]             --\n",
      "│    │    └─BatchNorm2d: 3-31            [1, 16, 4, 4]             32\n",
      "│    │    └─LeakyReLU: 3-32              [1, 16, 4, 4]             --\n",
      "├─Sequential: 1-2                        [1, 256]                  --\n",
      "│    └─Flatten: 2-5                      [1, 256]                  --\n",
      "├─ModuleList: 1-3                        --                        --\n",
      "│    └─Sequential: 2-6                   [1, 7]                    --\n",
      "│    │    └─Linear: 3-33                 [1, 7]                    1,799\n",
      "==========================================================================================\n",
      "Total params: 18,455\n",
      "Trainable params: 18,455\n",
      "Non-trainable params: 0\n",
      "Total mult-adds (M): 6.93\n",
      "==========================================================================================\n",
      "Input size (MB): 0.02\n",
      "Forward/backward pass size (MB): 1.74\n",
      "Params size (MB): 0.07\n",
      "Estimated Total Size (MB): 1.83\n",
      "==========================================================================================\n"
     ]
    },
    {
     "name": "stderr",
     "output_type": "stream",
     "text": [
      "Training model...: 100%|██████████| 8/8 [00:06<00:00,  1.29it/s]\n",
      "Validating Model...: 100%|██████████| 8/8 [00:05<00:00,  1.37it/s]\n"
     ]
    },
    {
     "name": "stdout",
     "output_type": "stream",
     "text": [
      "Train Accuracy: 0.09917355328798294\n",
      "Val Accuracy: 0.1818181872367859\n",
      "Loss: 0.13348644971847534\n",
      "Val Loss: 0.12893137335777283\n"
     ]
    },
    {
     "name": "stderr",
     "output_type": "stream",
     "text": [
      "Training model...: 100%|██████████| 8/8 [00:05<00:00,  1.36it/s]\n",
      "Validating Model...: 100%|██████████| 8/8 [00:05<00:00,  1.38it/s]\n"
     ]
    },
    {
     "name": "stdout",
     "output_type": "stream",
     "text": [
      "Train Accuracy: 0.14049586653709412\n",
      "Val Accuracy: 0.1818181872367859\n",
      "Loss: 0.13037444651126862\n",
      "Val Loss: 0.12897953391075134\n"
     ]
    },
    {
     "name": "stderr",
     "output_type": "stream",
     "text": [
      "Training model...: 100%|██████████| 8/8 [00:05<00:00,  1.37it/s]\n",
      "Validating Model...: 100%|██████████| 8/8 [00:05<00:00,  1.39it/s]\n"
     ]
    },
    {
     "name": "stdout",
     "output_type": "stream",
     "text": [
      "Train Accuracy: 0.22314049303531647\n",
      "Val Accuracy: 0.1735537201166153\n",
      "Loss: 0.12634962797164917\n",
      "Val Loss: 0.1286250203847885\n"
     ]
    },
    {
     "name": "stderr",
     "output_type": "stream",
     "text": [
      "Training model...: 100%|██████████| 8/8 [00:05<00:00,  1.34it/s]\n",
      "Validating Model...: 100%|██████████| 8/8 [00:05<00:00,  1.40it/s]\n"
     ]
    },
    {
     "name": "stdout",
     "output_type": "stream",
     "text": [
      "Train Accuracy: 0.20661157369613647\n",
      "Val Accuracy: 0.22314049303531647\n",
      "Loss: 0.12723402678966522\n",
      "Val Loss: 0.128427654504776\n"
     ]
    },
    {
     "name": "stderr",
     "output_type": "stream",
     "text": [
      "Training model...: 100%|██████████| 8/8 [00:05<00:00,  1.36it/s]\n",
      "Validating Model...: 100%|██████████| 8/8 [00:05<00:00,  1.38it/s]\n"
     ]
    },
    {
     "name": "stdout",
     "output_type": "stream",
     "text": [
      "Train Accuracy: 0.23140496015548706\n",
      "Val Accuracy: 0.20661157369613647\n",
      "Loss: 0.1262984573841095\n",
      "Val Loss: 0.12746687233448029\n"
     ]
    },
    {
     "name": "stderr",
     "output_type": "stream",
     "text": [
      "Training model...: 100%|██████████| 8/8 [00:05<00:00,  1.36it/s]\n",
      "Validating Model...: 100%|██████████| 8/8 [00:05<00:00,  1.38it/s]\n"
     ]
    },
    {
     "name": "stdout",
     "output_type": "stream",
     "text": [
      "Train Accuracy: 0.19834710657596588\n",
      "Val Accuracy: 0.28925618529319763\n",
      "Loss: 0.1235482394695282\n",
      "Val Loss: 0.12514294683933258\n"
     ]
    },
    {
     "name": "stderr",
     "output_type": "stream",
     "text": [
      "Training model...: 100%|██████████| 8/8 [00:05<00:00,  1.37it/s]\n",
      "Validating Model...: 100%|██████████| 8/8 [00:05<00:00,  1.38it/s]\n"
     ]
    },
    {
     "name": "stdout",
     "output_type": "stream",
     "text": [
      "Train Accuracy: 0.21487602591514587\n",
      "Val Accuracy: 0.3057851195335388\n",
      "Loss: 0.12476328015327454\n",
      "Val Loss: 0.1244160532951355\n"
     ]
    },
    {
     "name": "stderr",
     "output_type": "stream",
     "text": [
      "Training model...: 100%|██████████| 8/8 [00:06<00:00,  1.31it/s]\n",
      "Validating Model...: 100%|██████████| 8/8 [00:05<00:00,  1.39it/s]\n"
     ]
    },
    {
     "name": "stdout",
     "output_type": "stream",
     "text": [
      "Train Accuracy: 0.25619834661483765\n",
      "Val Accuracy: 0.2975206673145294\n",
      "Loss: 0.12130468338727951\n",
      "Val Loss: 0.12081985175609589\n"
     ]
    },
    {
     "name": "stderr",
     "output_type": "stream",
     "text": [
      "Training model...: 100%|██████████| 8/8 [00:05<00:00,  1.35it/s]\n",
      "Validating Model...: 100%|██████████| 8/8 [00:05<00:00,  1.39it/s]\n"
     ]
    },
    {
     "name": "stdout",
     "output_type": "stream",
     "text": [
      "Train Accuracy: 0.28925618529319763\n",
      "Val Accuracy: 0.3140496015548706\n",
      "Loss: 0.12067589908838272\n",
      "Val Loss: 0.1205311194062233\n"
     ]
    },
    {
     "name": "stderr",
     "output_type": "stream",
     "text": [
      "Training model...: 100%|██████████| 8/8 [00:05<00:00,  1.35it/s]\n",
      "Validating Model...: 100%|██████████| 8/8 [00:05<00:00,  1.37it/s]\n"
     ]
    },
    {
     "name": "stdout",
     "output_type": "stream",
     "text": [
      "Train Accuracy: 0.24793387949466705\n",
      "Val Accuracy: 0.3057851195335388\n",
      "Loss: 0.12096995860338211\n",
      "Val Loss: 0.119171142578125\n"
     ]
    },
    {
     "name": "stderr",
     "output_type": "stream",
     "text": [
      "Training model...: 100%|██████████| 8/8 [00:05<00:00,  1.35it/s]\n",
      "Validating Model...: 100%|██████████| 8/8 [00:05<00:00,  1.38it/s]\n"
     ]
    },
    {
     "name": "stdout",
     "output_type": "stream",
     "text": [
      "Train Accuracy: 0.3636363744735718\n",
      "Val Accuracy: 0.3305785059928894\n",
      "Loss: 0.11601557582616806\n",
      "Val Loss: 0.1201048418879509\n"
     ]
    },
    {
     "name": "stderr",
     "output_type": "stream",
     "text": [
      "Training model...: 100%|██████████| 8/8 [00:05<00:00,  1.34it/s]\n",
      "Validating Model...: 100%|██████████| 8/8 [00:05<00:00,  1.37it/s]\n"
     ]
    },
    {
     "name": "stdout",
     "output_type": "stream",
     "text": [
      "Train Accuracy: 0.3388429880142212\n",
      "Val Accuracy: 0.3471074402332306\n",
      "Loss: 0.11805494874715805\n",
      "Val Loss: 0.11829938739538193\n"
     ]
    },
    {
     "name": "stderr",
     "output_type": "stream",
     "text": [
      "Training model...: 100%|██████████| 8/8 [00:05<00:00,  1.36it/s]\n",
      "Validating Model...: 100%|██████████| 8/8 [00:05<00:00,  1.36it/s]\n"
     ]
    },
    {
     "name": "stdout",
     "output_type": "stream",
     "text": [
      "Train Accuracy: 0.3636363744735718\n",
      "Val Accuracy: 0.3057851195335388\n",
      "Loss: 0.11348506808280945\n",
      "Val Loss: 0.11845515668392181\n"
     ]
    },
    {
     "name": "stderr",
     "output_type": "stream",
     "text": [
      "Training model...: 100%|██████████| 8/8 [00:05<00:00,  1.36it/s]\n",
      "Validating Model...: 100%|██████████| 8/8 [00:05<00:00,  1.38it/s]\n"
     ]
    },
    {
     "name": "stdout",
     "output_type": "stream",
     "text": [
      "Train Accuracy: 0.2975206673145294\n",
      "Val Accuracy: 0.28925618529319763\n",
      "Loss: 0.11605305224657059\n",
      "Val Loss: 0.11983193457126617\n"
     ]
    },
    {
     "name": "stderr",
     "output_type": "stream",
     "text": [
      "Training model...: 100%|██████████| 8/8 [00:05<00:00,  1.35it/s]\n",
      "Validating Model...: 100%|██████████| 8/8 [00:05<00:00,  1.37it/s]\n"
     ]
    },
    {
     "name": "stdout",
     "output_type": "stream",
     "text": [
      "Train Accuracy: 0.3636363744735718\n",
      "Val Accuracy: 0.41322314739227295\n",
      "Loss: 0.11506263166666031\n",
      "Val Loss: 0.11726026237010956\n"
     ]
    },
    {
     "name": "stderr",
     "output_type": "stream",
     "text": [
      "Training model...: 100%|██████████| 8/8 [00:05<00:00,  1.35it/s]\n",
      "Validating Model...: 100%|██████████| 8/8 [00:05<00:00,  1.39it/s]\n"
     ]
    },
    {
     "name": "stdout",
     "output_type": "stream",
     "text": [
      "Train Accuracy: 0.3305785059928894\n",
      "Val Accuracy: 0.35537189245224\n",
      "Loss: 0.1141461431980133\n",
      "Val Loss: 0.11553244292736053\n"
     ]
    },
    {
     "name": "stderr",
     "output_type": "stream",
     "text": [
      "Training model...: 100%|██████████| 8/8 [00:05<00:00,  1.35it/s]\n",
      "Validating Model...: 100%|██████████| 8/8 [00:05<00:00,  1.37it/s]\n"
     ]
    },
    {
     "name": "stdout",
     "output_type": "stream",
     "text": [
      "Train Accuracy: 0.3388429880142212\n",
      "Val Accuracy: 0.3801652789115906\n",
      "Loss: 0.11449450999498367\n",
      "Val Loss: 0.11445149779319763\n"
     ]
    },
    {
     "name": "stderr",
     "output_type": "stream",
     "text": [
      "Training model...: 100%|██████████| 8/8 [00:05<00:00,  1.37it/s]\n",
      "Validating Model...: 100%|██████████| 8/8 [00:05<00:00,  1.38it/s]\n"
     ]
    },
    {
     "name": "stdout",
     "output_type": "stream",
     "text": [
      "Train Accuracy: 0.35537189245224\n",
      "Val Accuracy: 0.3801652789115906\n",
      "Loss: 0.11029913276433945\n",
      "Val Loss: 0.1145506277680397\n"
     ]
    },
    {
     "name": "stderr",
     "output_type": "stream",
     "text": [
      "Training model...: 100%|██████████| 8/8 [00:05<00:00,  1.35it/s]\n",
      "Validating Model...: 100%|██████████| 8/8 [00:05<00:00,  1.37it/s]\n"
     ]
    },
    {
     "name": "stdout",
     "output_type": "stream",
     "text": [
      "Train Accuracy: 0.41322314739227295\n",
      "Val Accuracy: 0.3719008266925812\n",
      "Loss: 0.11087886989116669\n",
      "Val Loss: 0.112876757979393\n"
     ]
    },
    {
     "name": "stderr",
     "output_type": "stream",
     "text": [
      "Training model...: 100%|██████████| 8/8 [00:05<00:00,  1.36it/s]\n",
      "Validating Model...: 100%|██████████| 8/8 [00:05<00:00,  1.37it/s]\n"
     ]
    },
    {
     "name": "stdout",
     "output_type": "stream",
     "text": [
      "Train Accuracy: 0.2975206673145294\n",
      "Val Accuracy: 0.39669421315193176\n",
      "Loss: 0.11110324412584305\n",
      "Val Loss: 0.11047054082155228\n"
     ]
    },
    {
     "name": "stderr",
     "output_type": "stream",
     "text": [
      "Training model...: 100%|██████████| 8/8 [00:05<00:00,  1.35it/s]\n",
      "Validating Model...: 100%|██████████| 8/8 [00:05<00:00,  1.37it/s]\n"
     ]
    },
    {
     "name": "stdout",
     "output_type": "stream",
     "text": [
      "Train Accuracy: 0.3719008266925812\n",
      "Val Accuracy: 0.41322314739227295\n",
      "Loss: 0.11095499992370605\n",
      "Val Loss: 0.1107432171702385\n"
     ]
    },
    {
     "name": "stderr",
     "output_type": "stream",
     "text": [
      "Training model...: 100%|██████████| 8/8 [00:05<00:00,  1.35it/s]\n",
      "Validating Model...: 100%|██████████| 8/8 [00:05<00:00,  1.40it/s]\n"
     ]
    },
    {
     "name": "stdout",
     "output_type": "stream",
     "text": [
      "Train Accuracy: 0.38842976093292236\n",
      "Val Accuracy: 0.3719008266925812\n",
      "Loss: 0.1118624359369278\n",
      "Val Loss: 0.11124255508184433\n"
     ]
    },
    {
     "name": "stderr",
     "output_type": "stream",
     "text": [
      "Training model...: 100%|██████████| 8/8 [00:05<00:00,  1.35it/s]\n",
      "Validating Model...: 100%|██████████| 8/8 [00:06<00:00,  1.33it/s]\n"
     ]
    },
    {
     "name": "stdout",
     "output_type": "stream",
     "text": [
      "Train Accuracy: 0.35537189245224\n",
      "Val Accuracy: 0.40495866537094116\n",
      "Loss: 0.11004350334405899\n",
      "Val Loss: 0.10948190838098526\n"
     ]
    },
    {
     "name": "stderr",
     "output_type": "stream",
     "text": [
      "Training model...: 100%|██████████| 8/8 [00:05<00:00,  1.36it/s]\n",
      "Validating Model...: 100%|██████████| 8/8 [00:05<00:00,  1.37it/s]\n"
     ]
    },
    {
     "name": "stdout",
     "output_type": "stream",
     "text": [
      "Train Accuracy: 0.38842976093292236\n",
      "Val Accuracy: 0.38842976093292236\n",
      "Loss: 0.11001482605934143\n",
      "Val Loss: 0.10906940698623657\n"
     ]
    },
    {
     "name": "stderr",
     "output_type": "stream",
     "text": [
      "Training model...: 100%|██████████| 8/8 [00:05<00:00,  1.36it/s]\n",
      "Validating Model...: 100%|██████████| 8/8 [00:05<00:00,  1.37it/s]\n"
     ]
    },
    {
     "name": "stdout",
     "output_type": "stream",
     "text": [
      "Train Accuracy: 0.3471074402332306\n",
      "Val Accuracy: 0.38842976093292236\n",
      "Loss: 0.10927747935056686\n",
      "Val Loss: 0.10871065407991409\n"
     ]
    },
    {
     "name": "stderr",
     "output_type": "stream",
     "text": [
      "Training model...: 100%|██████████| 8/8 [00:06<00:00,  1.33it/s]\n",
      "Validating Model...: 100%|██████████| 8/8 [00:05<00:00,  1.37it/s]\n"
     ]
    },
    {
     "name": "stdout",
     "output_type": "stream",
     "text": [
      "Train Accuracy: 0.39669421315193176\n",
      "Val Accuracy: 0.41322314739227295\n",
      "Loss: 0.10905171185731888\n",
      "Val Loss: 0.10779696702957153\n"
     ]
    },
    {
     "name": "stderr",
     "output_type": "stream",
     "text": [
      "Training model...: 100%|██████████| 8/8 [00:05<00:00,  1.35it/s]\n",
      "Validating Model...: 100%|██████████| 8/8 [00:05<00:00,  1.38it/s]\n"
     ]
    },
    {
     "name": "stdout",
     "output_type": "stream",
     "text": [
      "Train Accuracy: 0.3471074402332306\n",
      "Val Accuracy: 0.3719008266925812\n",
      "Loss: 0.10817477107048035\n",
      "Val Loss: 0.111615389585495\n"
     ]
    },
    {
     "name": "stderr",
     "output_type": "stream",
     "text": [
      "Training model...: 100%|██████████| 8/8 [00:05<00:00,  1.35it/s]\n",
      "Validating Model...: 100%|██████████| 8/8 [00:05<00:00,  1.37it/s]\n"
     ]
    },
    {
     "name": "stdout",
     "output_type": "stream",
     "text": [
      "Train Accuracy: 0.44628098607063293\n",
      "Val Accuracy: 0.42975205183029175\n",
      "Loss: 0.10359364002943039\n",
      "Val Loss: 0.10887676477432251\n"
     ]
    },
    {
     "name": "stderr",
     "output_type": "stream",
     "text": [
      "Training model...: 100%|██████████| 8/8 [00:05<00:00,  1.36it/s]\n",
      "Validating Model...: 100%|██████████| 8/8 [00:05<00:00,  1.38it/s]\n"
     ]
    },
    {
     "name": "stdout",
     "output_type": "stream",
     "text": [
      "Train Accuracy: 0.38842976093292236\n",
      "Val Accuracy: 0.3471074402332306\n",
      "Loss: 0.10508443415164948\n",
      "Val Loss: 0.10845868289470673\n"
     ]
    },
    {
     "name": "stderr",
     "output_type": "stream",
     "text": [
      "Training model...: 100%|██████████| 8/8 [00:05<00:00,  1.35it/s]\n",
      "Validating Model...: 100%|██████████| 8/8 [00:05<00:00,  1.38it/s]\n"
     ]
    },
    {
     "name": "stdout",
     "output_type": "stream",
     "text": [
      "Train Accuracy: 0.3719008266925812\n",
      "Val Accuracy: 0.38842976093292236\n",
      "Loss: 0.10680075734853745\n",
      "Val Loss: 0.1083315908908844\n"
     ]
    },
    {
     "name": "stderr",
     "output_type": "stream",
     "text": [
      "Training model...: 100%|██████████| 8/8 [00:05<00:00,  1.34it/s]\n",
      "Validating Model...: 100%|██████████| 8/8 [00:05<00:00,  1.39it/s]\n"
     ]
    },
    {
     "name": "stdout",
     "output_type": "stream",
     "text": [
      "Train Accuracy: 0.42148759961128235\n",
      "Val Accuracy: 0.40495866537094116\n",
      "Loss: 0.1034739688038826\n",
      "Val Loss: 0.10477408766746521\n"
     ]
    },
    {
     "name": "stderr",
     "output_type": "stream",
     "text": [
      "Training model...: 100%|██████████| 8/8 [00:05<00:00,  1.35it/s]\n",
      "Validating Model...: 100%|██████████| 8/8 [00:05<00:00,  1.38it/s]\n"
     ]
    },
    {
     "name": "stdout",
     "output_type": "stream",
     "text": [
      "Train Accuracy: 0.38842976093292236\n",
      "Val Accuracy: 0.3471074402332306\n",
      "Loss: 0.10627764463424683\n",
      "Val Loss: 0.10870946198701859\n"
     ]
    },
    {
     "name": "stderr",
     "output_type": "stream",
     "text": [
      "Training model...: 100%|██████████| 8/8 [00:05<00:00,  1.35it/s]\n",
      "Validating Model...: 100%|██████████| 8/8 [00:05<00:00,  1.38it/s]\n"
     ]
    },
    {
     "name": "stdout",
     "output_type": "stream",
     "text": [
      "Train Accuracy: 0.40495866537094116\n",
      "Val Accuracy: 0.42148759961128235\n",
      "Loss: 0.1038954108953476\n",
      "Val Loss: 0.10299991071224213\n"
     ]
    },
    {
     "name": "stderr",
     "output_type": "stream",
     "text": [
      "Training model...: 100%|██████████| 8/8 [00:05<00:00,  1.35it/s]\n",
      "Validating Model...: 100%|██████████| 8/8 [00:05<00:00,  1.38it/s]\n"
     ]
    },
    {
     "name": "stdout",
     "output_type": "stream",
     "text": [
      "Train Accuracy: 0.40495866537094116\n",
      "Val Accuracy: 0.42148759961128235\n",
      "Loss: 0.10228696465492249\n",
      "Val Loss: 0.10419245064258575\n"
     ]
    },
    {
     "name": "stderr",
     "output_type": "stream",
     "text": [
      "Training model...: 100%|██████████| 8/8 [00:05<00:00,  1.35it/s]\n",
      "Validating Model...: 100%|██████████| 8/8 [00:05<00:00,  1.36it/s]\n"
     ]
    },
    {
     "name": "stdout",
     "output_type": "stream",
     "text": [
      "Train Accuracy: 0.39669421315193176\n",
      "Val Accuracy: 0.41322314739227295\n",
      "Loss: 0.1018095463514328\n",
      "Val Loss: 0.10494092851877213\n"
     ]
    },
    {
     "name": "stderr",
     "output_type": "stream",
     "text": [
      "Training model...: 100%|██████████| 8/8 [00:05<00:00,  1.36it/s]\n",
      "Validating Model...: 100%|██████████| 8/8 [00:05<00:00,  1.36it/s]\n"
     ]
    },
    {
     "name": "stdout",
     "output_type": "stream",
     "text": [
      "Train Accuracy: 0.42148759961128235\n",
      "Val Accuracy: 0.35537189245224\n",
      "Loss: 0.10172311216592789\n",
      "Val Loss: 0.10410673171281815\n"
     ]
    },
    {
     "name": "stderr",
     "output_type": "stream",
     "text": [
      "Training model...: 100%|██████████| 8/8 [00:05<00:00,  1.36it/s]\n",
      "Validating Model...: 100%|██████████| 8/8 [00:05<00:00,  1.37it/s]\n"
     ]
    },
    {
     "name": "stdout",
     "output_type": "stream",
     "text": [
      "Train Accuracy: 0.4876033067703247\n",
      "Val Accuracy: 0.3801652789115906\n",
      "Loss: 0.10041315853595734\n",
      "Val Loss: 0.10223440825939178\n"
     ]
    },
    {
     "name": "stderr",
     "output_type": "stream",
     "text": [
      "Training model...: 100%|██████████| 8/8 [00:05<00:00,  1.35it/s]\n",
      "Validating Model...: 100%|██████████| 8/8 [00:05<00:00,  1.37it/s]\n"
     ]
    },
    {
     "name": "stdout",
     "output_type": "stream",
     "text": [
      "Train Accuracy: 0.43801653385162354\n",
      "Val Accuracy: 0.3719008266925812\n",
      "Loss: 0.09999678283929825\n",
      "Val Loss: 0.10512019693851471\n"
     ]
    },
    {
     "name": "stderr",
     "output_type": "stream",
     "text": [
      "Training model...: 100%|██████████| 8/8 [00:06<00:00,  1.32it/s]\n",
      "Validating Model...: 100%|██████████| 8/8 [00:05<00:00,  1.37it/s]\n"
     ]
    },
    {
     "name": "stdout",
     "output_type": "stream",
     "text": [
      "Train Accuracy: 0.4545454680919647\n",
      "Val Accuracy: 0.4545454680919647\n",
      "Loss: 0.10055874288082123\n",
      "Val Loss: 0.10181096196174622\n"
     ]
    },
    {
     "name": "stderr",
     "output_type": "stream",
     "text": [
      "Training model...: 100%|██████████| 8/8 [00:05<00:00,  1.35it/s]\n",
      "Validating Model...: 100%|██████████| 8/8 [00:05<00:00,  1.36it/s]\n"
     ]
    },
    {
     "name": "stdout",
     "output_type": "stream",
     "text": [
      "Train Accuracy: 0.43801653385162354\n",
      "Val Accuracy: 0.40495866537094116\n",
      "Loss: 0.09996744245290756\n",
      "Val Loss: 0.10160519927740097\n"
     ]
    },
    {
     "name": "stderr",
     "output_type": "stream",
     "text": [
      "Training model...: 100%|██████████| 8/8 [00:06<00:00,  1.33it/s]\n",
      "Validating Model...: 100%|██████████| 8/8 [00:05<00:00,  1.37it/s]\n"
     ]
    },
    {
     "name": "stdout",
     "output_type": "stream",
     "text": [
      "Train Accuracy: 0.3719008266925812\n",
      "Val Accuracy: 0.40495866537094116\n",
      "Loss: 0.10085926949977875\n",
      "Val Loss: 0.1018449142575264\n"
     ]
    },
    {
     "name": "stderr",
     "output_type": "stream",
     "text": [
      "Training model...: 100%|██████████| 8/8 [00:06<00:00,  1.30it/s]\n",
      "Validating Model...: 100%|██████████| 8/8 [00:05<00:00,  1.37it/s]\n"
     ]
    },
    {
     "name": "stdout",
     "output_type": "stream",
     "text": [
      "Train Accuracy: 0.43801653385162354\n",
      "Val Accuracy: 0.4628099203109741\n",
      "Loss: 0.10064013302326202\n",
      "Val Loss: 0.09873213618993759\n"
     ]
    },
    {
     "name": "stderr",
     "output_type": "stream",
     "text": [
      "Training model...: 100%|██████████| 8/8 [00:05<00:00,  1.35it/s]\n",
      "Validating Model...: 100%|██████████| 8/8 [00:05<00:00,  1.38it/s]\n"
     ]
    },
    {
     "name": "stdout",
     "output_type": "stream",
     "text": [
      "Train Accuracy: 0.3801652789115906\n",
      "Val Accuracy: 0.35537189245224\n",
      "Loss: 0.1005396917462349\n",
      "Val Loss: 0.10234223306179047\n"
     ]
    },
    {
     "name": "stderr",
     "output_type": "stream",
     "text": [
      "Training model...: 100%|██████████| 8/8 [00:05<00:00,  1.35it/s]\n",
      "Validating Model...: 100%|██████████| 8/8 [00:05<00:00,  1.38it/s]\n"
     ]
    },
    {
     "name": "stdout",
     "output_type": "stream",
     "text": [
      "Train Accuracy: 0.3636363744735718\n",
      "Val Accuracy: 0.4628099203109741\n",
      "Loss: 0.10100226104259491\n",
      "Val Loss: 0.10018397867679596\n"
     ]
    },
    {
     "name": "stderr",
     "output_type": "stream",
     "text": [
      "Training model...: 100%|██████████| 8/8 [00:05<00:00,  1.36it/s]\n",
      "Validating Model...: 100%|██████████| 8/8 [00:05<00:00,  1.36it/s]\n"
     ]
    },
    {
     "name": "stdout",
     "output_type": "stream",
     "text": [
      "Train Accuracy: 0.40495866537094116\n",
      "Val Accuracy: 0.39669421315193176\n",
      "Loss: 0.09833278506994247\n",
      "Val Loss: 0.10152377188205719\n"
     ]
    },
    {
     "name": "stderr",
     "output_type": "stream",
     "text": [
      "Training model...: 100%|██████████| 8/8 [00:05<00:00,  1.35it/s]\n",
      "Validating Model...: 100%|██████████| 8/8 [00:05<00:00,  1.39it/s]\n"
     ]
    },
    {
     "name": "stdout",
     "output_type": "stream",
     "text": [
      "Train Accuracy: 0.38842976093292236\n",
      "Val Accuracy: 0.39669421315193176\n",
      "Loss: 0.09964719414710999\n",
      "Val Loss: 0.10068279504776001\n"
     ]
    },
    {
     "name": "stderr",
     "output_type": "stream",
     "text": [
      "Training model...: 100%|██████████| 8/8 [00:05<00:00,  1.34it/s]\n",
      "Validating Model...: 100%|██████████| 8/8 [00:05<00:00,  1.37it/s]\n"
     ]
    },
    {
     "name": "stdout",
     "output_type": "stream",
     "text": [
      "Train Accuracy: 0.3719008266925812\n",
      "Val Accuracy: 0.43801653385162354\n",
      "Loss: 0.09847643971443176\n",
      "Val Loss: 0.09975374490022659\n"
     ]
    },
    {
     "name": "stderr",
     "output_type": "stream",
     "text": [
      "Training model...: 100%|██████████| 8/8 [00:05<00:00,  1.35it/s]\n",
      "Validating Model...: 100%|██████████| 8/8 [00:05<00:00,  1.37it/s]\n"
     ]
    },
    {
     "name": "stdout",
     "output_type": "stream",
     "text": [
      "Train Accuracy: 0.39669421315193176\n",
      "Val Accuracy: 0.41322314739227295\n",
      "Loss: 0.09676813334226608\n",
      "Val Loss: 0.09519104659557343\n"
     ]
    },
    {
     "name": "stderr",
     "output_type": "stream",
     "text": [
      "Training model...: 100%|██████████| 8/8 [00:05<00:00,  1.37it/s]\n",
      "Validating Model...: 100%|██████████| 8/8 [00:05<00:00,  1.37it/s]\n"
     ]
    },
    {
     "name": "stdout",
     "output_type": "stream",
     "text": [
      "Train Accuracy: 0.43801653385162354\n",
      "Val Accuracy: 0.42148759961128235\n",
      "Loss: 0.09750285744667053\n",
      "Val Loss: 0.10009203851222992\n"
     ]
    },
    {
     "name": "stderr",
     "output_type": "stream",
     "text": [
      "Training model...: 100%|██████████| 8/8 [00:05<00:00,  1.35it/s]\n",
      "Validating Model...: 100%|██████████| 8/8 [00:05<00:00,  1.38it/s]\n"
     ]
    },
    {
     "name": "stdout",
     "output_type": "stream",
     "text": [
      "Train Accuracy: 0.40495866537094116\n",
      "Val Accuracy: 0.3471074402332306\n",
      "Loss: 0.09525065124034882\n",
      "Val Loss: 0.09871689230203629\n"
     ]
    },
    {
     "name": "stderr",
     "output_type": "stream",
     "text": [
      "Training model...: 100%|██████████| 8/8 [00:05<00:00,  1.35it/s]\n",
      "Validating Model...: 100%|██████████| 8/8 [00:05<00:00,  1.35it/s]\n"
     ]
    },
    {
     "name": "stdout",
     "output_type": "stream",
     "text": [
      "Train Accuracy: 0.44628098607063293\n",
      "Val Accuracy: 0.4628099203109741\n",
      "Loss: 0.09789067506790161\n",
      "Val Loss: 0.09622661769390106\n"
     ]
    },
    {
     "name": "stderr",
     "output_type": "stream",
     "text": [
      "Training model...: 100%|██████████| 8/8 [00:05<00:00,  1.35it/s]\n",
      "Validating Model...: 100%|██████████| 8/8 [00:05<00:00,  1.36it/s]\n"
     ]
    },
    {
     "name": "stdout",
     "output_type": "stream",
     "text": [
      "Train Accuracy: 0.5206611752510071\n",
      "Val Accuracy: 0.42148759961128235\n",
      "Loss: 0.09495145082473755\n",
      "Val Loss: 0.09630607068538666\n"
     ]
    },
    {
     "name": "stderr",
     "output_type": "stream",
     "text": [
      "Training model...: 100%|██████████| 8/8 [00:05<00:00,  1.35it/s]\n",
      "Validating Model...: 100%|██████████| 8/8 [00:05<00:00,  1.38it/s]\n"
     ]
    },
    {
     "name": "stdout",
     "output_type": "stream",
     "text": [
      "Train Accuracy: 0.38842976093292236\n",
      "Val Accuracy: 0.4628099203109741\n",
      "Loss: 0.09453932195901871\n",
      "Val Loss: 0.09476615488529205\n"
     ]
    },
    {
     "name": "stderr",
     "output_type": "stream",
     "text": [
      "Training model...: 100%|██████████| 8/8 [00:05<00:00,  1.34it/s]\n",
      "Validating Model...: 100%|██████████| 8/8 [00:05<00:00,  1.35it/s]\n"
     ]
    },
    {
     "name": "stdout",
     "output_type": "stream",
     "text": [
      "Train Accuracy: 0.4628099203109741\n",
      "Val Accuracy: 0.4793388545513153\n",
      "Loss: 0.09291788190603256\n",
      "Val Loss: 0.09298630058765411\n"
     ]
    },
    {
     "name": "stderr",
     "output_type": "stream",
     "text": [
      "Training model...: 100%|██████████| 8/8 [00:05<00:00,  1.35it/s]\n",
      "Validating Model...: 100%|██████████| 8/8 [00:05<00:00,  1.37it/s]\n"
     ]
    },
    {
     "name": "stdout",
     "output_type": "stream",
     "text": [
      "Train Accuracy: 0.43801653385162354\n",
      "Val Accuracy: 0.42148759961128235\n",
      "Loss: 0.09463969618082047\n",
      "Val Loss: 0.09668368101119995\n"
     ]
    },
    {
     "name": "stderr",
     "output_type": "stream",
     "text": [
      "Training model...: 100%|██████████| 8/8 [00:06<00:00,  1.32it/s]\n",
      "Validating Model...: 100%|██████████| 8/8 [00:06<00:00,  1.30it/s]\n"
     ]
    },
    {
     "name": "stdout",
     "output_type": "stream",
     "text": [
      "Train Accuracy: 0.3801652789115906\n",
      "Val Accuracy: 0.4876033067703247\n",
      "Loss: 0.09619507938623428\n",
      "Val Loss: 0.09611957520246506\n"
     ]
    },
    {
     "name": "stderr",
     "output_type": "stream",
     "text": [
      "Training model...: 100%|██████████| 8/8 [00:06<00:00,  1.33it/s]\n",
      "Validating Model...: 100%|██████████| 8/8 [00:05<00:00,  1.33it/s]\n"
     ]
    },
    {
     "name": "stdout",
     "output_type": "stream",
     "text": [
      "Train Accuracy: 0.43801653385162354\n",
      "Val Accuracy: 0.4876033067703247\n",
      "Loss: 0.09409558027982712\n",
      "Val Loss: 0.09537504613399506\n"
     ]
    },
    {
     "name": "stderr",
     "output_type": "stream",
     "text": [
      "Training model...: 100%|██████████| 8/8 [00:06<00:00,  1.30it/s]\n",
      "Validating Model...: 100%|██████████| 8/8 [00:06<00:00,  1.16it/s]\n"
     ]
    },
    {
     "name": "stdout",
     "output_type": "stream",
     "text": [
      "Train Accuracy: 0.4628099203109741\n",
      "Val Accuracy: 0.44628098607063293\n",
      "Loss: 0.09240536391735077\n",
      "Val Loss: 0.09516873210668564\n"
     ]
    },
    {
     "name": "stderr",
     "output_type": "stream",
     "text": [
      "Training model...: 100%|██████████| 8/8 [00:06<00:00,  1.28it/s]\n",
      "Validating Model...: 100%|██████████| 8/8 [00:05<00:00,  1.35it/s]\n"
     ]
    },
    {
     "name": "stdout",
     "output_type": "stream",
     "text": [
      "Train Accuracy: 0.4628099203109741\n",
      "Val Accuracy: 0.4545454680919647\n",
      "Loss: 0.09235233813524246\n",
      "Val Loss: 0.09285230189561844\n"
     ]
    },
    {
     "name": "stderr",
     "output_type": "stream",
     "text": [
      "Training model...: 100%|██████████| 8/8 [00:05<00:00,  1.36it/s]\n",
      "Validating Model...: 100%|██████████| 8/8 [00:05<00:00,  1.37it/s]\n"
     ]
    },
    {
     "name": "stdout",
     "output_type": "stream",
     "text": [
      "Train Accuracy: 0.42148759961128235\n",
      "Val Accuracy: 0.5454545617103577\n",
      "Loss: 0.0930357575416565\n",
      "Val Loss: 0.08978382498025894\n"
     ]
    },
    {
     "name": "stderr",
     "output_type": "stream",
     "text": [
      "Training model...: 100%|██████████| 8/8 [00:05<00:00,  1.35it/s]\n",
      "Validating Model...: 100%|██████████| 8/8 [00:05<00:00,  1.37it/s]\n"
     ]
    },
    {
     "name": "stdout",
     "output_type": "stream",
     "text": [
      "Train Accuracy: 0.5041322112083435\n",
      "Val Accuracy: 0.4710743725299835\n",
      "Loss: 0.08993923664093018\n",
      "Val Loss: 0.09217768162488937\n"
     ]
    },
    {
     "name": "stderr",
     "output_type": "stream",
     "text": [
      "Training model...: 100%|██████████| 8/8 [00:05<00:00,  1.35it/s]\n",
      "Validating Model...: 100%|██████████| 8/8 [00:05<00:00,  1.38it/s]\n"
     ]
    },
    {
     "name": "stdout",
     "output_type": "stream",
     "text": [
      "Train Accuracy: 0.40495866537094116\n",
      "Val Accuracy: 0.4628099203109741\n",
      "Loss: 0.09146575629711151\n",
      "Val Loss: 0.092839315533638\n"
     ]
    },
    {
     "name": "stderr",
     "output_type": "stream",
     "text": [
      "Training model...: 100%|██████████| 8/8 [00:05<00:00,  1.34it/s]\n",
      "Validating Model...: 100%|██████████| 8/8 [00:05<00:00,  1.38it/s]\n"
     ]
    },
    {
     "name": "stdout",
     "output_type": "stream",
     "text": [
      "Train Accuracy: 0.44628098607063293\n",
      "Val Accuracy: 0.44628098607063293\n",
      "Loss: 0.09151585400104523\n",
      "Val Loss: 0.09270733594894409\n"
     ]
    },
    {
     "name": "stderr",
     "output_type": "stream",
     "text": [
      "Training model...: 100%|██████████| 8/8 [00:05<00:00,  1.35it/s]\n",
      "Validating Model...: 100%|██████████| 8/8 [00:05<00:00,  1.38it/s]\n"
     ]
    },
    {
     "name": "stdout",
     "output_type": "stream",
     "text": [
      "Train Accuracy: 0.5123966932296753\n",
      "Val Accuracy: 0.44628098607063293\n",
      "Loss: 0.08884301036596298\n",
      "Val Loss: 0.09225532412528992\n"
     ]
    },
    {
     "name": "stderr",
     "output_type": "stream",
     "text": [
      "Training model...: 100%|██████████| 8/8 [00:05<00:00,  1.36it/s]\n",
      "Validating Model...: 100%|██████████| 8/8 [00:05<00:00,  1.38it/s]\n"
     ]
    },
    {
     "name": "stdout",
     "output_type": "stream",
     "text": [
      "Train Accuracy: 0.4628099203109741\n",
      "Val Accuracy: 0.43801653385162354\n",
      "Loss: 0.09059280902147293\n",
      "Val Loss: 0.09207898378372192\n"
     ]
    },
    {
     "name": "stderr",
     "output_type": "stream",
     "text": [
      "Training model...: 100%|██████████| 8/8 [00:05<00:00,  1.35it/s]\n",
      "Validating Model...: 100%|██████████| 8/8 [00:05<00:00,  1.39it/s]\n"
     ]
    },
    {
     "name": "stdout",
     "output_type": "stream",
     "text": [
      "Train Accuracy: 0.43801653385162354\n",
      "Val Accuracy: 0.43801653385162354\n",
      "Loss: 0.09689807146787643\n",
      "Val Loss: 0.0907977893948555\n"
     ]
    },
    {
     "name": "stderr",
     "output_type": "stream",
     "text": [
      "Training model...: 100%|██████████| 8/8 [00:05<00:00,  1.35it/s]\n",
      "Validating Model...: 100%|██████████| 8/8 [00:05<00:00,  1.38it/s]\n"
     ]
    },
    {
     "name": "stdout",
     "output_type": "stream",
     "text": [
      "Train Accuracy: 0.4958677589893341\n",
      "Val Accuracy: 0.4958677589893341\n",
      "Loss: 0.08899237215518951\n",
      "Val Loss: 0.09214641153812408\n"
     ]
    },
    {
     "name": "stderr",
     "output_type": "stream",
     "text": [
      "Training model...: 100%|██████████| 8/8 [00:05<00:00,  1.35it/s]\n",
      "Validating Model...: 100%|██████████| 8/8 [00:05<00:00,  1.36it/s]\n"
     ]
    },
    {
     "name": "stdout",
     "output_type": "stream",
     "text": [
      "Train Accuracy: 0.5371900796890259\n",
      "Val Accuracy: 0.44628098607063293\n",
      "Loss: 0.08893702179193497\n",
      "Val Loss: 0.0918385311961174\n"
     ]
    },
    {
     "name": "stderr",
     "output_type": "stream",
     "text": [
      "Training model...: 100%|██████████| 8/8 [00:05<00:00,  1.36it/s]\n",
      "Validating Model...: 100%|██████████| 8/8 [00:06<00:00,  1.33it/s]\n"
     ]
    },
    {
     "name": "stdout",
     "output_type": "stream",
     "text": [
      "Train Accuracy: 0.43801653385162354\n",
      "Val Accuracy: 0.4545454680919647\n",
      "Loss: 0.09320122003555298\n",
      "Val Loss: 0.0913197249174118\n"
     ]
    },
    {
     "name": "stderr",
     "output_type": "stream",
     "text": [
      "Training model...: 100%|██████████| 8/8 [00:05<00:00,  1.35it/s]\n",
      "Validating Model...: 100%|██████████| 8/8 [00:05<00:00,  1.39it/s]\n"
     ]
    },
    {
     "name": "stdout",
     "output_type": "stream",
     "text": [
      "Train Accuracy: 0.42148759961128235\n",
      "Val Accuracy: 0.5041322112083435\n",
      "Loss: 0.09468711167573929\n",
      "Val Loss: 0.09040611982345581\n"
     ]
    },
    {
     "name": "stderr",
     "output_type": "stream",
     "text": [
      "Training model...: 100%|██████████| 8/8 [00:05<00:00,  1.36it/s]\n",
      "Validating Model...: 100%|██████████| 8/8 [00:05<00:00,  1.39it/s]\n"
     ]
    },
    {
     "name": "stdout",
     "output_type": "stream",
     "text": [
      "Train Accuracy: 0.4793388545513153\n",
      "Val Accuracy: 0.42148759961128235\n",
      "Loss: 0.08765017241239548\n",
      "Val Loss: 0.0937110111117363\n"
     ]
    },
    {
     "name": "stderr",
     "output_type": "stream",
     "text": [
      "Training model...: 100%|██████████| 8/8 [00:05<00:00,  1.35it/s]\n",
      "Validating Model...: 100%|██████████| 8/8 [00:05<00:00,  1.37it/s]\n"
     ]
    },
    {
     "name": "stdout",
     "output_type": "stream",
     "text": [
      "Train Accuracy: 0.4628099203109741\n",
      "Val Accuracy: 0.41322314739227295\n",
      "Loss: 0.0887916311621666\n",
      "Val Loss: 0.09148925542831421\n"
     ]
    },
    {
     "name": "stderr",
     "output_type": "stream",
     "text": [
      "Training model...: 100%|██████████| 8/8 [00:05<00:00,  1.35it/s]\n",
      "Validating Model...: 100%|██████████| 8/8 [00:05<00:00,  1.37it/s]\n"
     ]
    },
    {
     "name": "stdout",
     "output_type": "stream",
     "text": [
      "Train Accuracy: 0.4876033067703247\n",
      "Val Accuracy: 0.3636363744735718\n",
      "Loss: 0.09012659639120102\n",
      "Val Loss: 0.09236077219247818\n"
     ]
    },
    {
     "name": "stderr",
     "output_type": "stream",
     "text": [
      "Training model...: 100%|██████████| 8/8 [00:05<00:00,  1.35it/s]\n",
      "Validating Model...: 100%|██████████| 8/8 [00:05<00:00,  1.37it/s]\n"
     ]
    },
    {
     "name": "stdout",
     "output_type": "stream",
     "text": [
      "Train Accuracy: 0.4710743725299835\n",
      "Val Accuracy: 0.5123966932296753\n",
      "Loss: 0.09089483320713043\n",
      "Val Loss: 0.09077861160039902\n"
     ]
    },
    {
     "name": "stderr",
     "output_type": "stream",
     "text": [
      "Training model...: 100%|██████████| 8/8 [00:05<00:00,  1.35it/s]\n",
      "Validating Model...: 100%|██████████| 8/8 [00:05<00:00,  1.37it/s]\n"
     ]
    },
    {
     "name": "stdout",
     "output_type": "stream",
     "text": [
      "Train Accuracy: 0.4958677589893341\n",
      "Val Accuracy: 0.4628099203109741\n",
      "Loss: 0.08856090158224106\n",
      "Val Loss: 0.08996892720460892\n"
     ]
    },
    {
     "name": "stderr",
     "output_type": "stream",
     "text": [
      "Training model...: 100%|██████████| 8/8 [00:05<00:00,  1.35it/s]\n",
      "Validating Model...: 100%|██████████| 8/8 [00:05<00:00,  1.37it/s]\n"
     ]
    },
    {
     "name": "stdout",
     "output_type": "stream",
     "text": [
      "Train Accuracy: 0.4545454680919647\n",
      "Val Accuracy: 0.4793388545513153\n",
      "Loss: 0.08785955607891083\n",
      "Val Loss: 0.08805564790964127\n"
     ]
    },
    {
     "name": "stderr",
     "output_type": "stream",
     "text": [
      "Training model...: 100%|██████████| 8/8 [00:05<00:00,  1.35it/s]\n",
      "Validating Model...: 100%|██████████| 8/8 [00:05<00:00,  1.36it/s]\n"
     ]
    },
    {
     "name": "stdout",
     "output_type": "stream",
     "text": [
      "Train Accuracy: 0.5041322112083435\n",
      "Val Accuracy: 0.4876033067703247\n",
      "Loss: 0.08874709904193878\n",
      "Val Loss: 0.09025340527296066\n"
     ]
    },
    {
     "name": "stderr",
     "output_type": "stream",
     "text": [
      "Training model...: 100%|██████████| 8/8 [00:05<00:00,  1.35it/s]\n",
      "Validating Model...: 100%|██████████| 8/8 [00:05<00:00,  1.39it/s]\n"
     ]
    },
    {
     "name": "stdout",
     "output_type": "stream",
     "text": [
      "Train Accuracy: 0.43801653385162354\n",
      "Val Accuracy: 0.5289255976676941\n",
      "Loss: 0.08819293975830078\n",
      "Val Loss: 0.08892315626144409\n"
     ]
    },
    {
     "name": "stderr",
     "output_type": "stream",
     "text": [
      "Training model...: 100%|██████████| 8/8 [00:06<00:00,  1.33it/s]\n",
      "Validating Model...: 100%|██████████| 8/8 [00:05<00:00,  1.38it/s]\n"
     ]
    },
    {
     "name": "stdout",
     "output_type": "stream",
     "text": [
      "Train Accuracy: 0.44628098607063293\n",
      "Val Accuracy: 0.4876033067703247\n",
      "Loss: 0.08985486626625061\n",
      "Val Loss: 0.08795250207185745\n"
     ]
    },
    {
     "name": "stderr",
     "output_type": "stream",
     "text": [
      "Training model...: 100%|██████████| 8/8 [00:05<00:00,  1.36it/s]\n",
      "Validating Model...: 100%|██████████| 8/8 [00:05<00:00,  1.38it/s]\n"
     ]
    },
    {
     "name": "stdout",
     "output_type": "stream",
     "text": [
      "Train Accuracy: 0.44628098607063293\n",
      "Val Accuracy: 0.5289255976676941\n",
      "Loss: 0.08796203136444092\n",
      "Val Loss: 0.08852380514144897\n"
     ]
    },
    {
     "name": "stderr",
     "output_type": "stream",
     "text": [
      "Training model...: 100%|██████████| 8/8 [00:05<00:00,  1.35it/s]\n",
      "Validating Model...: 100%|██████████| 8/8 [00:05<00:00,  1.39it/s]\n"
     ]
    },
    {
     "name": "stdout",
     "output_type": "stream",
     "text": [
      "Train Accuracy: 0.4710743725299835\n",
      "Val Accuracy: 0.43801653385162354\n",
      "Loss: 0.08889129757881165\n",
      "Val Loss: 0.09129227697849274\n"
     ]
    },
    {
     "name": "stderr",
     "output_type": "stream",
     "text": [
      "Training model...: 100%|██████████| 8/8 [00:05<00:00,  1.35it/s]\n",
      "Validating Model...: 100%|██████████| 8/8 [00:05<00:00,  1.38it/s]\n"
     ]
    },
    {
     "name": "stdout",
     "output_type": "stream",
     "text": [
      "Train Accuracy: 0.4793388545513153\n",
      "Val Accuracy: 0.4628099203109741\n",
      "Loss: 0.08863090723752975\n",
      "Val Loss: 0.0876782089471817\n"
     ]
    },
    {
     "name": "stderr",
     "output_type": "stream",
     "text": [
      "Training model...: 100%|██████████| 8/8 [00:05<00:00,  1.36it/s]\n",
      "Validating Model...: 100%|██████████| 8/8 [00:05<00:00,  1.38it/s]\n"
     ]
    },
    {
     "name": "stdout",
     "output_type": "stream",
     "text": [
      "Train Accuracy: 0.4958677589893341\n",
      "Val Accuracy: 0.4876033067703247\n",
      "Loss: 0.08978676795959473\n",
      "Val Loss: 0.08758161962032318\n"
     ]
    },
    {
     "name": "stderr",
     "output_type": "stream",
     "text": [
      "Training model...: 100%|██████████| 8/8 [00:05<00:00,  1.36it/s]\n",
      "Validating Model...: 100%|██████████| 8/8 [00:05<00:00,  1.39it/s]\n"
     ]
    },
    {
     "name": "stdout",
     "output_type": "stream",
     "text": [
      "Train Accuracy: 0.5041322112083435\n",
      "Val Accuracy: 0.5041322112083435\n",
      "Loss: 0.08724357932806015\n",
      "Val Loss: 0.08839037269353867\n"
     ]
    },
    {
     "name": "stderr",
     "output_type": "stream",
     "text": [
      "Training model...: 100%|██████████| 8/8 [00:06<00:00,  1.31it/s]\n",
      "Validating Model...: 100%|██████████| 8/8 [00:05<00:00,  1.37it/s]\n"
     ]
    },
    {
     "name": "stdout",
     "output_type": "stream",
     "text": [
      "Train Accuracy: 0.44628098607063293\n",
      "Val Accuracy: 0.4876033067703247\n",
      "Loss: 0.08824465423822403\n",
      "Val Loss: 0.08940575271844864\n"
     ]
    },
    {
     "name": "stderr",
     "output_type": "stream",
     "text": [
      "Training model...: 100%|██████████| 8/8 [00:05<00:00,  1.35it/s]\n",
      "Validating Model...: 100%|██████████| 8/8 [00:05<00:00,  1.35it/s]\n"
     ]
    },
    {
     "name": "stdout",
     "output_type": "stream",
     "text": [
      "Train Accuracy: 0.4793388545513153\n",
      "Val Accuracy: 0.4628099203109741\n",
      "Loss: 0.0902850329875946\n",
      "Val Loss: 0.09018997848033905\n"
     ]
    },
    {
     "name": "stderr",
     "output_type": "stream",
     "text": [
      "Training model...: 100%|██████████| 8/8 [00:05<00:00,  1.35it/s]\n",
      "Validating Model...: 100%|██████████| 8/8 [00:05<00:00,  1.37it/s]\n"
     ]
    },
    {
     "name": "stdout",
     "output_type": "stream",
     "text": [
      "Train Accuracy: 0.4710743725299835\n",
      "Val Accuracy: 0.5123966932296753\n",
      "Loss: 0.08940566331148148\n",
      "Val Loss: 0.08754416555166245\n"
     ]
    },
    {
     "name": "stderr",
     "output_type": "stream",
     "text": [
      "Training model...: 100%|██████████| 8/8 [00:05<00:00,  1.34it/s]\n",
      "Validating Model...: 100%|██████████| 8/8 [00:05<00:00,  1.38it/s]\n"
     ]
    },
    {
     "name": "stdout",
     "output_type": "stream",
     "text": [
      "Train Accuracy: 0.4628099203109741\n",
      "Val Accuracy: 0.4545454680919647\n",
      "Loss: 0.09043119847774506\n",
      "Val Loss: 0.08891960233449936\n"
     ]
    },
    {
     "name": "stderr",
     "output_type": "stream",
     "text": [
      "Training model...: 100%|██████████| 8/8 [00:05<00:00,  1.33it/s]\n",
      "Validating Model...: 100%|██████████| 8/8 [00:05<00:00,  1.35it/s]\n"
     ]
    },
    {
     "name": "stdout",
     "output_type": "stream",
     "text": [
      "Train Accuracy: 0.4876033067703247\n",
      "Val Accuracy: 0.5371900796890259\n",
      "Loss: 0.08602382987737656\n",
      "Val Loss: 0.08620727062225342\n"
     ]
    },
    {
     "name": "stderr",
     "output_type": "stream",
     "text": [
      "Training model...: 100%|██████████| 8/8 [00:06<00:00,  1.29it/s]\n",
      "Validating Model...: 100%|██████████| 8/8 [00:05<00:00,  1.38it/s]\n"
     ]
    },
    {
     "name": "stdout",
     "output_type": "stream",
     "text": [
      "Train Accuracy: 0.5041322112083435\n",
      "Val Accuracy: 0.4545454680919647\n",
      "Loss: 0.08629659563302994\n",
      "Val Loss: 0.09005123376846313\n"
     ]
    },
    {
     "name": "stderr",
     "output_type": "stream",
     "text": [
      "Training model...: 100%|██████████| 8/8 [00:05<00:00,  1.35it/s]\n",
      "Validating Model...: 100%|██████████| 8/8 [00:05<00:00,  1.37it/s]\n"
     ]
    },
    {
     "name": "stdout",
     "output_type": "stream",
     "text": [
      "Train Accuracy: 0.4545454680919647\n",
      "Val Accuracy: 0.4793388545513153\n",
      "Loss: 0.08663856238126755\n",
      "Val Loss: 0.08985324203968048\n"
     ]
    },
    {
     "name": "stderr",
     "output_type": "stream",
     "text": [
      "Training model...: 100%|██████████| 8/8 [00:05<00:00,  1.34it/s]\n",
      "Validating Model...: 100%|██████████| 8/8 [00:05<00:00,  1.36it/s]\n"
     ]
    },
    {
     "name": "stdout",
     "output_type": "stream",
     "text": [
      "Train Accuracy: 0.5289255976676941\n",
      "Val Accuracy: 0.5289255976676941\n",
      "Loss: 0.08311070501804352\n",
      "Val Loss: 0.08585169166326523\n"
     ]
    },
    {
     "name": "stderr",
     "output_type": "stream",
     "text": [
      "Training model...: 100%|██████████| 8/8 [00:06<00:00,  1.32it/s]\n",
      "Validating Model...: 100%|██████████| 8/8 [00:05<00:00,  1.35it/s]\n"
     ]
    },
    {
     "name": "stdout",
     "output_type": "stream",
     "text": [
      "Train Accuracy: 0.4793388545513153\n",
      "Val Accuracy: 0.4710743725299835\n",
      "Loss: 0.08731495589017868\n",
      "Val Loss: 0.08852961659431458\n"
     ]
    },
    {
     "name": "stderr",
     "output_type": "stream",
     "text": [
      "Training model...: 100%|██████████| 8/8 [00:06<00:00,  1.31it/s]\n",
      "Validating Model...: 100%|██████████| 8/8 [00:06<00:00,  1.33it/s]\n"
     ]
    },
    {
     "name": "stdout",
     "output_type": "stream",
     "text": [
      "Train Accuracy: 0.5537189841270447\n",
      "Val Accuracy: 0.4958677589893341\n",
      "Loss: 0.08245517313480377\n",
      "Val Loss: 0.08905886113643646\n"
     ]
    },
    {
     "name": "stderr",
     "output_type": "stream",
     "text": [
      "Training model...: 100%|██████████| 8/8 [00:06<00:00,  1.30it/s]\n",
      "Validating Model...: 100%|██████████| 8/8 [00:06<00:00,  1.30it/s]\n"
     ]
    },
    {
     "name": "stdout",
     "output_type": "stream",
     "text": [
      "Train Accuracy: 0.42148759961128235\n",
      "Val Accuracy: 0.5206611752510071\n",
      "Loss: 0.0881439745426178\n",
      "Val Loss: 0.08642761409282684\n"
     ]
    },
    {
     "name": "stderr",
     "output_type": "stream",
     "text": [
      "Training model...: 100%|██████████| 8/8 [00:06<00:00,  1.25it/s]\n",
      "Validating Model...: 100%|██████████| 8/8 [00:06<00:00,  1.27it/s]\n"
     ]
    },
    {
     "name": "stdout",
     "output_type": "stream",
     "text": [
      "Train Accuracy: 0.4710743725299835\n",
      "Val Accuracy: 0.5206611752510071\n",
      "Loss: 0.087455615401268\n",
      "Val Loss: 0.08987549692392349\n"
     ]
    },
    {
     "name": "stderr",
     "output_type": "stream",
     "text": [
      "Training model...: 100%|██████████| 8/8 [00:06<00:00,  1.22it/s]\n",
      "Validating Model...: 100%|██████████| 8/8 [00:06<00:00,  1.28it/s]\n"
     ]
    },
    {
     "name": "stdout",
     "output_type": "stream",
     "text": [
      "Train Accuracy: 0.5289255976676941\n",
      "Val Accuracy: 0.5123966932296753\n",
      "Loss: 0.08440722525119781\n",
      "Val Loss: 0.0869046226143837\n"
     ]
    },
    {
     "name": "stderr",
     "output_type": "stream",
     "text": [
      "Training model...: 100%|██████████| 8/8 [00:06<00:00,  1.23it/s]\n",
      "Validating Model...: 100%|██████████| 8/8 [00:06<00:00,  1.25it/s]\n"
     ]
    },
    {
     "name": "stdout",
     "output_type": "stream",
     "text": [
      "Train Accuracy: 0.5206611752510071\n",
      "Val Accuracy: 0.5123966932296753\n",
      "Loss: 0.08694884181022644\n",
      "Val Loss: 0.08981739729642868\n"
     ]
    },
    {
     "name": "stderr",
     "output_type": "stream",
     "text": [
      "Training model...: 100%|██████████| 8/8 [00:06<00:00,  1.29it/s]\n",
      "Validating Model...: 100%|██████████| 8/8 [00:06<00:00,  1.30it/s]\n"
     ]
    },
    {
     "name": "stdout",
     "output_type": "stream",
     "text": [
      "Train Accuracy: 0.5537189841270447\n",
      "Val Accuracy: 0.44628098607063293\n",
      "Loss: 0.08489281684160233\n",
      "Val Loss: 0.09277955442667007\n"
     ]
    },
    {
     "name": "stderr",
     "output_type": "stream",
     "text": [
      "Training model...: 100%|██████████| 8/8 [00:06<00:00,  1.28it/s]\n",
      "Validating Model...: 100%|██████████| 8/8 [00:06<00:00,  1.30it/s]\n"
     ]
    },
    {
     "name": "stdout",
     "output_type": "stream",
     "text": [
      "Train Accuracy: 0.5454545617103577\n",
      "Val Accuracy: 0.5289255976676941\n",
      "Loss: 0.08803913742303848\n",
      "Val Loss: 0.08420874923467636\n",
      "==========================================================================================\n",
      "Layer (type:depth-idx)                   Output Shape              Param #\n",
      "==========================================================================================\n",
      "AllCNN2D                                 [1, 7]                    --\n",
      "├─ModuleList: 1-1                        --                        --\n",
      "│    └─Sequential: 2-1                   [1, 16, 32, 32]           --\n",
      "│    │    └─Conv2d: 3-1                  [1, 16, 64, 64]           160\n",
      "│    │    └─Dropout2d: 3-2               [1, 16, 64, 64]           --\n",
      "│    │    └─BatchNorm2d: 3-3             [1, 16, 64, 64]           32\n",
      "│    │    └─LeakyReLU: 3-4               [1, 16, 64, 64]           --\n",
      "│    │    └─Conv2d: 3-5                  [1, 16, 32, 32]           2,320\n",
      "│    │    └─Dropout2d: 3-6               [1, 16, 32, 32]           --\n",
      "│    │    └─BatchNorm2d: 3-7             [1, 16, 32, 32]           32\n",
      "│    │    └─LeakyReLU: 3-8               [1, 16, 32, 32]           --\n",
      "│    └─Sequential: 2-2                   [1, 16, 16, 16]           --\n",
      "│    │    └─Conv2d: 3-9                  [1, 16, 32, 32]           2,320\n",
      "│    │    └─Dropout2d: 3-10              [1, 16, 32, 32]           --\n",
      "│    │    └─BatchNorm2d: 3-11            [1, 16, 32, 32]           32\n",
      "│    │    └─LeakyReLU: 3-12              [1, 16, 32, 32]           --\n",
      "│    │    └─Conv2d: 3-13                 [1, 16, 16, 16]           2,320\n",
      "│    │    └─Dropout2d: 3-14              [1, 16, 16, 16]           --\n",
      "│    │    └─BatchNorm2d: 3-15            [1, 16, 16, 16]           32\n",
      "│    │    └─LeakyReLU: 3-16              [1, 16, 16, 16]           --\n",
      "│    └─Sequential: 2-3                   [1, 16, 8, 8]             --\n",
      "│    │    └─Conv2d: 3-17                 [1, 16, 16, 16]           2,320\n",
      "│    │    └─Dropout2d: 3-18              [1, 16, 16, 16]           --\n",
      "│    │    └─BatchNorm2d: 3-19            [1, 16, 16, 16]           32\n",
      "│    │    └─LeakyReLU: 3-20              [1, 16, 16, 16]           --\n",
      "│    │    └─Conv2d: 3-21                 [1, 16, 8, 8]             2,320\n",
      "│    │    └─Dropout2d: 3-22              [1, 16, 8, 8]             --\n",
      "│    │    └─BatchNorm2d: 3-23            [1, 16, 8, 8]             32\n",
      "│    │    └─LeakyReLU: 3-24              [1, 16, 8, 8]             --\n",
      "│    └─Sequential: 2-4                   [1, 16, 4, 4]             --\n",
      "│    │    └─Conv2d: 3-25                 [1, 16, 8, 8]             2,320\n",
      "│    │    └─Dropout2d: 3-26              [1, 16, 8, 8]             --\n",
      "│    │    └─BatchNorm2d: 3-27            [1, 16, 8, 8]             32\n",
      "│    │    └─LeakyReLU: 3-28              [1, 16, 8, 8]             --\n",
      "│    │    └─Conv2d: 3-29                 [1, 16, 4, 4]             2,320\n",
      "│    │    └─Dropout2d: 3-30              [1, 16, 4, 4]             --\n",
      "│    │    └─BatchNorm2d: 3-31            [1, 16, 4, 4]             32\n",
      "│    │    └─LeakyReLU: 3-32              [1, 16, 4, 4]             --\n",
      "├─Sequential: 1-2                        [1, 256]                  --\n",
      "│    └─Flatten: 2-5                      [1, 256]                  --\n",
      "├─ModuleList: 1-3                        --                        --\n",
      "│    └─Sequential: 2-6                   [1, 7]                    --\n",
      "│    │    └─Linear: 3-33                 [1, 7]                    1,799\n",
      "==========================================================================================\n",
      "Total params: 18,455\n",
      "Trainable params: 18,455\n",
      "Non-trainable params: 0\n",
      "Total mult-adds (M): 6.93\n",
      "==========================================================================================\n",
      "Input size (MB): 0.02\n",
      "Forward/backward pass size (MB): 1.74\n",
      "Params size (MB): 0.07\n",
      "Estimated Total Size (MB): 1.83\n",
      "==========================================================================================\n"
     ]
    },
    {
     "name": "stderr",
     "output_type": "stream",
     "text": [
      "Training model...: 100%|██████████| 8/8 [00:06<00:00,  1.29it/s]\n",
      "Validating Model...: 100%|██████████| 8/8 [00:06<00:00,  1.31it/s]\n"
     ]
    },
    {
     "name": "stdout",
     "output_type": "stream",
     "text": [
      "Train Accuracy: 0.10743801295757294\n",
      "Val Accuracy: 0.1735537201166153\n",
      "Loss: 0.13065993785858154\n",
      "Val Loss: 0.12847208976745605\n"
     ]
    },
    {
     "name": "stderr",
     "output_type": "stream",
     "text": [
      "Training model...: 100%|██████████| 8/8 [00:06<00:00,  1.28it/s]\n",
      "Validating Model...: 100%|██████████| 8/8 [00:06<00:00,  1.31it/s]\n"
     ]
    },
    {
     "name": "stdout",
     "output_type": "stream",
     "text": [
      "Train Accuracy: 0.12396693974733353\n",
      "Val Accuracy: 0.1735537201166153\n",
      "Loss: 0.13572034239768982\n",
      "Val Loss: 0.12834163010120392\n"
     ]
    },
    {
     "name": "stderr",
     "output_type": "stream",
     "text": [
      "Training model...: 100%|██████████| 8/8 [00:06<00:00,  1.26it/s]\n",
      "Validating Model...: 100%|██████████| 8/8 [00:06<00:00,  1.27it/s]\n"
     ]
    },
    {
     "name": "stdout",
     "output_type": "stream",
     "text": [
      "Train Accuracy: 0.1487603336572647\n",
      "Val Accuracy: 0.1652892529964447\n",
      "Loss: 0.13047192990779877\n",
      "Val Loss: 0.12812073528766632\n"
     ]
    },
    {
     "name": "stderr",
     "output_type": "stream",
     "text": [
      "Training model...: 100%|██████████| 8/8 [00:06<00:00,  1.26it/s]\n",
      "Validating Model...: 100%|██████████| 8/8 [00:06<00:00,  1.28it/s]\n"
     ]
    },
    {
     "name": "stdout",
     "output_type": "stream",
     "text": [
      "Train Accuracy: 0.1900826394557953\n",
      "Val Accuracy: 0.10743801295757294\n",
      "Loss: 0.12753553688526154\n",
      "Val Loss: 0.12811236083507538\n"
     ]
    },
    {
     "name": "stderr",
     "output_type": "stream",
     "text": [
      "Training model...: 100%|██████████| 8/8 [00:06<00:00,  1.24it/s]\n",
      "Validating Model...: 100%|██████████| 8/8 [00:06<00:00,  1.25it/s]\n"
     ]
    },
    {
     "name": "stdout",
     "output_type": "stream",
     "text": [
      "Train Accuracy: 0.20661157369613647\n",
      "Val Accuracy: 0.1570248007774353\n",
      "Loss: 0.12497507780790329\n",
      "Val Loss: 0.12689557671546936\n"
     ]
    },
    {
     "name": "stderr",
     "output_type": "stream",
     "text": [
      "Training model...: 100%|██████████| 8/8 [00:06<00:00,  1.24it/s]\n",
      "Validating Model...: 100%|██████████| 8/8 [00:06<00:00,  1.25it/s]\n"
     ]
    },
    {
     "name": "stdout",
     "output_type": "stream",
     "text": [
      "Train Accuracy: 0.20661157369613647\n",
      "Val Accuracy: 0.20661157369613647\n",
      "Loss: 0.12398968636989594\n",
      "Val Loss: 0.12576262652873993\n"
     ]
    },
    {
     "name": "stderr",
     "output_type": "stream",
     "text": [
      "Training model...: 100%|██████████| 8/8 [00:06<00:00,  1.23it/s]\n",
      "Validating Model...: 100%|██████████| 8/8 [00:06<00:00,  1.23it/s]\n"
     ]
    },
    {
     "name": "stdout",
     "output_type": "stream",
     "text": [
      "Train Accuracy: 0.20661157369613647\n",
      "Val Accuracy: 0.32231405377388\n",
      "Loss: 0.1254962831735611\n",
      "Val Loss: 0.1234501302242279\n"
     ]
    },
    {
     "name": "stderr",
     "output_type": "stream",
     "text": [
      "Training model...: 100%|██████████| 8/8 [00:06<00:00,  1.25it/s]\n",
      "Validating Model...: 100%|██████████| 8/8 [00:06<00:00,  1.28it/s]\n"
     ]
    },
    {
     "name": "stdout",
     "output_type": "stream",
     "text": [
      "Train Accuracy: 0.21487602591514587\n",
      "Val Accuracy: 0.23140496015548706\n",
      "Loss: 0.12403362989425659\n",
      "Val Loss: 0.12309800833463669\n"
     ]
    },
    {
     "name": "stderr",
     "output_type": "stream",
     "text": [
      "Training model...: 100%|██████████| 8/8 [00:06<00:00,  1.30it/s]\n",
      "Validating Model...: 100%|██████████| 8/8 [00:05<00:00,  1.34it/s]\n"
     ]
    },
    {
     "name": "stdout",
     "output_type": "stream",
     "text": [
      "Train Accuracy: 0.21487602591514587\n",
      "Val Accuracy: 0.1900826394557953\n",
      "Loss: 0.12039928883314133\n",
      "Val Loss: 0.12328901141881943\n"
     ]
    },
    {
     "name": "stderr",
     "output_type": "stream",
     "text": [
      "Training model...: 100%|██████████| 8/8 [00:06<00:00,  1.32it/s]\n",
      "Validating Model...: 100%|██████████| 8/8 [00:05<00:00,  1.36it/s]\n"
     ]
    },
    {
     "name": "stdout",
     "output_type": "stream",
     "text": [
      "Train Accuracy: 0.26446279883384705\n",
      "Val Accuracy: 0.27272728085517883\n",
      "Loss: 0.12007138133049011\n",
      "Val Loss: 0.12139445543289185\n"
     ]
    },
    {
     "name": "stderr",
     "output_type": "stream",
     "text": [
      "Training model...: 100%|██████████| 8/8 [00:06<00:00,  1.29it/s]\n",
      "Validating Model...: 100%|██████████| 8/8 [00:06<00:00,  1.31it/s]\n"
     ]
    },
    {
     "name": "stdout",
     "output_type": "stream",
     "text": [
      "Train Accuracy: 0.27272728085517883\n",
      "Val Accuracy: 0.25619834661483765\n",
      "Loss: 0.11975134164094925\n",
      "Val Loss: 0.11907590180635452\n"
     ]
    },
    {
     "name": "stderr",
     "output_type": "stream",
     "text": [
      "Training model...: 100%|██████████| 8/8 [00:06<00:00,  1.32it/s]\n",
      "Validating Model...: 100%|██████████| 8/8 [00:05<00:00,  1.35it/s]\n"
     ]
    },
    {
     "name": "stdout",
     "output_type": "stream",
     "text": [
      "Train Accuracy: 0.20661157369613647\n",
      "Val Accuracy: 0.28925618529319763\n",
      "Loss: 0.12029170244932175\n",
      "Val Loss: 0.1200140193104744\n"
     ]
    },
    {
     "name": "stderr",
     "output_type": "stream",
     "text": [
      "Training model...: 100%|██████████| 8/8 [00:06<00:00,  1.32it/s]\n",
      "Validating Model...: 100%|██████████| 8/8 [00:06<00:00,  1.31it/s]\n"
     ]
    },
    {
     "name": "stdout",
     "output_type": "stream",
     "text": [
      "Train Accuracy: 0.22314049303531647\n",
      "Val Accuracy: 0.26446279883384705\n",
      "Loss: 0.11686744540929794\n",
      "Val Loss: 0.11586672067642212\n"
     ]
    },
    {
     "name": "stderr",
     "output_type": "stream",
     "text": [
      "Training model...: 100%|██████████| 8/8 [00:06<00:00,  1.25it/s]\n",
      "Validating Model...: 100%|██████████| 8/8 [00:06<00:00,  1.30it/s]\n"
     ]
    },
    {
     "name": "stdout",
     "output_type": "stream",
     "text": [
      "Train Accuracy: 0.27272728085517883\n",
      "Val Accuracy: 0.24793387949466705\n",
      "Loss: 0.11792375892400742\n",
      "Val Loss: 0.11766047030687332\n"
     ]
    },
    {
     "name": "stderr",
     "output_type": "stream",
     "text": [
      "Training model...: 100%|██████████| 8/8 [00:06<00:00,  1.33it/s]\n",
      "Validating Model...: 100%|██████████| 8/8 [00:05<00:00,  1.36it/s]\n"
     ]
    },
    {
     "name": "stdout",
     "output_type": "stream",
     "text": [
      "Train Accuracy: 0.2975206673145294\n",
      "Val Accuracy: 0.24793387949466705\n",
      "Loss: 0.11429441720247269\n",
      "Val Loss: 0.11898576468229294\n"
     ]
    },
    {
     "name": "stderr",
     "output_type": "stream",
     "text": [
      "Training model...: 100%|██████████| 8/8 [00:05<00:00,  1.35it/s]\n",
      "Validating Model...: 100%|██████████| 8/8 [00:05<00:00,  1.36it/s]\n"
     ]
    },
    {
     "name": "stdout",
     "output_type": "stream",
     "text": [
      "Train Accuracy: 0.3057851195335388\n",
      "Val Accuracy: 0.28099173307418823\n",
      "Loss: 0.11631970852613449\n",
      "Val Loss: 0.11859479546546936\n"
     ]
    },
    {
     "name": "stderr",
     "output_type": "stream",
     "text": [
      "Training model...: 100%|██████████| 8/8 [00:05<00:00,  1.35it/s]\n",
      "Validating Model...: 100%|██████████| 8/8 [00:05<00:00,  1.37it/s]\n"
     ]
    },
    {
     "name": "stdout",
     "output_type": "stream",
     "text": [
      "Train Accuracy: 0.3305785059928894\n",
      "Val Accuracy: 0.3471074402332306\n",
      "Loss: 0.11515207588672638\n",
      "Val Loss: 0.11628127098083496\n"
     ]
    },
    {
     "name": "stderr",
     "output_type": "stream",
     "text": [
      "Training model...: 100%|██████████| 8/8 [00:06<00:00,  1.33it/s]\n",
      "Validating Model...: 100%|██████████| 8/8 [00:05<00:00,  1.36it/s]\n"
     ]
    },
    {
     "name": "stdout",
     "output_type": "stream",
     "text": [
      "Train Accuracy: 0.20661157369613647\n",
      "Val Accuracy: 0.32231405377388\n",
      "Loss: 0.11687101423740387\n",
      "Val Loss: 0.1129196509718895\n"
     ]
    },
    {
     "name": "stderr",
     "output_type": "stream",
     "text": [
      "Training model...: 100%|██████████| 8/8 [00:05<00:00,  1.34it/s]\n",
      "Validating Model...: 100%|██████████| 8/8 [00:06<00:00,  1.32it/s]\n"
     ]
    },
    {
     "name": "stdout",
     "output_type": "stream",
     "text": [
      "Train Accuracy: 0.42148759961128235\n",
      "Val Accuracy: 0.3388429880142212\n",
      "Loss: 0.11165335774421692\n",
      "Val Loss: 0.11493673175573349\n"
     ]
    },
    {
     "name": "stderr",
     "output_type": "stream",
     "text": [
      "Training model...: 100%|██████████| 8/8 [00:06<00:00,  1.30it/s]\n",
      "Validating Model...: 100%|██████████| 8/8 [00:06<00:00,  1.30it/s]\n"
     ]
    },
    {
     "name": "stdout",
     "output_type": "stream",
     "text": [
      "Train Accuracy: 0.3140496015548706\n",
      "Val Accuracy: 0.38842976093292236\n",
      "Loss: 0.11560137569904327\n",
      "Val Loss: 0.111871637403965\n"
     ]
    },
    {
     "name": "stderr",
     "output_type": "stream",
     "text": [
      "Training model...: 100%|██████████| 8/8 [00:06<00:00,  1.22it/s]\n",
      "Validating Model...: 100%|██████████| 8/8 [00:06<00:00,  1.24it/s]\n"
     ]
    },
    {
     "name": "stdout",
     "output_type": "stream",
     "text": [
      "Train Accuracy: 0.3140496015548706\n",
      "Val Accuracy: 0.35537189245224\n",
      "Loss: 0.11226139962673187\n",
      "Val Loss: 0.11340115964412689\n"
     ]
    },
    {
     "name": "stderr",
     "output_type": "stream",
     "text": [
      "Training model...: 100%|██████████| 8/8 [00:06<00:00,  1.21it/s]\n",
      "Validating Model...: 100%|██████████| 8/8 [00:06<00:00,  1.26it/s]\n"
     ]
    },
    {
     "name": "stdout",
     "output_type": "stream",
     "text": [
      "Train Accuracy: 0.3719008266925812\n",
      "Val Accuracy: 0.3305785059928894\n",
      "Loss: 0.11277434974908829\n",
      "Val Loss: 0.11308198422193527\n"
     ]
    },
    {
     "name": "stderr",
     "output_type": "stream",
     "text": [
      "Training model...: 100%|██████████| 8/8 [00:06<00:00,  1.23it/s]\n",
      "Validating Model...: 100%|██████████| 8/8 [00:06<00:00,  1.24it/s]\n"
     ]
    },
    {
     "name": "stdout",
     "output_type": "stream",
     "text": [
      "Train Accuracy: 0.35537189245224\n",
      "Val Accuracy: 0.3636363744735718\n",
      "Loss: 0.11366409063339233\n",
      "Val Loss: 0.11191914975643158\n"
     ]
    },
    {
     "name": "stderr",
     "output_type": "stream",
     "text": [
      "Training model...: 100%|██████████| 8/8 [00:06<00:00,  1.19it/s]\n",
      "Validating Model...: 100%|██████████| 8/8 [00:06<00:00,  1.24it/s]\n"
     ]
    },
    {
     "name": "stdout",
     "output_type": "stream",
     "text": [
      "Train Accuracy: 0.3471074402332306\n",
      "Val Accuracy: 0.35537189245224\n",
      "Loss: 0.11197016388177872\n",
      "Val Loss: 0.11338707059621811\n"
     ]
    },
    {
     "name": "stderr",
     "output_type": "stream",
     "text": [
      "Training model...: 100%|██████████| 8/8 [00:06<00:00,  1.22it/s]\n",
      "Validating Model...: 100%|██████████| 8/8 [00:06<00:00,  1.21it/s]\n"
     ]
    },
    {
     "name": "stdout",
     "output_type": "stream",
     "text": [
      "Train Accuracy: 0.3471074402332306\n",
      "Val Accuracy: 0.3636363744735718\n",
      "Loss: 0.11123227328062057\n",
      "Val Loss: 0.11273682117462158\n"
     ]
    },
    {
     "name": "stderr",
     "output_type": "stream",
     "text": [
      "Training model...: 100%|██████████| 8/8 [00:06<00:00,  1.20it/s]\n",
      "Validating Model...: 100%|██████████| 8/8 [00:06<00:00,  1.23it/s]\n"
     ]
    },
    {
     "name": "stdout",
     "output_type": "stream",
     "text": [
      "Train Accuracy: 0.3471074402332306\n",
      "Val Accuracy: 0.38842976093292236\n",
      "Loss: 0.11307263374328613\n",
      "Val Loss: 0.11364215612411499\n"
     ]
    },
    {
     "name": "stderr",
     "output_type": "stream",
     "text": [
      "Training model...: 100%|██████████| 8/8 [00:06<00:00,  1.19it/s]\n",
      "Validating Model...: 100%|██████████| 8/8 [00:06<00:00,  1.22it/s]\n"
     ]
    },
    {
     "name": "stdout",
     "output_type": "stream",
     "text": [
      "Train Accuracy: 0.3388429880142212\n",
      "Val Accuracy: 0.3719008266925812\n",
      "Loss: 0.11135402321815491\n",
      "Val Loss: 0.11083931475877762\n"
     ]
    },
    {
     "name": "stderr",
     "output_type": "stream",
     "text": [
      "Training model...: 100%|██████████| 8/8 [00:06<00:00,  1.19it/s]\n",
      "Validating Model...: 100%|██████████| 8/8 [00:06<00:00,  1.17it/s]\n"
     ]
    },
    {
     "name": "stdout",
     "output_type": "stream",
     "text": [
      "Train Accuracy: 0.3388429880142212\n",
      "Val Accuracy: 0.43801653385162354\n",
      "Loss: 0.10993661731481552\n",
      "Val Loss: 0.10981396585702896\n"
     ]
    },
    {
     "name": "stderr",
     "output_type": "stream",
     "text": [
      "Training model...: 100%|██████████| 8/8 [00:06<00:00,  1.17it/s]\n",
      "Validating Model...: 100%|██████████| 8/8 [00:06<00:00,  1.27it/s]\n"
     ]
    },
    {
     "name": "stdout",
     "output_type": "stream",
     "text": [
      "Train Accuracy: 0.3305785059928894\n",
      "Val Accuracy: 0.38842976093292236\n",
      "Loss: 0.11021338403224945\n",
      "Val Loss: 0.11035097390413284\n"
     ]
    },
    {
     "name": "stderr",
     "output_type": "stream",
     "text": [
      "Training model...: 100%|██████████| 8/8 [00:06<00:00,  1.29it/s]\n",
      "Validating Model...: 100%|██████████| 8/8 [00:06<00:00,  1.25it/s]\n"
     ]
    },
    {
     "name": "stdout",
     "output_type": "stream",
     "text": [
      "Train Accuracy: 0.3801652789115906\n",
      "Val Accuracy: 0.3719008266925812\n",
      "Loss: 0.11126270145177841\n",
      "Val Loss: 0.10957207530736923\n"
     ]
    },
    {
     "name": "stderr",
     "output_type": "stream",
     "text": [
      "Training model...: 100%|██████████| 8/8 [00:06<00:00,  1.25it/s]\n",
      "Validating Model...: 100%|██████████| 8/8 [00:05<00:00,  1.36it/s]\n"
     ]
    },
    {
     "name": "stdout",
     "output_type": "stream",
     "text": [
      "Train Accuracy: 0.42148759961128235\n",
      "Val Accuracy: 0.41322314739227295\n",
      "Loss: 0.1081477552652359\n",
      "Val Loss: 0.10871078073978424\n"
     ]
    },
    {
     "name": "stderr",
     "output_type": "stream",
     "text": [
      "Training model...:  12%|█▎        | 1/8 [00:01<00:10,  1.48s/it]\n"
     ]
    },
    {
     "ename": "KeyboardInterrupt",
     "evalue": "",
     "output_type": "error",
     "traceback": [
      "\u001b[1;31m---------------------------------------------------------------------------\u001b[0m",
      "\u001b[1;31mKeyboardInterrupt\u001b[0m                         Traceback (most recent call last)",
      "Cell \u001b[1;32mIn[10], line 4\u001b[0m\n\u001b[0;32m      1\u001b[0m \u001b[38;5;28;01mfor\u001b[39;00m epoch \u001b[38;5;129;01min\u001b[39;00m \u001b[38;5;28mrange\u001b[39m(\u001b[38;5;241m100\u001b[39m):\n\u001b[0;32m      3\u001b[0m     log: EpochLogs\n\u001b[1;32m----> 4\u001b[0m     \u001b[38;5;28;01mfor\u001b[39;00m log \u001b[38;5;129;01min\u001b[39;00m grid_search(\n\u001b[0;32m      5\u001b[0m         model_factor\u001b[38;5;241m=\u001b[39mAllCNN2D,\n\u001b[0;32m      6\u001b[0m         all_model_parameters\u001b[38;5;241m=\u001b[39mall_model_parameters,\n\u001b[0;32m      7\u001b[0m         optim_factory\u001b[38;5;241m=\u001b[39mAdamW,\n\u001b[0;32m      8\u001b[0m         all_optim_params\u001b[38;5;241m=\u001b[39mall_optim_parameters,\n\u001b[0;32m      9\u001b[0m         epochs\u001b[38;5;241m=\u001b[39m\u001b[38;5;241m100\u001b[39m,\n\u001b[0;32m     10\u001b[0m         criterion\u001b[38;5;241m=\u001b[39mnn\u001b[38;5;241m.\u001b[39mCrossEntropyLoss(),\n\u001b[0;32m     11\u001b[0m         train_dataloader\u001b[38;5;241m=\u001b[39mtrain_dataloader,\n\u001b[0;32m     12\u001b[0m         val_dataloader\u001b[38;5;241m=\u001b[39mval_dataloader,\n\u001b[0;32m     13\u001b[0m         lr_decay_window_size\u001b[38;5;241m=\u001b[39m\u001b[38;5;241m10\u001b[39m,\n\u001b[0;32m     14\u001b[0m         lr_decay_minimum\u001b[38;5;241m=\u001b[39m\u001b[38;5;241m0.0\u001b[39m,\n\u001b[0;32m     15\u001b[0m         scheduler_scale\u001b[38;5;241m=\u001b[39m\u001b[38;5;241m0.5\u001b[39m,\n\u001b[0;32m     16\u001b[0m         device\u001b[38;5;241m=\u001b[39m\u001b[38;5;124m\"\u001b[39m\u001b[38;5;124mcuda\u001b[39m\u001b[38;5;124m\"\u001b[39m\n\u001b[0;32m     17\u001b[0m     ):\n\u001b[0;32m     18\u001b[0m         train_logpoints: \u001b[38;5;28mlist\u001b[39m[LogPoint] \u001b[38;5;241m=\u001b[39m log\u001b[38;5;241m.\u001b[39mtrain_logs\n\u001b[0;32m     19\u001b[0m         val_logpoints: \u001b[38;5;28mlist\u001b[39m[LogPoint] \u001b[38;5;241m=\u001b[39m log\u001b[38;5;241m.\u001b[39mval_logs\n",
      "File \u001b[1;32mc:\\Users\\Leon\\visual-studio\\repos\\Le-o-n\\ocr-model-training\\src\\cnn\\training\\train.py:334\u001b[0m, in \u001b[0;36mgrid_search\u001b[1;34m(model_factor, all_model_parameters, optim_factory, all_optim_params, epochs, criterion, train_dataloader, val_dataloader, lr_decay_window_size, lr_decay_minimum, scheduler_scale, device, compile_model)\u001b[0m\n\u001b[0;32m    331\u001b[0m optimiser_loss: \u001b[38;5;28mfloat\u001b[39m \u001b[38;5;241m=\u001b[39m model_optimiser\u001b[38;5;241m.\u001b[39mparam_groups[\u001b[38;5;241m0\u001b[39m][\u001b[38;5;124m\"\u001b[39m\u001b[38;5;124mlr\u001b[39m\u001b[38;5;124m\"\u001b[39m]\n\u001b[0;32m    333\u001b[0m train_log: LogPoint\n\u001b[1;32m--> 334\u001b[0m \u001b[38;5;28;01mfor\u001b[39;00m train_log \u001b[38;5;129;01min\u001b[39;00m tqdm(\n\u001b[0;32m    335\u001b[0m     train(\n\u001b[0;32m    336\u001b[0m         model\u001b[38;5;241m=\u001b[39mmodel,\n\u001b[0;32m    337\u001b[0m         optimiser\u001b[38;5;241m=\u001b[39mmodel_optimiser,\n\u001b[0;32m    338\u001b[0m         criterion\u001b[38;5;241m=\u001b[39mcriterion,\n\u001b[0;32m    339\u001b[0m         train_dataloader\u001b[38;5;241m=\u001b[39mtrain_dataloader,\n\u001b[0;32m    340\u001b[0m         device\u001b[38;5;241m=\u001b[39mdevice\n\u001b[0;32m    341\u001b[0m     ),\n\u001b[0;32m    342\u001b[0m     desc\u001b[38;5;241m=\u001b[39m\u001b[38;5;124m\"\u001b[39m\u001b[38;5;124mTraining model...\u001b[39m\u001b[38;5;124m\"\u001b[39m,\n\u001b[0;32m    343\u001b[0m     total\u001b[38;5;241m=\u001b[39m\u001b[38;5;28mlen\u001b[39m(train_dataloader)\n\u001b[0;32m    344\u001b[0m ):\n\u001b[0;32m    345\u001b[0m     epoch_train_logs\u001b[38;5;241m.\u001b[39mappend(train_log)\n\u001b[0;32m    346\u001b[0m     epoch_cur_loss \u001b[38;5;241m+\u001b[39m\u001b[38;5;241m=\u001b[39m np\u001b[38;5;241m.\u001b[39msum(\n\u001b[0;32m    347\u001b[0m         train_log\u001b[38;5;241m.\u001b[39mloss\u001b[38;5;241m.\u001b[39mdetach(\n\u001b[0;32m    348\u001b[0m         )\u001b[38;5;241m.\u001b[39mcpu()\u001b[38;5;241m.\u001b[39mtolist()\n\u001b[0;32m    349\u001b[0m     )\n",
      "File \u001b[1;32mc:\\Users\\Leon\\AppData\\Local\\Programs\\Python\\Python310\\lib\\site-packages\\tqdm\\std.py:1181\u001b[0m, in \u001b[0;36mtqdm.__iter__\u001b[1;34m(self)\u001b[0m\n\u001b[0;32m   1178\u001b[0m time \u001b[38;5;241m=\u001b[39m \u001b[38;5;28mself\u001b[39m\u001b[38;5;241m.\u001b[39m_time\n\u001b[0;32m   1180\u001b[0m \u001b[38;5;28;01mtry\u001b[39;00m:\n\u001b[1;32m-> 1181\u001b[0m     \u001b[38;5;28;01mfor\u001b[39;00m obj \u001b[38;5;129;01min\u001b[39;00m iterable:\n\u001b[0;32m   1182\u001b[0m         \u001b[38;5;28;01myield\u001b[39;00m obj\n\u001b[0;32m   1183\u001b[0m         \u001b[38;5;66;03m# Update and possibly print the progressbar.\u001b[39;00m\n\u001b[0;32m   1184\u001b[0m         \u001b[38;5;66;03m# Note: does not call self.update(1) for speed optimisation.\u001b[39;00m\n",
      "File \u001b[1;32mc:\\Users\\Leon\\visual-studio\\repos\\Le-o-n\\ocr-model-training\\src\\cnn\\training\\train.py:258\u001b[0m, in \u001b[0;36mtrain\u001b[1;34m(model, optimiser, criterion, train_dataloader, device)\u001b[0m\n\u001b[0;32m    256\u001b[0m X: Tensor\n\u001b[0;32m    257\u001b[0m y: Tensor\n\u001b[1;32m--> 258\u001b[0m \u001b[38;5;28;01mfor\u001b[39;00m X, y \u001b[38;5;129;01min\u001b[39;00m train_dataloader:\n\u001b[0;32m    260\u001b[0m     torch\u001b[38;5;241m.\u001b[39mcuda\u001b[38;5;241m.\u001b[39mempty_cache()\n\u001b[0;32m    262\u001b[0m     X \u001b[38;5;241m=\u001b[39m X\u001b[38;5;241m.\u001b[39mto(device\u001b[38;5;241m=\u001b[39mdevice)\n",
      "File \u001b[1;32mc:\\Users\\Leon\\AppData\\Local\\Programs\\Python\\Python310\\lib\\site-packages\\torch\\utils\\data\\dataloader.py:630\u001b[0m, in \u001b[0;36m_BaseDataLoaderIter.__next__\u001b[1;34m(self)\u001b[0m\n\u001b[0;32m    627\u001b[0m \u001b[38;5;28;01mif\u001b[39;00m \u001b[38;5;28mself\u001b[39m\u001b[38;5;241m.\u001b[39m_sampler_iter \u001b[38;5;129;01mis\u001b[39;00m \u001b[38;5;28;01mNone\u001b[39;00m:\n\u001b[0;32m    628\u001b[0m     \u001b[38;5;66;03m# TODO(https://github.com/pytorch/pytorch/issues/76750)\u001b[39;00m\n\u001b[0;32m    629\u001b[0m     \u001b[38;5;28mself\u001b[39m\u001b[38;5;241m.\u001b[39m_reset()  \u001b[38;5;66;03m# type: ignore[call-arg]\u001b[39;00m\n\u001b[1;32m--> 630\u001b[0m data \u001b[38;5;241m=\u001b[39m \u001b[38;5;28;43mself\u001b[39;49m\u001b[38;5;241;43m.\u001b[39;49m\u001b[43m_next_data\u001b[49m\u001b[43m(\u001b[49m\u001b[43m)\u001b[49m\n\u001b[0;32m    631\u001b[0m \u001b[38;5;28mself\u001b[39m\u001b[38;5;241m.\u001b[39m_num_yielded \u001b[38;5;241m+\u001b[39m\u001b[38;5;241m=\u001b[39m \u001b[38;5;241m1\u001b[39m\n\u001b[0;32m    632\u001b[0m \u001b[38;5;28;01mif\u001b[39;00m \u001b[38;5;28mself\u001b[39m\u001b[38;5;241m.\u001b[39m_dataset_kind \u001b[38;5;241m==\u001b[39m _DatasetKind\u001b[38;5;241m.\u001b[39mIterable \u001b[38;5;129;01mand\u001b[39;00m \\\n\u001b[0;32m    633\u001b[0m         \u001b[38;5;28mself\u001b[39m\u001b[38;5;241m.\u001b[39m_IterableDataset_len_called \u001b[38;5;129;01mis\u001b[39;00m \u001b[38;5;129;01mnot\u001b[39;00m \u001b[38;5;28;01mNone\u001b[39;00m \u001b[38;5;129;01mand\u001b[39;00m \\\n\u001b[0;32m    634\u001b[0m         \u001b[38;5;28mself\u001b[39m\u001b[38;5;241m.\u001b[39m_num_yielded \u001b[38;5;241m>\u001b[39m \u001b[38;5;28mself\u001b[39m\u001b[38;5;241m.\u001b[39m_IterableDataset_len_called:\n",
      "File \u001b[1;32mc:\\Users\\Leon\\AppData\\Local\\Programs\\Python\\Python310\\lib\\site-packages\\torch\\utils\\data\\dataloader.py:674\u001b[0m, in \u001b[0;36m_SingleProcessDataLoaderIter._next_data\u001b[1;34m(self)\u001b[0m\n\u001b[0;32m    672\u001b[0m \u001b[38;5;28;01mdef\u001b[39;00m \u001b[38;5;21m_next_data\u001b[39m(\u001b[38;5;28mself\u001b[39m):\n\u001b[0;32m    673\u001b[0m     index \u001b[38;5;241m=\u001b[39m \u001b[38;5;28mself\u001b[39m\u001b[38;5;241m.\u001b[39m_next_index()  \u001b[38;5;66;03m# may raise StopIteration\u001b[39;00m\n\u001b[1;32m--> 674\u001b[0m     data \u001b[38;5;241m=\u001b[39m \u001b[38;5;28;43mself\u001b[39;49m\u001b[38;5;241;43m.\u001b[39;49m\u001b[43m_dataset_fetcher\u001b[49m\u001b[38;5;241;43m.\u001b[39;49m\u001b[43mfetch\u001b[49m\u001b[43m(\u001b[49m\u001b[43mindex\u001b[49m\u001b[43m)\u001b[49m  \u001b[38;5;66;03m# may raise StopIteration\u001b[39;00m\n\u001b[0;32m    675\u001b[0m     \u001b[38;5;28;01mif\u001b[39;00m \u001b[38;5;28mself\u001b[39m\u001b[38;5;241m.\u001b[39m_pin_memory:\n\u001b[0;32m    676\u001b[0m         data \u001b[38;5;241m=\u001b[39m _utils\u001b[38;5;241m.\u001b[39mpin_memory\u001b[38;5;241m.\u001b[39mpin_memory(data, \u001b[38;5;28mself\u001b[39m\u001b[38;5;241m.\u001b[39m_pin_memory_device)\n",
      "File \u001b[1;32mc:\\Users\\Leon\\AppData\\Local\\Programs\\Python\\Python310\\lib\\site-packages\\torch\\utils\\data\\_utils\\fetch.py:51\u001b[0m, in \u001b[0;36m_MapDatasetFetcher.fetch\u001b[1;34m(self, possibly_batched_index)\u001b[0m\n\u001b[0;32m     49\u001b[0m         data \u001b[38;5;241m=\u001b[39m \u001b[38;5;28mself\u001b[39m\u001b[38;5;241m.\u001b[39mdataset\u001b[38;5;241m.\u001b[39m__getitems__(possibly_batched_index)\n\u001b[0;32m     50\u001b[0m     \u001b[38;5;28;01melse\u001b[39;00m:\n\u001b[1;32m---> 51\u001b[0m         data \u001b[38;5;241m=\u001b[39m [\u001b[38;5;28mself\u001b[39m\u001b[38;5;241m.\u001b[39mdataset[idx] \u001b[38;5;28;01mfor\u001b[39;00m idx \u001b[38;5;129;01min\u001b[39;00m possibly_batched_index]\n\u001b[0;32m     52\u001b[0m \u001b[38;5;28;01melse\u001b[39;00m:\n\u001b[0;32m     53\u001b[0m     data \u001b[38;5;241m=\u001b[39m \u001b[38;5;28mself\u001b[39m\u001b[38;5;241m.\u001b[39mdataset[possibly_batched_index]\n",
      "File \u001b[1;32mc:\\Users\\Leon\\AppData\\Local\\Programs\\Python\\Python310\\lib\\site-packages\\torch\\utils\\data\\_utils\\fetch.py:51\u001b[0m, in \u001b[0;36m<listcomp>\u001b[1;34m(.0)\u001b[0m\n\u001b[0;32m     49\u001b[0m         data \u001b[38;5;241m=\u001b[39m \u001b[38;5;28mself\u001b[39m\u001b[38;5;241m.\u001b[39mdataset\u001b[38;5;241m.\u001b[39m__getitems__(possibly_batched_index)\n\u001b[0;32m     50\u001b[0m     \u001b[38;5;28;01melse\u001b[39;00m:\n\u001b[1;32m---> 51\u001b[0m         data \u001b[38;5;241m=\u001b[39m [\u001b[38;5;28;43mself\u001b[39;49m\u001b[38;5;241;43m.\u001b[39;49m\u001b[43mdataset\u001b[49m\u001b[43m[\u001b[49m\u001b[43midx\u001b[49m\u001b[43m]\u001b[49m \u001b[38;5;28;01mfor\u001b[39;00m idx \u001b[38;5;129;01min\u001b[39;00m possibly_batched_index]\n\u001b[0;32m     52\u001b[0m \u001b[38;5;28;01melse\u001b[39;00m:\n\u001b[0;32m     53\u001b[0m     data \u001b[38;5;241m=\u001b[39m \u001b[38;5;28mself\u001b[39m\u001b[38;5;241m.\u001b[39mdataset[possibly_batched_index]\n",
      "File \u001b[1;32mc:\\Users\\Leon\\visual-studio\\repos\\Le-o-n\\ocr-model-training\\src\\cnn\\dataset\\character_dataset.py:91\u001b[0m, in \u001b[0;36mCharImageDataset.__getitem__\u001b[1;34m(self, index)\u001b[0m\n\u001b[0;32m     88\u001b[0m image \u001b[38;5;241m=\u001b[39m reduce(image, \u001b[38;5;124m\"\u001b[39m\u001b[38;5;124mc h w -> 1 h w\u001b[39m\u001b[38;5;124m\"\u001b[39m, \u001b[38;5;124m\"\u001b[39m\u001b[38;5;124mmax\u001b[39m\u001b[38;5;124m\"\u001b[39m)\n\u001b[0;32m     90\u001b[0m \u001b[38;5;66;03m# Apply random transformations\u001b[39;00m\n\u001b[1;32m---> 91\u001b[0m image \u001b[38;5;241m=\u001b[39m \u001b[38;5;28;43mself\u001b[39;49m\u001b[38;5;241;43m.\u001b[39;49m\u001b[43m_apply_random_transformations\u001b[49m\u001b[43m(\u001b[49m\n\u001b[0;32m     92\u001b[0m \u001b[43m    \u001b[49m\u001b[43mimage\u001b[49m\n\u001b[0;32m     93\u001b[0m \u001b[43m\u001b[49m\u001b[43m)\u001b[49m\n\u001b[0;32m     95\u001b[0m \u001b[38;5;66;03m# One-hot encode the label\u001b[39;00m\n\u001b[0;32m     96\u001b[0m one_hot_label \u001b[38;5;241m=\u001b[39m torch\u001b[38;5;241m.\u001b[39mzeros(\n\u001b[0;32m     97\u001b[0m     \u001b[38;5;28mlen\u001b[39m(\u001b[38;5;28mself\u001b[39m\u001b[38;5;241m.\u001b[39mlabels_set),\n\u001b[0;32m     98\u001b[0m     dtype\u001b[38;5;241m=\u001b[39mtorch\u001b[38;5;241m.\u001b[39mfloat32\n\u001b[0;32m     99\u001b[0m )\n",
      "File \u001b[1;32mc:\\Users\\Leon\\visual-studio\\repos\\Le-o-n\\ocr-model-training\\src\\cnn\\dataset\\character_dataset.py:149\u001b[0m, in \u001b[0;36mCharImageDataset._apply_random_transformations\u001b[1;34m(self, image)\u001b[0m\n\u001b[0;32m    141\u001b[0m shear_x \u001b[38;5;241m=\u001b[39m \u001b[38;5;28mself\u001b[39m\u001b[38;5;241m.\u001b[39mrandom\u001b[38;5;241m.\u001b[39muniform(\n\u001b[0;32m    142\u001b[0m     \u001b[38;5;241m-\u001b[39m\u001b[38;5;28mself\u001b[39m\u001b[38;5;241m.\u001b[39mskew_limit\u001b[38;5;241m*\u001b[39mimage\u001b[38;5;241m.\u001b[39mshape[\u001b[38;5;241m2\u001b[39m],\n\u001b[0;32m    143\u001b[0m     \u001b[38;5;28mself\u001b[39m\u001b[38;5;241m.\u001b[39mskew_limit\u001b[38;5;241m*\u001b[39mimage\u001b[38;5;241m.\u001b[39mshape[\u001b[38;5;241m2\u001b[39m]\n\u001b[0;32m    144\u001b[0m )\n\u001b[0;32m    145\u001b[0m shear_y \u001b[38;5;241m=\u001b[39m \u001b[38;5;28mself\u001b[39m\u001b[38;5;241m.\u001b[39mrandom\u001b[38;5;241m.\u001b[39muniform(\n\u001b[0;32m    146\u001b[0m     \u001b[38;5;241m-\u001b[39m\u001b[38;5;28mself\u001b[39m\u001b[38;5;241m.\u001b[39mskew_limit\u001b[38;5;241m*\u001b[39mimage\u001b[38;5;241m.\u001b[39mshape[\u001b[38;5;241m1\u001b[39m],\n\u001b[0;32m    147\u001b[0m     \u001b[38;5;28mself\u001b[39m\u001b[38;5;241m.\u001b[39mskew_limit\u001b[38;5;241m*\u001b[39mimage\u001b[38;5;241m.\u001b[39mshape[\u001b[38;5;241m1\u001b[39m]\n\u001b[0;32m    148\u001b[0m )\n\u001b[1;32m--> 149\u001b[0m image \u001b[38;5;241m=\u001b[39m \u001b[43mF\u001b[49m\u001b[38;5;241;43m.\u001b[39;49m\u001b[43maffine\u001b[49m\u001b[43m(\u001b[49m\n\u001b[0;32m    150\u001b[0m \u001b[43m    \u001b[49m\u001b[43mimage\u001b[49m\u001b[43m,\u001b[49m\n\u001b[0;32m    151\u001b[0m \u001b[43m    \u001b[49m\u001b[43mangle\u001b[49m\u001b[38;5;241;43m=\u001b[39;49m\u001b[38;5;241;43m0\u001b[39;49m\u001b[43m,\u001b[49m\n\u001b[0;32m    152\u001b[0m \u001b[43m    \u001b[49m\u001b[43mtranslate\u001b[49m\u001b[38;5;241;43m=\u001b[39;49m\u001b[43m(\u001b[49m\u001b[38;5;241;43m0\u001b[39;49m\u001b[43m,\u001b[49m\u001b[43m \u001b[49m\u001b[38;5;241;43m0\u001b[39;49m\u001b[43m)\u001b[49m\u001b[43m,\u001b[49m\n\u001b[0;32m    153\u001b[0m \u001b[43m    \u001b[49m\u001b[43mscale\u001b[49m\u001b[38;5;241;43m=\u001b[39;49m\u001b[38;5;241;43m1.0\u001b[39;49m\u001b[43m,\u001b[49m\n\u001b[0;32m    154\u001b[0m \u001b[43m    \u001b[49m\u001b[43mshear\u001b[49m\u001b[38;5;241;43m=\u001b[39;49m\u001b[43m(\u001b[49m\u001b[43mshear_x\u001b[49m\u001b[43m,\u001b[49m\u001b[43m \u001b[49m\u001b[43mshear_y\u001b[49m\u001b[43m)\u001b[49m\n\u001b[0;32m    155\u001b[0m \u001b[43m\u001b[49m\u001b[43m)\u001b[49m\n\u001b[0;32m    157\u001b[0m image_shape: \u001b[38;5;28mtuple\u001b[39m[\u001b[38;5;28mint\u001b[39m, \u001b[38;5;241m.\u001b[39m\u001b[38;5;241m.\u001b[39m\u001b[38;5;241m.\u001b[39m] \u001b[38;5;241m=\u001b[39m image\u001b[38;5;241m.\u001b[39mshape\n\u001b[0;32m    158\u001b[0m zoom_scale \u001b[38;5;241m=\u001b[39m \u001b[38;5;28mself\u001b[39m\u001b[38;5;241m.\u001b[39mrandom\u001b[38;5;241m.\u001b[39muniform(\n\u001b[0;32m    159\u001b[0m     \u001b[38;5;241m1.0\u001b[39m\u001b[38;5;241m-\u001b[39m\u001b[38;5;28mself\u001b[39m\u001b[38;5;241m.\u001b[39mzoom_change,\n\u001b[0;32m    160\u001b[0m     \u001b[38;5;241m1.0\u001b[39m\u001b[38;5;241m+\u001b[39m\u001b[38;5;28mself\u001b[39m\u001b[38;5;241m.\u001b[39mzoom_change\n\u001b[0;32m    161\u001b[0m )\n",
      "File \u001b[1;32mc:\\Users\\Leon\\AppData\\Local\\Programs\\Python\\Python310\\lib\\site-packages\\torchvision\\transforms\\functional.py:1246\u001b[0m, in \u001b[0;36maffine\u001b[1;34m(img, angle, translate, scale, shear, interpolation, fill, center)\u001b[0m\n\u001b[0;32m   1244\u001b[0m translate_f \u001b[38;5;241m=\u001b[39m [\u001b[38;5;241m1.0\u001b[39m \u001b[38;5;241m*\u001b[39m t \u001b[38;5;28;01mfor\u001b[39;00m t \u001b[38;5;129;01min\u001b[39;00m translate]\n\u001b[0;32m   1245\u001b[0m matrix \u001b[38;5;241m=\u001b[39m _get_inverse_affine_matrix(center_f, angle, translate_f, scale, shear)\n\u001b[1;32m-> 1246\u001b[0m \u001b[38;5;28;01mreturn\u001b[39;00m \u001b[43mF_t\u001b[49m\u001b[38;5;241;43m.\u001b[39;49m\u001b[43maffine\u001b[49m\u001b[43m(\u001b[49m\u001b[43mimg\u001b[49m\u001b[43m,\u001b[49m\u001b[43m \u001b[49m\u001b[43mmatrix\u001b[49m\u001b[38;5;241;43m=\u001b[39;49m\u001b[43mmatrix\u001b[49m\u001b[43m,\u001b[49m\u001b[43m \u001b[49m\u001b[43minterpolation\u001b[49m\u001b[38;5;241;43m=\u001b[39;49m\u001b[43minterpolation\u001b[49m\u001b[38;5;241;43m.\u001b[39;49m\u001b[43mvalue\u001b[49m\u001b[43m,\u001b[49m\u001b[43m \u001b[49m\u001b[43mfill\u001b[49m\u001b[38;5;241;43m=\u001b[39;49m\u001b[43mfill\u001b[49m\u001b[43m)\u001b[49m\n",
      "File \u001b[1;32mc:\\Users\\Leon\\AppData\\Local\\Programs\\Python\\Python310\\lib\\site-packages\\torchvision\\transforms\\_functional_tensor.py:618\u001b[0m, in \u001b[0;36maffine\u001b[1;34m(img, matrix, interpolation, fill)\u001b[0m\n\u001b[0;32m    616\u001b[0m \u001b[38;5;66;03m# grid will be generated on the same device as theta and img\u001b[39;00m\n\u001b[0;32m    617\u001b[0m grid \u001b[38;5;241m=\u001b[39m _gen_affine_grid(theta, w\u001b[38;5;241m=\u001b[39mshape[\u001b[38;5;241m-\u001b[39m\u001b[38;5;241m1\u001b[39m], h\u001b[38;5;241m=\u001b[39mshape[\u001b[38;5;241m-\u001b[39m\u001b[38;5;241m2\u001b[39m], ow\u001b[38;5;241m=\u001b[39mshape[\u001b[38;5;241m-\u001b[39m\u001b[38;5;241m1\u001b[39m], oh\u001b[38;5;241m=\u001b[39mshape[\u001b[38;5;241m-\u001b[39m\u001b[38;5;241m2\u001b[39m])\n\u001b[1;32m--> 618\u001b[0m \u001b[38;5;28;01mreturn\u001b[39;00m \u001b[43m_apply_grid_transform\u001b[49m\u001b[43m(\u001b[49m\u001b[43mimg\u001b[49m\u001b[43m,\u001b[49m\u001b[43m \u001b[49m\u001b[43mgrid\u001b[49m\u001b[43m,\u001b[49m\u001b[43m \u001b[49m\u001b[43minterpolation\u001b[49m\u001b[43m,\u001b[49m\u001b[43m \u001b[49m\u001b[43mfill\u001b[49m\u001b[38;5;241;43m=\u001b[39;49m\u001b[43mfill\u001b[49m\u001b[43m)\u001b[49m\n",
      "File \u001b[1;32mc:\\Users\\Leon\\AppData\\Local\\Programs\\Python\\Python310\\lib\\site-packages\\torchvision\\transforms\\_functional_tensor.py:560\u001b[0m, in \u001b[0;36m_apply_grid_transform\u001b[1;34m(img, grid, mode, fill)\u001b[0m\n\u001b[0;32m    557\u001b[0m     mask \u001b[38;5;241m=\u001b[39m torch\u001b[38;5;241m.\u001b[39mones((img\u001b[38;5;241m.\u001b[39mshape[\u001b[38;5;241m0\u001b[39m], \u001b[38;5;241m1\u001b[39m, img\u001b[38;5;241m.\u001b[39mshape[\u001b[38;5;241m2\u001b[39m], img\u001b[38;5;241m.\u001b[39mshape[\u001b[38;5;241m3\u001b[39m]), dtype\u001b[38;5;241m=\u001b[39mimg\u001b[38;5;241m.\u001b[39mdtype, device\u001b[38;5;241m=\u001b[39mimg\u001b[38;5;241m.\u001b[39mdevice)\n\u001b[0;32m    558\u001b[0m     img \u001b[38;5;241m=\u001b[39m torch\u001b[38;5;241m.\u001b[39mcat((img, mask), dim\u001b[38;5;241m=\u001b[39m\u001b[38;5;241m1\u001b[39m)\n\u001b[1;32m--> 560\u001b[0m img \u001b[38;5;241m=\u001b[39m \u001b[43mgrid_sample\u001b[49m\u001b[43m(\u001b[49m\u001b[43mimg\u001b[49m\u001b[43m,\u001b[49m\u001b[43m \u001b[49m\u001b[43mgrid\u001b[49m\u001b[43m,\u001b[49m\u001b[43m \u001b[49m\u001b[43mmode\u001b[49m\u001b[38;5;241;43m=\u001b[39;49m\u001b[43mmode\u001b[49m\u001b[43m,\u001b[49m\u001b[43m \u001b[49m\u001b[43mpadding_mode\u001b[49m\u001b[38;5;241;43m=\u001b[39;49m\u001b[38;5;124;43m\"\u001b[39;49m\u001b[38;5;124;43mzeros\u001b[39;49m\u001b[38;5;124;43m\"\u001b[39;49m\u001b[43m,\u001b[49m\u001b[43m \u001b[49m\u001b[43malign_corners\u001b[49m\u001b[38;5;241;43m=\u001b[39;49m\u001b[38;5;28;43;01mFalse\u001b[39;49;00m\u001b[43m)\u001b[49m\n\u001b[0;32m    562\u001b[0m \u001b[38;5;66;03m# Fill with required color\u001b[39;00m\n\u001b[0;32m    563\u001b[0m \u001b[38;5;28;01mif\u001b[39;00m fill \u001b[38;5;129;01mis\u001b[39;00m \u001b[38;5;129;01mnot\u001b[39;00m \u001b[38;5;28;01mNone\u001b[39;00m:\n",
      "File \u001b[1;32mc:\\Users\\Leon\\AppData\\Local\\Programs\\Python\\Python310\\lib\\site-packages\\torch\\nn\\functional.py:4304\u001b[0m, in \u001b[0;36mgrid_sample\u001b[1;34m(input, grid, mode, padding_mode, align_corners)\u001b[0m\n\u001b[0;32m   4296\u001b[0m     warnings\u001b[38;5;241m.\u001b[39mwarn(\n\u001b[0;32m   4297\u001b[0m         \u001b[38;5;124m\"\u001b[39m\u001b[38;5;124mDefault grid_sample and affine_grid behavior has changed \u001b[39m\u001b[38;5;124m\"\u001b[39m\n\u001b[0;32m   4298\u001b[0m         \u001b[38;5;124m\"\u001b[39m\u001b[38;5;124mto align_corners=False since 1.3.0. Please specify \u001b[39m\u001b[38;5;124m\"\u001b[39m\n\u001b[0;32m   4299\u001b[0m         \u001b[38;5;124m\"\u001b[39m\u001b[38;5;124malign_corners=True if the old behavior is desired. \u001b[39m\u001b[38;5;124m\"\u001b[39m\n\u001b[0;32m   4300\u001b[0m         \u001b[38;5;124m\"\u001b[39m\u001b[38;5;124mSee the documentation of grid_sample for details.\u001b[39m\u001b[38;5;124m\"\u001b[39m\n\u001b[0;32m   4301\u001b[0m     )\n\u001b[0;32m   4302\u001b[0m     align_corners \u001b[38;5;241m=\u001b[39m \u001b[38;5;28;01mFalse\u001b[39;00m\n\u001b[1;32m-> 4304\u001b[0m \u001b[38;5;28;01mreturn\u001b[39;00m \u001b[43mtorch\u001b[49m\u001b[38;5;241;43m.\u001b[39;49m\u001b[43mgrid_sampler\u001b[49m\u001b[43m(\u001b[49m\u001b[38;5;28;43minput\u001b[39;49m\u001b[43m,\u001b[49m\u001b[43m \u001b[49m\u001b[43mgrid\u001b[49m\u001b[43m,\u001b[49m\u001b[43m \u001b[49m\u001b[43mmode_enum\u001b[49m\u001b[43m,\u001b[49m\u001b[43m \u001b[49m\u001b[43mpadding_mode_enum\u001b[49m\u001b[43m,\u001b[49m\u001b[43m \u001b[49m\u001b[43malign_corners\u001b[49m\u001b[43m)\u001b[49m\n",
      "\u001b[1;31mKeyboardInterrupt\u001b[0m: "
     ]
    }
   ],
   "source": [
    "\n",
    "for epoch in range(100):\n",
    "\n",
    "    log: EpochLogs\n",
    "    for log in grid_search(\n",
    "        model_factor=AllCNN2D,\n",
    "        all_model_parameters=all_model_parameters,\n",
    "        optim_factory=AdamW,\n",
    "        all_optim_params=all_optim_parameters,\n",
    "        epochs=100,\n",
    "        criterion=nn.CrossEntropyLoss(),\n",
    "        train_dataloader=train_dataloader,\n",
    "        val_dataloader=val_dataloader,\n",
    "        lr_decay_window_size=10,\n",
    "        lr_decay_minimum=0.0,\n",
    "        scheduler_scale=0.5,\n",
    "        device=\"cuda\"\n",
    "    ):\n",
    "        train_logpoints: list[LogPoint] = log.train_logs\n",
    "        val_logpoints: list[LogPoint] = log.val_logs\n",
    "        \n",
    "\n",
    "        train_count: int = 0\n",
    "        val_count: int = 0\n",
    "        \n",
    "        train_losses_tally: float = 0.0\n",
    "        val_losses_tally: float = 0.0\n",
    "        \n",
    "        train_correct_tally: int = 0\n",
    "        val_correct_tally: int = 0\n",
    "        \n",
    "        for log_point in train_logpoints: \n",
    "            \n",
    "            y_hat_pred: torch.Tensor = torch.argmax(\n",
    "                log_point.y_hat, \n",
    "                axis=-1\n",
    "            ).detach().cpu()\n",
    "            \n",
    "            y_pred: torch.Tensor = torch.argmax(\n",
    "                log_point.y, axis=-1\n",
    "            ).detach().cpu()\n",
    "\n",
    "            train_correct_tally += torch.sum(y_hat_pred==y_pred)\n",
    "            \n",
    "            train_losses_tally += torch.sum(log_point.loss)\n",
    "            \n",
    "            train_count += len(y_hat_pred)\n",
    "            \n",
    "        for log_point in val_logpoints: \n",
    "            \n",
    "            y_hat_pred: torch.Tensor = torch.argmax(\n",
    "                log_point.y_hat, \n",
    "                axis=-1\n",
    "            ).detach().cpu()\n",
    "            \n",
    "            y_pred: torch.Tensor = torch.argmax(\n",
    "                log_point.y, axis=-1\n",
    "            ).detach().cpu()\n",
    "\n",
    "            val_correct_tally += torch.sum(y_hat_pred==y_pred)\n",
    "            \n",
    "            val_losses_tally += torch.sum(log_point.loss)\n",
    "            \n",
    "            val_count += len(y_hat_pred)\n",
    "            \n",
    "        train_accuracy: float = train_correct_tally/train_count\n",
    "        val_accuracy: float = val_correct_tally/val_count\n",
    "        \n",
    "        train_loss: float = train_losses_tally/train_count\n",
    "        val_loss: float = val_losses_tally/val_count\n",
    "        \n",
    "        print(f\"Train Accuracy: {train_accuracy}\")\n",
    "        print(f\"Val Accuracy: {val_accuracy}\")\n",
    "        print(f\"Loss: {train_loss}\")\n",
    "        print(f\"Val Loss: {val_loss}\")\n",
    "        "
   ]
  }
 ],
 "metadata": {
  "kernelspec": {
   "display_name": "Python 3",
   "language": "python",
   "name": "python3"
  },
  "language_info": {
   "codemirror_mode": {
    "name": "ipython",
    "version": 3
   },
   "file_extension": ".py",
   "mimetype": "text/x-python",
   "name": "python",
   "nbconvert_exporter": "python",
   "pygments_lexer": "ipython3",
   "version": "3.10.0"
  }
 },
 "nbformat": 4,
 "nbformat_minor": 2
}
