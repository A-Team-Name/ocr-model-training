{
 "cells": [
  {
   "cell_type": "markdown",
   "metadata": {},
   "source": [
    "# Global Imports"
   ]
  },
  {
   "cell_type": "code",
   "execution_count": 106,
   "metadata": {},
   "outputs": [],
   "source": [
    "\n",
    "import torch\n",
    "import numpy as np\n",
    "import matplotlib.pyplot as plt\n",
    "import os\n",
    "from einops import rearrange\n",
    "from torch.utils.data import DataLoader\n",
    "from torch.optim import AdamW\n",
    "from torch import nn\n",
    "from typing import Any\n",
    "import glob\n",
    "import re\n",
    "from datetime import datetime\n",
    "import random\n",
    "\n",
    "random.seed(42)"
   ]
  },
  {
   "cell_type": "markdown",
   "metadata": {},
   "source": [
    "# Local Imports"
   ]
  },
  {
   "cell_type": "code",
   "execution_count": 107,
   "metadata": {},
   "outputs": [],
   "source": [
    "from training.train import EpochLogs, grid_search, LogPoint\n",
    "from dataset.character_dataset import CharImageDataset\n",
    "from models.allcnn2d import AllCNN2D"
   ]
  },
  {
   "cell_type": "markdown",
   "metadata": {},
   "source": [
    "# Globals"
   ]
  },
  {
   "cell_type": "code",
   "execution_count": 108,
   "metadata": {},
   "outputs": [],
   "source": [
    "DATASET_SPLIT: float = 0.8\n",
    "MODEL_NAME: str = \"Echo\""
   ]
  },
  {
   "cell_type": "markdown",
   "metadata": {},
   "source": [
    "# Define Paths\n",
    "Workspace"
   ]
  },
  {
   "cell_type": "code",
   "execution_count": 109,
   "metadata": {},
   "outputs": [],
   "source": [
    "notebook_dir: str = os.path.abspath(\".\")\n",
    "root_dir: str = os.path.join(\n",
    "    notebook_dir,\n",
    "    os.pardir,\n",
    "    os.pardir\n",
    ")\n",
    "\n",
    "data_dir: str = os.path.join(\n",
    "    root_dir,\n",
    "    \"data\",\n",
    "    \"lambda\"\n",
    ")\n",
    "\n",
    "model_save_dirpath: str = os.path.join(\n",
    "    root_dir,\n",
    "    \"models\",\n",
    "    \"allcnn\"\n",
    ")\n"
   ]
  },
  {
   "cell_type": "markdown",
   "metadata": {},
   "source": [
    "Image paths"
   ]
  },
  {
   "cell_type": "code",
   "execution_count": 110,
   "metadata": {},
   "outputs": [],
   "source": [
    "\n",
    "images_path_glob: str = os.path.join(\n",
    "    data_dir,\n",
    "    \"u*.png\"\n",
    ")\n",
    "images_path_regex: str = r\"(u[0-9a-fA-F]+)-([0-9]+)\\.png\"\n",
    "\n",
    "image_paths: list[str] = glob.glob(images_path_glob)\n",
    "random.shuffle(image_paths)\n"
   ]
  },
  {
   "cell_type": "markdown",
   "metadata": {},
   "source": [
    "# Helper Functions"
   ]
  },
  {
   "cell_type": "code",
   "execution_count": 111,
   "metadata": {},
   "outputs": [],
   "source": [
    "def get_current_time() -> str:\n",
    "    return datetime.now().strftime(\"%Y-%m-%d-%H-%M-%S\")\n"
   ]
  },
  {
   "cell_type": "markdown",
   "metadata": {},
   "source": [
    "# Logging Setup "
   ]
  },
  {
   "cell_type": "code",
   "execution_count": 112,
   "metadata": {},
   "outputs": [],
   "source": [
    "\n",
    "logging_path: str = f\"{MODEL_NAME}_log_{get_current_time()}.csv\"\n",
    "\n",
    "with open(logging_path, \"w\") as f:\n",
    "    f.write(\"TIME,EPOCH,TRAIN_ACC,VAL_ACC,TRAIN_LOSS,VAL_LOSS,LR\\n\")\n",
    "\n",
    "def log(\n",
    "    epoch: int,\n",
    "    train_acc: float, \n",
    "    train_loss: float, \n",
    "    val_acc: float, \n",
    "    val_loss, \n",
    "    lr: float\n",
    ")-> None:\n",
    "    with open(logging_path, \"a\") as f:\n",
    "        f.write(f\"{get_current_time()},{epoch},{train_acc},{val_acc},{train_loss},{val_loss},{lr}\\n\")"
   ]
  },
  {
   "cell_type": "markdown",
   "metadata": {},
   "source": [
    "# Extract Labels"
   ]
  },
  {
   "cell_type": "code",
   "execution_count": 113,
   "metadata": {},
   "outputs": [],
   "source": [
    "\n",
    "labeled_image_paths: list[tuple[str, str]] = []\n",
    "\n",
    "file_path: str\n",
    "for file_path in image_paths:\n",
    "    match = re.search(images_path_regex, file_path)\n",
    "    \n",
    "    if not match:\n",
    "        continue\n",
    "    \n",
    "    u_hexvalue: str = match.group(1)\n",
    "    labeled_image_paths.append((u_hexvalue, file_path))\n",
    "\n",
    "labels: list[str]\n",
    "image_paths: list[str]\n",
    "labels, image_paths =  list(zip(*labeled_image_paths))\n"
   ]
  },
  {
   "cell_type": "markdown",
   "metadata": {},
   "source": [
    "# Load Dataset"
   ]
  },
  {
   "cell_type": "code",
   "execution_count": 114,
   "metadata": {},
   "outputs": [],
   "source": [
    "\n",
    "split_index: int = int(len(image_paths)*DATASET_SPLIT)\n",
    "all_label_classes: list[str] = list(set(labels))\n",
    "\n",
    "train_char_dataset: CharImageDataset = CharImageDataset(\n",
    "    file_paths=image_paths[:split_index],\n",
    "    labels=labels[:split_index],\n",
    "    all_label_classes=all_label_classes,\n",
    "    rotation_limit=0.1,\n",
    "    translation_limit=0.2,\n",
    "    skew_limit=0.05,\n",
    "    zoom_change=0.35,\n",
    "    image_dims=(64, 64)\n",
    ")\n",
    "\n",
    "val_char_dataset: CharImageDataset = CharImageDataset(\n",
    "    file_paths=image_paths[split_index:],\n",
    "    labels=labels[split_index:],\n",
    "    all_label_classes=all_label_classes,\n",
    "    rotation_limit=0.0,\n",
    "    translation_limit=0.0,\n",
    "    skew_limit=0.00,\n",
    "    zoom_change=0.0,\n",
    "    image_dims=(64, 64)\n",
    ")\n",
    "\n",
    "\n"
   ]
  },
  {
   "cell_type": "code",
   "execution_count": 115,
   "metadata": {},
   "outputs": [
    {
     "data": {
      "image/png": "[encoded data removed]",
      "text/plain": [
       "<Figure size 640x480 with 1 Axes>"
      ]
     },
     "metadata": {},
     "output_type": "display_data"
    },
    {
     "name": "stdout",
     "output_type": "stream",
     "text": [
      "tensor([0., 0., 0., 0., 0., 1., 0.])\n"
     ]
    }
   ],
   "source": [
    "for im, lab in train_char_dataset:\n",
    "    plt.imshow(\n",
    "        rearrange(im, \"1 h w -> h w\")*255, \n",
    "        cmap=\"gray\"\n",
    "    )\n",
    "    plt.show()\n",
    "    print(lab)\n",
    "    break"
   ]
  },
  {
   "cell_type": "code",
   "execution_count": 116,
   "metadata": {},
   "outputs": [
    {
     "data": {
      "image/png": "[encoded data removed]",
      "text/plain": [
       "<Figure size 640x480 with 1 Axes>"
      ]
     },
     "metadata": {},
     "output_type": "display_data"
    },
    {
     "name": "stdout",
     "output_type": "stream",
     "text": [
      "tensor([0., 0., 1., 0., 0., 0., 0.])\n"
     ]
    }
   ],
   "source": [
    "for im, lab in val_char_dataset:\n",
    "    plt.imshow(rearrange(im, \"1 h w -> h w\")*255, cmap=\"gray\")\n",
    "    plt.show()\n",
    "    print(lab)\n",
    "    break"
   ]
  },
  {
   "cell_type": "markdown",
   "metadata": {},
   "source": [
    "# Load DataLoader"
   ]
  },
  {
   "cell_type": "code",
   "execution_count": 117,
   "metadata": {},
   "outputs": [],
   "source": [
    "train_dataloader: DataLoader = DataLoader(\n",
    "    train_char_dataset,\n",
    "    shuffle=True,\n",
    "    batch_size=16\n",
    ")\n",
    "\n",
    "val_dataloader: DataLoader = DataLoader(\n",
    "    val_char_dataset,\n",
    "    shuffle=False,\n",
    "    batch_size=16\n",
    ")"
   ]
  },
  {
   "cell_type": "markdown",
   "metadata": {},
   "source": [
    "# Define Model Hyperparameters"
   ]
  },
  {
   "cell_type": "code",
   "execution_count": 118,
   "metadata": {},
   "outputs": [],
   "source": [
    "\n",
    "model_checkpoint_path: str = os.path.join(\n",
    "    model_save_dirpath,\n",
    "    \"FoxTrot_epoch116_trainacc0.86029_valacc1.0_Tloss0.024372_Vloss0.0031614_lr0.001.pkl\"\n",
    ")\n",
    "\n",
    "all_model_parameters: list[dict[str, Any]] = [\n",
    "    {\n",
    "        \"conv_features\": (1, 16, 16, 16, 16, 16, 16, 32),\n",
    "        \"fully_connected_features\": (7,),\n",
    "        \"expected_input_size\": (64, 64),\n",
    "        \"device\": \"cuda\",\n",
    "        \"conv_dropout\": 0.05,\n",
    "        \"verbose\": True,\n",
    "        \"name_prefix\": MODEL_NAME,\n",
    "        \"checkpoint_path\": model_checkpoint_path\n",
    "    }\n",
    "]\n",
    "\n",
    "all_optim_parameters: list[dict[str, Any]] = [\n",
    "    {\n",
    "        \"lr\": 0.001,\n",
    "        \"weight_decay\": 0.0001\n",
    "    }\n",
    "]\n"
   ]
  },
  {
   "cell_type": "code",
   "execution_count": 119,
   "metadata": {},
   "outputs": [
    {
     "data": {
      "text/plain": [
       "5"
      ]
     },
     "execution_count": 119,
     "metadata": {},
     "output_type": "execute_result"
    }
   ],
   "source": [
    "len(val_dataloader)"
   ]
  },
  {
   "cell_type": "markdown",
   "metadata": {},
   "source": [
    "# Train"
   ]
  },
  {
   "cell_type": "code",
   "execution_count": null,
   "metadata": {},
   "outputs": [
    {
     "name": "stdout",
     "output_type": "stream",
     "text": [
      "Loaded: encoder_conv_blocks.0.0.weight\n",
      "Loaded: encoder_conv_blocks.0.0.bias\n",
      "Loaded: encoder_conv_blocks.0.2.weight\n",
      "Loaded: encoder_conv_blocks.0.2.bias\n",
      "Loaded: encoder_conv_blocks.0.2.running_mean\n",
      "Loaded: encoder_conv_blocks.0.2.running_var\n",
      "Loaded: encoder_conv_blocks.0.2.num_batches_tracked\n",
      "Loaded: encoder_conv_blocks.0.4.weight\n",
      "Loaded: encoder_conv_blocks.0.4.bias\n",
      "Loaded: encoder_conv_blocks.0.6.weight\n",
      "Loaded: encoder_conv_blocks.0.6.bias\n",
      "Loaded: encoder_conv_blocks.0.6.running_mean\n",
      "Loaded: encoder_conv_blocks.0.6.running_var\n",
      "Loaded: encoder_conv_blocks.0.6.num_batches_tracked\n",
      "Loaded: encoder_conv_blocks.1.0.weight\n",
      "Loaded: encoder_conv_blocks.1.0.bias\n",
      "Loaded: encoder_conv_blocks.1.2.weight\n",
      "Loaded: encoder_conv_blocks.1.2.bias\n",
      "Loaded: encoder_conv_blocks.1.2.running_mean\n",
      "Loaded: encoder_conv_blocks.1.2.running_var\n",
      "Loaded: encoder_conv_blocks.1.2.num_batches_tracked\n",
      "Loaded: encoder_conv_blocks.1.4.weight\n",
      "Loaded: encoder_conv_blocks.1.4.bias\n",
      "Loaded: encoder_conv_blocks.1.6.weight\n",
      "Loaded: encoder_conv_blocks.1.6.bias\n",
      "Loaded: encoder_conv_blocks.1.6.running_mean\n",
      "Loaded: encoder_conv_blocks.1.6.running_var\n",
      "Loaded: encoder_conv_blocks.1.6.num_batches_tracked\n",
      "Loaded: encoder_conv_blocks.2.0.weight\n",
      "Loaded: encoder_conv_blocks.2.0.bias\n",
      "Loaded: encoder_conv_blocks.2.2.weight\n",
      "Loaded: encoder_conv_blocks.2.2.bias\n",
      "Loaded: encoder_conv_blocks.2.2.running_mean\n",
      "Loaded: encoder_conv_blocks.2.2.running_var\n",
      "Loaded: encoder_conv_blocks.2.2.num_batches_tracked\n",
      "Loaded: encoder_conv_blocks.2.4.weight\n",
      "Loaded: encoder_conv_blocks.2.4.bias\n",
      "Loaded: encoder_conv_blocks.2.6.weight\n",
      "Loaded: encoder_conv_blocks.2.6.bias\n",
      "Loaded: encoder_conv_blocks.2.6.running_mean\n",
      "Loaded: encoder_conv_blocks.2.6.running_var\n",
      "Loaded: encoder_conv_blocks.2.6.num_batches_tracked\n",
      "Loaded: encoder_conv_blocks.3.0.weight\n",
      "Loaded: encoder_conv_blocks.3.0.bias\n",
      "Loaded: encoder_conv_blocks.3.2.weight\n",
      "Loaded: encoder_conv_blocks.3.2.bias\n",
      "Loaded: encoder_conv_blocks.3.2.running_mean\n",
      "Loaded: encoder_conv_blocks.3.2.running_var\n",
      "Loaded: encoder_conv_blocks.3.2.num_batches_tracked\n",
      "Loaded: encoder_conv_blocks.3.4.weight\n",
      "Loaded: encoder_conv_blocks.3.4.bias\n",
      "Loaded: encoder_conv_blocks.3.6.weight\n",
      "Loaded: encoder_conv_blocks.3.6.bias\n",
      "Loaded: encoder_conv_blocks.3.6.running_mean\n",
      "Loaded: encoder_conv_blocks.3.6.running_var\n",
      "Loaded: encoder_conv_blocks.3.6.num_batches_tracked\n",
      "Loaded: encoder_conv_blocks.4.0.weight\n",
      "Loaded: encoder_conv_blocks.4.0.bias\n",
      "Loaded: encoder_conv_blocks.4.2.weight\n",
      "Loaded: encoder_conv_blocks.4.2.bias\n",
      "Loaded: encoder_conv_blocks.4.2.running_mean\n",
      "Loaded: encoder_conv_blocks.4.2.running_var\n",
      "Loaded: encoder_conv_blocks.4.2.num_batches_tracked\n",
      "Loaded: encoder_conv_blocks.4.4.weight\n",
      "Loaded: encoder_conv_blocks.4.4.bias\n",
      "Loaded: encoder_conv_blocks.4.6.weight\n",
      "Loaded: encoder_conv_blocks.4.6.bias\n",
      "Loaded: encoder_conv_blocks.4.6.running_mean\n",
      "Loaded: encoder_conv_blocks.4.6.running_var\n",
      "Loaded: encoder_conv_blocks.4.6.num_batches_tracked\n",
      "Loaded: encoder_conv_blocks.5.0.weight\n",
      "Loaded: encoder_conv_blocks.5.0.bias\n",
      "Loaded: encoder_conv_blocks.5.2.weight\n",
      "Loaded: encoder_conv_blocks.5.2.bias\n",
      "Loaded: encoder_conv_blocks.5.2.running_mean\n",
      "Loaded: encoder_conv_blocks.5.2.running_var\n",
      "Loaded: encoder_conv_blocks.5.2.num_batches_tracked\n",
      "Loaded: encoder_conv_blocks.5.4.weight\n",
      "Loaded: encoder_conv_blocks.5.4.bias\n",
      "Loaded: encoder_conv_blocks.5.6.weight\n",
      "Loaded: encoder_conv_blocks.5.6.bias\n",
      "Loaded: encoder_conv_blocks.5.6.running_mean\n",
      "Loaded: encoder_conv_blocks.5.6.running_var\n",
      "Loaded: encoder_conv_blocks.5.6.num_batches_tracked\n",
      "Loaded: encoder_conv_blocks.6.0.weight\n",
      "Loaded: encoder_conv_blocks.6.0.bias\n",
      "Loaded: encoder_conv_blocks.6.2.weight\n",
      "Loaded: encoder_conv_blocks.6.2.bias\n",
      "Loaded: encoder_conv_blocks.6.2.running_mean\n",
      "Loaded: encoder_conv_blocks.6.2.running_var\n",
      "Loaded: encoder_conv_blocks.6.2.num_batches_tracked\n",
      "Loaded: encoder_conv_blocks.6.4.weight\n",
      "Loaded: encoder_conv_blocks.6.4.bias\n",
      "Loaded: encoder_conv_blocks.6.6.weight\n",
      "Loaded: encoder_conv_blocks.6.6.bias\n",
      "Loaded: encoder_conv_blocks.6.6.running_mean\n",
      "Loaded: encoder_conv_blocks.6.6.running_var\n",
      "Loaded: encoder_conv_blocks.6.6.num_batches_tracked\n",
      "Loaded: fully_connected_blocks.0.0.weight\n",
      "Loaded: fully_connected_blocks.0.0.bias\n",
      "==========================================================================================\n",
      "Layer (type:depth-idx)                   Output Shape              Param #\n",
      "==========================================================================================\n",
      "AllCNN2D                                 [1, 7]                    --\n",
      "├─ModuleList: 1-1                        --                        --\n",
      "│    └─Sequential: 2-1                   [1, 16, 32, 32]           --\n",
      "│    │    └─Conv2d: 3-1                  [1, 16, 64, 64]           160\n",
      "│    │    └─Dropout2d: 3-2               [1, 16, 64, 64]           --\n",
      "│    │    └─BatchNorm2d: 3-3             [1, 16, 64, 64]           32\n",
      "│    │    └─LeakyReLU: 3-4               [1, 16, 64, 64]           --\n",
      "│    │    └─Conv2d: 3-5                  [1, 16, 32, 32]           2,320\n",
      "│    │    └─Dropout2d: 3-6               [1, 16, 32, 32]           --\n",
      "│    │    └─BatchNorm2d: 3-7             [1, 16, 32, 32]           32\n",
      "│    │    └─LeakyReLU: 3-8               [1, 16, 32, 32]           --\n",
      "│    └─Sequential: 2-2                   [1, 16, 16, 16]           --\n",
      "│    │    └─Conv2d: 3-9                  [1, 16, 32, 32]           2,320\n",
      "│    │    └─Dropout2d: 3-10              [1, 16, 32, 32]           --\n",
      "│    │    └─BatchNorm2d: 3-11            [1, 16, 32, 32]           32\n",
      "│    │    └─LeakyReLU: 3-12              [1, 16, 32, 32]           --\n",
      "│    │    └─Conv2d: 3-13                 [1, 16, 16, 16]           2,320\n",
      "│    │    └─Dropout2d: 3-14              [1, 16, 16, 16]           --\n",
      "│    │    └─BatchNorm2d: 3-15            [1, 16, 16, 16]           32\n",
      "│    │    └─LeakyReLU: 3-16              [1, 16, 16, 16]           --\n",
      "│    └─Sequential: 2-3                   [1, 16, 8, 8]             --\n",
      "│    │    └─Conv2d: 3-17                 [1, 16, 16, 16]           2,320\n",
      "│    │    └─Dropout2d: 3-18              [1, 16, 16, 16]           --\n",
      "│    │    └─BatchNorm2d: 3-19            [1, 16, 16, 16]           32\n",
      "│    │    └─LeakyReLU: 3-20              [1, 16, 16, 16]           --\n",
      "│    │    └─Conv2d: 3-21                 [1, 16, 8, 8]             2,320\n",
      "│    │    └─Dropout2d: 3-22              [1, 16, 8, 8]             --\n",
      "│    │    └─BatchNorm2d: 3-23            [1, 16, 8, 8]             32\n",
      "│    │    └─LeakyReLU: 3-24              [1, 16, 8, 8]             --\n",
      "│    └─Sequential: 2-4                   [1, 16, 4, 4]             --\n",
      "│    │    └─Conv2d: 3-25                 [1, 16, 8, 8]             2,320\n",
      "│    │    └─Dropout2d: 3-26              [1, 16, 8, 8]             --\n",
      "│    │    └─BatchNorm2d: 3-27            [1, 16, 8, 8]             32\n",
      "│    │    └─LeakyReLU: 3-28              [1, 16, 8, 8]             --\n",
      "│    │    └─Conv2d: 3-29                 [1, 16, 4, 4]             2,320\n",
      "│    │    └─Dropout2d: 3-30              [1, 16, 4, 4]             --\n",
      "│    │    └─BatchNorm2d: 3-31            [1, 16, 4, 4]             32\n",
      "│    │    └─LeakyReLU: 3-32              [1, 16, 4, 4]             --\n",
      "│    └─Sequential: 2-5                   [1, 16, 2, 2]             --\n",
      "│    │    └─Conv2d: 3-33                 [1, 16, 4, 4]             2,320\n",
      "│    │    └─Dropout2d: 3-34              [1, 16, 4, 4]             --\n",
      "│    │    └─BatchNorm2d: 3-35            [1, 16, 4, 4]             32\n",
      "│    │    └─LeakyReLU: 3-36              [1, 16, 4, 4]             --\n",
      "│    │    └─Conv2d: 3-37                 [1, 16, 2, 2]             2,320\n",
      "│    │    └─Dropout2d: 3-38              [1, 16, 2, 2]             --\n",
      "│    │    └─BatchNorm2d: 3-39            [1, 16, 2, 2]             32\n",
      "│    │    └─LeakyReLU: 3-40              [1, 16, 2, 2]             --\n",
      "│    └─Sequential: 2-6                   [1, 16, 1, 1]             --\n",
      "│    │    └─Conv2d: 3-41                 [1, 16, 2, 2]             2,320\n",
      "│    │    └─Dropout2d: 3-42              [1, 16, 2, 2]             --\n",
      "│    │    └─BatchNorm2d: 3-43            [1, 16, 2, 2]             32\n",
      "│    │    └─LeakyReLU: 3-44              [1, 16, 2, 2]             --\n",
      "│    │    └─Conv2d: 3-45                 [1, 16, 1, 1]             2,320\n",
      "│    │    └─Dropout2d: 3-46              [1, 16, 1, 1]             --\n",
      "│    │    └─BatchNorm2d: 3-47            [1, 16, 1, 1]             32\n",
      "│    │    └─LeakyReLU: 3-48              [1, 16, 1, 1]             --\n",
      "│    └─Sequential: 2-7                   [1, 32, 1, 1]             --\n",
      "│    │    └─Conv2d: 3-49                 [1, 32, 1, 1]             4,640\n",
      "│    │    └─Dropout2d: 3-50              [1, 32, 1, 1]             --\n",
      "│    │    └─BatchNorm2d: 3-51            [1, 32, 1, 1]             64\n",
      "│    │    └─LeakyReLU: 3-52              [1, 32, 1, 1]             --\n",
      "│    │    └─Conv2d: 3-53                 [1, 32, 1, 1]             9,248\n",
      "│    │    └─Dropout2d: 3-54              [1, 32, 1, 1]             --\n",
      "│    │    └─BatchNorm2d: 3-55            [1, 32, 1, 1]             64\n",
      "│    │    └─LeakyReLU: 3-56              [1, 32, 1, 1]             --\n",
      "├─Sequential: 1-2                        [1, 32]                   --\n",
      "│    └─Flatten: 2-8                      [1, 32]                   --\n",
      "├─ModuleList: 1-3                        --                        --\n",
      "│    └─Sequential: 2-9                   [1, 7]                    --\n",
      "│    │    └─Linear: 3-57                 [1, 7]                    231\n",
      "==========================================================================================\n",
      "Total params: 40,311\n",
      "Trainable params: 40,311\n",
      "Non-trainable params: 0\n",
      "Total mult-adds (M): 7.00\n",
      "==========================================================================================\n",
      "Input size (MB): 0.02\n",
      "Forward/backward pass size (MB): 1.75\n",
      "Params size (MB): 0.16\n",
      "Estimated Total Size (MB): 1.93\n",
      "==========================================================================================\n"
     ]
    },
    {
     "name": "stderr",
     "output_type": "stream",
     "text": [
      "Training model...: 100%|██████████| 17/17 [00:13<00:00,  1.28it/s]\n",
      "Validating Model...: 100%|██████████| 5/5 [00:03<00:00,  1.58it/s]\n"
     ]
    },
    {
     "name": "stdout",
     "output_type": "stream",
     "text": [
      "Train Accuracy      : 0.8639705777168274\n",
      "Val Accuracy        : 1.0\n",
      "Loss                : 0.024309678003191948\n",
      "Val Loss            : 0.0039182924665510654\n",
      "Learning Rate       : 0.001\n"
     ]
    },
    {
     "name": "stderr",
     "output_type": "stream",
     "text": [
      "Training model...: 100%|██████████| 17/17 [00:13<00:00,  1.25it/s]\n",
      "Validating Model...: 100%|██████████| 5/5 [00:03<00:00,  1.50it/s]\n"
     ]
    },
    {
     "name": "stdout",
     "output_type": "stream",
     "text": [
      "Train Accuracy      : 0.8235294222831726\n",
      "Val Accuracy        : 0.9855072498321533\n",
      "Loss                : 0.030422711744904518\n",
      "Val Loss            : 0.004863423760980368\n",
      "Learning Rate       : 0.001\n"
     ]
    },
    {
     "name": "stderr",
     "output_type": "stream",
     "text": [
      "Training model...: 100%|██████████| 17/17 [00:13<00:00,  1.30it/s]\n",
      "Validating Model...: 100%|██████████| 5/5 [00:03<00:00,  1.56it/s]\n"
     ]
    },
    {
     "name": "stdout",
     "output_type": "stream",
     "text": [
      "Train Accuracy      : 0.8639705777168274\n",
      "Val Accuracy        : 0.9855072498321533\n",
      "Loss                : 0.027395637705922127\n",
      "Val Loss            : 0.005951721221208572\n",
      "Learning Rate       : 0.001\n"
     ]
    },
    {
     "name": "stderr",
     "output_type": "stream",
     "text": [
      "Training model...: 100%|██████████| 17/17 [00:13<00:00,  1.28it/s]\n",
      "Validating Model...: 100%|██████████| 5/5 [00:03<00:00,  1.52it/s]\n"
     ]
    },
    {
     "name": "stdout",
     "output_type": "stream",
     "text": [
      "Train Accuracy      : 0.8639705777168274\n",
      "Val Accuracy        : 0.9420289993286133\n",
      "Loss                : 0.025167565792798996\n",
      "Val Loss            : 0.012202262878417969\n",
      "Learning Rate       : 0.001\n"
     ]
    },
    {
     "name": "stderr",
     "output_type": "stream",
     "text": [
      "Training model...: 100%|██████████| 17/17 [00:13<00:00,  1.25it/s]\n",
      "Validating Model...: 100%|██████████| 5/5 [00:03<00:00,  1.58it/s]\n"
     ]
    },
    {
     "name": "stdout",
     "output_type": "stream",
     "text": [
      "Train Accuracy      : 0.8529411554336548\n",
      "Val Accuracy        : 1.0\n",
      "Loss                : 0.02662508562207222\n",
      "Val Loss            : 0.0032008762937039137\n",
      "Learning Rate       : 0.001\n"
     ]
    },
    {
     "name": "stderr",
     "output_type": "stream",
     "text": [
      "Training model...: 100%|██████████| 17/17 [00:13<00:00,  1.31it/s]\n",
      "Validating Model...: 100%|██████████| 5/5 [00:03<00:00,  1.60it/s]\n"
     ]
    },
    {
     "name": "stdout",
     "output_type": "stream",
     "text": [
      "Train Accuracy      : 0.8235294222831726\n",
      "Val Accuracy        : 1.0\n",
      "Loss                : 0.030921459197998047\n",
      "Val Loss            : 0.004775445908308029\n",
      "Learning Rate       : 0.001\n"
     ]
    },
    {
     "name": "stderr",
     "output_type": "stream",
     "text": [
      "Training model...: 100%|██████████| 17/17 [00:13<00:00,  1.30it/s]\n",
      "Validating Model...: 100%|██████████| 5/5 [00:03<00:00,  1.63it/s]\n"
     ]
    },
    {
     "name": "stdout",
     "output_type": "stream",
     "text": [
      "Train Accuracy      : 0.841911792755127\n",
      "Val Accuracy        : 1.0\n",
      "Loss                : 0.0265335850417614\n",
      "Val Loss            : 0.0030622174963355064\n",
      "Learning Rate       : 0.001\n"
     ]
    },
    {
     "name": "stderr",
     "output_type": "stream",
     "text": [
      "Training model...: 100%|██████████| 17/17 [00:13<00:00,  1.24it/s]\n",
      "Validating Model...: 100%|██████████| 5/5 [00:03<00:00,  1.59it/s]\n"
     ]
    },
    {
     "name": "stdout",
     "output_type": "stream",
     "text": [
      "Train Accuracy      : 0.8529411554336548\n",
      "Val Accuracy        : 0.9855072498321533\n",
      "Loss                : 0.02580777369439602\n",
      "Val Loss            : 0.003818236058577895\n",
      "Learning Rate       : 0.001\n"
     ]
    },
    {
     "name": "stderr",
     "output_type": "stream",
     "text": [
      "Training model...: 100%|██████████| 17/17 [00:13<00:00,  1.27it/s]\n",
      "Validating Model...: 100%|██████████| 5/5 [00:03<00:00,  1.56it/s]\n"
     ]
    },
    {
     "name": "stdout",
     "output_type": "stream",
     "text": [
      "Train Accuracy      : 0.8676470518112183\n",
      "Val Accuracy        : 0.9855072498321533\n",
      "Loss                : 0.03224730119109154\n",
      "Val Loss            : 0.0051588197238743305\n",
      "Learning Rate       : 0.001\n"
     ]
    },
    {
     "name": "stderr",
     "output_type": "stream",
     "text": [
      "Training model...: 100%|██████████| 17/17 [00:13<00:00,  1.23it/s]\n",
      "Validating Model...: 100%|██████████| 5/5 [00:03<00:00,  1.57it/s]\n"
     ]
    },
    {
     "name": "stdout",
     "output_type": "stream",
     "text": [
      "Train Accuracy      : 0.8713235259056091\n",
      "Val Accuracy        : 0.9710144996643066\n",
      "Loss                : 0.024359147995710373\n",
      "Val Loss            : 0.009504958055913448\n",
      "Learning Rate       : 0.001\n"
     ]
    },
    {
     "name": "stderr",
     "output_type": "stream",
     "text": [
      "Training model...: 100%|██████████| 17/17 [00:13<00:00,  1.26it/s]\n",
      "Validating Model...: 100%|██████████| 5/5 [00:03<00:00,  1.64it/s]\n"
     ]
    },
    {
     "name": "stdout",
     "output_type": "stream",
     "text": [
      "Train Accuracy      : 0.8713235259056091\n",
      "Val Accuracy        : 0.95652174949646\n",
      "Loss                : 0.023076357319951057\n",
      "Val Loss            : 0.007353993598371744\n",
      "Learning Rate       : 0.001\n"
     ]
    },
    {
     "name": "stderr",
     "output_type": "stream",
     "text": [
      "Training model...: 100%|██████████| 17/17 [00:13<00:00,  1.30it/s]\n",
      "Validating Model...: 100%|██████████| 5/5 [00:03<00:00,  1.59it/s]\n"
     ]
    },
    {
     "name": "stdout",
     "output_type": "stream",
     "text": [
      "Train Accuracy      : 0.8308823704719543\n",
      "Val Accuracy        : 0.9710144996643066\n",
      "Loss                : 0.026608675718307495\n",
      "Val Loss            : 0.007179862353950739\n",
      "Learning Rate       : 0.001\n"
     ]
    },
    {
     "name": "stderr",
     "output_type": "stream",
     "text": [
      "Training model...: 100%|██████████| 17/17 [00:13<00:00,  1.28it/s]\n",
      "Validating Model...: 100%|██████████| 5/5 [00:03<00:00,  1.62it/s]\n"
     ]
    },
    {
     "name": "stdout",
     "output_type": "stream",
     "text": [
      "Train Accuracy      : 0.8602941036224365\n",
      "Val Accuracy        : 0.9710144996643066\n",
      "Loss                : 0.027741916477680206\n",
      "Val Loss            : 0.005433287005871534\n",
      "Learning Rate       : 0.001\n"
     ]
    },
    {
     "name": "stderr",
     "output_type": "stream",
     "text": [
      "Training model...: 100%|██████████| 17/17 [00:13<00:00,  1.27it/s]\n",
      "Validating Model...: 100%|██████████| 5/5 [00:03<00:00,  1.62it/s]\n"
     ]
    },
    {
     "name": "stdout",
     "output_type": "stream",
     "text": [
      "Train Accuracy      : 0.8897058963775635\n",
      "Val Accuracy        : 0.9855072498321533\n",
      "Loss                : 0.023587428033351898\n",
      "Val Loss            : 0.005557442083954811\n",
      "Learning Rate       : 0.001\n"
     ]
    },
    {
     "name": "stderr",
     "output_type": "stream",
     "text": [
      "Training model...: 100%|██████████| 17/17 [00:13<00:00,  1.27it/s]\n",
      "Validating Model...: 100%|██████████| 5/5 [00:03<00:00,  1.46it/s]\n"
     ]
    },
    {
     "name": "stdout",
     "output_type": "stream",
     "text": [
      "Train Accuracy      : 0.8786764740943909\n",
      "Val Accuracy        : 0.9855072498321533\n",
      "Loss                : 0.021866457536816597\n",
      "Val Loss            : 0.003580448217689991\n",
      "Learning Rate       : 0.001\n"
     ]
    },
    {
     "name": "stderr",
     "output_type": "stream",
     "text": [
      "Training model...: 100%|██████████| 17/17 [00:13<00:00,  1.27it/s]\n",
      "Validating Model...: 100%|██████████| 5/5 [00:03<00:00,  1.58it/s]\n"
     ]
    },
    {
     "name": "stdout",
     "output_type": "stream",
     "text": [
      "Train Accuracy      : 0.8897058963775635\n",
      "Val Accuracy        : 0.9855072498321533\n",
      "Loss                : 0.023794805631041527\n",
      "Val Loss            : 0.004272173158824444\n",
      "Learning Rate       : 0.001\n"
     ]
    },
    {
     "name": "stderr",
     "output_type": "stream",
     "text": [
      "Training model...: 100%|██████████| 17/17 [00:13<00:00,  1.30it/s]\n",
      "Validating Model...: 100%|██████████| 5/5 [00:03<00:00,  1.61it/s]\n"
     ]
    },
    {
     "name": "stdout",
     "output_type": "stream",
     "text": [
      "Train Accuracy      : 0.8823529481887817\n",
      "Val Accuracy        : 0.9855072498321533\n",
      "Loss                : 0.02252730168402195\n",
      "Val Loss            : 0.005083891563117504\n",
      "Learning Rate       : 0.001\n"
     ]
    },
    {
     "name": "stderr",
     "output_type": "stream",
     "text": [
      "Training model...: 100%|██████████| 17/17 [00:13<00:00,  1.25it/s]\n",
      "Validating Model...: 100%|██████████| 5/5 [00:03<00:00,  1.57it/s]\n"
     ]
    },
    {
     "name": "stdout",
     "output_type": "stream",
     "text": [
      "Train Accuracy      : 0.8786764740943909\n",
      "Val Accuracy        : 0.9855072498321533\n",
      "Loss                : 0.024192169308662415\n",
      "Val Loss            : 0.0033163055777549744\n",
      "Learning Rate       : 0.001\n"
     ]
    },
    {
     "name": "stderr",
     "output_type": "stream",
     "text": [
      "Training model...: 100%|██████████| 17/17 [00:13<00:00,  1.30it/s]\n",
      "Validating Model...: 100%|██████████| 5/5 [00:03<00:00,  1.58it/s]\n"
     ]
    },
    {
     "name": "stdout",
     "output_type": "stream",
     "text": [
      "Train Accuracy      : 0.8272058963775635\n",
      "Val Accuracy        : 0.9855072498321533\n",
      "Loss                : 0.03395865485072136\n",
      "Val Loss            : 0.003926959820091724\n",
      "Learning Rate       : 0.001\n"
     ]
    },
    {
     "name": "stderr",
     "output_type": "stream",
     "text": [
      "Training model...: 100%|██████████| 17/17 [00:13<00:00,  1.24it/s]\n",
      "Validating Model...: 100%|██████████| 5/5 [00:03<00:00,  1.56it/s]\n"
     ]
    },
    {
     "name": "stdout",
     "output_type": "stream",
     "text": [
      "Train Accuracy      : 0.8860294222831726\n",
      "Val Accuracy        : 0.9710144996643066\n",
      "Loss                : 0.020909028127789497\n",
      "Val Loss            : 0.004402485676109791\n",
      "Learning Rate       : 0.001\n"
     ]
    },
    {
     "name": "stderr",
     "output_type": "stream",
     "text": [
      "Training model...: 100%|██████████| 17/17 [00:13<00:00,  1.29it/s]\n",
      "Validating Model...: 100%|██████████| 5/5 [00:03<00:00,  1.64it/s]\n"
     ]
    },
    {
     "name": "stdout",
     "output_type": "stream",
     "text": [
      "Train Accuracy      : 0.8051470518112183\n",
      "Val Accuracy        : 0.9710144996643066\n",
      "Loss                : 0.034449368715286255\n",
      "Val Loss            : 0.005336701404303312\n",
      "Learning Rate       : 0.001\n"
     ]
    },
    {
     "name": "stderr",
     "output_type": "stream",
     "text": [
      "Training model...: 100%|██████████| 17/17 [00:12<00:00,  1.32it/s]\n",
      "Validating Model...: 100%|██████████| 5/5 [00:03<00:00,  1.64it/s]\n"
     ]
    },
    {
     "name": "stdout",
     "output_type": "stream",
     "text": [
      "Train Accuracy      : 0.8713235259056091\n",
      "Val Accuracy        : 0.9855072498321533\n",
      "Loss                : 0.027000052854418755\n",
      "Val Loss            : 0.005853280425071716\n",
      "Learning Rate       : 0.001\n"
     ]
    },
    {
     "name": "stderr",
     "output_type": "stream",
     "text": [
      "Training model...: 100%|██████████| 17/17 [00:13<00:00,  1.31it/s]\n",
      "Validating Model...: 100%|██████████| 5/5 [00:03<00:00,  1.64it/s]\n"
     ]
    },
    {
     "name": "stdout",
     "output_type": "stream",
     "text": [
      "Train Accuracy      : 0.8933823704719543\n",
      "Val Accuracy        : 0.9710144996643066\n",
      "Loss                : 0.02174117974936962\n",
      "Val Loss            : 0.004186367150396109\n",
      "Learning Rate       : 0.001\n"
     ]
    },
    {
     "name": "stderr",
     "output_type": "stream",
     "text": [
      "Training model...: 100%|██████████| 17/17 [00:13<00:00,  1.29it/s]\n",
      "Validating Model...: 100%|██████████| 5/5 [00:03<00:00,  1.62it/s]\n"
     ]
    },
    {
     "name": "stdout",
     "output_type": "stream",
     "text": [
      "Train Accuracy      : 0.8566176295280457\n",
      "Val Accuracy        : 0.9855072498321533\n",
      "Loss                : 0.025605442002415657\n",
      "Val Loss            : 0.002636711345985532\n",
      "Learning Rate       : 0.001\n"
     ]
    },
    {
     "name": "stderr",
     "output_type": "stream",
     "text": [
      "Training model...: 100%|██████████| 17/17 [00:13<00:00,  1.31it/s]\n",
      "Validating Model...: 100%|██████████| 5/5 [00:03<00:00,  1.64it/s]\n"
     ]
    },
    {
     "name": "stdout",
     "output_type": "stream",
     "text": [
      "Train Accuracy      : 0.841911792755127\n",
      "Val Accuracy        : 0.9855072498321533\n",
      "Loss                : 0.02792295627295971\n",
      "Val Loss            : 0.004072722513228655\n",
      "Learning Rate       : 0.001\n"
     ]
    },
    {
     "name": "stderr",
     "output_type": "stream",
     "text": [
      "Training model...: 100%|██████████| 17/17 [00:12<00:00,  1.31it/s]\n",
      "Validating Model...: 100%|██████████| 5/5 [00:03<00:00,  1.66it/s]\n"
     ]
    },
    {
     "name": "stdout",
     "output_type": "stream",
     "text": [
      "Train Accuracy      : 0.8676470518112183\n",
      "Val Accuracy        : 1.0\n",
      "Loss                : 0.025664255023002625\n",
      "Val Loss            : 0.005342300049960613\n",
      "Learning Rate       : 0.001\n"
     ]
    },
    {
     "name": "stderr",
     "output_type": "stream",
     "text": [
      "Training model...: 100%|██████████| 17/17 [00:13<00:00,  1.30it/s]\n",
      "Validating Model...: 100%|██████████| 5/5 [00:03<00:00,  1.63it/s]\n"
     ]
    },
    {
     "name": "stdout",
     "output_type": "stream",
     "text": [
      "Train Accuracy      : 0.8786764740943909\n",
      "Val Accuracy        : 1.0\n",
      "Loss                : 0.02069692313671112\n",
      "Val Loss            : 0.0021677569020539522\n",
      "Learning Rate       : 0.001\n"
     ]
    },
    {
     "name": "stderr",
     "output_type": "stream",
     "text": [
      "Training model...: 100%|██████████| 17/17 [00:13<00:00,  1.31it/s]\n",
      "Validating Model...: 100%|██████████| 5/5 [00:03<00:00,  1.63it/s]\n"
     ]
    },
    {
     "name": "stdout",
     "output_type": "stream",
     "text": [
      "Train Accuracy      : 0.875\n",
      "Val Accuracy        : 1.0\n",
      "Loss                : 0.022594206035137177\n",
      "Val Loss            : 0.004066803026944399\n",
      "Learning Rate       : 0.001\n"
     ]
    },
    {
     "name": "stderr",
     "output_type": "stream",
     "text": [
      "Training model...: 100%|██████████| 17/17 [00:12<00:00,  1.31it/s]\n",
      "Validating Model...: 100%|██████████| 5/5 [00:03<00:00,  1.65it/s]\n"
     ]
    },
    {
     "name": "stdout",
     "output_type": "stream",
     "text": [
      "Train Accuracy      : 0.8786764740943909\n",
      "Val Accuracy        : 0.9855072498321533\n",
      "Loss                : 0.02648918330669403\n",
      "Val Loss            : 0.0034647423308342695\n",
      "Learning Rate       : 0.001\n"
     ]
    },
    {
     "name": "stderr",
     "output_type": "stream",
     "text": [
      "Training model...: 100%|██████████| 17/17 [00:12<00:00,  1.32it/s]\n",
      "Validating Model...: 100%|██████████| 5/5 [00:03<00:00,  1.63it/s]\n"
     ]
    },
    {
     "name": "stdout",
     "output_type": "stream",
     "text": [
      "Train Accuracy      : 0.8860294222831726\n",
      "Val Accuracy        : 0.9855072498321533\n",
      "Loss                : 0.023318156599998474\n",
      "Val Loss            : 0.005098707042634487\n",
      "Learning Rate       : 0.001\n"
     ]
    },
    {
     "name": "stderr",
     "output_type": "stream",
     "text": [
      "Training model...: 100%|██████████| 17/17 [00:13<00:00,  1.30it/s]\n",
      "Validating Model...: 100%|██████████| 5/5 [00:03<00:00,  1.65it/s]\n"
     ]
    },
    {
     "name": "stdout",
     "output_type": "stream",
     "text": [
      "Train Accuracy      : 0.8713235259056091\n",
      "Val Accuracy        : 0.9855072498321533\n",
      "Loss                : 0.026795852929353714\n",
      "Val Loss            : 0.004861983470618725\n",
      "Learning Rate       : 0.001\n"
     ]
    },
    {
     "name": "stderr",
     "output_type": "stream",
     "text": [
      "Training model...: 100%|██████████| 17/17 [00:13<00:00,  1.30it/s]\n",
      "Validating Model...: 100%|██████████| 5/5 [00:03<00:00,  1.64it/s]\n"
     ]
    },
    {
     "name": "stdout",
     "output_type": "stream",
     "text": [
      "Train Accuracy      : 0.8566176295280457\n",
      "Val Accuracy        : 0.95652174949646\n",
      "Loss                : 0.025363868102431297\n",
      "Val Loss            : 0.004989000968635082\n",
      "Learning Rate       : 0.001\n"
     ]
    },
    {
     "name": "stderr",
     "output_type": "stream",
     "text": [
      "Training model...: 100%|██████████| 17/17 [00:12<00:00,  1.32it/s]\n",
      "Validating Model...: 100%|██████████| 5/5 [00:03<00:00,  1.63it/s]\n"
     ]
    },
    {
     "name": "stdout",
     "output_type": "stream",
     "text": [
      "Train Accuracy      : 0.8860294222831726\n",
      "Val Accuracy        : 1.0\n",
      "Loss                : 0.021553419530391693\n",
      "Val Loss            : 0.0022022428456693888\n",
      "Learning Rate       : 0.001\n"
     ]
    },
    {
     "name": "stderr",
     "output_type": "stream",
     "text": [
      "Training model...: 100%|██████████| 17/17 [00:12<00:00,  1.31it/s]\n",
      "Validating Model...: 100%|██████████| 5/5 [00:03<00:00,  1.63it/s]\n"
     ]
    },
    {
     "name": "stdout",
     "output_type": "stream",
     "text": [
      "Train Accuracy      : 0.8382353186607361\n",
      "Val Accuracy        : 1.0\n",
      "Loss                : 0.029162127524614334\n",
      "Val Loss            : 0.0018632614519447088\n",
      "Learning Rate       : 0.001\n"
     ]
    },
    {
     "name": "stderr",
     "output_type": "stream",
     "text": [
      "Training model...: 100%|██████████| 17/17 [00:13<00:00,  1.30it/s]\n",
      "Validating Model...: 100%|██████████| 5/5 [00:03<00:00,  1.60it/s]\n"
     ]
    },
    {
     "name": "stdout",
     "output_type": "stream",
     "text": [
      "Train Accuracy      : 0.9264705777168274\n",
      "Val Accuracy        : 1.0\n",
      "Loss                : 0.0184743981808424\n",
      "Val Loss            : 0.0017457576468586922\n",
      "Learning Rate       : 0.001\n"
     ]
    },
    {
     "name": "stderr",
     "output_type": "stream",
     "text": [
      "Training model...: 100%|██████████| 17/17 [00:13<00:00,  1.30it/s]\n",
      "Validating Model...: 100%|██████████| 5/5 [00:03<00:00,  1.64it/s]\n"
     ]
    },
    {
     "name": "stdout",
     "output_type": "stream",
     "text": [
      "Train Accuracy      : 0.8602941036224365\n",
      "Val Accuracy        : 1.0\n",
      "Loss                : 0.023516207933425903\n",
      "Val Loss            : 0.0023747547529637814\n",
      "Learning Rate       : 0.001\n"
     ]
    },
    {
     "name": "stderr",
     "output_type": "stream",
     "text": [
      "Training model...: 100%|██████████| 17/17 [00:12<00:00,  1.31it/s]\n",
      "Validating Model...: 100%|██████████| 5/5 [00:03<00:00,  1.64it/s]\n"
     ]
    },
    {
     "name": "stdout",
     "output_type": "stream",
     "text": [
      "Train Accuracy      : 0.9154411554336548\n",
      "Val Accuracy        : 1.0\n",
      "Loss                : 0.01573185995221138\n",
      "Val Loss            : 0.0021214119624346495\n",
      "Learning Rate       : 0.001\n"
     ]
    },
    {
     "name": "stderr",
     "output_type": "stream",
     "text": [
      "Training model...: 100%|██████████| 17/17 [00:13<00:00,  1.30it/s]\n",
      "Validating Model...: 100%|██████████| 5/5 [00:03<00:00,  1.64it/s]\n"
     ]
    },
    {
     "name": "stdout",
     "output_type": "stream",
     "text": [
      "Train Accuracy      : 0.8860294222831726\n",
      "Val Accuracy        : 1.0\n",
      "Loss                : 0.02482415735721588\n",
      "Val Loss            : 0.0023996965028345585\n",
      "Learning Rate       : 0.001\n"
     ]
    },
    {
     "name": "stderr",
     "output_type": "stream",
     "text": [
      "Training model...: 100%|██████████| 17/17 [00:12<00:00,  1.31it/s]\n",
      "Validating Model...: 100%|██████████| 5/5 [00:03<00:00,  1.64it/s]\n"
     ]
    },
    {
     "name": "stdout",
     "output_type": "stream",
     "text": [
      "Train Accuracy      : 0.8676470518112183\n",
      "Val Accuracy        : 0.9855072498321533\n",
      "Loss                : 0.025602564215660095\n",
      "Val Loss            : 0.00294425874017179\n",
      "Learning Rate       : 0.001\n"
     ]
    },
    {
     "name": "stderr",
     "output_type": "stream",
     "text": [
      "Training model...: 100%|██████████| 17/17 [00:12<00:00,  1.31it/s]\n",
      "Validating Model...: 100%|██████████| 5/5 [00:03<00:00,  1.63it/s]\n"
     ]
    },
    {
     "name": "stdout",
     "output_type": "stream",
     "text": [
      "Train Accuracy      : 0.8933823704719543\n",
      "Val Accuracy        : 0.9855072498321533\n",
      "Loss                : 0.02556091733276844\n",
      "Val Loss            : 0.009778909385204315\n",
      "Learning Rate       : 0.001\n"
     ]
    },
    {
     "name": "stderr",
     "output_type": "stream",
     "text": [
      "Training model...: 100%|██████████| 17/17 [00:13<00:00,  1.31it/s]\n",
      "Validating Model...: 100%|██████████| 5/5 [00:03<00:00,  1.65it/s]\n"
     ]
    },
    {
     "name": "stdout",
     "output_type": "stream",
     "text": [
      "Train Accuracy      : 0.875\n",
      "Val Accuracy        : 0.9855072498321533\n",
      "Loss                : 0.024654075503349304\n",
      "Val Loss            : 0.0059341005980968475\n",
      "Learning Rate       : 0.001\n"
     ]
    },
    {
     "name": "stderr",
     "output_type": "stream",
     "text": [
      "Training model...: 100%|██████████| 17/17 [00:13<00:00,  1.31it/s]\n",
      "Validating Model...: 100%|██████████| 5/5 [00:03<00:00,  1.63it/s]\n"
     ]
    },
    {
     "name": "stdout",
     "output_type": "stream",
     "text": [
      "Train Accuracy      : 0.845588207244873\n",
      "Val Accuracy        : 0.9130434989929199\n",
      "Loss                : 0.02603953890502453\n",
      "Val Loss            : 0.011983528733253479\n",
      "Learning Rate       : 0.001\n"
     ]
    },
    {
     "name": "stderr",
     "output_type": "stream",
     "text": [
      "Training model...: 100%|██████████| 17/17 [00:13<00:00,  1.31it/s]\n",
      "Validating Model...: 100%|██████████| 5/5 [00:03<00:00,  1.65it/s]\n"
     ]
    },
    {
     "name": "stdout",
     "output_type": "stream",
     "text": [
      "Train Accuracy      : 0.8860294222831726\n",
      "Val Accuracy        : 1.0\n",
      "Loss                : 0.0238806065171957\n",
      "Val Loss            : 0.004765236750245094\n",
      "Learning Rate       : 0.001\n"
     ]
    },
    {
     "name": "stderr",
     "output_type": "stream",
     "text": [
      "Training model...: 100%|██████████| 17/17 [00:13<00:00,  1.31it/s]\n",
      "Validating Model...: 100%|██████████| 5/5 [00:03<00:00,  1.63it/s]\n"
     ]
    },
    {
     "name": "stdout",
     "output_type": "stream",
     "text": [
      "Train Accuracy      : 0.8272058963775635\n",
      "Val Accuracy        : 0.9855072498321533\n",
      "Loss                : 0.028186963871121407\n",
      "Val Loss            : 0.0032811223063617945\n",
      "Learning Rate       : 0.001\n"
     ]
    },
    {
     "name": "stderr",
     "output_type": "stream",
     "text": [
      "Training model...: 100%|██████████| 17/17 [00:12<00:00,  1.32it/s]\n",
      "Validating Model...: 100%|██████████| 5/5 [00:03<00:00,  1.64it/s]\n"
     ]
    },
    {
     "name": "stdout",
     "output_type": "stream",
     "text": [
      "Train Accuracy      : 0.8897058963775635\n",
      "Val Accuracy        : 0.9855072498321533\n",
      "Loss                : 0.020231489092111588\n",
      "Val Loss            : 0.0026435928884893656\n",
      "Learning Rate       : 0.001\n"
     ]
    },
    {
     "name": "stderr",
     "output_type": "stream",
     "text": [
      "Training model...: 100%|██████████| 17/17 [00:12<00:00,  1.31it/s]\n",
      "Validating Model...: 100%|██████████| 5/5 [00:03<00:00,  1.66it/s]\n"
     ]
    },
    {
     "name": "stdout",
     "output_type": "stream",
     "text": [
      "Train Accuracy      : 0.8970588445663452\n",
      "Val Accuracy        : 0.9855072498321533\n",
      "Loss                : 0.019911397248506546\n",
      "Val Loss            : 0.004069301299750805\n",
      "Learning Rate       : 0.001\n"
     ]
    },
    {
     "name": "stderr",
     "output_type": "stream",
     "text": [
      "Training model...: 100%|██████████| 17/17 [00:13<00:00,  1.30it/s]\n",
      "Validating Model...: 100%|██████████| 5/5 [00:03<00:00,  1.62it/s]\n"
     ]
    },
    {
     "name": "stdout",
     "output_type": "stream",
     "text": [
      "Train Accuracy      : 0.8529411554336548\n",
      "Val Accuracy        : 1.0\n",
      "Loss                : 0.025560474023222923\n",
      "Val Loss            : 0.0018526138737797737\n",
      "Learning Rate       : 0.00085\n"
     ]
    },
    {
     "name": "stderr",
     "output_type": "stream",
     "text": [
      "Training model...: 100%|██████████| 17/17 [00:13<00:00,  1.30it/s]\n",
      "Validating Model...: 100%|██████████| 5/5 [00:03<00:00,  1.66it/s]\n"
     ]
    },
    {
     "name": "stdout",
     "output_type": "stream",
     "text": [
      "Train Accuracy      : 0.8786764740943909\n",
      "Val Accuracy        : 0.9710144996643066\n",
      "Loss                : 0.024760769680142403\n",
      "Val Loss            : 0.01069303322583437\n",
      "Learning Rate       : 0.00085\n"
     ]
    },
    {
     "name": "stderr",
     "output_type": "stream",
     "text": [
      "Training model...: 100%|██████████| 17/17 [00:12<00:00,  1.32it/s]\n",
      "Validating Model...: 100%|██████████| 5/5 [00:03<00:00,  1.64it/s]\n"
     ]
    },
    {
     "name": "stdout",
     "output_type": "stream",
     "text": [
      "Train Accuracy      : 0.8713235259056091\n",
      "Val Accuracy        : 1.0\n",
      "Loss                : 0.02363775670528412\n",
      "Val Loss            : 0.0049074855633080006\n",
      "Learning Rate       : 0.00085\n"
     ]
    },
    {
     "name": "stderr",
     "output_type": "stream",
     "text": [
      "Training model...: 100%|██████████| 17/17 [00:12<00:00,  1.31it/s]\n",
      "Validating Model...: 100%|██████████| 5/5 [00:03<00:00,  1.64it/s]\n"
     ]
    },
    {
     "name": "stdout",
     "output_type": "stream",
     "text": [
      "Train Accuracy      : 0.875\n",
      "Val Accuracy        : 0.9710144996643066\n",
      "Loss                : 0.021846266463398933\n",
      "Val Loss            : 0.0036781823728233576\n",
      "Learning Rate       : 0.00085\n"
     ]
    },
    {
     "name": "stderr",
     "output_type": "stream",
     "text": [
      "Training model...: 100%|██████████| 17/17 [00:12<00:00,  1.31it/s]\n",
      "Validating Model...: 100%|██████████| 5/5 [00:03<00:00,  1.61it/s]\n"
     ]
    },
    {
     "name": "stdout",
     "output_type": "stream",
     "text": [
      "Train Accuracy      : 0.8933823704719543\n",
      "Val Accuracy        : 1.0\n",
      "Loss                : 0.0210824366658926\n",
      "Val Loss            : 0.0028154130559414625\n",
      "Learning Rate       : 0.00085\n"
     ]
    },
    {
     "name": "stderr",
     "output_type": "stream",
     "text": [
      "Training model...: 100%|██████████| 17/17 [00:12<00:00,  1.32it/s]\n",
      "Validating Model...: 100%|██████████| 5/5 [00:03<00:00,  1.63it/s]\n"
     ]
    },
    {
     "name": "stdout",
     "output_type": "stream",
     "text": [
      "Train Accuracy      : 0.8713235259056091\n",
      "Val Accuracy        : 1.0\n",
      "Loss                : 0.02434801310300827\n",
      "Val Loss            : 0.0022314090747386217\n",
      "Learning Rate       : 0.00085\n"
     ]
    },
    {
     "name": "stderr",
     "output_type": "stream",
     "text": [
      "Training model...: 100%|██████████| 17/17 [00:12<00:00,  1.32it/s]\n",
      "Validating Model...: 100%|██████████| 5/5 [00:03<00:00,  1.64it/s]\n"
     ]
    },
    {
     "name": "stdout",
     "output_type": "stream",
     "text": [
      "Train Accuracy      : 0.875\n",
      "Val Accuracy        : 0.9855072498321533\n",
      "Loss                : 0.0247800275683403\n",
      "Val Loss            : 0.003386375494301319\n",
      "Learning Rate       : 0.00085\n"
     ]
    },
    {
     "name": "stderr",
     "output_type": "stream",
     "text": [
      "Training model...: 100%|██████████| 17/17 [00:12<00:00,  1.31it/s]\n",
      "Validating Model...: 100%|██████████| 5/5 [00:03<00:00,  1.64it/s]\n"
     ]
    },
    {
     "name": "stdout",
     "output_type": "stream",
     "text": [
      "Train Accuracy      : 0.904411792755127\n",
      "Val Accuracy        : 0.9855072498321533\n",
      "Loss                : 0.018251029774546623\n",
      "Val Loss            : 0.0031533227302134037\n",
      "Learning Rate       : 0.00085\n"
     ]
    },
    {
     "name": "stderr",
     "output_type": "stream",
     "text": [
      "Training model...: 100%|██████████| 17/17 [00:12<00:00,  1.31it/s]\n",
      "Validating Model...: 100%|██████████| 5/5 [00:03<00:00,  1.63it/s]\n"
     ]
    },
    {
     "name": "stdout",
     "output_type": "stream",
     "text": [
      "Train Accuracy      : 0.8713235259056091\n",
      "Val Accuracy        : 0.9855072498321533\n",
      "Loss                : 0.022996535524725914\n",
      "Val Loss            : 0.002677537966519594\n",
      "Learning Rate       : 0.00085\n"
     ]
    },
    {
     "name": "stderr",
     "output_type": "stream",
     "text": [
      "Training model...: 100%|██████████| 17/17 [00:13<00:00,  1.31it/s]\n",
      "Validating Model...: 100%|██████████| 5/5 [00:03<00:00,  1.64it/s]\n"
     ]
    },
    {
     "name": "stdout",
     "output_type": "stream",
     "text": [
      "Train Accuracy      : 0.9007353186607361\n",
      "Val Accuracy        : 1.0\n",
      "Loss                : 0.0177898108959198\n",
      "Val Loss            : 0.003291489090770483\n",
      "Learning Rate       : 0.00085\n"
     ]
    },
    {
     "name": "stderr",
     "output_type": "stream",
     "text": [
      "Training model...: 100%|██████████| 17/17 [00:13<00:00,  1.31it/s]\n",
      "Validating Model...: 100%|██████████| 5/5 [00:03<00:00,  1.64it/s]\n"
     ]
    },
    {
     "name": "stdout",
     "output_type": "stream",
     "text": [
      "Train Accuracy      : 0.8897058963775635\n",
      "Val Accuracy        : 0.9855072498321533\n",
      "Loss                : 0.0213942788541317\n",
      "Val Loss            : 0.0031025863718241453\n",
      "Learning Rate       : 0.00085\n"
     ]
    },
    {
     "name": "stderr",
     "output_type": "stream",
     "text": [
      "Training model...: 100%|██████████| 17/17 [00:13<00:00,  1.30it/s]\n",
      "Validating Model...: 100%|██████████| 5/5 [00:03<00:00,  1.66it/s]\n"
     ]
    },
    {
     "name": "stdout",
     "output_type": "stream",
     "text": [
      "Train Accuracy      : 0.8566176295280457\n",
      "Val Accuracy        : 0.9855072498321533\n",
      "Loss                : 0.028113478794693947\n",
      "Val Loss            : 0.005282609257847071\n",
      "Learning Rate       : 0.00085\n"
     ]
    },
    {
     "name": "stderr",
     "output_type": "stream",
     "text": [
      "Training model...: 100%|██████████| 17/17 [00:12<00:00,  1.31it/s]\n",
      "Validating Model...: 100%|██████████| 5/5 [00:03<00:00,  1.64it/s]\n"
     ]
    },
    {
     "name": "stdout",
     "output_type": "stream",
     "text": [
      "Train Accuracy      : 0.908088207244873\n",
      "Val Accuracy        : 0.9855072498321533\n",
      "Loss                : 0.019281886518001556\n",
      "Val Loss            : 0.005380087532103062\n",
      "Learning Rate       : 0.00085\n"
     ]
    },
    {
     "name": "stderr",
     "output_type": "stream",
     "text": [
      "Training model...: 100%|██████████| 17/17 [00:12<00:00,  1.31it/s]\n",
      "Validating Model...: 100%|██████████| 5/5 [00:03<00:00,  1.63it/s]\n"
     ]
    },
    {
     "name": "stdout",
     "output_type": "stream",
     "text": [
      "Train Accuracy      : 0.8786764740943909\n",
      "Val Accuracy        : 0.9855072498321533\n",
      "Loss                : 0.018236743286252022\n",
      "Val Loss            : 0.0039390153251588345\n",
      "Learning Rate       : 0.00085\n"
     ]
    },
    {
     "name": "stderr",
     "output_type": "stream",
     "text": [
      "Training model...: 100%|██████████| 17/17 [00:13<00:00,  1.30it/s]\n",
      "Validating Model...: 100%|██████████| 5/5 [00:03<00:00,  1.65it/s]\n"
     ]
    },
    {
     "name": "stdout",
     "output_type": "stream",
     "text": [
      "Train Accuracy      : 0.8933823704719543\n",
      "Val Accuracy        : 0.9855072498321533\n",
      "Loss                : 0.02095320075750351\n",
      "Val Loss            : 0.004152403213083744\n",
      "Learning Rate       : 0.00085\n"
     ]
    },
    {
     "name": "stderr",
     "output_type": "stream",
     "text": [
      "Training model...: 100%|██████████| 17/17 [00:12<00:00,  1.31it/s]\n",
      "Validating Model...: 100%|██████████| 5/5 [00:03<00:00,  1.64it/s]\n"
     ]
    },
    {
     "name": "stdout",
     "output_type": "stream",
     "text": [
      "Train Accuracy      : 0.9117646813392639\n",
      "Val Accuracy        : 0.9855072498321533\n",
      "Loss                : 0.017019052058458328\n",
      "Val Loss            : 0.004445012658834457\n",
      "Learning Rate       : 0.00085\n"
     ]
    },
    {
     "name": "stderr",
     "output_type": "stream",
     "text": [
      "Training model...: 100%|██████████| 17/17 [00:13<00:00,  1.31it/s]\n",
      "Validating Model...: 100%|██████████| 5/5 [00:03<00:00,  1.64it/s]\n"
     ]
    },
    {
     "name": "stdout",
     "output_type": "stream",
     "text": [
      "Train Accuracy      : 0.8676470518112183\n",
      "Val Accuracy        : 1.0\n",
      "Loss                : 0.019529763609170914\n",
      "Val Loss            : 0.0028179960791021585\n",
      "Learning Rate       : 0.00085\n"
     ]
    },
    {
     "name": "stderr",
     "output_type": "stream",
     "text": [
      "Training model...: 100%|██████████| 17/17 [00:13<00:00,  1.30it/s]\n",
      "Validating Model...: 100%|██████████| 5/5 [00:03<00:00,  1.63it/s]\n"
     ]
    },
    {
     "name": "stdout",
     "output_type": "stream",
     "text": [
      "Train Accuracy      : 0.8933823704719543\n",
      "Val Accuracy        : 0.9710144996643066\n",
      "Loss                : 0.018595591187477112\n",
      "Val Loss            : 0.006379319354891777\n",
      "Learning Rate       : 0.00085\n"
     ]
    },
    {
     "name": "stderr",
     "output_type": "stream",
     "text": [
      "Training model...: 100%|██████████| 17/17 [00:13<00:00,  1.30it/s]\n",
      "Validating Model...: 100%|██████████| 5/5 [00:03<00:00,  1.64it/s]\n"
     ]
    },
    {
     "name": "stdout",
     "output_type": "stream",
     "text": [
      "Train Accuracy      : 0.8897058963775635\n",
      "Val Accuracy        : 1.0\n",
      "Loss                : 0.021154822781682014\n",
      "Val Loss            : 0.0028554366435855627\n",
      "Learning Rate       : 0.00085\n"
     ]
    },
    {
     "name": "stderr",
     "output_type": "stream",
     "text": [
      "Training model...: 100%|██████████| 17/17 [00:12<00:00,  1.31it/s]\n",
      "Validating Model...: 100%|██████████| 5/5 [00:03<00:00,  1.64it/s]\n"
     ]
    },
    {
     "name": "stdout",
     "output_type": "stream",
     "text": [
      "Train Accuracy      : 0.9117646813392639\n",
      "Val Accuracy        : 0.9710144996643066\n",
      "Loss                : 0.021450504660606384\n",
      "Val Loss            : 0.007728909142315388\n",
      "Learning Rate       : 0.00085\n"
     ]
    },
    {
     "name": "stderr",
     "output_type": "stream",
     "text": [
      "Training model...: 100%|██████████| 17/17 [00:13<00:00,  1.30it/s]\n",
      "Validating Model...: 100%|██████████| 5/5 [00:03<00:00,  1.65it/s]\n"
     ]
    },
    {
     "name": "stdout",
     "output_type": "stream",
     "text": [
      "Train Accuracy      : 0.8713235259056091\n",
      "Val Accuracy        : 1.0\n",
      "Loss                : 0.019492728635668755\n",
      "Val Loss            : 0.0021974986884742975\n",
      "Learning Rate       : 0.00085\n"
     ]
    },
    {
     "name": "stderr",
     "output_type": "stream",
     "text": [
      "Training model...: 100%|██████████| 17/17 [00:13<00:00,  1.31it/s]\n",
      "Validating Model...: 100%|██████████| 5/5 [00:03<00:00,  1.62it/s]\n"
     ]
    },
    {
     "name": "stdout",
     "output_type": "stream",
     "text": [
      "Train Accuracy      : 0.8713235259056091\n",
      "Val Accuracy        : 0.9855072498321533\n",
      "Loss                : 0.024382667616009712\n",
      "Val Loss            : 0.003439512336626649\n",
      "Learning Rate       : 0.00085\n"
     ]
    },
    {
     "name": "stderr",
     "output_type": "stream",
     "text": [
      "Training model...: 100%|██████████| 17/17 [00:13<00:00,  1.30it/s]\n",
      "Validating Model...: 100%|██████████| 5/5 [00:03<00:00,  1.62it/s]\n"
     ]
    },
    {
     "name": "stdout",
     "output_type": "stream",
     "text": [
      "Train Accuracy      : 0.9007353186607361\n",
      "Val Accuracy        : 1.0\n",
      "Loss                : 0.0210262518376112\n",
      "Val Loss            : 0.0037380382418632507\n",
      "Learning Rate       : 0.00085\n"
     ]
    },
    {
     "name": "stderr",
     "output_type": "stream",
     "text": [
      "Training model...: 100%|██████████| 17/17 [00:12<00:00,  1.31it/s]\n",
      "Validating Model...: 100%|██████████| 5/5 [00:03<00:00,  1.63it/s]\n"
     ]
    },
    {
     "name": "stdout",
     "output_type": "stream",
     "text": [
      "Train Accuracy      : 0.8860294222831726\n",
      "Val Accuracy        : 0.9855072498321533\n",
      "Loss                : 0.021725071594119072\n",
      "Val Loss            : 0.002770163118839264\n",
      "Learning Rate       : 0.00085\n"
     ]
    },
    {
     "name": "stderr",
     "output_type": "stream",
     "text": [
      "Training model...: 100%|██████████| 17/17 [00:13<00:00,  1.31it/s]\n",
      "Validating Model...: 100%|██████████| 5/5 [00:03<00:00,  1.64it/s]\n"
     ]
    },
    {
     "name": "stdout",
     "output_type": "stream",
     "text": [
      "Train Accuracy      : 0.8970588445663452\n",
      "Val Accuracy        : 0.9855072498321533\n",
      "Loss                : 0.019296865910291672\n",
      "Val Loss            : 0.0047073690220713615\n",
      "Learning Rate       : 0.00085\n"
     ]
    },
    {
     "name": "stderr",
     "output_type": "stream",
     "text": [
      "Training model...: 100%|██████████| 17/17 [00:13<00:00,  1.31it/s]\n",
      "Validating Model...: 100%|██████████| 5/5 [00:03<00:00,  1.63it/s]\n"
     ]
    },
    {
     "name": "stdout",
     "output_type": "stream",
     "text": [
      "Train Accuracy      : 0.8860294222831726\n",
      "Val Accuracy        : 0.9855072498321533\n",
      "Loss                : 0.022145166993141174\n",
      "Val Loss            : 0.0054209111258387566\n",
      "Learning Rate       : 0.0007224999999999999\n"
     ]
    },
    {
     "name": "stderr",
     "output_type": "stream",
     "text": [
      "Training model...: 100%|██████████| 17/17 [00:12<00:00,  1.31it/s]\n",
      "Validating Model...: 100%|██████████| 5/5 [00:03<00:00,  1.63it/s]\n"
     ]
    },
    {
     "name": "stdout",
     "output_type": "stream",
     "text": [
      "Train Accuracy      : 0.8676470518112183\n",
      "Val Accuracy        : 0.9855072498321533\n",
      "Loss                : 0.024420825764536858\n",
      "Val Loss            : 0.004666057415306568\n",
      "Learning Rate       : 0.0007224999999999999\n"
     ]
    },
    {
     "name": "stderr",
     "output_type": "stream",
     "text": [
      "Training model...: 100%|██████████| 17/17 [00:12<00:00,  1.32it/s]\n",
      "Validating Model...: 100%|██████████| 5/5 [00:03<00:00,  1.64it/s]\n"
     ]
    },
    {
     "name": "stdout",
     "output_type": "stream",
     "text": [
      "Train Accuracy      : 0.8933823704719543\n",
      "Val Accuracy        : 1.0\n",
      "Loss                : 0.021254267543554306\n",
      "Val Loss            : 0.002818482695147395\n",
      "Learning Rate       : 0.0007224999999999999\n"
     ]
    },
    {
     "name": "stderr",
     "output_type": "stream",
     "text": [
      "Training model...: 100%|██████████| 17/17 [00:13<00:00,  1.31it/s]\n",
      "Validating Model...: 100%|██████████| 5/5 [00:03<00:00,  1.58it/s]\n"
     ]
    },
    {
     "name": "stdout",
     "output_type": "stream",
     "text": [
      "Train Accuracy      : 0.904411792755127\n",
      "Val Accuracy        : 1.0\n",
      "Loss                : 0.016783641651272774\n",
      "Val Loss            : 0.002230121986940503\n",
      "Learning Rate       : 0.0007224999999999999\n"
     ]
    },
    {
     "name": "stderr",
     "output_type": "stream",
     "text": [
      "Training model...: 100%|██████████| 17/17 [00:13<00:00,  1.30it/s]\n",
      "Validating Model...: 100%|██████████| 5/5 [00:03<00:00,  1.63it/s]\n"
     ]
    },
    {
     "name": "stdout",
     "output_type": "stream",
     "text": [
      "Train Accuracy      : 0.9301470518112183\n",
      "Val Accuracy        : 1.0\n",
      "Loss                : 0.01656205579638481\n",
      "Val Loss            : 0.0019801293965429068\n",
      "Learning Rate       : 0.0007224999999999999\n"
     ]
    },
    {
     "name": "stderr",
     "output_type": "stream",
     "text": [
      "Training model...: 100%|██████████| 17/17 [00:12<00:00,  1.31it/s]\n",
      "Validating Model...: 100%|██████████| 5/5 [00:03<00:00,  1.63it/s]\n"
     ]
    },
    {
     "name": "stdout",
     "output_type": "stream",
     "text": [
      "Train Accuracy      : 0.9227941036224365\n",
      "Val Accuracy        : 1.0\n",
      "Loss                : 0.01912383921444416\n",
      "Val Loss            : 0.0015766527503728867\n",
      "Learning Rate       : 0.0007224999999999999\n"
     ]
    },
    {
     "name": "stderr",
     "output_type": "stream",
     "text": [
      "Training model...: 100%|██████████| 17/17 [00:13<00:00,  1.30it/s]\n",
      "Validating Model...: 100%|██████████| 5/5 [00:03<00:00,  1.63it/s]\n"
     ]
    },
    {
     "name": "stdout",
     "output_type": "stream",
     "text": [
      "Train Accuracy      : 0.9191176295280457\n",
      "Val Accuracy        : 1.0\n",
      "Loss                : 0.014784709550440311\n",
      "Val Loss            : 0.002166127786040306\n",
      "Learning Rate       : 0.0007224999999999999\n"
     ]
    },
    {
     "name": "stderr",
     "output_type": "stream",
     "text": [
      "Training model...: 100%|██████████| 17/17 [00:13<00:00,  1.29it/s]\n",
      "Validating Model...: 100%|██████████| 5/5 [00:03<00:00,  1.63it/s]\n"
     ]
    },
    {
     "name": "stdout",
     "output_type": "stream",
     "text": [
      "Train Accuracy      : 0.8786764740943909\n",
      "Val Accuracy        : 1.0\n",
      "Loss                : 0.02129504643380642\n",
      "Val Loss            : 0.0030440641567111015\n",
      "Learning Rate       : 0.0007224999999999999\n"
     ]
    },
    {
     "name": "stderr",
     "output_type": "stream",
     "text": [
      "Training model...: 100%|██████████| 17/17 [00:13<00:00,  1.29it/s]\n",
      "Validating Model...: 100%|██████████| 5/5 [00:03<00:00,  1.62it/s]\n"
     ]
    },
    {
     "name": "stdout",
     "output_type": "stream",
     "text": [
      "Train Accuracy      : 0.8897058963775635\n",
      "Val Accuracy        : 1.0\n",
      "Loss                : 0.020567359402775764\n",
      "Val Loss            : 0.00145321199670434\n",
      "Learning Rate       : 0.0007224999999999999\n"
     ]
    },
    {
     "name": "stderr",
     "output_type": "stream",
     "text": [
      "Training model...: 100%|██████████| 17/17 [00:13<00:00,  1.29it/s]\n",
      "Validating Model...: 100%|██████████| 5/5 [00:03<00:00,  1.64it/s]\n"
     ]
    },
    {
     "name": "stdout",
     "output_type": "stream",
     "text": [
      "Train Accuracy      : 0.8933823704719543\n",
      "Val Accuracy        : 1.0\n",
      "Loss                : 0.019032983109354973\n",
      "Val Loss            : 0.001650773105211556\n",
      "Learning Rate       : 0.0007224999999999999\n"
     ]
    },
    {
     "name": "stderr",
     "output_type": "stream",
     "text": [
      "Training model...: 100%|██████████| 17/17 [00:12<00:00,  1.31it/s]\n",
      "Validating Model...: 100%|██████████| 5/5 [00:03<00:00,  1.64it/s]\n"
     ]
    },
    {
     "name": "stdout",
     "output_type": "stream",
     "text": [
      "Train Accuracy      : 0.8970588445663452\n",
      "Val Accuracy        : 1.0\n",
      "Loss                : 0.017060037702322006\n",
      "Val Loss            : 0.002035687444731593\n",
      "Learning Rate       : 0.0007224999999999999\n"
     ]
    },
    {
     "name": "stderr",
     "output_type": "stream",
     "text": [
      "Training model...: 100%|██████████| 17/17 [00:13<00:00,  1.29it/s]\n",
      "Validating Model...: 100%|██████████| 5/5 [00:03<00:00,  1.61it/s]\n"
     ]
    },
    {
     "name": "stdout",
     "output_type": "stream",
     "text": [
      "Train Accuracy      : 0.8860294222831726\n",
      "Val Accuracy        : 1.0\n",
      "Loss                : 0.01982073113322258\n",
      "Val Loss            : 0.0010790496598929167\n",
      "Learning Rate       : 0.0007224999999999999\n"
     ]
    },
    {
     "name": "stderr",
     "output_type": "stream",
     "text": [
      "Training model...: 100%|██████████| 17/17 [00:13<00:00,  1.30it/s]\n",
      "Validating Model...: 100%|██████████| 5/5 [00:03<00:00,  1.65it/s]\n"
     ]
    },
    {
     "name": "stdout",
     "output_type": "stream",
     "text": [
      "Train Accuracy      : 0.904411792755127\n",
      "Val Accuracy        : 1.0\n",
      "Loss                : 0.018961498513817787\n",
      "Val Loss            : 0.0017261662287637591\n",
      "Learning Rate       : 0.0007224999999999999\n"
     ]
    },
    {
     "name": "stderr",
     "output_type": "stream",
     "text": [
      "Training model...: 100%|██████████| 17/17 [00:12<00:00,  1.31it/s]\n",
      "Validating Model...: 100%|██████████| 5/5 [00:03<00:00,  1.64it/s]\n"
     ]
    },
    {
     "name": "stdout",
     "output_type": "stream",
     "text": [
      "Train Accuracy      : 0.8933823704719543\n",
      "Val Accuracy        : 1.0\n",
      "Loss                : 0.02545672282576561\n",
      "Val Loss            : 0.0019006228540092707\n",
      "Learning Rate       : 0.0007224999999999999\n"
     ]
    },
    {
     "name": "stderr",
     "output_type": "stream",
     "text": [
      "Training model...: 100%|██████████| 17/17 [00:12<00:00,  1.31it/s]\n",
      "Validating Model...: 100%|██████████| 5/5 [00:03<00:00,  1.63it/s]\n"
     ]
    },
    {
     "name": "stdout",
     "output_type": "stream",
     "text": [
      "Train Accuracy      : 0.904411792755127\n",
      "Val Accuracy        : 1.0\n",
      "Loss                : 0.019728321582078934\n",
      "Val Loss            : 0.0016608231235295534\n",
      "Learning Rate       : 0.0007224999999999999\n"
     ]
    },
    {
     "name": "stderr",
     "output_type": "stream",
     "text": [
      "Training model...: 100%|██████████| 17/17 [00:12<00:00,  1.31it/s]\n",
      "Validating Model...: 100%|██████████| 5/5 [00:03<00:00,  1.65it/s]\n"
     ]
    },
    {
     "name": "stdout",
     "output_type": "stream",
     "text": [
      "Train Accuracy      : 0.9007353186607361\n",
      "Val Accuracy        : 1.0\n",
      "Loss                : 0.017704900354146957\n",
      "Val Loss            : 0.0019100543577224016\n",
      "Learning Rate       : 0.0007224999999999999\n"
     ]
    },
    {
     "name": "stderr",
     "output_type": "stream",
     "text": [
      "Training model...: 100%|██████████| 17/17 [00:13<00:00,  1.31it/s]\n",
      "Validating Model...: 100%|██████████| 5/5 [00:03<00:00,  1.64it/s]\n"
     ]
    },
    {
     "name": "stdout",
     "output_type": "stream",
     "text": [
      "Train Accuracy      : 0.9264705777168274\n",
      "Val Accuracy        : 0.9855072498321533\n",
      "Loss                : 0.014161713421344757\n",
      "Val Loss            : 0.003328078892081976\n",
      "Learning Rate       : 0.0007224999999999999\n"
     ]
    },
    {
     "name": "stderr",
     "output_type": "stream",
     "text": [
      "Training model...: 100%|██████████| 17/17 [00:12<00:00,  1.32it/s]\n",
      "Validating Model...: 100%|██████████| 5/5 [00:03<00:00,  1.63it/s]\n"
     ]
    },
    {
     "name": "stdout",
     "output_type": "stream",
     "text": [
      "Train Accuracy      : 0.9191176295280457\n",
      "Val Accuracy        : 0.9855072498321533\n",
      "Loss                : 0.015033043920993805\n",
      "Val Loss            : 0.002198831643909216\n",
      "Learning Rate       : 0.0007224999999999999\n"
     ]
    },
    {
     "name": "stderr",
     "output_type": "stream",
     "text": [
      "Training model...: 100%|██████████| 17/17 [00:12<00:00,  1.31it/s]\n",
      "Validating Model...: 100%|██████████| 5/5 [00:03<00:00,  1.62it/s]\n"
     ]
    },
    {
     "name": "stdout",
     "output_type": "stream",
     "text": [
      "Train Accuracy      : 0.9227941036224365\n",
      "Val Accuracy        : 1.0\n",
      "Loss                : 0.016978394240140915\n",
      "Val Loss            : 0.0018402979476377368\n",
      "Learning Rate       : 0.0007224999999999999\n"
     ]
    },
    {
     "name": "stderr",
     "output_type": "stream",
     "text": [
      "Training model...: 100%|██████████| 17/17 [00:13<00:00,  1.30it/s]\n",
      "Validating Model...: 100%|██████████| 5/5 [00:03<00:00,  1.63it/s]\n"
     ]
    },
    {
     "name": "stdout",
     "output_type": "stream",
     "text": [
      "Train Accuracy      : 0.9485294222831726\n",
      "Val Accuracy        : 1.0\n",
      "Loss                : 0.011252544820308685\n",
      "Val Loss            : 0.0024206251837313175\n",
      "Learning Rate       : 0.0007224999999999999\n"
     ]
    },
    {
     "name": "stderr",
     "output_type": "stream",
     "text": [
      "Training model...: 100%|██████████| 17/17 [00:13<00:00,  1.29it/s]\n",
      "Validating Model...: 100%|██████████| 5/5 [00:03<00:00,  1.63it/s]\n"
     ]
    },
    {
     "name": "stdout",
     "output_type": "stream",
     "text": [
      "Train Accuracy      : 0.9191176295280457\n",
      "Val Accuracy        : 1.0\n",
      "Loss                : 0.016648827120661736\n",
      "Val Loss            : 0.0023121146950870752\n",
      "Learning Rate       : 0.0007224999999999999\n"
     ]
    },
    {
     "name": "stderr",
     "output_type": "stream",
     "text": [
      "Training model...: 100%|██████████| 17/17 [00:12<00:00,  1.31it/s]\n",
      "Validating Model...: 100%|██████████| 5/5 [00:03<00:00,  1.64it/s]\n"
     ]
    },
    {
     "name": "stdout",
     "output_type": "stream",
     "text": [
      "Train Accuracy      : 0.9411764740943909\n",
      "Val Accuracy        : 1.0\n",
      "Loss                : 0.011846591718494892\n",
      "Val Loss            : 0.0014732617419213057\n",
      "Learning Rate       : 0.0007224999999999999\n"
     ]
    },
    {
     "name": "stderr",
     "output_type": "stream",
     "text": [
      "Training model...: 100%|██████████| 17/17 [00:13<00:00,  1.30it/s]\n",
      "Validating Model...: 100%|██████████| 5/5 [00:03<00:00,  1.65it/s]\n"
     ]
    },
    {
     "name": "stdout",
     "output_type": "stream",
     "text": [
      "Train Accuracy      : 0.9522058963775635\n",
      "Val Accuracy        : 1.0\n",
      "Loss                : 0.011781612411141396\n",
      "Val Loss            : 0.0017645452171564102\n",
      "Learning Rate       : 0.0007224999999999999\n"
     ]
    },
    {
     "name": "stderr",
     "output_type": "stream",
     "text": [
      "Training model...: 100%|██████████| 17/17 [00:13<00:00,  1.31it/s]\n",
      "Validating Model...: 100%|██████████| 5/5 [00:03<00:00,  1.64it/s]\n"
     ]
    },
    {
     "name": "stdout",
     "output_type": "stream",
     "text": [
      "Train Accuracy      : 0.9191176295280457\n",
      "Val Accuracy        : 1.0\n",
      "Loss                : 0.01597253419458866\n",
      "Val Loss            : 0.0016942332731559873\n",
      "Learning Rate       : 0.0007224999999999999\n"
     ]
    },
    {
     "name": "stderr",
     "output_type": "stream",
     "text": [
      "Training model...: 100%|██████████| 17/17 [00:13<00:00,  1.31it/s]\n",
      "Validating Model...: 100%|██████████| 5/5 [00:03<00:00,  1.63it/s]\n"
     ]
    },
    {
     "name": "stdout",
     "output_type": "stream",
     "text": [
      "Train Accuracy      : 0.9154411554336548\n",
      "Val Accuracy        : 1.0\n",
      "Loss                : 0.01616578735411167\n",
      "Val Loss            : 0.0014904951676726341\n",
      "Learning Rate       : 0.0007224999999999999\n"
     ]
    },
    {
     "name": "stderr",
     "output_type": "stream",
     "text": [
      "Training model...: 100%|██████████| 17/17 [00:12<00:00,  1.31it/s]\n",
      "Validating Model...: 100%|██████████| 5/5 [00:03<00:00,  1.64it/s]\n"
     ]
    },
    {
     "name": "stdout",
     "output_type": "stream",
     "text": [
      "Train Accuracy      : 0.908088207244873\n",
      "Val Accuracy        : 1.0\n",
      "Loss                : 0.016339413821697235\n",
      "Val Loss            : 0.0016709471819922328\n",
      "Learning Rate       : 0.0007224999999999999\n"
     ]
    },
    {
     "name": "stderr",
     "output_type": "stream",
     "text": [
      "Training model...: 100%|██████████| 17/17 [00:13<00:00,  1.31it/s]\n",
      "Validating Model...: 100%|██████████| 5/5 [00:03<00:00,  1.64it/s]\n"
     ]
    },
    {
     "name": "stdout",
     "output_type": "stream",
     "text": [
      "Train Accuracy      : 0.9117646813392639\n",
      "Val Accuracy        : 1.0\n",
      "Loss                : 0.01895415596663952\n",
      "Val Loss            : 0.0018433965742588043\n",
      "Learning Rate       : 0.0007224999999999999\n"
     ]
    },
    {
     "name": "stderr",
     "output_type": "stream",
     "text": [
      "Training model...: 100%|██████████| 17/17 [00:12<00:00,  1.31it/s]\n",
      "Validating Model...: 100%|██████████| 5/5 [00:03<00:00,  1.63it/s]\n"
     ]
    },
    {
     "name": "stdout",
     "output_type": "stream",
     "text": [
      "Train Accuracy      : 0.8933823704719543\n",
      "Val Accuracy        : 0.9855072498321533\n",
      "Loss                : 0.016791168600320816\n",
      "Val Loss            : 0.0038097344804555178\n",
      "Learning Rate       : 0.0007224999999999999\n"
     ]
    },
    {
     "name": "stderr",
     "output_type": "stream",
     "text": [
      "Training model...: 100%|██████████| 17/17 [00:12<00:00,  1.31it/s]\n",
      "Validating Model...: 100%|██████████| 5/5 [00:03<00:00,  1.64it/s]\n"
     ]
    },
    {
     "name": "stdout",
     "output_type": "stream",
     "text": [
      "Train Accuracy      : 0.9191176295280457\n",
      "Val Accuracy        : 0.9855072498321533\n",
      "Loss                : 0.015334516763687134\n",
      "Val Loss            : 0.00490019004791975\n",
      "Learning Rate       : 0.0007224999999999999\n"
     ]
    },
    {
     "name": "stderr",
     "output_type": "stream",
     "text": [
      "Training model...: 100%|██████████| 17/17 [00:13<00:00,  1.31it/s]\n",
      "Validating Model...: 100%|██████████| 5/5 [00:03<00:00,  1.61it/s]\n"
     ]
    },
    {
     "name": "stdout",
     "output_type": "stream",
     "text": [
      "Train Accuracy      : 0.8860294222831726\n",
      "Val Accuracy        : 0.9855072498321533\n",
      "Loss                : 0.022339142858982086\n",
      "Val Loss            : 0.002522067865356803\n",
      "Learning Rate       : 0.000614125\n"
     ]
    },
    {
     "name": "stderr",
     "output_type": "stream",
     "text": [
      "Training model...: 100%|██████████| 17/17 [00:13<00:00,  1.30it/s]\n",
      "Validating Model...: 100%|██████████| 5/5 [00:03<00:00,  1.57it/s]\n"
     ]
    },
    {
     "name": "stdout",
     "output_type": "stream",
     "text": [
      "Train Accuracy      : 0.908088207244873\n",
      "Val Accuracy        : 1.0\n",
      "Loss                : 0.01618771255016327\n",
      "Val Loss            : 0.001459432765841484\n",
      "Learning Rate       : 0.000614125\n"
     ]
    },
    {
     "name": "stderr",
     "output_type": "stream",
     "text": [
      "Training model...: 100%|██████████| 17/17 [00:13<00:00,  1.25it/s]\n",
      "Validating Model...: 100%|██████████| 5/5 [00:03<00:00,  1.63it/s]\n"
     ]
    },
    {
     "name": "stdout",
     "output_type": "stream",
     "text": [
      "Train Accuracy      : 0.9227941036224365\n",
      "Val Accuracy        : 1.0\n",
      "Loss                : 0.017588334158062935\n",
      "Val Loss            : 0.001465928158722818\n",
      "Learning Rate       : 0.000614125\n"
     ]
    },
    {
     "name": "stderr",
     "output_type": "stream",
     "text": [
      "Training model...: 100%|██████████| 17/17 [00:13<00:00,  1.29it/s]\n",
      "Validating Model...: 100%|██████████| 5/5 [00:03<00:00,  1.62it/s]\n"
     ]
    },
    {
     "name": "stdout",
     "output_type": "stream",
     "text": [
      "Train Accuracy      : 0.8970588445663452\n",
      "Val Accuracy        : 0.9855072498321533\n",
      "Loss                : 0.019743075594305992\n",
      "Val Loss            : 0.003299335716292262\n",
      "Learning Rate       : 0.000614125\n"
     ]
    },
    {
     "name": "stderr",
     "output_type": "stream",
     "text": [
      "Training model...: 100%|██████████| 17/17 [00:12<00:00,  1.31it/s]\n",
      "Validating Model...: 100%|██████████| 5/5 [00:03<00:00,  1.63it/s]\n"
     ]
    },
    {
     "name": "stdout",
     "output_type": "stream",
     "text": [
      "Train Accuracy      : 0.9264705777168274\n",
      "Val Accuracy        : 1.0\n",
      "Loss                : 0.015772921964526176\n",
      "Val Loss            : 0.0013809642987325788\n",
      "Learning Rate       : 0.000614125\n"
     ]
    },
    {
     "name": "stderr",
     "output_type": "stream",
     "text": [
      "Training model...: 100%|██████████| 17/17 [00:12<00:00,  1.31it/s]\n",
      "Validating Model...: 100%|██████████| 5/5 [00:03<00:00,  1.65it/s]\n"
     ]
    },
    {
     "name": "stdout",
     "output_type": "stream",
     "text": [
      "Train Accuracy      : 0.8970588445663452\n",
      "Val Accuracy        : 0.9855072498321533\n",
      "Loss                : 0.021684803068637848\n",
      "Val Loss            : 0.002519676461815834\n",
      "Learning Rate       : 0.000614125\n"
     ]
    },
    {
     "name": "stderr",
     "output_type": "stream",
     "text": [
      "Training model...: 100%|██████████| 17/17 [00:13<00:00,  1.30it/s]\n",
      "Validating Model...: 100%|██████████| 5/5 [00:03<00:00,  1.63it/s]\n"
     ]
    },
    {
     "name": "stdout",
     "output_type": "stream",
     "text": [
      "Train Accuracy      : 0.904411792755127\n",
      "Val Accuracy        : 0.9855072498321533\n",
      "Loss                : 0.01539753470569849\n",
      "Val Loss            : 0.002386540174484253\n",
      "Learning Rate       : 0.000614125\n"
     ]
    },
    {
     "name": "stderr",
     "output_type": "stream",
     "text": [
      "Training model...: 100%|██████████| 17/17 [00:12<00:00,  1.31it/s]\n",
      "Validating Model...: 100%|██████████| 5/5 [00:03<00:00,  1.62it/s]\n"
     ]
    },
    {
     "name": "stdout",
     "output_type": "stream",
     "text": [
      "Train Accuracy      : 0.8823529481887817\n",
      "Val Accuracy        : 0.9855072498321533\n",
      "Loss                : 0.023037249222397804\n",
      "Val Loss            : 0.0025354588869959116\n",
      "Learning Rate       : 0.000614125\n"
     ]
    },
    {
     "name": "stderr",
     "output_type": "stream",
     "text": [
      "Training model...: 100%|██████████| 17/17 [00:13<00:00,  1.28it/s]\n",
      "Validating Model...: 100%|██████████| 5/5 [00:03<00:00,  1.52it/s]\n"
     ]
    },
    {
     "name": "stdout",
     "output_type": "stream",
     "text": [
      "Train Accuracy      : 0.904411792755127\n",
      "Val Accuracy        : 1.0\n",
      "Loss                : 0.019713785499334335\n",
      "Val Loss            : 0.001704189577139914\n",
      "Learning Rate       : 0.000614125\n"
     ]
    },
    {
     "name": "stderr",
     "output_type": "stream",
     "text": [
      "Training model...: 100%|██████████| 17/17 [00:14<00:00,  1.19it/s]\n",
      "Validating Model...: 100%|██████████| 5/5 [00:03<00:00,  1.61it/s]\n"
     ]
    },
    {
     "name": "stdout",
     "output_type": "stream",
     "text": [
      "Train Accuracy      : 0.9117646813392639\n",
      "Val Accuracy        : 1.0\n",
      "Loss                : 0.0183426346629858\n",
      "Val Loss            : 0.0014512608759105206\n",
      "Learning Rate       : 0.000614125\n"
     ]
    },
    {
     "name": "stderr",
     "output_type": "stream",
     "text": [
      "Training model...: 100%|██████████| 17/17 [00:13<00:00,  1.25it/s]\n",
      "Validating Model...: 100%|██████████| 5/5 [00:03<00:00,  1.61it/s]\n"
     ]
    },
    {
     "name": "stdout",
     "output_type": "stream",
     "text": [
      "Train Accuracy      : 0.908088207244873\n",
      "Val Accuracy        : 1.0\n",
      "Loss                : 0.013718720525503159\n",
      "Val Loss            : 0.0015989623498171568\n",
      "Learning Rate       : 0.000614125\n"
     ]
    },
    {
     "name": "stderr",
     "output_type": "stream",
     "text": [
      "Training model...: 100%|██████████| 17/17 [00:13<00:00,  1.29it/s]\n",
      "Validating Model...: 100%|██████████| 5/5 [00:03<00:00,  1.64it/s]\n"
     ]
    },
    {
     "name": "stdout",
     "output_type": "stream",
     "text": [
      "Train Accuracy      : 0.9375\n",
      "Val Accuracy        : 1.0\n",
      "Loss                : 0.01222983282059431\n",
      "Val Loss            : 0.0019244637805968523\n",
      "Learning Rate       : 0.000614125\n"
     ]
    },
    {
     "name": "stderr",
     "output_type": "stream",
     "text": [
      "Training model...: 100%|██████████| 17/17 [00:13<00:00,  1.26it/s]\n",
      "Validating Model...: 100%|██████████| 5/5 [00:03<00:00,  1.60it/s]\n"
     ]
    },
    {
     "name": "stdout",
     "output_type": "stream",
     "text": [
      "Train Accuracy      : 0.8897058963775635\n",
      "Val Accuracy        : 1.0\n",
      "Loss                : 0.01712713949382305\n",
      "Val Loss            : 0.0010910563869401813\n",
      "Learning Rate       : 0.000614125\n"
     ]
    },
    {
     "name": "stderr",
     "output_type": "stream",
     "text": [
      "Training model...: 100%|██████████| 17/17 [00:13<00:00,  1.30it/s]\n",
      "Validating Model...: 100%|██████████| 5/5 [00:03<00:00,  1.64it/s]\n"
     ]
    },
    {
     "name": "stdout",
     "output_type": "stream",
     "text": [
      "Train Accuracy      : 0.9522058963775635\n",
      "Val Accuracy        : 1.0\n",
      "Loss                : 0.012013440951704979\n",
      "Val Loss            : 0.0009042064775712788\n",
      "Learning Rate       : 0.000614125\n"
     ]
    },
    {
     "name": "stderr",
     "output_type": "stream",
     "text": [
      "Training model...: 100%|██████████| 17/17 [00:13<00:00,  1.31it/s]\n",
      "Validating Model...: 100%|██████████| 5/5 [00:03<00:00,  1.64it/s]\n"
     ]
    },
    {
     "name": "stdout",
     "output_type": "stream",
     "text": [
      "Train Accuracy      : 0.9191176295280457\n",
      "Val Accuracy        : 1.0\n",
      "Loss                : 0.014134609140455723\n",
      "Val Loss            : 0.001189615111798048\n",
      "Learning Rate       : 0.000614125\n"
     ]
    },
    {
     "name": "stderr",
     "output_type": "stream",
     "text": [
      "Training model...: 100%|██████████| 17/17 [00:13<00:00,  1.30it/s]\n",
      "Validating Model...: 100%|██████████| 5/5 [00:03<00:00,  1.63it/s]\n"
     ]
    },
    {
     "name": "stdout",
     "output_type": "stream",
     "text": [
      "Train Accuracy      : 0.8823529481887817\n",
      "Val Accuracy        : 1.0\n",
      "Loss                : 0.019430628046393394\n",
      "Val Loss            : 0.0009739383822306991\n",
      "Learning Rate       : 0.000614125\n"
     ]
    },
    {
     "name": "stderr",
     "output_type": "stream",
     "text": [
      "Training model...: 100%|██████████| 17/17 [00:12<00:00,  1.31it/s]\n",
      "Validating Model...: 100%|██████████| 5/5 [00:03<00:00,  1.64it/s]\n"
     ]
    },
    {
     "name": "stdout",
     "output_type": "stream",
     "text": [
      "Train Accuracy      : 0.9154411554336548\n",
      "Val Accuracy        : 1.0\n",
      "Loss                : 0.01731787621974945\n",
      "Val Loss            : 0.0015669966815039515\n",
      "Learning Rate       : 0.000614125\n"
     ]
    },
    {
     "name": "stderr",
     "output_type": "stream",
     "text": [
      "Training model...: 100%|██████████| 17/17 [00:12<00:00,  1.31it/s]\n",
      "Validating Model...: 100%|██████████| 5/5 [00:03<00:00,  1.64it/s]\n"
     ]
    },
    {
     "name": "stdout",
     "output_type": "stream",
     "text": [
      "Train Accuracy      : 0.908088207244873\n",
      "Val Accuracy        : 1.0\n",
      "Loss                : 0.02105511724948883\n",
      "Val Loss            : 0.003876052564010024\n",
      "Learning Rate       : 0.000614125\n"
     ]
    },
    {
     "name": "stderr",
     "output_type": "stream",
     "text": [
      "Training model...: 100%|██████████| 17/17 [00:13<00:00,  1.31it/s]\n",
      "Validating Model...: 100%|██████████| 5/5 [00:03<00:00,  1.61it/s]\n"
     ]
    },
    {
     "name": "stdout",
     "output_type": "stream",
     "text": [
      "Train Accuracy      : 0.9007353186607361\n",
      "Val Accuracy        : 0.95652174949646\n",
      "Loss                : 0.01925455965101719\n",
      "Val Loss            : 0.010237997397780418\n",
      "Learning Rate       : 0.000614125\n"
     ]
    },
    {
     "name": "stderr",
     "output_type": "stream",
     "text": [
      "Training model...: 100%|██████████| 17/17 [00:13<00:00,  1.31it/s]\n",
      "Validating Model...: 100%|██████████| 5/5 [00:03<00:00,  1.64it/s]\n"
     ]
    },
    {
     "name": "stdout",
     "output_type": "stream",
     "text": [
      "Train Accuracy      : 0.908088207244873\n",
      "Val Accuracy        : 1.0\n",
      "Loss                : 0.01547100581228733\n",
      "Val Loss            : 0.0019821259193122387\n",
      "Learning Rate       : 0.000614125\n"
     ]
    },
    {
     "name": "stderr",
     "output_type": "stream",
     "text": [
      "Training model...: 100%|██████████| 17/17 [00:13<00:00,  1.29it/s]\n",
      "Validating Model...: 100%|██████████| 5/5 [00:03<00:00,  1.59it/s]\n"
     ]
    },
    {
     "name": "stdout",
     "output_type": "stream",
     "text": [
      "Train Accuracy      : 0.9375\n",
      "Val Accuracy        : 1.0\n",
      "Loss                : 0.012343117035925388\n",
      "Val Loss            : 0.00208040582947433\n",
      "Learning Rate       : 0.000614125\n"
     ]
    },
    {
     "name": "stderr",
     "output_type": "stream",
     "text": [
      "Training model...: 100%|██████████| 17/17 [00:13<00:00,  1.27it/s]\n",
      "Validating Model...: 100%|██████████| 5/5 [00:03<00:00,  1.53it/s]\n"
     ]
    },
    {
     "name": "stdout",
     "output_type": "stream",
     "text": [
      "Train Accuracy      : 0.9558823704719543\n",
      "Val Accuracy        : 1.0\n",
      "Loss                : 0.011042275466024876\n",
      "Val Loss            : 0.0020451999735087156\n",
      "Learning Rate       : 0.000614125\n"
     ]
    },
    {
     "name": "stderr",
     "output_type": "stream",
     "text": [
      "Training model...: 100%|██████████| 17/17 [00:13<00:00,  1.30it/s]\n",
      "Validating Model...: 100%|██████████| 5/5 [00:03<00:00,  1.64it/s]\n"
     ]
    },
    {
     "name": "stdout",
     "output_type": "stream",
     "text": [
      "Train Accuracy      : 0.908088207244873\n",
      "Val Accuracy        : 0.9855072498321533\n",
      "Loss                : 0.016632363200187683\n",
      "Val Loss            : 0.001690237782895565\n",
      "Learning Rate       : 0.000614125\n"
     ]
    },
    {
     "name": "stderr",
     "output_type": "stream",
     "text": [
      "Training model...: 100%|██████████| 17/17 [00:13<00:00,  1.31it/s]\n",
      "Validating Model...: 100%|██████████| 5/5 [00:03<00:00,  1.65it/s]\n"
     ]
    },
    {
     "name": "stdout",
     "output_type": "stream",
     "text": [
      "Train Accuracy      : 0.9117646813392639\n",
      "Val Accuracy        : 0.9855072498321533\n",
      "Loss                : 0.016199657693505287\n",
      "Val Loss            : 0.002155953086912632\n",
      "Learning Rate       : 0.000614125\n"
     ]
    },
    {
     "name": "stderr",
     "output_type": "stream",
     "text": [
      "Training model...: 100%|██████████| 17/17 [00:13<00:00,  1.30it/s]\n",
      "Validating Model...: 100%|██████████| 5/5 [00:03<00:00,  1.57it/s]\n"
     ]
    },
    {
     "name": "stdout",
     "output_type": "stream",
     "text": [
      "Train Accuracy      : 0.9227941036224365\n",
      "Val Accuracy        : 1.0\n",
      "Loss                : 0.01500443834811449\n",
      "Val Loss            : 0.0014824786921963096\n",
      "Learning Rate       : 0.000614125\n"
     ]
    },
    {
     "name": "stderr",
     "output_type": "stream",
     "text": [
      "Training model...: 100%|██████████| 17/17 [00:13<00:00,  1.30it/s]\n",
      "Validating Model...: 100%|██████████| 5/5 [00:03<00:00,  1.54it/s]\n"
     ]
    },
    {
     "name": "stdout",
     "output_type": "stream",
     "text": [
      "Train Accuracy      : 0.9227941036224365\n",
      "Val Accuracy        : 0.9855072498321533\n",
      "Loss                : 0.01631244271993637\n",
      "Val Loss            : 0.0035719936713576317\n",
      "Learning Rate       : 0.000614125\n"
     ]
    },
    {
     "name": "stderr",
     "output_type": "stream",
     "text": [
      "Training model...: 100%|██████████| 17/17 [00:13<00:00,  1.28it/s]\n",
      "Validating Model...: 100%|██████████| 5/5 [00:03<00:00,  1.59it/s]\n"
     ]
    },
    {
     "name": "stdout",
     "output_type": "stream",
     "text": [
      "Train Accuracy      : 0.9191176295280457\n",
      "Val Accuracy        : 1.0\n",
      "Loss                : 0.014606851153075695\n",
      "Val Loss            : 0.001855187234468758\n",
      "Learning Rate       : 0.000614125\n"
     ]
    },
    {
     "name": "stderr",
     "output_type": "stream",
     "text": [
      "Training model...: 100%|██████████| 17/17 [00:13<00:00,  1.26it/s]\n",
      "Validating Model...: 100%|██████████| 5/5 [00:03<00:00,  1.63it/s]\n"
     ]
    },
    {
     "name": "stdout",
     "output_type": "stream",
     "text": [
      "Train Accuracy      : 0.9338235259056091\n",
      "Val Accuracy        : 1.0\n",
      "Loss                : 0.013379924930632114\n",
      "Val Loss            : 0.0009938895236700773\n",
      "Learning Rate       : 0.000614125\n"
     ]
    },
    {
     "name": "stderr",
     "output_type": "stream",
     "text": [
      "Training model...: 100%|██████████| 17/17 [00:13<00:00,  1.30it/s]\n",
      "Validating Model...: 100%|██████████| 5/5 [00:03<00:00,  1.63it/s]\n"
     ]
    },
    {
     "name": "stdout",
     "output_type": "stream",
     "text": [
      "Train Accuracy      : 0.8933823704719543\n",
      "Val Accuracy        : 1.0\n",
      "Loss                : 0.0186242014169693\n",
      "Val Loss            : 0.0012779259122908115\n",
      "Learning Rate       : 0.000614125\n"
     ]
    },
    {
     "name": "stderr",
     "output_type": "stream",
     "text": [
      "Training model...: 100%|██████████| 17/17 [00:13<00:00,  1.31it/s]\n",
      "Validating Model...: 100%|██████████| 5/5 [00:03<00:00,  1.61it/s]\n"
     ]
    },
    {
     "name": "stdout",
     "output_type": "stream",
     "text": [
      "Train Accuracy      : 0.9264705777168274\n",
      "Val Accuracy        : 1.0\n",
      "Loss                : 0.013940106146037579\n",
      "Val Loss            : 0.0024452954530715942\n",
      "Learning Rate       : 0.000614125\n"
     ]
    },
    {
     "name": "stderr",
     "output_type": "stream",
     "text": [
      "Training model...: 100%|██████████| 17/17 [00:13<00:00,  1.28it/s]\n",
      "Validating Model...: 100%|██████████| 5/5 [00:03<00:00,  1.57it/s]\n"
     ]
    },
    {
     "name": "stdout",
     "output_type": "stream",
     "text": [
      "Train Accuracy      : 0.9191176295280457\n",
      "Val Accuracy        : 0.9710144996643066\n",
      "Loss                : 0.015063084661960602\n",
      "Val Loss            : 0.002620670711621642\n",
      "Learning Rate       : 0.000614125\n"
     ]
    },
    {
     "name": "stderr",
     "output_type": "stream",
     "text": [
      "Training model...: 100%|██████████| 17/17 [00:13<00:00,  1.29it/s]\n",
      "Validating Model...: 100%|██████████| 5/5 [00:03<00:00,  1.45it/s]\n"
     ]
    },
    {
     "name": "stdout",
     "output_type": "stream",
     "text": [
      "Train Accuracy      : 0.9227941036224365\n",
      "Val Accuracy        : 1.0\n",
      "Loss                : 0.015439935028553009\n",
      "Val Loss            : 0.0014822101220488548\n",
      "Learning Rate       : 0.00052200625\n"
     ]
    },
    {
     "name": "stderr",
     "output_type": "stream",
     "text": [
      "Training model...: 100%|██████████| 17/17 [00:13<00:00,  1.27it/s]\n",
      "Validating Model...: 100%|██████████| 5/5 [00:03<00:00,  1.62it/s]\n"
     ]
    },
    {
     "name": "stdout",
     "output_type": "stream",
     "text": [
      "Train Accuracy      : 0.9411764740943909\n",
      "Val Accuracy        : 1.0\n",
      "Loss                : 0.011283868923783302\n",
      "Val Loss            : 0.0012607271783053875\n",
      "Learning Rate       : 0.00052200625\n"
     ]
    },
    {
     "name": "stderr",
     "output_type": "stream",
     "text": [
      "Training model...: 100%|██████████| 17/17 [00:13<00:00,  1.27it/s]\n",
      "Validating Model...: 100%|██████████| 5/5 [00:03<00:00,  1.62it/s]\n"
     ]
    },
    {
     "name": "stdout",
     "output_type": "stream",
     "text": [
      "Train Accuracy      : 0.9411764740943909\n",
      "Val Accuracy        : 1.0\n",
      "Loss                : 0.013453160412609577\n",
      "Val Loss            : 0.0019123218953609467\n",
      "Learning Rate       : 0.00052200625\n"
     ]
    },
    {
     "name": "stderr",
     "output_type": "stream",
     "text": [
      "Training model...: 100%|██████████| 17/17 [00:13<00:00,  1.28it/s]\n",
      "Validating Model...: 100%|██████████| 5/5 [00:03<00:00,  1.63it/s]\n"
     ]
    },
    {
     "name": "stdout",
     "output_type": "stream",
     "text": [
      "Train Accuracy      : 0.9154411554336548\n",
      "Val Accuracy        : 1.0\n",
      "Loss                : 0.016872305423021317\n",
      "Val Loss            : 0.0010107599664479494\n",
      "Learning Rate       : 0.00052200625\n"
     ]
    },
    {
     "name": "stderr",
     "output_type": "stream",
     "text": [
      "Training model...: 100%|██████████| 17/17 [00:13<00:00,  1.29it/s]\n",
      "Validating Model...: 100%|██████████| 5/5 [00:03<00:00,  1.63it/s]\n"
     ]
    },
    {
     "name": "stdout",
     "output_type": "stream",
     "text": [
      "Train Accuracy      : 0.9117646813392639\n",
      "Val Accuracy        : 1.0\n",
      "Loss                : 0.016625327989459038\n",
      "Val Loss            : 0.0012517800787463784\n",
      "Learning Rate       : 0.00052200625\n"
     ]
    },
    {
     "name": "stderr",
     "output_type": "stream",
     "text": [
      "Training model...: 100%|██████████| 17/17 [00:13<00:00,  1.27it/s]\n",
      "Validating Model...: 100%|██████████| 5/5 [00:03<00:00,  1.62it/s]\n"
     ]
    },
    {
     "name": "stdout",
     "output_type": "stream",
     "text": [
      "Train Accuracy      : 0.9338235259056091\n",
      "Val Accuracy        : 1.0\n",
      "Loss                : 0.013936109840869904\n",
      "Val Loss            : 0.0012827967293560505\n",
      "Learning Rate       : 0.00052200625\n"
     ]
    },
    {
     "name": "stderr",
     "output_type": "stream",
     "text": [
      "Training model...: 100%|██████████| 17/17 [00:13<00:00,  1.28it/s]\n",
      "Validating Model...: 100%|██████████| 5/5 [00:03<00:00,  1.59it/s]\n"
     ]
    },
    {
     "name": "stdout",
     "output_type": "stream",
     "text": [
      "Train Accuracy      : 0.908088207244873\n",
      "Val Accuracy        : 1.0\n",
      "Loss                : 0.01595478691160679\n",
      "Val Loss            : 0.0019645891152322292\n",
      "Learning Rate       : 0.00052200625\n"
     ]
    },
    {
     "name": "stderr",
     "output_type": "stream",
     "text": [
      "Training model...: 100%|██████████| 17/17 [00:13<00:00,  1.29it/s]\n",
      "Validating Model...: 100%|██████████| 5/5 [00:03<00:00,  1.62it/s]\n"
     ]
    },
    {
     "name": "stdout",
     "output_type": "stream",
     "text": [
      "Train Accuracy      : 0.9301470518112183\n",
      "Val Accuracy        : 1.0\n",
      "Loss                : 0.017213817685842514\n",
      "Val Loss            : 0.00174847396556288\n",
      "Learning Rate       : 0.00052200625\n"
     ]
    },
    {
     "name": "stderr",
     "output_type": "stream",
     "text": [
      "Training model...: 100%|██████████| 17/17 [00:13<00:00,  1.30it/s]\n",
      "Validating Model...: 100%|██████████| 5/5 [00:03<00:00,  1.63it/s]\n"
     ]
    },
    {
     "name": "stdout",
     "output_type": "stream",
     "text": [
      "Train Accuracy      : 0.9191176295280457\n",
      "Val Accuracy        : 0.9855072498321533\n",
      "Loss                : 0.01679847575724125\n",
      "Val Loss            : 0.003469614079222083\n",
      "Learning Rate       : 0.00052200625\n"
     ]
    },
    {
     "name": "stderr",
     "output_type": "stream",
     "text": [
      "Training model...: 100%|██████████| 17/17 [00:13<00:00,  1.28it/s]\n",
      "Validating Model...: 100%|██████████| 5/5 [00:03<00:00,  1.65it/s]\n"
     ]
    },
    {
     "name": "stdout",
     "output_type": "stream",
     "text": [
      "Train Accuracy      : 0.9154411554336548\n",
      "Val Accuracy        : 1.0\n",
      "Loss                : 0.015415233559906483\n",
      "Val Loss            : 0.0016696556704118848\n",
      "Learning Rate       : 0.00052200625\n"
     ]
    },
    {
     "name": "stderr",
     "output_type": "stream",
     "text": [
      "Training model...: 100%|██████████| 17/17 [00:13<00:00,  1.31it/s]\n",
      "Validating Model...: 100%|██████████| 5/5 [00:03<00:00,  1.63it/s]\n"
     ]
    },
    {
     "name": "stdout",
     "output_type": "stream",
     "text": [
      "Train Accuracy      : 0.9264705777168274\n",
      "Val Accuracy        : 0.9855072498321533\n",
      "Loss                : 0.016759799793362617\n",
      "Val Loss            : 0.0022359841968864202\n",
      "Learning Rate       : 0.00052200625\n"
     ]
    },
    {
     "name": "stderr",
     "output_type": "stream",
     "text": [
      "Training model...: 100%|██████████| 17/17 [00:13<00:00,  1.29it/s]\n",
      "Validating Model...: 100%|██████████| 5/5 [00:03<00:00,  1.53it/s]\n"
     ]
    },
    {
     "name": "stdout",
     "output_type": "stream",
     "text": [
      "Train Accuracy      : 0.9485294222831726\n",
      "Val Accuracy        : 1.0\n",
      "Loss                : 0.011670767329633236\n",
      "Val Loss            : 0.0008761074277572334\n",
      "Learning Rate       : 0.00044370531249999997\n"
     ]
    },
    {
     "name": "stderr",
     "output_type": "stream",
     "text": [
      "Training model...: 100%|██████████| 17/17 [00:13<00:00,  1.26it/s]\n",
      "Validating Model...: 100%|██████████| 5/5 [00:03<00:00,  1.63it/s]\n"
     ]
    },
    {
     "name": "stdout",
     "output_type": "stream",
     "text": [
      "Train Accuracy      : 0.9301470518112183\n",
      "Val Accuracy        : 1.0\n",
      "Loss                : 0.013685761950910091\n",
      "Val Loss            : 0.0010145839769393206\n",
      "Learning Rate       : 0.00044370531249999997\n"
     ]
    },
    {
     "name": "stderr",
     "output_type": "stream",
     "text": [
      "Training model...: 100%|██████████| 17/17 [00:14<00:00,  1.19it/s]\n",
      "Validating Model...:  40%|████      | 2/5 [00:01<00:02,  1.20it/s]"
     ]
    }
   ],
   "source": [
    "\n",
    "\n",
    "epoch_log: EpochLogs\n",
    "for epoch_log in grid_search(\n",
    "    model_factory=AllCNN2D,\n",
    "    all_model_parameters=all_model_parameters,\n",
    "    optim_factory=AdamW,\n",
    "    all_optim_params=all_optim_parameters,\n",
    "    epochs=10000,\n",
    "    criterion=nn.CrossEntropyLoss(),\n",
    "    train_dataloader=train_dataloader,\n",
    "    val_dataloader=val_dataloader,\n",
    "    lr_decay_window_size=10,\n",
    "    lr_decay_minimum=0.0,\n",
    "    scheduler_scale=0.85,\n",
    "    device=\"cuda\"\n",
    "):\n",
    "    train_logpoints: list[LogPoint] = epoch_log.train_logs\n",
    "    val_logpoints: list[LogPoint] = epoch_log.val_logs\n",
    "    \n",
    "    \n",
    "    train_count: int = 0\n",
    "    val_count: int = 0\n",
    "    \n",
    "    train_losses_tally: float = 0.0\n",
    "    val_losses_tally: float = 0.0\n",
    "    \n",
    "    train_correct_tally: int = 0\n",
    "    val_correct_tally: int = 0\n",
    "    \n",
    "    for log_point in train_logpoints: \n",
    "        \n",
    "        y_hat_pred: torch.Tensor = torch.argmax(\n",
    "            log_point.y_hat, \n",
    "            axis=-1\n",
    "        ).detach().cpu()\n",
    "        \n",
    "        y_pred: torch.Tensor = torch.argmax(\n",
    "            log_point.y, axis=-1\n",
    "        ).detach().cpu()\n",
    "\n",
    "        train_correct_tally += torch.sum(y_hat_pred==y_pred)\n",
    "        \n",
    "        train_losses_tally += torch.sum(log_point.loss)\n",
    "        \n",
    "        train_count += len(y_hat_pred)\n",
    "        \n",
    "    for log_point in val_logpoints: \n",
    "        \n",
    "        y_hat_pred: torch.Tensor = torch.argmax(\n",
    "            log_point.y_hat, \n",
    "            axis=-1\n",
    "        ).detach().cpu()\n",
    "        \n",
    "        y_pred: torch.Tensor = torch.argmax(\n",
    "            log_point.y, axis=-1\n",
    "        ).detach().cpu()\n",
    "\n",
    "        val_correct_tally += torch.sum(y_hat_pred==y_pred)\n",
    "        \n",
    "        val_losses_tally += torch.sum(log_point.loss)\n",
    "        \n",
    "        val_count += len(y_hat_pred)\n",
    "        \n",
    "    train_accuracy: float = train_correct_tally/train_count\n",
    "    val_accuracy: float = val_correct_tally/val_count\n",
    "    \n",
    "    train_loss: float = train_losses_tally/train_count\n",
    "    val_loss: float = val_losses_tally/val_count\n",
    "    \n",
    "    cur_learning_rate: float = epoch_log.optimiser.param_groups[0][\"lr\"]\n",
    "    \n",
    "    model_checkpoint_path: str = os.path.join(\n",
    "        model_save_dirpath,\n",
    "        f\"{MODEL_NAME}_epoch{epoch_log.epoch}_trainacc{train_accuracy:.5}_valacc{val_accuracy:.5}_Tloss{train_loss:.5}_Vloss{val_loss:.5}_lr{cur_learning_rate}.pkl\"\n",
    "    )\n",
    "    \n",
    "    with open(model_checkpoint_path, \"wb\") as f:\n",
    "        torch.save(epoch_log.model.state_dict(), f)\n",
    "    \n",
    "    print(f\"Train Accuracy      : {train_accuracy}\")\n",
    "    print(f\"Val Accuracy        : {val_accuracy}\")\n",
    "    print(f\"Loss                : {train_loss}\")\n",
    "    print(f\"Val Loss            : {val_loss}\")\n",
    "    print(f\"Learning Rate       : {cur_learning_rate}\")\n",
    "    \n",
    "    log(\n",
    "        epoch_log.epoch,\n",
    "        train_accuracy,\n",
    "        train_loss,\n",
    "        val_accuracy,\n",
    "        val_loss,\n",
    "        cur_learning_rate\n",
    "    )"
   ]
  }
 ],
 "metadata": {
  "kernelspec": {
   "display_name": "Python 3",
   "language": "python",
   "name": "python3"
  },
  "language_info": {
   "codemirror_mode": {
    "name": "ipython",
    "version": 3
   },
   "file_extension": ".py",
   "mimetype": "text/x-python",
   "name": "python",
   "nbconvert_exporter": "python",
   "pygments_lexer": "ipython3",
   "version": "3.10.0"
  }
 },
 "nbformat": 4,
 "nbformat_minor": 2
}
