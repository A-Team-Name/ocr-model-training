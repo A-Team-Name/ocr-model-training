{
 "cells": [
  {
   "cell_type": "markdown",
   "metadata": {},
   "source": [
    "# Global Imports"
   ]
  },
  {
   "cell_type": "code",
   "execution_count": 1,
   "metadata": {},
   "outputs": [],
   "source": [
    "\n",
    "import torch\n",
    "import numpy as np\n",
    "import matplotlib.pyplot as plt\n",
    "import os\n",
    "from einops import rearrange\n",
    "from torch.utils.data import DataLoader\n",
    "from torch.optim import AdamW\n",
    "from torch import nn\n",
    "from typing import Any\n",
    "import glob\n",
    "import re\n",
    "from datetime import datetime\n",
    "import random\n",
    "\n",
    "random.seed(42)"
   ]
  },
  {
   "cell_type": "markdown",
   "metadata": {},
   "source": [
    "# Local Imports"
   ]
  },
  {
   "cell_type": "code",
   "execution_count": 2,
   "metadata": {},
   "outputs": [],
   "source": [
    "from training.train import EpochLogs, grid_search, LogPoint\n",
    "from dataset.character_dataset import CharImageDataset\n",
    "from models.allcnn2d import AllCNN2D"
   ]
  },
  {
   "cell_type": "markdown",
   "metadata": {},
   "source": [
    "# Globals"
   ]
  },
  {
   "cell_type": "code",
   "execution_count": 3,
   "metadata": {},
   "outputs": [],
   "source": [
    "DATASET_SPLIT: float = 0.8\n",
    "MODEL_NAME: str = \"Beta\""
   ]
  },
  {
   "cell_type": "markdown",
   "metadata": {},
   "source": [
    "# Define Paths\n",
    "Workspace"
   ]
  },
  {
   "cell_type": "code",
   "execution_count": 4,
   "metadata": {},
   "outputs": [],
   "source": [
    "notebook_dir: str = os.path.abspath(\".\")\n",
    "root_dir: str = os.path.join(\n",
    "    notebook_dir,\n",
    "    os.pardir,\n",
    "    os.pardir\n",
    ")\n",
    "\n",
    "data_dir: str = os.path.join(\n",
    "    root_dir,\n",
    "    \"data\",\n",
    "    \"lambda\"\n",
    ")\n",
    "\n",
    "model_save_dirpath: str = os.path.join(\n",
    "    root_dir,\n",
    "    \"models\",\n",
    "    \"allcnn\"\n",
    ")\n"
   ]
  },
  {
   "cell_type": "markdown",
   "metadata": {},
   "source": [
    "Image paths"
   ]
  },
  {
   "cell_type": "code",
   "execution_count": 5,
   "metadata": {},
   "outputs": [],
   "source": [
    "\n",
    "images_path_glob: str = os.path.join(\n",
    "    data_dir,\n",
    "    \"u*.png\"\n",
    ")\n",
    "images_path_regex: str = r\"(u[0-9a-fA-F]+)-([0-9]+)\\.png\"\n",
    "\n",
    "image_paths: list[str] = glob.glob(images_path_glob)\n",
    "random.shuffle(image_paths)\n"
   ]
  },
  {
   "cell_type": "markdown",
   "metadata": {},
   "source": [
    "# Helper Functions"
   ]
  },
  {
   "cell_type": "code",
   "execution_count": 6,
   "metadata": {},
   "outputs": [],
   "source": [
    "def get_current_time() -> str:\n",
    "    return datetime.now().strftime(\"%Y-%m-%d-%H-%M-%S\")\n"
   ]
  },
  {
   "cell_type": "markdown",
   "metadata": {},
   "source": [
    "# Logging Setup "
   ]
  },
  {
   "cell_type": "code",
   "execution_count": 7,
   "metadata": {},
   "outputs": [],
   "source": [
    "\n",
    "logging_path: str = f\"{MODEL_NAME}_log_{get_current_time()}.csv\"\n",
    "\n",
    "with open(logging_path, \"w\") as f:\n",
    "    f.write(\"TIME,EPOCH,TRAIN_ACC,VAL_ACC,TRAIN_LOSS,VAL_LOSS,LR\\n\")\n",
    "\n",
    "def log(\n",
    "    epoch: int,\n",
    "    train_acc: float, \n",
    "    train_loss: float, \n",
    "    val_acc: float, \n",
    "    val_loss, \n",
    "    lr: float\n",
    ")-> None:\n",
    "    with open(logging_path, \"a\") as f:\n",
    "        f.write(f\"{get_current_time()},{epoch},{train_acc},{val_acc},{train_loss},{val_loss},{lr}\\n\")"
   ]
  },
  {
   "cell_type": "markdown",
   "metadata": {},
   "source": [
    "# Extract Labels"
   ]
  },
  {
   "cell_type": "code",
   "execution_count": 8,
   "metadata": {},
   "outputs": [],
   "source": [
    "\n",
    "labeled_image_paths: list[tuple[str, str]] = []\n",
    "\n",
    "file_path: str\n",
    "for file_path in image_paths:\n",
    "    match = re.search(images_path_regex, file_path)\n",
    "    \n",
    "    if not match:\n",
    "        continue\n",
    "    \n",
    "    u_hexvalue: str = match.group(1)\n",
    "    labeled_image_paths.append((u_hexvalue, file_path))\n",
    "\n",
    "labels: list[str]\n",
    "image_paths: list[str]\n",
    "labels, image_paths =  list(zip(*labeled_image_paths))\n"
   ]
  },
  {
   "cell_type": "markdown",
   "metadata": {},
   "source": [
    "# Load Dataset"
   ]
  },
  {
   "cell_type": "code",
   "execution_count": 9,
   "metadata": {},
   "outputs": [],
   "source": [
    "\n",
    "split_index: int = int(len(image_paths)*DATASET_SPLIT)\n",
    "all_label_classes: list[str] = list(set(labels))\n",
    "\n",
    "train_char_dataset: CharImageDataset = CharImageDataset(\n",
    "    file_paths=image_paths[:split_index],\n",
    "    labels=labels[:split_index],\n",
    "    all_label_classes=all_label_classes,\n",
    "    rotation_limit=0.1,\n",
    "    translation_limit=0.2,\n",
    "    skew_limit=0.05,\n",
    "    zoom_change=0.3,\n",
    "    image_dims=(64, 64)\n",
    ")\n",
    "\n",
    "val_char_dataset: CharImageDataset = CharImageDataset(\n",
    "    file_paths=image_paths[split_index:],\n",
    "    labels=labels[split_index:],\n",
    "    all_label_classes=all_label_classes,\n",
    "    rotation_limit=0.0,\n",
    "    translation_limit=0.0,\n",
    "    skew_limit=0.00,\n",
    "    zoom_change=0.0,\n",
    "    image_dims=(64, 64)\n",
    ")\n",
    "\n",
    "\n"
   ]
  },
  {
   "cell_type": "code",
   "execution_count": 10,
   "metadata": {},
   "outputs": [
    {
     "data": {
      "image/png": "[encoded data removed]",
      "text/plain": [
       "<Figure size 640x480 with 1 Axes>"
      ]
     },
     "metadata": {},
     "output_type": "display_data"
    },
    {
     "name": "stdout",
     "output_type": "stream",
     "text": [
      "tensor([0., 0., 0., 0., 0., 1., 0.])\n"
     ]
    }
   ],
   "source": [
    "for im, lab in train_char_dataset:\n",
    "    plt.imshow(rearrange(im, \"1 h w -> h w\")*255, cmap=\"gray\")\n",
    "    plt.show()\n",
    "    print(lab)\n",
    "    break"
   ]
  },
  {
   "cell_type": "code",
   "execution_count": 11,
   "metadata": {},
   "outputs": [
    {
     "data": {
      "image/png": "[encoded data removed]",
      "text/plain": [
       "<Figure size 640x480 with 1 Axes>"
      ]
     },
     "metadata": {},
     "output_type": "display_data"
    },
    {
     "name": "stdout",
     "output_type": "stream",
     "text": [
      "tensor([0., 0., 1., 0., 0., 0., 0.])\n"
     ]
    }
   ],
   "source": [
    "for im, lab in val_char_dataset:\n",
    "    plt.imshow(rearrange(im, \"1 h w -> h w\")*255, cmap=\"gray\")\n",
    "    plt.show()\n",
    "    print(lab)\n",
    "    break"
   ]
  },
  {
   "cell_type": "markdown",
   "metadata": {},
   "source": [
    "# Load DataLoader"
   ]
  },
  {
   "cell_type": "code",
   "execution_count": 12,
   "metadata": {},
   "outputs": [],
   "source": [
    "train_dataloader: DataLoader = DataLoader(\n",
    "    train_char_dataset,\n",
    "    shuffle=True,\n",
    "    batch_size=16\n",
    ")\n",
    "\n",
    "val_dataloader: DataLoader = DataLoader(\n",
    "    val_char_dataset,\n",
    "    shuffle=False,\n",
    "    batch_size=16\n",
    ")"
   ]
  },
  {
   "cell_type": "markdown",
   "metadata": {},
   "source": [
    "# Define Model Hyperparameters"
   ]
  },
  {
   "cell_type": "code",
   "execution_count": 13,
   "metadata": {},
   "outputs": [],
   "source": [
    "\n",
    "model_checkpoint_path: str = os.path.join(\n",
    "    model_save_dirpath,\n",
    "    \"AlphaAllCNN_epoch8_trainacc0.30147_valacc0.014493.pkl\"\n",
    ")\n",
    "\n",
    "all_model_parameters: list[dict[str, Any]] = [\n",
    "    {\n",
    "        \"conv_features\": (1, 16, 16, 16, 16, 16, 16, 32),\n",
    "        \"fully_connected_features\": (32,7),\n",
    "        \"expected_input_size\": (64, 64),\n",
    "        \"device\": \"cuda\",\n",
    "        \"conv_dropout\": 0.1,\n",
    "        \"verbose\": True,\n",
    "        \"name_prefix\": MODEL_NAME,\n",
    "        \"checkpoint_path\": model_checkpoint_path\n",
    "    }\n",
    "]\n",
    "\n",
    "all_optim_parameters: list[dict[str, Any]] = [\n",
    "    {\n",
    "        \"lr\": 0.001,\n",
    "        \"weight_decay\": 0.0001\n",
    "    }\n",
    "]\n"
   ]
  },
  {
   "cell_type": "code",
   "execution_count": 14,
   "metadata": {},
   "outputs": [
    {
     "data": {
      "text/plain": [
       "5"
      ]
     },
     "execution_count": 14,
     "metadata": {},
     "output_type": "execute_result"
    }
   ],
   "source": [
    "len(val_dataloader)"
   ]
  },
  {
   "cell_type": "markdown",
   "metadata": {},
   "source": [
    "# Train"
   ]
  },
  {
   "cell_type": "code",
   "execution_count": null,
   "metadata": {},
   "outputs": [
    {
     "name": "stdout",
     "output_type": "stream",
     "text": [
      "Loaded: encoder_conv_blocks.0.0.weight"
     ]
    },
    {
     "name": "stderr",
     "output_type": "stream",
     "text": [
      "c:\\Users\\Leon\\AppData\\Local\\Programs\\Python\\Python310\\lib\\site-packages\\torch\\_utils.py:831: UserWarning: TypedStorage is deprecated. It will be removed in the future and UntypedStorage will be the only storage class. This should only matter to you if you are using storages directly.  To access UntypedStorage directly, use tensor.untyped_storage() instead of tensor.storage()\n",
      "  return self.fget.__get__(instance, owner)()\n"
     ]
    },
    {
     "name": "stdout",
     "output_type": "stream",
     "text": [
      "\n",
      "Loaded: encoder_conv_blocks.0.0.bias\n",
      "Loaded: encoder_conv_blocks.0.2.weight\n",
      "Loaded: encoder_conv_blocks.0.2.bias\n",
      "Loaded: encoder_conv_blocks.0.2.running_mean\n",
      "Loaded: encoder_conv_blocks.0.2.running_var\n",
      "Loaded: encoder_conv_blocks.0.2.num_batches_tracked\n",
      "Loaded: encoder_conv_blocks.0.4.weight\n",
      "Loaded: encoder_conv_blocks.0.4.bias\n",
      "Loaded: encoder_conv_blocks.0.6.weight\n",
      "Loaded: encoder_conv_blocks.0.6.bias\n",
      "Loaded: encoder_conv_blocks.0.6.running_mean\n",
      "Loaded: encoder_conv_blocks.0.6.running_var\n",
      "Loaded: encoder_conv_blocks.0.6.num_batches_tracked\n",
      "Skipping encoder_conv_blocks.1.0.weight:  loaded size:torch.Size([32, 16, 3, 3]) != model size:  torch.Size([16, 16, 3, 3])\n",
      "Skipping encoder_conv_blocks.1.0.bias:  loaded size:torch.Size([32]) != model size:  torch.Size([16])\n",
      "Skipping encoder_conv_blocks.1.2.weight:  loaded size:torch.Size([32]) != model size:  torch.Size([16])\n",
      "Skipping encoder_conv_blocks.1.2.bias:  loaded size:torch.Size([32]) != model size:  torch.Size([16])\n",
      "Skipping encoder_conv_blocks.1.2.running_mean:  loaded size:torch.Size([32]) != model size:  torch.Size([16])\n",
      "Skipping encoder_conv_blocks.1.2.running_var:  loaded size:torch.Size([32]) != model size:  torch.Size([16])\n",
      "Loaded: encoder_conv_blocks.1.2.num_batches_tracked\n",
      "Skipping encoder_conv_blocks.1.4.weight:  loaded size:torch.Size([32, 32, 3, 3]) != model size:  torch.Size([16, 16, 3, 3])\n",
      "Skipping encoder_conv_blocks.1.4.bias:  loaded size:torch.Size([32]) != model size:  torch.Size([16])\n",
      "Skipping encoder_conv_blocks.1.6.weight:  loaded size:torch.Size([32]) != model size:  torch.Size([16])\n",
      "Skipping encoder_conv_blocks.1.6.bias:  loaded size:torch.Size([32]) != model size:  torch.Size([16])\n",
      "Skipping encoder_conv_blocks.1.6.running_mean:  loaded size:torch.Size([32]) != model size:  torch.Size([16])\n",
      "Skipping encoder_conv_blocks.1.6.running_var:  loaded size:torch.Size([32]) != model size:  torch.Size([16])\n",
      "Loaded: encoder_conv_blocks.1.6.num_batches_tracked\n",
      "Skipping encoder_conv_blocks.2.0.weight:  loaded size:torch.Size([32, 32, 3, 3]) != model size:  torch.Size([16, 16, 3, 3])\n",
      "Skipping encoder_conv_blocks.2.0.bias:  loaded size:torch.Size([32]) != model size:  torch.Size([16])\n",
      "Skipping encoder_conv_blocks.2.2.weight:  loaded size:torch.Size([32]) != model size:  torch.Size([16])\n",
      "Skipping encoder_conv_blocks.2.2.bias:  loaded size:torch.Size([32]) != model size:  torch.Size([16])\n",
      "Skipping encoder_conv_blocks.2.2.running_mean:  loaded size:torch.Size([32]) != model size:  torch.Size([16])\n",
      "Skipping encoder_conv_blocks.2.2.running_var:  loaded size:torch.Size([32]) != model size:  torch.Size([16])\n",
      "Loaded: encoder_conv_blocks.2.2.num_batches_tracked\n",
      "Skipping encoder_conv_blocks.2.4.weight:  loaded size:torch.Size([32, 32, 3, 3]) != model size:  torch.Size([16, 16, 3, 3])\n",
      "Skipping encoder_conv_blocks.2.4.bias:  loaded size:torch.Size([32]) != model size:  torch.Size([16])\n",
      "Skipping encoder_conv_blocks.2.6.weight:  loaded size:torch.Size([32]) != model size:  torch.Size([16])\n",
      "Skipping encoder_conv_blocks.2.6.bias:  loaded size:torch.Size([32]) != model size:  torch.Size([16])\n",
      "Skipping encoder_conv_blocks.2.6.running_mean:  loaded size:torch.Size([32]) != model size:  torch.Size([16])\n",
      "Skipping encoder_conv_blocks.2.6.running_var:  loaded size:torch.Size([32]) != model size:  torch.Size([16])\n",
      "Loaded: encoder_conv_blocks.2.6.num_batches_tracked\n",
      "Skipping encoder_conv_blocks.3.0.weight:  loaded size:torch.Size([32, 32, 3, 3]) != model size:  torch.Size([16, 16, 3, 3])\n",
      "Skipping encoder_conv_blocks.3.0.bias:  loaded size:torch.Size([32]) != model size:  torch.Size([16])\n",
      "Skipping encoder_conv_blocks.3.2.weight:  loaded size:torch.Size([32]) != model size:  torch.Size([16])\n",
      "Skipping encoder_conv_blocks.3.2.bias:  loaded size:torch.Size([32]) != model size:  torch.Size([16])\n",
      "Skipping encoder_conv_blocks.3.2.running_mean:  loaded size:torch.Size([32]) != model size:  torch.Size([16])\n",
      "Skipping encoder_conv_blocks.3.2.running_var:  loaded size:torch.Size([32]) != model size:  torch.Size([16])\n",
      "Loaded: encoder_conv_blocks.3.2.num_batches_tracked\n",
      "Skipping encoder_conv_blocks.3.4.weight:  loaded size:torch.Size([32, 32, 3, 3]) != model size:  torch.Size([16, 16, 3, 3])\n",
      "Skipping encoder_conv_blocks.3.4.bias:  loaded size:torch.Size([32]) != model size:  torch.Size([16])\n",
      "Skipping encoder_conv_blocks.3.6.weight:  loaded size:torch.Size([32]) != model size:  torch.Size([16])\n",
      "Skipping encoder_conv_blocks.3.6.bias:  loaded size:torch.Size([32]) != model size:  torch.Size([16])\n",
      "Skipping encoder_conv_blocks.3.6.running_mean:  loaded size:torch.Size([32]) != model size:  torch.Size([16])\n",
      "Skipping encoder_conv_blocks.3.6.running_var:  loaded size:torch.Size([32]) != model size:  torch.Size([16])\n",
      "Loaded: encoder_conv_blocks.3.6.num_batches_tracked\n",
      "Skipping fully_connected_blocks.0.0.weight:  loaded size:torch.Size([32, 512]) != model size:  torch.Size([32, 32])\n",
      "Loaded: fully_connected_blocks.0.0.bias\n",
      "Loaded: fully_connected_blocks.1.0.weight\n",
      "Loaded: fully_connected_blocks.1.0.bias\n",
      "==========================================================================================\n",
      "Layer (type:depth-idx)                   Output Shape              Param #\n",
      "==========================================================================================\n",
      "AllCNN2D                                 [1, 7]                    --\n",
      "├─ModuleList: 1-1                        --                        --\n",
      "│    └─Sequential: 2-1                   [1, 16, 32, 32]           --\n",
      "│    │    └─Conv2d: 3-1                  [1, 16, 64, 64]           160\n",
      "│    │    └─Dropout2d: 3-2               [1, 16, 64, 64]           --\n",
      "│    │    └─BatchNorm2d: 3-3             [1, 16, 64, 64]           32\n",
      "│    │    └─LeakyReLU: 3-4               [1, 16, 64, 64]           --\n",
      "│    │    └─Conv2d: 3-5                  [1, 16, 32, 32]           2,320\n",
      "│    │    └─Dropout2d: 3-6               [1, 16, 32, 32]           --\n",
      "│    │    └─BatchNorm2d: 3-7             [1, 16, 32, 32]           32\n",
      "│    │    └─LeakyReLU: 3-8               [1, 16, 32, 32]           --\n",
      "│    └─Sequential: 2-2                   [1, 16, 16, 16]           --\n",
      "│    │    └─Conv2d: 3-9                  [1, 16, 32, 32]           2,320\n",
      "│    │    └─Dropout2d: 3-10              [1, 16, 32, 32]           --\n",
      "│    │    └─BatchNorm2d: 3-11            [1, 16, 32, 32]           32\n",
      "│    │    └─LeakyReLU: 3-12              [1, 16, 32, 32]           --\n",
      "│    │    └─Conv2d: 3-13                 [1, 16, 16, 16]           2,320\n",
      "│    │    └─Dropout2d: 3-14              [1, 16, 16, 16]           --\n",
      "│    │    └─BatchNorm2d: 3-15            [1, 16, 16, 16]           32\n",
      "│    │    └─LeakyReLU: 3-16              [1, 16, 16, 16]           --\n",
      "│    └─Sequential: 2-3                   [1, 16, 8, 8]             --\n",
      "│    │    └─Conv2d: 3-17                 [1, 16, 16, 16]           2,320\n",
      "│    │    └─Dropout2d: 3-18              [1, 16, 16, 16]           --\n",
      "│    │    └─BatchNorm2d: 3-19            [1, 16, 16, 16]           32\n",
      "│    │    └─LeakyReLU: 3-20              [1, 16, 16, 16]           --\n",
      "│    │    └─Conv2d: 3-21                 [1, 16, 8, 8]             2,320\n",
      "│    │    └─Dropout2d: 3-22              [1, 16, 8, 8]             --\n",
      "│    │    └─BatchNorm2d: 3-23            [1, 16, 8, 8]             32\n",
      "│    │    └─LeakyReLU: 3-24              [1, 16, 8, 8]             --\n",
      "│    └─Sequential: 2-4                   [1, 16, 4, 4]             --\n",
      "│    │    └─Conv2d: 3-25                 [1, 16, 8, 8]             2,320\n",
      "│    │    └─Dropout2d: 3-26              [1, 16, 8, 8]             --\n",
      "│    │    └─BatchNorm2d: 3-27            [1, 16, 8, 8]             32\n",
      "│    │    └─LeakyReLU: 3-28              [1, 16, 8, 8]             --\n",
      "│    │    └─Conv2d: 3-29                 [1, 16, 4, 4]             2,320\n",
      "│    │    └─Dropout2d: 3-30              [1, 16, 4, 4]             --\n",
      "│    │    └─BatchNorm2d: 3-31            [1, 16, 4, 4]             32\n",
      "│    │    └─LeakyReLU: 3-32              [1, 16, 4, 4]             --\n",
      "│    └─Sequential: 2-5                   [1, 16, 2, 2]             --\n",
      "│    │    └─Conv2d: 3-33                 [1, 16, 4, 4]             2,320\n",
      "│    │    └─Dropout2d: 3-34              [1, 16, 4, 4]             --\n",
      "│    │    └─BatchNorm2d: 3-35            [1, 16, 4, 4]             32\n",
      "│    │    └─LeakyReLU: 3-36              [1, 16, 4, 4]             --\n",
      "│    │    └─Conv2d: 3-37                 [1, 16, 2, 2]             2,320\n",
      "│    │    └─Dropout2d: 3-38              [1, 16, 2, 2]             --\n",
      "│    │    └─BatchNorm2d: 3-39            [1, 16, 2, 2]             32\n",
      "│    │    └─LeakyReLU: 3-40              [1, 16, 2, 2]             --\n",
      "│    └─Sequential: 2-6                   [1, 16, 1, 1]             --\n",
      "│    │    └─Conv2d: 3-41                 [1, 16, 2, 2]             2,320\n",
      "│    │    └─Dropout2d: 3-42              [1, 16, 2, 2]             --\n",
      "│    │    └─BatchNorm2d: 3-43            [1, 16, 2, 2]             32\n",
      "│    │    └─LeakyReLU: 3-44              [1, 16, 2, 2]             --\n",
      "│    │    └─Conv2d: 3-45                 [1, 16, 1, 1]             2,320\n",
      "│    │    └─Dropout2d: 3-46              [1, 16, 1, 1]             --\n",
      "│    │    └─BatchNorm2d: 3-47            [1, 16, 1, 1]             32\n",
      "│    │    └─LeakyReLU: 3-48              [1, 16, 1, 1]             --\n",
      "│    └─Sequential: 2-7                   [1, 32, 1, 1]             --\n",
      "│    │    └─Conv2d: 3-49                 [1, 32, 1, 1]             4,640\n",
      "│    │    └─Dropout2d: 3-50              [1, 32, 1, 1]             --\n",
      "│    │    └─BatchNorm2d: 3-51            [1, 32, 1, 1]             64\n",
      "│    │    └─LeakyReLU: 3-52              [1, 32, 1, 1]             --\n",
      "│    │    └─Conv2d: 3-53                 [1, 32, 1, 1]             9,248\n",
      "│    │    └─Dropout2d: 3-54              [1, 32, 1, 1]             --\n",
      "│    │    └─BatchNorm2d: 3-55            [1, 32, 1, 1]             64\n",
      "│    │    └─LeakyReLU: 3-56              [1, 32, 1, 1]             --\n",
      "├─Sequential: 1-2                        [1, 32]                   --\n",
      "│    └─Flatten: 2-8                      [1, 32]                   --\n",
      "├─ModuleList: 1-3                        --                        --\n",
      "│    └─Sequential: 2-9                   [1, 32]                   --\n",
      "│    │    └─Linear: 3-57                 [1, 32]                   1,056\n",
      "│    │    └─Dropout: 3-58                [1, 32]                   --\n",
      "│    │    └─LeakyReLU: 3-59              [1, 32]                   --\n",
      "│    └─Sequential: 2-10                  [1, 7]                    --\n",
      "│    │    └─Linear: 3-60                 [1, 7]                    231\n",
      "==========================================================================================\n",
      "Total params: 41,367\n",
      "Trainable params: 41,367\n",
      "Non-trainable params: 0\n",
      "Total mult-adds (M): 7.00\n",
      "==========================================================================================\n",
      "Input size (MB): 0.02\n",
      "Forward/backward pass size (MB): 1.75\n",
      "Params size (MB): 0.17\n",
      "Estimated Total Size (MB): 1.93\n",
      "==========================================================================================\n"
     ]
    },
    {
     "name": "stderr",
     "output_type": "stream",
     "text": [
      "Training model...: 100%|██████████| 17/17 [00:13<00:00,  1.25it/s]\n",
      "Validating Model...: 100%|██████████| 5/5 [00:03<00:00,  1.60it/s]\n"
     ]
    },
    {
     "name": "stdout",
     "output_type": "stream",
     "text": [
      "Train Accuracy      : 0.13970588147640228\n",
      "Val Accuracy        : 0.15942029654979706\n",
      "Loss                : 0.12204380333423615\n",
      "Val Loss            : 0.14026100933551788\n",
      "Learning Rate       : 0.001\n"
     ]
    },
    {
     "name": "stderr",
     "output_type": "stream",
     "text": [
      "Training model...: 100%|██████████| 17/17 [00:13<00:00,  1.30it/s]\n",
      "Validating Model...: 100%|██████████| 5/5 [00:03<00:00,  1.62it/s]\n"
     ]
    },
    {
     "name": "stdout",
     "output_type": "stream",
     "text": [
      "Train Accuracy      : 0.1875\n",
      "Val Accuracy        : 0.15942029654979706\n",
      "Loss                : 0.12122810631990433\n",
      "Val Loss            : 0.14200758934020996\n",
      "Learning Rate       : 0.001\n"
     ]
    },
    {
     "name": "stderr",
     "output_type": "stream",
     "text": [
      "Training model...: 100%|██████████| 17/17 [00:13<00:00,  1.27it/s]\n",
      "Validating Model...: 100%|██████████| 5/5 [00:03<00:00,  1.64it/s]\n"
     ]
    },
    {
     "name": "stdout",
     "output_type": "stream",
     "text": [
      "Train Accuracy      : 0.20955882966518402\n",
      "Val Accuracy        : 0.18840579688549042\n",
      "Loss                : 0.11911924928426743\n",
      "Val Loss            : 0.14152903854846954\n",
      "Learning Rate       : 0.001\n"
     ]
    },
    {
     "name": "stderr",
     "output_type": "stream",
     "text": [
      "Training model...: 100%|██████████| 17/17 [00:13<00:00,  1.26it/s]\n",
      "Validating Model...: 100%|██████████| 5/5 [00:03<00:00,  1.58it/s]\n"
     ]
    },
    {
     "name": "stdout",
     "output_type": "stream",
     "text": [
      "Train Accuracy      : 0.24632352590560913\n",
      "Val Accuracy        : 0.21739129722118378\n",
      "Loss                : 0.11732690036296844\n",
      "Val Loss            : 0.1349598467350006\n",
      "Learning Rate       : 0.001\n"
     ]
    },
    {
     "name": "stderr",
     "output_type": "stream",
     "text": [
      "Training model...: 100%|██████████| 17/17 [00:13<00:00,  1.26it/s]\n",
      "Validating Model...: 100%|██████████| 5/5 [00:03<00:00,  1.58it/s]\n"
     ]
    },
    {
     "name": "stdout",
     "output_type": "stream",
     "text": [
      "Train Accuracy      : 0.24632352590560913\n",
      "Val Accuracy        : 0.3333333432674408\n",
      "Loss                : 0.11412256211042404\n",
      "Val Loss            : 0.12754669785499573\n",
      "Learning Rate       : 0.001\n"
     ]
    },
    {
     "name": "stderr",
     "output_type": "stream",
     "text": [
      "Training model...: 100%|██████████| 17/17 [00:13<00:00,  1.26it/s]\n",
      "Validating Model...: 100%|██████████| 5/5 [00:03<00:00,  1.62it/s]\n"
     ]
    },
    {
     "name": "stdout",
     "output_type": "stream",
     "text": [
      "Train Accuracy      : 0.25735294818878174\n",
      "Val Accuracy        : 0.21739129722118378\n",
      "Loss                : 0.11113856732845306\n",
      "Val Loss            : 0.12262692302465439\n",
      "Learning Rate       : 0.001\n"
     ]
    },
    {
     "name": "stderr",
     "output_type": "stream",
     "text": [
      "Training model...: 100%|██████████| 17/17 [00:13<00:00,  1.29it/s]\n",
      "Validating Model...: 100%|██████████| 5/5 [00:03<00:00,  1.59it/s]\n"
     ]
    },
    {
     "name": "stdout",
     "output_type": "stream",
     "text": [
      "Train Accuracy      : 0.24632352590560913\n",
      "Val Accuracy        : 0.23188406229019165\n",
      "Loss                : 0.11075931787490845\n",
      "Val Loss            : 0.11928322166204453\n",
      "Learning Rate       : 0.001\n"
     ]
    },
    {
     "name": "stderr",
     "output_type": "stream",
     "text": [
      "Training model...:  65%|██████▍   | 11/17 [00:08<00:04,  1.23it/s]"
     ]
    }
   ],
   "source": [
    "\n",
    "for epoch in range(10000):\n",
    "\n",
    "    epoch_log: EpochLogs\n",
    "    for epoch_log in grid_search(\n",
    "        model_factory=AllCNN2D,\n",
    "        all_model_parameters=all_model_parameters,\n",
    "        optim_factory=AdamW,\n",
    "        all_optim_params=all_optim_parameters,\n",
    "        epochs=100,\n",
    "        criterion=nn.CrossEntropyLoss(),\n",
    "        train_dataloader=train_dataloader,\n",
    "        val_dataloader=val_dataloader,\n",
    "        lr_decay_window_size=10,\n",
    "        lr_decay_minimum=0.0,\n",
    "        scheduler_scale=0.5,\n",
    "        device=\"cuda\"\n",
    "    ):\n",
    "        train_logpoints: list[LogPoint] = epoch_log.train_logs\n",
    "        val_logpoints: list[LogPoint] = epoch_log.val_logs\n",
    "        \n",
    "        \n",
    "        train_count: int = 0\n",
    "        val_count: int = 0\n",
    "        \n",
    "        train_losses_tally: float = 0.0\n",
    "        val_losses_tally: float = 0.0\n",
    "        \n",
    "        train_correct_tally: int = 0\n",
    "        val_correct_tally: int = 0\n",
    "        \n",
    "        for log_point in train_logpoints: \n",
    "            \n",
    "            y_hat_pred: torch.Tensor = torch.argmax(\n",
    "                log_point.y_hat, \n",
    "                axis=-1\n",
    "            ).detach().cpu()\n",
    "            \n",
    "            y_pred: torch.Tensor = torch.argmax(\n",
    "                log_point.y, axis=-1\n",
    "            ).detach().cpu()\n",
    "\n",
    "            train_correct_tally += torch.sum(y_hat_pred==y_pred)\n",
    "            \n",
    "            train_losses_tally += torch.sum(log_point.loss)\n",
    "            \n",
    "            train_count += len(y_hat_pred)\n",
    "            \n",
    "        for log_point in val_logpoints: \n",
    "            \n",
    "            y_hat_pred: torch.Tensor = torch.argmax(\n",
    "                log_point.y_hat, \n",
    "                axis=-1\n",
    "            ).detach().cpu()\n",
    "            \n",
    "            y_pred: torch.Tensor = torch.argmax(\n",
    "                log_point.y, axis=-1\n",
    "            ).detach().cpu()\n",
    "\n",
    "            val_correct_tally += torch.sum(y_hat_pred==y_pred)\n",
    "            \n",
    "            val_losses_tally += torch.sum(log_point.loss)\n",
    "            \n",
    "            val_count += len(y_hat_pred)\n",
    "            \n",
    "        train_accuracy: float = train_correct_tally/train_count\n",
    "        val_accuracy: float = val_correct_tally/val_count\n",
    "        \n",
    "        train_loss: float = train_losses_tally/train_count\n",
    "        val_loss: float = val_losses_tally/val_count\n",
    "        \n",
    "        cur_learning_rate: float = epoch_log.optimiser.param_groups[0][\"lr\"]\n",
    "        \n",
    "        model_checkpoint_path: str = os.path.join(\n",
    "            model_save_dirpath,\n",
    "            f\"{MODEL_NAME}_epoch{epoch_log.epoch}_trainacc{train_accuracy:.5}_valacc{val_accuracy:.5}.pkl\"\n",
    "        )\n",
    "        \n",
    "        with open(model_checkpoint_path, \"wb\") as f:\n",
    "            torch.save(epoch_log.model.state_dict(), f)\n",
    "        \n",
    "        print(f\"Train Accuracy      : {train_accuracy}\")\n",
    "        print(f\"Val Accuracy        : {val_accuracy}\")\n",
    "        print(f\"Loss                : {train_loss}\")\n",
    "        print(f\"Val Loss            : {val_loss}\")\n",
    "        print(f\"Learning Rate       : {cur_learning_rate}\")\n",
    "        \n",
    "        log(\n",
    "            epoch_log.epoch,\n",
    "            train_accuracy,\n",
    "            train_loss,\n",
    "            val_accuracy,\n",
    "            val_loss,\n",
    "            cur_learning_rate\n",
    "        )"
   ]
  }
 ],
 "metadata": {
  "kernelspec": {
   "display_name": "Python 3",
   "language": "python",
   "name": "python3"
  },
  "language_info": {
   "codemirror_mode": {
    "name": "ipython",
    "version": 3
   },
   "file_extension": ".py",
   "mimetype": "text/x-python",
   "name": "python",
   "nbconvert_exporter": "python",
   "pygments_lexer": "ipython3",
   "version": "3.10.0"
  }
 },
 "nbformat": 4,
 "nbformat_minor": 2
}
