{
 "cells": [
  {
   "cell_type": "markdown",
   "metadata": {},
   "source": [
    "# Global Imports"
   ]
  },
  {
   "cell_type": "code",
   "execution_count": 1,
   "metadata": {},
   "outputs": [],
   "source": [
    "\n",
    "import torch\n",
    "import numpy as np\n",
    "import matplotlib.pyplot as plt\n",
    "import os\n",
    "from einops import rearrange\n",
    "from torch.utils.data import DataLoader\n",
    "from torch.optim import AdamW\n",
    "from torch import nn\n",
    "from typing import Any\n",
    "import glob\n",
    "import re\n",
    "from datetime import datetime\n",
    "import random\n",
    "from collections import defaultdict\n",
    "from collections import Counter\n",
    "from torchinfo import summary\n",
    "from torch.nn.utils.rnn import pad_sequence\n",
    "import torch\n",
    "import torch.nn.functional as F\n",
    "import tqdm\n",
    "import csv\n",
    "import os\n",
    "from datetime import datetime\n",
    "import tqdm\n",
    "from sklearn.model_selection import train_test_split\n",
    "\n",
    "random.seed(42)"
   ]
  },
  {
   "cell_type": "markdown",
   "metadata": {},
   "source": [
    "# Local Imports"
   ]
  },
  {
   "cell_type": "code",
   "execution_count": 2,
   "metadata": {},
   "outputs": [],
   "source": [
    "from training.train import EpochLogs, grid_search, LogPoint\n",
    "from dataset.character_dataset import CharImageDataset\n",
    "from models.allcnn2d import AllCNN2D\n",
    "from models.allcnn2d_rnn import CNNRNNModel"
   ]
  },
  {
   "cell_type": "markdown",
   "metadata": {},
   "source": [
    "# Globals"
   ]
  },
  {
   "cell_type": "code",
   "execution_count": 3,
   "metadata": {},
   "outputs": [],
   "source": [
    "DEVICE: str = \"cuda\" if torch.cuda.is_available() else \"cpu\"\n",
    "BATCH_SIZE: int = 4\n",
    "DATASET_SPLIT: float = 0.8\n",
    "MODEL_NAME: str = \"KrudLoRA\"\n",
    "LOAD_CHECKPOINT: str = r\"C:\\Users\\Leon\\visual-studio\\repos\\Le-o-n\\ocr-model-training\\checkpoints\\Krud_epoch29_trainacc0.93466_valacc0.97159_Tloss0.013132_Vloss0.0056677_lr0.0007224.pkl\""
   ]
  },
  {
   "cell_type": "markdown",
   "metadata": {},
   "source": [
    "# Define Paths\n",
    "Workspace"
   ]
  },
  {
   "cell_type": "code",
   "execution_count": 4,
   "metadata": {},
   "outputs": [],
   "source": [
    "notebook_dir: str = os.path.abspath(\".\")\n",
    "root_dir: str = os.path.join(\n",
    "    notebook_dir,\n",
    "    os.pardir,\n",
    "    os.pardir\n",
    ")\n",
    "\n",
    "data_dir: str = os.path.join(\n",
    "    root_dir,\n",
    "    \"data\",\n",
    "    \"lambda\"\n",
    ")\n",
    "\n",
    "model_save_dirpath: str = os.path.join(\n",
    "    root_dir,\n",
    "    \"models\",\n",
    "    \"allcnn\"\n",
    ")\n"
   ]
  },
  {
   "cell_type": "markdown",
   "metadata": {},
   "source": [
    "Image paths"
   ]
  },
  {
   "cell_type": "code",
   "execution_count": 5,
   "metadata": {},
   "outputs": [
    {
     "data": {
      "text/plain": [
       "1286"
      ]
     },
     "execution_count": 5,
     "metadata": {},
     "output_type": "execute_result"
    }
   ],
   "source": [
    "\n",
    "images_path_glob: str = os.path.join(\n",
    "    data_dir,\n",
    "    \"u*.png\"\n",
    ")\n",
    "images_path_regex: str = r\"(u[0-9a-f]+)[-]+([0-9]+)\\.png\"\n",
    "\n",
    "image_paths: list[str] = glob.glob(images_path_glob)\n",
    "random.shuffle(image_paths)\n",
    "\n",
    "len(image_paths)"
   ]
  },
  {
   "cell_type": "markdown",
   "metadata": {},
   "source": [
    "# Helper Functions"
   ]
  },
  {
   "cell_type": "code",
   "execution_count": 6,
   "metadata": {},
   "outputs": [],
   "source": [
    "def get_current_time() -> str:\n",
    "    return datetime.now().strftime(\"%Y-%m-%d-%H-%M-%S\")\n"
   ]
  },
  {
   "cell_type": "markdown",
   "metadata": {},
   "source": [
    "# Logging Setup "
   ]
  },
  {
   "cell_type": "code",
   "execution_count": 7,
   "metadata": {},
   "outputs": [],
   "source": [
    "\n",
    "logging_path: str = f\"{MODEL_NAME}_log_{get_current_time()}.csv\"\n",
    "\n",
    "with open(logging_path, \"w\") as f:\n",
    "    f.write(\"TIME,EPOCH,TRAIN_ACC,VAL_ACC,TRAIN_LOSS,VAL_LOSS,LR\\n\")\n",
    "\n",
    "def log(\n",
    "    epoch: int,\n",
    "    train_acc: float, \n",
    "    train_loss: float, \n",
    "    val_acc: float, \n",
    "    val_loss, \n",
    "    lr: float\n",
    ")-> None:\n",
    "    with open(logging_path, \"a\") as f:\n",
    "        f.write(f\"{get_current_time()},{epoch},{train_acc},{val_acc},{train_loss},{val_loss},{lr}\\n\")"
   ]
  },
  {
   "cell_type": "markdown",
   "metadata": {},
   "source": [
    "# Extract Labels From File Names"
   ]
  },
  {
   "cell_type": "code",
   "execution_count": 8,
   "metadata": {},
   "outputs": [
    {
     "data": {
      "text/plain": [
       "(1286, 1286)"
      ]
     },
     "execution_count": 8,
     "metadata": {},
     "output_type": "execute_result"
    }
   ],
   "source": [
    "\n",
    "\n",
    "labeled_image_paths: list[tuple[str, str]] = []\n",
    "\n",
    "class_counts: dict[str, int] = defaultdict(lambda: 0)\n",
    "\n",
    "file_path: str\n",
    "for file_path in image_paths:\n",
    "    match = re.search(images_path_regex, file_path)\n",
    "    \n",
    "    if not match:\n",
    "        continue\n",
    "    \n",
    "    u_hexvalue: str = match.group(1)[1:]\n",
    "    \n",
    "    char: str = chr(int(u_hexvalue, base=16))\n",
    "    \n",
    "    \n",
    "    class_counts[char] += 1\n",
    "    \n",
    "    \n",
    "    labeled_image_paths.append((char, file_path))\n",
    "\n",
    "labels: list[str]\n",
    "image_paths: list[str]\n",
    "labels, image_paths =  list(zip(*labeled_image_paths))\n",
    "\n",
    "len(labels), len(image_paths)"
   ]
  },
  {
   "cell_type": "code",
   "execution_count": 9,
   "metadata": {},
   "outputs": [
    {
     "data": {
      "text/plain": [
       "Counter({'+': 54,\n",
       "         'a': 54,\n",
       "         '1': 54,\n",
       "         '.': 49,\n",
       "         'λ': 49,\n",
       "         '(': 48,\n",
       "         ')': 48,\n",
       "         ':': 29,\n",
       "         '<': 24,\n",
       "         '-': 23,\n",
       "         '÷': 23,\n",
       "         '×': 22,\n",
       "         ']': 22,\n",
       "         '>': 22,\n",
       "         '=': 22,\n",
       "         '[': 22,\n",
       "         '}': 21,\n",
       "         '8': 20,\n",
       "         'c': 20,\n",
       "         'p': 20,\n",
       "         's': 20,\n",
       "         '5': 20,\n",
       "         'v': 20,\n",
       "         'f': 20,\n",
       "         '6': 20,\n",
       "         'i': 20,\n",
       "         'o': 20,\n",
       "         'y': 20,\n",
       "         '4': 20,\n",
       "         'z': 20,\n",
       "         '2': 20,\n",
       "         'x': 20,\n",
       "         'm': 20,\n",
       "         'e': 20,\n",
       "         'w': 20,\n",
       "         't': 20,\n",
       "         'd': 20,\n",
       "         'b': 20,\n",
       "         'g': 20,\n",
       "         '{': 20,\n",
       "         'j': 20,\n",
       "         '7': 20,\n",
       "         'k': 20,\n",
       "         'q': 20,\n",
       "         '0': 20,\n",
       "         'h': 20,\n",
       "         'l': 20,\n",
       "         'u': 20,\n",
       "         '3': 20,\n",
       "         'n': 20,\n",
       "         '9': 20,\n",
       "         'r': 20})"
      ]
     },
     "execution_count": 9,
     "metadata": {},
     "output_type": "execute_result"
    }
   ],
   "source": [
    "Counter(labels)"
   ]
  },
  {
   "cell_type": "markdown",
   "metadata": {},
   "source": [
    "# Balance Classes Using Oversample/Undersample"
   ]
  },
  {
   "cell_type": "code",
   "execution_count": 10,
   "metadata": {},
   "outputs": [],
   "source": [
    "sorted_counts: list[tuple[str, int]] = sorted(\n",
    "    class_counts.items(), \n",
    "    key=lambda x: x[0]\n",
    ")\n",
    "\n",
    "counts: list[int] = [pair[1] for pair in sorted_counts]\n",
    "\n",
    "max_count: int = max(counts)\n",
    "min_count: int = min(counts)\n",
    "\n",
    "to_add_counts: dict[str, int] = {\n",
    "    uid: max_count - count \n",
    "    for uid, count in \n",
    "    sorted_counts\n",
    "}\n",
    "\n",
    "to_undersample_counts: dict[str, int] = {\n",
    "    uid: min_count\n",
    "    for uid, count in \n",
    "    sorted_counts\n",
    "}\n",
    "\n",
    "total_items = sum(x[1] for x in sorted_counts)\n"
   ]
  },
  {
   "cell_type": "code",
   "execution_count": 11,
   "metadata": {},
   "outputs": [
    {
     "data": {
      "text/plain": [
       "(20, 54, 1286)"
      ]
     },
     "execution_count": 11,
     "metadata": {},
     "output_type": "execute_result"
    }
   ],
   "source": [
    "min_count, max_count, total_items"
   ]
  },
  {
   "cell_type": "code",
   "execution_count": 12,
   "metadata": {},
   "outputs": [],
   "source": [
    "#print(*to_add_counts.items())\n",
    "#print(sorted([(chr(int(pair[0][1:], 16)), pair[1]) for pair in to_remove_counts.items()], key=lambda x: x[1]))"
   ]
  },
  {
   "cell_type": "markdown",
   "metadata": {},
   "source": [
    "# Oversample"
   ]
  },
  {
   "cell_type": "code",
   "execution_count": 13,
   "metadata": {},
   "outputs": [],
   "source": [
    "#to_add_labels: list[str] = []\n",
    "#to_add_file_paths: list[str] = []\n",
    "#\n",
    "#while True in [to_add_count>0 for to_add_count in to_add_counts.values()]:  \n",
    "#    for label, image_path in zip(labels, image_paths):\n",
    "#        remaining: int = to_add_counts[label]\n",
    "#        \n",
    "#        if remaining > 0:\n",
    "#            to_add_labels.append(label)\n",
    "#            to_add_file_paths.append(image_path)\n",
    "#            to_add_counts[label] -= 1"
   ]
  },
  {
   "cell_type": "markdown",
   "metadata": {},
   "source": [
    "# Undersample"
   ]
  },
  {
   "cell_type": "code",
   "execution_count": 14,
   "metadata": {},
   "outputs": [],
   "source": [
    "to_keep_labels: list[str] = []\n",
    "to_keep_file_paths: list[str] = []\n",
    "\n",
    "while True in [to_add_count>0 for to_add_count in to_undersample_counts.values()]:  \n",
    "    for label, image_path in zip(labels, image_paths):\n",
    "        remaining: int = to_undersample_counts[label]\n",
    "        \n",
    "        if remaining > 0:\n",
    "            to_keep_labels.append(label)\n",
    "            to_keep_file_paths.append(image_path)\n",
    "            to_undersample_counts[label] -= 1"
   ]
  },
  {
   "cell_type": "code",
   "execution_count": 15,
   "metadata": {},
   "outputs": [
    {
     "name": "stdout",
     "output_type": "stream",
     "text": [
      "8, c, p, s, s, 5, v, ×, f, 6, 8, i, v, +, o, y, 4, (, z, 2, x, m, +, -, e, s, w, ×, t, d, ], s, o, ., b, o, g, o, ), d, c, λ, a, {, <, y, λ, a, +, j, v, 2, ., d, >, 6, t, t, c, m, i, p, m, ), (, g, (, b, 7, k, ÷, p, e, ., ), p, >, }, e, ÷, m, w, (, ), 1, q, 0, q, x, g, i, e, h, t, i, l, b, y, λ, i, x, 0, +, :, ., ), x, (, (, l, d, 1, h, j, u, 3, 1, ), n, 1, ., p, h, x, λ, q, >, ., a, :, v, a, g, 0, s, ), 9, ], λ, :, k, =, c, >, -, 2, ], p, m, c, >, y, 0, w, 1, u, p, m, +, b, 3, b, {, (, k, +, r, ×, w, p, +, ), (, j, [, ., {, v, 1, ., 8, ], λ, k, 0, r, 5, 6, l, v, q, +, ], +, :, }, 1, k, f, ), 8, f, ), 6, ., i, z, (, (, s, t, -, ), z, 7, ÷, 8, ), s, ×, u, :, q, e, [, b, ÷, }, z, 6, 1, w, [, λ, h, d, ), b, 1, 0, m, <, {, k, j, 9, =, 4, c, λ, <, >, :, b, 7, 2, [, ), <, t, x, 2, {, ., y, 7, r, a, d, 1, =, ), n, =, a, f, 4, (, 7, a, >, ., -, a, >, r, -, 5, d, h, 5, 7, f, ), }, g, x, :, ), d, ], n, (, 2, 1, v, (, ×, λ, l, ., w, n, λ, p, q, p, 1, +, }, a, 0, ], ], λ, 5, v, -, ), f, >, ), a, s, 3, 6, a, 7, x, +, x, }, λ, j, r, k, :, 9, +, h, (, j, j, 2, 4, 9, w, f, y, (, 1, c, q, ), d, a, u, w, 3, n, h, s, c, o, :, a, n, k, 0, l, f, h, +, e, }, 2, ., λ, }, m, -, m, k, l, }, x, 1, (, c, ., (, o, =, ÷, v, ., n, 1, a, {, d, c, t, j, 6, ×, 8, o, +, :, q, y, +, u, l, v, (, a, ., r, ×, +, 8, [, +, t, l, r, 2, <, e, v, x, o, ÷, l, λ, 6, a, 6, :, n, +, 5, ÷, g, +, [, [, 0, λ, <, [, a, 6, λ, ., g, l, ×, ., 2, v, z, ÷, 4, ., +, o, i, n, p, r, λ, 5, λ, 1, i, a, λ, z, b, m, 5, <, z, λ, b, g, h, h, ], a, 1, 4, 1, 5, x, b, [, 3, k, g, [, g, ×, b, :, t, ×, 1, x, 1, [, =, <, z, r, p, :, 5, 9, {, a, (, 4, o, y, 6, g, <, 4, k, f, k, c, 7, 6, 3, (, i, ×, -, z, -, 6, w, d, t, r, y, }, i, q, q, w, h, {, i, q, 8, }, 4, e, :, ., 3, f, t, y, :, u, u, [, =, [, 7, y, e, :, -, 7, 4, ], u, f, 0, [, =, f, q, 7, 2, 5, x, t, b, >, 7, e, 8, :, <, e, 8, b, {, -, t, 0, s, w, <, y, {, m, f, z, 9, p, ], l, s, v, b, -, :, i, 9, ], 9, 3, q, =, s, n, x, :, r, j, t, ÷, :, y, z, m, k, h, ÷, >, z, 8, }, o, ], o, j, -, 0, r, q, 4, q, y, u, i, o, q, z, l, }, 3, [, >, k, j, 2, =, 7, 2, >, ], ÷, ÷, f, 8, k, {, 2, b, 7, {, 8, j, 3, s, c, n, g, v, w, n, 9, 5, t, i, l, c, m, <, w, g, t, l, >, 6, k, [, 9, p, d, 4, 9, [, i, o, >, r, z, 4, <, 7, 5, h, f, z, 4, 7, x, 0, g, 2, 5, v, t, 0, w, 6, t, b, g, }, j, d, s, s, 8, g, s, d, 8, h, g, -, -, e, ], 8, =, f, 5, }, m, 5, q, g, 5, 2, y, ×, -, =, >, o, i, =, -, b, {, o, =, s, c, =, 9, d, -, f, 4, y, i, v, m, r, w, ×, j, b, 4, c, [, -, =, e, q, w, u, k, 2, =, h, ×, h, ], 2, c, <, i, 9, w, 6, l, r, l, 5, n, z, p, <, r, =, ], {, y, e, n, p, u, 2, 7, 3, c, ×, n, x, <, =, >, {, ], [, }, >, l, o, 7, 0, t, [, j, -, 3, o, ], t, 9, 6, 3, p, v, >, m, <, f, e, 4, }, {, 9, p, u, h, 4, ÷, l, n, w, 5, y, l, u, 6, 0, h, n, i, j, c, k, ×, 6, h, {, o, 9, p, =, s, z, ×, m, s, k, e, }, ], 7, x, 8, j, u, z, 4, o, u, p, }, d, 0, q, u, v, 3, e, y, ÷, z, r, 5, r, <, m, 3, k, >, ÷, ×, {, u, 0, w, u, n, f, f, ÷, 3, 2, 0, q, s, ×, d, g, j, <, v, ÷, ÷, <, m, g, r, 8, y, 8, h, ÷, 9, x, e, n, 3, ÷, u, 4, 8, c, d, 3, d, m, ×, 6, z, d, w, e, u, n, }, b, c, e, 9, 3, j, 3, {, l, 9, i, 7, x, r, 9, j, {, v, 0\n"
     ]
    }
   ],
   "source": [
    "print(\", \".join(to_keep_labels))"
   ]
  },
  {
   "cell_type": "markdown",
   "metadata": {},
   "source": [
    "# Load Dataset"
   ]
  },
  {
   "cell_type": "code",
   "execution_count": 16,
   "metadata": {},
   "outputs": [
    {
     "data": {
      "text/plain": [
       "(1040, 1040)"
      ]
     },
     "execution_count": 16,
     "metadata": {},
     "output_type": "execute_result"
    }
   ],
   "source": [
    "image_paths = to_keep_file_paths\n",
    "labels = to_keep_labels\n",
    "len(image_paths), len(labels)"
   ]
  },
  {
   "cell_type": "code",
   "execution_count": 17,
   "metadata": {},
   "outputs": [],
   "source": [
    "\n",
    "def stratified_split(file_paths, labels, test_size=0.15, val_size=0.15, min_samples=1, random_state=42):\n",
    "    \"\"\"\n",
    "    Stratified split with minimum samples per class in all splits\n",
    "    \n",
    "    Args:\n",
    "        file_paths: List of lists of paths - [[class1_paths], [class2_paths], ...]\n",
    "        labels: List of class labels corresponding to file_paths\n",
    "        test_size: Proportion for test split\n",
    "        val_size: Proportion for validation split (relative to remaining after test)\n",
    "        min_samples: Minimum samples per class in each split (default=1)\n",
    "    \"\"\"\n",
    "    # Flatten structure and create label array\n",
    "    \n",
    "    # Convert to numpy arrays\n",
    "    X = np.array(file_paths)\n",
    "    y = np.array(labels)\n",
    "    unique_classes = np.unique(y)\n",
    "    \n",
    "    # First split: test with min samples per class\n",
    "    test_indices = []\n",
    "    for cls in unique_classes:\n",
    "        cls_indices = np.where(y == cls)[0]\n",
    "        n_test = max(min_samples, int(test_size * len(cls_indices)))\n",
    "        test_indices.extend(np.random.choice(cls_indices, n_test, replace=False))\n",
    "    \n",
    "    # Remaining indices for train/val\n",
    "    remaining_mask = ~np.isin(np.arange(len(X)), test_indices)\n",
    "    X_remaining, y_remaining = X[remaining_mask], y[remaining_mask]\n",
    "    \n",
    "    # Second split: validation from remaining\n",
    "    val_indices = []\n",
    "    for cls in unique_classes:\n",
    "        cls_indices = np.where(y_remaining == cls)[0]\n",
    "        n_val = max(min_samples, int(val_size * len(cls_indices)))\n",
    "        val_indices.extend(np.random.choice(cls_indices, n_val, replace=False))\n",
    "    \n",
    "    # Final indices\n",
    "    train_mask = ~np.isin(np.arange(len(X_remaining)), val_indices)\n",
    "    return (\n",
    "        X_remaining[train_mask].tolist(), y_remaining[train_mask].tolist(),  # Train\n",
    "        X_remaining[val_indices].tolist(), y_remaining[val_indices].tolist(),  # Val\n",
    "        X[test_indices].tolist(), y[test_indices].tolist()  # Test\n",
    "    )\n",
    "\n"
   ]
  },
  {
   "cell_type": "code",
   "execution_count": 18,
   "metadata": {},
   "outputs": [
    {
     "name": "stdout",
     "output_type": "stream",
     "text": [
      "Train (780): ['c:\\\\Users\\\\Leon\\\\visual-studio\\\\repos\\\\Le-o-n\\\\ocr-model-training\\\\src\\\\cnn_lora\\\\..\\\\..\\\\data\\\\lambda\\\\u38-1737059278788.png', 'c:\\\\Users\\\\Leon\\\\visual-studio\\\\repos\\\\Le-o-n\\\\ocr-model-training\\\\src\\\\cnn_lora\\\\..\\\\..\\\\data\\\\lambda\\\\u63-1737059641321.png', 'c:\\\\Users\\\\Leon\\\\visual-studio\\\\repos\\\\Le-o-n\\\\ocr-model-training\\\\src\\\\cnn_lora\\\\..\\\\..\\\\data\\\\lambda\\\\u70-1737059657139.png', 'c:\\\\Users\\\\Leon\\\\visual-studio\\\\repos\\\\Le-o-n\\\\ocr-model-training\\\\src\\\\cnn_lora\\\\..\\\\..\\\\data\\\\lambda\\\\u73-1737059958930.png', 'c:\\\\Users\\\\Leon\\\\visual-studio\\\\repos\\\\Le-o-n\\\\ocr-model-training\\\\src\\\\cnn_lora\\\\..\\\\..\\\\data\\\\lambda\\\\u73-1737713959686.png', 'c:\\\\Users\\\\Leon\\\\visual-studio\\\\repos\\\\Le-o-n\\\\ocr-model-training\\\\src\\\\cnn_lora\\\\..\\\\..\\\\data\\\\lambda\\\\u35-1737060039410.png', 'c:\\\\Users\\\\Leon\\\\visual-studio\\\\repos\\\\Le-o-n\\\\ocr-model-training\\\\src\\\\cnn_lora\\\\..\\\\..\\\\data\\\\lambda\\\\u66-1737714100430.png', 'c:\\\\Users\\\\Leon\\\\visual-studio\\\\repos\\\\Le-o-n\\\\ocr-model-training\\\\src\\\\cnn_lora\\\\..\\\\..\\\\data\\\\lambda\\\\u36-1737059682569.png', 'c:\\\\Users\\\\Leon\\\\visual-studio\\\\repos\\\\Le-o-n\\\\ocr-model-training\\\\src\\\\cnn_lora\\\\..\\\\..\\\\data\\\\lambda\\\\u38-1737059551781.png', 'c:\\\\Users\\\\Leon\\\\visual-studio\\\\repos\\\\Le-o-n\\\\ocr-model-training\\\\src\\\\cnn_lora\\\\..\\\\..\\\\data\\\\lambda\\\\u69-1737714227061.png', 'c:\\\\Users\\\\Leon\\\\visual-studio\\\\repos\\\\Le-o-n\\\\ocr-model-training\\\\src\\\\cnn_lora\\\\..\\\\..\\\\data\\\\lambda\\\\u76-1737059963011.png', 'c:\\\\Users\\\\Leon\\\\visual-studio\\\\repos\\\\Le-o-n\\\\ocr-model-training\\\\src\\\\cnn_lora\\\\..\\\\..\\\\data\\\\lambda\\\\u2b-1736980002610.png', 'c:\\\\Users\\\\Leon\\\\visual-studio\\\\repos\\\\Le-o-n\\\\ocr-model-training\\\\src\\\\cnn_lora\\\\..\\\\..\\\\data\\\\lambda\\\\u6f-1737141872956.png', 'c:\\\\Users\\\\Leon\\\\visual-studio\\\\repos\\\\Le-o-n\\\\ocr-model-training\\\\src\\\\cnn_lora\\\\..\\\\..\\\\data\\\\lambda\\\\u79-1737059829503.png', 'c:\\\\Users\\\\Leon\\\\visual-studio\\\\repos\\\\Le-o-n\\\\ocr-model-training\\\\src\\\\cnn_lora\\\\..\\\\..\\\\data\\\\lambda\\\\u28-1736980143348.png', 'c:\\\\Users\\\\Leon\\\\visual-studio\\\\repos\\\\Le-o-n\\\\ocr-model-training\\\\src\\\\cnn_lora\\\\..\\\\..\\\\data\\\\lambda\\\\u32-1737058990097.png', 'c:\\\\Users\\\\Leon\\\\visual-studio\\\\repos\\\\Le-o-n\\\\ocr-model-training\\\\src\\\\cnn_lora\\\\..\\\\..\\\\data\\\\lambda\\\\u6d-1737059228239.png', 'c:\\\\Users\\\\Leon\\\\visual-studio\\\\repos\\\\Le-o-n\\\\ocr-model-training\\\\src\\\\cnn_lora\\\\..\\\\..\\\\data\\\\lambda\\\\u2b-1736987567086.png', 'c:\\\\Users\\\\Leon\\\\visual-studio\\\\repos\\\\Le-o-n\\\\ocr-model-training\\\\src\\\\cnn_lora\\\\..\\\\..\\\\data\\\\lambda\\\\u2d-1739014211228.png', 'c:\\\\Users\\\\Leon\\\\visual-studio\\\\repos\\\\Le-o-n\\\\ocr-model-training\\\\src\\\\cnn_lora\\\\..\\\\..\\\\data\\\\lambda\\\\u65-1737141857066.png', 'c:\\\\Users\\\\Leon\\\\visual-studio\\\\repos\\\\Le-o-n\\\\ocr-model-training\\\\src\\\\cnn_lora\\\\..\\\\..\\\\data\\\\lambda\\\\u73-1737059159896.png', 'c:\\\\Users\\\\Leon\\\\visual-studio\\\\repos\\\\Le-o-n\\\\ocr-model-training\\\\src\\\\cnn_lora\\\\..\\\\..\\\\data\\\\lambda\\\\u77-1737714640449.png', 'c:\\\\Users\\\\Leon\\\\visual-studio\\\\repos\\\\Le-o-n\\\\ocr-model-training\\\\src\\\\cnn_lora\\\\..\\\\..\\\\data\\\\lambda\\\\ud7-1737059638947.png', 'c:\\\\Users\\\\Leon\\\\visual-studio\\\\repos\\\\Le-o-n\\\\ocr-model-training\\\\src\\\\cnn_lora\\\\..\\\\..\\\\data\\\\lambda\\\\u64-1737059561609.png', 'c:\\\\Users\\\\Leon\\\\visual-studio\\\\repos\\\\Le-o-n\\\\ocr-model-training\\\\src\\\\cnn_lora\\\\..\\\\..\\\\data\\\\lambda\\\\u6f-1737141764870.png', 'c:\\\\Users\\\\Leon\\\\visual-studio\\\\repos\\\\Le-o-n\\\\ocr-model-training\\\\src\\\\cnn_lora\\\\..\\\\..\\\\data\\\\lambda\\\\u67-1737714103474.png', 'c:\\\\Users\\\\Leon\\\\visual-studio\\\\repos\\\\Le-o-n\\\\ocr-model-training\\\\src\\\\cnn_lora\\\\..\\\\..\\\\data\\\\lambda\\\\u6f-1737714238599.png', 'c:\\\\Users\\\\Leon\\\\visual-studio\\\\repos\\\\Le-o-n\\\\ocr-model-training\\\\src\\\\cnn_lora\\\\..\\\\..\\\\data\\\\lambda\\\\u29-1736980170555.png', 'c:\\\\Users\\\\Leon\\\\visual-studio\\\\repos\\\\Le-o-n\\\\ocr-model-training\\\\src\\\\cnn_lora\\\\..\\\\..\\\\data\\\\lambda\\\\u64-1737141798513.png', 'c:\\\\Users\\\\Leon\\\\visual-studio\\\\repos\\\\Le-o-n\\\\ocr-model-training\\\\src\\\\cnn_lora\\\\..\\\\..\\\\data\\\\lambda\\\\u63-1737141742501.png', 'c:\\\\Users\\\\Leon\\\\visual-studio\\\\repos\\\\Le-o-n\\\\ocr-model-training\\\\src\\\\cnn_lora\\\\..\\\\..\\\\data\\\\lambda\\\\u3bb-1736980145589.png', 'c:\\\\Users\\\\Leon\\\\visual-studio\\\\repos\\\\Le-o-n\\\\ocr-model-training\\\\src\\\\cnn_lora\\\\..\\\\..\\\\data\\\\lambda\\\\u7b-5585404672042048417.png', 'c:\\\\Users\\\\Leon\\\\visual-studio\\\\repos\\\\Le-o-n\\\\ocr-model-training\\\\src\\\\cnn_lora\\\\..\\\\..\\\\data\\\\lambda\\\\u3c-8821608617432006800.png', 'c:\\\\Users\\\\Leon\\\\visual-studio\\\\repos\\\\Le-o-n\\\\ocr-model-training\\\\src\\\\cnn_lora\\\\..\\\\..\\\\data\\\\lambda\\\\u79-1737059536643.png', 'c:\\\\Users\\\\Leon\\\\visual-studio\\\\repos\\\\Le-o-n\\\\ocr-model-training\\\\src\\\\cnn_lora\\\\..\\\\..\\\\data\\\\lambda\\\\u3bb-1736980037900.png', 'c:\\\\Users\\\\Leon\\\\visual-studio\\\\repos\\\\Le-o-n\\\\ocr-model-training\\\\src\\\\cnn_lora\\\\..\\\\..\\\\data\\\\lambda\\\\u61-1736980000260.png', 'c:\\\\Users\\\\Leon\\\\visual-studio\\\\repos\\\\Le-o-n\\\\ocr-model-training\\\\src\\\\cnn_lora\\\\..\\\\..\\\\data\\\\lambda\\\\u2b-1736980088839.png', 'c:\\\\Users\\\\Leon\\\\visual-studio\\\\repos\\\\Le-o-n\\\\ocr-model-training\\\\src\\\\cnn_lora\\\\..\\\\..\\\\data\\\\lambda\\\\u6a-1737141752727.png', 'c:\\\\Users\\\\Leon\\\\visual-studio\\\\repos\\\\Le-o-n\\\\ocr-model-training\\\\src\\\\cnn_lora\\\\..\\\\..\\\\data\\\\lambda\\\\u76-1737058926156.png', 'c:\\\\Users\\\\Leon\\\\visual-studio\\\\repos\\\\Le-o-n\\\\ocr-model-training\\\\src\\\\cnn_lora\\\\..\\\\..\\\\data\\\\lambda\\\\u32-1737059180074.png', 'c:\\\\Users\\\\Leon\\\\visual-studio\\\\repos\\\\Le-o-n\\\\ocr-model-training\\\\src\\\\cnn_lora\\\\..\\\\..\\\\data\\\\lambda\\\\u2e-1736980164801.png', 'c:\\\\Users\\\\Leon\\\\visual-studio\\\\repos\\\\Le-o-n\\\\ocr-model-training\\\\src\\\\cnn_lora\\\\..\\\\..\\\\data\\\\lambda\\\\u64-1737059293453.png', 'c:\\\\Users\\\\Leon\\\\visual-studio\\\\repos\\\\Le-o-n\\\\ocr-model-training\\\\src\\\\cnn_lora\\\\..\\\\..\\\\data\\\\lambda\\\\u36-1737715376964.png', 'c:\\\\Users\\\\Leon\\\\visual-studio\\\\repos\\\\Le-o-n\\\\ocr-model-training\\\\src\\\\cnn_lora\\\\..\\\\..\\\\data\\\\lambda\\\\u74-1737714161728.png', 'c:\\\\Users\\\\Leon\\\\visual-studio\\\\repos\\\\Le-o-n\\\\ocr-model-training\\\\src\\\\cnn_lora\\\\..\\\\..\\\\data\\\\lambda\\\\u74-1737059515432.png', 'c:\\\\Users\\\\Leon\\\\visual-studio\\\\repos\\\\Le-o-n\\\\ocr-model-training\\\\src\\\\cnn_lora\\\\..\\\\..\\\\data\\\\lambda\\\\u63-1737059929853.png', 'c:\\\\Users\\\\Leon\\\\visual-studio\\\\repos\\\\Le-o-n\\\\ocr-model-training\\\\src\\\\cnn_lora\\\\..\\\\..\\\\data\\\\lambda\\\\u6d-1737714129982.png', 'c:\\\\Users\\\\Leon\\\\visual-studio\\\\repos\\\\Le-o-n\\\\ocr-model-training\\\\src\\\\cnn_lora\\\\..\\\\..\\\\data\\\\lambda\\\\u70-1737059070851.png', 'c:\\\\Users\\\\Leon\\\\visual-studio\\\\repos\\\\Le-o-n\\\\ocr-model-training\\\\src\\\\cnn_lora\\\\..\\\\..\\\\data\\\\lambda\\\\u29-1736987539630.png', 'c:\\\\Users\\\\Leon\\\\visual-studio\\\\repos\\\\Le-o-n\\\\ocr-model-training\\\\src\\\\cnn_lora\\\\..\\\\..\\\\data\\\\lambda\\\\u28-1736987469796.png', 'c:\\\\Users\\\\Leon\\\\visual-studio\\\\repos\\\\Le-o-n\\\\ocr-model-training\\\\src\\\\cnn_lora\\\\..\\\\..\\\\data\\\\lambda\\\\u67-1737059699960.png', 'c:\\\\Users\\\\Leon\\\\visual-studio\\\\repos\\\\Le-o-n\\\\ocr-model-training\\\\src\\\\cnn_lora\\\\..\\\\..\\\\data\\\\lambda\\\\u28-1736979990957.png', 'c:\\\\Users\\\\Leon\\\\visual-studio\\\\repos\\\\Le-o-n\\\\ocr-model-training\\\\src\\\\cnn_lora\\\\..\\\\..\\\\data\\\\lambda\\\\u62-1737059852578.png', 'c:\\\\Users\\\\Leon\\\\visual-studio\\\\repos\\\\Le-o-n\\\\ocr-model-training\\\\src\\\\cnn_lora\\\\..\\\\..\\\\data\\\\lambda\\\\u70-1737058918701.png', 'c:\\\\Users\\\\Leon\\\\visual-studio\\\\repos\\\\Le-o-n\\\\ocr-model-training\\\\src\\\\cnn_lora\\\\..\\\\..\\\\data\\\\lambda\\\\u65-1737141799650.png', 'c:\\\\Users\\\\Leon\\\\visual-studio\\\\repos\\\\Le-o-n\\\\ocr-model-training\\\\src\\\\cnn_lora\\\\..\\\\..\\\\data\\\\lambda\\\\u2e-1736979994135.png', 'c:\\\\Users\\\\Leon\\\\visual-studio\\\\repos\\\\Le-o-n\\\\ocr-model-training\\\\src\\\\cnn_lora\\\\..\\\\..\\\\data\\\\lambda\\\\u29-1736979981477.png', 'c:\\\\Users\\\\Leon\\\\visual-studio\\\\repos\\\\Le-o-n\\\\ocr-model-training\\\\src\\\\cnn_lora\\\\..\\\\..\\\\data\\\\lambda\\\\u70-1737059316706.png', 'c:\\\\Users\\\\Leon\\\\visual-studio\\\\repos\\\\Le-o-n\\\\ocr-model-training\\\\src\\\\cnn_lora\\\\..\\\\..\\\\data\\\\lambda\\\\u7d-2683848827325532390.png', 'c:\\\\Users\\\\Leon\\\\visual-studio\\\\repos\\\\Le-o-n\\\\ocr-model-training\\\\src\\\\cnn_lora\\\\..\\\\..\\\\data\\\\lambda\\\\u65-1737059934170.png', 'c:\\\\Users\\\\Leon\\\\visual-studio\\\\repos\\\\Le-o-n\\\\ocr-model-training\\\\src\\\\cnn_lora\\\\..\\\\..\\\\data\\\\lambda\\\\uf7-1737059555679.png', 'c:\\\\Users\\\\Leon\\\\visual-studio\\\\repos\\\\Le-o-n\\\\ocr-model-training\\\\src\\\\cnn_lora\\\\..\\\\..\\\\data\\\\lambda\\\\u77-1737059168553.png', 'c:\\\\Users\\\\Leon\\\\visual-studio\\\\repos\\\\Le-o-n\\\\ocr-model-training\\\\src\\\\cnn_lora\\\\..\\\\..\\\\data\\\\lambda\\\\u28-1736987554550.png', 'c:\\\\Users\\\\Leon\\\\visual-studio\\\\repos\\\\Le-o-n\\\\ocr-model-training\\\\src\\\\cnn_lora\\\\..\\\\..\\\\data\\\\lambda\\\\u29-1736980074005.png', 'c:\\\\Users\\\\Leon\\\\visual-studio\\\\repos\\\\Le-o-n\\\\ocr-model-training\\\\src\\\\cnn_lora\\\\..\\\\..\\\\data\\\\lambda\\\\u71-1737141875583.png', 'c:\\\\Users\\\\Leon\\\\visual-studio\\\\repos\\\\Le-o-n\\\\ocr-model-training\\\\src\\\\cnn_lora\\\\..\\\\..\\\\data\\\\lambda\\\\u30-1737058937431.png', 'c:\\\\Users\\\\Leon\\\\visual-studio\\\\repos\\\\Le-o-n\\\\ocr-model-training\\\\src\\\\cnn_lora\\\\..\\\\..\\\\data\\\\lambda\\\\u71-1737714156001.png', 'c:\\\\Users\\\\Leon\\\\visual-studio\\\\repos\\\\Le-o-n\\\\ocr-model-training\\\\src\\\\cnn_lora\\\\..\\\\..\\\\data\\\\lambda\\\\u78-1737714359030.png', 'c:\\\\Users\\\\Leon\\\\visual-studio\\\\repos\\\\Le-o-n\\\\ocr-model-training\\\\src\\\\cnn_lora\\\\..\\\\..\\\\data\\\\lambda\\\\u67-1737141803654.png', 'c:\\\\Users\\\\Leon\\\\visual-studio\\\\repos\\\\Le-o-n\\\\ocr-model-training\\\\src\\\\cnn_lora\\\\..\\\\..\\\\data\\\\lambda\\\\u69-1737713943675.png', 'c:\\\\Users\\\\Leon\\\\visual-studio\\\\repos\\\\Le-o-n\\\\ocr-model-training\\\\src\\\\cnn_lora\\\\..\\\\..\\\\data\\\\lambda\\\\u65-1737059119898.png', 'c:\\\\Users\\\\Leon\\\\visual-studio\\\\repos\\\\Le-o-n\\\\ocr-model-training\\\\src\\\\cnn_lora\\\\..\\\\..\\\\data\\\\lambda\\\\u68-1737059863905.png', 'c:\\\\Users\\\\Leon\\\\visual-studio\\\\repos\\\\Le-o-n\\\\ocr-model-training\\\\src\\\\cnn_lora\\\\..\\\\..\\\\data\\\\lambda\\\\u74-1737059161667.png', 'c:\\\\Users\\\\Leon\\\\visual-studio\\\\repos\\\\Le-o-n\\\\ocr-model-training\\\\src\\\\cnn_lora\\\\..\\\\..\\\\data\\\\lambda\\\\u69-1737059791664.png', 'c:\\\\Users\\\\Leon\\\\visual-studio\\\\repos\\\\Le-o-n\\\\ocr-model-training\\\\src\\\\cnn_lora\\\\..\\\\..\\\\data\\\\lambda\\\\u6c-1737713948580.png', 'c:\\\\Users\\\\Leon\\\\visual-studio\\\\repos\\\\Le-o-n\\\\ocr-model-training\\\\src\\\\cnn_lora\\\\..\\\\..\\\\data\\\\lambda\\\\u62-1737059640333.png', 'c:\\\\Users\\\\Leon\\\\visual-studio\\\\repos\\\\Le-o-n\\\\ocr-model-training\\\\src\\\\cnn_lora\\\\..\\\\..\\\\data\\\\lambda\\\\u3bb-1736987556680.png', 'c:\\\\Users\\\\Leon\\\\visual-studio\\\\repos\\\\Le-o-n\\\\ocr-model-training\\\\src\\\\cnn_lora\\\\..\\\\..\\\\data\\\\lambda\\\\u69-1737059941259.png', 'c:\\\\Users\\\\Leon\\\\visual-studio\\\\repos\\\\Le-o-n\\\\ocr-model-training\\\\src\\\\cnn_lora\\\\..\\\\..\\\\data\\\\lambda\\\\u78-1737059743163.png', 'c:\\\\Users\\\\Leon\\\\visual-studio\\\\repos\\\\Le-o-n\\\\ocr-model-training\\\\src\\\\cnn_lora\\\\..\\\\..\\\\data\\\\lambda\\\\u30-1737059903600.png', 'c:\\\\Users\\\\Leon\\\\visual-studio\\\\repos\\\\Le-o-n\\\\ocr-model-training\\\\src\\\\cnn_lora\\\\..\\\\..\\\\data\\\\lambda\\\\u2b-1736987466609.png', 'c:\\\\Users\\\\Leon\\\\visual-studio\\\\repos\\\\Le-o-n\\\\ocr-model-training\\\\src\\\\cnn_lora\\\\..\\\\..\\\\data\\\\lambda\\\\u3a-5839016769105849365.png', 'c:\\\\Users\\\\Leon\\\\visual-studio\\\\repos\\\\Le-o-n\\\\ocr-model-training\\\\src\\\\cnn_lora\\\\..\\\\..\\\\data\\\\lambda\\\\u78-1737059535037.png', 'c:\\\\Users\\\\Leon\\\\visual-studio\\\\repos\\\\Le-o-n\\\\ocr-model-training\\\\src\\\\cnn_lora\\\\..\\\\..\\\\data\\\\lambda\\\\u28-1736987169956.png', 'c:\\\\Users\\\\Leon\\\\visual-studio\\\\repos\\\\Le-o-n\\\\ocr-model-training\\\\src\\\\cnn_lora\\\\..\\\\..\\\\data\\\\lambda\\\\u28-1736987157816.png', 'c:\\\\Users\\\\Leon\\\\visual-studio\\\\repos\\\\Le-o-n\\\\ocr-model-training\\\\src\\\\cnn_lora\\\\..\\\\..\\\\data\\\\lambda\\\\u31-1736980005317.png', 'c:\\\\Users\\\\Leon\\\\visual-studio\\\\repos\\\\Le-o-n\\\\ocr-model-training\\\\src\\\\cnn_lora\\\\..\\\\..\\\\data\\\\lambda\\\\u68-1737059790201.png', 'c:\\\\Users\\\\Leon\\\\visual-studio\\\\repos\\\\Le-o-n\\\\ocr-model-training\\\\src\\\\cnn_lora\\\\..\\\\..\\\\data\\\\lambda\\\\u6a-1737059943120.png', 'c:\\\\Users\\\\Leon\\\\visual-studio\\\\repos\\\\Le-o-n\\\\ocr-model-training\\\\src\\\\cnn_lora\\\\..\\\\..\\\\data\\\\lambda\\\\u75-1737059081399.png', 'c:\\\\Users\\\\Leon\\\\visual-studio\\\\repos\\\\Le-o-n\\\\ocr-model-training\\\\src\\\\cnn_lora\\\\..\\\\..\\\\data\\\\lambda\\\\u31-1736987313288.png', 'c:\\\\Users\\\\Leon\\\\visual-studio\\\\repos\\\\Le-o-n\\\\ocr-model-training\\\\src\\\\cnn_lora\\\\..\\\\..\\\\data\\\\lambda\\\\u29-1736980064854.png', 'c:\\\\Users\\\\Leon\\\\visual-studio\\\\repos\\\\Le-o-n\\\\ocr-model-training\\\\src\\\\cnn_lora\\\\..\\\\..\\\\data\\\\lambda\\\\u31-1736987296706.png', 'c:\\\\Users\\\\Leon\\\\visual-studio\\\\repos\\\\Le-o-n\\\\ocr-model-training\\\\src\\\\cnn_lora\\\\..\\\\..\\\\data\\\\lambda\\\\u2e-1736987515423.png', 'c:\\\\Users\\\\Leon\\\\visual-studio\\\\repos\\\\Le-o-n\\\\ocr-model-training\\\\src\\\\cnn_lora\\\\..\\\\..\\\\data\\\\lambda\\\\u70-1737059154014.png', 'c:\\\\Users\\\\Leon\\\\visual-studio\\\\repos\\\\Le-o-n\\\\ocr-model-training\\\\src\\\\cnn_lora\\\\..\\\\..\\\\data\\\\lambda\\\\u68-1737714543127.png', 'c:\\\\Users\\\\Leon\\\\visual-studio\\\\repos\\\\Le-o-n\\\\ocr-model-training\\\\src\\\\cnn_lora\\\\..\\\\..\\\\data\\\\lambda\\\\u3bb-1736980163433.png', 'c:\\\\Users\\\\Leon\\\\visual-studio\\\\repos\\\\Le-o-n\\\\ocr-model-training\\\\src\\\\cnn_lora\\\\..\\\\..\\\\data\\\\lambda\\\\u71-1737059811292.png', 'c:\\\\Users\\\\Leon\\\\visual-studio\\\\repos\\\\Le-o-n\\\\ocr-model-training\\\\src\\\\cnn_lora\\\\..\\\\..\\\\data\\\\lambda\\\\u61-1736980096282.png', 'c:\\\\Users\\\\Leon\\\\visual-studio\\\\repos\\\\Le-o-n\\\\ocr-model-training\\\\src\\\\cnn_lora\\\\..\\\\..\\\\data\\\\lambda\\\\u3a-7784797802753963337.png', 'c:\\\\Users\\\\Leon\\\\visual-studio\\\\repos\\\\Le-o-n\\\\ocr-model-training\\\\src\\\\cnn_lora\\\\..\\\\..\\\\data\\\\lambda\\\\u76-1737059601557.png', 'c:\\\\Users\\\\Leon\\\\visual-studio\\\\repos\\\\Le-o-n\\\\ocr-model-training\\\\src\\\\cnn_lora\\\\..\\\\..\\\\data\\\\lambda\\\\u61-1736980105824.png', 'c:\\\\Users\\\\Leon\\\\visual-studio\\\\repos\\\\Le-o-n\\\\ocr-model-training\\\\src\\\\cnn_lora\\\\..\\\\..\\\\data\\\\lambda\\\\u67-1737059862422.png', 'c:\\\\Users\\\\Leon\\\\visual-studio\\\\repos\\\\Le-o-n\\\\ocr-model-training\\\\src\\\\cnn_lora\\\\..\\\\..\\\\data\\\\lambda\\\\u30-1737713982454.png', 'c:\\\\Users\\\\Leon\\\\visual-studio\\\\repos\\\\Le-o-n\\\\ocr-model-training\\\\src\\\\cnn_lora\\\\..\\\\..\\\\data\\\\lambda\\\\u29-1736987214270.png', 'c:\\\\Users\\\\Leon\\\\visual-studio\\\\repos\\\\Le-o-n\\\\ocr-model-training\\\\src\\\\cnn_lora\\\\..\\\\..\\\\data\\\\lambda\\\\u39-1737059687839.png', 'c:\\\\Users\\\\Leon\\\\visual-studio\\\\repos\\\\Le-o-n\\\\ocr-model-training\\\\src\\\\cnn_lora\\\\..\\\\..\\\\data\\\\lambda\\\\u5d-5633020499966952833.png', 'c:\\\\Users\\\\Leon\\\\visual-studio\\\\repos\\\\Le-o-n\\\\ocr-model-training\\\\src\\\\cnn_lora\\\\..\\\\..\\\\data\\\\lambda\\\\u3bb-1736980066171.png', 'c:\\\\Users\\\\Leon\\\\visual-studio\\\\repos\\\\Le-o-n\\\\ocr-model-training\\\\src\\\\cnn_lora\\\\..\\\\..\\\\data\\\\lambda\\\\u3a--8064934746171852995.png', 'c:\\\\Users\\\\Leon\\\\visual-studio\\\\repos\\\\Le-o-n\\\\ocr-model-training\\\\src\\\\cnn_lora\\\\..\\\\..\\\\data\\\\lambda\\\\u6b-1737059224183.png', 'c:\\\\Users\\\\Leon\\\\visual-studio\\\\repos\\\\Le-o-n\\\\ocr-model-training\\\\src\\\\cnn_lora\\\\..\\\\..\\\\data\\\\lambda\\\\u63-1737715317564.png', 'c:\\\\Users\\\\Leon\\\\visual-studio\\\\repos\\\\Le-o-n\\\\ocr-model-training\\\\src\\\\cnn_lora\\\\..\\\\..\\\\data\\\\lambda\\\\u3e--8641258758694486139.png', 'c:\\\\Users\\\\Leon\\\\visual-studio\\\\repos\\\\Le-o-n\\\\ocr-model-training\\\\src\\\\cnn_lora\\\\..\\\\..\\\\data\\\\lambda\\\\u5d-8909387597451123697.png', 'c:\\\\Users\\\\Leon\\\\visual-studio\\\\repos\\\\Le-o-n\\\\ocr-model-training\\\\src\\\\cnn_lora\\\\..\\\\..\\\\data\\\\lambda\\\\u70-1737141818072.png', 'c:\\\\Users\\\\Leon\\\\visual-studio\\\\repos\\\\Le-o-n\\\\ocr-model-training\\\\src\\\\cnn_lora\\\\..\\\\..\\\\data\\\\lambda\\\\u3e--6949828593454473883.png', 'c:\\\\Users\\\\Leon\\\\visual-studio\\\\repos\\\\Le-o-n\\\\ocr-model-training\\\\src\\\\cnn_lora\\\\..\\\\..\\\\data\\\\lambda\\\\u79-1737059671567.png', 'c:\\\\Users\\\\Leon\\\\visual-studio\\\\repos\\\\Le-o-n\\\\ocr-model-training\\\\src\\\\cnn_lora\\\\..\\\\..\\\\data\\\\lambda\\\\u30-1737714179455.png', 'c:\\\\Users\\\\Leon\\\\visual-studio\\\\repos\\\\Le-o-n\\\\ocr-model-training\\\\src\\\\cnn_lora\\\\..\\\\..\\\\data\\\\lambda\\\\u75-1737141880101.png', 'c:\\\\Users\\\\Leon\\\\visual-studio\\\\repos\\\\Le-o-n\\\\ocr-model-training\\\\src\\\\cnn_lora\\\\..\\\\..\\\\data\\\\lambda\\\\u6d-1737141870696.png', 'c:\\\\Users\\\\Leon\\\\visual-studio\\\\repos\\\\Le-o-n\\\\ocr-model-training\\\\src\\\\cnn_lora\\\\..\\\\..\\\\data\\\\lambda\\\\u2b-1736980140502.png', 'c:\\\\Users\\\\Leon\\\\visual-studio\\\\repos\\\\Le-o-n\\\\ocr-model-training\\\\src\\\\cnn_lora\\\\..\\\\..\\\\data\\\\lambda\\\\u62-1737715316347.png', 'c:\\\\Users\\\\Leon\\\\visual-studio\\\\repos\\\\Le-o-n\\\\ocr-model-training\\\\src\\\\cnn_lora\\\\..\\\\..\\\\data\\\\lambda\\\\u33-1737141730724.png', 'c:\\\\Users\\\\Leon\\\\visual-studio\\\\repos\\\\Le-o-n\\\\ocr-model-training\\\\src\\\\cnn_lora\\\\..\\\\..\\\\data\\\\lambda\\\\u62-1737058898236.png', 'c:\\\\Users\\\\Leon\\\\visual-studio\\\\repos\\\\Le-o-n\\\\ocr-model-training\\\\src\\\\cnn_lora\\\\..\\\\..\\\\data\\\\lambda\\\\u7b--2429754380273286924.png', 'c:\\\\Users\\\\Leon\\\\visual-studio\\\\repos\\\\Le-o-n\\\\ocr-model-training\\\\src\\\\cnn_lora\\\\..\\\\..\\\\data\\\\lambda\\\\u6b-1737714550090.png', 'c:\\\\Users\\\\Leon\\\\visual-studio\\\\repos\\\\Le-o-n\\\\ocr-model-training\\\\src\\\\cnn_lora\\\\..\\\\..\\\\data\\\\lambda\\\\u2b-1736987270569.png', 'c:\\\\Users\\\\Leon\\\\visual-studio\\\\repos\\\\Le-o-n\\\\ocr-model-training\\\\src\\\\cnn_lora\\\\..\\\\..\\\\data\\\\lambda\\\\u72-1737059073412.png', 'c:\\\\Users\\\\Leon\\\\visual-studio\\\\repos\\\\Le-o-n\\\\ocr-model-training\\\\src\\\\cnn_lora\\\\..\\\\..\\\\data\\\\lambda\\\\ud7-1737915395912.png', 'c:\\\\Users\\\\Leon\\\\visual-studio\\\\repos\\\\Le-o-n\\\\ocr-model-training\\\\src\\\\cnn_lora\\\\..\\\\..\\\\data\\\\lambda\\\\u77-1737059820660.png', 'c:\\\\Users\\\\Leon\\\\visual-studio\\\\repos\\\\Le-o-n\\\\ocr-model-training\\\\src\\\\cnn_lora\\\\..\\\\..\\\\data\\\\lambda\\\\u29-1736987306720.png', 'c:\\\\Users\\\\Leon\\\\visual-studio\\\\repos\\\\Le-o-n\\\\ocr-model-training\\\\src\\\\cnn_lora\\\\..\\\\..\\\\data\\\\lambda\\\\u6a-1737141866488.png', 'c:\\\\Users\\\\Leon\\\\visual-studio\\\\repos\\\\Le-o-n\\\\ocr-model-training\\\\src\\\\cnn_lora\\\\..\\\\..\\\\data\\\\lambda\\\\u5b-1510639799726140485.png', 'c:\\\\Users\\\\Leon\\\\visual-studio\\\\repos\\\\Le-o-n\\\\ocr-model-training\\\\src\\\\cnn_lora\\\\..\\\\..\\\\data\\\\lambda\\\\u7b-6117495364377250151.png', 'c:\\\\Users\\\\Leon\\\\visual-studio\\\\repos\\\\Le-o-n\\\\ocr-model-training\\\\src\\\\cnn_lora\\\\..\\\\..\\\\data\\\\lambda\\\\u76-1737713964888.png', 'c:\\\\Users\\\\Leon\\\\visual-studio\\\\repos\\\\Le-o-n\\\\ocr-model-training\\\\src\\\\cnn_lora\\\\..\\\\..\\\\data\\\\lambda\\\\u31-1736987490438.png', 'c:\\\\Users\\\\Leon\\\\visual-studio\\\\repos\\\\Le-o-n\\\\ocr-model-training\\\\src\\\\cnn_lora\\\\..\\\\..\\\\data\\\\lambda\\\\u2e-1736987496811.png', 'c:\\\\Users\\\\Leon\\\\visual-studio\\\\repos\\\\Le-o-n\\\\ocr-model-training\\\\src\\\\cnn_lora\\\\..\\\\..\\\\data\\\\lambda\\\\u38-1737059763069.png', 'c:\\\\Users\\\\Leon\\\\visual-studio\\\\repos\\\\Le-o-n\\\\ocr-model-training\\\\src\\\\cnn_lora\\\\..\\\\..\\\\data\\\\lambda\\\\u5d-5941841808450438105.png', 'c:\\\\Users\\\\Leon\\\\visual-studio\\\\repos\\\\Le-o-n\\\\ocr-model-training\\\\src\\\\cnn_lora\\\\..\\\\..\\\\data\\\\lambda\\\\u6b-1737059795306.png', 'c:\\\\Users\\\\Leon\\\\visual-studio\\\\repos\\\\Le-o-n\\\\ocr-model-training\\\\src\\\\cnn_lora\\\\..\\\\..\\\\data\\\\lambda\\\\u30-1737141783817.png', 'c:\\\\Users\\\\Leon\\\\visual-studio\\\\repos\\\\Le-o-n\\\\ocr-model-training\\\\src\\\\cnn_lora\\\\..\\\\..\\\\data\\\\lambda\\\\u35-1737059622785.png', 'c:\\\\Users\\\\Leon\\\\visual-studio\\\\repos\\\\Le-o-n\\\\ocr-model-training\\\\src\\\\cnn_lora\\\\..\\\\..\\\\data\\\\lambda\\\\u36-1737058996021.png', 'c:\\\\Users\\\\Leon\\\\visual-studio\\\\repos\\\\Le-o-n\\\\ocr-model-training\\\\src\\\\cnn_lora\\\\..\\\\..\\\\data\\\\lambda\\\\u6c-1737059947076.png', 'c:\\\\Users\\\\Leon\\\\visual-studio\\\\repos\\\\Le-o-n\\\\ocr-model-training\\\\src\\\\cnn_lora\\\\..\\\\..\\\\data\\\\lambda\\\\u71-1737059072248.png', 'c:\\\\Users\\\\Leon\\\\visual-studio\\\\repos\\\\Le-o-n\\\\ocr-model-training\\\\src\\\\cnn_lora\\\\..\\\\..\\\\data\\\\lambda\\\\u2b-1736987260081.png', 'c:\\\\Users\\\\Leon\\\\visual-studio\\\\repos\\\\Le-o-n\\\\ocr-model-training\\\\src\\\\cnn_lora\\\\..\\\\..\\\\data\\\\lambda\\\\u5d-2921381582896648075.png', 'c:\\\\Users\\\\Leon\\\\visual-studio\\\\repos\\\\Le-o-n\\\\ocr-model-training\\\\src\\\\cnn_lora\\\\..\\\\..\\\\data\\\\lambda\\\\u2b-1737714668189.png', 'c:\\\\Users\\\\Leon\\\\visual-studio\\\\repos\\\\Le-o-n\\\\ocr-model-training\\\\src\\\\cnn_lora\\\\..\\\\..\\\\data\\\\lambda\\\\u3a-8049105150613891773.png', 'c:\\\\Users\\\\Leon\\\\visual-studio\\\\repos\\\\Le-o-n\\\\ocr-model-training\\\\src\\\\cnn_lora\\\\..\\\\..\\\\data\\\\lambda\\\\u7d--184043396865508773.png', 'c:\\\\Users\\\\Leon\\\\visual-studio\\\\repos\\\\Le-o-n\\\\ocr-model-training\\\\src\\\\cnn_lora\\\\..\\\\..\\\\data\\\\lambda\\\\u31-1736987240770.png', 'c:\\\\Users\\\\Leon\\\\visual-studio\\\\repos\\\\Le-o-n\\\\ocr-model-training\\\\src\\\\cnn_lora\\\\..\\\\..\\\\data\\\\lambda\\\\u6b-1737059874383.png', 'c:\\\\Users\\\\Leon\\\\visual-studio\\\\repos\\\\Le-o-n\\\\ocr-model-training\\\\src\\\\cnn_lora\\\\..\\\\..\\\\data\\\\lambda\\\\u66-1737059123514.png', 'c:\\\\Users\\\\Leon\\\\visual-studio\\\\repos\\\\Le-o-n\\\\ocr-model-training\\\\src\\\\cnn_lora\\\\..\\\\..\\\\data\\\\lambda\\\\u38-1737141738234.png', 'c:\\\\Users\\\\Leon\\\\visual-studio\\\\repos\\\\Le-o-n\\\\ocr-model-training\\\\src\\\\cnn_lora\\\\..\\\\..\\\\data\\\\lambda\\\\u66-1737059297364.png', 'c:\\\\Users\\\\Leon\\\\visual-studio\\\\repos\\\\Le-o-n\\\\ocr-model-training\\\\src\\\\cnn_lora\\\\..\\\\..\\\\data\\\\lambda\\\\u29-1736987513239.png', 'c:\\\\Users\\\\Leon\\\\visual-studio\\\\repos\\\\Le-o-n\\\\ocr-model-training\\\\src\\\\cnn_lora\\\\..\\\\..\\\\data\\\\lambda\\\\u36-1737059977327.png', 'c:\\\\Users\\\\Leon\\\\visual-studio\\\\repos\\\\Le-o-n\\\\ocr-model-training\\\\src\\\\cnn_lora\\\\..\\\\..\\\\data\\\\lambda\\\\u2e-1736987257188.png', 'c:\\\\Users\\\\Leon\\\\visual-studio\\\\repos\\\\Le-o-n\\\\ocr-model-training\\\\src\\\\cnn_lora\\\\..\\\\..\\\\data\\\\lambda\\\\u69-1737060003364.png', 'c:\\\\Users\\\\Leon\\\\visual-studio\\\\repos\\\\Le-o-n\\\\ocr-model-training\\\\src\\\\cnn_lora\\\\..\\\\..\\\\data\\\\lambda\\\\u7a-1737715365339.png', 'c:\\\\Users\\\\Leon\\\\visual-studio\\\\repos\\\\Le-o-n\\\\ocr-model-training\\\\src\\\\cnn_lora\\\\..\\\\..\\\\data\\\\lambda\\\\u28-1736980160991.png', 'c:\\\\Users\\\\Leon\\\\visual-studio\\\\repos\\\\Le-o-n\\\\ocr-model-training\\\\src\\\\cnn_lora\\\\..\\\\..\\\\data\\\\lambda\\\\u28-1736987314303.png', 'c:\\\\Users\\\\Leon\\\\visual-studio\\\\repos\\\\Le-o-n\\\\ocr-model-training\\\\src\\\\cnn_lora\\\\..\\\\..\\\\data\\\\lambda\\\\u73-1737141821706.png', 'c:\\\\Users\\\\Leon\\\\visual-studio\\\\repos\\\\Le-o-n\\\\ocr-model-training\\\\src\\\\cnn_lora\\\\..\\\\..\\\\data\\\\lambda\\\\u74-1737059960341.png', 'c:\\\\Users\\\\Leon\\\\visual-studio\\\\repos\\\\Le-o-n\\\\ocr-model-training\\\\src\\\\cnn_lora\\\\..\\\\..\\\\data\\\\lambda\\\\u29-1736979972308.png', 'c:\\\\Users\\\\Leon\\\\visual-studio\\\\repos\\\\Le-o-n\\\\ocr-model-training\\\\src\\\\cnn_lora\\\\..\\\\..\\\\data\\\\lambda\\\\u7a-1737058935794.png', 'c:\\\\Users\\\\Leon\\\\visual-studio\\\\repos\\\\Le-o-n\\\\ocr-model-training\\\\src\\\\cnn_lora\\\\..\\\\..\\\\data\\\\lambda\\\\uf7-1737714204198.png', 'c:\\\\Users\\\\Leon\\\\visual-studio\\\\repos\\\\Le-o-n\\\\ocr-model-training\\\\src\\\\cnn_lora\\\\..\\\\..\\\\data\\\\lambda\\\\u38-1737714663887.png', 'c:\\\\Users\\\\Leon\\\\visual-studio\\\\repos\\\\Le-o-n\\\\ocr-model-training\\\\src\\\\cnn_lora\\\\..\\\\..\\\\data\\\\lambda\\\\u73-1737059597814.png', 'c:\\\\Users\\\\Leon\\\\visual-studio\\\\repos\\\\Le-o-n\\\\ocr-model-training\\\\src\\\\cnn_lora\\\\..\\\\..\\\\data\\\\lambda\\\\u3a--3802657913116827999.png', 'c:\\\\Users\\\\Leon\\\\visual-studio\\\\repos\\\\Le-o-n\\\\ocr-model-training\\\\src\\\\cnn_lora\\\\..\\\\..\\\\data\\\\lambda\\\\u65-1737059643731.png', 'c:\\\\Users\\\\Leon\\\\visual-studio\\\\repos\\\\Le-o-n\\\\ocr-model-training\\\\src\\\\cnn_lora\\\\..\\\\..\\\\data\\\\lambda\\\\u5b-3814096250655120847.png', 'c:\\\\Users\\\\Leon\\\\visual-studio\\\\repos\\\\Le-o-n\\\\ocr-model-training\\\\src\\\\cnn_lora\\\\..\\\\..\\\\data\\\\lambda\\\\u62-1737141852822.png', 'c:\\\\Users\\\\Leon\\\\visual-studio\\\\repos\\\\Le-o-n\\\\ocr-model-training\\\\src\\\\cnn_lora\\\\..\\\\..\\\\data\\\\lambda\\\\u7a-1737141781775.png', 'c:\\\\Users\\\\Leon\\\\visual-studio\\\\repos\\\\Le-o-n\\\\ocr-model-training\\\\src\\\\cnn_lora\\\\..\\\\..\\\\data\\\\lambda\\\\u5b-3795753755779794489.png', 'c:\\\\Users\\\\Leon\\\\visual-studio\\\\repos\\\\Le-o-n\\\\ocr-model-training\\\\src\\\\cnn_lora\\\\..\\\\..\\\\data\\\\lambda\\\\u3bb-1736987308017.png', 'c:\\\\Users\\\\Leon\\\\visual-studio\\\\repos\\\\Le-o-n\\\\ocr-model-training\\\\src\\\\cnn_lora\\\\..\\\\..\\\\data\\\\lambda\\\\u68-1737141862396.png', 'c:\\\\Users\\\\Leon\\\\visual-studio\\\\repos\\\\Le-o-n\\\\ocr-model-training\\\\src\\\\cnn_lora\\\\..\\\\..\\\\data\\\\lambda\\\\u64-1737059778508.png', 'c:\\\\Users\\\\Leon\\\\visual-studio\\\\repos\\\\Le-o-n\\\\ocr-model-training\\\\src\\\\cnn_lora\\\\..\\\\..\\\\data\\\\lambda\\\\u29-1736980083449.png', 'c:\\\\Users\\\\Leon\\\\visual-studio\\\\repos\\\\Le-o-n\\\\ocr-model-training\\\\src\\\\cnn_lora\\\\..\\\\..\\\\data\\\\lambda\\\\u62-1737059991528.png', 'c:\\\\Users\\\\Leon\\\\visual-studio\\\\repos\\\\Le-o-n\\\\ocr-model-training\\\\src\\\\cnn_lora\\\\..\\\\..\\\\data\\\\lambda\\\\u31-1736980151414.png', 'c:\\\\Users\\\\Leon\\\\visual-studio\\\\repos\\\\Le-o-n\\\\ocr-model-training\\\\src\\\\cnn_lora\\\\..\\\\..\\\\data\\\\lambda\\\\u30-1737715366894.png', 'c:\\\\Users\\\\Leon\\\\visual-studio\\\\repos\\\\Le-o-n\\\\ocr-model-training\\\\src\\\\cnn_lora\\\\..\\\\..\\\\data\\\\lambda\\\\u3c--2483282207222905190.png', 'c:\\\\Users\\\\Leon\\\\visual-studio\\\\repos\\\\Le-o-n\\\\ocr-model-training\\\\src\\\\cnn_lora\\\\..\\\\..\\\\data\\\\lambda\\\\u6a-1737059141058.png', 'c:\\\\Users\\\\Leon\\\\visual-studio\\\\repos\\\\Le-o-n\\\\ocr-model-training\\\\src\\\\cnn_lora\\\\..\\\\..\\\\data\\\\lambda\\\\u39-1737715382565.png', 'c:\\\\Users\\\\Leon\\\\visual-studio\\\\repos\\\\Le-o-n\\\\ocr-model-training\\\\src\\\\cnn_lora\\\\..\\\\..\\\\data\\\\lambda\\\\u3d-8672664150054062996.png', 'c:\\\\Users\\\\Leon\\\\visual-studio\\\\repos\\\\Le-o-n\\\\ocr-model-training\\\\src\\\\cnn_lora\\\\..\\\\..\\\\data\\\\lambda\\\\u34-1737059679820.png', 'c:\\\\Users\\\\Leon\\\\visual-studio\\\\repos\\\\Le-o-n\\\\ocr-model-training\\\\src\\\\cnn_lora\\\\..\\\\..\\\\data\\\\lambda\\\\u3e--2117351070546225352.png', 'c:\\\\Users\\\\Leon\\\\visual-studio\\\\repos\\\\Le-o-n\\\\ocr-model-training\\\\src\\\\cnn_lora\\\\..\\\\..\\\\data\\\\lambda\\\\u3a-6979941884405680047.png', 'c:\\\\Users\\\\Leon\\\\visual-studio\\\\repos\\\\Le-o-n\\\\ocr-model-training\\\\src\\\\cnn_lora\\\\..\\\\..\\\\data\\\\lambda\\\\u62-1737059773108.png', 'c:\\\\Users\\\\Leon\\\\visual-studio\\\\repos\\\\Le-o-n\\\\ocr-model-training\\\\src\\\\cnn_lora\\\\..\\\\..\\\\data\\\\lambda\\\\u37-1737141841831.png', 'c:\\\\Users\\\\Leon\\\\visual-studio\\\\repos\\\\Le-o-n\\\\ocr-model-training\\\\src\\\\cnn_lora\\\\..\\\\..\\\\data\\\\lambda\\\\u32-1737714653790.png', 'c:\\\\Users\\\\Leon\\\\visual-studio\\\\repos\\\\Le-o-n\\\\ocr-model-training\\\\src\\\\cnn_lora\\\\..\\\\..\\\\data\\\\lambda\\\\u5b-8660922122240967983.png', 'c:\\\\Users\\\\Leon\\\\visual-studio\\\\repos\\\\Le-o-n\\\\ocr-model-training\\\\src\\\\cnn_lora\\\\..\\\\..\\\\data\\\\lambda\\\\u29-1736980178517.png', 'c:\\\\Users\\\\Leon\\\\visual-studio\\\\repos\\\\Le-o-n\\\\ocr-model-training\\\\src\\\\cnn_lora\\\\..\\\\..\\\\data\\\\lambda\\\\u2e-1736980094879.png', 'c:\\\\Users\\\\Leon\\\\visual-studio\\\\repos\\\\Le-o-n\\\\ocr-model-training\\\\src\\\\cnn_lora\\\\..\\\\..\\\\data\\\\lambda\\\\u79-1737713975230.png', 'c:\\\\Users\\\\Leon\\\\visual-studio\\\\repos\\\\Le-o-n\\\\ocr-model-training\\\\src\\\\cnn_lora\\\\..\\\\..\\\\data\\\\lambda\\\\u37-1737058997654.png', 'c:\\\\Users\\\\Leon\\\\visual-studio\\\\repos\\\\Le-o-n\\\\ocr-model-training\\\\src\\\\cnn_lora\\\\..\\\\..\\\\data\\\\lambda\\\\u72-1737059886456.png', 'c:\\\\Users\\\\Leon\\\\visual-studio\\\\repos\\\\Le-o-n\\\\ocr-model-training\\\\src\\\\cnn_lora\\\\..\\\\..\\\\data\\\\lambda\\\\u61-1736980060297.png', 'c:\\\\Users\\\\Leon\\\\visual-studio\\\\repos\\\\Le-o-n\\\\ocr-model-training\\\\src\\\\cnn_lora\\\\..\\\\..\\\\data\\\\lambda\\\\u64-1737059994241.png', 'c:\\\\Users\\\\Leon\\\\visual-studio\\\\repos\\\\Le-o-n\\\\ocr-model-training\\\\src\\\\cnn_lora\\\\..\\\\..\\\\data\\\\lambda\\\\u3d--687958963415230184.png', 'c:\\\\Users\\\\Leon\\\\visual-studio\\\\repos\\\\Le-o-n\\\\ocr-model-training\\\\src\\\\cnn_lora\\\\..\\\\..\\\\data\\\\lambda\\\\u6e-1737141871854.png', 'c:\\\\Users\\\\Leon\\\\visual-studio\\\\repos\\\\Le-o-n\\\\ocr-model-training\\\\src\\\\cnn_lora\\\\..\\\\..\\\\data\\\\lambda\\\\u3d--5287517692844645857.png', 'c:\\\\Users\\\\Leon\\\\visual-studio\\\\repos\\\\Le-o-n\\\\ocr-model-training\\\\src\\\\cnn_lora\\\\..\\\\..\\\\data\\\\lambda\\\\u61-1736987286192.png', 'c:\\\\Users\\\\Leon\\\\visual-studio\\\\repos\\\\Le-o-n\\\\ocr-model-training\\\\src\\\\cnn_lora\\\\..\\\\..\\\\data\\\\lambda\\\\u66-1737713938828.png', 'c:\\\\Users\\\\Leon\\\\visual-studio\\\\repos\\\\Le-o-n\\\\ocr-model-training\\\\src\\\\cnn_lora\\\\..\\\\..\\\\data\\\\lambda\\\\u34-1737059974743.png', 'c:\\\\Users\\\\Leon\\\\visual-studio\\\\repos\\\\Le-o-n\\\\ocr-model-training\\\\src\\\\cnn_lora\\\\..\\\\..\\\\data\\\\lambda\\\\u37-1737059684996.png', 'c:\\\\Users\\\\Leon\\\\visual-studio\\\\repos\\\\Le-o-n\\\\ocr-model-training\\\\src\\\\cnn_lora\\\\..\\\\..\\\\data\\\\lambda\\\\u61-1736987487987.png', 'c:\\\\Users\\\\Leon\\\\visual-studio\\\\repos\\\\Le-o-n\\\\ocr-model-training\\\\src\\\\cnn_lora\\\\..\\\\..\\\\data\\\\lambda\\\\u2e-1736987476659.png', 'c:\\\\Users\\\\Leon\\\\visual-studio\\\\repos\\\\Le-o-n\\\\ocr-model-training\\\\src\\\\cnn_lora\\\\..\\\\..\\\\data\\\\lambda\\\\u2d-1739014191207.png', 'c:\\\\Users\\\\Leon\\\\visual-studio\\\\repos\\\\Le-o-n\\\\ocr-model-training\\\\src\\\\cnn_lora\\\\..\\\\..\\\\data\\\\lambda\\\\u3e--4927574653763512694.png', 'c:\\\\Users\\\\Leon\\\\visual-studio\\\\repos\\\\Le-o-n\\\\ocr-model-training\\\\src\\\\cnn_lora\\\\..\\\\..\\\\data\\\\lambda\\\\u72-1737059235850.png', 'c:\\\\Users\\\\Leon\\\\visual-studio\\\\repos\\\\Le-o-n\\\\ocr-model-training\\\\src\\\\cnn_lora\\\\..\\\\..\\\\data\\\\lambda\\\\u2d-1739014202929.png', 'c:\\\\Users\\\\Leon\\\\visual-studio\\\\repos\\\\Le-o-n\\\\ocr-model-training\\\\src\\\\cnn_lora\\\\..\\\\..\\\\data\\\\lambda\\\\u35-1737058994918.png', 'c:\\\\Users\\\\Leon\\\\visual-studio\\\\repos\\\\Le-o-n\\\\ocr-model-training\\\\src\\\\cnn_lora\\\\..\\\\..\\\\data\\\\lambda\\\\u64-1737714212615.png', 'c:\\\\Users\\\\Leon\\\\visual-studio\\\\repos\\\\Le-o-n\\\\ocr-model-training\\\\src\\\\cnn_lora\\\\..\\\\..\\\\data\\\\lambda\\\\u35-1737713991968.png', 'c:\\\\Users\\\\Leon\\\\visual-studio\\\\repos\\\\Le-o-n\\\\ocr-model-training\\\\src\\\\cnn_lora\\\\..\\\\..\\\\data\\\\lambda\\\\u37-1737059627135.png', 'c:\\\\Users\\\\Leon\\\\visual-studio\\\\repos\\\\Le-o-n\\\\ocr-model-training\\\\src\\\\cnn_lora\\\\..\\\\..\\\\data\\\\lambda\\\\u66-1737059577074.png', 'c:\\\\Users\\\\Leon\\\\visual-studio\\\\repos\\\\Le-o-n\\\\ocr-model-training\\\\src\\\\cnn_lora\\\\..\\\\..\\\\data\\\\lambda\\\\u67-1737714540792.png', 'c:\\\\Users\\\\Leon\\\\visual-studio\\\\repos\\\\Le-o-n\\\\ocr-model-training\\\\src\\\\cnn_lora\\\\..\\\\..\\\\data\\\\lambda\\\\u78-1737141885690.png', 'c:\\\\Users\\\\Leon\\\\visual-studio\\\\repos\\\\Le-o-n\\\\ocr-model-training\\\\src\\\\cnn_lora\\\\..\\\\..\\\\data\\\\lambda\\\\u29-1736987530955.png', 'c:\\\\Users\\\\Leon\\\\visual-studio\\\\repos\\\\Le-o-n\\\\ocr-model-training\\\\src\\\\cnn_lora\\\\..\\\\..\\\\data\\\\lambda\\\\u5d-1033929685278019027.png', 'c:\\\\Users\\\\Leon\\\\visual-studio\\\\repos\\\\Le-o-n\\\\ocr-model-training\\\\src\\\\cnn_lora\\\\..\\\\..\\\\data\\\\lambda\\\\u6e-1737059068429.png', 'c:\\\\Users\\\\Leon\\\\visual-studio\\\\repos\\\\Le-o-n\\\\ocr-model-training\\\\src\\\\cnn_lora\\\\..\\\\..\\\\data\\\\lambda\\\\u28-1736980091174.png', 'c:\\\\Users\\\\Leon\\\\visual-studio\\\\repos\\\\Le-o-n\\\\ocr-model-training\\\\src\\\\cnn_lora\\\\..\\\\..\\\\data\\\\lambda\\\\u32-1737059543159.png', 'c:\\\\Users\\\\Leon\\\\visual-studio\\\\repos\\\\Le-o-n\\\\ocr-model-training\\\\src\\\\cnn_lora\\\\..\\\\..\\\\data\\\\lambda\\\\u31-1737714651940.png', 'c:\\\\Users\\\\Leon\\\\visual-studio\\\\repos\\\\Le-o-n\\\\ocr-model-training\\\\src\\\\cnn_lora\\\\..\\\\..\\\\data\\\\lambda\\\\u28-1736987568878.png', 'c:\\\\Users\\\\Leon\\\\visual-studio\\\\repos\\\\Le-o-n\\\\ocr-model-training\\\\src\\\\cnn_lora\\\\..\\\\..\\\\data\\\\lambda\\\\ud7-1737915399643.png', 'c:\\\\Users\\\\Leon\\\\visual-studio\\\\repos\\\\Le-o-n\\\\ocr-model-training\\\\src\\\\cnn_lora\\\\..\\\\..\\\\data\\\\lambda\\\\u3bb-1736987505230.png', 'c:\\\\Users\\\\Leon\\\\visual-studio\\\\repos\\\\Le-o-n\\\\ocr-model-training\\\\src\\\\cnn_lora\\\\..\\\\..\\\\data\\\\lambda\\\\u6c-1737059588095.png', 'c:\\\\Users\\\\Leon\\\\visual-studio\\\\repos\\\\Le-o-n\\\\ocr-model-training\\\\src\\\\cnn_lora\\\\..\\\\..\\\\data\\\\lambda\\\\u2e-1736987571881.png', 'c:\\\\Users\\\\Leon\\\\visual-studio\\\\repos\\\\Le-o-n\\\\ocr-model-training\\\\src\\\\cnn_lora\\\\..\\\\..\\\\data\\\\lambda\\\\u77-1737714356545.png', 'c:\\\\Users\\\\Leon\\\\visual-studio\\\\repos\\\\Le-o-n\\\\ocr-model-training\\\\src\\\\cnn_lora\\\\..\\\\..\\\\data\\\\lambda\\\\u3bb-1736979993153.png', 'c:\\\\Users\\\\Leon\\\\visual-studio\\\\repos\\\\Le-o-n\\\\ocr-model-training\\\\src\\\\cnn_lora\\\\..\\\\..\\\\data\\\\lambda\\\\u70-1737059233172.png', 'c:\\\\Users\\\\Leon\\\\visual-studio\\\\repos\\\\Le-o-n\\\\ocr-model-training\\\\src\\\\cnn_lora\\\\..\\\\..\\\\data\\\\lambda\\\\u70-1737715348551.png', 'c:\\\\Users\\\\Leon\\\\visual-studio\\\\repos\\\\Le-o-n\\\\ocr-model-training\\\\src\\\\cnn_lora\\\\..\\\\..\\\\data\\\\lambda\\\\u31-1736980122460.png', 'c:\\\\Users\\\\Leon\\\\visual-studio\\\\repos\\\\Le-o-n\\\\ocr-model-training\\\\src\\\\cnn_lora\\\\..\\\\..\\\\data\\\\lambda\\\\u2b-1736987536493.png', 'c:\\\\Users\\\\Leon\\\\visual-studio\\\\repos\\\\Le-o-n\\\\ocr-model-training\\\\src\\\\cnn_lora\\\\..\\\\..\\\\data\\\\lambda\\\\u7d--7124616709645295839.png', 'c:\\\\Users\\\\Leon\\\\visual-studio\\\\repos\\\\Le-o-n\\\\ocr-model-training\\\\src\\\\cnn_lora\\\\..\\\\..\\\\data\\\\lambda\\\\u61-1736980051710.png', 'c:\\\\Users\\\\Leon\\\\visual-studio\\\\repos\\\\Le-o-n\\\\ocr-model-training\\\\src\\\\cnn_lora\\\\..\\\\..\\\\data\\\\lambda\\\\u30-1737714365700.png', 'c:\\\\Users\\\\Leon\\\\visual-studio\\\\repos\\\\Le-o-n\\\\ocr-model-training\\\\src\\\\cnn_lora\\\\..\\\\..\\\\data\\\\lambda\\\\u5d-842048337758153038.png', 'c:\\\\Users\\\\Leon\\\\visual-studio\\\\repos\\\\Le-o-n\\\\ocr-model-training\\\\src\\\\cnn_lora\\\\..\\\\..\\\\data\\\\lambda\\\\u3bb-1736987224617.png', 'c:\\\\Users\\\\Leon\\\\visual-studio\\\\repos\\\\Le-o-n\\\\ocr-model-training\\\\src\\\\cnn_lora\\\\..\\\\..\\\\data\\\\lambda\\\\u35-1737714659171.png', 'c:\\\\Users\\\\Leon\\\\visual-studio\\\\repos\\\\Le-o-n\\\\ocr-model-training\\\\src\\\\cnn_lora\\\\..\\\\..\\\\data\\\\lambda\\\\u76-1737059082718.png', 'c:\\\\Users\\\\Leon\\\\visual-studio\\\\repos\\\\Le-o-n\\\\ocr-model-training\\\\src\\\\cnn_lora\\\\..\\\\..\\\\data\\\\lambda\\\\u29-1736987482948.png', 'c:\\\\Users\\\\Leon\\\\visual-studio\\\\repos\\\\Le-o-n\\\\ocr-model-training\\\\src\\\\cnn_lora\\\\..\\\\..\\\\data\\\\lambda\\\\u3e-1235587700755002374.png', 'c:\\\\Users\\\\Leon\\\\visual-studio\\\\repos\\\\Le-o-n\\\\ocr-model-training\\\\src\\\\cnn_lora\\\\..\\\\..\\\\data\\\\lambda\\\\u29-1736987192495.png', 'c:\\\\Users\\\\Leon\\\\visual-studio\\\\repos\\\\Le-o-n\\\\ocr-model-training\\\\src\\\\cnn_lora\\\\..\\\\..\\\\data\\\\lambda\\\\u61-1736987543116.png', 'c:\\\\Users\\\\Leon\\\\visual-studio\\\\repos\\\\Le-o-n\\\\ocr-model-training\\\\src\\\\cnn_lora\\\\..\\\\..\\\\data\\\\lambda\\\\u33-1737713988329.png', 'c:\\\\Users\\\\Leon\\\\visual-studio\\\\repos\\\\Le-o-n\\\\ocr-model-training\\\\src\\\\cnn_lora\\\\..\\\\..\\\\data\\\\lambda\\\\u36-1737059760051.png', 'c:\\\\Users\\\\Leon\\\\visual-studio\\\\repos\\\\Le-o-n\\\\ocr-model-training\\\\src\\\\cnn_lora\\\\..\\\\..\\\\data\\\\lambda\\\\u61-1736980129365.png', 'c:\\\\Users\\\\Leon\\\\visual-studio\\\\repos\\\\Le-o-n\\\\ocr-model-training\\\\src\\\\cnn_lora\\\\..\\\\..\\\\data\\\\lambda\\\\u37-1737059844469.png', 'c:\\\\Users\\\\Leon\\\\visual-studio\\\\repos\\\\Le-o-n\\\\ocr-model-training\\\\src\\\\cnn_lora\\\\..\\\\..\\\\data\\\\lambda\\\\u78-1737141777603.png', 'c:\\\\Users\\\\Leon\\\\visual-studio\\\\repos\\\\Le-o-n\\\\ocr-model-training\\\\src\\\\cnn_lora\\\\..\\\\..\\\\data\\\\lambda\\\\u78-1737060029195.png', 'c:\\\\Users\\\\Leon\\\\visual-studio\\\\repos\\\\Le-o-n\\\\ocr-model-training\\\\src\\\\cnn_lora\\\\..\\\\..\\\\data\\\\lambda\\\\u6a-1737715330844.png', 'c:\\\\Users\\\\Leon\\\\visual-studio\\\\repos\\\\Le-o-n\\\\ocr-model-training\\\\src\\\\cnn_lora\\\\..\\\\..\\\\data\\\\lambda\\\\u72-1737060020324.png', 'c:\\\\Users\\\\Leon\\\\visual-studio\\\\repos\\\\Le-o-n\\\\ocr-model-training\\\\src\\\\cnn_lora\\\\..\\\\..\\\\data\\\\lambda\\\\u6b-1737141756502.png', 'c:\\\\Users\\\\Leon\\\\visual-studio\\\\repos\\\\Le-o-n\\\\ocr-model-training\\\\src\\\\cnn_lora\\\\..\\\\..\\\\data\\\\lambda\\\\u2b-1737714507865.png', 'c:\\\\Users\\\\Leon\\\\visual-studio\\\\repos\\\\Le-o-n\\\\ocr-model-training\\\\src\\\\cnn_lora\\\\..\\\\..\\\\data\\\\lambda\\\\u28-1736980152417.png', 'c:\\\\Users\\\\Leon\\\\visual-studio\\\\repos\\\\Le-o-n\\\\ocr-model-training\\\\src\\\\cnn_lora\\\\..\\\\..\\\\data\\\\lambda\\\\u6a-1737059062316.png', 'c:\\\\Users\\\\Leon\\\\visual-studio\\\\repos\\\\Le-o-n\\\\ocr-model-training\\\\src\\\\cnn_lora\\\\..\\\\..\\\\data\\\\lambda\\\\u6a-1737059793332.png', 'c:\\\\Users\\\\Leon\\\\visual-studio\\\\repos\\\\Le-o-n\\\\ocr-model-training\\\\src\\\\cnn_lora\\\\..\\\\..\\\\data\\\\lambda\\\\u32-1737059835204.png', 'c:\\\\Users\\\\Leon\\\\visual-studio\\\\repos\\\\Le-o-n\\\\ocr-model-training\\\\src\\\\cnn_lora\\\\..\\\\..\\\\data\\\\lambda\\\\u34-1737714188191.png', 'c:\\\\Users\\\\Leon\\\\visual-studio\\\\repos\\\\Le-o-n\\\\ocr-model-training\\\\src\\\\cnn_lora\\\\..\\\\..\\\\data\\\\lambda\\\\u39-1737714666007.png', 'c:\\\\Users\\\\Leon\\\\visual-studio\\\\repos\\\\Le-o-n\\\\ocr-model-training\\\\src\\\\cnn_lora\\\\..\\\\..\\\\data\\\\lambda\\\\u77-1737059739605.png', 'c:\\\\Users\\\\Leon\\\\visual-studio\\\\repos\\\\Le-o-n\\\\ocr-model-training\\\\src\\\\cnn_lora\\\\..\\\\..\\\\data\\\\lambda\\\\u79-1737059610426.png', 'c:\\\\Users\\\\Leon\\\\visual-studio\\\\repos\\\\Le-o-n\\\\ocr-model-training\\\\src\\\\cnn_lora\\\\..\\\\..\\\\data\\\\lambda\\\\u28-1736987502571.png', 'c:\\\\Users\\\\Leon\\\\visual-studio\\\\repos\\\\Le-o-n\\\\ocr-model-training\\\\src\\\\cnn_lora\\\\..\\\\..\\\\data\\\\lambda\\\\u31-1736987511040.png', 'c:\\\\Users\\\\Leon\\\\visual-studio\\\\repos\\\\Le-o-n\\\\ocr-model-training\\\\src\\\\cnn_lora\\\\..\\\\..\\\\data\\\\lambda\\\\u63-1737059992862.png', 'c:\\\\Users\\\\Leon\\\\visual-studio\\\\repos\\\\Le-o-n\\\\ocr-model-training\\\\src\\\\cnn_lora\\\\..\\\\..\\\\data\\\\lambda\\\\u71-1737141819441.png', 'c:\\\\Users\\\\Leon\\\\visual-studio\\\\repos\\\\Le-o-n\\\\ocr-model-training\\\\src\\\\cnn_lora\\\\..\\\\..\\\\data\\\\lambda\\\\u29-1736987298334.png', 'c:\\\\Users\\\\Leon\\\\visual-studio\\\\repos\\\\Le-o-n\\\\ocr-model-training\\\\src\\\\cnn_lora\\\\..\\\\..\\\\data\\\\lambda\\\\u64-1737713935185.png', 'c:\\\\Users\\\\Leon\\\\visual-studio\\\\repos\\\\Le-o-n\\\\ocr-model-training\\\\src\\\\cnn_lora\\\\..\\\\..\\\\data\\\\lambda\\\\u61-1736979966536.png', 'c:\\\\Users\\\\Leon\\\\visual-studio\\\\repos\\\\Le-o-n\\\\ocr-model-training\\\\src\\\\cnn_lora\\\\..\\\\..\\\\data\\\\lambda\\\\u75-1737059516697.png', 'c:\\\\Users\\\\Leon\\\\visual-studio\\\\repos\\\\Le-o-n\\\\ocr-model-training\\\\src\\\\cnn_lora\\\\..\\\\..\\\\data\\\\lambda\\\\u77-1737058927529.png', 'c:\\\\Users\\\\Leon\\\\visual-studio\\\\repos\\\\Le-o-n\\\\ocr-model-training\\\\src\\\\cnn_lora\\\\..\\\\..\\\\data\\\\lambda\\\\u33-1737059544540.png', 'c:\\\\Users\\\\Leon\\\\visual-studio\\\\repos\\\\Le-o-n\\\\ocr-model-training\\\\src\\\\cnn_lora\\\\..\\\\..\\\\data\\\\lambda\\\\u6e-1737059229726.png', 'c:\\\\Users\\\\Leon\\\\visual-studio\\\\repos\\\\Le-o-n\\\\ocr-model-training\\\\src\\\\cnn_lora\\\\..\\\\..\\\\data\\\\lambda\\\\u68-1737715327425.png', 'c:\\\\Users\\\\Leon\\\\visual-studio\\\\repos\\\\Le-o-n\\\\ocr-model-training\\\\src\\\\cnn_lora\\\\..\\\\..\\\\data\\\\lambda\\\\u73-1737141877691.png', 'c:\\\\Users\\\\Leon\\\\visual-studio\\\\repos\\\\Le-o-n\\\\ocr-model-training\\\\src\\\\cnn_lora\\\\..\\\\..\\\\data\\\\lambda\\\\u63-1737059201063.png', 'c:\\\\Users\\\\Leon\\\\visual-studio\\\\repos\\\\Le-o-n\\\\ocr-model-training\\\\src\\\\cnn_lora\\\\..\\\\..\\\\data\\\\lambda\\\\u6f-1737058917393.png', 'c:\\\\Users\\\\Leon\\\\visual-studio\\\\repos\\\\Le-o-n\\\\ocr-model-training\\\\src\\\\cnn_lora\\\\..\\\\..\\\\data\\\\lambda\\\\u3a--7880698106637741715.png', 'c:\\\\Users\\\\Leon\\\\visual-studio\\\\repos\\\\Le-o-n\\\\ocr-model-training\\\\src\\\\cnn_lora\\\\..\\\\..\\\\data\\\\lambda\\\\u61-1736980017858.png', 'c:\\\\Users\\\\Leon\\\\visual-studio\\\\repos\\\\Le-o-n\\\\ocr-model-training\\\\src\\\\cnn_lora\\\\..\\\\..\\\\data\\\\lambda\\\\u6e-1737059950550.png', 'c:\\\\Users\\\\Leon\\\\visual-studio\\\\repos\\\\Le-o-n\\\\ocr-model-training\\\\src\\\\cnn_lora\\\\..\\\\..\\\\data\\\\lambda\\\\u6b-1737141868020.png', 'c:\\\\Users\\\\Leon\\\\visual-studio\\\\repos\\\\Le-o-n\\\\ocr-model-training\\\\src\\\\cnn_lora\\\\..\\\\..\\\\data\\\\lambda\\\\u30-1737059541501.png', 'c:\\\\Users\\\\Leon\\\\visual-studio\\\\repos\\\\Le-o-n\\\\ocr-model-training\\\\src\\\\cnn_lora\\\\..\\\\..\\\\data\\\\lambda\\\\u6c-1737059065784.png', 'c:\\\\Users\\\\Leon\\\\visual-studio\\\\repos\\\\Le-o-n\\\\ocr-model-training\\\\src\\\\cnn_lora\\\\..\\\\..\\\\data\\\\lambda\\\\u68-1737713941996.png', 'c:\\\\Users\\\\Leon\\\\visual-studio\\\\repos\\\\Le-o-n\\\\ocr-model-training\\\\src\\\\cnn_lora\\\\..\\\\..\\\\data\\\\lambda\\\\u65-1737059995412.png', 'c:\\\\Users\\\\Leon\\\\visual-studio\\\\repos\\\\Le-o-n\\\\ocr-model-training\\\\src\\\\cnn_lora\\\\..\\\\..\\\\data\\\\lambda\\\\u7d--2552293876261661834.png', 'c:\\\\Users\\\\Leon\\\\visual-studio\\\\repos\\\\Le-o-n\\\\ocr-model-training\\\\src\\\\cnn_lora\\\\..\\\\..\\\\data\\\\lambda\\\\u32-1737141834487.png', 'c:\\\\Users\\\\Leon\\\\visual-studio\\\\repos\\\\Le-o-n\\\\ocr-model-training\\\\src\\\\cnn_lora\\\\..\\\\..\\\\data\\\\lambda\\\\u2e-1736987506458.png', 'c:\\\\Users\\\\Leon\\\\visual-studio\\\\repos\\\\Le-o-n\\\\ocr-model-training\\\\src\\\\cnn_lora\\\\..\\\\..\\\\data\\\\lambda\\\\u3bb-1736987514581.png', 'c:\\\\Users\\\\Leon\\\\visual-studio\\\\repos\\\\Le-o-n\\\\ocr-model-training\\\\src\\\\cnn_lora\\\\..\\\\..\\\\data\\\\lambda\\\\u7d-8045476043122709459.png', 'c:\\\\Users\\\\Leon\\\\visual-studio\\\\repos\\\\Le-o-n\\\\ocr-model-training\\\\src\\\\cnn_lora\\\\..\\\\..\\\\data\\\\lambda\\\\u6d-1737059067383.png', 'c:\\\\Users\\\\Leon\\\\visual-studio\\\\repos\\\\Le-o-n\\\\ocr-model-training\\\\src\\\\cnn_lora\\\\..\\\\..\\\\data\\\\lambda\\\\u2d-1737059632434.png', 'c:\\\\Users\\\\Leon\\\\visual-studio\\\\repos\\\\Le-o-n\\\\ocr-model-training\\\\src\\\\cnn_lora\\\\..\\\\..\\\\data\\\\lambda\\\\u6d-1737141761872.png', 'c:\\\\Users\\\\Leon\\\\visual-studio\\\\repos\\\\Le-o-n\\\\ocr-model-training\\\\src\\\\cnn_lora\\\\..\\\\..\\\\data\\\\lambda\\\\u6b-1737141811064.png', 'c:\\\\Users\\\\Leon\\\\visual-studio\\\\repos\\\\Le-o-n\\\\ocr-model-training\\\\src\\\\cnn_lora\\\\..\\\\..\\\\data\\\\lambda\\\\u6c-1737714127794.png', 'c:\\\\Users\\\\Leon\\\\visual-studio\\\\repos\\\\Le-o-n\\\\ocr-model-training\\\\src\\\\cnn_lora\\\\..\\\\..\\\\data\\\\lambda\\\\u28-1736987491870.png', 'c:\\\\Users\\\\Leon\\\\visual-studio\\\\repos\\\\Le-o-n\\\\ocr-model-training\\\\src\\\\cnn_lora\\\\..\\\\..\\\\data\\\\lambda\\\\u63-1737059853756.png', 'c:\\\\Users\\\\Leon\\\\visual-studio\\\\repos\\\\Le-o-n\\\\ocr-model-training\\\\src\\\\cnn_lora\\\\..\\\\..\\\\data\\\\lambda\\\\u2e-1736987284873.png', 'c:\\\\Users\\\\Leon\\\\visual-studio\\\\repos\\\\Le-o-n\\\\ocr-model-training\\\\src\\\\cnn_lora\\\\..\\\\..\\\\data\\\\lambda\\\\u28-1736987305806.png', 'c:\\\\Users\\\\Leon\\\\visual-studio\\\\repos\\\\Le-o-n\\\\ocr-model-training\\\\src\\\\cnn_lora\\\\..\\\\..\\\\data\\\\lambda\\\\u3d-6532386867517889453.png', 'c:\\\\Users\\\\Leon\\\\visual-studio\\\\repos\\\\Le-o-n\\\\ocr-model-training\\\\src\\\\cnn_lora\\\\..\\\\..\\\\data\\\\lambda\\\\uf7-1739014201115.png', 'c:\\\\Users\\\\Leon\\\\visual-studio\\\\repos\\\\Le-o-n\\\\ocr-model-training\\\\src\\\\cnn_lora\\\\..\\\\..\\\\data\\\\lambda\\\\u76-1737059734996.png', 'c:\\\\Users\\\\Leon\\\\visual-studio\\\\repos\\\\Le-o-n\\\\ocr-model-training\\\\src\\\\cnn_lora\\\\..\\\\..\\\\data\\\\lambda\\\\u2e-1736979964685.png', 'c:\\\\Users\\\\Leon\\\\visual-studio\\\\repos\\\\Le-o-n\\\\ocr-model-training\\\\src\\\\cnn_lora\\\\..\\\\..\\\\data\\\\lambda\\\\u6e-1737141815135.png', 'c:\\\\Users\\\\Leon\\\\visual-studio\\\\repos\\\\Le-o-n\\\\ocr-model-training\\\\src\\\\cnn_lora\\\\..\\\\..\\\\data\\\\lambda\\\\u31-1736979989878.png', 'c:\\\\Users\\\\Leon\\\\visual-studio\\\\repos\\\\Le-o-n\\\\ocr-model-training\\\\src\\\\cnn_lora\\\\..\\\\..\\\\data\\\\lambda\\\\u61-1736980139362.png', 'c:\\\\Users\\\\Leon\\\\visual-studio\\\\repos\\\\Le-o-n\\\\ocr-model-training\\\\src\\\\cnn_lora\\\\..\\\\..\\\\data\\\\lambda\\\\u7b-4753342613138037334.png', 'c:\\\\Users\\\\Leon\\\\visual-studio\\\\repos\\\\Le-o-n\\\\ocr-model-training\\\\src\\\\cnn_lora\\\\..\\\\..\\\\data\\\\lambda\\\\u64-1737059856598.png', 'c:\\\\Users\\\\Leon\\\\visual-studio\\\\repos\\\\Le-o-n\\\\ocr-model-training\\\\src\\\\cnn_lora\\\\..\\\\..\\\\data\\\\lambda\\\\u74-1737059599175.png', 'c:\\\\Users\\\\Leon\\\\visual-studio\\\\repos\\\\Le-o-n\\\\ocr-model-training\\\\src\\\\cnn_lora\\\\..\\\\..\\\\data\\\\lambda\\\\u6a-1737059872184.png', 'c:\\\\Users\\\\Leon\\\\visual-studio\\\\repos\\\\Le-o-n\\\\ocr-model-training\\\\src\\\\cnn_lora\\\\..\\\\..\\\\data\\\\lambda\\\\u36-1737059910549.png', 'c:\\\\Users\\\\Leon\\\\visual-studio\\\\repos\\\\Le-o-n\\\\ocr-model-training\\\\src\\\\cnn_lora\\\\..\\\\..\\\\data\\\\lambda\\\\ud7-1737915397217.png', 'c:\\\\Users\\\\Leon\\\\visual-studio\\\\repos\\\\Le-o-n\\\\ocr-model-training\\\\src\\\\cnn_lora\\\\..\\\\..\\\\data\\\\lambda\\\\u6f-1737059655927.png', 'c:\\\\Users\\\\Leon\\\\visual-studio\\\\repos\\\\Le-o-n\\\\ocr-model-training\\\\src\\\\cnn_lora\\\\..\\\\..\\\\data\\\\lambda\\\\u2b-1737715384396.png', 'c:\\\\Users\\\\Leon\\\\visual-studio\\\\repos\\\\Le-o-n\\\\ocr-model-training\\\\src\\\\cnn_lora\\\\..\\\\..\\\\data\\\\lambda\\\\u71-1737059723859.png', 'c:\\\\Users\\\\Leon\\\\visual-studio\\\\repos\\\\Le-o-n\\\\ocr-model-training\\\\src\\\\cnn_lora\\\\..\\\\..\\\\data\\\\lambda\\\\u79-1737059252253.png', 'c:\\\\Users\\\\Leon\\\\visual-studio\\\\repos\\\\Le-o-n\\\\ocr-model-training\\\\src\\\\cnn_lora\\\\..\\\\..\\\\data\\\\lambda\\\\u2b-1736987544492.png', 'c:\\\\Users\\\\Leon\\\\visual-studio\\\\repos\\\\Le-o-n\\\\ocr-model-training\\\\src\\\\cnn_lora\\\\..\\\\..\\\\data\\\\lambda\\\\u75-1737713963339.png', 'c:\\\\Users\\\\Leon\\\\visual-studio\\\\repos\\\\Le-o-n\\\\ocr-model-training\\\\src\\\\cnn_lora\\\\..\\\\..\\\\data\\\\lambda\\\\u28-1736980064094.png', 'c:\\\\Users\\\\Leon\\\\visual-studio\\\\repos\\\\Le-o-n\\\\ocr-model-training\\\\src\\\\cnn_lora\\\\..\\\\..\\\\data\\\\lambda\\\\u72-1737059512302.png', 'c:\\\\Users\\\\Leon\\\\visual-studio\\\\repos\\\\Le-o-n\\\\ocr-model-training\\\\src\\\\cnn_lora\\\\..\\\\..\\\\data\\\\lambda\\\\u38-1737059983326.png', 'c:\\\\Users\\\\Leon\\\\visual-studio\\\\repos\\\\Le-o-n\\\\ocr-model-training\\\\src\\\\cnn_lora\\\\..\\\\..\\\\data\\\\lambda\\\\u5b-1110990392794505825.png', 'c:\\\\Users\\\\Leon\\\\visual-studio\\\\repos\\\\Le-o-n\\\\ocr-model-training\\\\src\\\\cnn_lora\\\\..\\\\..\\\\data\\\\lambda\\\\u2b-1736987574197.png', 'c:\\\\Users\\\\Leon\\\\visual-studio\\\\repos\\\\Le-o-n\\\\ocr-model-training\\\\src\\\\cnn_lora\\\\..\\\\..\\\\data\\\\lambda\\\\u74-1737059815494.png', 'c:\\\\Users\\\\Leon\\\\visual-studio\\\\repos\\\\Le-o-n\\\\ocr-model-training\\\\src\\\\cnn_lora\\\\..\\\\..\\\\data\\\\lambda\\\\u72-1737059659365.png', 'c:\\\\Users\\\\Leon\\\\visual-studio\\\\repos\\\\Le-o-n\\\\ocr-model-training\\\\src\\\\cnn_lora\\\\..\\\\..\\\\data\\\\lambda\\\\u32-1737059617869.png', 'c:\\\\Users\\\\Leon\\\\visual-studio\\\\repos\\\\Le-o-n\\\\ocr-model-training\\\\src\\\\cnn_lora\\\\..\\\\..\\\\data\\\\lambda\\\\u3c--4849890634176245873.png', 'c:\\\\Users\\\\Leon\\\\visual-studio\\\\repos\\\\Le-o-n\\\\ocr-model-training\\\\src\\\\cnn_lora\\\\..\\\\..\\\\data\\\\lambda\\\\u76-1737059818763.png', 'c:\\\\Users\\\\Leon\\\\visual-studio\\\\repos\\\\Le-o-n\\\\ocr-model-training\\\\src\\\\cnn_lora\\\\..\\\\..\\\\data\\\\lambda\\\\u78-1737714169519.png', 'c:\\\\Users\\\\Leon\\\\visual-studio\\\\repos\\\\Le-o-n\\\\ocr-model-training\\\\src\\\\cnn_lora\\\\..\\\\..\\\\data\\\\lambda\\\\u6f-1737059592491.png', 'c:\\\\Users\\\\Leon\\\\visual-studio\\\\repos\\\\Le-o-n\\\\ocr-model-training\\\\src\\\\cnn_lora\\\\..\\\\..\\\\data\\\\lambda\\\\uf7-1739014188282.png', 'c:\\\\Users\\\\Leon\\\\visual-studio\\\\repos\\\\Le-o-n\\\\ocr-model-training\\\\src\\\\cnn_lora\\\\..\\\\..\\\\data\\\\lambda\\\\u6c-1737714233906.png', 'c:\\\\Users\\\\Leon\\\\visual-studio\\\\repos\\\\Le-o-n\\\\ocr-model-training\\\\src\\\\cnn_lora\\\\..\\\\..\\\\data\\\\lambda\\\\u3bb-1736980048951.png', 'c:\\\\Users\\\\Leon\\\\visual-studio\\\\repos\\\\Le-o-n\\\\ocr-model-training\\\\src\\\\cnn_lora\\\\..\\\\..\\\\data\\\\lambda\\\\u36-1737059548943.png', 'c:\\\\Users\\\\Leon\\\\visual-studio\\\\repos\\\\Le-o-n\\\\ocr-model-training\\\\src\\\\cnn_lora\\\\..\\\\..\\\\data\\\\lambda\\\\u3a--5818315118802905553.png', 'c:\\\\Users\\\\Leon\\\\visual-studio\\\\repos\\\\Le-o-n\\\\ocr-model-training\\\\src\\\\cnn_lora\\\\..\\\\..\\\\data\\\\lambda\\\\u2b-1736979977646.png', 'c:\\\\Users\\\\Leon\\\\visual-studio\\\\repos\\\\Le-o-n\\\\ocr-model-training\\\\src\\\\cnn_lora\\\\..\\\\..\\\\data\\\\lambda\\\\u35-1737141788851.png', 'c:\\\\Users\\\\Leon\\\\visual-studio\\\\repos\\\\Le-o-n\\\\ocr-model-training\\\\src\\\\cnn_lora\\\\..\\\\..\\\\data\\\\lambda\\\\uf7-1737059988566.png', 'c:\\\\Users\\\\Leon\\\\visual-studio\\\\repos\\\\Le-o-n\\\\ocr-model-training\\\\src\\\\cnn_lora\\\\..\\\\..\\\\data\\\\lambda\\\\u67-1737058905797.png', 'c:\\\\Users\\\\Leon\\\\visual-studio\\\\repos\\\\Le-o-n\\\\ocr-model-training\\\\src\\\\cnn_lora\\\\..\\\\..\\\\data\\\\lambda\\\\u5b-5572560036961765955.png', 'c:\\\\Users\\\\Leon\\\\visual-studio\\\\repos\\\\Le-o-n\\\\ocr-model-training\\\\src\\\\cnn_lora\\\\..\\\\..\\\\data\\\\lambda\\\\u5b-1888452104508785375.png', 'c:\\\\Users\\\\Leon\\\\visual-studio\\\\repos\\\\Le-o-n\\\\ocr-model-training\\\\src\\\\cnn_lora\\\\..\\\\..\\\\data\\\\lambda\\\\u3bb-1736987160746.png', 'c:\\\\Users\\\\Leon\\\\visual-studio\\\\repos\\\\Le-o-n\\\\ocr-model-training\\\\src\\\\cnn_lora\\\\..\\\\..\\\\data\\\\lambda\\\\u3c--2231578072543540668.png', 'c:\\\\Users\\\\Leon\\\\visual-studio\\\\repos\\\\Le-o-n\\\\ocr-model-training\\\\src\\\\cnn_lora\\\\..\\\\..\\\\data\\\\lambda\\\\u5b-6423465039336415564.png', 'c:\\\\Users\\\\Leon\\\\visual-studio\\\\repos\\\\Le-o-n\\\\ocr-model-training\\\\src\\\\cnn_lora\\\\..\\\\..\\\\data\\\\lambda\\\\u36-1737059625639.png', 'c:\\\\Users\\\\Leon\\\\visual-studio\\\\repos\\\\Le-o-n\\\\ocr-model-training\\\\src\\\\cnn_lora\\\\..\\\\..\\\\data\\\\lambda\\\\u2e-1736979985463.png', 'c:\\\\Users\\\\Leon\\\\visual-studio\\\\repos\\\\Le-o-n\\\\ocr-model-training\\\\src\\\\cnn_lora\\\\..\\\\..\\\\data\\\\lambda\\\\u67-1737059998429.png', 'c:\\\\Users\\\\Leon\\\\visual-studio\\\\repos\\\\Le-o-n\\\\ocr-model-training\\\\src\\\\cnn_lora\\\\..\\\\..\\\\data\\\\lambda\\\\u6c-1737059875798.png', 'c:\\\\Users\\\\Leon\\\\visual-studio\\\\repos\\\\Le-o-n\\\\ocr-model-training\\\\src\\\\cnn_lora\\\\..\\\\..\\\\data\\\\lambda\\\\ud7-1737915403839.png', 'c:\\\\Users\\\\Leon\\\\visual-studio\\\\repos\\\\Le-o-n\\\\ocr-model-training\\\\src\\\\cnn_lora\\\\..\\\\..\\\\data\\\\lambda\\\\u2e-1736980127923.png', 'c:\\\\Users\\\\Leon\\\\visual-studio\\\\repos\\\\Le-o-n\\\\ocr-model-training\\\\src\\\\cnn_lora\\\\..\\\\..\\\\data\\\\lambda\\\\u32-1737059099927.png', 'c:\\\\Users\\\\Leon\\\\visual-studio\\\\repos\\\\Le-o-n\\\\ocr-model-training\\\\src\\\\cnn_lora\\\\..\\\\..\\\\data\\\\lambda\\\\u76-1737141825478.png', 'c:\\\\Users\\\\Leon\\\\visual-studio\\\\repos\\\\Le-o-n\\\\ocr-model-training\\\\src\\\\cnn_lora\\\\..\\\\..\\\\data\\\\lambda\\\\uf7-1737059113174.png', 'c:\\\\Users\\\\Leon\\\\visual-studio\\\\repos\\\\Le-o-n\\\\ocr-model-training\\\\src\\\\cnn_lora\\\\..\\\\..\\\\data\\\\lambda\\\\u2e-1736987300533.png', 'c:\\\\Users\\\\Leon\\\\visual-studio\\\\repos\\\\Le-o-n\\\\ocr-model-training\\\\src\\\\cnn_lora\\\\..\\\\..\\\\data\\\\lambda\\\\u2b-1736980149826.png', 'c:\\\\Users\\\\Leon\\\\visual-studio\\\\repos\\\\Le-o-n\\\\ocr-model-training\\\\src\\\\cnn_lora\\\\..\\\\..\\\\data\\\\lambda\\\\u69-1737059648914.png', 'c:\\\\Users\\\\Leon\\\\visual-studio\\\\repos\\\\Le-o-n\\\\ocr-model-training\\\\src\\\\cnn_lora\\\\..\\\\..\\\\data\\\\lambda\\\\u6e-1737059879038.png', 'c:\\\\Users\\\\Leon\\\\visual-studio\\\\repos\\\\Le-o-n\\\\ocr-model-training\\\\src\\\\cnn_lora\\\\..\\\\..\\\\data\\\\lambda\\\\u70-1737059881889.png', 'c:\\\\Users\\\\Leon\\\\visual-studio\\\\repos\\\\Le-o-n\\\\ocr-model-training\\\\src\\\\cnn_lora\\\\..\\\\..\\\\data\\\\lambda\\\\u72-1737714629196.png', 'c:\\\\Users\\\\Leon\\\\visual-studio\\\\repos\\\\Le-o-n\\\\ocr-model-training\\\\src\\\\cnn_lora\\\\..\\\\..\\\\data\\\\lambda\\\\u35-1737059839745.png', 'c:\\\\Users\\\\Leon\\\\visual-studio\\\\repos\\\\Le-o-n\\\\ocr-model-training\\\\src\\\\cnn_lora\\\\..\\\\..\\\\data\\\\lambda\\\\u3bb-1736987540998.png', 'c:\\\\Users\\\\Leon\\\\visual-studio\\\\repos\\\\Le-o-n\\\\ocr-model-training\\\\src\\\\cnn_lora\\\\..\\\\..\\\\data\\\\lambda\\\\u31-1736979970071.png', 'c:\\\\Users\\\\Leon\\\\visual-studio\\\\repos\\\\Le-o-n\\\\ocr-model-training\\\\src\\\\cnn_lora\\\\..\\\\..\\\\data\\\\lambda\\\\u69-1737059703711.png', 'c:\\\\Users\\\\Leon\\\\visual-studio\\\\repos\\\\Le-o-n\\\\ocr-model-training\\\\src\\\\cnn_lora\\\\..\\\\..\\\\data\\\\lambda\\\\u61-1736987310248.png', 'c:\\\\Users\\\\Leon\\\\visual-studio\\\\repos\\\\Le-o-n\\\\ocr-model-training\\\\src\\\\cnn_lora\\\\..\\\\..\\\\data\\\\lambda\\\\u3bb-1736987475479.png', 'c:\\\\Users\\\\Leon\\\\visual-studio\\\\repos\\\\Le-o-n\\\\ocr-model-training\\\\src\\\\cnn_lora\\\\..\\\\..\\\\data\\\\lambda\\\\u7a-1737059752240.png', 'c:\\\\Users\\\\Leon\\\\visual-studio\\\\repos\\\\Le-o-n\\\\ocr-model-training\\\\src\\\\cnn_lora\\\\..\\\\..\\\\data\\\\lambda\\\\u6d-1737059711663.png', 'c:\\\\Users\\\\Leon\\\\visual-studio\\\\repos\\\\Le-o-n\\\\ocr-model-training\\\\src\\\\cnn_lora\\\\..\\\\..\\\\data\\\\lambda\\\\u35-1737141733855.png', 'c:\\\\Users\\\\Leon\\\\visual-studio\\\\repos\\\\Le-o-n\\\\ocr-model-training\\\\src\\\\cnn_lora\\\\..\\\\..\\\\data\\\\lambda\\\\u7a-1737059613092.png', 'c:\\\\Users\\\\Leon\\\\visual-studio\\\\repos\\\\Le-o-n\\\\ocr-model-training\\\\src\\\\cnn_lora\\\\..\\\\..\\\\data\\\\lambda\\\\u3bb-1736974468605.png', 'c:\\\\Users\\\\Leon\\\\visual-studio\\\\repos\\\\Le-o-n\\\\ocr-model-training\\\\src\\\\cnn_lora\\\\..\\\\..\\\\data\\\\lambda\\\\u5d-1689064702849379069.png', 'c:\\\\Users\\\\Leon\\\\visual-studio\\\\repos\\\\Le-o-n\\\\ocr-model-training\\\\src\\\\cnn_lora\\\\..\\\\..\\\\data\\\\lambda\\\\u61-1736980165987.png', 'c:\\\\Users\\\\Leon\\\\visual-studio\\\\repos\\\\Le-o-n\\\\ocr-model-training\\\\src\\\\cnn_lora\\\\..\\\\..\\\\data\\\\lambda\\\\u31-1736987545500.png', 'c:\\\\Users\\\\Leon\\\\visual-studio\\\\repos\\\\Le-o-n\\\\ocr-model-training\\\\src\\\\cnn_lora\\\\..\\\\..\\\\data\\\\lambda\\\\u34-1737141732385.png', 'c:\\\\Users\\\\Leon\\\\visual-studio\\\\repos\\\\Le-o-n\\\\ocr-model-training\\\\src\\\\cnn_lora\\\\..\\\\..\\\\data\\\\lambda\\\\u31-1736987156708.png', 'c:\\\\Users\\\\Leon\\\\visual-studio\\\\repos\\\\Le-o-n\\\\ocr-model-training\\\\src\\\\cnn_lora\\\\..\\\\..\\\\data\\\\lambda\\\\u35-1737059759083.png', 'c:\\\\Users\\\\Leon\\\\visual-studio\\\\repos\\\\Le-o-n\\\\ocr-model-training\\\\src\\\\cnn_lora\\\\..\\\\..\\\\data\\\\lambda\\\\u78-1737059897317.png', 'c:\\\\Users\\\\Leon\\\\visual-studio\\\\repos\\\\Le-o-n\\\\ocr-model-training\\\\src\\\\cnn_lora\\\\..\\\\..\\\\data\\\\lambda\\\\u62-1737713931937.png', 'c:\\\\Users\\\\Leon\\\\visual-studio\\\\repos\\\\Le-o-n\\\\ocr-model-training\\\\src\\\\cnn_lora\\\\..\\\\..\\\\data\\\\lambda\\\\u33-1737714186309.png', 'c:\\\\Users\\\\Leon\\\\visual-studio\\\\repos\\\\Le-o-n\\\\ocr-model-training\\\\src\\\\cnn_lora\\\\..\\\\..\\\\data\\\\lambda\\\\u6b-1737713947199.png', 'c:\\\\Users\\\\Leon\\\\visual-studio\\\\repos\\\\Le-o-n\\\\ocr-model-training\\\\src\\\\cnn_lora\\\\..\\\\..\\\\data\\\\lambda\\\\u67-1737059129593.png', 'c:\\\\Users\\\\Leon\\\\visual-studio\\\\repos\\\\Le-o-n\\\\ocr-model-training\\\\src\\\\cnn_lora\\\\..\\\\..\\\\data\\\\lambda\\\\u5b-6895279567103506119.png', 'c:\\\\Users\\\\Leon\\\\visual-studio\\\\repos\\\\Le-o-n\\\\ocr-model-training\\\\src\\\\cnn_lora\\\\..\\\\..\\\\data\\\\lambda\\\\u67-1737141748454.png', 'c:\\\\Users\\\\Leon\\\\visual-studio\\\\repos\\\\Le-o-n\\\\ocr-model-training\\\\src\\\\cnn_lora\\\\..\\\\..\\\\data\\\\lambda\\\\u62-1737059558461.png', 'c:\\\\Users\\\\Leon\\\\visual-studio\\\\repos\\\\Le-o-n\\\\ocr-model-training\\\\src\\\\cnn_lora\\\\..\\\\..\\\\data\\\\lambda\\\\u3a--6472760431650428236.png', 'c:\\\\Users\\\\Leon\\\\visual-studio\\\\repos\\\\Le-o-n\\\\ocr-model-training\\\\src\\\\cnn_lora\\\\..\\\\..\\\\data\\\\lambda\\\\u74-1737060022940.png', 'c:\\\\Users\\\\Leon\\\\visual-studio\\\\repos\\\\Le-o-n\\\\ocr-model-training\\\\src\\\\cnn_lora\\\\..\\\\..\\\\data\\\\lambda\\\\ud7-1737059114800.png', 'c:\\\\Users\\\\Leon\\\\visual-studio\\\\repos\\\\Le-o-n\\\\ocr-model-training\\\\src\\\\cnn_lora\\\\..\\\\..\\\\data\\\\lambda\\\\u31-1736980072019.png', 'c:\\\\Users\\\\Leon\\\\visual-studio\\\\repos\\\\Le-o-n\\\\ocr-model-training\\\\src\\\\cnn_lora\\\\..\\\\..\\\\data\\\\lambda\\\\u78-1737059250872.png', 'c:\\\\Users\\\\Leon\\\\visual-studio\\\\repos\\\\Le-o-n\\\\ocr-model-training\\\\src\\\\cnn_lora\\\\..\\\\..\\\\data\\\\lambda\\\\u31-1736987289425.png', 'c:\\\\Users\\\\Leon\\\\visual-studio\\\\repos\\\\Le-o-n\\\\ocr-model-training\\\\src\\\\cnn_lora\\\\..\\\\..\\\\data\\\\lambda\\\\u3d-5232849211979810001.png', 'c:\\\\Users\\\\Leon\\\\visual-studio\\\\repos\\\\Le-o-n\\\\ocr-model-training\\\\src\\\\cnn_lora\\\\..\\\\..\\\\data\\\\lambda\\\\u3c--1288633010419967736.png', 'c:\\\\Users\\\\Leon\\\\visual-studio\\\\repos\\\\Le-o-n\\\\ocr-model-training\\\\src\\\\cnn_lora\\\\..\\\\..\\\\data\\\\lambda\\\\u7a-1737059256849.png', 'c:\\\\Users\\\\Leon\\\\visual-studio\\\\repos\\\\Le-o-n\\\\ocr-model-training\\\\src\\\\cnn_lora\\\\..\\\\..\\\\data\\\\lambda\\\\u70-1737714240366.png', 'c:\\\\Users\\\\Leon\\\\visual-studio\\\\repos\\\\Le-o-n\\\\ocr-model-training\\\\src\\\\cnn_lora\\\\..\\\\..\\\\data\\\\lambda\\\\u35-1737141838956.png', 'c:\\\\Users\\\\Leon\\\\visual-studio\\\\repos\\\\Le-o-n\\\\ocr-model-training\\\\src\\\\cnn_lora\\\\..\\\\..\\\\data\\\\lambda\\\\u7b-4367156381977153748.png', 'c:\\\\Users\\\\Leon\\\\visual-studio\\\\repos\\\\Le-o-n\\\\ocr-model-training\\\\src\\\\cnn_lora\\\\..\\\\..\\\\data\\\\lambda\\\\u61-1736987153276.png', 'c:\\\\Users\\\\Leon\\\\visual-studio\\\\repos\\\\Le-o-n\\\\ocr-model-training\\\\src\\\\cnn_lora\\\\..\\\\..\\\\data\\\\lambda\\\\u34-1737141787589.png', 'c:\\\\Users\\\\Leon\\\\visual-studio\\\\repos\\\\Le-o-n\\\\ocr-model-training\\\\src\\\\cnn_lora\\\\..\\\\..\\\\data\\\\lambda\\\\u79-1737714361297.png', 'c:\\\\Users\\\\Leon\\\\visual-studio\\\\repos\\\\Le-o-n\\\\ocr-model-training\\\\src\\\\cnn_lora\\\\..\\\\..\\\\data\\\\lambda\\\\u36-1737059275184.png', 'c:\\\\Users\\\\Leon\\\\visual-studio\\\\repos\\\\Le-o-n\\\\ocr-model-training\\\\src\\\\cnn_lora\\\\..\\\\..\\\\data\\\\lambda\\\\u34-1737715374017.png', 'c:\\\\Users\\\\Leon\\\\visual-studio\\\\repos\\\\Le-o-n\\\\ocr-model-training\\\\src\\\\cnn_lora\\\\..\\\\..\\\\data\\\\lambda\\\\u6b-1737059309446.png', 'c:\\\\Users\\\\Leon\\\\visual-studio\\\\repos\\\\Le-o-n\\\\ocr-model-training\\\\src\\\\cnn_lora\\\\..\\\\..\\\\data\\\\lambda\\\\u66-1737059645032.png', 'c:\\\\Users\\\\Leon\\\\visual-studio\\\\repos\\\\Le-o-n\\\\ocr-model-training\\\\src\\\\cnn_lora\\\\..\\\\..\\\\data\\\\lambda\\\\u6b-1737714125902.png', 'c:\\\\Users\\\\Leon\\\\visual-studio\\\\repos\\\\Le-o-n\\\\ocr-model-training\\\\src\\\\cnn_lora\\\\..\\\\..\\\\data\\\\lambda\\\\u63-1737059049699.png', 'c:\\\\Users\\\\Leon\\\\visual-studio\\\\repos\\\\Le-o-n\\\\ocr-model-training\\\\src\\\\cnn_lora\\\\..\\\\..\\\\data\\\\lambda\\\\u37-1737059981669.png', 'c:\\\\Users\\\\Leon\\\\visual-studio\\\\repos\\\\Le-o-n\\\\ocr-model-training\\\\src\\\\cnn_lora\\\\..\\\\..\\\\data\\\\lambda\\\\u33-1737059264026.png', 'c:\\\\Users\\\\Leon\\\\visual-studio\\\\repos\\\\Le-o-n\\\\ocr-model-training\\\\src\\\\cnn_lora\\\\..\\\\..\\\\data\\\\lambda\\\\u69-1737059582950.png', 'c:\\\\Users\\\\Leon\\\\visual-studio\\\\repos\\\\Le-o-n\\\\ocr-model-training\\\\src\\\\cnn_lora\\\\..\\\\..\\\\data\\\\lambda\\\\ud7-1737915391261.png', 'c:\\\\Users\\\\Leon\\\\visual-studio\\\\repos\\\\Le-o-n\\\\ocr-model-training\\\\src\\\\cnn_lora\\\\..\\\\..\\\\data\\\\lambda\\\\u2d-1739014181536.png', 'c:\\\\Users\\\\Leon\\\\visual-studio\\\\repos\\\\Le-o-n\\\\ocr-model-training\\\\src\\\\cnn_lora\\\\..\\\\..\\\\data\\\\lambda\\\\u2d-1739014207463.png', 'c:\\\\Users\\\\Leon\\\\visual-studio\\\\repos\\\\Le-o-n\\\\ocr-model-training\\\\src\\\\cnn_lora\\\\..\\\\..\\\\data\\\\lambda\\\\u36-1737059105142.png', 'c:\\\\Users\\\\Leon\\\\visual-studio\\\\repos\\\\Le-o-n\\\\ocr-model-training\\\\src\\\\cnn_lora\\\\..\\\\..\\\\data\\\\lambda\\\\u77-1737059248797.png', 'c:\\\\Users\\\\Leon\\\\visual-studio\\\\repos\\\\Le-o-n\\\\ocr-model-training\\\\src\\\\cnn_lora\\\\..\\\\..\\\\data\\\\lambda\\\\u74-1737059889779.png', 'c:\\\\Users\\\\Leon\\\\visual-studio\\\\repos\\\\Le-o-n\\\\ocr-model-training\\\\src\\\\cnn_lora\\\\..\\\\..\\\\data\\\\lambda\\\\u79-1737059899354.png', 'c:\\\\Users\\\\Leon\\\\visual-studio\\\\repos\\\\Le-o-n\\\\ocr-model-training\\\\src\\\\cnn_lora\\\\..\\\\..\\\\data\\\\lambda\\\\u7d--684507946920285547.png', 'c:\\\\Users\\\\Leon\\\\visual-studio\\\\repos\\\\Le-o-n\\\\ocr-model-training\\\\src\\\\cnn_lora\\\\..\\\\..\\\\data\\\\lambda\\\\u69-1737058908170.png', 'c:\\\\Users\\\\Leon\\\\visual-studio\\\\repos\\\\Le-o-n\\\\ocr-model-training\\\\src\\\\cnn_lora\\\\..\\\\..\\\\data\\\\lambda\\\\u77-1737713966586.png', 'c:\\\\Users\\\\Leon\\\\visual-studio\\\\repos\\\\Le-o-n\\\\ocr-model-training\\\\src\\\\cnn_lora\\\\..\\\\..\\\\data\\\\lambda\\\\u68-1737714223022.png', 'c:\\\\Users\\\\Leon\\\\visual-studio\\\\repos\\\\Le-o-n\\\\ocr-model-training\\\\src\\\\cnn_lora\\\\..\\\\..\\\\data\\\\lambda\\\\u7b--702971429974684523.png', 'c:\\\\Users\\\\Leon\\\\visual-studio\\\\repos\\\\Le-o-n\\\\ocr-model-training\\\\src\\\\cnn_lora\\\\..\\\\..\\\\data\\\\lambda\\\\u71-1737059508377.png', 'c:\\\\Users\\\\Leon\\\\visual-studio\\\\repos\\\\Le-o-n\\\\ocr-model-training\\\\src\\\\cnn_lora\\\\..\\\\..\\\\data\\\\lambda\\\\u38-1737713999481.png', 'c:\\\\Users\\\\Leon\\\\visual-studio\\\\repos\\\\Le-o-n\\\\ocr-model-training\\\\src\\\\cnn_lora\\\\..\\\\..\\\\data\\\\lambda\\\\u34-1737059907649.png', 'c:\\\\Users\\\\Leon\\\\visual-studio\\\\repos\\\\Le-o-n\\\\ocr-model-training\\\\src\\\\cnn_lora\\\\..\\\\..\\\\data\\\\lambda\\\\u65-1737059780276.png', 'c:\\\\Users\\\\Leon\\\\visual-studio\\\\repos\\\\Le-o-n\\\\ocr-model-training\\\\src\\\\cnn_lora\\\\..\\\\..\\\\data\\\\lambda\\\\u2e-1736987533328.png', 'c:\\\\Users\\\\Leon\\\\visual-studio\\\\repos\\\\Le-o-n\\\\ocr-model-training\\\\src\\\\cnn_lora\\\\..\\\\..\\\\data\\\\lambda\\\\u66-1737059698059.png', 'c:\\\\Users\\\\Leon\\\\visual-studio\\\\repos\\\\Le-o-n\\\\ocr-model-training\\\\src\\\\cnn_lora\\\\..\\\\..\\\\data\\\\lambda\\\\u79-1737714171338.png', 'c:\\\\Users\\\\Leon\\\\visual-studio\\\\repos\\\\Le-o-n\\\\ocr-model-training\\\\src\\\\cnn_lora\\\\..\\\\..\\\\data\\\\lambda\\\\u3a-4757991875755150951.png', 'c:\\\\Users\\\\Leon\\\\visual-studio\\\\repos\\\\Le-o-n\\\\ocr-model-training\\\\src\\\\cnn_lora\\\\..\\\\..\\\\data\\\\lambda\\\\u75-1737714163730.png', 'c:\\\\Users\\\\Leon\\\\visual-studio\\\\repos\\\\Le-o-n\\\\ocr-model-training\\\\src\\\\cnn_lora\\\\..\\\\..\\\\data\\\\lambda\\\\u3d-7836769586884083089.png', 'c:\\\\Users\\\\Leon\\\\visual-studio\\\\repos\\\\Le-o-n\\\\ocr-model-training\\\\src\\\\cnn_lora\\\\..\\\\..\\\\data\\\\lambda\\\\u37-1737059760998.png', 'c:\\\\Users\\\\Leon\\\\visual-studio\\\\repos\\\\Le-o-n\\\\ocr-model-training\\\\src\\\\cnn_lora\\\\..\\\\..\\\\data\\\\lambda\\\\u65-1737059205536.png', 'c:\\\\Users\\\\Leon\\\\visual-studio\\\\repos\\\\Le-o-n\\\\ocr-model-training\\\\src\\\\cnn_lora\\\\..\\\\..\\\\data\\\\lambda\\\\u3a-6811478378068774763.png', 'c:\\\\Users\\\\Leon\\\\visual-studio\\\\repos\\\\Le-o-n\\\\ocr-model-training\\\\src\\\\cnn_lora\\\\..\\\\..\\\\data\\\\lambda\\\\u75-1737059600461.png', 'c:\\\\Users\\\\Leon\\\\visual-studio\\\\repos\\\\Le-o-n\\\\ocr-model-training\\\\src\\\\cnn_lora\\\\..\\\\..\\\\data\\\\lambda\\\\u5b-6707650428396257237.png', 'c:\\\\Users\\\\Leon\\\\visual-studio\\\\repos\\\\Le-o-n\\\\ocr-model-training\\\\src\\\\cnn_lora\\\\..\\\\..\\\\data\\\\lambda\\\\u66-1737059935938.png', 'c:\\\\Users\\\\Leon\\\\visual-studio\\\\repos\\\\Le-o-n\\\\ocr-model-training\\\\src\\\\cnn_lora\\\\..\\\\..\\\\data\\\\lambda\\\\u71-1737059234608.png', 'c:\\\\Users\\\\Leon\\\\visual-studio\\\\repos\\\\Le-o-n\\\\ocr-model-training\\\\src\\\\cnn_lora\\\\..\\\\..\\\\data\\\\lambda\\\\u37-1737059277113.png', 'c:\\\\Users\\\\Leon\\\\visual-studio\\\\repos\\\\Le-o-n\\\\ocr-model-training\\\\src\\\\cnn_lora\\\\..\\\\..\\\\data\\\\lambda\\\\u32-1737059904954.png', 'c:\\\\Users\\\\Leon\\\\visual-studio\\\\repos\\\\Le-o-n\\\\ocr-model-training\\\\src\\\\cnn_lora\\\\..\\\\..\\\\data\\\\lambda\\\\u78-1737141828335.png', 'c:\\\\Users\\\\Leon\\\\visual-studio\\\\repos\\\\Le-o-n\\\\ocr-model-training\\\\src\\\\cnn_lora\\\\..\\\\..\\\\data\\\\lambda\\\\u74-1737059661695.png', 'c:\\\\Users\\\\Leon\\\\visual-studio\\\\repos\\\\Le-o-n\\\\ocr-model-training\\\\src\\\\cnn_lora\\\\..\\\\..\\\\data\\\\lambda\\\\u62-1737059928588.png', 'c:\\\\Users\\\\Leon\\\\visual-studio\\\\repos\\\\Le-o-n\\\\ocr-model-training\\\\src\\\\cnn_lora\\\\..\\\\..\\\\data\\\\lambda\\\\u3e-3842081876827766310.png', 'c:\\\\Users\\\\Leon\\\\visual-studio\\\\repos\\\\Le-o-n\\\\ocr-model-training\\\\src\\\\cnn_lora\\\\..\\\\..\\\\data\\\\lambda\\\\u37-1737059186991.png', 'c:\\\\Users\\\\Leon\\\\visual-studio\\\\repos\\\\Le-o-n\\\\ocr-model-training\\\\src\\\\cnn_lora\\\\..\\\\..\\\\data\\\\lambda\\\\u65-1737059055012.png', 'c:\\\\Users\\\\Leon\\\\visual-studio\\\\repos\\\\Le-o-n\\\\ocr-model-training\\\\src\\\\cnn_lora\\\\..\\\\..\\\\data\\\\lambda\\\\u3a-6496367244592040952.png', 'c:\\\\Users\\\\Leon\\\\visual-studio\\\\repos\\\\Le-o-n\\\\ocr-model-training\\\\src\\\\cnn_lora\\\\..\\\\..\\\\data\\\\lambda\\\\u3c-8269299338682115804.png', 'c:\\\\Users\\\\Leon\\\\visual-studio\\\\repos\\\\Le-o-n\\\\ocr-model-training\\\\src\\\\cnn_lora\\\\..\\\\..\\\\data\\\\lambda\\\\u65-1737715322117.png', 'c:\\\\Users\\\\Leon\\\\visual-studio\\\\repos\\\\Le-o-n\\\\ocr-model-training\\\\src\\\\cnn_lora\\\\..\\\\..\\\\data\\\\lambda\\\\u38-1737059108266.png', 'c:\\\\Users\\\\Leon\\\\visual-studio\\\\repos\\\\Le-o-n\\\\ocr-model-training\\\\src\\\\cnn_lora\\\\..\\\\..\\\\data\\\\lambda\\\\u2d-1737059688823.png', 'c:\\\\Users\\\\Leon\\\\visual-studio\\\\repos\\\\Le-o-n\\\\ocr-model-training\\\\src\\\\cnn_lora\\\\..\\\\..\\\\data\\\\lambda\\\\u30-1737141833170.png', 'c:\\\\Users\\\\Leon\\\\visual-studio\\\\repos\\\\Le-o-n\\\\ocr-model-training\\\\src\\\\cnn_lora\\\\..\\\\..\\\\data\\\\lambda\\\\u73-1737714630660.png', 'c:\\\\Users\\\\Leon\\\\visual-studio\\\\repos\\\\Le-o-n\\\\ocr-model-training\\\\src\\\\cnn_lora\\\\..\\\\..\\\\data\\\\lambda\\\\u77-1737059666767.png', 'c:\\\\Users\\\\Leon\\\\visual-studio\\\\repos\\\\Le-o-n\\\\ocr-model-training\\\\src\\\\cnn_lora\\\\..\\\\..\\\\data\\\\lambda\\\\u3c-6143811179679160723.png', 'c:\\\\Users\\\\Leon\\\\visual-studio\\\\repos\\\\Le-o-n\\\\ocr-model-training\\\\src\\\\cnn_lora\\\\..\\\\..\\\\data\\\\lambda\\\\u7b-8532468810695880633.png', 'c:\\\\Users\\\\Leon\\\\visual-studio\\\\repos\\\\Le-o-n\\\\ocr-model-training\\\\src\\\\cnn_lora\\\\..\\\\..\\\\data\\\\lambda\\\\u6d-1737141813935.png', 'c:\\\\Users\\\\Leon\\\\visual-studio\\\\repos\\\\Le-o-n\\\\ocr-model-training\\\\src\\\\cnn_lora\\\\..\\\\..\\\\data\\\\lambda\\\\u7a-1737059969054.png', 'c:\\\\Users\\\\Leon\\\\visual-studio\\\\repos\\\\Le-o-n\\\\ocr-model-training\\\\src\\\\cnn_lora\\\\..\\\\..\\\\data\\\\lambda\\\\u39-1737141851394.png', 'c:\\\\Users\\\\Leon\\\\visual-studio\\\\repos\\\\Le-o-n\\\\ocr-model-training\\\\src\\\\cnn_lora\\\\..\\\\..\\\\data\\\\lambda\\\\u70-1737060016327.png', 'c:\\\\Users\\\\Leon\\\\visual-studio\\\\repos\\\\Le-o-n\\\\ocr-model-training\\\\src\\\\cnn_lora\\\\..\\\\..\\\\data\\\\lambda\\\\u5d-6749255106405072037.png', 'c:\\\\Users\\\\Leon\\\\visual-studio\\\\repos\\\\Le-o-n\\\\ocr-model-training\\\\src\\\\cnn_lora\\\\..\\\\..\\\\data\\\\lambda\\\\u6c-1737141812252.png', 'c:\\\\Users\\\\Leon\\\\visual-studio\\\\repos\\\\Le-o-n\\\\ocr-model-training\\\\src\\\\cnn_lora\\\\..\\\\..\\\\data\\\\lambda\\\\u76-1737059663817.png', 'c:\\\\Users\\\\Leon\\\\visual-studio\\\\repos\\\\Le-o-n\\\\ocr-model-training\\\\src\\\\cnn_lora\\\\..\\\\..\\\\data\\\\lambda\\\\u62-1737714019651.png', 'c:\\\\Users\\\\Leon\\\\visual-studio\\\\repos\\\\Le-o-n\\\\ocr-model-training\\\\src\\\\cnn_lora\\\\..\\\\..\\\\data\\\\lambda\\\\u2d-1737714012479.png', 'c:\\\\Users\\\\Leon\\\\visual-studio\\\\repos\\\\Le-o-n\\\\ocr-model-training\\\\src\\\\cnn_lora\\\\..\\\\..\\\\data\\\\lambda\\\\u3a--2202054153823614993.png', 'c:\\\\Users\\\\Leon\\\\visual-studio\\\\repos\\\\Le-o-n\\\\ocr-model-training\\\\src\\\\cnn_lora\\\\..\\\\..\\\\data\\\\lambda\\\\u69-1737141751184.png', 'c:\\\\Users\\\\Leon\\\\visual-studio\\\\repos\\\\Le-o-n\\\\ocr-model-training\\\\src\\\\cnn_lora\\\\..\\\\..\\\\data\\\\lambda\\\\u39-1737059001657.png', 'c:\\\\Users\\\\Leon\\\\visual-studio\\\\repos\\\\Le-o-n\\\\ocr-model-training\\\\src\\\\cnn_lora\\\\..\\\\..\\\\data\\\\lambda\\\\u39-1737714506005.png', 'c:\\\\Users\\\\Leon\\\\visual-studio\\\\repos\\\\Le-o-n\\\\ocr-model-training\\\\src\\\\cnn_lora\\\\..\\\\..\\\\data\\\\lambda\\\\u71-1737715350109.png', 'c:\\\\Users\\\\Leon\\\\visual-studio\\\\repos\\\\Le-o-n\\\\ocr-model-training\\\\src\\\\cnn_lora\\\\..\\\\..\\\\data\\\\lambda\\\\u73-1737058922075.png', 'c:\\\\Users\\\\Leon\\\\visual-studio\\\\repos\\\\Le-o-n\\\\ocr-model-training\\\\src\\\\cnn_lora\\\\..\\\\..\\\\data\\\\lambda\\\\u6e-1737059806034.png', 'c:\\\\Users\\\\Leon\\\\visual-studio\\\\repos\\\\Le-o-n\\\\ocr-model-training\\\\src\\\\cnn_lora\\\\..\\\\..\\\\data\\\\lambda\\\\u78-1737715360545.png', 'c:\\\\Users\\\\Leon\\\\visual-studio\\\\repos\\\\Le-o-n\\\\ocr-model-training\\\\src\\\\cnn_lora\\\\..\\\\..\\\\data\\\\lambda\\\\u3a-2467541376717752882.png', 'c:\\\\Users\\\\Leon\\\\visual-studio\\\\repos\\\\Le-o-n\\\\ocr-model-training\\\\src\\\\cnn_lora\\\\..\\\\..\\\\data\\\\lambda\\\\u72-1737059957652.png', 'c:\\\\Users\\\\Leon\\\\visual-studio\\\\repos\\\\Le-o-n\\\\ocr-model-training\\\\src\\\\cnn_lora\\\\..\\\\..\\\\data\\\\lambda\\\\u6a-1737714122113.png', 'c:\\\\Users\\\\Leon\\\\visual-studio\\\\repos\\\\Le-o-n\\\\ocr-model-training\\\\src\\\\cnn_lora\\\\..\\\\..\\\\data\\\\lambda\\\\u74-1737059076232.png', 'c:\\\\Users\\\\Leon\\\\visual-studio\\\\repos\\\\Le-o-n\\\\ocr-model-training\\\\src\\\\cnn_lora\\\\..\\\\..\\\\data\\\\lambda\\\\u3a-5903075990385628661.png', 'c:\\\\Users\\\\Leon\\\\visual-studio\\\\repos\\\\Le-o-n\\\\ocr-model-training\\\\src\\\\cnn_lora\\\\..\\\\..\\\\data\\\\lambda\\\\u79-1737141887099.png', 'c:\\\\Users\\\\Leon\\\\visual-studio\\\\repos\\\\Le-o-n\\\\ocr-model-training\\\\src\\\\cnn_lora\\\\..\\\\..\\\\data\\\\lambda\\\\u6d-1737714235758.png', 'c:\\\\Users\\\\Leon\\\\visual-studio\\\\repos\\\\Le-o-n\\\\ocr-model-training\\\\src\\\\cnn_lora\\\\..\\\\..\\\\data\\\\lambda\\\\u6b-1737059707710.png', 'c:\\\\Users\\\\Leon\\\\visual-studio\\\\repos\\\\Le-o-n\\\\ocr-model-training\\\\src\\\\cnn_lora\\\\..\\\\..\\\\data\\\\lambda\\\\u68-1737058907058.png', 'c:\\\\Users\\\\Leon\\\\visual-studio\\\\repos\\\\Le-o-n\\\\ocr-model-training\\\\src\\\\cnn_lora\\\\..\\\\..\\\\data\\\\lambda\\\\uf7-1737059637579.png', 'c:\\\\Users\\\\Leon\\\\visual-studio\\\\repos\\\\Le-o-n\\\\ocr-model-training\\\\src\\\\cnn_lora\\\\..\\\\..\\\\data\\\\lambda\\\\u3e--7257373544466728910.png', 'c:\\\\Users\\\\Leon\\\\visual-studio\\\\repos\\\\Le-o-n\\\\ocr-model-training\\\\src\\\\cnn_lora\\\\..\\\\..\\\\data\\\\lambda\\\\u7a-1737713980516.png', 'c:\\\\Users\\\\Leon\\\\visual-studio\\\\repos\\\\Le-o-n\\\\ocr-model-training\\\\src\\\\cnn_lora\\\\..\\\\..\\\\data\\\\lambda\\\\u38-1737059845923.png', 'c:\\\\Users\\\\Leon\\\\visual-studio\\\\repos\\\\Le-o-n\\\\ocr-model-training\\\\src\\\\cnn_lora\\\\..\\\\..\\\\data\\\\lambda\\\\u7d-240786606246231827.png', 'c:\\\\Users\\\\Leon\\\\visual-studio\\\\repos\\\\Le-o-n\\\\ocr-model-training\\\\src\\\\cnn_lora\\\\..\\\\..\\\\data\\\\lambda\\\\u6f-1737715346783.png', 'c:\\\\Users\\\\Leon\\\\visual-studio\\\\repos\\\\Le-o-n\\\\ocr-model-training\\\\src\\\\cnn_lora\\\\..\\\\..\\\\data\\\\lambda\\\\u5d--3665060372346134578.png', 'c:\\\\Users\\\\Leon\\\\visual-studio\\\\repos\\\\Le-o-n\\\\ocr-model-training\\\\src\\\\cnn_lora\\\\..\\\\..\\\\data\\\\lambda\\\\u6f-1737059152106.png', 'c:\\\\Users\\\\Leon\\\\visual-studio\\\\repos\\\\Le-o-n\\\\ocr-model-training\\\\src\\\\cnn_lora\\\\..\\\\..\\\\data\\\\lambda\\\\u6a-1737058910017.png', 'c:\\\\Users\\\\Leon\\\\visual-studio\\\\repos\\\\Le-o-n\\\\ocr-model-training\\\\src\\\\cnn_lora\\\\..\\\\..\\\\data\\\\lambda\\\\u2d-1737059003009.png', 'c:\\\\Users\\\\Leon\\\\visual-studio\\\\repos\\\\Le-o-n\\\\ocr-model-training\\\\src\\\\cnn_lora\\\\..\\\\..\\\\data\\\\lambda\\\\u72-1737713958045.png', 'c:\\\\Users\\\\Leon\\\\visual-studio\\\\repos\\\\Le-o-n\\\\ocr-model-training\\\\src\\\\cnn_lora\\\\..\\\\..\\\\data\\\\lambda\\\\u71-1737713956441.png', 'c:\\\\Users\\\\Leon\\\\visual-studio\\\\repos\\\\Le-o-n\\\\ocr-model-training\\\\src\\\\cnn_lora\\\\..\\\\..\\\\data\\\\lambda\\\\u71-1737059595398.png', 'c:\\\\Users\\\\Leon\\\\visual-studio\\\\repos\\\\Le-o-n\\\\ocr-model-training\\\\src\\\\cnn_lora\\\\..\\\\..\\\\data\\\\lambda\\\\u79-1737714645294.png', 'c:\\\\Users\\\\Leon\\\\visual-studio\\\\repos\\\\Le-o-n\\\\ocr-model-training\\\\src\\\\cnn_lora\\\\..\\\\..\\\\data\\\\lambda\\\\u71-1737714346654.png', 'c:\\\\Users\\\\Leon\\\\visual-studio\\\\repos\\\\Le-o-n\\\\ocr-model-training\\\\src\\\\cnn_lora\\\\..\\\\..\\\\data\\\\lambda\\\\u7a-1737059095561.png', 'c:\\\\Users\\\\Leon\\\\visual-studio\\\\repos\\\\Le-o-n\\\\ocr-model-training\\\\src\\\\cnn_lora\\\\..\\\\..\\\\data\\\\lambda\\\\u6c-1737059226008.png', 'c:\\\\Users\\\\Leon\\\\visual-studio\\\\repos\\\\Le-o-n\\\\ocr-model-training\\\\src\\\\cnn_lora\\\\..\\\\..\\\\data\\\\lambda\\\\u7d--794506968812770916.png', 'c:\\\\Users\\\\Leon\\\\visual-studio\\\\repos\\\\Le-o-n\\\\ocr-model-training\\\\src\\\\cnn_lora\\\\..\\\\..\\\\data\\\\lambda\\\\u33-1737141786317.png', 'c:\\\\Users\\\\Leon\\\\visual-studio\\\\repos\\\\Le-o-n\\\\ocr-model-training\\\\src\\\\cnn_lora\\\\..\\\\..\\\\data\\\\lambda\\\\u3e--9209383819475975418.png', 'c:\\\\Users\\\\Leon\\\\visual-studio\\\\repos\\\\Le-o-n\\\\ocr-model-training\\\\src\\\\cnn_lora\\\\..\\\\..\\\\data\\\\lambda\\\\u6a-1737714547934.png', 'c:\\\\Users\\\\Leon\\\\visual-studio\\\\repos\\\\Le-o-n\\\\ocr-model-training\\\\src\\\\cnn_lora\\\\..\\\\..\\\\data\\\\lambda\\\\u3d--5536529384412132204.png', 'c:\\\\Users\\\\Leon\\\\visual-studio\\\\repos\\\\Le-o-n\\\\ocr-model-training\\\\src\\\\cnn_lora\\\\..\\\\..\\\\data\\\\lambda\\\\u37-1737715378194.png', 'c:\\\\Users\\\\Leon\\\\visual-studio\\\\repos\\\\Le-o-n\\\\ocr-model-training\\\\src\\\\cnn_lora\\\\..\\\\..\\\\data\\\\lambda\\\\u32-1737141729322.png', 'c:\\\\Users\\\\Leon\\\\visual-studio\\\\repos\\\\Le-o-n\\\\ocr-model-training\\\\src\\\\cnn_lora\\\\..\\\\..\\\\data\\\\lambda\\\\u5d--8056876143902727483.png', 'c:\\\\Users\\\\Leon\\\\visual-studio\\\\repos\\\\Le-o-n\\\\ocr-model-training\\\\src\\\\cnn_lora\\\\..\\\\..\\\\data\\\\lambda\\\\uf7-1737714513700.png', 'c:\\\\Users\\\\Leon\\\\visual-studio\\\\repos\\\\Le-o-n\\\\ocr-model-training\\\\src\\\\cnn_lora\\\\..\\\\..\\\\data\\\\lambda\\\\uf7-1737059690380.png', 'c:\\\\Users\\\\Leon\\\\visual-studio\\\\repos\\\\Le-o-n\\\\ocr-model-training\\\\src\\\\cnn_lora\\\\..\\\\..\\\\data\\\\lambda\\\\u66-1737058904291.png', 'c:\\\\Users\\\\Leon\\\\visual-studio\\\\repos\\\\Le-o-n\\\\ocr-model-training\\\\src\\\\cnn_lora\\\\..\\\\..\\\\data\\\\lambda\\\\u6b-1737059586703.png', 'c:\\\\Users\\\\Leon\\\\visual-studio\\\\repos\\\\Le-o-n\\\\ocr-model-training\\\\src\\\\cnn_lora\\\\..\\\\..\\\\data\\\\lambda\\\\u7b--9164810522603677201.png', 'c:\\\\Users\\\\Leon\\\\visual-studio\\\\repos\\\\Le-o-n\\\\ocr-model-training\\\\src\\\\cnn_lora\\\\..\\\\..\\\\data\\\\lambda\\\\u32-1737059677447.png', 'c:\\\\Users\\\\Leon\\\\visual-studio\\\\repos\\\\Le-o-n\\\\ocr-model-training\\\\src\\\\cnn_lora\\\\..\\\\..\\\\data\\\\lambda\\\\u62-1737141796007.png', 'c:\\\\Users\\\\Leon\\\\visual-studio\\\\repos\\\\Le-o-n\\\\ocr-model-training\\\\src\\\\cnn_lora\\\\..\\\\..\\\\data\\\\lambda\\\\u37-1737714193645.png', 'c:\\\\Users\\\\Leon\\\\visual-studio\\\\repos\\\\Le-o-n\\\\ocr-model-training\\\\src\\\\cnn_lora\\\\..\\\\..\\\\data\\\\lambda\\\\u7b-4139540857371901351.png', 'c:\\\\Users\\\\Leon\\\\visual-studio\\\\repos\\\\Le-o-n\\\\ocr-model-training\\\\src\\\\cnn_lora\\\\..\\\\..\\\\data\\\\lambda\\\\u38-1737059188735.png', 'c:\\\\Users\\\\Leon\\\\visual-studio\\\\repos\\\\Le-o-n\\\\ocr-model-training\\\\src\\\\cnn_lora\\\\..\\\\..\\\\data\\\\lambda\\\\u73-1737059814057.png', 'c:\\\\Users\\\\Leon\\\\visual-studio\\\\repos\\\\Le-o-n\\\\ocr-model-training\\\\src\\\\cnn_lora\\\\..\\\\..\\\\data\\\\lambda\\\\u63-1737714210828.png', 'c:\\\\Users\\\\Leon\\\\visual-studio\\\\repos\\\\Le-o-n\\\\ocr-model-training\\\\src\\\\cnn_lora\\\\..\\\\..\\\\data\\\\lambda\\\\u6e-1737059314112.png', 'c:\\\\Users\\\\Leon\\\\visual-studio\\\\repos\\\\Le-o-n\\\\ocr-model-training\\\\src\\\\cnn_lora\\\\..\\\\..\\\\data\\\\lambda\\\\u77-1737059084142.png', 'c:\\\\Users\\\\Leon\\\\visual-studio\\\\repos\\\\Le-o-n\\\\ocr-model-training\\\\src\\\\cnn_lora\\\\..\\\\..\\\\data\\\\lambda\\\\u39-1737059630858.png', 'c:\\\\Users\\\\Leon\\\\visual-studio\\\\repos\\\\Le-o-n\\\\ocr-model-training\\\\src\\\\cnn_lora\\\\..\\\\..\\\\data\\\\lambda\\\\u74-1737141823055.png', 'c:\\\\Users\\\\Leon\\\\visual-studio\\\\repos\\\\Le-o-n\\\\ocr-model-training\\\\src\\\\cnn_lora\\\\..\\\\..\\\\data\\\\lambda\\\\u69-1737714546055.png', 'c:\\\\Users\\\\Leon\\\\visual-studio\\\\repos\\\\Le-o-n\\\\ocr-model-training\\\\src\\\\cnn_lora\\\\..\\\\..\\\\data\\\\lambda\\\\u6c-1737059310971.png', 'c:\\\\Users\\\\Leon\\\\visual-studio\\\\repos\\\\Le-o-n\\\\ocr-model-training\\\\src\\\\cnn_lora\\\\..\\\\..\\\\data\\\\lambda\\\\u63-1737714085367.png', 'c:\\\\Users\\\\Leon\\\\visual-studio\\\\repos\\\\Le-o-n\\\\ocr-model-training\\\\src\\\\cnn_lora\\\\..\\\\..\\\\data\\\\lambda\\\\u6d-1737059653939.png', 'c:\\\\Users\\\\Leon\\\\visual-studio\\\\repos\\\\Le-o-n\\\\ocr-model-training\\\\src\\\\cnn_lora\\\\..\\\\..\\\\data\\\\lambda\\\\u3c-4843660050959018202.png', 'c:\\\\Users\\\\Leon\\\\visual-studio\\\\repos\\\\Le-o-n\\\\ocr-model-training\\\\src\\\\cnn_lora\\\\..\\\\..\\\\data\\\\lambda\\\\u77-1737715358598.png', 'c:\\\\Users\\\\Leon\\\\visual-studio\\\\repos\\\\Le-o-n\\\\ocr-model-training\\\\src\\\\cnn_lora\\\\..\\\\..\\\\data\\\\lambda\\\\u67-1737059214778.png', 'c:\\\\Users\\\\Leon\\\\visual-studio\\\\repos\\\\Le-o-n\\\\ocr-model-training\\\\src\\\\cnn_lora\\\\..\\\\..\\\\data\\\\lambda\\\\u74-1737714635908.png', 'c:\\\\Users\\\\Leon\\\\visual-studio\\\\repos\\\\Le-o-n\\\\ocr-model-training\\\\src\\\\cnn_lora\\\\..\\\\..\\\\data\\\\lambda\\\\u6c-1737141759963.png', 'c:\\\\Users\\\\Leon\\\\visual-studio\\\\repos\\\\Le-o-n\\\\ocr-model-training\\\\src\\\\cnn_lora\\\\..\\\\..\\\\data\\\\lambda\\\\u3e--7525744612705256400.png', 'c:\\\\Users\\\\Leon\\\\visual-studio\\\\repos\\\\Le-o-n\\\\ocr-model-training\\\\src\\\\cnn_lora\\\\..\\\\..\\\\data\\\\lambda\\\\u36-1737714660483.png', 'c:\\\\Users\\\\Leon\\\\visual-studio\\\\repos\\\\Le-o-n\\\\ocr-model-training\\\\src\\\\cnn_lora\\\\..\\\\..\\\\data\\\\lambda\\\\u6b-1737059064304.png', 'c:\\\\Users\\\\Leon\\\\visual-studio\\\\repos\\\\Le-o-n\\\\ocr-model-training\\\\src\\\\cnn_lora\\\\..\\\\..\\\\data\\\\lambda\\\\u5b-7721896407543193813.png', 'c:\\\\Users\\\\Leon\\\\visual-studio\\\\repos\\\\Le-o-n\\\\ocr-model-training\\\\src\\\\cnn_lora\\\\..\\\\..\\\\data\\\\lambda\\\\u39-1737059985138.png', 'c:\\\\Users\\\\Leon\\\\visual-studio\\\\repos\\\\Le-o-n\\\\ocr-model-training\\\\src\\\\cnn_lora\\\\..\\\\..\\\\data\\\\lambda\\\\u34-1737714378347.png', 'c:\\\\Users\\\\Leon\\\\visual-studio\\\\repos\\\\Le-o-n\\\\ocr-model-training\\\\src\\\\cnn_lora\\\\..\\\\..\\\\data\\\\lambda\\\\u5b-2733164623230952493.png', 'c:\\\\Users\\\\Leon\\\\visual-studio\\\\repos\\\\Le-o-n\\\\ocr-model-training\\\\src\\\\cnn_lora\\\\..\\\\..\\\\data\\\\lambda\\\\u69-1737059218259.png', 'c:\\\\Users\\\\Leon\\\\visual-studio\\\\repos\\\\Le-o-n\\\\ocr-model-training\\\\src\\\\cnn_lora\\\\..\\\\..\\\\data\\\\lambda\\\\u6f-1737059880304.png', 'c:\\\\Users\\\\Leon\\\\visual-studio\\\\repos\\\\Le-o-n\\\\ocr-model-training\\\\src\\\\cnn_lora\\\\..\\\\..\\\\data\\\\lambda\\\\u3e-1035299581115018122.png', 'c:\\\\Users\\\\Leon\\\\visual-studio\\\\repos\\\\Le-o-n\\\\ocr-model-training\\\\src\\\\cnn_lora\\\\..\\\\..\\\\data\\\\lambda\\\\u72-1737714158018.png', 'c:\\\\Users\\\\Leon\\\\visual-studio\\\\repos\\\\Le-o-n\\\\ocr-model-training\\\\src\\\\cnn_lora\\\\..\\\\..\\\\data\\\\lambda\\\\u7a-1737060032137.png', 'c:\\\\Users\\\\Leon\\\\visual-studio\\\\repos\\\\Le-o-n\\\\ocr-model-training\\\\src\\\\cnn_lora\\\\..\\\\..\\\\data\\\\lambda\\\\u34-1737059267913.png', 'c:\\\\Users\\\\Leon\\\\visual-studio\\\\repos\\\\Le-o-n\\\\ocr-model-training\\\\src\\\\cnn_lora\\\\..\\\\..\\\\data\\\\lambda\\\\u3c-4658441627636466764.png', 'c:\\\\Users\\\\Leon\\\\visual-studio\\\\repos\\\\Le-o-n\\\\ocr-model-training\\\\src\\\\cnn_lora\\\\..\\\\..\\\\data\\\\lambda\\\\u37-1737141791080.png', 'c:\\\\Users\\\\Leon\\\\visual-studio\\\\repos\\\\Le-o-n\\\\ocr-model-training\\\\src\\\\cnn_lora\\\\..\\\\..\\\\data\\\\lambda\\\\u35-1737059269706.png', 'c:\\\\Users\\\\Leon\\\\visual-studio\\\\repos\\\\Le-o-n\\\\ocr-model-training\\\\src\\\\cnn_lora\\\\..\\\\..\\\\data\\\\lambda\\\\u68-1737059701824.png', 'c:\\\\Users\\\\Leon\\\\visual-studio\\\\repos\\\\Le-o-n\\\\ocr-model-training\\\\src\\\\cnn_lora\\\\..\\\\..\\\\data\\\\lambda\\\\u66-1737059996865.png', 'c:\\\\Users\\\\Leon\\\\visual-studio\\\\repos\\\\Le-o-n\\\\ocr-model-training\\\\src\\\\cnn_lora\\\\..\\\\..\\\\data\\\\lambda\\\\u7a-1737059831866.png', 'c:\\\\Users\\\\Leon\\\\visual-studio\\\\repos\\\\Le-o-n\\\\ocr-model-training\\\\src\\\\cnn_lora\\\\..\\\\..\\\\data\\\\lambda\\\\u34-1737058993508.png', 'c:\\\\Users\\\\Leon\\\\visual-studio\\\\repos\\\\Le-o-n\\\\ocr-model-training\\\\src\\\\cnn_lora\\\\..\\\\..\\\\data\\\\lambda\\\\u78-1737714642571.png', 'c:\\\\Users\\\\Leon\\\\visual-studio\\\\repos\\\\Le-o-n\\\\ocr-model-training\\\\src\\\\cnn_lora\\\\..\\\\..\\\\data\\\\lambda\\\\u30-1737060034161.png', 'c:\\\\Users\\\\Leon\\\\visual-studio\\\\repos\\\\Le-o-n\\\\ocr-model-training\\\\src\\\\cnn_lora\\\\..\\\\..\\\\data\\\\lambda\\\\u67-1737141860639.png', 'c:\\\\Users\\\\Leon\\\\visual-studio\\\\repos\\\\Le-o-n\\\\ocr-model-training\\\\src\\\\cnn_lora\\\\..\\\\..\\\\data\\\\lambda\\\\u32-1737714184620.png', 'c:\\\\Users\\\\Leon\\\\visual-studio\\\\repos\\\\Le-o-n\\\\ocr-model-training\\\\src\\\\cnn_lora\\\\..\\\\..\\\\data\\\\lambda\\\\u35-1737059184574.png', 'c:\\\\Users\\\\Leon\\\\visual-studio\\\\repos\\\\Le-o-n\\\\ocr-model-training\\\\src\\\\cnn_lora\\\\..\\\\..\\\\data\\\\lambda\\\\u76-1737059166045.png', 'c:\\\\Users\\\\Leon\\\\visual-studio\\\\repos\\\\Le-o-n\\\\ocr-model-training\\\\src\\\\cnn_lora\\\\..\\\\..\\\\data\\\\lambda\\\\u74-1737058923411.png', 'c:\\\\Users\\\\Leon\\\\visual-studio\\\\repos\\\\Le-o-n\\\\ocr-model-training\\\\src\\\\cnn_lora\\\\..\\\\..\\\\data\\\\lambda\\\\u30-1737059616334.png', 'c:\\\\Users\\\\Leon\\\\visual-studio\\\\repos\\\\Le-o-n\\\\ocr-model-training\\\\src\\\\cnn_lora\\\\..\\\\..\\\\data\\\\lambda\\\\u77-1737714167142.png', 'c:\\\\Users\\\\Leon\\\\visual-studio\\\\repos\\\\Le-o-n\\\\ocr-model-training\\\\src\\\\cnn_lora\\\\..\\\\..\\\\data\\\\lambda\\\\u36-1737713993580.png', 'c:\\\\Users\\\\Leon\\\\visual-studio\\\\repos\\\\Le-o-n\\\\ocr-model-training\\\\src\\\\cnn_lora\\\\..\\\\..\\\\data\\\\lambda\\\\u74-1737141878901.png', 'c:\\\\Users\\\\Leon\\\\visual-studio\\\\repos\\\\Le-o-n\\\\ocr-model-training\\\\src\\\\cnn_lora\\\\..\\\\..\\\\data\\\\lambda\\\\u62-1737714527832.png', 'c:\\\\Users\\\\Leon\\\\visual-studio\\\\repos\\\\Le-o-n\\\\ocr-model-training\\\\src\\\\cnn_lora\\\\..\\\\..\\\\data\\\\lambda\\\\u67-1737059646540.png', 'c:\\\\Users\\\\Leon\\\\visual-studio\\\\repos\\\\Le-o-n\\\\ocr-model-training\\\\src\\\\cnn_lora\\\\..\\\\..\\\\data\\\\lambda\\\\u7d--8966340484410354137.png', 'c:\\\\Users\\\\Leon\\\\visual-studio\\\\repos\\\\Le-o-n\\\\ocr-model-training\\\\src\\\\cnn_lora\\\\..\\\\..\\\\data\\\\lambda\\\\u6a-1737059220052.png', 'c:\\\\Users\\\\Leon\\\\visual-studio\\\\repos\\\\Le-o-n\\\\ocr-model-training\\\\src\\\\cnn_lora\\\\..\\\\..\\\\data\\\\lambda\\\\u64-1737141743853.png', 'c:\\\\Users\\\\Leon\\\\visual-studio\\\\repos\\\\Le-o-n\\\\ocr-model-training\\\\src\\\\cnn_lora\\\\..\\\\..\\\\data\\\\lambda\\\\u73-1737059888090.png', 'c:\\\\Users\\\\Leon\\\\visual-studio\\\\repos\\\\Le-o-n\\\\ocr-model-training\\\\src\\\\cnn_lora\\\\..\\\\..\\\\data\\\\lambda\\\\u73-1737059660473.png', 'c:\\\\Users\\\\Leon\\\\visual-studio\\\\repos\\\\Le-o-n\\\\ocr-model-training\\\\src\\\\cnn_lora\\\\..\\\\..\\\\data\\\\lambda\\\\u38-1737059629266.png', 'c:\\\\Users\\\\Leon\\\\visual-studio\\\\repos\\\\Le-o-n\\\\ocr-model-training\\\\src\\\\cnn_lora\\\\..\\\\..\\\\data\\\\lambda\\\\u67-1737059058257.png', 'c:\\\\Users\\\\Leon\\\\visual-studio\\\\repos\\\\Le-o-n\\\\ocr-model-training\\\\src\\\\cnn_lora\\\\..\\\\..\\\\data\\\\lambda\\\\u73-1737060021670.png', 'c:\\\\Users\\\\Leon\\\\visual-studio\\\\repos\\\\Le-o-n\\\\ocr-model-training\\\\src\\\\cnn_lora\\\\..\\\\..\\\\data\\\\lambda\\\\u64-1737141855759.png', 'c:\\\\Users\\\\Leon\\\\visual-studio\\\\repos\\\\Le-o-n\\\\ocr-model-training\\\\src\\\\cnn_lora\\\\..\\\\..\\\\data\\\\lambda\\\\u38-1737059686590.png', 'c:\\\\Users\\\\Leon\\\\visual-studio\\\\repos\\\\Le-o-n\\\\ocr-model-training\\\\src\\\\cnn_lora\\\\..\\\\..\\\\data\\\\lambda\\\\u67-1737715325760.png', 'c:\\\\Users\\\\Leon\\\\visual-studio\\\\repos\\\\Le-o-n\\\\ocr-model-training\\\\src\\\\cnn_lora\\\\..\\\\..\\\\data\\\\lambda\\\\u2d-1737715385426.png', 'c:\\\\Users\\\\Leon\\\\visual-studio\\\\repos\\\\Le-o-n\\\\ocr-model-training\\\\src\\\\cnn_lora\\\\..\\\\..\\\\data\\\\lambda\\\\u2d-1737059848221.png', 'c:\\\\Users\\\\Leon\\\\visual-studio\\\\repos\\\\Le-o-n\\\\ocr-model-training\\\\src\\\\cnn_lora\\\\..\\\\..\\\\data\\\\lambda\\\\u5d-4517964774723864906.png', 'c:\\\\Users\\\\Leon\\\\visual-studio\\\\repos\\\\Le-o-n\\\\ocr-model-training\\\\src\\\\cnn_lora\\\\..\\\\..\\\\data\\\\lambda\\\\u3d-6033807975909350271.png', 'c:\\\\Users\\\\Leon\\\\visual-studio\\\\repos\\\\Le-o-n\\\\ocr-model-training\\\\src\\\\cnn_lora\\\\..\\\\..\\\\data\\\\lambda\\\\u66-1737714539205.png', 'c:\\\\Users\\\\Leon\\\\visual-studio\\\\repos\\\\Le-o-n\\\\ocr-model-training\\\\src\\\\cnn_lora\\\\..\\\\..\\\\data\\\\lambda\\\\u7d-8696579200502999742.png', 'c:\\\\Users\\\\Leon\\\\visual-studio\\\\repos\\\\Le-o-n\\\\ocr-model-training\\\\src\\\\cnn_lora\\\\..\\\\..\\\\data\\\\lambda\\\\u6d-1737059949133.png', 'c:\\\\Users\\\\Leon\\\\visual-studio\\\\repos\\\\Le-o-n\\\\ocr-model-training\\\\src\\\\cnn_lora\\\\..\\\\..\\\\data\\\\lambda\\\\u35-1737059976174.png', 'c:\\\\Users\\\\Leon\\\\visual-studio\\\\repos\\\\Le-o-n\\\\ocr-model-training\\\\src\\\\cnn_lora\\\\..\\\\..\\\\data\\\\lambda\\\\u71-1737059658349.png', 'c:\\\\Users\\\\Leon\\\\visual-studio\\\\repos\\\\Le-o-n\\\\ocr-model-training\\\\src\\\\cnn_lora\\\\..\\\\..\\\\data\\\\lambda\\\\u79-1737059967645.png', 'c:\\\\Users\\\\Leon\\\\visual-studio\\\\repos\\\\Le-o-n\\\\ocr-model-training\\\\src\\\\cnn_lora\\\\..\\\\..\\\\data\\\\lambda\\\\ud7-1737060050056.png', 'c:\\\\Users\\\\Leon\\\\visual-studio\\\\repos\\\\Le-o-n\\\\ocr-model-training\\\\src\\\\cnn_lora\\\\..\\\\..\\\\data\\\\lambda\\\\u2d-1737059110788.png', 'c:\\\\Users\\\\Leon\\\\visual-studio\\\\repos\\\\Le-o-n\\\\ocr-model-training\\\\src\\\\cnn_lora\\\\..\\\\..\\\\data\\\\lambda\\\\u3d--843322115499962289.png', 'c:\\\\Users\\\\Leon\\\\visual-studio\\\\repos\\\\Le-o-n\\\\ocr-model-training\\\\src\\\\cnn_lora\\\\..\\\\..\\\\data\\\\lambda\\\\u3e-1717774116838879628.png', 'c:\\\\Users\\\\Leon\\\\visual-studio\\\\repos\\\\Le-o-n\\\\ocr-model-training\\\\src\\\\cnn_lora\\\\..\\\\..\\\\data\\\\lambda\\\\u6f-1737059069590.png', 'c:\\\\Users\\\\Leon\\\\visual-studio\\\\repos\\\\Le-o-n\\\\ocr-model-training\\\\src\\\\cnn_lora\\\\..\\\\..\\\\data\\\\lambda\\\\u2d-1737059194515.png', 'c:\\\\Users\\\\Leon\\\\visual-studio\\\\repos\\\\Le-o-n\\\\ocr-model-training\\\\src\\\\cnn_lora\\\\..\\\\..\\\\data\\\\lambda\\\\u62-1737059692948.png', 'c:\\\\Users\\\\Leon\\\\visual-studio\\\\repos\\\\Le-o-n\\\\ocr-model-training\\\\src\\\\cnn_lora\\\\..\\\\..\\\\data\\\\lambda\\\\u7b--3844797257726477364.png', 'c:\\\\Users\\\\Leon\\\\visual-studio\\\\repos\\\\Le-o-n\\\\ocr-model-training\\\\src\\\\cnn_lora\\\\..\\\\..\\\\data\\\\lambda\\\\u6f-1737714561124.png', 'c:\\\\Users\\\\Leon\\\\visual-studio\\\\repos\\\\Le-o-n\\\\ocr-model-training\\\\src\\\\cnn_lora\\\\..\\\\..\\\\data\\\\lambda\\\\u3d-6152323412617378101.png', 'c:\\\\Users\\\\Leon\\\\visual-studio\\\\repos\\\\Le-o-n\\\\ocr-model-training\\\\src\\\\cnn_lora\\\\..\\\\..\\\\data\\\\lambda\\\\u73-1737059727886.png', 'c:\\\\Users\\\\Leon\\\\visual-studio\\\\repos\\\\Le-o-n\\\\ocr-model-training\\\\src\\\\cnn_lora\\\\..\\\\..\\\\data\\\\lambda\\\\u63-1737059117386.png', 'c:\\\\Users\\\\Leon\\\\visual-studio\\\\repos\\\\Le-o-n\\\\ocr-model-training\\\\src\\\\cnn_lora\\\\..\\\\..\\\\data\\\\lambda\\\\u3d--7854926905519022042.png', 'c:\\\\Users\\\\Leon\\\\visual-studio\\\\repos\\\\Le-o-n\\\\ocr-model-training\\\\src\\\\cnn_lora\\\\..\\\\..\\\\data\\\\lambda\\\\u39-1737714197595.png', 'c:\\\\Users\\\\Leon\\\\visual-studio\\\\repos\\\\Le-o-n\\\\ocr-model-training\\\\src\\\\cnn_lora\\\\..\\\\..\\\\data\\\\lambda\\\\u64-1737715319151.png', 'c:\\\\Users\\\\Leon\\\\visual-studio\\\\repos\\\\Le-o-n\\\\ocr-model-training\\\\src\\\\cnn_lora\\\\..\\\\..\\\\data\\\\lambda\\\\u2d-1737714669436.png', 'c:\\\\Users\\\\Leon\\\\visual-studio\\\\repos\\\\Le-o-n\\\\ocr-model-training\\\\src\\\\cnn_lora\\\\..\\\\..\\\\data\\\\lambda\\\\u66-1737059860453.png', 'c:\\\\Users\\\\Leon\\\\visual-studio\\\\repos\\\\Le-o-n\\\\ocr-model-training\\\\src\\\\cnn_lora\\\\..\\\\..\\\\data\\\\lambda\\\\u34-1737059620358.png', 'c:\\\\Users\\\\Leon\\\\visual-studio\\\\repos\\\\Le-o-n\\\\ocr-model-training\\\\src\\\\cnn_lora\\\\..\\\\..\\\\data\\\\lambda\\\\u79-1737715362136.png', 'c:\\\\Users\\\\Leon\\\\visual-studio\\\\repos\\\\Le-o-n\\\\ocr-model-training\\\\src\\\\cnn_lora\\\\..\\\\..\\\\data\\\\lambda\\\\u69-1737059867193.png', 'c:\\\\Users\\\\Leon\\\\visual-studio\\\\repos\\\\Le-o-n\\\\ocr-model-training\\\\src\\\\cnn_lora\\\\..\\\\..\\\\data\\\\lambda\\\\u76-1737714354804.png', 'c:\\\\Users\\\\Leon\\\\visual-studio\\\\repos\\\\Le-o-n\\\\ocr-model-training\\\\src\\\\cnn_lora\\\\..\\\\..\\\\data\\\\lambda\\\\u6d-1737059589956.png', 'c:\\\\Users\\\\Leon\\\\visual-studio\\\\repos\\\\Le-o-n\\\\ocr-model-training\\\\src\\\\cnn_lora\\\\..\\\\..\\\\data\\\\lambda\\\\u72-1737714348148.png', 'c:\\\\Users\\\\Leon\\\\visual-studio\\\\repos\\\\Le-o-n\\\\ocr-model-training\\\\src\\\\cnn_lora\\\\..\\\\..\\\\data\\\\lambda\\\\u77-1737059533040.png', 'c:\\\\Users\\\\Leon\\\\visual-studio\\\\repos\\\\Le-o-n\\\\ocr-model-training\\\\src\\\\cnn_lora\\\\..\\\\..\\\\data\\\\lambda\\\\ud7-1737059039355.png', 'c:\\\\Users\\\\Leon\\\\visual-studio\\\\repos\\\\Le-o-n\\\\ocr-model-training\\\\src\\\\cnn_lora\\\\..\\\\..\\\\data\\\\lambda\\\\u6a-1737141809246.png', 'c:\\\\Users\\\\Leon\\\\visual-studio\\\\repos\\\\Le-o-n\\\\ocr-model-training\\\\src\\\\cnn_lora\\\\..\\\\..\\\\data\\\\lambda\\\\u62-1737059199900.png', 'c:\\\\Users\\\\Leon\\\\visual-studio\\\\repos\\\\Le-o-n\\\\ocr-model-training\\\\src\\\\cnn_lora\\\\..\\\\..\\\\data\\\\lambda\\\\u34-1737713990157.png', 'c:\\\\Users\\\\Leon\\\\visual-studio\\\\repos\\\\Le-o-n\\\\ocr-model-training\\\\src\\\\cnn_lora\\\\..\\\\..\\\\data\\\\lambda\\\\u63-1737141854118.png', 'c:\\\\Users\\\\Leon\\\\visual-studio\\\\repos\\\\Le-o-n\\\\ocr-model-training\\\\src\\\\cnn_lora\\\\..\\\\..\\\\data\\\\lambda\\\\u5b-714352615264602074.png', 'c:\\\\Users\\\\Leon\\\\visual-studio\\\\repos\\\\Le-o-n\\\\ocr-model-training\\\\src\\\\cnn_lora\\\\..\\\\..\\\\data\\\\lambda\\\\u2d-1737059923894.png', 'c:\\\\Users\\\\Leon\\\\visual-studio\\\\repos\\\\Le-o-n\\\\ocr-model-training\\\\src\\\\cnn_lora\\\\..\\\\..\\\\data\\\\lambda\\\\u3d--8677746428820185855.png', 'c:\\\\Users\\\\Leon\\\\visual-studio\\\\repos\\\\Le-o-n\\\\ocr-model-training\\\\src\\\\cnn_lora\\\\..\\\\..\\\\data\\\\lambda\\\\u77-1737060027375.png', 'c:\\\\Users\\\\Leon\\\\visual-studio\\\\repos\\\\Le-o-n\\\\ocr-model-training\\\\src\\\\cnn_lora\\\\..\\\\..\\\\data\\\\lambda\\\\u75-1737059731949.png', 'c:\\\\Users\\\\Leon\\\\visual-studio\\\\repos\\\\Le-o-n\\\\ocr-model-training\\\\src\\\\cnn_lora\\\\..\\\\..\\\\data\\\\lambda\\\\u6b-1737715332998.png', 'c:\\\\Users\\\\Leon\\\\visual-studio\\\\repos\\\\Le-o-n\\\\ocr-model-training\\\\src\\\\cnn_lora\\\\..\\\\..\\\\data\\\\lambda\\\\u32-1737059972050.png', 'c:\\\\Users\\\\Leon\\\\visual-studio\\\\repos\\\\Le-o-n\\\\ocr-model-training\\\\src\\\\cnn_lora\\\\..\\\\..\\\\data\\\\lambda\\\\u3d-2348511469973378105.png', 'c:\\\\Users\\\\Leon\\\\visual-studio\\\\repos\\\\Le-o-n\\\\ocr-model-training\\\\src\\\\cnn_lora\\\\..\\\\..\\\\data\\\\lambda\\\\u68-1737714116373.png', 'c:\\\\Users\\\\Leon\\\\visual-studio\\\\repos\\\\Le-o-n\\\\ocr-model-training\\\\src\\\\cnn_lora\\\\..\\\\..\\\\data\\\\lambda\\\\ud7-1737059198351.png', 'c:\\\\Users\\\\Leon\\\\visual-studio\\\\repos\\\\Le-o-n\\\\ocr-model-training\\\\src\\\\cnn_lora\\\\..\\\\..\\\\data\\\\lambda\\\\u68-1737059647800.png', 'c:\\\\Users\\\\Leon\\\\visual-studio\\\\repos\\\\Le-o-n\\\\ocr-model-training\\\\src\\\\cnn_lora\\\\..\\\\..\\\\data\\\\lambda\\\\u63-1737058900205.png', 'c:\\\\Users\\\\Leon\\\\visual-studio\\\\repos\\\\Le-o-n\\\\ocr-model-training\\\\src\\\\cnn_lora\\\\..\\\\..\\\\data\\\\lambda\\\\u3c-8453125774864901128.png', 'c:\\\\Users\\\\Leon\\\\visual-studio\\\\repos\\\\Le-o-n\\\\ocr-model-training\\\\src\\\\cnn_lora\\\\..\\\\..\\\\data\\\\lambda\\\\u36-1737059185759.png', 'c:\\\\Users\\\\Leon\\\\visual-studio\\\\repos\\\\Le-o-n\\\\ocr-model-training\\\\src\\\\cnn_lora\\\\..\\\\..\\\\data\\\\lambda\\\\u6c-1737058913414.png', 'c:\\\\Users\\\\Leon\\\\visual-studio\\\\repos\\\\Le-o-n\\\\ocr-model-training\\\\src\\\\cnn_lora\\\\..\\\\..\\\\data\\\\lambda\\\\u6c-1737059146377.png', 'c:\\\\Users\\\\Leon\\\\visual-studio\\\\repos\\\\Le-o-n\\\\ocr-model-training\\\\src\\\\cnn_lora\\\\..\\\\..\\\\data\\\\lambda\\\\u35-1737059103923.png', 'c:\\\\Users\\\\Leon\\\\visual-studio\\\\repos\\\\Le-o-n\\\\ocr-model-training\\\\src\\\\cnn_lora\\\\..\\\\..\\\\data\\\\lambda\\\\u6e-1737713951774.png', 'c:\\\\Users\\\\Leon\\\\visual-studio\\\\repos\\\\Le-o-n\\\\ocr-model-training\\\\src\\\\cnn_lora\\\\..\\\\..\\\\data\\\\lambda\\\\u7a-1737714647288.png', 'c:\\\\Users\\\\Leon\\\\visual-studio\\\\repos\\\\Le-o-n\\\\ocr-model-training\\\\src\\\\cnn_lora\\\\..\\\\..\\\\data\\\\lambda\\\\u70-1737059954778.png', 'c:\\\\Users\\\\Leon\\\\visual-studio\\\\repos\\\\Le-o-n\\\\ocr-model-training\\\\src\\\\cnn_lora\\\\..\\\\..\\\\data\\\\lambda\\\\u3c-4712101678909818795.png', 'c:\\\\Users\\\\Leon\\\\visual-studio\\\\repos\\\\Le-o-n\\\\ocr-model-training\\\\src\\\\cnn_lora\\\\..\\\\..\\\\data\\\\lambda\\\\u72-1737059725380.png', 'c:\\\\Users\\\\Leon\\\\visual-studio\\\\repos\\\\Le-o-n\\\\ocr-model-training\\\\src\\\\cnn_lora\\\\..\\\\..\\\\data\\\\lambda\\\\u5d-4875768989772290162.png', 'c:\\\\Users\\\\Leon\\\\visual-studio\\\\repos\\\\Le-o-n\\\\ocr-model-training\\\\src\\\\cnn_lora\\\\..\\\\..\\\\data\\\\lambda\\\\u7b--3519928354441213019.png', 'c:\\\\Users\\\\Leon\\\\visual-studio\\\\repos\\\\Le-o-n\\\\ocr-model-training\\\\src\\\\cnn_lora\\\\..\\\\..\\\\data\\\\lambda\\\\u79-1737059750145.png', 'c:\\\\Users\\\\Leon\\\\visual-studio\\\\repos\\\\Le-o-n\\\\ocr-model-training\\\\src\\\\cnn_lora\\\\..\\\\..\\\\data\\\\lambda\\\\u65-1737059858705.png', 'c:\\\\Users\\\\Leon\\\\visual-studio\\\\repos\\\\Le-o-n\\\\ocr-model-training\\\\src\\\\cnn_lora\\\\..\\\\..\\\\data\\\\lambda\\\\u6e-1737060013083.png', 'c:\\\\Users\\\\Leon\\\\visual-studio\\\\repos\\\\Le-o-n\\\\ocr-model-training\\\\src\\\\cnn_lora\\\\..\\\\..\\\\data\\\\lambda\\\\u70-1737714626067.png', 'c:\\\\Users\\\\Leon\\\\visual-studio\\\\repos\\\\Le-o-n\\\\ocr-model-training\\\\src\\\\cnn_lora\\\\..\\\\..\\\\data\\\\lambda\\\\u75-1737714353533.png', 'c:\\\\Users\\\\Leon\\\\visual-studio\\\\repos\\\\Le-o-n\\\\ocr-model-training\\\\src\\\\cnn_lora\\\\..\\\\..\\\\data\\\\lambda\\\\u32-1737060035407.png', 'c:\\\\Users\\\\Leon\\\\visual-studio\\\\repos\\\\Le-o-n\\\\ocr-model-training\\\\src\\\\cnn_lora\\\\..\\\\..\\\\data\\\\lambda\\\\u37-1737059911712.png', 'c:\\\\Users\\\\Leon\\\\visual-studio\\\\repos\\\\Le-o-n\\\\ocr-model-training\\\\src\\\\cnn_lora\\\\..\\\\..\\\\data\\\\lambda\\\\u33-1737059619085.png', 'c:\\\\Users\\\\Leon\\\\visual-studio\\\\repos\\\\Le-o-n\\\\ocr-model-training\\\\src\\\\cnn_lora\\\\..\\\\..\\\\data\\\\lambda\\\\u63-1737141797072.png', 'c:\\\\Users\\\\Leon\\\\visual-studio\\\\repos\\\\Le-o-n\\\\ocr-model-training\\\\src\\\\cnn_lora\\\\..\\\\..\\\\data\\\\lambda\\\\ud7-1737059926935.png', 'c:\\\\Users\\\\Leon\\\\visual-studio\\\\repos\\\\Le-o-n\\\\ocr-model-training\\\\src\\\\cnn_lora\\\\..\\\\..\\\\data\\\\lambda\\\\u6e-1737714237222.png', 'c:\\\\Users\\\\Leon\\\\visual-studio\\\\repos\\\\Le-o-n\\\\ocr-model-training\\\\src\\\\cnn_lora\\\\..\\\\..\\\\data\\\\lambda\\\\u78-1737713973122.png', 'c:\\\\Users\\\\Leon\\\\visual-studio\\\\repos\\\\Le-o-n\\\\ocr-model-training\\\\src\\\\cnn_lora\\\\..\\\\..\\\\data\\\\lambda\\\\u3c--1319272263562934191.png', 'c:\\\\Users\\\\Leon\\\\visual-studio\\\\repos\\\\Le-o-n\\\\ocr-model-training\\\\src\\\\cnn_lora\\\\..\\\\..\\\\data\\\\lambda\\\\u3d-8241886731634908799.png', 'c:\\\\Users\\\\Leon\\\\visual-studio\\\\repos\\\\Le-o-n\\\\ocr-model-training\\\\src\\\\cnn_lora\\\\..\\\\..\\\\data\\\\lambda\\\\u3e-2243461489872385429.png', 'c:\\\\Users\\\\Leon\\\\visual-studio\\\\repos\\\\Le-o-n\\\\ocr-model-training\\\\src\\\\cnn_lora\\\\..\\\\..\\\\data\\\\lambda\\\\u7b-7631722852801567525.png', 'c:\\\\Users\\\\Leon\\\\visual-studio\\\\repos\\\\Le-o-n\\\\ocr-model-training\\\\src\\\\cnn_lora\\\\..\\\\..\\\\data\\\\lambda\\\\u5d-4432408266903950317.png', 'c:\\\\Users\\\\Leon\\\\visual-studio\\\\repos\\\\Le-o-n\\\\ocr-model-training\\\\src\\\\cnn_lora\\\\..\\\\..\\\\data\\\\lambda\\\\u5b-2297558750416130915.png', 'c:\\\\Users\\\\Leon\\\\visual-studio\\\\repos\\\\Le-o-n\\\\ocr-model-training\\\\src\\\\cnn_lora\\\\..\\\\..\\\\data\\\\lambda\\\\u7d-1024288446078342582.png', 'c:\\\\Users\\\\Leon\\\\visual-studio\\\\repos\\\\Le-o-n\\\\ocr-model-training\\\\src\\\\cnn_lora\\\\..\\\\..\\\\data\\\\lambda\\\\u3e--3691086968387096469.png', 'c:\\\\Users\\\\Leon\\\\visual-studio\\\\repos\\\\Le-o-n\\\\ocr-model-training\\\\src\\\\cnn_lora\\\\..\\\\..\\\\data\\\\lambda\\\\u6f-1737059315356.png', 'c:\\\\Users\\\\Leon\\\\visual-studio\\\\repos\\\\Le-o-n\\\\ocr-model-training\\\\src\\\\cnn_lora\\\\..\\\\..\\\\data\\\\lambda\\\\u37-1737714494502.png', 'c:\\\\Users\\\\Leon\\\\visual-studio\\\\repos\\\\Le-o-n\\\\ocr-model-training\\\\src\\\\cnn_lora\\\\..\\\\..\\\\data\\\\lambda\\\\u30-1737714649561.png', 'c:\\\\Users\\\\Leon\\\\visual-studio\\\\repos\\\\Le-o-n\\\\ocr-model-training\\\\src\\\\cnn_lora\\\\..\\\\..\\\\data\\\\lambda\\\\u74-1737715354498.png', 'c:\\\\Users\\\\Leon\\\\visual-studio\\\\repos\\\\Le-o-n\\\\ocr-model-training\\\\src\\\\cnn_lora\\\\..\\\\..\\\\data\\\\lambda\\\\u5b-2349727748080660450.png', 'c:\\\\Users\\\\Leon\\\\visual-studio\\\\repos\\\\Le-o-n\\\\ocr-model-training\\\\src\\\\cnn_lora\\\\..\\\\..\\\\data\\\\lambda\\\\u33-1737059678584.png', 'c:\\\\Users\\\\Leon\\\\visual-studio\\\\repos\\\\Le-o-n\\\\ocr-model-training\\\\src\\\\cnn_lora\\\\..\\\\..\\\\data\\\\lambda\\\\u6f-1737714133224.png', 'c:\\\\Users\\\\Leon\\\\visual-studio\\\\repos\\\\Le-o-n\\\\ocr-model-training\\\\src\\\\cnn_lora\\\\..\\\\..\\\\data\\\\lambda\\\\u5d-8143788167188769432.png', 'c:\\\\Users\\\\Leon\\\\visual-studio\\\\repos\\\\Le-o-n\\\\ocr-model-training\\\\src\\\\cnn_lora\\\\..\\\\..\\\\data\\\\lambda\\\\u39-1737059919355.png', 'c:\\\\Users\\\\Leon\\\\visual-studio\\\\repos\\\\Le-o-n\\\\ocr-model-training\\\\src\\\\cnn_lora\\\\..\\\\..\\\\data\\\\lambda\\\\u33-1737059101303.png', 'c:\\\\Users\\\\Leon\\\\visual-studio\\\\repos\\\\Le-o-n\\\\ocr-model-training\\\\src\\\\cnn_lora\\\\..\\\\..\\\\data\\\\lambda\\\\u76-1737714638827.png', 'c:\\\\Users\\\\Leon\\\\visual-studio\\\\repos\\\\Le-o-n\\\\ocr-model-training\\\\src\\\\cnn_lora\\\\..\\\\..\\\\data\\\\lambda\\\\u3e--3704549132009749624.png', 'c:\\\\Users\\\\Leon\\\\visual-studio\\\\repos\\\\Le-o-n\\\\ocr-model-training\\\\src\\\\cnn_lora\\\\..\\\\..\\\\data\\\\lambda\\\\u6d-1737060011542.png', 'c:\\\\Users\\\\Leon\\\\visual-studio\\\\repos\\\\Le-o-n\\\\ocr-model-training\\\\src\\\\cnn_lora\\\\..\\\\..\\\\data\\\\lambda\\\\u66-1737715323978.png', 'c:\\\\Users\\\\Leon\\\\visual-studio\\\\repos\\\\Le-o-n\\\\ocr-model-training\\\\src\\\\cnn_lora\\\\..\\\\..\\\\data\\\\lambda\\\\u7d-9132689030060653956.png', 'c:\\\\Users\\\\Leon\\\\visual-studio\\\\repos\\\\Le-o-n\\\\ocr-model-training\\\\src\\\\cnn_lora\\\\..\\\\..\\\\data\\\\lambda\\\\u39-1737059109653.png', 'c:\\\\Users\\\\Leon\\\\visual-studio\\\\repos\\\\Le-o-n\\\\ocr-model-training\\\\src\\\\cnn_lora\\\\..\\\\..\\\\data\\\\lambda\\\\u70-1737059594036.png', 'c:\\\\Users\\\\Leon\\\\visual-studio\\\\repos\\\\Le-o-n\\\\ocr-model-training\\\\src\\\\cnn_lora\\\\..\\\\..\\\\data\\\\lambda\\\\u75-1737059891672.png', 'c:\\\\Users\\\\Leon\\\\visual-studio\\\\repos\\\\Le-o-n\\\\ocr-model-training\\\\src\\\\cnn_lora\\\\..\\\\..\\\\data\\\\lambda\\\\u68-1737141749881.png', 'c:\\\\Users\\\\Leon\\\\visual-studio\\\\repos\\\\Le-o-n\\\\ocr-model-training\\\\src\\\\cnn_lora\\\\..\\\\..\\\\data\\\\lambda\\\\u34-1737059545867.png', 'c:\\\\Users\\\\Leon\\\\visual-studio\\\\repos\\\\Le-o-n\\\\ocr-model-training\\\\src\\\\cnn_lora\\\\..\\\\..\\\\data\\\\lambda\\\\uf7-1737059925438.png', 'c:\\\\Users\\\\Leon\\\\visual-studio\\\\repos\\\\Le-o-n\\\\ocr-model-training\\\\src\\\\cnn_lora\\\\..\\\\..\\\\data\\\\lambda\\\\u6c-1737059709224.png', 'c:\\\\Users\\\\Leon\\\\visual-studio\\\\repos\\\\Le-o-n\\\\ocr-model-training\\\\src\\\\cnn_lora\\\\..\\\\..\\\\data\\\\lambda\\\\u6e-1737059713857.png', 'c:\\\\Users\\\\Leon\\\\visual-studio\\\\repos\\\\Le-o-n\\\\ocr-model-training\\\\src\\\\cnn_lora\\\\..\\\\..\\\\data\\\\lambda\\\\u75-1737059163616.png', 'c:\\\\Users\\\\Leon\\\\visual-studio\\\\repos\\\\Le-o-n\\\\ocr-model-training\\\\src\\\\cnn_lora\\\\..\\\\..\\\\data\\\\lambda\\\\u30-1737059097028.png', 'c:\\\\Users\\\\Leon\\\\visual-studio\\\\repos\\\\Le-o-n\\\\ocr-model-training\\\\src\\\\cnn_lora\\\\..\\\\..\\\\data\\\\lambda\\\\u68-1737059303528.png', 'c:\\\\Users\\\\Leon\\\\visual-studio\\\\repos\\\\Le-o-n\\\\ocr-model-training\\\\src\\\\cnn_lora\\\\..\\\\..\\\\data\\\\lambda\\\\u6e-1737714131750.png', 'c:\\\\Users\\\\Leon\\\\visual-studio\\\\repos\\\\Le-o-n\\\\ocr-model-training\\\\src\\\\cnn_lora\\\\..\\\\..\\\\data\\\\lambda\\\\u69-1737059060751.png', 'c:\\\\Users\\\\Leon\\\\visual-studio\\\\repos\\\\Le-o-n\\\\ocr-model-training\\\\src\\\\cnn_lora\\\\..\\\\..\\\\data\\\\lambda\\\\u6b-1737059144223.png', 'c:\\\\Users\\\\Leon\\\\visual-studio\\\\repos\\\\Le-o-n\\\\ocr-model-training\\\\src\\\\cnn_lora\\\\..\\\\..\\\\data\\\\lambda\\\\u36-1737141789831.png', 'c:\\\\Users\\\\Leon\\\\visual-studio\\\\repos\\\\Le-o-n\\\\ocr-model-training\\\\src\\\\cnn_lora\\\\..\\\\..\\\\data\\\\lambda\\\\u68-1737141805452.png', 'c:\\\\Users\\\\Leon\\\\visual-studio\\\\repos\\\\Le-o-n\\\\ocr-model-training\\\\src\\\\cnn_lora\\\\..\\\\..\\\\data\\\\lambda\\\\u7b--6985833995780191564.png', 'c:\\\\Users\\\\Leon\\\\visual-studio\\\\repos\\\\Le-o-n\\\\ocr-model-training\\\\src\\\\cnn_lora\\\\..\\\\..\\\\data\\\\lambda\\\\u6f-1737059807756.png', 'c:\\\\Users\\\\Leon\\\\visual-studio\\\\repos\\\\Le-o-n\\\\ocr-model-training\\\\src\\\\cnn_lora\\\\..\\\\..\\\\data\\\\lambda\\\\u3d-4669127221655113294.png', 'c:\\\\Users\\\\Leon\\\\visual-studio\\\\repos\\\\Le-o-n\\\\ocr-model-training\\\\src\\\\cnn_lora\\\\..\\\\..\\\\data\\\\lambda\\\\u73-1737141770324.png', 'c:\\\\Users\\\\Leon\\\\visual-studio\\\\repos\\\\Le-o-n\\\\ocr-model-training\\\\src\\\\cnn_lora\\\\..\\\\..\\\\data\\\\lambda\\\\ud7-1737915405117.png', 'c:\\\\Users\\\\Leon\\\\visual-studio\\\\repos\\\\Le-o-n\\\\ocr-model-training\\\\src\\\\cnn_lora\\\\..\\\\..\\\\data\\\\lambda\\\\u6d-1737059312692.png', 'c:\\\\Users\\\\Leon\\\\visual-studio\\\\repos\\\\Le-o-n\\\\ocr-model-training\\\\src\\\\cnn_lora\\\\..\\\\..\\\\data\\\\lambda\\\\u73-1737715353132.png', 'c:\\\\Users\\\\Leon\\\\visual-studio\\\\repos\\\\Le-o-n\\\\ocr-model-training\\\\src\\\\cnn_lora\\\\..\\\\..\\\\data\\\\lambda\\\\u65-1737059295295.png', 'c:\\\\Users\\\\Leon\\\\visual-studio\\\\repos\\\\Le-o-n\\\\ocr-model-training\\\\src\\\\cnn_lora\\\\..\\\\..\\\\data\\\\lambda\\\\u7d-4601622706713953298.png', 'c:\\\\Users\\\\Leon\\\\visual-studio\\\\repos\\\\Le-o-n\\\\ocr-model-training\\\\src\\\\cnn_lora\\\\..\\\\..\\\\data\\\\lambda\\\\u5d-5712712991932158079.png', 'c:\\\\Users\\\\Leon\\\\visual-studio\\\\repos\\\\Le-o-n\\\\ocr-model-training\\\\src\\\\cnn_lora\\\\..\\\\..\\\\data\\\\lambda\\\\u37-1737713997035.png', 'c:\\\\Users\\\\Leon\\\\visual-studio\\\\repos\\\\Le-o-n\\\\ocr-model-training\\\\src\\\\cnn_lora\\\\..\\\\..\\\\data\\\\lambda\\\\u78-1737059170865.png', 'c:\\\\Users\\\\Leon\\\\visual-studio\\\\repos\\\\Le-o-n\\\\ocr-model-training\\\\src\\\\cnn_lora\\\\..\\\\..\\\\data\\\\lambda\\\\u75-1737058924816.png', 'c:\\\\Users\\\\Leon\\\\visual-studio\\\\repos\\\\Le-o-n\\\\ocr-model-training\\\\src\\\\cnn_lora\\\\..\\\\..\\\\data\\\\lambda\\\\u7a-1737059901569.png', 'c:\\\\Users\\\\Leon\\\\visual-studio\\\\repos\\\\Le-o-n\\\\ocr-model-training\\\\src\\\\cnn_lora\\\\..\\\\..\\\\data\\\\lambda\\\\u34-1737059183012.png', 'c:\\\\Users\\\\Leon\\\\visual-studio\\\\repos\\\\Le-o-n\\\\ocr-model-training\\\\src\\\\cnn_lora\\\\..\\\\..\\\\data\\\\lambda\\\\u6f-1737141816532.png', 'c:\\\\Users\\\\Leon\\\\visual-studio\\\\repos\\\\Le-o-n\\\\ocr-model-training\\\\src\\\\cnn_lora\\\\..\\\\..\\\\data\\\\lambda\\\\u75-1737059961891.png', 'c:\\\\Users\\\\Leon\\\\visual-studio\\\\repos\\\\Le-o-n\\\\ocr-model-training\\\\src\\\\cnn_lora\\\\..\\\\..\\\\data\\\\lambda\\\\u70-1737713954646.png', 'c:\\\\Users\\\\Leon\\\\visual-studio\\\\repos\\\\Le-o-n\\\\ocr-model-training\\\\src\\\\cnn_lora\\\\..\\\\..\\\\data\\\\lambda\\\\u7d-7938890566456306041.png', 'c:\\\\Users\\\\Leon\\\\visual-studio\\\\repos\\\\Le-o-n\\\\ocr-model-training\\\\src\\\\cnn_lora\\\\..\\\\..\\\\data\\\\lambda\\\\u64-1737059203400.png', 'c:\\\\Users\\\\Leon\\\\visual-studio\\\\repos\\\\Le-o-n\\\\ocr-model-training\\\\src\\\\cnn_lora\\\\..\\\\..\\\\data\\\\lambda\\\\u30-1737059754319.png', 'c:\\\\Users\\\\Leon\\\\visual-studio\\\\repos\\\\Le-o-n\\\\ocr-model-training\\\\src\\\\cnn_lora\\\\..\\\\..\\\\data\\\\lambda\\\\u71-1737058919984.png', 'c:\\\\Users\\\\Leon\\\\visual-studio\\\\repos\\\\Le-o-n\\\\ocr-model-training\\\\src\\\\cnn_lora\\\\..\\\\..\\\\data\\\\lambda\\\\u76-1737059518072.png', 'c:\\\\Users\\\\Leon\\\\visual-studio\\\\repos\\\\Le-o-n\\\\ocr-model-training\\\\src\\\\cnn_lora\\\\..\\\\..\\\\data\\\\lambda\\\\u33-1737141836140.png', 'c:\\\\Users\\\\Leon\\\\visual-studio\\\\repos\\\\Le-o-n\\\\ocr-model-training\\\\src\\\\cnn_lora\\\\..\\\\..\\\\data\\\\lambda\\\\u65-1737059564124.png', 'c:\\\\Users\\\\Leon\\\\visual-studio\\\\repos\\\\Le-o-n\\\\ocr-model-training\\\\src\\\\cnn_lora\\\\..\\\\..\\\\data\\\\lambda\\\\u79-1737141830134.png', 'c:\\\\Users\\\\Leon\\\\visual-studio\\\\repos\\\\Le-o-n\\\\ocr-model-training\\\\src\\\\cnn_lora\\\\..\\\\..\\\\data\\\\lambda\\\\uf7-1737059196806.png', 'c:\\\\Users\\\\Leon\\\\visual-studio\\\\repos\\\\Le-o-n\\\\ocr-model-training\\\\src\\\\cnn_lora\\\\..\\\\..\\\\data\\\\lambda\\\\u7a-1737059673001.png', 'c:\\\\Users\\\\Leon\\\\visual-studio\\\\repos\\\\Le-o-n\\\\ocr-model-training\\\\src\\\\cnn_lora\\\\..\\\\..\\\\data\\\\lambda\\\\u35-1737059909169.png', 'c:\\\\Users\\\\Leon\\\\visual-studio\\\\repos\\\\Le-o-n\\\\ocr-model-training\\\\src\\\\cnn_lora\\\\..\\\\..\\\\data\\\\lambda\\\\u72-1737059596596.png', 'c:\\\\Users\\\\Leon\\\\visual-studio\\\\repos\\\\Le-o-n\\\\ocr-model-training\\\\src\\\\cnn_lora\\\\..\\\\..\\\\data\\\\lambda\\\\u3c--4286570720681521435.png', 'c:\\\\Users\\\\Leon\\\\visual-studio\\\\repos\\\\Le-o-n\\\\ocr-model-training\\\\src\\\\cnn_lora\\\\..\\\\..\\\\data\\\\lambda\\\\u33-1737059756770.png', 'c:\\\\Users\\\\Leon\\\\visual-studio\\\\repos\\\\Le-o-n\\\\ocr-model-training\\\\src\\\\cnn_lora\\\\..\\\\..\\\\data\\\\lambda\\\\u3e-796948918479387854.png', 'c:\\\\Users\\\\Leon\\\\visual-studio\\\\repos\\\\Le-o-n\\\\ocr-model-training\\\\src\\\\cnn_lora\\\\..\\\\..\\\\data\\\\lambda\\\\uf7-1739014209883.png', 'c:\\\\Users\\\\Leon\\\\visual-studio\\\\repos\\\\Le-o-n\\\\ocr-model-training\\\\src\\\\cnn_lora\\\\..\\\\..\\\\data\\\\lambda\\\\ud7-1737915394583.png', 'c:\\\\Users\\\\Leon\\\\visual-studio\\\\repos\\\\Le-o-n\\\\ocr-model-training\\\\src\\\\cnn_lora\\\\..\\\\..\\\\data\\\\lambda\\\\u7b-7377586417965699076.png', 'c:\\\\Users\\\\Leon\\\\visual-studio\\\\repos\\\\Le-o-n\\\\ocr-model-training\\\\src\\\\cnn_lora\\\\..\\\\..\\\\data\\\\lambda\\\\u75-1737715356088.png', 'c:\\\\Users\\\\Leon\\\\visual-studio\\\\repos\\\\Le-o-n\\\\ocr-model-training\\\\src\\\\cnn_lora\\\\..\\\\..\\\\data\\\\lambda\\\\u75-1737059241784.png', 'c:\\\\Users\\\\Leon\\\\visual-studio\\\\repos\\\\Le-o-n\\\\ocr-model-training\\\\src\\\\cnn_lora\\\\..\\\\..\\\\data\\\\lambda\\\\u6e-1737714557865.png', 'c:\\\\Users\\\\Leon\\\\visual-studio\\\\repos\\\\Le-o-n\\\\ocr-model-training\\\\src\\\\cnn_lora\\\\..\\\\..\\\\data\\\\lambda\\\\u66-1737059056771.png', 'c:\\\\Users\\\\Leon\\\\visual-studio\\\\repos\\\\Le-o-n\\\\ocr-model-training\\\\src\\\\cnn_lora\\\\..\\\\..\\\\data\\\\lambda\\\\u66-1737059786373.png', 'c:\\\\Users\\\\Leon\\\\visual-studio\\\\repos\\\\Le-o-n\\\\ocr-model-training\\\\src\\\\cnn_lora\\\\..\\\\..\\\\data\\\\lambda\\\\uf7-1737714015640.png', 'c:\\\\Users\\\\Leon\\\\visual-studio\\\\repos\\\\Le-o-n\\\\ocr-model-training\\\\src\\\\cnn_lora\\\\..\\\\..\\\\data\\\\lambda\\\\u33-1737060036668.png', 'c:\\\\Users\\\\Leon\\\\visual-studio\\\\repos\\\\Le-o-n\\\\ocr-model-training\\\\src\\\\cnn_lora\\\\..\\\\..\\\\data\\\\lambda\\\\u32-1737714373699.png', 'c:\\\\Users\\\\Leon\\\\visual-studio\\\\repos\\\\Le-o-n\\\\ocr-model-training\\\\src\\\\cnn_lora\\\\..\\\\..\\\\data\\\\lambda\\\\u71-1737059956423.png', 'c:\\\\Users\\\\Leon\\\\visual-studio\\\\repos\\\\Le-o-n\\\\ocr-model-training\\\\src\\\\cnn_lora\\\\..\\\\..\\\\data\\\\lambda\\\\ud7-1737915402542.png', 'c:\\\\Users\\\\Leon\\\\visual-studio\\\\repos\\\\Le-o-n\\\\ocr-model-training\\\\src\\\\cnn_lora\\\\..\\\\..\\\\data\\\\lambda\\\\u64-1737059051173.png', 'c:\\\\Users\\\\Leon\\\\visual-studio\\\\repos\\\\Le-o-n\\\\ocr-model-training\\\\src\\\\cnn_lora\\\\..\\\\..\\\\data\\\\lambda\\\\u67-1737714221146.png', 'c:\\\\Users\\\\Leon\\\\visual-studio\\\\repos\\\\Le-o-n\\\\ocr-model-training\\\\src\\\\cnn_lora\\\\..\\\\..\\\\data\\\\lambda\\\\u3c--4277239716176345795.png', 'c:\\\\Users\\\\Leon\\\\visual-studio\\\\repos\\\\Le-o-n\\\\ocr-model-training\\\\src\\\\cnn_lora\\\\..\\\\..\\\\data\\\\lambda\\\\u76-1737059243438.png', 'c:\\\\Users\\\\Leon\\\\visual-studio\\\\repos\\\\Le-o-n\\\\ocr-model-training\\\\src\\\\cnn_lora\\\\..\\\\..\\\\data\\\\lambda\\\\uf7-1737059283421.png', 'c:\\\\Users\\\\Leon\\\\visual-studio\\\\repos\\\\Le-o-n\\\\ocr-model-training\\\\src\\\\cnn_lora\\\\..\\\\..\\\\data\\\\lambda\\\\uf7-1739014176312.png', 'c:\\\\Users\\\\Leon\\\\visual-studio\\\\repos\\\\Le-o-n\\\\ocr-model-training\\\\src\\\\cnn_lora\\\\..\\\\..\\\\data\\\\lambda\\\\u3c--7598095356396812590.png', 'c:\\\\Users\\\\Leon\\\\visual-studio\\\\repos\\\\Le-o-n\\\\ocr-model-training\\\\src\\\\cnn_lora\\\\..\\\\..\\\\data\\\\lambda\\\\u6d-1737715343855.png', 'c:\\\\Users\\\\Leon\\\\visual-studio\\\\repos\\\\Le-o-n\\\\ocr-model-training\\\\src\\\\cnn_lora\\\\..\\\\..\\\\data\\\\lambda\\\\u72-1737059158380.png', 'c:\\\\Users\\\\Leon\\\\visual-studio\\\\repos\\\\Le-o-n\\\\ocr-model-training\\\\src\\\\cnn_lora\\\\..\\\\..\\\\data\\\\lambda\\\\u38-1737715381042.png', 'c:\\\\Users\\\\Leon\\\\visual-studio\\\\repos\\\\Le-o-n\\\\ocr-model-training\\\\src\\\\cnn_lora\\\\..\\\\..\\\\data\\\\lambda\\\\u38-1737714195737.png', 'c:\\\\Users\\\\Leon\\\\visual-studio\\\\repos\\\\Le-o-n\\\\ocr-model-training\\\\src\\\\cnn_lora\\\\..\\\\..\\\\data\\\\lambda\\\\u68-1737059059519.png', 'c:\\\\Users\\\\Leon\\\\visual-studio\\\\repos\\\\Le-o-n\\\\ocr-model-training\\\\src\\\\cnn_lora\\\\..\\\\..\\\\data\\\\lambda\\\\u39-1737141794540.png', 'c:\\\\Users\\\\Leon\\\\visual-studio\\\\repos\\\\Le-o-n\\\\ocr-model-training\\\\src\\\\cnn_lora\\\\..\\\\..\\\\data\\\\lambda\\\\u65-1737714216229.png', 'c:\\\\Users\\\\Leon\\\\visual-studio\\\\repos\\\\Le-o-n\\\\ocr-model-training\\\\src\\\\cnn_lora\\\\..\\\\..\\\\data\\\\lambda\\\\u34-1737141837491.png', 'c:\\\\Users\\\\Leon\\\\visual-studio\\\\repos\\\\Le-o-n\\\\ocr-model-training\\\\src\\\\cnn_lora\\\\..\\\\..\\\\data\\\\lambda\\\\u38-1737141792636.png', 'c:\\\\Users\\\\Leon\\\\visual-studio\\\\repos\\\\Le-o-n\\\\ocr-model-training\\\\src\\\\cnn_lora\\\\..\\\\..\\\\data\\\\lambda\\\\u63-1737059694295.png', 'c:\\\\Users\\\\Leon\\\\visual-studio\\\\repos\\\\Le-o-n\\\\ocr-model-training\\\\src\\\\cnn_lora\\\\..\\\\..\\\\data\\\\lambda\\\\u33-1737714375707.png', 'c:\\\\Users\\\\Leon\\\\visual-studio\\\\repos\\\\Le-o-n\\\\ocr-model-training\\\\src\\\\cnn_lora\\\\..\\\\..\\\\data\\\\lambda\\\\u64-1737059695578.png', 'c:\\\\Users\\\\Leon\\\\visual-studio\\\\repos\\\\Le-o-n\\\\ocr-model-training\\\\src\\\\cnn_lora\\\\..\\\\..\\\\data\\\\lambda\\\\u6d-1737059803806.png', 'c:\\\\Users\\\\Leon\\\\visual-studio\\\\repos\\\\Le-o-n\\\\ocr-model-training\\\\src\\\\cnn_lora\\\\..\\\\..\\\\data\\\\lambda\\\\ud7-1737915393045.png', 'c:\\\\Users\\\\Leon\\\\visual-studio\\\\repos\\\\Le-o-n\\\\ocr-model-training\\\\src\\\\cnn_lora\\\\..\\\\..\\\\data\\\\lambda\\\\u36-1737714493041.png', 'c:\\\\Users\\\\Leon\\\\visual-studio\\\\repos\\\\Le-o-n\\\\ocr-model-training\\\\src\\\\cnn_lora\\\\..\\\\..\\\\data\\\\lambda\\\\u7a-1737059176946.png', 'c:\\\\Users\\\\Leon\\\\visual-studio\\\\repos\\\\Le-o-n\\\\ocr-model-training\\\\src\\\\cnn_lora\\\\..\\\\..\\\\data\\\\lambda\\\\u64-1737058901499.png', 'c:\\\\Users\\\\Leon\\\\visual-studio\\\\repos\\\\Le-o-n\\\\ocr-model-training\\\\src\\\\cnn_lora\\\\..\\\\..\\\\data\\\\lambda\\\\u77-1737059964478.png', 'c:\\\\Users\\\\Leon\\\\visual-studio\\\\repos\\\\Le-o-n\\\\ocr-model-training\\\\src\\\\cnn_lora\\\\..\\\\..\\\\data\\\\lambda\\\\u75-1737714637541.png', 'c:\\\\Users\\\\Leon\\\\visual-studio\\\\repos\\\\Le-o-n\\\\ocr-model-training\\\\src\\\\cnn_lora\\\\..\\\\..\\\\data\\\\lambda\\\\u6e-1737058916155.png', 'c:\\\\Users\\\\Leon\\\\visual-studio\\\\repos\\\\Le-o-n\\\\ocr-model-training\\\\src\\\\cnn_lora\\\\..\\\\..\\\\data\\\\lambda\\\\u7d-7111006029542960922.png', 'c:\\\\Users\\\\Leon\\\\visual-studio\\\\repos\\\\Le-o-n\\\\ocr-model-training\\\\src\\\\cnn_lora\\\\..\\\\..\\\\data\\\\lambda\\\\u65-1737714537321.png', 'c:\\\\Users\\\\Leon\\\\visual-studio\\\\repos\\\\Le-o-n\\\\ocr-model-training\\\\src\\\\cnn_lora\\\\..\\\\..\\\\data\\\\lambda\\\\u39-1737059553036.png', 'c:\\\\Users\\\\Leon\\\\visual-studio\\\\repos\\\\Le-o-n\\\\ocr-model-training\\\\src\\\\cnn_lora\\\\..\\\\..\\\\data\\\\lambda\\\\u33-1737059181474.png', 'c:\\\\Users\\\\Leon\\\\visual-studio\\\\repos\\\\Le-o-n\\\\ocr-model-training\\\\src\\\\cnn_lora\\\\..\\\\..\\\\data\\\\lambda\\\\u6a-1737059584427.png', 'c:\\\\Users\\\\Leon\\\\visual-studio\\\\repos\\\\Le-o-n\\\\ocr-model-training\\\\src\\\\cnn_lora\\\\..\\\\..\\\\data\\\\lambda\\\\u33-1737059973304.png', 'c:\\\\Users\\\\Leon\\\\visual-studio\\\\repos\\\\Le-o-n\\\\ocr-model-training\\\\src\\\\cnn_lora\\\\..\\\\..\\\\data\\\\lambda\\\\u7b--6188102094049989247.png', 'c:\\\\Users\\\\Leon\\\\visual-studio\\\\repos\\\\Le-o-n\\\\ocr-model-training\\\\src\\\\cnn_lora\\\\..\\\\..\\\\data\\\\lambda\\\\u6c-1737715341470.png', 'c:\\\\Users\\\\Leon\\\\visual-studio\\\\repos\\\\Le-o-n\\\\ocr-model-training\\\\src\\\\cnn_lora\\\\..\\\\..\\\\data\\\\lambda\\\\u39-1737714009495.png', 'c:\\\\Users\\\\Leon\\\\visual-studio\\\\repos\\\\Le-o-n\\\\ocr-model-training\\\\src\\\\cnn_lora\\\\..\\\\..\\\\data\\\\lambda\\\\u69-1737715329077.png', 'c:\\\\Users\\\\Leon\\\\visual-studio\\\\repos\\\\Le-o-n\\\\ocr-model-training\\\\src\\\\cnn_lora\\\\..\\\\..\\\\data\\\\lambda\\\\u78-1737059966058.png', 'c:\\\\Users\\\\Leon\\\\visual-studio\\\\repos\\\\Le-o-n\\\\ocr-model-training\\\\src\\\\cnn_lora\\\\..\\\\..\\\\data\\\\lambda\\\\u72-1737141876557.png', 'c:\\\\Users\\\\Leon\\\\visual-studio\\\\repos\\\\Le-o-n\\\\ocr-model-training\\\\src\\\\cnn_lora\\\\..\\\\..\\\\data\\\\lambda\\\\u39-1737060045666.png', 'c:\\\\Users\\\\Leon\\\\visual-studio\\\\repos\\\\Le-o-n\\\\ocr-model-training\\\\src\\\\cnn_lora\\\\..\\\\..\\\\data\\\\lambda\\\\u6a-1737059307468.png', 'c:\\\\Users\\\\Leon\\\\visual-studio\\\\repos\\\\Le-o-n\\\\ocr-model-training\\\\src\\\\cnn_lora\\\\..\\\\..\\\\data\\\\lambda\\\\u76-1737714165224.png', 'c:\\\\Users\\\\Leon\\\\visual-studio\\\\repos\\\\Le-o-n\\\\ocr-model-training\\\\src\\\\cnn_lora\\\\..\\\\..\\\\data\\\\lambda\\\\u30-1737059676243.png'] ['8', 'c', 'p', 's', 's', '5', 'f', '6', '8', 'i', 'v', '+', 'o', 'y', '(', '2', 'm', '+', '-', 'e', 's', 'w', '×', 'd', 'o', 'g', 'o', ')', 'd', 'c', 'λ', '{', '<', 'y', 'λ', 'a', '+', 'j', 'v', '2', '.', 'd', '6', 't', 't', 'c', 'm', 'p', ')', '(', 'g', '(', 'b', 'p', 'e', '.', ')', 'p', '}', 'e', '÷', 'w', '(', ')', 'q', '0', 'q', 'x', 'g', 'i', 'e', 'h', 't', 'i', 'l', 'b', 'λ', 'i', 'x', '0', '+', ':', 'x', '(', '(', '1', 'h', 'j', 'u', '1', ')', '1', '.', 'p', 'h', 'λ', 'q', 'a', ':', 'v', 'a', 'g', '0', ')', '9', ']', 'λ', ':', 'k', 'c', '>', ']', 'p', '>', 'y', '0', 'u', 'm', '+', 'b', '3', 'b', '{', 'k', '+', 'r', '×', 'w', ')', 'j', '[', '{', 'v', '1', '.', '8', ']', 'k', '0', '5', '6', 'l', 'q', '+', ']', '+', ':', '}', '1', 'k', 'f', '8', 'f', ')', '6', '.', 'i', 'z', '(', '(', 's', 't', ')', 'z', '÷', '8', 's', ':', 'e', '[', 'b', 'z', '[', 'λ', 'h', 'd', ')', 'b', '1', '0', '<', 'j', '9', '=', '4', '>', ':', 'b', '7', '2', '[', ')', '.', 'y', '7', 'r', 'a', 'd', '=', 'n', '=', 'a', 'f', '4', '7', 'a', '.', '-', '>', 'r', '-', '5', 'd', '5', '7', 'f', 'g', 'x', ')', ']', 'n', '(', '2', '1', '(', '×', 'λ', 'l', '.', 'w', 'λ', 'p', 'p', '1', '+', '}', 'a', '0', ']', 'λ', '5', 'v', ')', '>', ')', 'a', '3', '6', 'a', '7', 'x', 'x', 'j', 'r', 'k', '+', '(', 'j', 'j', '2', '4', '9', 'w', 'y', '(', '1', 'c', 'q', ')', 'd', 'a', 'u', 'w', '3', 'n', 'h', 's', 'c', 'o', ':', 'a', 'n', 'k', '0', 'l', 'h', 'e', '}', '2', '.', 'λ', '}', 'm', '-', 'm', 'k', 'l', '(', 'c', '.', '(', '=', '÷', 'v', '.', 'n', '1', 'a', '{', 'd', 't', 'j', '6', '×', 'o', '+', 'q', 'y', '+', 'u', '(', 'r', '8', '[', '+', 't', 'r', '2', '<', 'v', 'x', 'o', '÷', 'l', 'λ', '6', ':', '+', '5', '÷', 'g', '[', '[', 'λ', '<', '[', '6', '.', 'g', 'l', '×', '.', '2', 'v', '÷', '.', '+', 'i', 'n', 'p', 'r', '5', 'λ', '1', 'i', 'a', 'λ', 'z', 'm', '5', 'z', 'λ', ']', 'a', '1', '4', '1', '5', 'x', 'b', '3', 'k', 'g', '[', 'g', 'b', ':', 't', '×', '1', 'x', '1', '=', '<', 'z', 'p', '5', '{', 'a', '4', 'y', '6', '4', 'k', 'f', 'k', 'c', '7', '3', 'i', '×', '-', '-', '6', 'w', 't', 'y', '}', 'i', 'w', 'h', '{', 'q', '8', '4', 'e', '.', 'f', 'y', ':', 'u', '=', '7', 'e', ':', 'u', '[', 'f', 'q', '7', '2', 'x', 't', 'b', '>', '7', 'e', ':', '<', 'e', '8', '-', '0', 's', 'w', '<', '{', 'm', 'z', '9', 'p', ']', 'l', 'v', 'b', '-', ':', 'i', '9', '9', 'q', 's', 'n', 'x', ':', 'r', 'j', 't', ':', 'y', 'm', 'k', 'h', '÷', '>', 'z', '8', '}', 'o', ']', 'o', 'j', '-', 'r', 'q', 'q', 'y', 'q', 'z', 'l', '}', '3', '>', 'j', '=', '7', '2', ']', '÷', '÷', 'f', 'k', '{', '2', 'b', '7', '{', '8', 's', 'c', 'n', 'w', '9', 't', 'i', 'l', 'c', 'm', '<', 'w', 'g', 't', 'l', '>', '6', 'k', '[', '9', '4', '[', 'i', 'o', '>', 'r', 'z', '4', '<', '7', '5', 'h', 'f', 'z', '4', 'x', '0', 'g', '2', '5', 'v', 't', '0', 'w', '6', 't', 'b', 'g', '}', 'j', 'd', 's', 's', '8', 'g', 's', 'd', '8', 'g', '-', '-', ']', '=', 'f', '}', 'm', '5', 'q', 'y', '×', '-', '=', '>', 'o', '-', 'b', '{', 'o', '=', 's', 'c', '=', '9', 'd', '-', 'f', '4', 'y', 'i', 'v', 'm', 'r', 'w', '×', 'j', 'b', '4', 'c', '[', '-', '=', 'w', 'u', 'k', '2', '=', 'h', '×', 'h', 'c', '<', '6', 'l', 'l', '5', 'n', 'z', 'p', '<', 'r', ']', '{', 'y', 'e', 'n', 'p', 'u', '2', '7', '3', 'c', '×', 'n', 'x', '<', '=', '>', '{', ']', '[', '}', '>', 'o', '7', '0', 't', '[', '3', 'o', ']', '9', '3', 'v', '>', 'm', 'f', '}', '9', 'p', 'u', 'h', '4', '÷', 'l', 'n', 'u', '0', 'h', 'n', 'i', 'k', '6', 'h', '{', 'o', '=', 's', '×', 'm', 's', 'e', '}', ']', '7', 'x', 'u', 'z', '4', 'o', 'u', 'p', '}', 'd', '0', 'q', 'v', '3', 'e', 'y', '÷', 'z', '5', 'r', '<', '3', '>', '÷', '×', '{', 'u', 'u', 'n', 'f', 'f', '÷', '3', '2', 'q', '×', 'd', 'g', '<', 'v', '÷', '÷', '<', 'm', 'r', '8', '8', 'h', '9', 'e', '4', '8', 'c', '3', 'd', 'm', '×', '6', 'z', 'd', 'w', 'u', 'n', '}', 'e', '9', '3', 'j', '3', '{', 'l', '9', 'i', 'x', 'r', '9', 'j', 'v', '0']\n",
      "Val   (104): ['c:\\\\Users\\\\Leon\\\\visual-studio\\\\repos\\\\Le-o-n\\\\ocr-model-training\\\\src\\\\cnn_lora\\\\..\\\\..\\\\data\\\\lambda\\\\u28-1736987242561.png', 'c:\\\\Users\\\\Leon\\\\visual-studio\\\\repos\\\\Le-o-n\\\\ocr-model-training\\\\src\\\\cnn_lora\\\\..\\\\..\\\\data\\\\lambda\\\\u28-1736980109993.png', 'c:\\\\Users\\\\Leon\\\\visual-studio\\\\repos\\\\Le-o-n\\\\ocr-model-training\\\\src\\\\cnn_lora\\\\..\\\\..\\\\data\\\\lambda\\\\u29-1736980135968.png', 'c:\\\\Users\\\\Leon\\\\visual-studio\\\\repos\\\\Le-o-n\\\\ocr-model-training\\\\src\\\\cnn_lora\\\\..\\\\..\\\\data\\\\lambda\\\\u29-1736980101679.png', 'c:\\\\Users\\\\Leon\\\\visual-studio\\\\repos\\\\Le-o-n\\\\ocr-model-training\\\\src\\\\cnn_lora\\\\..\\\\..\\\\data\\\\lambda\\\\u2b-1736980167108.png', 'c:\\\\Users\\\\Leon\\\\visual-studio\\\\repos\\\\Le-o-n\\\\ocr-model-training\\\\src\\\\cnn_lora\\\\..\\\\..\\\\data\\\\lambda\\\\u2b-1736979988151.png', 'c:\\\\Users\\\\Leon\\\\visual-studio\\\\repos\\\\Le-o-n\\\\ocr-model-training\\\\src\\\\cnn_lora\\\\..\\\\..\\\\data\\\\lambda\\\\u2d-1737059765543.png', 'c:\\\\Users\\\\Leon\\\\visual-studio\\\\repos\\\\Le-o-n\\\\ocr-model-training\\\\src\\\\cnn_lora\\\\..\\\\..\\\\data\\\\lambda\\\\u2d-1739014197721.png', 'c:\\\\Users\\\\Leon\\\\visual-studio\\\\repos\\\\Le-o-n\\\\ocr-model-training\\\\src\\\\cnn_lora\\\\..\\\\..\\\\data\\\\lambda\\\\u2e-1736980040994.png', 'c:\\\\Users\\\\Leon\\\\visual-studio\\\\repos\\\\Le-o-n\\\\ocr-model-training\\\\src\\\\cnn_lora\\\\..\\\\..\\\\data\\\\lambda\\\\u2e-1736980118252.png', 'c:\\\\Users\\\\Leon\\\\visual-studio\\\\repos\\\\Le-o-n\\\\ocr-model-training\\\\src\\\\cnn_lora\\\\..\\\\..\\\\data\\\\lambda\\\\u30-1737059259225.png', 'c:\\\\Users\\\\Leon\\\\visual-studio\\\\repos\\\\Le-o-n\\\\ocr-model-training\\\\src\\\\cnn_lora\\\\..\\\\..\\\\data\\\\lambda\\\\u30-1737059970635.png', 'c:\\\\Users\\\\Leon\\\\visual-studio\\\\repos\\\\Le-o-n\\\\ocr-model-training\\\\src\\\\cnn_lora\\\\..\\\\..\\\\data\\\\lambda\\\\u31-1736980185652.png', 'c:\\\\Users\\\\Leon\\\\visual-studio\\\\repos\\\\Le-o-n\\\\ocr-model-training\\\\src\\\\cnn_lora\\\\..\\\\..\\\\data\\\\lambda\\\\u31-1736980168695.png', 'c:\\\\Users\\\\Leon\\\\visual-studio\\\\repos\\\\Le-o-n\\\\ocr-model-training\\\\src\\\\cnn_lora\\\\..\\\\..\\\\data\\\\lambda\\\\u32-1737715371044.png', 'c:\\\\Users\\\\Leon\\\\visual-studio\\\\repos\\\\Le-o-n\\\\ocr-model-training\\\\src\\\\cnn_lora\\\\..\\\\..\\\\data\\\\lambda\\\\u32-1737059262573.png', 'c:\\\\Users\\\\Leon\\\\visual-studio\\\\repos\\\\Le-o-n\\\\ocr-model-training\\\\src\\\\cnn_lora\\\\..\\\\..\\\\data\\\\lambda\\\\u33-1737714655567.png', 'c:\\\\Users\\\\Leon\\\\visual-studio\\\\repos\\\\Le-o-n\\\\ocr-model-training\\\\src\\\\cnn_lora\\\\..\\\\..\\\\data\\\\lambda\\\\u33-1737059836548.png', 'c:\\\\Users\\\\Leon\\\\visual-studio\\\\repos\\\\Le-o-n\\\\ocr-model-training\\\\src\\\\cnn_lora\\\\..\\\\..\\\\data\\\\lambda\\\\u34-1737059838231.png', 'c:\\\\Users\\\\Leon\\\\visual-studio\\\\repos\\\\Le-o-n\\\\ocr-model-training\\\\src\\\\cnn_lora\\\\..\\\\..\\\\data\\\\lambda\\\\u34-1737059757877.png', 'c:\\\\Users\\\\Leon\\\\visual-studio\\\\repos\\\\Le-o-n\\\\ocr-model-training\\\\src\\\\cnn_lora\\\\..\\\\..\\\\data\\\\lambda\\\\u35-1737714383510.png', 'c:\\\\Users\\\\Leon\\\\visual-studio\\\\repos\\\\Le-o-n\\\\ocr-model-training\\\\src\\\\cnn_lora\\\\..\\\\..\\\\data\\\\lambda\\\\u35-1737715375597.png', 'c:\\\\Users\\\\Leon\\\\visual-studio\\\\repos\\\\Le-o-n\\\\ocr-model-training\\\\src\\\\cnn_lora\\\\..\\\\..\\\\data\\\\lambda\\\\u36-1737141840173.png', 'c:\\\\Users\\\\Leon\\\\visual-studio\\\\repos\\\\Le-o-n\\\\ocr-model-training\\\\src\\\\cnn_lora\\\\..\\\\..\\\\data\\\\lambda\\\\u36-1737060040914.png', 'c:\\\\Users\\\\Leon\\\\visual-studio\\\\repos\\\\Le-o-n\\\\ocr-model-training\\\\src\\\\cnn_lora\\\\..\\\\..\\\\data\\\\lambda\\\\u37-1737059550039.png', 'c:\\\\Users\\\\Leon\\\\visual-studio\\\\repos\\\\Le-o-n\\\\ocr-model-training\\\\src\\\\cnn_lora\\\\..\\\\..\\\\data\\\\lambda\\\\u37-1737059106584.png', 'c:\\\\Users\\\\Leon\\\\visual-studio\\\\repos\\\\Le-o-n\\\\ocr-model-training\\\\src\\\\cnn_lora\\\\..\\\\..\\\\data\\\\lambda\\\\u38-1737059916714.png', 'c:\\\\Users\\\\Leon\\\\visual-studio\\\\repos\\\\Le-o-n\\\\ocr-model-training\\\\src\\\\cnn_lora\\\\..\\\\..\\\\data\\\\lambda\\\\u38-1737059000042.png', 'c:\\\\Users\\\\Leon\\\\visual-studio\\\\repos\\\\Le-o-n\\\\ocr-model-training\\\\src\\\\cnn_lora\\\\..\\\\..\\\\data\\\\lambda\\\\u39-1737059847194.png', 'c:\\\\Users\\\\Leon\\\\visual-studio\\\\repos\\\\Le-o-n\\\\ocr-model-training\\\\src\\\\cnn_lora\\\\..\\\\..\\\\data\\\\lambda\\\\u39-1737059192525.png', 'c:\\\\Users\\\\Leon\\\\visual-studio\\\\repos\\\\Le-o-n\\\\ocr-model-training\\\\src\\\\cnn_lora\\\\..\\\\..\\\\data\\\\lambda\\\\u3a--8485726472181385776.png', 'c:\\\\Users\\\\Leon\\\\visual-studio\\\\repos\\\\Le-o-n\\\\ocr-model-training\\\\src\\\\cnn_lora\\\\..\\\\..\\\\data\\\\lambda\\\\u3a-7245864826052180129.png', 'c:\\\\Users\\\\Leon\\\\visual-studio\\\\repos\\\\Le-o-n\\\\ocr-model-training\\\\src\\\\cnn_lora\\\\..\\\\..\\\\data\\\\lambda\\\\u3c-313967071484936748.png', 'c:\\\\Users\\\\Leon\\\\visual-studio\\\\repos\\\\Le-o-n\\\\ocr-model-training\\\\src\\\\cnn_lora\\\\..\\\\..\\\\data\\\\lambda\\\\u3c-1897319224333993424.png', 'c:\\\\Users\\\\Leon\\\\visual-studio\\\\repos\\\\Le-o-n\\\\ocr-model-training\\\\src\\\\cnn_lora\\\\..\\\\..\\\\data\\\\lambda\\\\u3d--4183573674200455344.png', 'c:\\\\Users\\\\Leon\\\\visual-studio\\\\repos\\\\Le-o-n\\\\ocr-model-training\\\\src\\\\cnn_lora\\\\..\\\\..\\\\data\\\\lambda\\\\u3d-2463964290469517086.png', 'c:\\\\Users\\\\Leon\\\\visual-studio\\\\repos\\\\Le-o-n\\\\ocr-model-training\\\\src\\\\cnn_lora\\\\..\\\\..\\\\data\\\\lambda\\\\u3e--5673278900174908711.png', 'c:\\\\Users\\\\Leon\\\\visual-studio\\\\repos\\\\Le-o-n\\\\ocr-model-training\\\\src\\\\cnn_lora\\\\..\\\\..\\\\data\\\\lambda\\\\u3e--2365643205338728632.png', 'c:\\\\Users\\\\Leon\\\\visual-studio\\\\repos\\\\Le-o-n\\\\ocr-model-training\\\\src\\\\cnn_lora\\\\..\\\\..\\\\data\\\\lambda\\\\u5b-820779941595297941.png', 'c:\\\\Users\\\\Leon\\\\visual-studio\\\\repos\\\\Le-o-n\\\\ocr-model-training\\\\src\\\\cnn_lora\\\\..\\\\..\\\\data\\\\lambda\\\\u5b-2018591025874080306.png', 'c:\\\\Users\\\\Leon\\\\visual-studio\\\\repos\\\\Le-o-n\\\\ocr-model-training\\\\src\\\\cnn_lora\\\\..\\\\..\\\\data\\\\lambda\\\\u5d--3459284999359088941.png', 'c:\\\\Users\\\\Leon\\\\visual-studio\\\\repos\\\\Le-o-n\\\\ocr-model-training\\\\src\\\\cnn_lora\\\\..\\\\..\\\\data\\\\lambda\\\\u5d--5372087832357347117.png', 'c:\\\\Users\\\\Leon\\\\visual-studio\\\\repos\\\\Le-o-n\\\\ocr-model-training\\\\src\\\\cnn_lora\\\\..\\\\..\\\\data\\\\lambda\\\\u61-1737714206009.png', 'c:\\\\Users\\\\Leon\\\\visual-studio\\\\repos\\\\Le-o-n\\\\ocr-model-training\\\\src\\\\cnn_lora\\\\..\\\\..\\\\data\\\\lambda\\\\u61-1736980068273.png', 'c:\\\\Users\\\\Leon\\\\visual-studio\\\\repos\\\\Le-o-n\\\\ocr-model-training\\\\src\\\\cnn_lora\\\\..\\\\..\\\\data\\\\lambda\\\\u62-1737141741455.png', 'c:\\\\Users\\\\Leon\\\\visual-studio\\\\repos\\\\Le-o-n\\\\ocr-model-training\\\\src\\\\cnn_lora\\\\..\\\\..\\\\data\\\\lambda\\\\u62-1737059286283.png', 'c:\\\\Users\\\\Leon\\\\visual-studio\\\\repos\\\\Le-o-n\\\\ocr-model-training\\\\src\\\\cnn_lora\\\\..\\\\..\\\\data\\\\lambda\\\\u63-1737713933479.png', 'c:\\\\Users\\\\Leon\\\\visual-studio\\\\repos\\\\Le-o-n\\\\ocr-model-training\\\\src\\\\cnn_lora\\\\..\\\\..\\\\data\\\\lambda\\\\u63-1737059776952.png', 'c:\\\\Users\\\\Leon\\\\visual-studio\\\\repos\\\\Le-o-n\\\\ocr-model-training\\\\src\\\\cnn_lora\\\\..\\\\..\\\\data\\\\lambda\\\\u64-1737059932663.png', 'c:\\\\Users\\\\Leon\\\\visual-studio\\\\repos\\\\Le-o-n\\\\ocr-model-training\\\\src\\\\cnn_lora\\\\..\\\\..\\\\data\\\\lambda\\\\u64-1737714534978.png', 'c:\\\\Users\\\\Leon\\\\visual-studio\\\\repos\\\\Le-o-n\\\\ocr-model-training\\\\src\\\\cnn_lora\\\\..\\\\..\\\\data\\\\lambda\\\\u65-1737713936666.png', 'c:\\\\Users\\\\Leon\\\\visual-studio\\\\repos\\\\Le-o-n\\\\ocr-model-training\\\\src\\\\cnn_lora\\\\..\\\\..\\\\data\\\\lambda\\\\u65-1737059696696.png', 'c:\\\\Users\\\\Leon\\\\visual-studio\\\\repos\\\\Le-o-n\\\\ocr-model-training\\\\src\\\\cnn_lora\\\\..\\\\..\\\\data\\\\lambda\\\\u66-1737714218807.png', 'c:\\\\Users\\\\Leon\\\\visual-studio\\\\repos\\\\Le-o-n\\\\ocr-model-training\\\\src\\\\cnn_lora\\\\..\\\\..\\\\data\\\\lambda\\\\u66-1737059208414.png', 'c:\\\\Users\\\\Leon\\\\visual-studio\\\\repos\\\\Le-o-n\\\\ocr-model-training\\\\src\\\\cnn_lora\\\\..\\\\..\\\\data\\\\lambda\\\\u67-1737059788380.png', 'c:\\\\Users\\\\Leon\\\\visual-studio\\\\repos\\\\Le-o-n\\\\ocr-model-training\\\\src\\\\cnn_lora\\\\..\\\\..\\\\data\\\\lambda\\\\u67-1737059579443.png', 'c:\\\\Users\\\\Leon\\\\visual-studio\\\\repos\\\\Le-o-n\\\\ocr-model-training\\\\src\\\\cnn_lora\\\\..\\\\..\\\\data\\\\lambda\\\\u68-1737059939329.png', 'c:\\\\Users\\\\Leon\\\\visual-studio\\\\repos\\\\Le-o-n\\\\ocr-model-training\\\\src\\\\cnn_lora\\\\..\\\\..\\\\data\\\\lambda\\\\u68-1737059216670.png', 'c:\\\\Users\\\\Leon\\\\visual-studio\\\\repos\\\\Le-o-n\\\\ocr-model-training\\\\src\\\\cnn_lora\\\\..\\\\..\\\\data\\\\lambda\\\\u69-1737714118868.png', 'c:\\\\Users\\\\Leon\\\\visual-studio\\\\repos\\\\Le-o-n\\\\ocr-model-training\\\\src\\\\cnn_lora\\\\..\\\\..\\\\data\\\\lambda\\\\u69-1737141864199.png', 'c:\\\\Users\\\\Leon\\\\visual-studio\\\\repos\\\\Le-o-n\\\\ocr-model-training\\\\src\\\\cnn_lora\\\\..\\\\..\\\\data\\\\lambda\\\\u6a-1737059705644.png', 'c:\\\\Users\\\\Leon\\\\visual-studio\\\\repos\\\\Le-o-n\\\\ocr-model-training\\\\src\\\\cnn_lora\\\\..\\\\..\\\\data\\\\lambda\\\\u6a-1737060005617.png', 'c:\\\\Users\\\\Leon\\\\visual-studio\\\\repos\\\\Le-o-n\\\\ocr-model-training\\\\src\\\\cnn_lora\\\\..\\\\..\\\\data\\\\lambda\\\\u6b-1737058912022.png', 'c:\\\\Users\\\\Leon\\\\visual-studio\\\\repos\\\\Le-o-n\\\\ocr-model-training\\\\src\\\\cnn_lora\\\\..\\\\..\\\\data\\\\lambda\\\\u6b-1737059945674.png', 'c:\\\\Users\\\\Leon\\\\visual-studio\\\\repos\\\\Le-o-n\\\\ocr-model-training\\\\src\\\\cnn_lora\\\\..\\\\..\\\\data\\\\lambda\\\\u6c-1737714551592.png', 'c:\\\\Users\\\\Leon\\\\visual-studio\\\\repos\\\\Le-o-n\\\\ocr-model-training\\\\src\\\\cnn_lora\\\\..\\\\..\\\\data\\\\lambda\\\\u6c-1737059652573.png', 'c:\\\\Users\\\\Leon\\\\visual-studio\\\\repos\\\\Le-o-n\\\\ocr-model-training\\\\src\\\\cnn_lora\\\\..\\\\..\\\\data\\\\lambda\\\\u6d-1737714556248.png', 'c:\\\\Users\\\\Leon\\\\visual-studio\\\\repos\\\\Le-o-n\\\\ocr-model-training\\\\src\\\\cnn_lora\\\\..\\\\..\\\\data\\\\lambda\\\\u6d-1737059148961.png', 'c:\\\\Users\\\\Leon\\\\visual-studio\\\\repos\\\\Le-o-n\\\\ocr-model-training\\\\src\\\\cnn_lora\\\\..\\\\..\\\\data\\\\lambda\\\\u6e-1737059591216.png', 'c:\\\\Users\\\\Leon\\\\visual-studio\\\\repos\\\\Le-o-n\\\\ocr-model-training\\\\src\\\\cnn_lora\\\\..\\\\..\\\\data\\\\lambda\\\\u6e-1737059150739.png', 'c:\\\\Users\\\\Leon\\\\visual-studio\\\\repos\\\\Le-o-n\\\\ocr-model-training\\\\src\\\\cnn_lora\\\\..\\\\..\\\\data\\\\lambda\\\\u6f-1737059951790.png', 'c:\\\\Users\\\\Leon\\\\visual-studio\\\\repos\\\\Le-o-n\\\\ocr-model-training\\\\src\\\\cnn_lora\\\\..\\\\..\\\\data\\\\lambda\\\\u6f-1737059717006.png', 'c:\\\\Users\\\\Leon\\\\visual-studio\\\\repos\\\\Le-o-n\\\\ocr-model-training\\\\src\\\\cnn_lora\\\\..\\\\..\\\\data\\\\lambda\\\\u70-1737141874325.png', 'c:\\\\Users\\\\Leon\\\\visual-studio\\\\repos\\\\Le-o-n\\\\ocr-model-training\\\\src\\\\cnn_lora\\\\..\\\\..\\\\data\\\\lambda\\\\u70-1737059809617.png', 'c:\\\\Users\\\\Leon\\\\visual-studio\\\\repos\\\\Le-o-n\\\\ocr-model-training\\\\src\\\\cnn_lora\\\\..\\\\..\\\\data\\\\lambda\\\\u71-1737059884057.png', 'c:\\\\Users\\\\Leon\\\\visual-studio\\\\repos\\\\Le-o-n\\\\ocr-model-training\\\\src\\\\cnn_lora\\\\..\\\\..\\\\data\\\\lambda\\\\u71-1737714627732.png', 'c:\\\\Users\\\\Leon\\\\visual-studio\\\\repos\\\\Le-o-n\\\\ocr-model-training\\\\src\\\\cnn_lora\\\\..\\\\..\\\\data\\\\lambda\\\\u72-1737141820565.png', 'c:\\\\Users\\\\Leon\\\\visual-studio\\\\repos\\\\Le-o-n\\\\ocr-model-training\\\\src\\\\cnn_lora\\\\..\\\\..\\\\data\\\\lambda\\\\u72-1737059812659.png', 'c:\\\\Users\\\\Leon\\\\visual-studio\\\\repos\\\\Le-o-n\\\\ocr-model-training\\\\src\\\\cnn_lora\\\\..\\\\..\\\\data\\\\lambda\\\\u73-1737059237181.png', 'c:\\\\Users\\\\Leon\\\\visual-studio\\\\repos\\\\Le-o-n\\\\ocr-model-training\\\\src\\\\cnn_lora\\\\..\\\\..\\\\data\\\\lambda\\\\u73-1737059514047.png', 'c:\\\\Users\\\\Leon\\\\visual-studio\\\\repos\\\\Le-o-n\\\\ocr-model-training\\\\src\\\\cnn_lora\\\\..\\\\..\\\\data\\\\lambda\\\\u74-1737713961269.png', 'c:\\\\Users\\\\Leon\\\\visual-studio\\\\repos\\\\Le-o-n\\\\ocr-model-training\\\\src\\\\cnn_lora\\\\..\\\\..\\\\data\\\\lambda\\\\u74-1737059730369.png', 'c:\\\\Users\\\\Leon\\\\visual-studio\\\\repos\\\\Le-o-n\\\\ocr-model-training\\\\src\\\\cnn_lora\\\\..\\\\..\\\\data\\\\lambda\\\\u75-1737059817352.png', 'c:\\\\Users\\\\Leon\\\\visual-studio\\\\repos\\\\Le-o-n\\\\ocr-model-training\\\\src\\\\cnn_lora\\\\..\\\\..\\\\data\\\\lambda\\\\u75-1737141824393.png', 'c:\\\\Users\\\\Leon\\\\visual-studio\\\\repos\\\\Le-o-n\\\\ocr-model-training\\\\src\\\\cnn_lora\\\\..\\\\..\\\\data\\\\lambda\\\\u76-1737141774232.png', 'c:\\\\Users\\\\Leon\\\\visual-studio\\\\repos\\\\Le-o-n\\\\ocr-model-training\\\\src\\\\cnn_lora\\\\..\\\\..\\\\data\\\\lambda\\\\u76-1737715357236.png', 'c:\\\\Users\\\\Leon\\\\visual-studio\\\\repos\\\\Le-o-n\\\\ocr-model-training\\\\src\\\\cnn_lora\\\\..\\\\..\\\\data\\\\lambda\\\\u77-1737059895320.png', 'c:\\\\Users\\\\Leon\\\\visual-studio\\\\repos\\\\Le-o-n\\\\ocr-model-training\\\\src\\\\cnn_lora\\\\..\\\\..\\\\data\\\\lambda\\\\u77-1737059603205.png', 'c:\\\\Users\\\\Leon\\\\visual-studio\\\\repos\\\\Le-o-n\\\\ocr-model-training\\\\src\\\\cnn_lora\\\\..\\\\..\\\\data\\\\lambda\\\\u78-1737059826071.png', 'c:\\\\Users\\\\Leon\\\\visual-studio\\\\repos\\\\Le-o-n\\\\ocr-model-training\\\\src\\\\cnn_lora\\\\..\\\\..\\\\data\\\\lambda\\\\u78-1737059670107.png', 'c:\\\\Users\\\\Leon\\\\visual-studio\\\\repos\\\\Le-o-n\\\\ocr-model-training\\\\src\\\\cnn_lora\\\\..\\\\..\\\\data\\\\lambda\\\\u79-1737058933809.png', 'c:\\\\Users\\\\Leon\\\\visual-studio\\\\repos\\\\Le-o-n\\\\ocr-model-training\\\\src\\\\cnn_lora\\\\..\\\\..\\\\data\\\\lambda\\\\u79-1737059175157.png', 'c:\\\\Users\\\\Leon\\\\visual-studio\\\\repos\\\\Le-o-n\\\\ocr-model-training\\\\src\\\\cnn_lora\\\\..\\\\..\\\\data\\\\lambda\\\\u7a-1737714363413.png', 'c:\\\\Users\\\\Leon\\\\visual-studio\\\\repos\\\\Le-o-n\\\\ocr-model-training\\\\src\\\\cnn_lora\\\\..\\\\..\\\\data\\\\lambda\\\\u7a-1737714173273.png', 'c:\\\\Users\\\\Leon\\\\visual-studio\\\\repos\\\\Le-o-n\\\\ocr-model-training\\\\src\\\\cnn_lora\\\\..\\\\..\\\\data\\\\lambda\\\\u7b--1647335198334822135.png', 'c:\\\\Users\\\\Leon\\\\visual-studio\\\\repos\\\\Le-o-n\\\\ocr-model-training\\\\src\\\\cnn_lora\\\\..\\\\..\\\\data\\\\lambda\\\\u7b--2565571958304771731.png', 'c:\\\\Users\\\\Leon\\\\visual-studio\\\\repos\\\\Le-o-n\\\\ocr-model-training\\\\src\\\\cnn_lora\\\\..\\\\..\\\\data\\\\lambda\\\\u7d-3034902598356961593.png', 'c:\\\\Users\\\\Leon\\\\visual-studio\\\\repos\\\\Le-o-n\\\\ocr-model-training\\\\src\\\\cnn_lora\\\\..\\\\..\\\\data\\\\lambda\\\\u7d--6433475531731889090.png', 'c:\\\\Users\\\\Leon\\\\visual-studio\\\\repos\\\\Le-o-n\\\\ocr-model-training\\\\src\\\\cnn_lora\\\\..\\\\..\\\\data\\\\lambda\\\\ud7-1737059989988.png', 'c:\\\\Users\\\\Leon\\\\visual-studio\\\\repos\\\\Le-o-n\\\\ocr-model-training\\\\src\\\\cnn_lora\\\\..\\\\..\\\\data\\\\lambda\\\\ud7-1737059284764.png', 'c:\\\\Users\\\\Leon\\\\visual-studio\\\\repos\\\\Le-o-n\\\\ocr-model-training\\\\src\\\\cnn_lora\\\\..\\\\..\\\\data\\\\lambda\\\\uf7-1739014195333.png', 'c:\\\\Users\\\\Leon\\\\visual-studio\\\\repos\\\\Le-o-n\\\\ocr-model-training\\\\src\\\\cnn_lora\\\\..\\\\..\\\\data\\\\lambda\\\\uf7-1739014205817.png', 'c:\\\\Users\\\\Leon\\\\visual-studio\\\\repos\\\\Le-o-n\\\\ocr-model-training\\\\src\\\\cnn_lora\\\\..\\\\..\\\\data\\\\lambda\\\\u3bb-1736980103501.png', 'c:\\\\Users\\\\Leon\\\\visual-studio\\\\repos\\\\Le-o-n\\\\ocr-model-training\\\\src\\\\cnn_lora\\\\..\\\\..\\\\data\\\\lambda\\\\u3bb-1736980154847.png'] ['(', '(', ')', ')', '+', '+', '-', '-', '.', '.', '0', '0', '1', '1', '2', '2', '3', '3', '4', '4', '5', '5', '6', '6', '7', '7', '8', '8', '9', '9', ':', ':', '<', '<', '=', '=', '>', '>', '[', '[', ']', ']', 'a', 'a', 'b', 'b', 'c', 'c', 'd', 'd', 'e', 'e', 'f', 'f', 'g', 'g', 'h', 'h', 'i', 'i', 'j', 'j', 'k', 'k', 'l', 'l', 'm', 'm', 'n', 'n', 'o', 'o', 'p', 'p', 'q', 'q', 'r', 'r', 's', 's', 't', 't', 'u', 'u', 'v', 'v', 'w', 'w', 'x', 'x', 'y', 'y', 'z', 'z', '{', '{', '}', '}', '×', '×', '÷', '÷', 'λ', 'λ']\n",
      "Test  (156): ['c:\\\\Users\\\\Leon\\\\visual-studio\\\\repos\\\\Le-o-n\\\\ocr-model-training\\\\src\\\\cnn_lora\\\\..\\\\..\\\\data\\\\lambda\\\\u28-1736980169658.png', 'c:\\\\Users\\\\Leon\\\\visual-studio\\\\repos\\\\Le-o-n\\\\ocr-model-training\\\\src\\\\cnn_lora\\\\..\\\\..\\\\data\\\\lambda\\\\u28-1736980100801.png', 'c:\\\\Users\\\\Leon\\\\visual-studio\\\\repos\\\\Le-o-n\\\\ocr-model-training\\\\src\\\\cnn_lora\\\\..\\\\..\\\\data\\\\lambda\\\\u28-1736987297616.png', 'c:\\\\Users\\\\Leon\\\\visual-studio\\\\repos\\\\Le-o-n\\\\ocr-model-training\\\\src\\\\cnn_lora\\\\..\\\\..\\\\data\\\\lambda\\\\u29-1736980187546.png', 'c:\\\\Users\\\\Leon\\\\visual-studio\\\\repos\\\\Le-o-n\\\\ocr-model-training\\\\src\\\\cnn_lora\\\\..\\\\..\\\\data\\\\lambda\\\\u29-1736987282733.png', 'c:\\\\Users\\\\Leon\\\\visual-studio\\\\repos\\\\Le-o-n\\\\ocr-model-training\\\\src\\\\cnn_lora\\\\..\\\\..\\\\data\\\\lambda\\\\u29-1736987555282.png', 'c:\\\\Users\\\\Leon\\\\visual-studio\\\\repos\\\\Le-o-n\\\\ocr-model-training\\\\src\\\\cnn_lora\\\\..\\\\..\\\\data\\\\lambda\\\\u2b-1736987187575.png', 'c:\\\\Users\\\\Leon\\\\visual-studio\\\\repos\\\\Le-o-n\\\\ocr-model-training\\\\src\\\\cnn_lora\\\\..\\\\..\\\\data\\\\lambda\\\\u2b-1736980022526.png', 'c:\\\\Users\\\\Leon\\\\visual-studio\\\\repos\\\\Le-o-n\\\\ocr-model-training\\\\src\\\\cnn_lora\\\\..\\\\..\\\\data\\\\lambda\\\\u2b-1736987287647.png', 'c:\\\\Users\\\\Leon\\\\visual-studio\\\\repos\\\\Le-o-n\\\\ocr-model-training\\\\src\\\\cnn_lora\\\\..\\\\..\\\\data\\\\lambda\\\\u2d-1737059281583.png', 'c:\\\\Users\\\\Leon\\\\visual-studio\\\\repos\\\\Le-o-n\\\\ocr-model-training\\\\src\\\\cnn_lora\\\\..\\\\..\\\\data\\\\lambda\\\\u2d-1737714509334.png', 'c:\\\\Users\\\\Leon\\\\visual-studio\\\\repos\\\\Le-o-n\\\\ocr-model-training\\\\src\\\\cnn_lora\\\\..\\\\..\\\\data\\\\lambda\\\\u2d-1737059986122.png', 'c:\\\\Users\\\\Leon\\\\visual-studio\\\\repos\\\\Le-o-n\\\\ocr-model-training\\\\src\\\\cnn_lora\\\\..\\\\..\\\\data\\\\lambda\\\\u2e-1736987565012.png', 'c:\\\\Users\\\\Leon\\\\visual-studio\\\\repos\\\\Le-o-n\\\\ocr-model-training\\\\src\\\\cnn_lora\\\\..\\\\..\\\\data\\\\lambda\\\\u2e-1736987151502.png', 'c:\\\\Users\\\\Leon\\\\visual-studio\\\\repos\\\\Le-o-n\\\\ocr-model-training\\\\src\\\\cnn_lora\\\\..\\\\..\\\\data\\\\lambda\\\\u2e-1736980086205.png', 'c:\\\\Users\\\\Leon\\\\visual-studio\\\\repos\\\\Le-o-n\\\\ocr-model-training\\\\src\\\\cnn_lora\\\\..\\\\..\\\\data\\\\lambda\\\\u30-1737141727490.png', 'c:\\\\Users\\\\Leon\\\\visual-studio\\\\repos\\\\Le-o-n\\\\ocr-model-training\\\\src\\\\cnn_lora\\\\..\\\\..\\\\data\\\\lambda\\\\u30-1737059833550.png', 'c:\\\\Users\\\\Leon\\\\visual-studio\\\\repos\\\\Le-o-n\\\\ocr-model-training\\\\src\\\\cnn_lora\\\\..\\\\..\\\\data\\\\lambda\\\\u30-1737059178379.png', 'c:\\\\Users\\\\Leon\\\\visual-studio\\\\repos\\\\Le-o-n\\\\ocr-model-training\\\\src\\\\cnn_lora\\\\..\\\\..\\\\data\\\\lambda\\\\u31-1737715369546.png', 'c:\\\\Users\\\\Leon\\\\visual-studio\\\\repos\\\\Le-o-n\\\\ocr-model-training\\\\src\\\\cnn_lora\\\\..\\\\..\\\\data\\\\lambda\\\\u31-1736987272514.png', 'c:\\\\Users\\\\Leon\\\\visual-studio\\\\repos\\\\Le-o-n\\\\ocr-model-training\\\\src\\\\cnn_lora\\\\..\\\\..\\\\data\\\\lambda\\\\u31-1736987567945.png', 'c:\\\\Users\\\\Leon\\\\visual-studio\\\\repos\\\\Le-o-n\\\\ocr-model-training\\\\src\\\\cnn_lora\\\\..\\\\..\\\\data\\\\lambda\\\\u32-1737713986637.png', 'c:\\\\Users\\\\Leon\\\\visual-studio\\\\repos\\\\Le-o-n\\\\ocr-model-training\\\\src\\\\cnn_lora\\\\..\\\\..\\\\data\\\\lambda\\\\u32-1737059755536.png', 'c:\\\\Users\\\\Leon\\\\visual-studio\\\\repos\\\\Le-o-n\\\\ocr-model-training\\\\src\\\\cnn_lora\\\\..\\\\..\\\\data\\\\lambda\\\\u32-1737141785143.png', 'c:\\\\Users\\\\Leon\\\\visual-studio\\\\repos\\\\Le-o-n\\\\ocr-model-training\\\\src\\\\cnn_lora\\\\..\\\\..\\\\data\\\\lambda\\\\u33-1737058992120.png', 'c:\\\\Users\\\\Leon\\\\visual-studio\\\\repos\\\\Le-o-n\\\\ocr-model-training\\\\src\\\\cnn_lora\\\\..\\\\..\\\\data\\\\lambda\\\\u33-1737715372512.png', 'c:\\\\Users\\\\Leon\\\\visual-studio\\\\repos\\\\Le-o-n\\\\ocr-model-training\\\\src\\\\cnn_lora\\\\..\\\\..\\\\data\\\\lambda\\\\u33-1737059906292.png', 'c:\\\\Users\\\\Leon\\\\visual-studio\\\\repos\\\\Le-o-n\\\\ocr-model-training\\\\src\\\\cnn_lora\\\\..\\\\..\\\\data\\\\lambda\\\\u34-1737714657375.png', 'c:\\\\Users\\\\Leon\\\\visual-studio\\\\repos\\\\Le-o-n\\\\ocr-model-training\\\\src\\\\cnn_lora\\\\..\\\\..\\\\data\\\\lambda\\\\u34-1737059102563.png', 'c:\\\\Users\\\\Leon\\\\visual-studio\\\\repos\\\\Le-o-n\\\\ocr-model-training\\\\src\\\\cnn_lora\\\\..\\\\..\\\\data\\\\lambda\\\\u34-1737060037923.png', 'c:\\\\Users\\\\Leon\\\\visual-studio\\\\repos\\\\Le-o-n\\\\ocr-model-training\\\\src\\\\cnn_lora\\\\..\\\\..\\\\data\\\\lambda\\\\u35-1737059547386.png', 'c:\\\\Users\\\\Leon\\\\visual-studio\\\\repos\\\\Le-o-n\\\\ocr-model-training\\\\src\\\\cnn_lora\\\\..\\\\..\\\\data\\\\lambda\\\\u35-1737714190130.png', 'c:\\\\Users\\\\Leon\\\\visual-studio\\\\repos\\\\Le-o-n\\\\ocr-model-training\\\\src\\\\cnn_lora\\\\..\\\\..\\\\data\\\\lambda\\\\u35-1737059681581.png', 'c:\\\\Users\\\\Leon\\\\visual-studio\\\\repos\\\\Le-o-n\\\\ocr-model-training\\\\src\\\\cnn_lora\\\\..\\\\..\\\\data\\\\lambda\\\\u36-1737059840788.png', 'c:\\\\Users\\\\Leon\\\\visual-studio\\\\repos\\\\Le-o-n\\\\ocr-model-training\\\\src\\\\cnn_lora\\\\..\\\\..\\\\data\\\\lambda\\\\u36-1737714191781.png', 'c:\\\\Users\\\\Leon\\\\visual-studio\\\\repos\\\\Le-o-n\\\\ocr-model-training\\\\src\\\\cnn_lora\\\\..\\\\..\\\\data\\\\lambda\\\\u36-1737141734963.png', 'c:\\\\Users\\\\Leon\\\\visual-studio\\\\repos\\\\Le-o-n\\\\ocr-model-training\\\\src\\\\cnn_lora\\\\..\\\\..\\\\data\\\\lambda\\\\u37-1737141736422.png', 'c:\\\\Users\\\\Leon\\\\visual-studio\\\\repos\\\\Le-o-n\\\\ocr-model-training\\\\src\\\\cnn_lora\\\\..\\\\..\\\\data\\\\lambda\\\\u37-1737714661999.png', 'c:\\\\Users\\\\Leon\\\\visual-studio\\\\repos\\\\Le-o-n\\\\ocr-model-training\\\\src\\\\cnn_lora\\\\..\\\\..\\\\data\\\\lambda\\\\u37-1737060042026.png', 'c:\\\\Users\\\\Leon\\\\visual-studio\\\\repos\\\\Le-o-n\\\\ocr-model-training\\\\src\\\\cnn_lora\\\\..\\\\..\\\\data\\\\lambda\\\\u38-1737714496384.png', 'c:\\\\Users\\\\Leon\\\\visual-studio\\\\repos\\\\Le-o-n\\\\ocr-model-training\\\\src\\\\cnn_lora\\\\..\\\\..\\\\data\\\\lambda\\\\u38-1737141849548.png', 'c:\\\\Users\\\\Leon\\\\visual-studio\\\\repos\\\\Le-o-n\\\\ocr-model-training\\\\src\\\\cnn_lora\\\\..\\\\..\\\\data\\\\lambda\\\\u38-1737060043885.png', 'c:\\\\Users\\\\Leon\\\\visual-studio\\\\repos\\\\Le-o-n\\\\ocr-model-training\\\\src\\\\cnn_lora\\\\..\\\\..\\\\data\\\\lambda\\\\u39-1737141739807.png', 'c:\\\\Users\\\\Leon\\\\visual-studio\\\\repos\\\\Le-o-n\\\\ocr-model-training\\\\src\\\\cnn_lora\\\\..\\\\..\\\\data\\\\lambda\\\\u39-1737059280424.png', 'c:\\\\Users\\\\Leon\\\\visual-studio\\\\repos\\\\Le-o-n\\\\ocr-model-training\\\\src\\\\cnn_lora\\\\..\\\\..\\\\data\\\\lambda\\\\u39-1737059764430.png', 'c:\\\\Users\\\\Leon\\\\visual-studio\\\\repos\\\\Le-o-n\\\\ocr-model-training\\\\src\\\\cnn_lora\\\\..\\\\..\\\\data\\\\lambda\\\\u3a-479721906289461481.png', 'c:\\\\Users\\\\Leon\\\\visual-studio\\\\repos\\\\Le-o-n\\\\ocr-model-training\\\\src\\\\cnn_lora\\\\..\\\\..\\\\data\\\\lambda\\\\u3a--8933870411597567552.png', 'c:\\\\Users\\\\Leon\\\\visual-studio\\\\repos\\\\Le-o-n\\\\ocr-model-training\\\\src\\\\cnn_lora\\\\..\\\\..\\\\data\\\\lambda\\\\u3a-3746317043571293123.png', 'c:\\\\Users\\\\Leon\\\\visual-studio\\\\repos\\\\Le-o-n\\\\ocr-model-training\\\\src\\\\cnn_lora\\\\..\\\\..\\\\data\\\\lambda\\\\u3c-674566080241200161.png', 'c:\\\\Users\\\\Leon\\\\visual-studio\\\\repos\\\\Le-o-n\\\\ocr-model-training\\\\src\\\\cnn_lora\\\\..\\\\..\\\\data\\\\lambda\\\\u3c-1860908090134462525.png', 'c:\\\\Users\\\\Leon\\\\visual-studio\\\\repos\\\\Le-o-n\\\\ocr-model-training\\\\src\\\\cnn_lora\\\\..\\\\..\\\\data\\\\lambda\\\\u3c--8914896405938070937.png', 'c:\\\\Users\\\\Leon\\\\visual-studio\\\\repos\\\\Le-o-n\\\\ocr-model-training\\\\src\\\\cnn_lora\\\\..\\\\..\\\\data\\\\lambda\\\\u3d-523833649032682251.png', 'c:\\\\Users\\\\Leon\\\\visual-studio\\\\repos\\\\Le-o-n\\\\ocr-model-training\\\\src\\\\cnn_lora\\\\..\\\\..\\\\data\\\\lambda\\\\u3d-7094601211262745550.png', 'c:\\\\Users\\\\Leon\\\\visual-studio\\\\repos\\\\Le-o-n\\\\ocr-model-training\\\\src\\\\cnn_lora\\\\..\\\\..\\\\data\\\\lambda\\\\u3d--2661692885011708698.png', 'c:\\\\Users\\\\Leon\\\\visual-studio\\\\repos\\\\Le-o-n\\\\ocr-model-training\\\\src\\\\cnn_lora\\\\..\\\\..\\\\data\\\\lambda\\\\u3e--1788529466963712113.png', 'c:\\\\Users\\\\Leon\\\\visual-studio\\\\repos\\\\Le-o-n\\\\ocr-model-training\\\\src\\\\cnn_lora\\\\..\\\\..\\\\data\\\\lambda\\\\u3e-4035620550854126676.png', 'c:\\\\Users\\\\Leon\\\\visual-studio\\\\repos\\\\Le-o-n\\\\ocr-model-training\\\\src\\\\cnn_lora\\\\..\\\\..\\\\data\\\\lambda\\\\u3e--4132589908342497432.png', 'c:\\\\Users\\\\Leon\\\\visual-studio\\\\repos\\\\Le-o-n\\\\ocr-model-training\\\\src\\\\cnn_lora\\\\..\\\\..\\\\data\\\\lambda\\\\u5b-3320172084837673294.png', 'c:\\\\Users\\\\Leon\\\\visual-studio\\\\repos\\\\Le-o-n\\\\ocr-model-training\\\\src\\\\cnn_lora\\\\..\\\\..\\\\data\\\\lambda\\\\u5b-1456971141662262625.png', 'c:\\\\Users\\\\Leon\\\\visual-studio\\\\repos\\\\Le-o-n\\\\ocr-model-training\\\\src\\\\cnn_lora\\\\..\\\\..\\\\data\\\\lambda\\\\u5b-8566900557909785370.png', 'c:\\\\Users\\\\Leon\\\\visual-studio\\\\repos\\\\Le-o-n\\\\ocr-model-training\\\\src\\\\cnn_lora\\\\..\\\\..\\\\data\\\\lambda\\\\u5d-6467619962238272196.png', 'c:\\\\Users\\\\Leon\\\\visual-studio\\\\repos\\\\Le-o-n\\\\ocr-model-training\\\\src\\\\cnn_lora\\\\..\\\\..\\\\data\\\\lambda\\\\u5d--4481409929604096822.png', 'c:\\\\Users\\\\Leon\\\\visual-studio\\\\repos\\\\Le-o-n\\\\ocr-model-training\\\\src\\\\cnn_lora\\\\..\\\\..\\\\data\\\\lambda\\\\u5d--6276069345751175712.png', 'c:\\\\Users\\\\Leon\\\\visual-studio\\\\repos\\\\Le-o-n\\\\ocr-model-training\\\\src\\\\cnn_lora\\\\..\\\\..\\\\data\\\\lambda\\\\u61-1736987278031.png', 'c:\\\\Users\\\\Leon\\\\visual-studio\\\\repos\\\\Le-o-n\\\\ocr-model-training\\\\src\\\\cnn_lora\\\\..\\\\..\\\\data\\\\lambda\\\\u61-1736980173978.png', 'c:\\\\Users\\\\Leon\\\\visual-studio\\\\repos\\\\Le-o-n\\\\ocr-model-training\\\\src\\\\cnn_lora\\\\..\\\\..\\\\data\\\\lambda\\\\u61-1736980087606.png', 'c:\\\\Users\\\\Leon\\\\visual-studio\\\\repos\\\\Le-o-n\\\\ocr-model-training\\\\src\\\\cnn_lora\\\\..\\\\..\\\\data\\\\lambda\\\\u62-1737059048464.png', 'c:\\\\Users\\\\Leon\\\\visual-studio\\\\repos\\\\Le-o-n\\\\ocr-model-training\\\\src\\\\cnn_lora\\\\..\\\\..\\\\data\\\\lambda\\\\u62-1737059116328.png', 'c:\\\\Users\\\\Leon\\\\visual-studio\\\\repos\\\\Le-o-n\\\\ocr-model-training\\\\src\\\\cnn_lora\\\\..\\\\..\\\\data\\\\lambda\\\\u62-1737714209482.png', 'c:\\\\Users\\\\Leon\\\\visual-studio\\\\repos\\\\Le-o-n\\\\ocr-model-training\\\\src\\\\cnn_lora\\\\..\\\\..\\\\data\\\\lambda\\\\u63-1737059287530.png', 'c:\\\\Users\\\\Leon\\\\visual-studio\\\\repos\\\\Le-o-n\\\\ocr-model-training\\\\src\\\\cnn_lora\\\\..\\\\..\\\\data\\\\lambda\\\\u63-1737714529219.png', 'c:\\\\Users\\\\Leon\\\\visual-studio\\\\repos\\\\Le-o-n\\\\ocr-model-training\\\\src\\\\cnn_lora\\\\..\\\\..\\\\data\\\\lambda\\\\u63-1737059559568.png', 'c:\\\\Users\\\\Leon\\\\visual-studio\\\\repos\\\\Le-o-n\\\\ocr-model-training\\\\src\\\\cnn_lora\\\\..\\\\..\\\\data\\\\lambda\\\\u64-1737059642670.png', 'c:\\\\Users\\\\Leon\\\\visual-studio\\\\repos\\\\Le-o-n\\\\ocr-model-training\\\\src\\\\cnn_lora\\\\..\\\\..\\\\data\\\\lambda\\\\u64-1737714087554.png', 'c:\\\\Users\\\\Leon\\\\visual-studio\\\\repos\\\\Le-o-n\\\\ocr-model-training\\\\src\\\\cnn_lora\\\\..\\\\..\\\\data\\\\lambda\\\\u64-1737059118723.png', 'c:\\\\Users\\\\Leon\\\\visual-studio\\\\repos\\\\Le-o-n\\\\ocr-model-training\\\\src\\\\cnn_lora\\\\..\\\\..\\\\data\\\\lambda\\\\u65-1737058902890.png', 'c:\\\\Users\\\\Leon\\\\visual-studio\\\\repos\\\\Le-o-n\\\\ocr-model-training\\\\src\\\\cnn_lora\\\\..\\\\..\\\\data\\\\lambda\\\\u65-1737141745149.png', 'c:\\\\Users\\\\Leon\\\\visual-studio\\\\repos\\\\Le-o-n\\\\ocr-model-training\\\\src\\\\cnn_lora\\\\..\\\\..\\\\data\\\\lambda\\\\u65-1737714093538.png', 'c:\\\\Users\\\\Leon\\\\visual-studio\\\\repos\\\\Le-o-n\\\\ocr-model-training\\\\src\\\\cnn_lora\\\\..\\\\..\\\\data\\\\lambda\\\\u66-1737141746836.png', 'c:\\\\Users\\\\Leon\\\\visual-studio\\\\repos\\\\Le-o-n\\\\ocr-model-training\\\\src\\\\cnn_lora\\\\..\\\\..\\\\data\\\\lambda\\\\u66-1737141801728.png', 'c:\\\\Users\\\\Leon\\\\visual-studio\\\\repos\\\\Le-o-n\\\\ocr-model-training\\\\src\\\\cnn_lora\\\\..\\\\..\\\\data\\\\lambda\\\\u66-1737141858914.png', 'c:\\\\Users\\\\Leon\\\\visual-studio\\\\repos\\\\Le-o-n\\\\ocr-model-training\\\\src\\\\cnn_lora\\\\..\\\\..\\\\data\\\\lambda\\\\u67-1737713940475.png', 'c:\\\\Users\\\\Leon\\\\visual-studio\\\\repos\\\\Le-o-n\\\\ocr-model-training\\\\src\\\\cnn_lora\\\\..\\\\..\\\\data\\\\lambda\\\\u67-1737059302014.png', 'c:\\\\Users\\\\Leon\\\\visual-studio\\\\repos\\\\Le-o-n\\\\ocr-model-training\\\\src\\\\cnn_lora\\\\..\\\\..\\\\data\\\\lambda\\\\u67-1737059937730.png', 'c:\\\\Users\\\\Leon\\\\visual-studio\\\\repos\\\\Le-o-n\\\\ocr-model-training\\\\src\\\\cnn_lora\\\\..\\\\..\\\\data\\\\lambda\\\\u68-1737059132289.png', 'c:\\\\Users\\\\Leon\\\\visual-studio\\\\repos\\\\Le-o-n\\\\ocr-model-training\\\\src\\\\cnn_lora\\\\..\\\\..\\\\data\\\\lambda\\\\u68-1737059581380.png', 'c:\\\\Users\\\\Leon\\\\visual-studio\\\\repos\\\\Le-o-n\\\\ocr-model-training\\\\src\\\\cnn_lora\\\\..\\\\..\\\\data\\\\lambda\\\\u68-1737059999783.png', 'c:\\\\Users\\\\Leon\\\\visual-studio\\\\repos\\\\Le-o-n\\\\ocr-model-training\\\\src\\\\cnn_lora\\\\..\\\\..\\\\data\\\\lambda\\\\u69-1737059305449.png', 'c:\\\\Users\\\\Leon\\\\visual-studio\\\\repos\\\\Le-o-n\\\\ocr-model-training\\\\src\\\\cnn_lora\\\\..\\\\..\\\\data\\\\lambda\\\\u69-1737141807231.png', 'c:\\\\Users\\\\Leon\\\\visual-studio\\\\repos\\\\Le-o-n\\\\ocr-model-training\\\\src\\\\cnn_lora\\\\..\\\\..\\\\data\\\\lambda\\\\u69-1737059135061.png', 'c:\\\\Users\\\\Leon\\\\visual-studio\\\\repos\\\\Le-o-n\\\\ocr-model-training\\\\src\\\\cnn_lora\\\\..\\\\..\\\\data\\\\lambda\\\\u6a-1737714229763.png', 'c:\\\\Users\\\\Leon\\\\visual-studio\\\\repos\\\\Le-o-n\\\\ocr-model-training\\\\src\\\\cnn_lora\\\\..\\\\..\\\\data\\\\lambda\\\\u6a-1737059650101.png', 'c:\\\\Users\\\\Leon\\\\visual-studio\\\\repos\\\\Le-o-n\\\\ocr-model-training\\\\src\\\\cnn_lora\\\\..\\\\..\\\\data\\\\lambda\\\\u6a-1737713945403.png', 'c:\\\\Users\\\\Leon\\\\visual-studio\\\\repos\\\\Le-o-n\\\\ocr-model-training\\\\src\\\\cnn_lora\\\\..\\\\..\\\\data\\\\lambda\\\\u6b-1737060008564.png', 'c:\\\\Users\\\\Leon\\\\visual-studio\\\\repos\\\\Le-o-n\\\\ocr-model-training\\\\src\\\\cnn_lora\\\\..\\\\..\\\\data\\\\lambda\\\\u6b-1737059651487.png', 'c:\\\\Users\\\\Leon\\\\visual-studio\\\\repos\\\\Le-o-n\\\\ocr-model-training\\\\src\\\\cnn_lora\\\\..\\\\..\\\\data\\\\lambda\\\\u6b-1737714232486.png', 'c:\\\\Users\\\\Leon\\\\visual-studio\\\\repos\\\\Le-o-n\\\\ocr-model-training\\\\src\\\\cnn_lora\\\\..\\\\..\\\\data\\\\lambda\\\\u6c-1737060009824.png', 'c:\\\\Users\\\\Leon\\\\visual-studio\\\\repos\\\\Le-o-n\\\\ocr-model-training\\\\src\\\\cnn_lora\\\\..\\\\..\\\\data\\\\lambda\\\\u6c-1737141869130.png', 'c:\\\\Users\\\\Leon\\\\visual-studio\\\\repos\\\\Le-o-n\\\\ocr-model-training\\\\src\\\\cnn_lora\\\\..\\\\..\\\\data\\\\lambda\\\\u6c-1737059800544.png', 'c:\\\\Users\\\\Leon\\\\visual-studio\\\\repos\\\\Le-o-n\\\\ocr-model-training\\\\src\\\\cnn_lora\\\\..\\\\..\\\\data\\\\lambda\\\\u6d-1737059877700.png', 'c:\\\\Users\\\\Leon\\\\visual-studio\\\\repos\\\\Le-o-n\\\\ocr-model-training\\\\src\\\\cnn_lora\\\\..\\\\..\\\\data\\\\lambda\\\\u6d-1737058915020.png', 'c:\\\\Users\\\\Leon\\\\visual-studio\\\\repos\\\\Le-o-n\\\\ocr-model-training\\\\src\\\\cnn_lora\\\\..\\\\..\\\\data\\\\lambda\\\\u6d-1737713950417.png', 'c:\\\\Users\\\\Leon\\\\visual-studio\\\\repos\\\\Le-o-n\\\\ocr-model-training\\\\src\\\\cnn_lora\\\\..\\\\..\\\\data\\\\lambda\\\\u6e-1737059654917.png', 'c:\\\\Users\\\\Leon\\\\visual-studio\\\\repos\\\\Le-o-n\\\\ocr-model-training\\\\src\\\\cnn_lora\\\\..\\\\..\\\\data\\\\lambda\\\\u6e-1737141763617.png', 'c:\\\\Users\\\\Leon\\\\visual-studio\\\\repos\\\\Le-o-n\\\\ocr-model-training\\\\src\\\\cnn_lora\\\\..\\\\..\\\\data\\\\lambda\\\\u6e-1737715345299.png', 'c:\\\\Users\\\\Leon\\\\visual-studio\\\\repos\\\\Le-o-n\\\\ocr-model-training\\\\src\\\\cnn_lora\\\\..\\\\..\\\\data\\\\lambda\\\\u6f-1737713953038.png', 'c:\\\\Users\\\\Leon\\\\visual-studio\\\\repos\\\\Le-o-n\\\\ocr-model-training\\\\src\\\\cnn_lora\\\\..\\\\..\\\\data\\\\lambda\\\\u6f-1737059231187.png', 'c:\\\\Users\\\\Leon\\\\visual-studio\\\\repos\\\\Le-o-n\\\\ocr-model-training\\\\src\\\\cnn_lora\\\\..\\\\..\\\\data\\\\lambda\\\\u6f-1737060014313.png', 'c:\\\\Users\\\\Leon\\\\visual-studio\\\\repos\\\\Le-o-n\\\\ocr-model-training\\\\src\\\\cnn_lora\\\\..\\\\..\\\\data\\\\lambda\\\\u70-1737059719729.png', 'c:\\\\Users\\\\Leon\\\\visual-studio\\\\repos\\\\Le-o-n\\\\ocr-model-training\\\\src\\\\cnn_lora\\\\..\\\\..\\\\data\\\\lambda\\\\u70-1737141766292.png', 'c:\\\\Users\\\\Leon\\\\visual-studio\\\\repos\\\\Le-o-n\\\\ocr-model-training\\\\src\\\\cnn_lora\\\\..\\\\..\\\\data\\\\lambda\\\\u70-1737714134973.png', 'c:\\\\Users\\\\Leon\\\\visual-studio\\\\repos\\\\Le-o-n\\\\ocr-model-training\\\\src\\\\cnn_lora\\\\..\\\\..\\\\data\\\\lambda\\\\u71-1737059156496.png', 'c:\\\\Users\\\\Leon\\\\visual-studio\\\\repos\\\\Le-o-n\\\\ocr-model-training\\\\src\\\\cnn_lora\\\\..\\\\..\\\\data\\\\lambda\\\\u71-1737141767704.png', 'c:\\\\Users\\\\Leon\\\\visual-studio\\\\repos\\\\Le-o-n\\\\ocr-model-training\\\\src\\\\cnn_lora\\\\..\\\\..\\\\data\\\\lambda\\\\u71-1737060018671.png', 'c:\\\\Users\\\\Leon\\\\visual-studio\\\\repos\\\\Le-o-n\\\\ocr-model-training\\\\src\\\\cnn_lora\\\\..\\\\..\\\\data\\\\lambda\\\\u72-1737715351683.png', 'c:\\\\Users\\\\Leon\\\\visual-studio\\\\repos\\\\Le-o-n\\\\ocr-model-training\\\\src\\\\cnn_lora\\\\..\\\\..\\\\data\\\\lambda\\\\u72-1737141768932.png', 'c:\\\\Users\\\\Leon\\\\visual-studio\\\\repos\\\\Le-o-n\\\\ocr-model-training\\\\src\\\\cnn_lora\\\\..\\\\..\\\\data\\\\lambda\\\\u72-1737058920995.png', 'c:\\\\Users\\\\Leon\\\\visual-studio\\\\repos\\\\Le-o-n\\\\ocr-model-training\\\\src\\\\cnn_lora\\\\..\\\\..\\\\data\\\\lambda\\\\u73-1737714159646.png', 'c:\\\\Users\\\\Leon\\\\visual-studio\\\\repos\\\\Le-o-n\\\\ocr-model-training\\\\src\\\\cnn_lora\\\\..\\\\..\\\\data\\\\lambda\\\\u73-1737059074909.png', 'c:\\\\Users\\\\Leon\\\\visual-studio\\\\repos\\\\Le-o-n\\\\ocr-model-training\\\\src\\\\cnn_lora\\\\..\\\\..\\\\data\\\\lambda\\\\u73-1737714349897.png', 'c:\\\\Users\\\\Leon\\\\visual-studio\\\\repos\\\\Le-o-n\\\\ocr-model-training\\\\src\\\\cnn_lora\\\\..\\\\..\\\\data\\\\lambda\\\\u74-1737714351719.png', 'c:\\\\Users\\\\Leon\\\\visual-studio\\\\repos\\\\Le-o-n\\\\ocr-model-training\\\\src\\\\cnn_lora\\\\..\\\\..\\\\data\\\\lambda\\\\u74-1737059238628.png', 'c:\\\\Users\\\\Leon\\\\visual-studio\\\\repos\\\\Le-o-n\\\\ocr-model-training\\\\src\\\\cnn_lora\\\\..\\\\..\\\\data\\\\lambda\\\\u74-1737141771730.png', 'c:\\\\Users\\\\Leon\\\\visual-studio\\\\repos\\\\Le-o-n\\\\ocr-model-training\\\\src\\\\cnn_lora\\\\..\\\\..\\\\data\\\\lambda\\\\u75-1737060024309.png', 'c:\\\\Users\\\\Leon\\\\visual-studio\\\\repos\\\\Le-o-n\\\\ocr-model-training\\\\src\\\\cnn_lora\\\\..\\\\..\\\\data\\\\lambda\\\\u75-1737059662781.png', 'c:\\\\Users\\\\Leon\\\\visual-studio\\\\repos\\\\Le-o-n\\\\ocr-model-training\\\\src\\\\cnn_lora\\\\..\\\\..\\\\data\\\\lambda\\\\u75-1737141773024.png', 'c:\\\\Users\\\\Leon\\\\visual-studio\\\\repos\\\\Le-o-n\\\\ocr-model-training\\\\src\\\\cnn_lora\\\\..\\\\..\\\\data\\\\lambda\\\\u76-1737059893097.png', 'c:\\\\Users\\\\Leon\\\\visual-studio\\\\repos\\\\Le-o-n\\\\ocr-model-training\\\\src\\\\cnn_lora\\\\..\\\\..\\\\data\\\\lambda\\\\u76-1737060025393.png', 'c:\\\\Users\\\\Leon\\\\visual-studio\\\\repos\\\\Le-o-n\\\\ocr-model-training\\\\src\\\\cnn_lora\\\\..\\\\..\\\\data\\\\lambda\\\\u76-1737141881240.png', 'c:\\\\Users\\\\Leon\\\\visual-studio\\\\repos\\\\Le-o-n\\\\ocr-model-training\\\\src\\\\cnn_lora\\\\..\\\\..\\\\data\\\\lambda\\\\u77-1737141882590.png', 'c:\\\\Users\\\\Leon\\\\visual-studio\\\\repos\\\\Le-o-n\\\\ocr-model-training\\\\src\\\\cnn_lora\\\\..\\\\..\\\\data\\\\lambda\\\\u77-1737141826826.png', 'c:\\\\Users\\\\Leon\\\\visual-studio\\\\repos\\\\Le-o-n\\\\ocr-model-training\\\\src\\\\cnn_lora\\\\..\\\\..\\\\data\\\\lambda\\\\u77-1737141775600.png', 'c:\\\\Users\\\\Leon\\\\visual-studio\\\\repos\\\\Le-o-n\\\\ocr-model-training\\\\src\\\\cnn_lora\\\\..\\\\..\\\\data\\\\lambda\\\\u78-1737060081584.png', 'c:\\\\Users\\\\Leon\\\\visual-studio\\\\repos\\\\Le-o-n\\\\ocr-model-training\\\\src\\\\cnn_lora\\\\..\\\\..\\\\data\\\\lambda\\\\u78-1737059607423.png', 'c:\\\\Users\\\\Leon\\\\visual-studio\\\\repos\\\\Le-o-n\\\\ocr-model-training\\\\src\\\\cnn_lora\\\\..\\\\..\\\\data\\\\lambda\\\\u78-1737059086012.png', 'c:\\\\Users\\\\Leon\\\\visual-studio\\\\repos\\\\Le-o-n\\\\ocr-model-training\\\\src\\\\cnn_lora\\\\..\\\\..\\\\data\\\\lambda\\\\u79-1737059093654.png', 'c:\\\\Users\\\\Leon\\\\visual-studio\\\\repos\\\\Le-o-n\\\\ocr-model-training\\\\src\\\\cnn_lora\\\\..\\\\..\\\\data\\\\lambda\\\\u79-1737141780075.png', 'c:\\\\Users\\\\Leon\\\\visual-studio\\\\repos\\\\Le-o-n\\\\ocr-model-training\\\\src\\\\cnn_lora\\\\..\\\\..\\\\data\\\\lambda\\\\u79-1737060030752.png', 'c:\\\\Users\\\\Leon\\\\visual-studio\\\\repos\\\\Le-o-n\\\\ocr-model-training\\\\src\\\\cnn_lora\\\\..\\\\..\\\\data\\\\lambda\\\\u7a-1737141888596.png', 'c:\\\\Users\\\\Leon\\\\visual-studio\\\\repos\\\\Le-o-n\\\\ocr-model-training\\\\src\\\\cnn_lora\\\\..\\\\..\\\\data\\\\lambda\\\\u7a-1737059538533.png', 'c:\\\\Users\\\\Leon\\\\visual-studio\\\\repos\\\\Le-o-n\\\\ocr-model-training\\\\src\\\\cnn_lora\\\\..\\\\..\\\\data\\\\lambda\\\\u7a-1737141831386.png', 'c:\\\\Users\\\\Leon\\\\visual-studio\\\\repos\\\\Le-o-n\\\\ocr-model-training\\\\src\\\\cnn_lora\\\\..\\\\..\\\\data\\\\lambda\\\\u7b--7196605390089099126.png', 'c:\\\\Users\\\\Leon\\\\visual-studio\\\\repos\\\\Le-o-n\\\\ocr-model-training\\\\src\\\\cnn_lora\\\\..\\\\..\\\\data\\\\lambda\\\\u7b--5972438021698547746.png', 'c:\\\\Users\\\\Leon\\\\visual-studio\\\\repos\\\\Le-o-n\\\\ocr-model-training\\\\src\\\\cnn_lora\\\\..\\\\..\\\\data\\\\lambda\\\\u7b-8752257155322623734.png', 'c:\\\\Users\\\\Leon\\\\visual-studio\\\\repos\\\\Le-o-n\\\\ocr-model-training\\\\src\\\\cnn_lora\\\\..\\\\..\\\\data\\\\lambda\\\\u7d-7099369776437829586.png', 'c:\\\\Users\\\\Leon\\\\visual-studio\\\\repos\\\\Le-o-n\\\\ocr-model-training\\\\src\\\\cnn_lora\\\\..\\\\..\\\\data\\\\lambda\\\\u7d--3297511719911683183.png', 'c:\\\\Users\\\\Leon\\\\visual-studio\\\\repos\\\\Le-o-n\\\\ocr-model-training\\\\src\\\\cnn_lora\\\\..\\\\..\\\\data\\\\lambda\\\\u7d-5529858065811873102.png', 'c:\\\\Users\\\\Leon\\\\visual-studio\\\\repos\\\\Le-o-n\\\\ocr-model-training\\\\src\\\\cnn_lora\\\\..\\\\..\\\\data\\\\lambda\\\\ud7-1737059851111.png', 'c:\\\\Users\\\\Leon\\\\visual-studio\\\\repos\\\\Le-o-n\\\\ocr-model-training\\\\src\\\\cnn_lora\\\\..\\\\..\\\\data\\\\lambda\\\\ud7-1737059557074.png', 'c:\\\\Users\\\\Leon\\\\visual-studio\\\\repos\\\\Le-o-n\\\\ocr-model-training\\\\src\\\\cnn_lora\\\\..\\\\..\\\\data\\\\lambda\\\\ud7-1737059691616.png', 'c:\\\\Users\\\\Leon\\\\visual-studio\\\\repos\\\\Le-o-n\\\\ocr-model-training\\\\src\\\\cnn_lora\\\\..\\\\..\\\\data\\\\lambda\\\\uf7-1737059849718.png', 'c:\\\\Users\\\\Leon\\\\visual-studio\\\\repos\\\\Le-o-n\\\\ocr-model-training\\\\src\\\\cnn_lora\\\\..\\\\..\\\\data\\\\lambda\\\\uf7-1737060048662.png', 'c:\\\\Users\\\\Leon\\\\visual-studio\\\\repos\\\\Le-o-n\\\\ocr-model-training\\\\src\\\\cnn_lora\\\\..\\\\..\\\\data\\\\lambda\\\\uf7-1737059037137.png', 'c:\\\\Users\\\\Leon\\\\visual-studio\\\\repos\\\\Le-o-n\\\\ocr-model-training\\\\src\\\\cnn_lora\\\\..\\\\..\\\\data\\\\lambda\\\\u3bb-1736987532426.png', 'c:\\\\Users\\\\Leon\\\\visual-studio\\\\repos\\\\Le-o-n\\\\ocr-model-training\\\\src\\\\cnn_lora\\\\..\\\\..\\\\data\\\\lambda\\\\u3bb-1736987266804.png', 'c:\\\\Users\\\\Leon\\\\visual-studio\\\\repos\\\\Le-o-n\\\\ocr-model-training\\\\src\\\\cnn_lora\\\\..\\\\..\\\\data\\\\lambda\\\\u3bb-1736987495145.png'] ['(', '(', '(', ')', ')', ')', '+', '+', '+', '-', '-', '-', '.', '.', '.', '0', '0', '0', '1', '1', '1', '2', '2', '2', '3', '3', '3', '4', '4', '4', '5', '5', '5', '6', '6', '6', '7', '7', '7', '8', '8', '8', '9', '9', '9', ':', ':', ':', '<', '<', '<', '=', '=', '=', '>', '>', '>', '[', '[', '[', ']', ']', ']', 'a', 'a', 'a', 'b', 'b', 'b', 'c', 'c', 'c', 'd', 'd', 'd', 'e', 'e', 'e', 'f', 'f', 'f', 'g', 'g', 'g', 'h', 'h', 'h', 'i', 'i', 'i', 'j', 'j', 'j', 'k', 'k', 'k', 'l', 'l', 'l', 'm', 'm', 'm', 'n', 'n', 'n', 'o', 'o', 'o', 'p', 'p', 'p', 'q', 'q', 'q', 'r', 'r', 'r', 's', 's', 's', 't', 't', 't', 'u', 'u', 'u', 'v', 'v', 'v', 'w', 'w', 'w', 'x', 'x', 'x', 'y', 'y', 'y', 'z', 'z', 'z', '{', '{', '{', '}', '}', '}', '×', '×', '×', '÷', '÷', '÷', 'λ', 'λ', 'λ']\n"
     ]
    }
   ],
   "source": [
    "\n",
    "\n",
    "\n",
    "train_x, train_y, val_x, val_y, test_x, test_y = stratified_split(image_paths, labels)\n",
    "\n",
    "print(f\"Train ({len(train_x)}): {train_x} {train_y}\")\n",
    "print(f\"Val   ({len(val_x)}): {val_x} {val_y}\")\n",
    "print(f\"Test  ({len(test_x)}): {test_x} {test_y}\")"
   ]
  },
  {
   "cell_type": "code",
   "execution_count": 19,
   "metadata": {},
   "outputs": [],
   "source": [
    "all_label_classes = [ '(', ')', '+', '-', '.', '0', '1', '2', '3', '4', '5', '6', '7', '8', '9', ':', '<', '=', '>', '[', ']', 'a', 'b', 'c', 'd', 'e', 'f', 'g', 'h', 'i', 'j', 'k', 'l', 'm', 'n', 'o', 'p', 'q', 'r', 's', 't', 'u', 'v', 'w', 'x', 'y', 'z', '{', '}', '×', '÷', 'λ']\n"
   ]
  },
  {
   "cell_type": "code",
   "execution_count": 20,
   "metadata": {},
   "outputs": [],
   "source": [
    "\n",
    "train_char_dataset: CharImageDataset = CharImageDataset(\n",
    "    file_paths=train_x, #list(image_paths[:split_index]) + to_add_file_paths,\n",
    "    labels=train_y, #list(labels[:split_index]) + to_add_labels,\n",
    "    all_label_classes=all_label_classes,\n",
    "    rotation_limit=0.05,\n",
    "    translation_limit=0.2,\n",
    "    skew_limit=0.02,\n",
    "    zoom_change=1.2,\n",
    "    min_zoom=0.8,\n",
    "    thicken_sigma=-4.9,\n",
    "    image_dims=(64, 64)\n",
    ")\n",
    "\n",
    "val_char_dataset: CharImageDataset = CharImageDataset(\n",
    "    file_paths=val_x,\n",
    "    labels=val_y,\n",
    "    all_label_classes=all_label_classes,\n",
    "    rotation_limit=0.0,\n",
    "    translation_limit=0.0,\n",
    "    skew_limit=0.00,\n",
    "    zoom_change=0.0,\n",
    "    min_zoom=1.0,\n",
    "    thicken_sigma=0.0,\n",
    "    image_dims=(64, 64)\n",
    ")\n",
    "\n",
    "\n"
   ]
  },
  {
   "cell_type": "code",
   "execution_count": 21,
   "metadata": {},
   "outputs": [
    {
     "data": {
      "image/png": "[encoded data removed]",
      "text/plain": [
       "<Figure size 640x480 with 1 Axes>"
      ]
     },
     "metadata": {},
     "output_type": "display_data"
    },
    {
     "name": "stdout",
     "output_type": "stream",
     "text": [
      "tensor([0., 0., 0., 0., 0., 0., 0., 0., 0., 0., 0., 0., 0., 1., 0., 0., 0., 0.,\n",
      "        0., 0., 0., 0., 0., 0., 0., 0., 0., 0., 0., 0., 0., 0., 0., 0., 0., 0.,\n",
      "        0., 0., 0., 0., 0., 0., 0., 0., 0., 0., 0., 0., 0., 0., 0., 0.])\n"
     ]
    }
   ],
   "source": [
    "for im, lab in train_char_dataset:\n",
    "    \n",
    "    for ch in im:\n",
    "    \n",
    "        plt.imshow(\n",
    "            rearrange(ch, \"h w -> h w\")*255, \n",
    "            cmap=\"gray\"\n",
    "        )\n",
    "        plt.show()\n",
    "    \n",
    "    print(lab)\n",
    "    break"
   ]
  },
  {
   "cell_type": "markdown",
   "metadata": {},
   "source": [
    "# Load DataLoader"
   ]
  },
  {
   "cell_type": "code",
   "execution_count": 22,
   "metadata": {},
   "outputs": [],
   "source": [
    "def collate_fn(batch):\n",
    "    \"\"\"\n",
    "    Collate function to pad sequences to the same length.\n",
    "    \"\"\"\n",
    "    # Separate images and labels\n",
    "    images, labels = zip(*batch)\n",
    "\n",
    "    # Pad image sequences\n",
    "    images_padded = pad_sequence(images, batch_first=True, padding_value=0.0)\n",
    "\n",
    "    # Pad label sequences\n",
    "    labels_padded = pad_sequence(labels, batch_first=True, padding_value=0.0)\n",
    "\n",
    "    return images_padded, labels_padded\n",
    "\n",
    "train_dataloader: DataLoader = DataLoader(\n",
    "    train_char_dataset,\n",
    "    shuffle=True,\n",
    "    batch_size=BATCH_SIZE,\n",
    "    collate_fn=collate_fn\n",
    ")\n",
    "\n",
    "val_dataloader: DataLoader = DataLoader(\n",
    "    val_char_dataset,\n",
    "    shuffle=False,\n",
    "    batch_size=BATCH_SIZE,\n",
    "    collate_fn=collate_fn\n",
    ")"
   ]
  },
  {
   "cell_type": "code",
   "execution_count": 23,
   "metadata": {},
   "outputs": [
    {
     "data": {
      "text/plain": [
       "(['(',\n",
       "  ')',\n",
       "  '+',\n",
       "  '-',\n",
       "  '.',\n",
       "  '0',\n",
       "  '1',\n",
       "  '2',\n",
       "  '3',\n",
       "  '4',\n",
       "  '5',\n",
       "  '6',\n",
       "  '7',\n",
       "  '8',\n",
       "  '9',\n",
       "  ':',\n",
       "  '<',\n",
       "  '=',\n",
       "  '>',\n",
       "  '[',\n",
       "  ']',\n",
       "  'a',\n",
       "  'b',\n",
       "  'c',\n",
       "  'd',\n",
       "  'e',\n",
       "  'f',\n",
       "  'g',\n",
       "  'h',\n",
       "  'i',\n",
       "  'j',\n",
       "  'k',\n",
       "  'l',\n",
       "  'm',\n",
       "  'n',\n",
       "  'o',\n",
       "  'p',\n",
       "  'q',\n",
       "  'r',\n",
       "  's',\n",
       "  't',\n",
       "  'u',\n",
       "  'v',\n",
       "  'w',\n",
       "  'x',\n",
       "  'y',\n",
       "  'z',\n",
       "  '{',\n",
       "  '}',\n",
       "  '×',\n",
       "  '÷',\n",
       "  'λ'],\n",
       " 52)"
      ]
     },
     "execution_count": 23,
     "metadata": {},
     "output_type": "execute_result"
    }
   ],
   "source": [
    "sorted(class_counts.keys()), len(sorted(class_counts.keys()))"
   ]
  },
  {
   "cell_type": "markdown",
   "metadata": {},
   "source": [
    "# Prepare Pretrained CNN Encoder"
   ]
  },
  {
   "cell_type": "code",
   "execution_count": 24,
   "metadata": {},
   "outputs": [
    {
     "name": "stdout",
     "output_type": "stream",
     "text": [
      "Loaded: encoder_conv_blocks.0.0.weight\n",
      "Loaded: encoder_conv_blocks.0.0.bias\n",
      "Loaded: encoder_conv_blocks.0.2.weight\n",
      "Loaded: encoder_conv_blocks.0.2.bias\n",
      "Loaded: encoder_conv_blocks.0.2.running_mean\n",
      "Loaded: encoder_conv_blocks.0.2.running_var\n",
      "Loaded: encoder_conv_blocks.0.2.num_batches_tracked\n",
      "Loaded: encoder_conv_blocks.0.4.weight\n",
      "Loaded: encoder_conv_blocks.0.4.bias\n",
      "Loaded: encoder_conv_blocks.0.6.weight\n",
      "Loaded: encoder_conv_blocks.0.6.bias\n",
      "Loaded: encoder_conv_blocks.0.6.running_mean\n",
      "Loaded: encoder_conv_blocks.0.6.running_var\n",
      "Loaded: encoder_conv_blocks.0.6.num_batches_tracked\n",
      "Loaded: encoder_conv_blocks.1.0.weight\n",
      "Loaded: encoder_conv_blocks.1.0.bias\n",
      "Loaded: encoder_conv_blocks.1.2.weight\n",
      "Loaded: encoder_conv_blocks.1.2.bias\n",
      "Loaded: encoder_conv_blocks.1.2.running_mean\n",
      "Loaded: encoder_conv_blocks.1.2.running_var\n",
      "Loaded: encoder_conv_blocks.1.2.num_batches_tracked\n",
      "Loaded: encoder_conv_blocks.1.4.weight\n",
      "Loaded: encoder_conv_blocks.1.4.bias\n",
      "Loaded: encoder_conv_blocks.1.6.weight\n",
      "Loaded: encoder_conv_blocks.1.6.bias\n",
      "Loaded: encoder_conv_blocks.1.6.running_mean\n",
      "Loaded: encoder_conv_blocks.1.6.running_var\n",
      "Loaded: encoder_conv_blocks.1.6.num_batches_tracked\n",
      "Loaded: encoder_conv_blocks.2.0.weight\n",
      "Loaded: encoder_conv_blocks.2.0.bias\n",
      "Loaded: encoder_conv_blocks.2.2.weight\n",
      "Loaded: encoder_conv_blocks.2.2.bias\n",
      "Loaded: encoder_conv_blocks.2.2.running_mean\n",
      "Loaded: encoder_conv_blocks.2.2.running_var\n",
      "Loaded: encoder_conv_blocks.2.2.num_batches_tracked\n",
      "Loaded: encoder_conv_blocks.2.4.weight\n",
      "Loaded: encoder_conv_blocks.2.4.bias\n",
      "Loaded: encoder_conv_blocks.2.6.weight\n",
      "Loaded: encoder_conv_blocks.2.6.bias\n",
      "Loaded: encoder_conv_blocks.2.6.running_mean\n",
      "Loaded: encoder_conv_blocks.2.6.running_var\n",
      "Loaded: encoder_conv_blocks.2.6.num_batches_tracked\n",
      "Loaded: encoder_conv_blocks.3.0.weight\n",
      "Loaded: encoder_conv_blocks.3.0.bias\n",
      "Loaded: encoder_conv_blocks.3.2.weight\n",
      "Loaded: encoder_conv_blocks.3.2.bias\n",
      "Loaded: encoder_conv_blocks.3.2.running_mean\n",
      "Loaded: encoder_conv_blocks.3.2.running_var\n",
      "Loaded: encoder_conv_blocks.3.2.num_batches_tracked\n",
      "Loaded: encoder_conv_blocks.3.4.weight\n",
      "Loaded: encoder_conv_blocks.3.4.bias\n",
      "Loaded: encoder_conv_blocks.3.6.weight\n",
      "Loaded: encoder_conv_blocks.3.6.bias\n",
      "Loaded: encoder_conv_blocks.3.6.running_mean\n",
      "Loaded: encoder_conv_blocks.3.6.running_var\n",
      "Loaded: encoder_conv_blocks.3.6.num_batches_tracked\n",
      "Loaded: encoder_conv_blocks.4.0.weight\n",
      "Loaded: encoder_conv_blocks.4.0.bias\n",
      "Loaded: encoder_conv_blocks.4.2.weight\n",
      "Loaded: encoder_conv_blocks.4.2.bias\n",
      "Loaded: encoder_conv_blocks.4.2.running_mean\n",
      "Loaded: encoder_conv_blocks.4.2.running_var\n",
      "Loaded: encoder_conv_blocks.4.2.num_batches_tracked\n",
      "Loaded: encoder_conv_blocks.4.4.weight\n",
      "Loaded: encoder_conv_blocks.4.4.bias\n",
      "Loaded: encoder_conv_blocks.4.6.weight\n",
      "Loaded: encoder_conv_blocks.4.6.bias\n",
      "Loaded: encoder_conv_blocks.4.6.running_mean\n",
      "Loaded: encoder_conv_blocks.4.6.running_var\n",
      "Loaded: encoder_conv_blocks.4.6.num_batches_tracked\n",
      "Skipping fully_connected_blocks.0.0.weight:  loaded size:torch.Size([64, 128]) != model size:  torch.Size([128, 128])\n",
      "Skipping fully_connected_blocks.0.0.bias:  loaded size:torch.Size([64]) != model size:  torch.Size([128])\n",
      "Skipping fully_connected_blocks.1.0.weight:  loaded size:torch.Size([44, 64]) != model size:  torch.Size([128, 128])\n",
      "Skipping fully_connected_blocks.1.0.bias:  loaded size:torch.Size([44]) != model size:  torch.Size([128])\n",
      "==========================================================================================\n",
      "Layer (type:depth-idx)                   Output Shape              Param #\n",
      "==========================================================================================\n",
      "AllCNN2D                                 [1, 128]                  --\n",
      "├─ModuleList: 1-1                        --                        --\n",
      "│    └─Sequential: 2-1                   [1, 16, 32, 32]           --\n",
      "│    │    └─Conv2d: 3-1                  [1, 16, 64, 64]           160\n",
      "│    │    └─Dropout2d: 3-2               [1, 16, 64, 64]           --\n",
      "│    │    └─BatchNorm2d: 3-3             [1, 16, 64, 64]           32\n",
      "│    │    └─LeakyReLU: 3-4               [1, 16, 64, 64]           --\n",
      "│    │    └─Conv2d: 3-5                  [1, 16, 32, 32]           2,320\n",
      "│    │    └─Dropout2d: 3-6               [1, 16, 32, 32]           --\n",
      "│    │    └─BatchNorm2d: 3-7             [1, 16, 32, 32]           32\n",
      "│    │    └─LeakyReLU: 3-8               [1, 16, 32, 32]           --\n",
      "│    └─Sequential: 2-2                   [1, 32, 16, 16]           --\n",
      "│    │    └─Conv2d: 3-9                  [1, 32, 32, 32]           4,640\n",
      "│    │    └─Dropout2d: 3-10              [1, 32, 32, 32]           --\n",
      "│    │    └─BatchNorm2d: 3-11            [1, 32, 32, 32]           64\n",
      "│    │    └─LeakyReLU: 3-12              [1, 32, 32, 32]           --\n",
      "│    │    └─Conv2d: 3-13                 [1, 32, 16, 16]           9,248\n",
      "│    │    └─Dropout2d: 3-14              [1, 32, 16, 16]           --\n",
      "│    │    └─BatchNorm2d: 3-15            [1, 32, 16, 16]           64\n",
      "│    │    └─LeakyReLU: 3-16              [1, 32, 16, 16]           --\n",
      "│    └─Sequential: 2-3                   [1, 32, 8, 8]             --\n",
      "│    │    └─Conv2d: 3-17                 [1, 32, 16, 16]           9,248\n",
      "│    │    └─Dropout2d: 3-18              [1, 32, 16, 16]           --\n",
      "│    │    └─BatchNorm2d: 3-19            [1, 32, 16, 16]           64\n",
      "│    │    └─LeakyReLU: 3-20              [1, 32, 16, 16]           --\n",
      "│    │    └─Conv2d: 3-21                 [1, 32, 8, 8]             9,248\n",
      "│    │    └─Dropout2d: 3-22              [1, 32, 8, 8]             --\n",
      "│    │    └─BatchNorm2d: 3-23            [1, 32, 8, 8]             64\n",
      "│    │    └─LeakyReLU: 3-24              [1, 32, 8, 8]             --\n",
      "│    └─Sequential: 2-4                   [1, 32, 4, 4]             --\n",
      "│    │    └─Conv2d: 3-25                 [1, 32, 8, 8]             9,248\n",
      "│    │    └─Dropout2d: 3-26              [1, 32, 8, 8]             --\n",
      "│    │    └─BatchNorm2d: 3-27            [1, 32, 8, 8]             64\n",
      "│    │    └─LeakyReLU: 3-28              [1, 32, 8, 8]             --\n",
      "│    │    └─Conv2d: 3-29                 [1, 32, 4, 4]             9,248\n",
      "│    │    └─Dropout2d: 3-30              [1, 32, 4, 4]             --\n",
      "│    │    └─BatchNorm2d: 3-31            [1, 32, 4, 4]             64\n",
      "│    │    └─LeakyReLU: 3-32              [1, 32, 4, 4]             --\n",
      "│    └─Sequential: 2-5                   [1, 32, 2, 2]             --\n",
      "│    │    └─Conv2d: 3-33                 [1, 32, 4, 4]             9,248\n",
      "│    │    └─Dropout2d: 3-34              [1, 32, 4, 4]             --\n",
      "│    │    └─BatchNorm2d: 3-35            [1, 32, 4, 4]             64\n",
      "│    │    └─LeakyReLU: 3-36              [1, 32, 4, 4]             --\n",
      "│    │    └─Conv2d: 3-37                 [1, 32, 2, 2]             9,248\n",
      "│    │    └─Dropout2d: 3-38              [1, 32, 2, 2]             --\n",
      "│    │    └─BatchNorm2d: 3-39            [1, 32, 2, 2]             64\n",
      "│    │    └─LeakyReLU: 3-40              [1, 32, 2, 2]             --\n",
      "├─Sequential: 1-2                        [1, 128]                  --\n",
      "│    └─Flatten: 2-6                      [1, 128]                  --\n",
      "├─ModuleList: 1-3                        --                        --\n",
      "│    └─Sequential: 2-7                   [1, 128]                  --\n",
      "│    │    └─Linear: 3-41                 [1, 128]                  16,512\n",
      "│    │    └─Dropout: 3-42                [1, 128]                  --\n",
      "│    │    └─LeakyReLU: 3-43              [1, 128]                  --\n",
      "│    └─Sequential: 2-8                   [1, 128]                  --\n",
      "│    │    └─Linear: 3-44                 [1, 128]                  16,512\n",
      "==========================================================================================\n",
      "Total params: 105,456\n",
      "Trainable params: 105,456\n",
      "Non-trainable params: 0\n",
      "Total mult-adds (M): 14.07\n",
      "==========================================================================================\n",
      "Input size (MB): 0.02\n",
      "Forward/backward pass size (MB): 2.18\n",
      "Params size (MB): 0.42\n",
      "Estimated Total Size (MB): 2.62\n",
      "==========================================================================================\n"
     ]
    }
   ],
   "source": [
    "\n",
    "\n",
    "\n",
    "cnn_model: nn.Module = AllCNN2D(\n",
    "    **{\n",
    "        \"conv_features\": (1, 16, 32, 32, 32, 32),\n",
    "        \"fully_connected_features\": (128, 128), \n",
    "        \"expected_input_size\": (64, 64),\n",
    "        \"device\": \"cuda\",\n",
    "        \"conv_dropout\": 0.075,\n",
    "        \"verbose\": True,\n",
    "        \"name_prefix\": MODEL_NAME,\n",
    "        \"checkpoint_path\": LOAD_CHECKPOINT,\n",
    "        \"use_lora\": False,\n",
    "        \"lora_rank\": 0,\n",
    "        \"lora_alpha\": 1.0\n",
    "    }\n",
    ").to(device=DEVICE)\n"
   ]
  },
  {
   "cell_type": "code",
   "execution_count": null,
   "metadata": {},
   "outputs": [],
   "source": []
  },
  {
   "cell_type": "markdown",
   "metadata": {},
   "source": [
    "# Train"
   ]
  },
  {
   "cell_type": "code",
   "execution_count": 25,
   "metadata": {},
   "outputs": [],
   "source": [
    "\n",
    "\n",
    "\n",
    "optim: AdamW = AdamW(\n",
    "    cnn_model.parameters(),\n",
    "    lr = 0.0001,\n",
    "    weight_decay=0.000001\n",
    ")\n",
    "\n",
    "scheduler: torch.optim.lr_scheduler.LRScheduler\n",
    "scheduler = torch.optim.lr_scheduler.CosineAnnealingWarmRestarts(\n",
    "    optim,\n",
    "    T_0=10,\n",
    "    T_mult=2,\n",
    ")\n"
   ]
  },
  {
   "cell_type": "code",
   "execution_count": 26,
   "metadata": {},
   "outputs": [
    {
     "name": "stderr",
     "output_type": "stream",
     "text": [
      "                                                                                                                    \r"
     ]
    },
    {
     "ename": "KeyboardInterrupt",
     "evalue": "",
     "output_type": "error",
     "traceback": [
      "\u001b[1;31m---------------------------------------------------------------------------\u001b[0m",
      "\u001b[1;31mKeyboardInterrupt\u001b[0m                         Traceback (most recent call last)",
      "Cell \u001b[1;32mIn[26], line 26\u001b[0m\n\u001b[0;32m     23\u001b[0m train_samples: \u001b[38;5;28mint\u001b[39m \u001b[38;5;241m=\u001b[39m \u001b[38;5;241m0\u001b[39m\n\u001b[0;32m     25\u001b[0m train_loader \u001b[38;5;241m=\u001b[39m tqdm\u001b[38;5;241m.\u001b[39mtqdm(train_dataloader, desc\u001b[38;5;241m=\u001b[39m\u001b[38;5;124mf\u001b[39m\u001b[38;5;124m\"\u001b[39m\u001b[38;5;124mEpoch \u001b[39m\u001b[38;5;132;01m{\u001b[39;00mepoch\u001b[38;5;241m+\u001b[39m\u001b[38;5;241m1\u001b[39m\u001b[38;5;132;01m}\u001b[39;00m\u001b[38;5;124m - Training\u001b[39m\u001b[38;5;124m\"\u001b[39m, leave\u001b[38;5;241m=\u001b[39m\u001b[38;5;28;01mFalse\u001b[39;00m)\n\u001b[1;32m---> 26\u001b[0m \u001b[38;5;28;01mfor\u001b[39;00m X, y \u001b[38;5;129;01min\u001b[39;00m train_loader:\n\u001b[0;32m     27\u001b[0m     X: torch\u001b[38;5;241m.\u001b[39mTensor \u001b[38;5;241m=\u001b[39m X\u001b[38;5;241m.\u001b[39mto(DEVICE)\n\u001b[0;32m     28\u001b[0m     y: torch\u001b[38;5;241m.\u001b[39mTensor \u001b[38;5;241m=\u001b[39m y\u001b[38;5;241m.\u001b[39mto(DEVICE)\n",
      "File \u001b[1;32mc:\\Users\\Leon\\AppData\\Local\\Programs\\Python\\Python310\\lib\\site-packages\\tqdm\\std.py:1195\u001b[0m, in \u001b[0;36mtqdm.__iter__\u001b[1;34m(self)\u001b[0m\n\u001b[0;32m   1192\u001b[0m time \u001b[38;5;241m=\u001b[39m \u001b[38;5;28mself\u001b[39m\u001b[38;5;241m.\u001b[39m_time\n\u001b[0;32m   1194\u001b[0m \u001b[38;5;28;01mtry\u001b[39;00m:\n\u001b[1;32m-> 1195\u001b[0m     \u001b[38;5;28;01mfor\u001b[39;00m obj \u001b[38;5;129;01min\u001b[39;00m iterable:\n\u001b[0;32m   1196\u001b[0m         \u001b[38;5;28;01myield\u001b[39;00m obj\n\u001b[0;32m   1197\u001b[0m         \u001b[38;5;66;03m# Update and possibly print the progressbar.\u001b[39;00m\n\u001b[0;32m   1198\u001b[0m         \u001b[38;5;66;03m# Note: does not call self.update(1) for speed optimisation.\u001b[39;00m\n",
      "File \u001b[1;32mc:\\Users\\Leon\\AppData\\Local\\Programs\\Python\\Python310\\lib\\site-packages\\torch\\utils\\data\\dataloader.py:631\u001b[0m, in \u001b[0;36m_BaseDataLoaderIter.__next__\u001b[1;34m(self)\u001b[0m\n\u001b[0;32m    628\u001b[0m \u001b[38;5;28;01mif\u001b[39;00m \u001b[38;5;28mself\u001b[39m\u001b[38;5;241m.\u001b[39m_sampler_iter \u001b[38;5;129;01mis\u001b[39;00m \u001b[38;5;28;01mNone\u001b[39;00m:\n\u001b[0;32m    629\u001b[0m     \u001b[38;5;66;03m# TODO(https://github.com/pytorch/pytorch/issues/76750)\u001b[39;00m\n\u001b[0;32m    630\u001b[0m     \u001b[38;5;28mself\u001b[39m\u001b[38;5;241m.\u001b[39m_reset()  \u001b[38;5;66;03m# type: ignore[call-arg]\u001b[39;00m\n\u001b[1;32m--> 631\u001b[0m data \u001b[38;5;241m=\u001b[39m \u001b[38;5;28;43mself\u001b[39;49m\u001b[38;5;241;43m.\u001b[39;49m\u001b[43m_next_data\u001b[49m\u001b[43m(\u001b[49m\u001b[43m)\u001b[49m\n\u001b[0;32m    632\u001b[0m \u001b[38;5;28mself\u001b[39m\u001b[38;5;241m.\u001b[39m_num_yielded \u001b[38;5;241m+\u001b[39m\u001b[38;5;241m=\u001b[39m \u001b[38;5;241m1\u001b[39m\n\u001b[0;32m    633\u001b[0m \u001b[38;5;28;01mif\u001b[39;00m \u001b[38;5;28mself\u001b[39m\u001b[38;5;241m.\u001b[39m_dataset_kind \u001b[38;5;241m==\u001b[39m _DatasetKind\u001b[38;5;241m.\u001b[39mIterable \u001b[38;5;129;01mand\u001b[39;00m \\\n\u001b[0;32m    634\u001b[0m         \u001b[38;5;28mself\u001b[39m\u001b[38;5;241m.\u001b[39m_IterableDataset_len_called \u001b[38;5;129;01mis\u001b[39;00m \u001b[38;5;129;01mnot\u001b[39;00m \u001b[38;5;28;01mNone\u001b[39;00m \u001b[38;5;129;01mand\u001b[39;00m \\\n\u001b[0;32m    635\u001b[0m         \u001b[38;5;28mself\u001b[39m\u001b[38;5;241m.\u001b[39m_num_yielded \u001b[38;5;241m>\u001b[39m \u001b[38;5;28mself\u001b[39m\u001b[38;5;241m.\u001b[39m_IterableDataset_len_called:\n",
      "File \u001b[1;32mc:\\Users\\Leon\\AppData\\Local\\Programs\\Python\\Python310\\lib\\site-packages\\torch\\utils\\data\\dataloader.py:675\u001b[0m, in \u001b[0;36m_SingleProcessDataLoaderIter._next_data\u001b[1;34m(self)\u001b[0m\n\u001b[0;32m    673\u001b[0m \u001b[38;5;28;01mdef\u001b[39;00m \u001b[38;5;21m_next_data\u001b[39m(\u001b[38;5;28mself\u001b[39m):\n\u001b[0;32m    674\u001b[0m     index \u001b[38;5;241m=\u001b[39m \u001b[38;5;28mself\u001b[39m\u001b[38;5;241m.\u001b[39m_next_index()  \u001b[38;5;66;03m# may raise StopIteration\u001b[39;00m\n\u001b[1;32m--> 675\u001b[0m     data \u001b[38;5;241m=\u001b[39m \u001b[38;5;28;43mself\u001b[39;49m\u001b[38;5;241;43m.\u001b[39;49m\u001b[43m_dataset_fetcher\u001b[49m\u001b[38;5;241;43m.\u001b[39;49m\u001b[43mfetch\u001b[49m\u001b[43m(\u001b[49m\u001b[43mindex\u001b[49m\u001b[43m)\u001b[49m  \u001b[38;5;66;03m# may raise StopIteration\u001b[39;00m\n\u001b[0;32m    676\u001b[0m     \u001b[38;5;28;01mif\u001b[39;00m \u001b[38;5;28mself\u001b[39m\u001b[38;5;241m.\u001b[39m_pin_memory:\n\u001b[0;32m    677\u001b[0m         data \u001b[38;5;241m=\u001b[39m _utils\u001b[38;5;241m.\u001b[39mpin_memory\u001b[38;5;241m.\u001b[39mpin_memory(data, \u001b[38;5;28mself\u001b[39m\u001b[38;5;241m.\u001b[39m_pin_memory_device)\n",
      "File \u001b[1;32mc:\\Users\\Leon\\AppData\\Local\\Programs\\Python\\Python310\\lib\\site-packages\\torch\\utils\\data\\_utils\\fetch.py:51\u001b[0m, in \u001b[0;36m_MapDatasetFetcher.fetch\u001b[1;34m(self, possibly_batched_index)\u001b[0m\n\u001b[0;32m     49\u001b[0m         data \u001b[38;5;241m=\u001b[39m \u001b[38;5;28mself\u001b[39m\u001b[38;5;241m.\u001b[39mdataset\u001b[38;5;241m.\u001b[39m__getitems__(possibly_batched_index)\n\u001b[0;32m     50\u001b[0m     \u001b[38;5;28;01melse\u001b[39;00m:\n\u001b[1;32m---> 51\u001b[0m         data \u001b[38;5;241m=\u001b[39m [\u001b[38;5;28mself\u001b[39m\u001b[38;5;241m.\u001b[39mdataset[idx] \u001b[38;5;28;01mfor\u001b[39;00m idx \u001b[38;5;129;01min\u001b[39;00m possibly_batched_index]\n\u001b[0;32m     52\u001b[0m \u001b[38;5;28;01melse\u001b[39;00m:\n\u001b[0;32m     53\u001b[0m     data \u001b[38;5;241m=\u001b[39m \u001b[38;5;28mself\u001b[39m\u001b[38;5;241m.\u001b[39mdataset[possibly_batched_index]\n",
      "File \u001b[1;32mc:\\Users\\Leon\\AppData\\Local\\Programs\\Python\\Python310\\lib\\site-packages\\torch\\utils\\data\\_utils\\fetch.py:51\u001b[0m, in \u001b[0;36m<listcomp>\u001b[1;34m(.0)\u001b[0m\n\u001b[0;32m     49\u001b[0m         data \u001b[38;5;241m=\u001b[39m \u001b[38;5;28mself\u001b[39m\u001b[38;5;241m.\u001b[39mdataset\u001b[38;5;241m.\u001b[39m__getitems__(possibly_batched_index)\n\u001b[0;32m     50\u001b[0m     \u001b[38;5;28;01melse\u001b[39;00m:\n\u001b[1;32m---> 51\u001b[0m         data \u001b[38;5;241m=\u001b[39m [\u001b[38;5;28;43mself\u001b[39;49m\u001b[38;5;241;43m.\u001b[39;49m\u001b[43mdataset\u001b[49m\u001b[43m[\u001b[49m\u001b[43midx\u001b[49m\u001b[43m]\u001b[49m \u001b[38;5;28;01mfor\u001b[39;00m idx \u001b[38;5;129;01min\u001b[39;00m possibly_batched_index]\n\u001b[0;32m     52\u001b[0m \u001b[38;5;28;01melse\u001b[39;00m:\n\u001b[0;32m     53\u001b[0m     data \u001b[38;5;241m=\u001b[39m \u001b[38;5;28mself\u001b[39m\u001b[38;5;241m.\u001b[39mdataset[possibly_batched_index]\n",
      "File \u001b[1;32mc:\\Users\\Leon\\visual-studio\\repos\\Le-o-n\\ocr-model-training\\src\\cnn_lora\\dataset\\character_dataset.py:105\u001b[0m, in \u001b[0;36mCharImageDataset.__getitem__\u001b[1;34m(self, index)\u001b[0m\n\u001b[0;32m    102\u001b[0m image \u001b[38;5;241m=\u001b[39m reduce(image, \u001b[38;5;124m\"\u001b[39m\u001b[38;5;124mc h w -> 1 h w\u001b[39m\u001b[38;5;124m\"\u001b[39m, \u001b[38;5;124m\"\u001b[39m\u001b[38;5;124mmax\u001b[39m\u001b[38;5;124m\"\u001b[39m)\n\u001b[0;32m    104\u001b[0m \u001b[38;5;66;03m# Apply random transformations\u001b[39;00m\n\u001b[1;32m--> 105\u001b[0m image \u001b[38;5;241m=\u001b[39m \u001b[38;5;28;43mself\u001b[39;49m\u001b[38;5;241;43m.\u001b[39;49m\u001b[43m_apply_random_transformations\u001b[49m\u001b[43m(\u001b[49m\n\u001b[0;32m    106\u001b[0m \u001b[43m    \u001b[49m\u001b[43mimage\u001b[49m\n\u001b[0;32m    107\u001b[0m \u001b[43m\u001b[49m\u001b[43m)\u001b[49m\n\u001b[0;32m    109\u001b[0m \u001b[38;5;66;03m# One-hot encode the label\u001b[39;00m\n\u001b[0;32m    110\u001b[0m one_hot_label \u001b[38;5;241m=\u001b[39m torch\u001b[38;5;241m.\u001b[39mzeros(\n\u001b[0;32m    111\u001b[0m     \u001b[38;5;28mlen\u001b[39m(\u001b[38;5;28mself\u001b[39m\u001b[38;5;241m.\u001b[39mlabels_set),\n\u001b[0;32m    112\u001b[0m     dtype\u001b[38;5;241m=\u001b[39mtorch\u001b[38;5;241m.\u001b[39mfloat32\n\u001b[0;32m    113\u001b[0m )\n",
      "File \u001b[1;32mc:\\Users\\Leon\\visual-studio\\repos\\Le-o-n\\ocr-model-training\\src\\cnn_lora\\dataset\\character_dataset.py:204\u001b[0m, in \u001b[0;36mCharImageDataset._apply_random_transformations\u001b[1;34m(self, image)\u001b[0m\n\u001b[0;32m    196\u001b[0m \u001b[38;5;66;03m# Apply GaussianBlur\u001b[39;00m\n\u001b[0;32m    197\u001b[0m gaussian_blur \u001b[38;5;241m=\u001b[39m GaussianBlur(\n\u001b[0;32m    198\u001b[0m     kernel_size\u001b[38;5;241m=\u001b[39mkernel_size,\n\u001b[0;32m    199\u001b[0m     sigma\u001b[38;5;241m=\u001b[39m(\n\u001b[1;32m   (...)\u001b[0m\n\u001b[0;32m    202\u001b[0m     )\n\u001b[0;32m    203\u001b[0m )\n\u001b[1;32m--> 204\u001b[0m image \u001b[38;5;241m=\u001b[39m \u001b[43mgaussian_blur\u001b[49m\u001b[43m(\u001b[49m\u001b[43mimage\u001b[49m\u001b[43m)\u001b[49m\n\u001b[0;32m    206\u001b[0m \u001b[38;5;66;03m# Adjust for thickening or thinning\u001b[39;00m\n\u001b[0;32m    207\u001b[0m \u001b[38;5;28;01mif\u001b[39;00m thicken_thinning_sigma \u001b[38;5;241m>\u001b[39m \u001b[38;5;241m0\u001b[39m:\n\u001b[0;32m    208\u001b[0m     \u001b[38;5;66;03m# Thickening: Increase the character's size by lowering the threshold\u001b[39;00m\n",
      "File \u001b[1;32mc:\\Users\\Leon\\AppData\\Local\\Programs\\Python\\Python310\\lib\\site-packages\\torch\\nn\\modules\\module.py:1511\u001b[0m, in \u001b[0;36mModule._wrapped_call_impl\u001b[1;34m(self, *args, **kwargs)\u001b[0m\n\u001b[0;32m   1509\u001b[0m     \u001b[38;5;28;01mreturn\u001b[39;00m \u001b[38;5;28mself\u001b[39m\u001b[38;5;241m.\u001b[39m_compiled_call_impl(\u001b[38;5;241m*\u001b[39margs, \u001b[38;5;241m*\u001b[39m\u001b[38;5;241m*\u001b[39mkwargs)  \u001b[38;5;66;03m# type: ignore[misc]\u001b[39;00m\n\u001b[0;32m   1510\u001b[0m \u001b[38;5;28;01melse\u001b[39;00m:\n\u001b[1;32m-> 1511\u001b[0m     \u001b[38;5;28;01mreturn\u001b[39;00m \u001b[38;5;28mself\u001b[39m\u001b[38;5;241m.\u001b[39m_call_impl(\u001b[38;5;241m*\u001b[39margs, \u001b[38;5;241m*\u001b[39m\u001b[38;5;241m*\u001b[39mkwargs)\n",
      "File \u001b[1;32mc:\\Users\\Leon\\AppData\\Local\\Programs\\Python\\Python310\\lib\\site-packages\\torch\\nn\\modules\\module.py:1520\u001b[0m, in \u001b[0;36mModule._call_impl\u001b[1;34m(self, *args, **kwargs)\u001b[0m\n\u001b[0;32m   1515\u001b[0m \u001b[38;5;66;03m# If we don't have any hooks, we want to skip the rest of the logic in\u001b[39;00m\n\u001b[0;32m   1516\u001b[0m \u001b[38;5;66;03m# this function, and just call forward.\u001b[39;00m\n\u001b[0;32m   1517\u001b[0m \u001b[38;5;28;01mif\u001b[39;00m \u001b[38;5;129;01mnot\u001b[39;00m (\u001b[38;5;28mself\u001b[39m\u001b[38;5;241m.\u001b[39m_backward_hooks \u001b[38;5;129;01mor\u001b[39;00m \u001b[38;5;28mself\u001b[39m\u001b[38;5;241m.\u001b[39m_backward_pre_hooks \u001b[38;5;129;01mor\u001b[39;00m \u001b[38;5;28mself\u001b[39m\u001b[38;5;241m.\u001b[39m_forward_hooks \u001b[38;5;129;01mor\u001b[39;00m \u001b[38;5;28mself\u001b[39m\u001b[38;5;241m.\u001b[39m_forward_pre_hooks\n\u001b[0;32m   1518\u001b[0m         \u001b[38;5;129;01mor\u001b[39;00m _global_backward_pre_hooks \u001b[38;5;129;01mor\u001b[39;00m _global_backward_hooks\n\u001b[0;32m   1519\u001b[0m         \u001b[38;5;129;01mor\u001b[39;00m _global_forward_hooks \u001b[38;5;129;01mor\u001b[39;00m _global_forward_pre_hooks):\n\u001b[1;32m-> 1520\u001b[0m     \u001b[38;5;28;01mreturn\u001b[39;00m forward_call(\u001b[38;5;241m*\u001b[39margs, \u001b[38;5;241m*\u001b[39m\u001b[38;5;241m*\u001b[39mkwargs)\n\u001b[0;32m   1522\u001b[0m \u001b[38;5;28;01mtry\u001b[39;00m:\n\u001b[0;32m   1523\u001b[0m     result \u001b[38;5;241m=\u001b[39m \u001b[38;5;28;01mNone\u001b[39;00m\n",
      "File \u001b[1;32mc:\\Users\\Leon\\AppData\\Local\\Programs\\Python\\Python310\\lib\\site-packages\\torchvision\\transforms\\transforms.py:1812\u001b[0m, in \u001b[0;36mGaussianBlur.forward\u001b[1;34m(self, img)\u001b[0m\n\u001b[0;32m   1804\u001b[0m \u001b[38;5;250m\u001b[39m\u001b[38;5;124;03m\"\"\"\u001b[39;00m\n\u001b[0;32m   1805\u001b[0m \u001b[38;5;124;03mArgs:\u001b[39;00m\n\u001b[0;32m   1806\u001b[0m \u001b[38;5;124;03m    img (PIL Image or Tensor): image to be blurred.\u001b[39;00m\n\u001b[1;32m   (...)\u001b[0m\n\u001b[0;32m   1809\u001b[0m \u001b[38;5;124;03m    PIL Image or Tensor: Gaussian blurred image\u001b[39;00m\n\u001b[0;32m   1810\u001b[0m \u001b[38;5;124;03m\"\"\"\u001b[39;00m\n\u001b[0;32m   1811\u001b[0m sigma \u001b[38;5;241m=\u001b[39m \u001b[38;5;28mself\u001b[39m\u001b[38;5;241m.\u001b[39mget_params(\u001b[38;5;28mself\u001b[39m\u001b[38;5;241m.\u001b[39msigma[\u001b[38;5;241m0\u001b[39m], \u001b[38;5;28mself\u001b[39m\u001b[38;5;241m.\u001b[39msigma[\u001b[38;5;241m1\u001b[39m])\n\u001b[1;32m-> 1812\u001b[0m \u001b[38;5;28;01mreturn\u001b[39;00m \u001b[43mF\u001b[49m\u001b[38;5;241;43m.\u001b[39;49m\u001b[43mgaussian_blur\u001b[49m\u001b[43m(\u001b[49m\u001b[43mimg\u001b[49m\u001b[43m,\u001b[49m\u001b[43m \u001b[49m\u001b[38;5;28;43mself\u001b[39;49m\u001b[38;5;241;43m.\u001b[39;49m\u001b[43mkernel_size\u001b[49m\u001b[43m,\u001b[49m\u001b[43m \u001b[49m\u001b[43m[\u001b[49m\u001b[43msigma\u001b[49m\u001b[43m,\u001b[49m\u001b[43m \u001b[49m\u001b[43msigma\u001b[49m\u001b[43m]\u001b[49m\u001b[43m)\u001b[49m\n",
      "File \u001b[1;32mc:\\Users\\Leon\\AppData\\Local\\Programs\\Python\\Python310\\lib\\site-packages\\torchvision\\transforms\\functional.py:1363\u001b[0m, in \u001b[0;36mgaussian_blur\u001b[1;34m(img, kernel_size, sigma)\u001b[0m\n\u001b[0;32m   1359\u001b[0m         \u001b[38;5;28;01mraise\u001b[39;00m \u001b[38;5;167;01mTypeError\u001b[39;00m(\u001b[38;5;124mf\u001b[39m\u001b[38;5;124m\"\u001b[39m\u001b[38;5;124mimg should be PIL Image or Tensor. Got \u001b[39m\u001b[38;5;132;01m{\u001b[39;00m\u001b[38;5;28mtype\u001b[39m(img)\u001b[38;5;132;01m}\u001b[39;00m\u001b[38;5;124m\"\u001b[39m)\n\u001b[0;32m   1361\u001b[0m     t_img \u001b[38;5;241m=\u001b[39m pil_to_tensor(img)\n\u001b[1;32m-> 1363\u001b[0m output \u001b[38;5;241m=\u001b[39m \u001b[43mF_t\u001b[49m\u001b[38;5;241;43m.\u001b[39;49m\u001b[43mgaussian_blur\u001b[49m\u001b[43m(\u001b[49m\u001b[43mt_img\u001b[49m\u001b[43m,\u001b[49m\u001b[43m \u001b[49m\u001b[43mkernel_size\u001b[49m\u001b[43m,\u001b[49m\u001b[43m \u001b[49m\u001b[43msigma\u001b[49m\u001b[43m)\u001b[49m\n\u001b[0;32m   1365\u001b[0m \u001b[38;5;28;01mif\u001b[39;00m \u001b[38;5;129;01mnot\u001b[39;00m \u001b[38;5;28misinstance\u001b[39m(img, torch\u001b[38;5;241m.\u001b[39mTensor):\n\u001b[0;32m   1366\u001b[0m     output \u001b[38;5;241m=\u001b[39m to_pil_image(output, mode\u001b[38;5;241m=\u001b[39mimg\u001b[38;5;241m.\u001b[39mmode)\n",
      "File \u001b[1;32mc:\\Users\\Leon\\AppData\\Local\\Programs\\Python\\Python310\\lib\\site-packages\\torchvision\\transforms\\_functional_tensor.py:759\u001b[0m, in \u001b[0;36mgaussian_blur\u001b[1;34m(img, kernel_size, sigma)\u001b[0m\n\u001b[0;32m    757\u001b[0m padding \u001b[38;5;241m=\u001b[39m [kernel_size[\u001b[38;5;241m0\u001b[39m] \u001b[38;5;241m/\u001b[39m\u001b[38;5;241m/\u001b[39m \u001b[38;5;241m2\u001b[39m, kernel_size[\u001b[38;5;241m0\u001b[39m] \u001b[38;5;241m/\u001b[39m\u001b[38;5;241m/\u001b[39m \u001b[38;5;241m2\u001b[39m, kernel_size[\u001b[38;5;241m1\u001b[39m] \u001b[38;5;241m/\u001b[39m\u001b[38;5;241m/\u001b[39m \u001b[38;5;241m2\u001b[39m, kernel_size[\u001b[38;5;241m1\u001b[39m] \u001b[38;5;241m/\u001b[39m\u001b[38;5;241m/\u001b[39m \u001b[38;5;241m2\u001b[39m]\n\u001b[0;32m    758\u001b[0m img \u001b[38;5;241m=\u001b[39m torch_pad(img, padding, mode\u001b[38;5;241m=\u001b[39m\u001b[38;5;124m\"\u001b[39m\u001b[38;5;124mreflect\u001b[39m\u001b[38;5;124m\"\u001b[39m)\n\u001b[1;32m--> 759\u001b[0m img \u001b[38;5;241m=\u001b[39m \u001b[43mconv2d\u001b[49m\u001b[43m(\u001b[49m\u001b[43mimg\u001b[49m\u001b[43m,\u001b[49m\u001b[43m \u001b[49m\u001b[43mkernel\u001b[49m\u001b[43m,\u001b[49m\u001b[43m \u001b[49m\u001b[43mgroups\u001b[49m\u001b[38;5;241;43m=\u001b[39;49m\u001b[43mimg\u001b[49m\u001b[38;5;241;43m.\u001b[39;49m\u001b[43mshape\u001b[49m\u001b[43m[\u001b[49m\u001b[38;5;241;43m-\u001b[39;49m\u001b[38;5;241;43m3\u001b[39;49m\u001b[43m]\u001b[49m\u001b[43m)\u001b[49m\n\u001b[0;32m    761\u001b[0m img \u001b[38;5;241m=\u001b[39m _cast_squeeze_out(img, need_cast, need_squeeze, out_dtype)\n\u001b[0;32m    762\u001b[0m \u001b[38;5;28;01mreturn\u001b[39;00m img\n",
      "\u001b[1;31mKeyboardInterrupt\u001b[0m: "
     ]
    }
   ],
   "source": [
    "\n",
    "# Setup\n",
    "SESSION_STARTTIME_STR = datetime.now().strftime(\"%Y%m%d_%H%M%S\")\n",
    "CSV_LOG_FILE = \"training_metrics.csv\"\n",
    "\n",
    "# Write CSV header if file doesn't exist\n",
    "if not os.path.isfile(CSV_LOG_FILE):\n",
    "    with open(CSV_LOG_FILE, mode='w', newline='') as file:\n",
    "        writer = csv.writer(file)\n",
    "        writer.writerow([\n",
    "            \"epoch\",\n",
    "            \"train_loss\", \"train_l1\", \"train_mse\", \"train_acc\",\n",
    "            \"val_loss\", \"val_l1\", \"val_mse\", \"val_acc\"\n",
    "        ])\n",
    "\n",
    "# Training loop\n",
    "num_epochs = 2000\n",
    "for epoch in range(num_epochs):\n",
    "    cnn_model.train()\n",
    "    train_loss_total: float = 0\n",
    "    train_l1_total: float = 0\n",
    "    train_mse_total: float = 0\n",
    "    train_correct: int = 0\n",
    "    train_samples: int = 0\n",
    "\n",
    "    train_loader = tqdm.tqdm(train_dataloader, desc=f\"Epoch {epoch+1} - Training\", leave=False)\n",
    "    for X, y in train_loader:\n",
    "        X: torch.Tensor = X.to(DEVICE)\n",
    "        y: torch.Tensor = y.to(DEVICE)\n",
    "\n",
    "        y_pred: torch.Tensor = cnn_model(X)\n",
    "\n",
    "        y_padded: torch.Tensor = F.pad(y, (0, y_pred.shape[1] - y.shape[1]))\n",
    "\n",
    "        loss: torch.Tensor = F.cross_entropy(y_pred, y.argmax(dim=1), reduction='sum')\n",
    "        l1_loss: torch.Tensor = F.l1_loss(y_pred, y_padded, reduction='sum')\n",
    "        mse_loss: torch.Tensor = F.mse_loss(y_pred, y_padded, reduction='sum')\n",
    "\n",
    "        optim.zero_grad()\n",
    "        loss.backward()\n",
    "        optim.step()\n",
    "\n",
    "        train_loss_total += loss.item()\n",
    "        train_l1_total += l1_loss.item()\n",
    "        train_mse_total += mse_loss.item()\n",
    "\n",
    "        preds = y_pred.argmax(dim=1)\n",
    "        targets = y.argmax(dim=1).long()\n",
    "        train_correct += (preds == targets).sum().item()\n",
    "        train_samples += X.size(0)\n",
    "\n",
    "        scheduler.step(epoch + train_samples / len(train_dataloader.dataset))\n",
    "\n",
    "        train_loader.set_postfix({\n",
    "            \"Cross Entropy\": f\"{loss.item()/X.size(0):.4f}\",\n",
    "            \"L1\": f\"{l1_loss.item()/X.size(0):.4f}\",\n",
    "            \"MSE\": f\"{mse_loss.item()/X.size(0):.4f}\"\n",
    "        })\n",
    "\n",
    "    # Validation\n",
    "    cnn_model.eval()\n",
    "    val_loss_total: float = 0\n",
    "    val_l1_total: float = 0\n",
    "    val_mse_total: float = 0\n",
    "    val_correct: int = 0\n",
    "    val_samples: int = 0\n",
    "\n",
    "    val_loader = tqdm.tqdm(val_dataloader, desc=f\"Epoch {epoch+1} - Validation\", leave=False)\n",
    "    with torch.no_grad():\n",
    "        for X_val, y_val in val_loader:\n",
    "            X_val: torch.Tensor = X_val.to(DEVICE)\n",
    "            y_val: torch.Tensor = y_val.to(DEVICE)\n",
    "\n",
    "            y_val_pred: torch.Tensor = cnn_model(X_val)\n",
    "            y_val_padded: torch.Tensor = F.pad(y_val, (0, y_val_pred.shape[1] - y_val.shape[1]))\n",
    "\n",
    "            val_loss: torch.Tensor = F.cross_entropy(y_val_pred, y_val.argmax(dim=1), reduction='sum')\n",
    "            val_l1: torch.Tensor = F.l1_loss(y_val_pred, y_val_padded, reduction='sum')\n",
    "            val_mse: torch.Tensor = F.mse_loss(y_val_pred, y_val_padded, reduction='sum')\n",
    "\n",
    "            val_loss_total += val_loss.item()\n",
    "            val_l1_total += val_l1.item()\n",
    "            val_mse_total += val_mse.item()\n",
    "\n",
    "            val_preds = y_val_pred.argmax(dim=1)\n",
    "            val_targets = y_val.argmax(dim=1).long()\n",
    "            val_correct += (val_preds == val_targets).sum().item()\n",
    "            val_samples += X_val.size(0)\n",
    "\n",
    "            val_loader.set_postfix({\n",
    "                \"Cross Entropy\": f\"{val_loss.item() / X_val.size(0):.4f}\",\n",
    "                \"L1\": f\"{val_l1.item() / X_val.size(0):.4f}\",\n",
    "                \"MSE\": f\"{val_mse.item() / X_val.size(0):.4f}\"\n",
    "            })\n",
    "    # Averages\n",
    "    train_loss_avg = train_loss_total / train_samples\n",
    "    train_l1_avg = train_l1_total / train_samples\n",
    "    train_mse_avg = train_mse_total / train_samples\n",
    "    train_acc = train_correct / train_samples\n",
    "\n",
    "    val_loss_avg = val_loss_total / val_samples\n",
    "    val_l1_avg = val_l1_total / val_samples\n",
    "    val_mse_avg = val_mse_total / val_samples\n",
    "    val_acc = val_correct / val_samples\n",
    "\n",
    "    # Save metrics to CSV\n",
    "    with open(CSV_LOG_FILE, mode='a', newline='') as file:\n",
    "        writer = csv.writer(file)\n",
    "        writer.writerow([\n",
    "            epoch + 1,\n",
    "            train_loss_avg, train_l1_avg, train_mse_avg, train_acc,\n",
    "            val_loss_avg, val_l1_avg, val_mse_avg, val_acc\n",
    "        ])\n",
    "\n",
    "    # Save model\n",
    "    model_filename = (\n",
    "        f\"{SESSION_STARTTIME_STR}__{MODEL_NAME}__\"\n",
    "        f\"Epoch{epoch+1}_\"\n",
    "        f\"tLoss{train_loss_avg:.5f}_tL1{train_l1_avg:.5f}_tMSE{train_mse_avg:.5f}_tAcc{train_acc:.5f}_\"\n",
    "        f\"vLoss{val_loss_avg:.5f}_vL1{val_l1_avg:.5f}_vMSE{val_mse_avg:.5f}_vAcc{val_acc:.5f}.pt\"\n",
    "    )\n",
    "    print(model_filename)\n",
    "    torch.save(cnn_model.state_dict(), model_filename)\n",
    "\n"
   ]
  },
  {
   "cell_type": "markdown",
   "metadata": {},
   "source": [
    "# Inference"
   ]
  },
  {
   "cell_type": "code",
   "execution_count": null,
   "metadata": {},
   "outputs": [
    {
     "name": "stdout",
     "output_type": "stream",
     "text": [
      "==========================================================================================\n",
      "Layer (type:depth-idx)                   Output Shape              Param #\n",
      "==========================================================================================\n",
      "AllCNN2D                                 [1, 44]                   --\n",
      "├─ModuleList: 1-1                        --                        --\n",
      "│    └─Sequential: 2-1                   [1, 16, 32, 32]           --\n",
      "│    │    └─Conv2d: 3-1                  [1, 16, 64, 64]           160\n",
      "│    │    └─Dropout2d: 3-2               [1, 16, 64, 64]           --\n",
      "│    │    └─BatchNorm2d: 3-3             [1, 16, 64, 64]           32\n",
      "│    │    └─LeakyReLU: 3-4               [1, 16, 64, 64]           --\n",
      "│    │    └─Conv2d: 3-5                  [1, 16, 32, 32]           2,320\n",
      "│    │    └─Dropout2d: 3-6               [1, 16, 32, 32]           --\n",
      "│    │    └─BatchNorm2d: 3-7             [1, 16, 32, 32]           32\n",
      "│    │    └─LeakyReLU: 3-8               [1, 16, 32, 32]           --\n",
      "│    └─Sequential: 2-2                   [1, 32, 16, 16]           --\n",
      "│    │    └─Conv2d: 3-9                  [1, 32, 32, 32]           4,640\n",
      "│    │    └─Dropout2d: 3-10              [1, 32, 32, 32]           --\n",
      "│    │    └─BatchNorm2d: 3-11            [1, 32, 32, 32]           64\n",
      "│    │    └─LeakyReLU: 3-12              [1, 32, 32, 32]           --\n",
      "│    │    └─Conv2d: 3-13                 [1, 32, 16, 16]           9,248\n",
      "│    │    └─Dropout2d: 3-14              [1, 32, 16, 16]           --\n",
      "│    │    └─BatchNorm2d: 3-15            [1, 32, 16, 16]           64\n",
      "│    │    └─LeakyReLU: 3-16              [1, 32, 16, 16]           --\n",
      "│    └─Sequential: 2-3                   [1, 32, 8, 8]             --\n",
      "│    │    └─Conv2d: 3-17                 [1, 32, 16, 16]           9,248\n",
      "│    │    └─Dropout2d: 3-18              [1, 32, 16, 16]           --\n",
      "│    │    └─BatchNorm2d: 3-19            [1, 32, 16, 16]           64\n",
      "│    │    └─LeakyReLU: 3-20              [1, 32, 16, 16]           --\n",
      "│    │    └─Conv2d: 3-21                 [1, 32, 8, 8]             9,248\n",
      "│    │    └─Dropout2d: 3-22              [1, 32, 8, 8]             --\n",
      "│    │    └─BatchNorm2d: 3-23            [1, 32, 8, 8]             64\n",
      "│    │    └─LeakyReLU: 3-24              [1, 32, 8, 8]             --\n",
      "│    └─Sequential: 2-4                   [1, 32, 4, 4]             --\n",
      "│    │    └─Conv2d: 3-25                 [1, 32, 8, 8]             9,248\n",
      "│    │    └─Dropout2d: 3-26              [1, 32, 8, 8]             --\n",
      "│    │    └─BatchNorm2d: 3-27            [1, 32, 8, 8]             64\n",
      "│    │    └─LeakyReLU: 3-28              [1, 32, 8, 8]             --\n",
      "│    │    └─Conv2d: 3-29                 [1, 32, 4, 4]             9,248\n",
      "│    │    └─Dropout2d: 3-30              [1, 32, 4, 4]             --\n",
      "│    │    └─BatchNorm2d: 3-31            [1, 32, 4, 4]             64\n",
      "│    │    └─LeakyReLU: 3-32              [1, 32, 4, 4]             --\n",
      "│    └─Sequential: 2-5                   [1, 32, 2, 2]             --\n",
      "│    │    └─Conv2d: 3-33                 [1, 32, 4, 4]             9,248\n",
      "│    │    └─Dropout2d: 3-34              [1, 32, 4, 4]             --\n",
      "│    │    └─BatchNorm2d: 3-35            [1, 32, 4, 4]             64\n",
      "│    │    └─LeakyReLU: 3-36              [1, 32, 4, 4]             --\n",
      "│    │    └─Conv2d: 3-37                 [1, 32, 2, 2]             9,248\n",
      "│    │    └─Dropout2d: 3-38              [1, 32, 2, 2]             --\n",
      "│    │    └─BatchNorm2d: 3-39            [1, 32, 2, 2]             64\n",
      "│    │    └─LeakyReLU: 3-40              [1, 32, 2, 2]             --\n",
      "├─Sequential: 1-2                        [1, 128]                  --\n",
      "│    └─Flatten: 2-6                      [1, 128]                  --\n",
      "├─ModuleList: 1-3                        --                        --\n",
      "│    └─Sequential: 2-7                   [1, 64]                   --\n",
      "│    │    └─Linear: 3-41                 [1, 64]                   8,256\n",
      "│    │    └─Dropout: 3-42                [1, 64]                   --\n",
      "│    │    └─LeakyReLU: 3-43              [1, 64]                   --\n",
      "│    └─Sequential: 2-8                   [1, 44]                   --\n",
      "│    │    └─Linear: 3-44                 [1, 44]                   2,860\n",
      "==========================================================================================\n",
      "Total params: 83,548\n",
      "Trainable params: 83,548\n",
      "Non-trainable params: 0\n",
      "Total mult-adds (M): 14.05\n",
      "==========================================================================================\n",
      "Input size (MB): 0.02\n",
      "Forward/backward pass size (MB): 2.18\n",
      "Params size (MB): 0.33\n",
      "Estimated Total Size (MB): 2.53\n",
      "==========================================================================================\n"
     ]
    },
    {
     "data": {
      "text/plain": [
       "=================================================================\n",
       "Layer (type:depth-idx)                   Param #\n",
       "=================================================================\n",
       "AllCNN2D                                 --\n",
       "├─ModuleList: 1-1                        --\n",
       "│    └─Sequential: 2-1                   --\n",
       "│    │    └─Conv2d: 3-1                  160\n",
       "│    │    └─Dropout2d: 3-2               --\n",
       "│    │    └─BatchNorm2d: 3-3             32\n",
       "│    │    └─LeakyReLU: 3-4               --\n",
       "│    │    └─Conv2d: 3-5                  2,320\n",
       "│    │    └─Dropout2d: 3-6               --\n",
       "│    │    └─BatchNorm2d: 3-7             32\n",
       "│    │    └─LeakyReLU: 3-8               --\n",
       "│    └─Sequential: 2-2                   --\n",
       "│    │    └─Conv2d: 3-9                  4,640\n",
       "│    │    └─Dropout2d: 3-10              --\n",
       "│    │    └─BatchNorm2d: 3-11            64\n",
       "│    │    └─LeakyReLU: 3-12              --\n",
       "│    │    └─Conv2d: 3-13                 9,248\n",
       "│    │    └─Dropout2d: 3-14              --\n",
       "│    │    └─BatchNorm2d: 3-15            64\n",
       "│    │    └─LeakyReLU: 3-16              --\n",
       "│    └─Sequential: 2-3                   --\n",
       "│    │    └─Conv2d: 3-17                 9,248\n",
       "│    │    └─Dropout2d: 3-18              --\n",
       "│    │    └─BatchNorm2d: 3-19            64\n",
       "│    │    └─LeakyReLU: 3-20              --\n",
       "│    │    └─Conv2d: 3-21                 9,248\n",
       "│    │    └─Dropout2d: 3-22              --\n",
       "│    │    └─BatchNorm2d: 3-23            64\n",
       "│    │    └─LeakyReLU: 3-24              --\n",
       "│    └─Sequential: 2-4                   --\n",
       "│    │    └─Conv2d: 3-25                 9,248\n",
       "│    │    └─Dropout2d: 3-26              --\n",
       "│    │    └─BatchNorm2d: 3-27            64\n",
       "│    │    └─LeakyReLU: 3-28              --\n",
       "│    │    └─Conv2d: 3-29                 9,248\n",
       "│    │    └─Dropout2d: 3-30              --\n",
       "│    │    └─BatchNorm2d: 3-31            64\n",
       "│    │    └─LeakyReLU: 3-32              --\n",
       "│    └─Sequential: 2-5                   --\n",
       "│    │    └─Conv2d: 3-33                 9,248\n",
       "│    │    └─Dropout2d: 3-34              --\n",
       "│    │    └─BatchNorm2d: 3-35            64\n",
       "│    │    └─LeakyReLU: 3-36              --\n",
       "│    │    └─Conv2d: 3-37                 9,248\n",
       "│    │    └─Dropout2d: 3-38              --\n",
       "│    │    └─BatchNorm2d: 3-39            64\n",
       "│    │    └─LeakyReLU: 3-40              --\n",
       "├─ModuleList: 1-2                        --\n",
       "│    └─Sequential: 2-6                   --\n",
       "│    │    └─Linear: 3-41                 8,256\n",
       "│    │    └─Dropout: 3-42                --\n",
       "│    │    └─LeakyReLU: 3-43              --\n",
       "│    └─Sequential: 2-7                   --\n",
       "│    │    └─Linear: 3-44                 2,860\n",
       "├─Sequential: 1-3                        --\n",
       "│    └─Flatten: 2-8                      --\n",
       "=================================================================\n",
       "Total params: 83,548\n",
       "Trainable params: 83,548\n",
       "Non-trainable params: 0\n",
       "================================================================="
      ]
     },
     "execution_count": 54,
     "metadata": {},
     "output_type": "execute_result"
    }
   ],
   "source": [
    "cnn_model: AllCNN2D = AllCNN2D(\n",
    "    **{\n",
    "        \"conv_features\": (1, 16, 32, 32, 32, 32),\n",
    "        \"fully_connected_features\": (64, 44),\n",
    "        \"expected_input_size\": (64, 64),\n",
    "        \"device\": \"cuda\",\n",
    "        \"conv_dropout\": 0.0,#0.075,\n",
    "        \"verbose\": True,\n",
    "        \"name_prefix\": MODEL_NAME,\n",
    "        \"checkpoint_path\": r\"C:\\Users\\Leon\\visual-studio\\repos\\Le-o-n\\ocr-model-training\\models\\allcnn\\Indigo_epoch26_trainacc0.71327_valacc0.99057_Tloss0.072851_Vloss0.0056362_lr0.0007224999999999999.pkl\"\n",
    "    }\n",
    ")"
   ]
  },
  {
   "cell_type": "code",
   "execution_count": null,
   "metadata": {},
   "outputs": [],
   "source": [
    "rnncnn_model = CNNRNNModel(\n",
    "    cnn_encoder=\n",
    ")"
   ]
  },
  {
   "cell_type": "code",
   "execution_count": null,
   "metadata": {},
   "outputs": [
    {
     "ename": "TypeError",
     "evalue": "pad() got an unexpected keyword argument 'mode'",
     "output_type": "error",
     "traceback": [
      "\u001b[1;31m---------------------------------------------------------------------------\u001b[0m",
      "\u001b[1;31mTypeError\u001b[0m                                 Traceback (most recent call last)",
      "Cell \u001b[1;32mIn[20], line 1\u001b[0m\n\u001b[1;32m----> 1\u001b[0m \u001b[38;5;28;01mfor\u001b[39;00m char, label \u001b[38;5;129;01min\u001b[39;00m val_char_dataset:\n\u001b[0;32m      2\u001b[0m     plt\u001b[38;5;241m.\u001b[39mimshow(char[\u001b[38;5;241m0\u001b[39m, :, :])\n\u001b[0;32m      3\u001b[0m     plt\u001b[38;5;241m.\u001b[39mshow()\n",
      "File \u001b[1;32mc:\\Users\\Leon\\visual-studio\\repos\\Le-o-n\\ocr-model-training\\src\\cnn\\dataset\\character_dataset.py:100\u001b[0m, in \u001b[0;36mCharImageDataset.__getitem__\u001b[1;34m(self, index)\u001b[0m\n\u001b[0;32m     97\u001b[0m image \u001b[38;5;241m=\u001b[39m reduce(image, \u001b[38;5;124m\"\u001b[39m\u001b[38;5;124mc h w -> 1 h w\u001b[39m\u001b[38;5;124m\"\u001b[39m, \u001b[38;5;124m\"\u001b[39m\u001b[38;5;124mmax\u001b[39m\u001b[38;5;124m\"\u001b[39m)\n\u001b[0;32m     99\u001b[0m \u001b[38;5;66;03m# Apply random transformations\u001b[39;00m\n\u001b[1;32m--> 100\u001b[0m image \u001b[38;5;241m=\u001b[39m \u001b[38;5;28;43mself\u001b[39;49m\u001b[38;5;241;43m.\u001b[39;49m\u001b[43m_apply_random_transformations\u001b[49m\u001b[43m(\u001b[49m\n\u001b[0;32m    101\u001b[0m \u001b[43m    \u001b[49m\u001b[43mimage\u001b[49m\n\u001b[0;32m    102\u001b[0m \u001b[43m\u001b[49m\u001b[43m)\u001b[49m\n\u001b[0;32m    104\u001b[0m \u001b[38;5;66;03m# One-hot encode the label\u001b[39;00m\n\u001b[0;32m    105\u001b[0m one_hot_label \u001b[38;5;241m=\u001b[39m torch\u001b[38;5;241m.\u001b[39mzeros(\n\u001b[0;32m    106\u001b[0m     \u001b[38;5;28mlen\u001b[39m(\u001b[38;5;28mself\u001b[39m\u001b[38;5;241m.\u001b[39mlabels_set),\n\u001b[0;32m    107\u001b[0m     dtype\u001b[38;5;241m=\u001b[39mtorch\u001b[38;5;241m.\u001b[39mfloat32\n\u001b[0;32m    108\u001b[0m )\n",
      "File \u001b[1;32mc:\\Users\\Leon\\visual-studio\\repos\\Le-o-n\\ocr-model-training\\src\\cnn\\dataset\\character_dataset.py:128\u001b[0m, in \u001b[0;36mCharImageDataset._apply_random_transformations\u001b[1;34m(self, image)\u001b[0m\n\u001b[0;32m    126\u001b[0m \u001b[38;5;66;03m# Pad the image to prevent cropping during transformations\u001b[39;00m\n\u001b[0;32m    127\u001b[0m pad_size \u001b[38;5;241m=\u001b[39m \u001b[38;5;28mint\u001b[39m(\u001b[38;5;28mmax\u001b[39m(image\u001b[38;5;241m.\u001b[39mshape[\u001b[38;5;241m1\u001b[39m], image\u001b[38;5;241m.\u001b[39mshape[\u001b[38;5;241m2\u001b[39m]) \u001b[38;5;241m*\u001b[39m \u001b[38;5;241m0.5\u001b[39m)  \u001b[38;5;66;03m# Adjust padding size as needed\u001b[39;00m\n\u001b[1;32m--> 128\u001b[0m image \u001b[38;5;241m=\u001b[39m \u001b[43mF\u001b[49m\u001b[38;5;241;43m.\u001b[39;49m\u001b[43mpad\u001b[49m\u001b[43m(\u001b[49m\u001b[43mimage\u001b[49m\u001b[43m,\u001b[49m\u001b[43m \u001b[49m\u001b[43m(\u001b[49m\u001b[43mpad_size\u001b[49m\u001b[43m,\u001b[49m\u001b[43m \u001b[49m\u001b[43mpad_size\u001b[49m\u001b[43m,\u001b[49m\u001b[43m \u001b[49m\u001b[43mpad_size\u001b[49m\u001b[43m,\u001b[49m\u001b[43m \u001b[49m\u001b[43mpad_size\u001b[49m\u001b[43m)\u001b[49m\u001b[43m,\u001b[49m\u001b[43m \u001b[49m\u001b[43mmode\u001b[49m\u001b[38;5;241;43m=\u001b[39;49m\u001b[38;5;124;43m'\u001b[39;49m\u001b[38;5;124;43mconstant\u001b[39;49m\u001b[38;5;124;43m'\u001b[39;49m\u001b[43m,\u001b[49m\u001b[43m \u001b[49m\u001b[43mvalue\u001b[49m\u001b[38;5;241;43m=\u001b[39;49m\u001b[38;5;241;43m1.0\u001b[39;49m\u001b[43m)\u001b[49m\n\u001b[0;32m    130\u001b[0m \u001b[38;5;66;03m# Random rotation\u001b[39;00m\n\u001b[0;32m    131\u001b[0m rotation_angle \u001b[38;5;241m=\u001b[39m \u001b[38;5;28mself\u001b[39m\u001b[38;5;241m.\u001b[39mrandom\u001b[38;5;241m.\u001b[39muniform(\n\u001b[0;32m    132\u001b[0m     \u001b[38;5;241m-\u001b[39m\u001b[38;5;28mself\u001b[39m\u001b[38;5;241m.\u001b[39mrotation_limit \u001b[38;5;241m*\u001b[39m \u001b[38;5;241m365\u001b[39m,\n\u001b[0;32m    133\u001b[0m     \u001b[38;5;28mself\u001b[39m\u001b[38;5;241m.\u001b[39mrotation_limit \u001b[38;5;241m*\u001b[39m \u001b[38;5;241m365\u001b[39m\n\u001b[0;32m    134\u001b[0m )\n",
      "\u001b[1;31mTypeError\u001b[0m: pad() got an unexpected keyword argument 'mode'"
     ]
    }
   ],
   "source": [
    "for char, label in val_char_dataset:\n",
    "    plt.imshow(char[0, :, :])\n",
    "    plt.show()\n",
    "    pred: torch.Tensor = model.forward(char.unsqueeze(0)).squeeze()\n",
    "    pred_index: int = torch.argmax(pred).item()\n",
    "    print(chr(int(all_label_classes[pred_index][1:], base=16)))"
   ]
  }
 ],
 "metadata": {
  "kernelspec": {
   "display_name": "Python 3",
   "language": "python",
   "name": "python3"
  },
  "language_info": {
   "codemirror_mode": {
    "name": "ipython",
    "version": 3
   },
   "file_extension": ".py",
   "mimetype": "text/x-python",
   "name": "python",
   "nbconvert_exporter": "python",
   "pygments_lexer": "ipython3",
   "version": "3.10.0"
  }
 },
 "nbformat": 4,
 "nbformat_minor": 2
}
